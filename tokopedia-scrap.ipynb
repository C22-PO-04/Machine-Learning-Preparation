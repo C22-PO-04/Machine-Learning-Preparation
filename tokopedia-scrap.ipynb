{
 "cells": [
  {
   "cell_type": "code",
   "execution_count": null,
   "id": "bab6d7d4",
   "metadata": {},
   "outputs": [],
   "source": [
    "# ONLY RUN THIS IF NEEDED\n",
    "# !pip install selenium\n",
    "# !pip install tqdm"
   ]
  },
  {
   "cell_type": "code",
   "execution_count": 1,
   "id": "11047a5b",
   "metadata": {},
   "outputs": [],
   "source": [
    "import selenium\n",
    "from selenium import webdriver\n",
    "from selenium.webdriver.common.by import By\n",
    "from selenium.webdriver.support.ui import WebDriverWait\n",
    "from selenium.webdriver.support import expected_conditions as EC\n",
    "import time\n",
    "import pandas as pd\n",
    "from tqdm.notebook import tqdm"
   ]
  },
  {
   "cell_type": "code",
   "execution_count": 24,
   "id": "53961089",
   "metadata": {},
   "outputs": [],
   "source": [
    "options = webdriver.ChromeOptions()\n",
    "options.add_argument('--headless')\n",
    "options.add_argument('--no-sandbox')\n",
    "options.add_argument('--disable-dev-shm-usage')\n",
    "\n",
    "START = 17000\n",
    "END = 25000"
   ]
  },
  {
   "cell_type": "code",
   "execution_count": 30,
   "id": "38fb1070",
   "metadata": {},
   "outputs": [],
   "source": [
    "def get_product_name(KEYWORD, MIN_PRICE):\n",
    "    PATH = \"C:\\chromedriver.exe\"\n",
    "    browser = webdriver.Chrome(PATH)\n",
    "#     browser.implicitly_wait(2)\n",
    "    browser.get('https://www.tokopedia.com/search?navsource=home&pmin='+str(int(MIN_PRICE))+'&st=product&q='+str(KEYWORD))\n",
    "\n",
    "    output = False\n",
    "    try:\n",
    "        products = browser.find_elements(by=By.CLASS_NAME, value='css-1b6t4dn')\n",
    "        prices =  browser.find_elements(by=By.CLASS_NAME, value='css-1ksb19c')\n",
    "        result = []\n",
    "        try:\n",
    "            result.append(products[3].text)\n",
    "            result.append(prices[3].text)\n",
    "        except:\n",
    "            result.append(products[0].text)\n",
    "            result.append(prices[0].text)\n",
    "        output = result\n",
    "    except: \n",
    "#         empty = browser.find_element(by=By.CLASS_NAME, value='css-1muhkix')\n",
    "        output = ['no-product-found',0]\n",
    "    browser.quit()\n",
    "    return output"
   ]
  },
  {
   "cell_type": "code",
   "execution_count": 31,
   "id": "bdddbbeb",
   "metadata": {},
   "outputs": [
    {
     "name": "stderr",
     "output_type": "stream",
     "text": [
      "C:\\Users\\LENOVO\\AppData\\Local\\Temp/ipykernel_2672/3512484174.py:3: DeprecationWarning: executable_path has been deprecated, please pass in a Service object\n",
      "  browser = webdriver.Chrome(PATH)\n"
     ]
    },
    {
     "data": {
      "text/plain": [
       "[\"Adidas Women's Designed To Move 7/8 Sport Training Tights - Grey - Grey, XS\",\n",
       " 'Rp600.000']"
      ]
     },
     "execution_count": 31,
     "metadata": {},
     "output_type": "execute_result"
    }
   ],
   "source": [
    "get_product_name(KEYWORD, MIN_PRICE)"
   ]
  },
  {
   "cell_type": "code",
   "execution_count": 18,
   "id": "8efec03e",
   "metadata": {},
   "outputs": [
    {
     "data": {
      "text/plain": [
       "234815.688"
      ]
     },
     "execution_count": 18,
     "metadata": {},
     "output_type": "execute_result"
    }
   ],
   "source": [
    "MIN_PRICE"
   ]
  },
  {
   "cell_type": "code",
   "execution_count": 27,
   "id": "5325f1b1",
   "metadata": {},
   "outputs": [],
   "source": [
    "products = pd.read_csv('./data/products.csv')\n",
    "productCategoryName = products.product_category.values\n",
    "productCategoryName = [str(x).replace('_',\"%20\") for x in productCategoryName]\n",
    "productBasePrice = products.base_price.values"
   ]
  },
  {
   "cell_type": "code",
   "execution_count": 43,
   "id": "d4f92abc",
   "metadata": {},
   "outputs": [
    {
     "data": {
      "application/vnd.jupyter.widget-view+json": {
       "model_id": "2b8d9e6bfcaf41bbad6347895d384e5f",
       "version_major": 2,
       "version_minor": 0
      },
      "text/plain": [
       "  0%|          | 0/6042 [00:00<?, ?it/s]"
      ]
     },
     "metadata": {},
     "output_type": "display_data"
    },
    {
     "name": "stderr",
     "output_type": "stream",
     "text": [
      "C:\\Users\\LENOVO\\AppData\\Local\\Temp/ipykernel_2672/3512484174.py:3: DeprecationWarning: executable_path has been deprecated, please pass in a Service object\n",
      "  browser = webdriver.Chrome(PATH)\n"
     ]
    }
   ],
   "source": [
    "temp = []\n",
    "price = []\n",
    "for i in tqdm(range(START,END)):\n",
    "    KEYWORD = productCategoryName[i]\n",
    "    MIN_PRICE = productBasePrice[i]\n",
    "    result = get_product_name(KEYWORD, MIN_PRICE)\n",
    "    temp.append(result)"
   ]
  },
  {
   "cell_type": "code",
   "execution_count": 44,
   "id": "f4437052",
   "metadata": {
    "scrolled": true
   },
   "outputs": [
    {
     "data": {
      "text/html": [
       "<div>\n",
       "<style scoped>\n",
       "    .dataframe tbody tr th:only-of-type {\n",
       "        vertical-align: middle;\n",
       "    }\n",
       "\n",
       "    .dataframe tbody tr th {\n",
       "        vertical-align: top;\n",
       "    }\n",
       "\n",
       "    .dataframe thead th {\n",
       "        text-align: right;\n",
       "    }\n",
       "</style>\n",
       "<table border=\"1\" class=\"dataframe\">\n",
       "  <thead>\n",
       "    <tr style=\"text-align: right;\">\n",
       "      <th></th>\n",
       "      <th>0</th>\n",
       "      <th>1</th>\n",
       "    </tr>\n",
       "  </thead>\n",
       "  <tbody>\n",
       "    <tr>\n",
       "      <th>0</th>\n",
       "      <td>Magene C406 Bike Computer Package</td>\n",
       "      <td>Rp899.000</td>\n",
       "    </tr>\n",
       "    <tr>\n",
       "      <th>1</th>\n",
       "      <td>Meja Periksa Hewan Lebar 100cm Tebal 1mm | Mej...</td>\n",
       "      <td>Rp2.000.000</td>\n",
       "    </tr>\n",
       "    <tr>\n",
       "      <th>2</th>\n",
       "      <td>iAndroid Smart Multimedia Box USB Dongle Wirel...</td>\n",
       "      <td>Rp3.250.000</td>\n",
       "    </tr>\n",
       "    <tr>\n",
       "      <th>3</th>\n",
       "      <td>The Beauty Chef Omega Elixir Inner Beauty Boos...</td>\n",
       "      <td>Rp850.000</td>\n",
       "    </tr>\n",
       "    <tr>\n",
       "      <th>4</th>\n",
       "      <td>Jam Victorinox Swiss Army Women's 241615 Maver...</td>\n",
       "      <td>Rp1.950.000</td>\n",
       "    </tr>\n",
       "    <tr>\n",
       "      <th>...</th>\n",
       "      <td>...</td>\n",
       "      <td>...</td>\n",
       "    </tr>\n",
       "    <tr>\n",
       "      <th>6037</th>\n",
       "      <td>SEPATU LARI WANITA ADIDAS DURAMO SL - G58109</td>\n",
       "      <td>Rp680.000</td>\n",
       "    </tr>\n",
       "    <tr>\n",
       "      <th>6038</th>\n",
       "      <td>paket alat tulis custom dania/1200 paket</td>\n",
       "      <td>Rp33.000.000</td>\n",
       "    </tr>\n",
       "    <tr>\n",
       "      <th>6039</th>\n",
       "      <td>Jam Tangan Pria RM Leisure Sport Fashion Men's...</td>\n",
       "      <td>Rp541.000</td>\n",
       "    </tr>\n",
       "    <tr>\n",
       "      <th>6040</th>\n",
       "      <td>(100% ORIGINAL) Tas Coach Rogue 25 Leather Bla...</td>\n",
       "      <td>Rp1.237.000</td>\n",
       "    </tr>\n",
       "    <tr>\n",
       "      <th>6041</th>\n",
       "      <td>manna prosperberry health beauty 30 sachet</td>\n",
       "      <td>Rp500.000</td>\n",
       "    </tr>\n",
       "  </tbody>\n",
       "</table>\n",
       "<p>6042 rows × 2 columns</p>\n",
       "</div>"
      ],
      "text/plain": [
       "                                                      0             1\n",
       "0                     Magene C406 Bike Computer Package     Rp899.000\n",
       "1     Meja Periksa Hewan Lebar 100cm Tebal 1mm | Mej...   Rp2.000.000\n",
       "2     iAndroid Smart Multimedia Box USB Dongle Wirel...   Rp3.250.000\n",
       "3     The Beauty Chef Omega Elixir Inner Beauty Boos...     Rp850.000\n",
       "4     Jam Victorinox Swiss Army Women's 241615 Maver...   Rp1.950.000\n",
       "...                                                 ...           ...\n",
       "6037       SEPATU LARI WANITA ADIDAS DURAMO SL - G58109     Rp680.000\n",
       "6038           paket alat tulis custom dania/1200 paket  Rp33.000.000\n",
       "6039  Jam Tangan Pria RM Leisure Sport Fashion Men's...     Rp541.000\n",
       "6040  (100% ORIGINAL) Tas Coach Rogue 25 Leather Bla...   Rp1.237.000\n",
       "6041         manna prosperberry health beauty 30 sachet     Rp500.000\n",
       "\n",
       "[6042 rows x 2 columns]"
      ]
     },
     "execution_count": 44,
     "metadata": {},
     "output_type": "execute_result"
    }
   ],
   "source": [
    "scrapdata = pd.DataFrame(temp)\n",
    "scrapdata[[0,1]]"
   ]
  },
  {
   "cell_type": "code",
   "execution_count": 45,
   "id": "166cac8e",
   "metadata": {},
   "outputs": [],
   "source": [
    "scrapdata.to_csv('./final-scrap-add-4.csv',index=False)"
   ]
  },
  {
   "cell_type": "code",
   "execution_count": 40,
   "id": "17c3d4da",
   "metadata": {},
   "outputs": [],
   "source": [
    "START = START + len(temp) "
   ]
  },
  {
   "cell_type": "code",
   "execution_count": 41,
   "id": "18bfa9af",
   "metadata": {},
   "outputs": [
    {
     "data": {
      "text/plain": [
       "18958"
      ]
     },
     "execution_count": 41,
     "metadata": {},
     "output_type": "execute_result"
    }
   ],
   "source": [
    "START"
   ]
  },
  {
   "cell_type": "code",
   "execution_count": 37,
   "id": "fc284ef6",
   "metadata": {},
   "outputs": [
    {
     "data": {
      "text/plain": [
       "1920"
      ]
     },
     "execution_count": 37,
     "metadata": {},
     "output_type": "execute_result"
    }
   ],
   "source": [
    "1526+394"
   ]
  },
  {
   "cell_type": "code",
   "execution_count": 22,
   "id": "e0040c7c",
   "metadata": {},
   "outputs": [],
   "source": [
    "END = 15000"
   ]
  },
  {
   "cell_type": "code",
   "execution_count": null,
   "id": "d44fbc07",
   "metadata": {},
   "outputs": [],
   "source": [
    "temp = []\n",
    "for i in tqdm(range(START,END)):\n",
    "    KEYWORD = productCategoryName[i]\n",
    "    MIN_PRICE = productBasePrice[i]\n",
    "    result = get_product_name(KEYWORD, MIN_PRICE)\n",
    "    temp.append(result)"
   ]
  },
  {
   "cell_type": "code",
   "execution_count": 56,
   "id": "b84325c4",
   "metadata": {},
   "outputs": [],
   "source": [
    "data = pd.read_excel(\"C:\\\\Users\\\\LENOVO\\\\Capstone\\\\data\\\\products-final.xlsx\")"
   ]
  },
  {
   "cell_type": "code",
   "execution_count": 58,
   "id": "eeddd57f",
   "metadata": {},
   "outputs": [],
   "source": [
    "data.to_csv('./product-final-no-header.csv', index=False, header=False)"
   ]
  },
  {
   "cell_type": "code",
   "execution_count": null,
   "id": "4918e308",
   "metadata": {},
   "outputs": [],
   "source": []
  }
 ],
 "metadata": {
  "kernelspec": {
   "display_name": "Python 3 (ipykernel)",
   "language": "python",
   "name": "python3"
  },
  "language_info": {
   "codemirror_mode": {
    "name": "ipython",
    "version": 3
   },
   "file_extension": ".py",
   "mimetype": "text/x-python",
   "name": "python",
   "nbconvert_exporter": "python",
   "pygments_lexer": "ipython3",
   "version": "3.9.7"
  }
 },
 "nbformat": 4,
 "nbformat_minor": 5
}
