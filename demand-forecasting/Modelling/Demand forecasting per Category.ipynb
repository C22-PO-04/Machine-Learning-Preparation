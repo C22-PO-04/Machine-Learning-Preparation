{
 "cells": [
  {
   "cell_type": "markdown",
   "id": "fd64eebc",
   "metadata": {
    "toc": true
   },
   "source": [
    "<h1>Table of Contents<span class=\"tocSkip\"></span></h1>\n",
    "<div class=\"toc\"><ul class=\"toc-item\"><li><span><a href=\"#Modelling\" data-toc-modified-id=\"Modelling-1\"><span class=\"toc-item-num\">1&nbsp;&nbsp;</span>Modelling</a></span><ul class=\"toc-item\"><li><ul class=\"toc-item\"><li><span><a href=\"#Utilities\" data-toc-modified-id=\"Utilities-1.0.1\"><span class=\"toc-item-num\">1.0.1&nbsp;&nbsp;</span>Utilities</a></span></li></ul></li><li><span><a href=\"#Optimizing-&quot;cool-stuff&quot;-category\" data-toc-modified-id=\"Optimizing-&quot;cool-stuff&quot;-category-1.1\"><span class=\"toc-item-num\">1.1&nbsp;&nbsp;</span>Optimizing \"cool stuff\" category</a></span><ul class=\"toc-item\"><li><span><a href=\"#Training-Model\" data-toc-modified-id=\"Training-Model-1.1.1\"><span class=\"toc-item-num\">1.1.1&nbsp;&nbsp;</span>Training Model</a></span></li><li><span><a href=\"#Price-Optimization-Demonstration\" data-toc-modified-id=\"Price-Optimization-Demonstration-1.1.2\"><span class=\"toc-item-num\">1.1.2&nbsp;&nbsp;</span>Price Optimization Demonstration</a></span></li></ul></li></ul></li></ul></div>"
   ]
  },
  {
   "cell_type": "code",
   "execution_count": 1,
   "id": "89624cd2",
   "metadata": {},
   "outputs": [],
   "source": [
    "import pandas as pd\n",
    "import numpy as np\n",
    "import seaborn as sns\n",
    "import matplotlib.pyplot as plt\n",
    "from IPython.display import display\n",
    "from tqdm import tqdm\n",
    "import joblib\n",
    "\n",
    "import datetime\n",
    "import warnings\n",
    "\n",
    "warnings.simplefilter(action='ignore', category=FutureWarning)\n",
    "pd.set_option('display.max_row', 500)"
   ]
  },
  {
   "cell_type": "code",
   "execution_count": 2,
   "id": "32e4a283",
   "metadata": {},
   "outputs": [
    {
     "data": {
      "text/html": [
       "<div>\n",
       "<style scoped>\n",
       "    .dataframe tbody tr th:only-of-type {\n",
       "        vertical-align: middle;\n",
       "    }\n",
       "\n",
       "    .dataframe tbody tr th {\n",
       "        vertical-align: top;\n",
       "    }\n",
       "\n",
       "    .dataframe thead th {\n",
       "        text-align: right;\n",
       "    }\n",
       "</style>\n",
       "<table border=\"1\" class=\"dataframe\">\n",
       "  <thead>\n",
       "    <tr style=\"text-align: right;\">\n",
       "      <th></th>\n",
       "      <th>product_category_name</th>\n",
       "      <th>order_purchase_timestamp</th>\n",
       "      <th>sales</th>\n",
       "      <th>price</th>\n",
       "    </tr>\n",
       "  </thead>\n",
       "  <tbody>\n",
       "    <tr>\n",
       "      <th>0</th>\n",
       "      <td>moveis_decoracao</td>\n",
       "      <td>2016-09-04</td>\n",
       "      <td>2</td>\n",
       "      <td>111285.5364</td>\n",
       "    </tr>\n",
       "    <tr>\n",
       "      <th>1</th>\n",
       "      <td>telefonia</td>\n",
       "      <td>2016-09-05</td>\n",
       "      <td>1</td>\n",
       "      <td>181684.4400</td>\n",
       "    </tr>\n",
       "    <tr>\n",
       "      <th>2</th>\n",
       "      <td>moveis_decoracao</td>\n",
       "      <td>2016-09-05</td>\n",
       "      <td>1</td>\n",
       "      <td>122110.2648</td>\n",
       "    </tr>\n",
       "    <tr>\n",
       "      <th>3</th>\n",
       "      <td>moveis_decoracao</td>\n",
       "      <td>2016-09-06</td>\n",
       "      <td>1</td>\n",
       "      <td>122110.2648</td>\n",
       "    </tr>\n",
       "    <tr>\n",
       "      <th>4</th>\n",
       "      <td>moveis_decoracao</td>\n",
       "      <td>2016-09-07</td>\n",
       "      <td>1</td>\n",
       "      <td>122110.2648</td>\n",
       "    </tr>\n",
       "    <tr>\n",
       "      <th>...</th>\n",
       "      <td>...</td>\n",
       "      <td>...</td>\n",
       "      <td>...</td>\n",
       "      <td>...</td>\n",
       "    </tr>\n",
       "    <tr>\n",
       "      <th>38228</th>\n",
       "      <td>moveis_cozinha_area_de_servico_jantar_e_jardim</td>\n",
       "      <td>2018-08-30</td>\n",
       "      <td>1</td>\n",
       "      <td>442760.4000</td>\n",
       "    </tr>\n",
       "    <tr>\n",
       "      <th>38229</th>\n",
       "      <td>moveis_cozinha_area_de_servico_jantar_e_jardim</td>\n",
       "      <td>2018-08-31</td>\n",
       "      <td>1</td>\n",
       "      <td>442760.4000</td>\n",
       "    </tr>\n",
       "    <tr>\n",
       "      <th>38230</th>\n",
       "      <td>moveis_cozinha_area_de_servico_jantar_e_jardim</td>\n",
       "      <td>2018-09-01</td>\n",
       "      <td>1</td>\n",
       "      <td>442760.4000</td>\n",
       "    </tr>\n",
       "    <tr>\n",
       "      <th>38231</th>\n",
       "      <td>moveis_cozinha_area_de_servico_jantar_e_jardim</td>\n",
       "      <td>2018-09-02</td>\n",
       "      <td>1</td>\n",
       "      <td>442760.4000</td>\n",
       "    </tr>\n",
       "    <tr>\n",
       "      <th>38232</th>\n",
       "      <td>moveis_cozinha_area_de_servico_jantar_e_jardim</td>\n",
       "      <td>2018-09-03</td>\n",
       "      <td>1</td>\n",
       "      <td>442760.4000</td>\n",
       "    </tr>\n",
       "  </tbody>\n",
       "</table>\n",
       "<p>38233 rows × 4 columns</p>\n",
       "</div>"
      ],
      "text/plain": [
       "                                product_category_name  \\\n",
       "0                                    moveis_decoracao   \n",
       "1                                           telefonia   \n",
       "2                                    moveis_decoracao   \n",
       "3                                    moveis_decoracao   \n",
       "4                                    moveis_decoracao   \n",
       "...                                               ...   \n",
       "38228  moveis_cozinha_area_de_servico_jantar_e_jardim   \n",
       "38229  moveis_cozinha_area_de_servico_jantar_e_jardim   \n",
       "38230  moveis_cozinha_area_de_servico_jantar_e_jardim   \n",
       "38231  moveis_cozinha_area_de_servico_jantar_e_jardim   \n",
       "38232  moveis_cozinha_area_de_servico_jantar_e_jardim   \n",
       "\n",
       "      order_purchase_timestamp  sales        price  \n",
       "0                   2016-09-04      2  111285.5364  \n",
       "1                   2016-09-05      1  181684.4400  \n",
       "2                   2016-09-05      1  122110.2648  \n",
       "3                   2016-09-06      1  122110.2648  \n",
       "4                   2016-09-07      1  122110.2648  \n",
       "...                        ...    ...          ...  \n",
       "38228               2018-08-30      1  442760.4000  \n",
       "38229               2018-08-31      1  442760.4000  \n",
       "38230               2018-09-01      1  442760.4000  \n",
       "38231               2018-09-02      1  442760.4000  \n",
       "38232               2018-09-03      1  442760.4000  \n",
       "\n",
       "[38233 rows x 4 columns]"
      ]
     },
     "execution_count": 2,
     "metadata": {},
     "output_type": "execute_result"
    }
   ],
   "source": [
    "data = pd.read_csv('../data/prepared/interpolated_demand_history_by_category.csv')\n",
    "data['order_purchase_timestamp'] = pd.to_datetime(data['order_purchase_timestamp'])\n",
    "data"
   ]
  },
  {
   "cell_type": "code",
   "execution_count": 3,
   "id": "1bb63570",
   "metadata": {},
   "outputs": [],
   "source": [
    "from sklearn.preprocessing import StandardScaler\n",
    "\n",
    "scaler = StandardScaler()\n",
    "scaled_data = scaler.fit_transform(data[['sales', 'price']])"
   ]
  },
  {
   "cell_type": "code",
   "execution_count": 4,
   "id": "e6c9021f",
   "metadata": {},
   "outputs": [],
   "source": [
    "# joblib.dump(scaler, \"../model/demand_forecasting/scaler.joblib\")"
   ]
  },
  {
   "cell_type": "code",
   "execution_count": 5,
   "id": "c15471c2",
   "metadata": {},
   "outputs": [
    {
     "data": {
      "text/html": [
       "<div>\n",
       "<style scoped>\n",
       "    .dataframe tbody tr th:only-of-type {\n",
       "        vertical-align: middle;\n",
       "    }\n",
       "\n",
       "    .dataframe tbody tr th {\n",
       "        vertical-align: top;\n",
       "    }\n",
       "\n",
       "    .dataframe thead th {\n",
       "        text-align: right;\n",
       "    }\n",
       "</style>\n",
       "<table border=\"1\" class=\"dataframe\">\n",
       "  <thead>\n",
       "    <tr style=\"text-align: right;\">\n",
       "      <th></th>\n",
       "      <th>product_category_name</th>\n",
       "      <th>order_purchase_timestamp</th>\n",
       "      <th>sales</th>\n",
       "      <th>price</th>\n",
       "      <th>scaled_sales</th>\n",
       "      <th>scaled_price</th>\n",
       "    </tr>\n",
       "  </thead>\n",
       "  <tbody>\n",
       "    <tr>\n",
       "      <th>0</th>\n",
       "      <td>moveis_decoracao</td>\n",
       "      <td>2016-09-04</td>\n",
       "      <td>2</td>\n",
       "      <td>111285.5364</td>\n",
       "      <td>-0.542631</td>\n",
       "      <td>-0.643513</td>\n",
       "    </tr>\n",
       "    <tr>\n",
       "      <th>1</th>\n",
       "      <td>telefonia</td>\n",
       "      <td>2016-09-05</td>\n",
       "      <td>1</td>\n",
       "      <td>181684.4400</td>\n",
       "      <td>-0.553409</td>\n",
       "      <td>-0.510565</td>\n",
       "    </tr>\n",
       "    <tr>\n",
       "      <th>2</th>\n",
       "      <td>moveis_decoracao</td>\n",
       "      <td>2016-09-05</td>\n",
       "      <td>1</td>\n",
       "      <td>122110.2648</td>\n",
       "      <td>-0.553409</td>\n",
       "      <td>-0.623071</td>\n",
       "    </tr>\n",
       "    <tr>\n",
       "      <th>3</th>\n",
       "      <td>moveis_decoracao</td>\n",
       "      <td>2016-09-06</td>\n",
       "      <td>1</td>\n",
       "      <td>122110.2648</td>\n",
       "      <td>-0.553409</td>\n",
       "      <td>-0.623071</td>\n",
       "    </tr>\n",
       "    <tr>\n",
       "      <th>4</th>\n",
       "      <td>moveis_decoracao</td>\n",
       "      <td>2016-09-07</td>\n",
       "      <td>1</td>\n",
       "      <td>122110.2648</td>\n",
       "      <td>-0.553409</td>\n",
       "      <td>-0.623071</td>\n",
       "    </tr>\n",
       "    <tr>\n",
       "      <th>...</th>\n",
       "      <td>...</td>\n",
       "      <td>...</td>\n",
       "      <td>...</td>\n",
       "      <td>...</td>\n",
       "      <td>...</td>\n",
       "      <td>...</td>\n",
       "    </tr>\n",
       "    <tr>\n",
       "      <th>38228</th>\n",
       "      <td>moveis_cozinha_area_de_servico_jantar_e_jardim</td>\n",
       "      <td>2018-08-30</td>\n",
       "      <td>1</td>\n",
       "      <td>442760.4000</td>\n",
       "      <td>-0.553409</td>\n",
       "      <td>-0.017522</td>\n",
       "    </tr>\n",
       "    <tr>\n",
       "      <th>38229</th>\n",
       "      <td>moveis_cozinha_area_de_servico_jantar_e_jardim</td>\n",
       "      <td>2018-08-31</td>\n",
       "      <td>1</td>\n",
       "      <td>442760.4000</td>\n",
       "      <td>-0.553409</td>\n",
       "      <td>-0.017522</td>\n",
       "    </tr>\n",
       "    <tr>\n",
       "      <th>38230</th>\n",
       "      <td>moveis_cozinha_area_de_servico_jantar_e_jardim</td>\n",
       "      <td>2018-09-01</td>\n",
       "      <td>1</td>\n",
       "      <td>442760.4000</td>\n",
       "      <td>-0.553409</td>\n",
       "      <td>-0.017522</td>\n",
       "    </tr>\n",
       "    <tr>\n",
       "      <th>38231</th>\n",
       "      <td>moveis_cozinha_area_de_servico_jantar_e_jardim</td>\n",
       "      <td>2018-09-02</td>\n",
       "      <td>1</td>\n",
       "      <td>442760.4000</td>\n",
       "      <td>-0.553409</td>\n",
       "      <td>-0.017522</td>\n",
       "    </tr>\n",
       "    <tr>\n",
       "      <th>38232</th>\n",
       "      <td>moveis_cozinha_area_de_servico_jantar_e_jardim</td>\n",
       "      <td>2018-09-03</td>\n",
       "      <td>1</td>\n",
       "      <td>442760.4000</td>\n",
       "      <td>-0.553409</td>\n",
       "      <td>-0.017522</td>\n",
       "    </tr>\n",
       "  </tbody>\n",
       "</table>\n",
       "<p>38233 rows × 6 columns</p>\n",
       "</div>"
      ],
      "text/plain": [
       "                                product_category_name  \\\n",
       "0                                    moveis_decoracao   \n",
       "1                                           telefonia   \n",
       "2                                    moveis_decoracao   \n",
       "3                                    moveis_decoracao   \n",
       "4                                    moveis_decoracao   \n",
       "...                                               ...   \n",
       "38228  moveis_cozinha_area_de_servico_jantar_e_jardim   \n",
       "38229  moveis_cozinha_area_de_servico_jantar_e_jardim   \n",
       "38230  moveis_cozinha_area_de_servico_jantar_e_jardim   \n",
       "38231  moveis_cozinha_area_de_servico_jantar_e_jardim   \n",
       "38232  moveis_cozinha_area_de_servico_jantar_e_jardim   \n",
       "\n",
       "      order_purchase_timestamp  sales        price  scaled_sales  scaled_price  \n",
       "0                   2016-09-04      2  111285.5364     -0.542631     -0.643513  \n",
       "1                   2016-09-05      1  181684.4400     -0.553409     -0.510565  \n",
       "2                   2016-09-05      1  122110.2648     -0.553409     -0.623071  \n",
       "3                   2016-09-06      1  122110.2648     -0.553409     -0.623071  \n",
       "4                   2016-09-07      1  122110.2648     -0.553409     -0.623071  \n",
       "...                        ...    ...          ...           ...           ...  \n",
       "38228               2018-08-30      1  442760.4000     -0.553409     -0.017522  \n",
       "38229               2018-08-31      1  442760.4000     -0.553409     -0.017522  \n",
       "38230               2018-09-01      1  442760.4000     -0.553409     -0.017522  \n",
       "38231               2018-09-02      1  442760.4000     -0.553409     -0.017522  \n",
       "38232               2018-09-03      1  442760.4000     -0.553409     -0.017522  \n",
       "\n",
       "[38233 rows x 6 columns]"
      ]
     },
     "execution_count": 5,
     "metadata": {},
     "output_type": "execute_result"
    }
   ],
   "source": [
    "data['scaled_sales'] = scaled_data[:,0]\n",
    "data['scaled_price'] = scaled_data[:,1]\n",
    "data"
   ]
  },
  {
   "cell_type": "markdown",
   "id": "69cb574f",
   "metadata": {},
   "source": [
    "# Modelling"
   ]
  },
  {
   "cell_type": "markdown",
   "id": "301d2a82",
   "metadata": {},
   "source": [
    "### Utilities"
   ]
  },
  {
   "cell_type": "code",
   "execution_count": 15,
   "id": "4cf47777",
   "metadata": {},
   "outputs": [
    {
     "name": "stderr",
     "output_type": "stream",
     "text": [
      "2022-06-03 16:03:05.537553: W tensorflow/stream_executor/platform/default/dso_loader.cc:64] Could not load dynamic library 'libcudart.so.11.0'; dlerror: libcudart.so.11.0: cannot open shared object file: No such file or directory\n",
      "2022-06-03 16:03:05.537705: I tensorflow/stream_executor/cuda/cudart_stub.cc:29] Ignore above cudart dlerror if you do not have a GPU set up on your machine.\n"
     ]
    }
   ],
   "source": [
    "# !pip3 install wandb\n",
    "\n",
    "import wandb\n",
    "from wandb.keras import WandbCallback\n",
    "import tensorflow as tf"
   ]
  },
  {
   "cell_type": "code",
   "execution_count": 16,
   "id": "67443e6c",
   "metadata": {},
   "outputs": [],
   "source": [
    "def show_sample(ds, n_sample=3):\n",
    "    for x in ds.take(n_sample):\n",
    "        print(x)"
   ]
  },
  {
   "cell_type": "code",
   "execution_count": 17,
   "id": "d56b5f5e",
   "metadata": {},
   "outputs": [],
   "source": [
    "def show_history(history):\n",
    "    fig = plt.figure(figsize=(14, 8))\n",
    "    plt.plot(pd.DataFrame(history.history)[['loss', 'val_loss']])"
   ]
  },
  {
   "cell_type": "markdown",
   "id": "6eb319d6",
   "metadata": {},
   "source": [
    "## Optimizing \"cool stuff\" category"
   ]
  },
  {
   "cell_type": "code",
   "execution_count": 18,
   "id": "da4cfeac",
   "metadata": {},
   "outputs": [
    {
     "data": {
      "text/plain": [
       "product_category_name\n",
       "cama_mesa_banho                                   218660\n",
       "esporte_lazer                                     187600\n",
       "moveis_decoracao                                  164027\n",
       "beleza_saude                                      140903\n",
       "utilidades_domesticas                             126172\n",
       "informatica_acessorios                            119338\n",
       "relogios_presentes                                103796\n",
       "brinquedos                                         75586\n",
       "telefonia                                          74968\n",
       "automotivo                                         74474\n",
       "cool_stuff                                         68547\n",
       "bebes                                              61847\n",
       "perfumaria                                         53017\n",
       "fashion_bolsas_e_acessorios                        51976\n",
       "pet_shop                                           50971\n",
       "papelaria                                          48411\n",
       "ferramentas_jardim                                 44990\n",
       "eletronicos                                        44092\n",
       "moveis_escritorio                                  36673\n",
       "malas_acessorios                                   18700\n",
       "instrumentos_musicais                              17664\n",
       "eletrodomesticos                                   16500\n",
       "eletroportateis                                    16406\n",
       "consoles_games                                     15184\n",
       "construcao_ferramentas_construcao                  14299\n",
       "moveis_sala                                        13115\n",
       "livros_interesse_geral                             11549\n",
       "market_place                                       11239\n",
       "casa_conforto                                      11228\n",
       "fashion_calcados                                    8131\n",
       "eletrodomesticos_2                                  7747\n",
       "casa_construcao                                     7217\n",
       "construcao_ferramentas_jardim                       6761\n",
       "alimentos                                           5924\n",
       "moveis_cozinha_area_de_servico_jantar_e_jardim      5875\n",
       "alimentos_bebidas                                   5379\n",
       "climatizacao                                        4962\n",
       "telefonia_fixa                                      4587\n",
       "audio                                               4412\n",
       "industria_comercio_e_negocios                       4312\n",
       "agro_industria_e_comercio                           4291\n",
       "bebidas                                             3745\n",
       "fashion_underwear_e_moda_praia                      3450\n",
       "construcao_ferramentas_seguranca                    3270\n",
       "livros_tecnicos                                     3062\n",
       "sinalizacao_e_seguranca                             2758\n",
       "artigos_de_natal                                    2282\n",
       "construcao_ferramentas_iluminacao                   2100\n",
       "moveis_quarto                                       1993\n",
       "artes                                               1918\n",
       "tablets_impressao_imagem                            1773\n",
       "fashion_roupa_masculina                             1394\n",
       "construcao_ferramentas_ferramentas                  1358\n",
       "pcs                                                 1242\n",
       "fashion_roupa_feminina                              1110\n",
       "dvds_blu_ray                                        1024\n",
       "cine_foto                                            801\n",
       "portateis_casa_forno_e_cafe                          783\n",
       "artigos_de_festas                                    591\n",
       "moveis_colchao_e_estofado                            554\n",
       "casa_conforto_2                                      553\n",
       "livros_importados                                    546\n",
       "la_cuisine                                           504\n",
       "flores                                               483\n",
       "fashion_esporte                                      467\n",
       "fraldas_higiene                                      449\n",
       "fashion_roupa_infanto_juvenil                        415\n",
       "musica                                               412\n",
       "pc_gamer                                             333\n",
       "cds_dvds_musicais                                    290\n",
       "portateis_cozinha_e_preparadores_de_alimentos        104\n",
       "artes_e_artesanato                                    76\n",
       "seguros_e_servicos                                     2\n",
       "Name: sales, dtype: int64"
      ]
     },
     "execution_count": 18,
     "metadata": {},
     "output_type": "execute_result"
    }
   ],
   "source": [
    "data.groupby('product_category_name').sales.sum().sort_values(ascending=False)"
   ]
  },
  {
   "cell_type": "code",
   "execution_count": 19,
   "id": "c6aed8b7",
   "metadata": {},
   "outputs": [
    {
     "name": "stderr",
     "output_type": "stream",
     "text": [
      "\u001b[34m\u001b[1mwandb\u001b[0m: Currently logged in as: \u001b[33mmanfredmichael\u001b[0m (\u001b[33manakbangkit\u001b[0m). Use \u001b[1m`wandb login --relogin`\u001b[0m to force relogin\n",
      "2022-06-03 16:03:55.929116: W tensorflow/stream_executor/platform/default/dso_loader.cc:64] Could not load dynamic library 'libcudart.so.11.0'; dlerror: libcudart.so.11.0: cannot open shared object file: No such file or directory\n",
      "2022-06-03 16:03:55.929151: I tensorflow/stream_executor/cuda/cudart_stub.cc:29] Ignore above cudart dlerror if you do not have a GPU set up on your machine.\n"
     ]
    },
    {
     "data": {
      "text/html": [
       "wandb version 0.12.17 is available!  To upgrade, please run:\n",
       " $ pip install wandb --upgrade"
      ],
      "text/plain": [
       "<IPython.core.display.HTML object>"
      ]
     },
     "metadata": {},
     "output_type": "display_data"
    },
    {
     "data": {
      "text/html": [
       "Tracking run with wandb version 0.12.16"
      ],
      "text/plain": [
       "<IPython.core.display.HTML object>"
      ]
     },
     "metadata": {},
     "output_type": "display_data"
    },
    {
     "data": {
      "text/html": [
       "Run data is saved locally in <code>/home/manfred/Projects/bangkit/CompanyBasedCapstone/Modelling/wandb/run-20220603_160331-t0ocrbq3</code>"
      ],
      "text/plain": [
       "<IPython.core.display.HTML object>"
      ]
     },
     "metadata": {},
     "output_type": "display_data"
    },
    {
     "data": {
      "text/html": [
       "Syncing run <strong><a href=\"https://wandb.ai/anakbangkit/cateogory-discount-optimization/runs/t0ocrbq3\" target=\"_blank\">lilac-firefly-28</a></strong> to <a href=\"https://wandb.ai/anakbangkit/cateogory-discount-optimization\" target=\"_blank\">Weights & Biases</a> (<a href=\"https://wandb.me/run\" target=\"_blank\">docs</a>)<br/>"
      ],
      "text/plain": [
       "<IPython.core.display.HTML object>"
      ]
     },
     "metadata": {},
     "output_type": "display_data"
    }
   ],
   "source": [
    "wandb.init(project=\"cateogory-discount-optimization\", entity=\"anakbangkit\", reinit=True)\n",
    "config = wandb.config"
   ]
  },
  {
   "cell_type": "markdown",
   "id": "8b2c862f",
   "metadata": {},
   "source": [
    "### Training Model"
   ]
  },
  {
   "cell_type": "code",
   "execution_count": 25,
   "id": "ce367734",
   "metadata": {},
   "outputs": [],
   "source": [
    "config.product_category_name = 'informatica_acessorios'\n",
    "config.test_size = 0.2\n",
    "config.valid_size = 0.2\n",
    "config.window_size = 30\n",
    "config.batch_size = 8\n",
    "config.buffer_size = 100_000\n",
    "config.stateful = False"
   ]
  },
  {
   "cell_type": "code",
   "execution_count": null,
   "id": "21e28ff4",
   "metadata": {},
   "outputs": [],
   "source": [
    "poi_product = data[data.product_category_name==config.product_category_name]\n",
    "poi_product = poi_product.sort_values('order_purchase_timestamp')\n",
    "poi_product"
   ]
  },
  {
   "cell_type": "code",
   "execution_count": null,
   "id": "401fe7a2",
   "metadata": {},
   "outputs": [],
   "source": [
    "config.train_split_time = int((1 - (config.valid_size + config.test_size)) * len(poi_product))\n",
    "config.valid_split_time = int((1 - config.test_size) * len(poi_product))"
   ]
  },
  {
   "cell_type": "code",
   "execution_count": null,
   "id": "83e874f1",
   "metadata": {},
   "outputs": [],
   "source": [
    "def train_val_split(data, train_split_time, valid_split_time):\n",
    "    \n",
    "    train = data.iloc[:train_split_time]\n",
    "    valid = data.iloc[train_split_time:valid_split_time]\n",
    "    test = data.iloc[valid_split_time:]\n",
    "\n",
    "    return train, valid, test\n",
    "\n",
    "# Split the dataset\n",
    "train, valid, test= train_val_split(poi_product,\n",
    "                               train_split_time=config.train_split_time,\n",
    "                               valid_split_time=config.valid_split_time)"
   ]
  },
  {
   "cell_type": "code",
   "execution_count": 27,
   "id": "bc3fe168",
   "metadata": {},
   "outputs": [],
   "source": [
    "# class DataPreprocessing:\n",
    "#     def __init__(self, window_size, batch_size, buffer_size, stateful):\n",
    "#         self.scaler = StandardScaler()\n",
    "#         self.window_size = window_size\n",
    "#         self.batch_size = batch_size\n",
    "#         self.buffer_size = buffer_size\n",
    "#         self.stateful = stateful\n",
    "# #         scaled_data = scaler.fit_transform(data[['sales', 'price']])\n",
    "\n",
    "#     def fit(self, data):\n",
    "#         self.scaler.fit(data[['sales', 'price']])\n",
    "        \n",
    "#     def rescale(self, data):\n",
    "#         data = data.copy()\n",
    "#         scaled_data = self.scaler.transform(data[['sales', 'price']])\n",
    "#         data['scaled_sales'] = scaled_data[:,0]\n",
    "#         data['scaled_price'] = scaled_data[:,1]\n",
    "#         return data\n",
    "    \n",
    "#     def create_windowed_dataset(self, data, with_label=True, rescale=True):\n",
    "#         if rescale:\n",
    "#             data = self.rescale(data)\n",
    "        \n",
    "#         data = data[['scaled_sales', 'scaled_price', 'sales']].values\n",
    "#         ds = tf.data.Dataset.from_tensor_slices(data)\n",
    "#         ds = ds.window(self.window_size + 1, shift=1, drop_remainder=True)\n",
    "#         ds = ds.flat_map(lambda w: w.batch(self.window_size + 1))\n",
    "\n",
    "#         if not self.stateful:\n",
    "#             ds = ds.shuffle(self.buffer_size)\n",
    "\n",
    "#         if with_label:\n",
    "#             ds = ds.map(lambda w: ((w[:-1, :2], w[-1:, 1]), w[-1:, 2]))\n",
    "#         else:\n",
    "#             ds = ds.map(lambda w: (w[:-1, :2], w[-1:, 1]))\n",
    "\n",
    "#         ds = ds.batch(self.batch_size, drop_remainder=self.stateful)\n",
    "#         if not with_label:\n",
    "#             ds = ds.prefetch(1)\n",
    "\n",
    "#         return ds"
   ]
  },
  {
   "cell_type": "code",
   "execution_count": 11,
   "id": "873ef41a",
   "metadata": {},
   "outputs": [
    {
     "data": {
      "text/plain": [
       "['../model/demand_forecasting/DataPreprocessing.joblib']"
      ]
     },
     "execution_count": 11,
     "metadata": {},
     "output_type": "execute_result"
    }
   ],
   "source": [
    "# joblib.dump(DataPreprocessing, \"../model/demand_forecasting/DataPreprocessing.joblib\")"
   ]
  },
  {
   "cell_type": "code",
   "execution_count": 12,
   "id": "b4ef2e06",
   "metadata": {},
   "outputs": [],
   "source": [
    "# DataPreprocessing = joblib.load(\"../model/demand_forecasting/DataPreprocessing.joblib\")"
   ]
  },
  {
   "cell_type": "code",
   "execution_count": 33,
   "id": "d3458bc0",
   "metadata": {},
   "outputs": [
    {
     "data": {
      "text/plain": [
       "utils.DataPreprocessing"
      ]
     },
     "execution_count": 33,
     "metadata": {},
     "output_type": "execute_result"
    }
   ],
   "source": [
    "DataPreprocessing"
   ]
  },
  {
   "cell_type": "code",
   "execution_count": 39,
   "id": "953ebdef",
   "metadata": {},
   "outputs": [],
   "source": [
    "from utils import DataPreprocessing, ModelPipeline\n",
    "    \n",
    "data_pipeline = DataPreprocessing(\n",
    "    window_size = config.window_size,\n",
    "    batch_size = config.batch_size,\n",
    "    buffer_size = config.buffer_size,\n",
    "    stateful = config.stateful)"
   ]
  },
  {
   "cell_type": "code",
   "execution_count": 40,
   "id": "7597bffd",
   "metadata": {},
   "outputs": [
    {
     "data": {
      "text/plain": [
       "['../model/demand_forecasting/data_pipeline.joblib']"
      ]
     },
     "execution_count": 40,
     "metadata": {},
     "output_type": "execute_result"
    }
   ],
   "source": [
    "joblib.dump(data_pipeline, \"../model/demand_forecasting/data_pipeline.joblib\")"
   ]
  },
  {
   "cell_type": "code",
   "execution_count": 83,
   "id": "16422904",
   "metadata": {},
   "outputs": [],
   "source": [
    "# Apply the transformation to the  dataset\n",
    "data_pipeline.fit(train)\n",
    "train_set = data_pipeline.create_windowed_dataset(train)\n",
    "valid_set = data_pipeline.create_windowed_dataset(valid)\n",
    "test_set = data_pipeline.create_windowed_dataset(test)"
   ]
  },
  {
   "cell_type": "code",
   "execution_count": 84,
   "id": "a31eca66",
   "metadata": {},
   "outputs": [
    {
     "name": "stdout",
     "output_type": "stream",
     "text": [
      "((<tf.Tensor: shape=(8, 30, 2), dtype=float64, numpy=\n",
      "array([[[-1.18890302, -1.38934079],\n",
      "        [-1.18890302, -1.38934079],\n",
      "        [-1.18890302, -1.38934079],\n",
      "        [-1.18890302, -1.38934079],\n",
      "        [-1.18890302, -1.38934079],\n",
      "        [-1.18890302, -1.38934079],\n",
      "        [-1.18890302, -1.38934079],\n",
      "        [-1.18890302, -1.38934079],\n",
      "        [-1.18890302, -1.38934079],\n",
      "        [-1.18890302, -1.38934079],\n",
      "        [-1.18890302, -1.38934079],\n",
      "        [-1.18890302, -1.38934079],\n",
      "        [-1.18890302, -1.38934079],\n",
      "        [-1.18890302, -1.38934079],\n",
      "        [-1.18890302, -1.38934079],\n",
      "        [-1.18890302, -1.38934079],\n",
      "        [-1.18890302, -1.38934079],\n",
      "        [-1.18890302, -1.38934079],\n",
      "        [-1.18890302, -1.38934079],\n",
      "        [-1.18890302, -1.38934079],\n",
      "        [-1.18890302, -1.38934079],\n",
      "        [-1.18890302, -1.38934079],\n",
      "        [-1.18890302, -1.38934079],\n",
      "        [-1.18890302, -1.38934079],\n",
      "        [-1.18890302, -1.38934079],\n",
      "        [-1.18890302, -1.38934079],\n",
      "        [-1.18890302, -1.38934079],\n",
      "        [-1.18890302, -1.38934079],\n",
      "        [-1.18890302, -1.38934079],\n",
      "        [-1.18890302, -1.38934079]],\n",
      "\n",
      "       [[ 0.40413248,  0.8917591 ],\n",
      "        [ 0.43400189,  0.91985036],\n",
      "        [ 0.43400189,  0.81370959],\n",
      "        [ 0.46387131,  0.76936852],\n",
      "        [ 0.47382778,  0.91487475],\n",
      "        [ 0.51365367,  0.89347016],\n",
      "        [ 0.53356661,  0.97538077],\n",
      "        [ 0.54352308,  0.95578994],\n",
      "        [ 0.5733925 ,  0.94542723],\n",
      "        [ 0.5733925 ,  0.91527588],\n",
      "        [ 0.58334897,  0.90086969],\n",
      "        [ 0.59330544,  0.93240868],\n",
      "        [ 0.5733925 ,  0.9170266 ],\n",
      "        [ 0.5733925 ,  0.968754  ],\n",
      "        [ 0.60326191,  1.05325865],\n",
      "        [ 0.58334897,  0.98473552],\n",
      "        [ 0.5733925 ,  0.81667772],\n",
      "        [ 0.60326191,  0.82110989],\n",
      "        [ 0.62317486,  1.22059145],\n",
      "        [ 0.63313133,  1.20754335],\n",
      "        [ 0.63313133,  1.2054996 ],\n",
      "        [ 0.6430878 ,  1.19009524],\n",
      "        [ 0.63313133,  1.19905889],\n",
      "        [ 0.6430878 ,  1.19308028],\n",
      "        [ 0.6430878 ,  1.22746296],\n",
      "        [ 0.6430878 ,  1.18682888],\n",
      "        [ 0.66300074,  1.33513556],\n",
      "        [ 0.63313133,  1.29497442],\n",
      "        [ 0.66300074,  1.31937877],\n",
      "        [ 0.65304427,  0.82603587]],\n",
      "\n",
      "       [[ 0.21495951,  0.96406036],\n",
      "        [ 0.26474187,  0.86488718],\n",
      "        [ 0.23487245,  0.80382878],\n",
      "        [ 0.2547854 ,  0.72633265],\n",
      "        [ 0.27469834,  0.99738848],\n",
      "        [ 0.26474187,  0.80609847],\n",
      "        [ 0.23487245,  0.85713133],\n",
      "        [ 0.2547854 ,  0.8632734 ],\n",
      "        [ 0.24482893,  0.84721698],\n",
      "        [ 0.26474187,  0.81042716],\n",
      "        [ 0.29461129,  0.82695884],\n",
      "        [ 0.30456776,  0.89416317],\n",
      "        [ 0.30456776,  0.83608547],\n",
      "        [ 0.35435012,  0.84106967],\n",
      "        [ 0.37426306,  1.12622919],\n",
      "        [ 0.38421953,  0.87829433],\n",
      "        [ 0.394176  ,  0.86382575],\n",
      "        [ 0.37426306,  0.85246072],\n",
      "        [ 0.38421953,  0.87121823],\n",
      "        [ 0.394176  ,  0.89966142],\n",
      "        [ 0.38421953,  0.89750295],\n",
      "        [ 0.40413248,  0.8917591 ],\n",
      "        [ 0.43400189,  0.91985036],\n",
      "        [ 0.43400189,  0.81370959],\n",
      "        [ 0.46387131,  0.76936852],\n",
      "        [ 0.47382778,  0.91487475],\n",
      "        [ 0.51365367,  0.89347016],\n",
      "        [ 0.53356661,  0.97538077],\n",
      "        [ 0.54352308,  0.95578994],\n",
      "        [ 0.5733925 ,  0.94542723]],\n",
      "\n",
      "       [[-0.18329936,  0.70917027],\n",
      "        [-0.18329936,  0.7034561 ],\n",
      "        [-0.18329936,  0.5668875 ],\n",
      "        [-0.15342995,  0.79941788],\n",
      "        [-0.14347348,  0.8456196 ],\n",
      "        [-0.12356053,  0.84731794],\n",
      "        [-0.133517  ,  0.79827385],\n",
      "        [-0.12356053,  0.77409912],\n",
      "        [-0.133517  ,  0.80035765],\n",
      "        [-0.11360406,  0.7691154 ],\n",
      "        [-0.11360406,  0.76236724],\n",
      "        [-0.11360406,  0.76236724],\n",
      "        [-0.11360406,  0.76441602],\n",
      "        [-0.10364759,  0.73947875],\n",
      "        [-0.10364759,  0.73947875],\n",
      "        [-0.08373464,  0.71111438],\n",
      "        [-0.08373464,  0.70961558],\n",
      "        [-0.05386523,  0.76600925],\n",
      "        [-0.04390876,  0.76186245],\n",
      "        [ 0.01583007,  0.7396032 ],\n",
      "        [ 0.0058736 ,  1.14271534],\n",
      "        [ 0.04569949,  1.074621  ],\n",
      "        [ 0.05565596,  1.0404343 ],\n",
      "        [ 0.07556891,  1.00925226],\n",
      "        [ 0.07556891,  0.92884095],\n",
      "        [ 0.12535126,  0.86210819],\n",
      "        [ 0.15522068,  0.97932964],\n",
      "        [ 0.19504657,  0.9616603 ],\n",
      "        [ 0.21495951,  0.96406036],\n",
      "        [ 0.26474187,  0.86488718]],\n",
      "\n",
      "       [[-0.18329936,  0.7034561 ],\n",
      "        [-0.18329936,  0.5668875 ],\n",
      "        [-0.15342995,  0.79941788],\n",
      "        [-0.14347348,  0.8456196 ],\n",
      "        [-0.12356053,  0.84731794],\n",
      "        [-0.133517  ,  0.79827385],\n",
      "        [-0.12356053,  0.77409912],\n",
      "        [-0.133517  ,  0.80035765],\n",
      "        [-0.11360406,  0.7691154 ],\n",
      "        [-0.11360406,  0.76236724],\n",
      "        [-0.11360406,  0.76236724],\n",
      "        [-0.11360406,  0.76441602],\n",
      "        [-0.10364759,  0.73947875],\n",
      "        [-0.10364759,  0.73947875],\n",
      "        [-0.08373464,  0.71111438],\n",
      "        [-0.08373464,  0.70961558],\n",
      "        [-0.05386523,  0.76600925],\n",
      "        [-0.04390876,  0.76186245],\n",
      "        [ 0.01583007,  0.7396032 ],\n",
      "        [ 0.0058736 ,  1.14271534],\n",
      "        [ 0.04569949,  1.074621  ],\n",
      "        [ 0.05565596,  1.0404343 ],\n",
      "        [ 0.07556891,  1.00925226],\n",
      "        [ 0.07556891,  0.92884095],\n",
      "        [ 0.12535126,  0.86210819],\n",
      "        [ 0.15522068,  0.97932964],\n",
      "        [ 0.19504657,  0.9616603 ],\n",
      "        [ 0.21495951,  0.96406036],\n",
      "        [ 0.26474187,  0.86488718],\n",
      "        [ 0.23487245,  0.80382878]],\n",
      "\n",
      "       [[ 0.60326191,  0.82110989],\n",
      "        [ 0.62317486,  1.22059145],\n",
      "        [ 0.63313133,  1.20754335],\n",
      "        [ 0.63313133,  1.2054996 ],\n",
      "        [ 0.6430878 ,  1.19009524],\n",
      "        [ 0.63313133,  1.19905889],\n",
      "        [ 0.6430878 ,  1.19308028],\n",
      "        [ 0.6430878 ,  1.22746296],\n",
      "        [ 0.6430878 ,  1.18682888],\n",
      "        [ 0.66300074,  1.33513556],\n",
      "        [ 0.63313133,  1.29497442],\n",
      "        [ 0.66300074,  1.31937877],\n",
      "        [ 0.65304427,  0.82603587],\n",
      "        [ 0.66300074,  0.84195363],\n",
      "        [ 0.67295722,  0.79424756],\n",
      "        [ 0.7127831 ,  0.78937818],\n",
      "        [ 0.70282663,  0.8009182 ],\n",
      "        [ 0.76256546,  0.80467808],\n",
      "        [ 0.75260899,  0.8003573 ],\n",
      "        [ 0.80239135,  0.75451263],\n",
      "        [ 0.80239135,  0.7287615 ],\n",
      "        [ 0.81234782,  0.71024148],\n",
      "        [ 0.87208665,  0.89210517],\n",
      "        [ 0.90195607,  0.73687602],\n",
      "        [ 0.90195607,  0.67458867],\n",
      "        [ 0.8919996 ,  0.69953084],\n",
      "        [ 0.8919996 ,  0.68139788],\n",
      "        [ 0.93182549,  0.68077562],\n",
      "        [ 0.91191254,  0.67246156],\n",
      "        [ 0.98160784,  0.64031498]],\n",
      "\n",
      "       [[ 1.13095492,  0.5973731 ],\n",
      "        [ 1.16082434,  0.56913645],\n",
      "        [ 1.15086787,  0.54667805],\n",
      "        [ 1.17078081,  0.53206874],\n",
      "        [ 1.17078081,  0.53146537],\n",
      "        [ 1.17078081,  0.52766699],\n",
      "        [ 1.15086787,  0.53924251],\n",
      "        [ 1.13095492,  0.530789  ],\n",
      "        [ 1.13095492,  0.53140101],\n",
      "        [ 1.16082434,  0.51225821],\n",
      "        [ 1.19069375,  0.65365806],\n",
      "        [ 1.19069375,  0.67250171],\n",
      "        [ 1.18073728,  0.66760316],\n",
      "        [ 1.23051964,  0.7717961 ],\n",
      "        [ 1.22056317,  0.74893518],\n",
      "        [ 1.24047611,  0.776533  ],\n",
      "        [ 1.25043258,  0.76045713],\n",
      "        [ 1.280302  ,  0.75404575],\n",
      "        [ 1.27034553,  0.75800311],\n",
      "        [ 1.280302  ,  0.7423203 ],\n",
      "        [ 1.32012789,  0.80312658],\n",
      "        [ 1.32012789,  1.00928156],\n",
      "        [ 1.3499973 ,  0.75686008],\n",
      "        [ 1.3499973 ,  0.75150967],\n",
      "        [ 1.32012789,  0.79417047],\n",
      "        [ 1.34004083,  0.7701997 ],\n",
      "        [ 1.34004083,  0.75755982],\n",
      "        [ 1.35995378,  0.74402672],\n",
      "        [ 1.37986672,  0.71276639],\n",
      "        [ 1.42964908,  0.7637864 ]],\n",
      "\n",
      "       [[ 0.26474187,  0.81042716],\n",
      "        [ 0.29461129,  0.82695884],\n",
      "        [ 0.30456776,  0.89416317],\n",
      "        [ 0.30456776,  0.83608547],\n",
      "        [ 0.35435012,  0.84106967],\n",
      "        [ 0.37426306,  1.12622919],\n",
      "        [ 0.38421953,  0.87829433],\n",
      "        [ 0.394176  ,  0.86382575],\n",
      "        [ 0.37426306,  0.85246072],\n",
      "        [ 0.38421953,  0.87121823],\n",
      "        [ 0.394176  ,  0.89966142],\n",
      "        [ 0.38421953,  0.89750295],\n",
      "        [ 0.40413248,  0.8917591 ],\n",
      "        [ 0.43400189,  0.91985036],\n",
      "        [ 0.43400189,  0.81370959],\n",
      "        [ 0.46387131,  0.76936852],\n",
      "        [ 0.47382778,  0.91487475],\n",
      "        [ 0.51365367,  0.89347016],\n",
      "        [ 0.53356661,  0.97538077],\n",
      "        [ 0.54352308,  0.95578994],\n",
      "        [ 0.5733925 ,  0.94542723],\n",
      "        [ 0.5733925 ,  0.91527588],\n",
      "        [ 0.58334897,  0.90086969],\n",
      "        [ 0.59330544,  0.93240868],\n",
      "        [ 0.5733925 ,  0.9170266 ],\n",
      "        [ 0.5733925 ,  0.968754  ],\n",
      "        [ 0.60326191,  1.05325865],\n",
      "        [ 0.58334897,  0.98473552],\n",
      "        [ 0.5733925 ,  0.81667772],\n",
      "        [ 0.60326191,  0.82110989]]])>, <tf.Tensor: shape=(8, 1), dtype=float64, numpy=\n",
      "array([[-1.38934079],\n",
      "       [ 0.84195363],\n",
      "       [ 0.91527588],\n",
      "       [ 0.80382878],\n",
      "       [ 0.72633265],\n",
      "       [ 0.75286948],\n",
      "       [ 0.7473153 ],\n",
      "       [ 1.22059145]])>), <tf.Tensor: shape=(8, 1), dtype=float64, numpy=\n",
      "array([[ 11.],\n",
      "       [197.],\n",
      "       [188.],\n",
      "       [154.],\n",
      "       [156.],\n",
      "       [232.],\n",
      "       [273.],\n",
      "       [193.]])>)\n",
      "((<tf.Tensor: shape=(8, 30, 2), dtype=float64, numpy=\n",
      "array([[[ 0.62317486,  1.22059145],\n",
      "        [ 0.63313133,  1.20754335],\n",
      "        [ 0.63313133,  1.2054996 ],\n",
      "        [ 0.6430878 ,  1.19009524],\n",
      "        [ 0.63313133,  1.19905889],\n",
      "        [ 0.6430878 ,  1.19308028],\n",
      "        [ 0.6430878 ,  1.22746296],\n",
      "        [ 0.6430878 ,  1.18682888],\n",
      "        [ 0.66300074,  1.33513556],\n",
      "        [ 0.63313133,  1.29497442],\n",
      "        [ 0.66300074,  1.31937877],\n",
      "        [ 0.65304427,  0.82603587],\n",
      "        [ 0.66300074,  0.84195363],\n",
      "        [ 0.67295722,  0.79424756],\n",
      "        [ 0.7127831 ,  0.78937818],\n",
      "        [ 0.70282663,  0.8009182 ],\n",
      "        [ 0.76256546,  0.80467808],\n",
      "        [ 0.75260899,  0.8003573 ],\n",
      "        [ 0.80239135,  0.75451263],\n",
      "        [ 0.80239135,  0.7287615 ],\n",
      "        [ 0.81234782,  0.71024148],\n",
      "        [ 0.87208665,  0.89210517],\n",
      "        [ 0.90195607,  0.73687602],\n",
      "        [ 0.90195607,  0.67458867],\n",
      "        [ 0.8919996 ,  0.69953084],\n",
      "        [ 0.8919996 ,  0.68139788],\n",
      "        [ 0.93182549,  0.68077562],\n",
      "        [ 0.91191254,  0.67246156],\n",
      "        [ 0.98160784,  0.64031498],\n",
      "        [ 1.01147726,  0.75286948]],\n",
      "\n",
      "       [[-1.0893383 , -1.45175632],\n",
      "        [-1.04951242,  0.81061328],\n",
      "        [-1.07938183, -1.4672474 ],\n",
      "        [-1.06942536, -1.51079372],\n",
      "        [-1.06942536, -1.52404396],\n",
      "        [-1.05946889, -1.53166396],\n",
      "        [-0.99973006, -1.28508114],\n",
      "        [-0.98977358, -1.1630629 ],\n",
      "        [-0.97981711, -1.20386758],\n",
      "        [-0.95990417, -1.25766031],\n",
      "        [-0.96986064, -1.24228237],\n",
      "        [-0.9499477 , -1.31580921],\n",
      "        [-0.92007828, -0.82063042],\n",
      "        [-0.92007828, -1.22322057],\n",
      "        [-0.90016534, -1.09937071],\n",
      "        [-0.89020887,  1.70158896],\n",
      "        [-0.91012181, -1.17060869],\n",
      "        [-0.92007828, -1.15649513],\n",
      "        [-0.88025239, -1.21675348],\n",
      "        [-0.85038298, -0.95201715],\n",
      "        [-0.85038298, -0.91071261],\n",
      "        [-0.83047003, -0.87443531],\n",
      "        [-0.83047003, -0.87443531],\n",
      "        [-0.82051356, -0.91209586],\n",
      "        [-0.83047003, -0.87118675],\n",
      "        [-0.79064415, -0.97343091],\n",
      "        [-0.80060062, -0.93589829],\n",
      "        [-0.78068767, -0.97551628],\n",
      "        [-0.74086179, -0.92594954],\n",
      "        [-0.7707312 , -0.96804103]],\n",
      "\n",
      "       [[-0.73090532, -0.72130149],\n",
      "        [-0.7010359 , -0.79597891],\n",
      "        [-0.69107943, -0.79737329],\n",
      "        [-0.68112296, -0.72454911],\n",
      "        [-0.65125354,  1.02825752],\n",
      "        [-0.6313406 ,  0.95670819],\n",
      "        [-0.59151471,  0.90107572],\n",
      "        [-0.59151471,  0.8161691 ],\n",
      "        [-0.59151471,  0.76032586],\n",
      "        [-0.58155824,  0.80969698],\n",
      "        [-0.58155824,  0.80969698],\n",
      "        [-0.57160177,  0.86961346],\n",
      "        [-0.54173235,  0.91634807],\n",
      "        [-0.57160177,  0.87332479],\n",
      "        [-0.56164529,  0.90105501],\n",
      "        [-0.56164529,  0.83680924],\n",
      "        [-0.54173235,  0.913902  ],\n",
      "        [-0.48199352,  0.75591381],\n",
      "        [-0.48199352,  0.7813386 ],\n",
      "        [-0.42225469,  1.35538493],\n",
      "        [-0.43221116,  0.63865028],\n",
      "        [-0.44216763,  0.8647597 ],\n",
      "        [-0.44216763,  0.69855805],\n",
      "        [-0.42225469,  0.56279186],\n",
      "        [-0.3824288 ,  0.56358808],\n",
      "        [-0.41229822,  0.50973131],\n",
      "        [-0.3824288 ,  0.56059021],\n",
      "        [-0.33264644,  0.41108034],\n",
      "        [-0.36251586,  0.51273104],\n",
      "        [-0.36251586,  0.55649913]],\n",
      "\n",
      "       [[ 0.87208665,  0.89210517],\n",
      "        [ 0.90195607,  0.73687602],\n",
      "        [ 0.90195607,  0.67458867],\n",
      "        [ 0.8919996 ,  0.69953084],\n",
      "        [ 0.8919996 ,  0.68139788],\n",
      "        [ 0.93182549,  0.68077562],\n",
      "        [ 0.91191254,  0.67246156],\n",
      "        [ 0.98160784,  0.64031498],\n",
      "        [ 1.01147726,  0.75286948],\n",
      "        [ 0.98160784,  0.65868682],\n",
      "        [ 0.98160784,  0.6361562 ],\n",
      "        [ 0.98160784,  0.64379372],\n",
      "        [ 0.98160784,  0.63672845],\n",
      "        [ 1.01147726,  0.57930395],\n",
      "        [ 1.02143373,  0.56085794],\n",
      "        [ 0.98160784,  0.63407281],\n",
      "        [ 1.02143373,  0.6219137 ],\n",
      "        [ 1.01147726,  0.52656153],\n",
      "        [ 1.05130315,  0.52047274],\n",
      "        [ 1.01147726,  0.50291539],\n",
      "        [ 1.01147726,  0.496794  ],\n",
      "        [ 1.02143373,  0.51562725],\n",
      "        [ 1.00152079,  0.48826494],\n",
      "        [ 0.99156432,  0.49058785],\n",
      "        [ 1.02143373,  0.51219907],\n",
      "        [ 1.02143373,  0.5065539 ],\n",
      "        [ 1.01147726,  0.52069367],\n",
      "        [ 1.02143373,  0.64560354],\n",
      "        [ 1.01147726,  0.51779718],\n",
      "        [ 1.09112903,  0.53615853]],\n",
      "\n",
      "       [[-1.18890302, -1.38934079],\n",
      "        [-1.18890302, -1.38934079],\n",
      "        [-1.18890302, -1.38934079],\n",
      "        [-1.18890302, -1.38934079],\n",
      "        [-1.18890302, -1.38934079],\n",
      "        [-1.18890302, -1.38934079],\n",
      "        [-1.18890302, -1.38934079],\n",
      "        [-1.18890302, -1.38934079],\n",
      "        [-1.18890302, -1.38934079],\n",
      "        [-1.18890302, -1.38934079],\n",
      "        [-1.18890302, -1.38934079],\n",
      "        [-1.18890302, -1.38934079],\n",
      "        [-1.18890302, -1.38934079],\n",
      "        [-1.18890302, -1.38934079],\n",
      "        [-1.18890302, -1.38934079],\n",
      "        [-1.18890302, -1.38934079],\n",
      "        [-1.18890302, -1.38934079],\n",
      "        [-1.18890302, -1.38934079],\n",
      "        [-1.17894655, -1.4462816 ],\n",
      "        [-1.17894655, -1.4462816 ],\n",
      "        [-1.17894655, -1.4462816 ],\n",
      "        [-1.17894655, -1.4462816 ],\n",
      "        [-1.17894655, -1.4462816 ],\n",
      "        [-1.17894655, -1.4462816 ],\n",
      "        [-1.15903361, -1.23100444],\n",
      "        [-1.14907713, -1.19568617],\n",
      "        [-1.14907713, -1.19568617],\n",
      "        [-1.13912066, -1.28858964],\n",
      "        [-1.13912066, -1.28858964],\n",
      "        [-1.11920772, -1.42973168]],\n",
      "\n",
      "       [[ 1.13095492,  0.55399164],\n",
      "        [ 1.12099845,  0.54895977],\n",
      "        [ 1.13095492,  0.56372134],\n",
      "        [ 1.13095492,  0.5643321 ],\n",
      "        [ 1.17078081,  0.63110693],\n",
      "        [ 1.14091139,  0.60374793],\n",
      "        [ 1.16082434,  0.60682621],\n",
      "        [ 1.13095492,  0.61777549],\n",
      "        [ 1.14091139,  0.62173224],\n",
      "        [ 1.12099845,  0.59367481],\n",
      "        [ 1.13095492,  0.5973731 ],\n",
      "        [ 1.16082434,  0.56913645],\n",
      "        [ 1.15086787,  0.54667805],\n",
      "        [ 1.17078081,  0.53206874],\n",
      "        [ 1.17078081,  0.53146537],\n",
      "        [ 1.17078081,  0.52766699],\n",
      "        [ 1.15086787,  0.53924251],\n",
      "        [ 1.13095492,  0.530789  ],\n",
      "        [ 1.13095492,  0.53140101],\n",
      "        [ 1.16082434,  0.51225821],\n",
      "        [ 1.19069375,  0.65365806],\n",
      "        [ 1.19069375,  0.67250171],\n",
      "        [ 1.18073728,  0.66760316],\n",
      "        [ 1.23051964,  0.7717961 ],\n",
      "        [ 1.22056317,  0.74893518],\n",
      "        [ 1.24047611,  0.776533  ],\n",
      "        [ 1.25043258,  0.76045713],\n",
      "        [ 1.280302  ,  0.75404575],\n",
      "        [ 1.27034553,  0.75800311],\n",
      "        [ 1.280302  ,  0.7423203 ]],\n",
      "\n",
      "       [[-0.7707312 , -0.96804103],\n",
      "        [-0.78068767, -1.01809415],\n",
      "        [-0.7707312 , -1.04943377],\n",
      "        [-0.7707312 , -1.05800143],\n",
      "        [-0.7707312 , -1.07697678],\n",
      "        [-0.76077473, -0.99921927],\n",
      "        [-0.75081826, -1.01757223],\n",
      "        [-0.73090532, -0.41921921],\n",
      "        [-0.73090532, -0.72130149],\n",
      "        [-0.7010359 , -0.79597891],\n",
      "        [-0.69107943, -0.79737329],\n",
      "        [-0.68112296, -0.72454911],\n",
      "        [-0.65125354,  1.02825752],\n",
      "        [-0.6313406 ,  0.95670819],\n",
      "        [-0.59151471,  0.90107572],\n",
      "        [-0.59151471,  0.8161691 ],\n",
      "        [-0.59151471,  0.76032586],\n",
      "        [-0.58155824,  0.80969698],\n",
      "        [-0.58155824,  0.80969698],\n",
      "        [-0.57160177,  0.86961346],\n",
      "        [-0.54173235,  0.91634807],\n",
      "        [-0.57160177,  0.87332479],\n",
      "        [-0.56164529,  0.90105501],\n",
      "        [-0.56164529,  0.83680924],\n",
      "        [-0.54173235,  0.913902  ],\n",
      "        [-0.48199352,  0.75591381],\n",
      "        [-0.48199352,  0.7813386 ],\n",
      "        [-0.42225469,  1.35538493],\n",
      "        [-0.43221116,  0.63865028],\n",
      "        [-0.44216763,  0.8647597 ]],\n",
      "\n",
      "       [[-0.58155824,  0.80969698],\n",
      "        [-0.58155824,  0.80969698],\n",
      "        [-0.57160177,  0.86961346],\n",
      "        [-0.54173235,  0.91634807],\n",
      "        [-0.57160177,  0.87332479],\n",
      "        [-0.56164529,  0.90105501],\n",
      "        [-0.56164529,  0.83680924],\n",
      "        [-0.54173235,  0.913902  ],\n",
      "        [-0.48199352,  0.75591381],\n",
      "        [-0.48199352,  0.7813386 ],\n",
      "        [-0.42225469,  1.35538493],\n",
      "        [-0.43221116,  0.63865028],\n",
      "        [-0.44216763,  0.8647597 ],\n",
      "        [-0.44216763,  0.69855805],\n",
      "        [-0.42225469,  0.56279186],\n",
      "        [-0.3824288 ,  0.56358808],\n",
      "        [-0.41229822,  0.50973131],\n",
      "        [-0.3824288 ,  0.56059021],\n",
      "        [-0.33264644,  0.41108034],\n",
      "        [-0.36251586,  0.51273104],\n",
      "        [-0.36251586,  0.55649913],\n",
      "        [-0.36251586,  0.55649913],\n",
      "        [-0.33264644,  0.52217161],\n",
      "        [-0.32268997,  1.47532774],\n",
      "        [-0.34260291,  0.55237533],\n",
      "        [-0.3127335 ,  0.73409143],\n",
      "        [-0.3127335 ,  0.7365541 ],\n",
      "        [-0.29282055,  0.70542179],\n",
      "        [-0.28286408,  0.84760021],\n",
      "        [-0.25299467,  1.00137808]]])>, <tf.Tensor: shape=(8, 1), dtype=float64, numpy=\n",
      "array([[ 0.65868682],\n",
      "       [-1.01809415],\n",
      "       [ 0.55649913],\n",
      "       [ 0.47529133],\n",
      "       [-1.30781252],\n",
      "       [ 0.80312658],\n",
      "       [ 0.69855805],\n",
      "       [ 1.02552042]])>), <tf.Tensor: shape=(8, 1), dtype=float64, numpy=\n",
      "array([[229.],\n",
      "       [ 52.],\n",
      "       [ 94.],\n",
      "       [238.],\n",
      "       [ 18.],\n",
      "       [263.],\n",
      "       [ 86.],\n",
      "       [107.]])>)\n"
     ]
    }
   ],
   "source": [
    "show_sample(train_set, n_sample=2)"
   ]
  },
  {
   "cell_type": "code",
   "execution_count": 49,
   "id": "c4b564f3",
   "metadata": {},
   "outputs": [],
   "source": [
    "config.rnn_unit = 256\n",
    "config.rnn_layer = 2\n",
    "config.fc1_unit = 128\n",
    "config.fc2_unit = 64\n",
    "config.dropout_rate = 0.1\n",
    "\n",
    "config.batch_normalization = False\n",
    "config.use_bias = True"
   ]
  },
  {
   "cell_type": "code",
   "execution_count": 50,
   "id": "2e68e1e1",
   "metadata": {},
   "outputs": [],
   "source": [
    "from tensorflow.keras.models import Sequential, Model\n",
    "from tensorflow.keras.layers import Flatten, Dense, Input, GRU, LSTM, Concatenate, BatchNormalization, Dropout\n",
    "from tensorflow.keras.optimizers import Adam\n",
    "from tensorflow.keras.callbacks import EarlyStopping\n",
    "\n",
    "def build_model(rnn_unit, fc1_unit, fc2_unit, dropout_rate=0, rnn_layer=0, stateful=False, batch_normalization=False):\n",
    "    if stateful:\n",
    "        history_input = Input(batch_shape=(config.batch_size, config.window_size, 2), name='history_input')\n",
    "    else:\n",
    "        history_input = Input(shape=(config.window_size, 2))\n",
    "    price_input = Input(shape=(1), name='price_input')\n",
    "    \n",
    "    if config.batch_normalization:\n",
    "        history_input = BatchNormalization()(history_input)\n",
    "        price_input = BatchNormalization()(price_input)\n",
    "        \n",
    "    rnn = history_input\n",
    "    for i in range(rnn_layer-1):\n",
    "        rnn = LSTM(rnn_unit, use_bias=config.use_bias, return_sequences=True, dropout=dropout_rate, stateful=stateful)(rnn)\n",
    "    if rnn_layer > 0:\n",
    "        rnn = LSTM(rnn_unit, use_bias=config.use_bias, dropout=dropout_rate, stateful=stateful)(rnn)\n",
    "    else:\n",
    "        rnn = Flatten()(rnn)\n",
    "        \n",
    "    \n",
    "    concat_ = Concatenate()([rnn, price_input])\n",
    "    if dropout_rate > 0:\n",
    "        concat_ = Dropout(dropout_rate)(concat_)\n",
    "    fc = Dense(fc1_unit, activation='relu', use_bias=config.use_bias)(concat_)\n",
    "    \n",
    "    if dropout_rate > 0:\n",
    "        fc = Dropout(dropout_rate)(fc)\n",
    "    fc = Dense(fc2_unit, activation='relu', use_bias=config.use_bias)(fc)\n",
    "    \n",
    "    if dropout_rate > 0:\n",
    "        fc = Dropout(dropout_rate)(fc)\n",
    "    output = Dense(1, use_bias=config.use_bias, name='sales_output')(fc)\n",
    "    \n",
    "    model = Model([history_input, price_input], output)\n",
    "    return model"
   ]
  },
  {
   "cell_type": "code",
   "execution_count": 51,
   "id": "dee151b4",
   "metadata": {},
   "outputs": [],
   "source": [
    "model = build_model(\n",
    "    rnn_unit=config.rnn_unit,\n",
    "    rnn_layer=config.rnn_layer,\n",
    "    fc1_unit=config.fc1_unit,\n",
    "    fc2_unit=config.fc2_unit,\n",
    "    stateful=config.stateful,\n",
    "    batch_normalization=config.batch_normalization,\n",
    "    dropout_rate=config.dropout_rate\n",
    ")"
   ]
  },
  {
   "cell_type": "code",
   "execution_count": 54,
   "id": "b2a27a16",
   "metadata": {},
   "outputs": [],
   "source": [
    "model.compile(\n",
    "    optimizer=Adam(),\n",
    "    loss='mse',\n",
    ")"
   ]
  },
  {
   "cell_type": "code",
   "execution_count": 55,
   "id": "c817454b",
   "metadata": {},
   "outputs": [],
   "source": [
    "earlystopping_cb = EarlyStopping(\n",
    "    monitor=\"loss\",\n",
    "    patience=100,\n",
    "    restore_best_weights=True,\n",
    ")\n",
    "\n",
    "checkpoint_cb = tf.keras.callbacks.ModelCheckpoint(\n",
    "    filepath='../model/demand_forecasting',\n",
    "    monitor=\"val_loss\",\n",
    "    verbose=0,\n",
    "    save_best_only=True,\n",
    ")"
   ]
  },
  {
   "cell_type": "code",
   "execution_count": 56,
   "id": "1d67b201",
   "metadata": {},
   "outputs": [
    {
     "name": "stdout",
     "output_type": "stream",
     "text": [
      "Epoch 1/1000\n",
      "     49/Unknown - 14s 162ms/step - loss: 14620.8369"
     ]
    },
    {
     "name": "stderr",
     "output_type": "stream",
     "text": [
      "WARNING:absl:Found untraced functions such as lstm_cell_6_layer_call_fn, lstm_cell_6_layer_call_and_return_conditional_losses, lstm_cell_7_layer_call_fn, lstm_cell_7_layer_call_and_return_conditional_losses while saving (showing 4 of 4). These functions will not be directly callable after loading.\n"
     ]
    },
    {
     "name": "stdout",
     "output_type": "stream",
     "text": [
      "INFO:tensorflow:Assets written to: ../model/demand_forecasting/assets\n"
     ]
    },
    {
     "name": "stderr",
     "output_type": "stream",
     "text": [
      "INFO:tensorflow:Assets written to: ../model/demand_forecasting/assets\n",
      "WARNING:absl:<keras.layers.recurrent.LSTMCell object at 0x7f3bb91f7340> has the same name 'LSTMCell' as a built-in Keras object. Consider renaming <class 'keras.layers.recurrent.LSTMCell'> to avoid naming conflicts when loading with `tf.keras.models.load_model`. If renaming is not possible, pass the object in the `custom_objects` parameter of the load function.\n",
      "WARNING:absl:<keras.layers.recurrent.LSTMCell object at 0x7f3bb9182130> has the same name 'LSTMCell' as a built-in Keras object. Consider renaming <class 'keras.layers.recurrent.LSTMCell'> to avoid naming conflicts when loading with `tf.keras.models.load_model`. If renaming is not possible, pass the object in the `custom_objects` parameter of the load function.\n"
     ]
    },
    {
     "name": "stdout",
     "output_type": "stream",
     "text": [
      "49/49 [==============================] - 27s 431ms/step - loss: 14620.8369 - val_loss: 6051.6914 - _timestamp: 1654088304.0000 - _runtime: 213.0000\n",
      "Epoch 2/1000\n",
      "49/49 [==============================] - 8s 167ms/step - loss: 2904.7668 - val_loss: 9031.5098 - _timestamp: 1654088324.0000 - _runtime: 233.0000\n",
      "Epoch 3/1000\n",
      "49/49 [==============================] - 8s 152ms/step - loss: 2449.0342 - val_loss: 9412.5146 - _timestamp: 1654088333.0000 - _runtime: 242.0000\n",
      "Epoch 4/1000\n",
      "49/49 [==============================] - 9s 176ms/step - loss: 4298.9346 - val_loss: 15706.3262 - _timestamp: 1654088342.0000 - _runtime: 251.0000\n",
      "Epoch 5/1000\n",
      "49/49 [==============================] - ETA: 0s - loss: 2200.0557"
     ]
    },
    {
     "name": "stderr",
     "output_type": "stream",
     "text": [
      "WARNING:absl:Found untraced functions such as lstm_cell_6_layer_call_fn, lstm_cell_6_layer_call_and_return_conditional_losses, lstm_cell_7_layer_call_fn, lstm_cell_7_layer_call_and_return_conditional_losses while saving (showing 4 of 4). These functions will not be directly callable after loading.\n"
     ]
    },
    {
     "name": "stdout",
     "output_type": "stream",
     "text": [
      "INFO:tensorflow:Assets written to: ../model/demand_forecasting/assets\n"
     ]
    },
    {
     "name": "stderr",
     "output_type": "stream",
     "text": [
      "INFO:tensorflow:Assets written to: ../model/demand_forecasting/assets\n",
      "WARNING:absl:<keras.layers.recurrent.LSTMCell object at 0x7f3bb91f7340> has the same name 'LSTMCell' as a built-in Keras object. Consider renaming <class 'keras.layers.recurrent.LSTMCell'> to avoid naming conflicts when loading with `tf.keras.models.load_model`. If renaming is not possible, pass the object in the `custom_objects` parameter of the load function.\n",
      "WARNING:absl:<keras.layers.recurrent.LSTMCell object at 0x7f3bb9182130> has the same name 'LSTMCell' as a built-in Keras object. Consider renaming <class 'keras.layers.recurrent.LSTMCell'> to avoid naming conflicts when loading with `tf.keras.models.load_model`. If renaming is not possible, pass the object in the `custom_objects` parameter of the load function.\n"
     ]
    },
    {
     "name": "stdout",
     "output_type": "stream",
     "text": [
      "49/49 [==============================] - 22s 464ms/step - loss: 2200.0557 - val_loss: 5164.0747 - _timestamp: 1654088351.0000 - _runtime: 260.0000\n",
      "Epoch 6/1000\n",
      "49/49 [==============================] - 11s 220ms/step - loss: 1881.3016 - val_loss: 10042.6211 - _timestamp: 1654088394.0000 - _runtime: 303.0000\n",
      "Epoch 7/1000\n",
      "49/49 [==============================] - ETA: 0s - loss: 1320.4993"
     ]
    },
    {
     "name": "stderr",
     "output_type": "stream",
     "text": [
      "WARNING:absl:Found untraced functions such as lstm_cell_6_layer_call_fn, lstm_cell_6_layer_call_and_return_conditional_losses, lstm_cell_7_layer_call_fn, lstm_cell_7_layer_call_and_return_conditional_losses while saving (showing 4 of 4). These functions will not be directly callable after loading.\n"
     ]
    },
    {
     "name": "stdout",
     "output_type": "stream",
     "text": [
      "INFO:tensorflow:Assets written to: ../model/demand_forecasting/assets\n"
     ]
    },
    {
     "name": "stderr",
     "output_type": "stream",
     "text": [
      "INFO:tensorflow:Assets written to: ../model/demand_forecasting/assets\n",
      "WARNING:absl:<keras.layers.recurrent.LSTMCell object at 0x7f3bb91f7340> has the same name 'LSTMCell' as a built-in Keras object. Consider renaming <class 'keras.layers.recurrent.LSTMCell'> to avoid naming conflicts when loading with `tf.keras.models.load_model`. If renaming is not possible, pass the object in the `custom_objects` parameter of the load function.\n",
      "WARNING:absl:<keras.layers.recurrent.LSTMCell object at 0x7f3bb9182130> has the same name 'LSTMCell' as a built-in Keras object. Consider renaming <class 'keras.layers.recurrent.LSTMCell'> to avoid naming conflicts when loading with `tf.keras.models.load_model`. If renaming is not possible, pass the object in the `custom_objects` parameter of the load function.\n"
     ]
    },
    {
     "name": "stdout",
     "output_type": "stream",
     "text": [
      "49/49 [==============================] - 16s 329ms/step - loss: 1320.4993 - val_loss: 4019.6628 - _timestamp: 1654088410.0000 - _runtime: 319.0000\n",
      "Epoch 8/1000\n",
      "49/49 [==============================] - ETA: 0s - loss: 855.9359"
     ]
    },
    {
     "name": "stderr",
     "output_type": "stream",
     "text": [
      "WARNING:absl:Found untraced functions such as lstm_cell_6_layer_call_fn, lstm_cell_6_layer_call_and_return_conditional_losses, lstm_cell_7_layer_call_fn, lstm_cell_7_layer_call_and_return_conditional_losses while saving (showing 4 of 4). These functions will not be directly callable after loading.\n"
     ]
    },
    {
     "name": "stdout",
     "output_type": "stream",
     "text": [
      "INFO:tensorflow:Assets written to: ../model/demand_forecasting/assets\n"
     ]
    },
    {
     "name": "stderr",
     "output_type": "stream",
     "text": [
      "INFO:tensorflow:Assets written to: ../model/demand_forecasting/assets\n",
      "WARNING:absl:<keras.layers.recurrent.LSTMCell object at 0x7f3bb91f7340> has the same name 'LSTMCell' as a built-in Keras object. Consider renaming <class 'keras.layers.recurrent.LSTMCell'> to avoid naming conflicts when loading with `tf.keras.models.load_model`. If renaming is not possible, pass the object in the `custom_objects` parameter of the load function.\n",
      "WARNING:absl:<keras.layers.recurrent.LSTMCell object at 0x7f3bb9182130> has the same name 'LSTMCell' as a built-in Keras object. Consider renaming <class 'keras.layers.recurrent.LSTMCell'> to avoid naming conflicts when loading with `tf.keras.models.load_model`. If renaming is not possible, pass the object in the `custom_objects` parameter of the load function.\n"
     ]
    },
    {
     "name": "stdout",
     "output_type": "stream",
     "text": [
      "49/49 [==============================] - 20s 410ms/step - loss: 855.9359 - val_loss: 3928.1123 - _timestamp: 1654088426.0000 - _runtime: 335.0000\n",
      "Epoch 9/1000\n",
      "49/49 [==============================] - ETA: 0s - loss: 777.5227"
     ]
    },
    {
     "name": "stderr",
     "output_type": "stream",
     "text": [
      "WARNING:absl:Found untraced functions such as lstm_cell_6_layer_call_fn, lstm_cell_6_layer_call_and_return_conditional_losses, lstm_cell_7_layer_call_fn, lstm_cell_7_layer_call_and_return_conditional_losses while saving (showing 4 of 4). These functions will not be directly callable after loading.\n"
     ]
    },
    {
     "name": "stdout",
     "output_type": "stream",
     "text": [
      "INFO:tensorflow:Assets written to: ../model/demand_forecasting/assets\n"
     ]
    },
    {
     "name": "stderr",
     "output_type": "stream",
     "text": [
      "INFO:tensorflow:Assets written to: ../model/demand_forecasting/assets\n",
      "WARNING:absl:<keras.layers.recurrent.LSTMCell object at 0x7f3bb91f7340> has the same name 'LSTMCell' as a built-in Keras object. Consider renaming <class 'keras.layers.recurrent.LSTMCell'> to avoid naming conflicts when loading with `tf.keras.models.load_model`. If renaming is not possible, pass the object in the `custom_objects` parameter of the load function.\n",
      "WARNING:absl:<keras.layers.recurrent.LSTMCell object at 0x7f3bb9182130> has the same name 'LSTMCell' as a built-in Keras object. Consider renaming <class 'keras.layers.recurrent.LSTMCell'> to avoid naming conflicts when loading with `tf.keras.models.load_model`. If renaming is not possible, pass the object in the `custom_objects` parameter of the load function.\n"
     ]
    },
    {
     "name": "stdout",
     "output_type": "stream",
     "text": [
      "49/49 [==============================] - 20s 418ms/step - loss: 777.5227 - val_loss: 3329.9141 - _timestamp: 1654088448.0000 - _runtime: 357.0000\n",
      "Epoch 10/1000\n",
      "49/49 [==============================] - ETA: 0s - loss: 644.7742"
     ]
    },
    {
     "name": "stderr",
     "output_type": "stream",
     "text": [
      "WARNING:absl:Found untraced functions such as lstm_cell_6_layer_call_fn, lstm_cell_6_layer_call_and_return_conditional_losses, lstm_cell_7_layer_call_fn, lstm_cell_7_layer_call_and_return_conditional_losses while saving (showing 4 of 4). These functions will not be directly callable after loading.\n"
     ]
    },
    {
     "name": "stdout",
     "output_type": "stream",
     "text": [
      "INFO:tensorflow:Assets written to: ../model/demand_forecasting/assets\n"
     ]
    },
    {
     "name": "stderr",
     "output_type": "stream",
     "text": [
      "INFO:tensorflow:Assets written to: ../model/demand_forecasting/assets\n",
      "WARNING:absl:<keras.layers.recurrent.LSTMCell object at 0x7f3bb91f7340> has the same name 'LSTMCell' as a built-in Keras object. Consider renaming <class 'keras.layers.recurrent.LSTMCell'> to avoid naming conflicts when loading with `tf.keras.models.load_model`. If renaming is not possible, pass the object in the `custom_objects` parameter of the load function.\n",
      "WARNING:absl:<keras.layers.recurrent.LSTMCell object at 0x7f3bb9182130> has the same name 'LSTMCell' as a built-in Keras object. Consider renaming <class 'keras.layers.recurrent.LSTMCell'> to avoid naming conflicts when loading with `tf.keras.models.load_model`. If renaming is not possible, pass the object in the `custom_objects` parameter of the load function.\n"
     ]
    },
    {
     "name": "stdout",
     "output_type": "stream",
     "text": [
      "49/49 [==============================] - 28s 582ms/step - loss: 644.7742 - val_loss: 2177.0769 - _timestamp: 1654088469.0000 - _runtime: 378.0000\n",
      "Epoch 11/1000\n",
      "49/49 [==============================] - 11s 206ms/step - loss: 676.0961 - val_loss: 2485.0579 - _timestamp: 1654088511.0000 - _runtime: 420.0000\n",
      "Epoch 12/1000\n",
      "49/49 [==============================] - ETA: 0s - loss: 614.0915"
     ]
    },
    {
     "name": "stderr",
     "output_type": "stream",
     "text": [
      "WARNING:absl:Found untraced functions such as lstm_cell_6_layer_call_fn, lstm_cell_6_layer_call_and_return_conditional_losses, lstm_cell_7_layer_call_fn, lstm_cell_7_layer_call_and_return_conditional_losses while saving (showing 4 of 4). These functions will not be directly callable after loading.\n"
     ]
    },
    {
     "name": "stdout",
     "output_type": "stream",
     "text": [
      "INFO:tensorflow:Assets written to: ../model/demand_forecasting/assets\n"
     ]
    },
    {
     "name": "stderr",
     "output_type": "stream",
     "text": [
      "INFO:tensorflow:Assets written to: ../model/demand_forecasting/assets\n",
      "WARNING:absl:<keras.layers.recurrent.LSTMCell object at 0x7f3bb91f7340> has the same name 'LSTMCell' as a built-in Keras object. Consider renaming <class 'keras.layers.recurrent.LSTMCell'> to avoid naming conflicts when loading with `tf.keras.models.load_model`. If renaming is not possible, pass the object in the `custom_objects` parameter of the load function.\n",
      "WARNING:absl:<keras.layers.recurrent.LSTMCell object at 0x7f3bb9182130> has the same name 'LSTMCell' as a built-in Keras object. Consider renaming <class 'keras.layers.recurrent.LSTMCell'> to avoid naming conflicts when loading with `tf.keras.models.load_model`. If renaming is not possible, pass the object in the `custom_objects` parameter of the load function.\n"
     ]
    },
    {
     "name": "stdout",
     "output_type": "stream",
     "text": [
      "49/49 [==============================] - 25s 524ms/step - loss: 614.0915 - val_loss: 1462.2343 - _timestamp: 1654088521.0000 - _runtime: 430.0000\n",
      "Epoch 13/1000\n",
      "49/49 [==============================] - ETA: 0s - loss: 640.7676"
     ]
    },
    {
     "name": "stderr",
     "output_type": "stream",
     "text": [
      "WARNING:absl:Found untraced functions such as lstm_cell_6_layer_call_fn, lstm_cell_6_layer_call_and_return_conditional_losses, lstm_cell_7_layer_call_fn, lstm_cell_7_layer_call_and_return_conditional_losses while saving (showing 4 of 4). These functions will not be directly callable after loading.\n"
     ]
    },
    {
     "name": "stdout",
     "output_type": "stream",
     "text": [
      "INFO:tensorflow:Assets written to: ../model/demand_forecasting/assets\n"
     ]
    },
    {
     "name": "stderr",
     "output_type": "stream",
     "text": [
      "INFO:tensorflow:Assets written to: ../model/demand_forecasting/assets\n",
      "WARNING:absl:<keras.layers.recurrent.LSTMCell object at 0x7f3bb91f7340> has the same name 'LSTMCell' as a built-in Keras object. Consider renaming <class 'keras.layers.recurrent.LSTMCell'> to avoid naming conflicts when loading with `tf.keras.models.load_model`. If renaming is not possible, pass the object in the `custom_objects` parameter of the load function.\n",
      "WARNING:absl:<keras.layers.recurrent.LSTMCell object at 0x7f3bb9182130> has the same name 'LSTMCell' as a built-in Keras object. Consider renaming <class 'keras.layers.recurrent.LSTMCell'> to avoid naming conflicts when loading with `tf.keras.models.load_model`. If renaming is not possible, pass the object in the `custom_objects` parameter of the load function.\n"
     ]
    },
    {
     "name": "stdout",
     "output_type": "stream",
     "text": [
      "49/49 [==============================] - 27s 549ms/step - loss: 640.7676 - val_loss: 889.8943 - _timestamp: 1654088547.0000 - _runtime: 456.0000\n",
      "Epoch 14/1000\n",
      "49/49 [==============================] - 11s 232ms/step - loss: 546.8864 - val_loss: 1561.4294 - _timestamp: 1654088575.0000 - _runtime: 484.0000\n",
      "Epoch 15/1000\n",
      "49/49 [==============================] - ETA: 0s - loss: 557.8026"
     ]
    },
    {
     "name": "stderr",
     "output_type": "stream",
     "text": [
      "WARNING:absl:Found untraced functions such as lstm_cell_6_layer_call_fn, lstm_cell_6_layer_call_and_return_conditional_losses, lstm_cell_7_layer_call_fn, lstm_cell_7_layer_call_and_return_conditional_losses while saving (showing 4 of 4). These functions will not be directly callable after loading.\n"
     ]
    },
    {
     "name": "stdout",
     "output_type": "stream",
     "text": [
      "INFO:tensorflow:Assets written to: ../model/demand_forecasting/assets\n"
     ]
    },
    {
     "name": "stderr",
     "output_type": "stream",
     "text": [
      "INFO:tensorflow:Assets written to: ../model/demand_forecasting/assets\n",
      "WARNING:absl:<keras.layers.recurrent.LSTMCell object at 0x7f3bb91f7340> has the same name 'LSTMCell' as a built-in Keras object. Consider renaming <class 'keras.layers.recurrent.LSTMCell'> to avoid naming conflicts when loading with `tf.keras.models.load_model`. If renaming is not possible, pass the object in the `custom_objects` parameter of the load function.\n",
      "WARNING:absl:<keras.layers.recurrent.LSTMCell object at 0x7f3bb9182130> has the same name 'LSTMCell' as a built-in Keras object. Consider renaming <class 'keras.layers.recurrent.LSTMCell'> to avoid naming conflicts when loading with `tf.keras.models.load_model`. If renaming is not possible, pass the object in the `custom_objects` parameter of the load function.\n"
     ]
    },
    {
     "name": "stdout",
     "output_type": "stream",
     "text": [
      "49/49 [==============================] - 26s 540ms/step - loss: 557.8026 - val_loss: 676.1052 - _timestamp: 1654088586.0000 - _runtime: 495.0000\n",
      "Epoch 16/1000\n",
      "49/49 [==============================] - ETA: 0s - loss: 491.5044"
     ]
    },
    {
     "name": "stderr",
     "output_type": "stream",
     "text": [
      "WARNING:absl:Found untraced functions such as lstm_cell_6_layer_call_fn, lstm_cell_6_layer_call_and_return_conditional_losses, lstm_cell_7_layer_call_fn, lstm_cell_7_layer_call_and_return_conditional_losses while saving (showing 4 of 4). These functions will not be directly callable after loading.\n"
     ]
    },
    {
     "name": "stdout",
     "output_type": "stream",
     "text": [
      "INFO:tensorflow:Assets written to: ../model/demand_forecasting/assets\n"
     ]
    },
    {
     "name": "stderr",
     "output_type": "stream",
     "text": [
      "INFO:tensorflow:Assets written to: ../model/demand_forecasting/assets\n",
      "WARNING:absl:<keras.layers.recurrent.LSTMCell object at 0x7f3bb91f7340> has the same name 'LSTMCell' as a built-in Keras object. Consider renaming <class 'keras.layers.recurrent.LSTMCell'> to avoid naming conflicts when loading with `tf.keras.models.load_model`. If renaming is not possible, pass the object in the `custom_objects` parameter of the load function.\n",
      "WARNING:absl:<keras.layers.recurrent.LSTMCell object at 0x7f3bb9182130> has the same name 'LSTMCell' as a built-in Keras object. Consider renaming <class 'keras.layers.recurrent.LSTMCell'> to avoid naming conflicts when loading with `tf.keras.models.load_model`. If renaming is not possible, pass the object in the `custom_objects` parameter of the load function.\n"
     ]
    },
    {
     "name": "stdout",
     "output_type": "stream",
     "text": [
      "49/49 [==============================] - 24s 504ms/step - loss: 491.5044 - val_loss: 591.1827 - _timestamp: 1654088626.0000 - _runtime: 535.0000\n",
      "Epoch 17/1000\n",
      "49/49 [==============================] - 8s 170ms/step - loss: 571.3226 - val_loss: 1097.7404 - _timestamp: 1654088649.0000 - _runtime: 558.0000\n",
      "Epoch 18/1000\n",
      "49/49 [==============================] - 8s 151ms/step - loss: 449.9681 - val_loss: 1324.3972 - _timestamp: 1654088656.0000 - _runtime: 565.0000\n",
      "Epoch 19/1000\n",
      "49/49 [==============================] - ETA: 0s - loss: 451.1951"
     ]
    },
    {
     "name": "stderr",
     "output_type": "stream",
     "text": [
      "WARNING:absl:Found untraced functions such as lstm_cell_6_layer_call_fn, lstm_cell_6_layer_call_and_return_conditional_losses, lstm_cell_7_layer_call_fn, lstm_cell_7_layer_call_and_return_conditional_losses while saving (showing 4 of 4). These functions will not be directly callable after loading.\n"
     ]
    },
    {
     "name": "stdout",
     "output_type": "stream",
     "text": [
      "INFO:tensorflow:Assets written to: ../model/demand_forecasting/assets\n"
     ]
    },
    {
     "name": "stderr",
     "output_type": "stream",
     "text": [
      "INFO:tensorflow:Assets written to: ../model/demand_forecasting/assets\n",
      "WARNING:absl:<keras.layers.recurrent.LSTMCell object at 0x7f3bb91f7340> has the same name 'LSTMCell' as a built-in Keras object. Consider renaming <class 'keras.layers.recurrent.LSTMCell'> to avoid naming conflicts when loading with `tf.keras.models.load_model`. If renaming is not possible, pass the object in the `custom_objects` parameter of the load function.\n",
      "WARNING:absl:<keras.layers.recurrent.LSTMCell object at 0x7f3bb9182130> has the same name 'LSTMCell' as a built-in Keras object. Consider renaming <class 'keras.layers.recurrent.LSTMCell'> to avoid naming conflicts when loading with `tf.keras.models.load_model`. If renaming is not possible, pass the object in the `custom_objects` parameter of the load function.\n"
     ]
    },
    {
     "name": "stdout",
     "output_type": "stream",
     "text": [
      "49/49 [==============================] - 19s 383ms/step - loss: 451.1951 - val_loss: 512.2059 - _timestamp: 1654088664.0000 - _runtime: 573.0000\n",
      "Epoch 20/1000\n",
      "49/49 [==============================] - 10s 200ms/step - loss: 471.2496 - val_loss: 837.8433 - _timestamp: 1654088687.0000 - _runtime: 596.0000\n",
      "Epoch 21/1000\n",
      "49/49 [==============================] - 8s 171ms/step - loss: 496.8662 - val_loss: 3375.1006 - _timestamp: 1654088695.0000 - _runtime: 604.0000\n",
      "Epoch 22/1000\n",
      "49/49 [==============================] - 10s 210ms/step - loss: 531.9800 - val_loss: 1715.1858 - _timestamp: 1654088705.0000 - _runtime: 614.0000\n",
      "Epoch 23/1000\n",
      "49/49 [==============================] - 9s 174ms/step - loss: 472.3253 - val_loss: 1185.5100 - _timestamp: 1654088714.0000 - _runtime: 623.0000\n",
      "Epoch 24/1000\n",
      "49/49 [==============================] - 10s 202ms/step - loss: 424.1308 - val_loss: 726.4846 - _timestamp: 1654088724.0000 - _runtime: 633.0000\n",
      "Epoch 25/1000\n",
      "49/49 [==============================] - 9s 193ms/step - loss: 436.0961 - val_loss: 818.0766 - _timestamp: 1654088733.0000 - _runtime: 642.0000\n",
      "Epoch 26/1000\n",
      "49/49 [==============================] - 9s 172ms/step - loss: 523.9221 - val_loss: 720.8611 - _timestamp: 1654088742.0000 - _runtime: 651.0000\n",
      "Epoch 27/1000\n",
      "49/49 [==============================] - 8s 173ms/step - loss: 499.4391 - val_loss: 2468.3271 - _timestamp: 1654088751.0000 - _runtime: 660.0000\n",
      "Epoch 28/1000\n",
      "49/49 [==============================] - 9s 194ms/step - loss: 513.7509 - val_loss: 2037.8242 - _timestamp: 1654088760.0000 - _runtime: 669.0000\n",
      "Epoch 29/1000\n",
      "49/49 [==============================] - 8s 156ms/step - loss: 418.1672 - val_loss: 2180.6533 - _timestamp: 1654088768.0000 - _runtime: 677.0000\n",
      "Epoch 30/1000\n",
      "49/49 [==============================] - 9s 175ms/step - loss: 415.0510 - val_loss: 851.4425 - _timestamp: 1654088776.0000 - _runtime: 685.0000\n",
      "Epoch 31/1000\n",
      "49/49 [==============================] - 7s 139ms/step - loss: 337.6057 - val_loss: 972.2106 - _timestamp: 1654088783.0000 - _runtime: 692.0000\n",
      "Epoch 32/1000\n",
      "49/49 [==============================] - ETA: 0s - loss: 451.8479"
     ]
    },
    {
     "name": "stderr",
     "output_type": "stream",
     "text": [
      "WARNING:absl:Found untraced functions such as lstm_cell_6_layer_call_fn, lstm_cell_6_layer_call_and_return_conditional_losses, lstm_cell_7_layer_call_fn, lstm_cell_7_layer_call_and_return_conditional_losses while saving (showing 4 of 4). These functions will not be directly callable after loading.\n"
     ]
    },
    {
     "name": "stdout",
     "output_type": "stream",
     "text": [
      "INFO:tensorflow:Assets written to: ../model/demand_forecasting/assets\n"
     ]
    },
    {
     "name": "stderr",
     "output_type": "stream",
     "text": [
      "INFO:tensorflow:Assets written to: ../model/demand_forecasting/assets\n",
      "WARNING:absl:<keras.layers.recurrent.LSTMCell object at 0x7f3bb91f7340> has the same name 'LSTMCell' as a built-in Keras object. Consider renaming <class 'keras.layers.recurrent.LSTMCell'> to avoid naming conflicts when loading with `tf.keras.models.load_model`. If renaming is not possible, pass the object in the `custom_objects` parameter of the load function.\n",
      "WARNING:absl:<keras.layers.recurrent.LSTMCell object at 0x7f3bb9182130> has the same name 'LSTMCell' as a built-in Keras object. Consider renaming <class 'keras.layers.recurrent.LSTMCell'> to avoid naming conflicts when loading with `tf.keras.models.load_model`. If renaming is not possible, pass the object in the `custom_objects` parameter of the load function.\n"
     ]
    },
    {
     "name": "stdout",
     "output_type": "stream",
     "text": [
      "49/49 [==============================] - 21s 440ms/step - loss: 451.8479 - val_loss: 484.5782 - _timestamp: 1654088792.0000 - _runtime: 701.0000\n",
      "Epoch 33/1000\n",
      "49/49 [==============================] - ETA: 0s - loss: 393.3965"
     ]
    },
    {
     "name": "stderr",
     "output_type": "stream",
     "text": [
      "WARNING:absl:Found untraced functions such as lstm_cell_6_layer_call_fn, lstm_cell_6_layer_call_and_return_conditional_losses, lstm_cell_7_layer_call_fn, lstm_cell_7_layer_call_and_return_conditional_losses while saving (showing 4 of 4). These functions will not be directly callable after loading.\n"
     ]
    },
    {
     "name": "stdout",
     "output_type": "stream",
     "text": [
      "INFO:tensorflow:Assets written to: ../model/demand_forecasting/assets\n"
     ]
    },
    {
     "name": "stderr",
     "output_type": "stream",
     "text": [
      "INFO:tensorflow:Assets written to: ../model/demand_forecasting/assets\n",
      "WARNING:absl:<keras.layers.recurrent.LSTMCell object at 0x7f3bb91f7340> has the same name 'LSTMCell' as a built-in Keras object. Consider renaming <class 'keras.layers.recurrent.LSTMCell'> to avoid naming conflicts when loading with `tf.keras.models.load_model`. If renaming is not possible, pass the object in the `custom_objects` parameter of the load function.\n",
      "WARNING:absl:<keras.layers.recurrent.LSTMCell object at 0x7f3bb9182130> has the same name 'LSTMCell' as a built-in Keras object. Consider renaming <class 'keras.layers.recurrent.LSTMCell'> to avoid naming conflicts when loading with `tf.keras.models.load_model`. If renaming is not possible, pass the object in the `custom_objects` parameter of the load function.\n"
     ]
    },
    {
     "name": "stdout",
     "output_type": "stream",
     "text": [
      "49/49 [==============================] - 25s 509ms/step - loss: 393.3965 - val_loss: 389.1769 - _timestamp: 1654088815.0000 - _runtime: 724.0000\n",
      "Epoch 34/1000\n",
      "49/49 [==============================] - 11s 222ms/step - loss: 468.3815 - val_loss: 501.4390 - _timestamp: 1654088840.0000 - _runtime: 749.0000\n",
      "Epoch 35/1000\n",
      "49/49 [==============================] - 8s 165ms/step - loss: 599.4254 - val_loss: 2655.7368 - _timestamp: 1654088848.0000 - _runtime: 757.0000\n",
      "Epoch 36/1000\n",
      "49/49 [==============================] - 7s 151ms/step - loss: 517.5475 - val_loss: 2101.4744 - _timestamp: 1654088856.0000 - _runtime: 765.0000\n",
      "Epoch 37/1000\n",
      "49/49 [==============================] - 8s 157ms/step - loss: 464.9200 - val_loss: 1122.2970 - _timestamp: 1654088864.0000 - _runtime: 773.0000\n",
      "Epoch 38/1000\n",
      "49/49 [==============================] - 7s 152ms/step - loss: 352.3297 - val_loss: 907.3870 - _timestamp: 1654088871.0000 - _runtime: 780.0000\n",
      "Epoch 39/1000\n",
      "49/49 [==============================] - 8s 161ms/step - loss: 320.9933 - val_loss: 682.7946 - _timestamp: 1654088879.0000 - _runtime: 788.0000\n",
      "Epoch 40/1000\n",
      "49/49 [==============================] - 8s 162ms/step - loss: 359.5642 - val_loss: 695.3969 - _timestamp: 1654088887.0000 - _runtime: 796.0000\n",
      "Epoch 41/1000\n",
      "49/49 [==============================] - 9s 172ms/step - loss: 721.8397 - val_loss: 1652.0507 - _timestamp: 1654088896.0000 - _runtime: 805.0000\n",
      "Epoch 42/1000\n",
      "49/49 [==============================] - 26s 539ms/step - loss: 579.9625 - val_loss: 4262.2158 - _timestamp: 1654088922.0000 - _runtime: 831.0000\n",
      "Epoch 43/1000\n",
      "49/49 [==============================] - 7s 145ms/step - loss: 568.4794 - val_loss: 2915.2957 - _timestamp: 1654088929.0000 - _runtime: 838.0000\n",
      "Epoch 44/1000\n",
      "49/49 [==============================] - 7s 143ms/step - loss: 421.2144 - val_loss: 1664.9891 - _timestamp: 1654088936.0000 - _runtime: 845.0000\n",
      "Epoch 45/1000\n",
      "49/49 [==============================] - 8s 170ms/step - loss: 461.7572 - val_loss: 1931.0610 - _timestamp: 1654088944.0000 - _runtime: 853.0000\n",
      "Epoch 46/1000\n",
      "49/49 [==============================] - 8s 158ms/step - loss: 377.3413 - val_loss: 1939.7449 - _timestamp: 1654088952.0000 - _runtime: 861.0000\n",
      "Epoch 47/1000\n",
      "49/49 [==============================] - 7s 146ms/step - loss: 435.7390 - val_loss: 946.2618 - _timestamp: 1654088959.0000 - _runtime: 868.0000\n",
      "Epoch 48/1000\n",
      "49/49 [==============================] - 7s 135ms/step - loss: 415.1562 - val_loss: 693.0087 - _timestamp: 1654088966.0000 - _runtime: 875.0000\n",
      "Epoch 49/1000\n",
      "49/49 [==============================] - 7s 139ms/step - loss: 514.7462 - val_loss: 1176.9669 - _timestamp: 1654088973.0000 - _runtime: 882.0000\n",
      "Epoch 50/1000\n",
      "49/49 [==============================] - 7s 134ms/step - loss: 421.3447 - val_loss: 1002.8177 - _timestamp: 1654088980.0000 - _runtime: 889.0000\n",
      "Epoch 51/1000\n",
      "49/49 [==============================] - 7s 136ms/step - loss: 432.0779 - val_loss: 958.9830 - _timestamp: 1654088986.0000 - _runtime: 895.0000\n",
      "Epoch 52/1000\n",
      "49/49 [==============================] - 7s 136ms/step - loss: 546.2292 - val_loss: 1297.9967 - _timestamp: 1654088993.0000 - _runtime: 902.0000\n",
      "Epoch 53/1000\n",
      "49/49 [==============================] - 6s 132ms/step - loss: 536.3487 - val_loss: 1616.9067 - _timestamp: 1654089000.0000 - _runtime: 909.0000\n",
      "Epoch 54/1000\n",
      "49/49 [==============================] - 7s 136ms/step - loss: 403.3487 - val_loss: 566.7119 - _timestamp: 1654089006.0000 - _runtime: 915.0000\n",
      "Epoch 55/1000\n",
      "49/49 [==============================] - 7s 135ms/step - loss: 516.0143 - val_loss: 648.0624 - _timestamp: 1654089013.0000 - _runtime: 922.0000\n",
      "Epoch 56/1000\n",
      "49/49 [==============================] - 7s 133ms/step - loss: 403.9638 - val_loss: 1320.4623 - _timestamp: 1654089020.0000 - _runtime: 929.0000\n",
      "Epoch 57/1000\n",
      "49/49 [==============================] - 8s 161ms/step - loss: 446.6919 - val_loss: 1274.2581 - _timestamp: 1654089028.0000 - _runtime: 937.0000\n",
      "Epoch 58/1000\n",
      "49/49 [==============================] - 11s 223ms/step - loss: 473.7917 - val_loss: 2010.4508 - _timestamp: 1654089038.0000 - _runtime: 947.0000\n",
      "Epoch 59/1000\n",
      "49/49 [==============================] - 10s 210ms/step - loss: 364.6208 - val_loss: 1211.6940 - _timestamp: 1654089049.0000 - _runtime: 958.0000\n",
      "Epoch 60/1000\n",
      "49/49 [==============================] - 10s 201ms/step - loss: 359.1113 - val_loss: 712.6316 - _timestamp: 1654089059.0000 - _runtime: 968.0000\n",
      "Epoch 61/1000\n",
      "49/49 [==============================] - 9s 178ms/step - loss: 508.2123 - val_loss: 3173.0659 - _timestamp: 1654089068.0000 - _runtime: 977.0000\n",
      "Epoch 62/1000\n",
      "49/49 [==============================] - 9s 177ms/step - loss: 451.4274 - val_loss: 1996.9598 - _timestamp: 1654089078.0000 - _runtime: 987.0000\n",
      "Epoch 63/1000\n",
      "49/49 [==============================] - 11s 217ms/step - loss: 333.2072 - val_loss: 2046.9247 - _timestamp: 1654089088.0000 - _runtime: 997.0000\n",
      "Epoch 64/1000\n",
      "49/49 [==============================] - 10s 204ms/step - loss: 449.6402 - val_loss: 964.1652 - _timestamp: 1654089108.0000 - _runtime: 1017.0000\n",
      "Epoch 65/1000\n",
      "49/49 [==============================] - 8s 167ms/step - loss: 431.6304 - val_loss: 939.1100 - _timestamp: 1654089117.0000 - _runtime: 1026.0000\n",
      "Epoch 66/1000\n",
      "49/49 [==============================] - 9s 175ms/step - loss: 411.8438 - val_loss: 801.5570 - _timestamp: 1654089125.0000 - _runtime: 1034.0000\n",
      "Epoch 67/1000\n",
      "49/49 [==============================] - 7s 149ms/step - loss: 357.2274 - val_loss: 908.6068 - _timestamp: 1654089133.0000 - _runtime: 1042.0000\n",
      "Epoch 68/1000\n",
      "49/49 [==============================] - 8s 159ms/step - loss: 361.5477 - val_loss: 2039.2893 - _timestamp: 1654089144.0000 - _runtime: 1053.0000\n",
      "Epoch 69/1000\n",
      "49/49 [==============================] - 8s 172ms/step - loss: 362.5004 - val_loss: 1670.3303 - _timestamp: 1654089152.0000 - _runtime: 1061.0000\n",
      "Epoch 70/1000\n",
      "49/49 [==============================] - 12s 236ms/step - loss: 353.1927 - val_loss: 1133.4850 - _timestamp: 1654089166.0000 - _runtime: 1075.0000\n",
      "Epoch 71/1000\n",
      "49/49 [==============================] - 9s 191ms/step - loss: 408.8570 - val_loss: 3683.3967 - _timestamp: 1654089175.0000 - _runtime: 1084.0000\n",
      "Epoch 72/1000\n",
      "49/49 [==============================] - 9s 191ms/step - loss: 335.6090 - val_loss: 2607.3816 - _timestamp: 1654089185.0000 - _runtime: 1094.0000\n",
      "Epoch 73/1000\n",
      "49/49 [==============================] - 10s 196ms/step - loss: 386.6482 - val_loss: 1293.2084 - _timestamp: 1654089194.0000 - _runtime: 1103.0000\n",
      "Epoch 74/1000\n",
      "49/49 [==============================] - 8s 166ms/step - loss: 382.9569 - val_loss: 1699.5364 - _timestamp: 1654089202.0000 - _runtime: 1111.0000\n",
      "Epoch 75/1000\n",
      "49/49 [==============================] - 8s 169ms/step - loss: 405.2104 - val_loss: 1664.0593 - _timestamp: 1654089211.0000 - _runtime: 1120.0000\n",
      "Epoch 76/1000\n",
      "49/49 [==============================] - 9s 179ms/step - loss: 479.3683 - val_loss: 2585.9377 - _timestamp: 1654089220.0000 - _runtime: 1129.0000\n",
      "Epoch 77/1000\n",
      "49/49 [==============================] - 9s 178ms/step - loss: 421.9864 - val_loss: 2389.3350 - _timestamp: 1654089228.0000 - _runtime: 1137.0000\n",
      "Epoch 78/1000\n",
      "49/49 [==============================] - 9s 175ms/step - loss: 381.3461 - val_loss: 1619.8168 - _timestamp: 1654089237.0000 - _runtime: 1146.0000\n",
      "Epoch 79/1000\n",
      "49/49 [==============================] - 11s 219ms/step - loss: 494.8486 - val_loss: 980.2213 - _timestamp: 1654089249.0000 - _runtime: 1158.0000\n",
      "Epoch 80/1000\n",
      "49/49 [==============================] - 9s 186ms/step - loss: 401.7936 - val_loss: 1396.5988 - _timestamp: 1654089268.0000 - _runtime: 1177.0000\n",
      "Epoch 81/1000\n",
      "49/49 [==============================] - 7s 137ms/step - loss: 427.0341 - val_loss: 723.1143 - _timestamp: 1654089275.0000 - _runtime: 1184.0000\n",
      "Epoch 82/1000\n",
      "49/49 [==============================] - 7s 136ms/step - loss: 379.8370 - val_loss: 1090.8677 - _timestamp: 1654089282.0000 - _runtime: 1191.0000\n",
      "Epoch 83/1000\n",
      "49/49 [==============================] - 9s 179ms/step - loss: 417.1083 - val_loss: 1924.3568 - _timestamp: 1654089291.0000 - _runtime: 1200.0000\n",
      "Epoch 84/1000\n",
      "49/49 [==============================] - 8s 171ms/step - loss: 500.0355 - val_loss: 952.8136 - _timestamp: 1654089299.0000 - _runtime: 1208.0000\n"
     ]
    },
    {
     "name": "stdout",
     "output_type": "stream",
     "text": [
      "Epoch 85/1000\n",
      "49/49 [==============================] - 9s 183ms/step - loss: 378.0971 - val_loss: 1645.4600 - _timestamp: 1654089310.0000 - _runtime: 1219.0000\n",
      "Epoch 86/1000\n",
      "49/49 [==============================] - 10s 200ms/step - loss: 329.6339 - val_loss: 1231.8997 - _timestamp: 1654089320.0000 - _runtime: 1229.0000\n",
      "Epoch 87/1000\n",
      "49/49 [==============================] - 12s 236ms/step - loss: 286.7221 - val_loss: 846.2460 - _timestamp: 1654089331.0000 - _runtime: 1240.0000\n",
      "Epoch 88/1000\n",
      "49/49 [==============================] - 11s 232ms/step - loss: 418.6747 - val_loss: 983.7746 - _timestamp: 1654089343.0000 - _runtime: 1252.0000\n",
      "Epoch 89/1000\n",
      "49/49 [==============================] - 13s 264ms/step - loss: 381.2893 - val_loss: 1108.6313 - _timestamp: 1654089356.0000 - _runtime: 1265.0000\n",
      "Epoch 90/1000\n",
      "49/49 [==============================] - 14s 277ms/step - loss: 389.4206 - val_loss: 839.2575 - _timestamp: 1654089370.0000 - _runtime: 1279.0000\n",
      "Epoch 91/1000\n",
      "49/49 [==============================] - 10s 208ms/step - loss: 372.5091 - val_loss: 905.0812 - _timestamp: 1654089380.0000 - _runtime: 1289.0000\n",
      "Epoch 92/1000\n",
      "49/49 [==============================] - 12s 252ms/step - loss: 377.0290 - val_loss: 797.6282 - _timestamp: 1654089392.0000 - _runtime: 1301.0000\n",
      "Epoch 93/1000\n",
      "49/49 [==============================] - 13s 255ms/step - loss: 300.9532 - val_loss: 904.9528 - _timestamp: 1654089405.0000 - _runtime: 1314.0000\n",
      "Epoch 94/1000\n",
      "49/49 [==============================] - 13s 273ms/step - loss: 371.2798 - val_loss: 548.1134 - _timestamp: 1654089418.0000 - _runtime: 1327.0000\n",
      "Epoch 95/1000\n",
      "49/49 [==============================] - 13s 262ms/step - loss: 389.6820 - val_loss: 1811.0386 - _timestamp: 1654089431.0000 - _runtime: 1340.0000\n",
      "Epoch 96/1000\n",
      "49/49 [==============================] - 12s 234ms/step - loss: 416.4309 - val_loss: 1996.6234 - _timestamp: 1654089443.0000 - _runtime: 1352.0000\n",
      "Epoch 97/1000\n",
      "49/49 [==============================] - 12s 251ms/step - loss: 362.6459 - val_loss: 1516.6066 - _timestamp: 1654089455.0000 - _runtime: 1364.0000\n",
      "Epoch 98/1000\n",
      "49/49 [==============================] - 8s 164ms/step - loss: 321.7466 - val_loss: 1648.1261 - _timestamp: 1654089472.0000 - _runtime: 1381.0000\n",
      "Epoch 99/1000\n",
      "49/49 [==============================] - 12s 239ms/step - loss: 330.8190 - val_loss: 1235.3438 - _timestamp: 1654089483.0000 - _runtime: 1392.0000\n",
      "Epoch 100/1000\n",
      "49/49 [==============================] - 13s 265ms/step - loss: 363.5290 - val_loss: 796.6646 - _timestamp: 1654089496.0000 - _runtime: 1405.0000\n",
      "Epoch 101/1000\n",
      "49/49 [==============================] - 11s 230ms/step - loss: 403.2428 - val_loss: 1648.7865 - _timestamp: 1654089515.0000 - _runtime: 1424.0000\n",
      "Epoch 102/1000\n",
      "49/49 [==============================] - 13s 258ms/step - loss: 382.9099 - val_loss: 547.9919 - _timestamp: 1654089528.0000 - _runtime: 1437.0000\n",
      "Epoch 103/1000\n",
      "49/49 [==============================] - 13s 270ms/step - loss: 345.3571 - val_loss: 562.5322 - _timestamp: 1654089541.0000 - _runtime: 1450.0000\n",
      "Epoch 104/1000\n",
      "49/49 [==============================] - 10s 205ms/step - loss: 375.7594 - val_loss: 584.6706 - _timestamp: 1654089551.0000 - _runtime: 1460.0000\n",
      "Epoch 105/1000\n",
      "49/49 [==============================] - 10s 210ms/step - loss: 264.9963 - val_loss: 517.6354 - _timestamp: 1654089561.0000 - _runtime: 1470.0000\n",
      "Epoch 106/1000\n",
      "49/49 [==============================] - 10s 202ms/step - loss: 310.8579 - val_loss: 989.7214 - _timestamp: 1654089572.0000 - _runtime: 1481.0000\n",
      "Epoch 107/1000\n",
      "49/49 [==============================] - 10s 204ms/step - loss: 383.6909 - val_loss: 1370.0751 - _timestamp: 1654089582.0000 - _runtime: 1491.0000\n",
      "Epoch 108/1000\n",
      "49/49 [==============================] - 11s 221ms/step - loss: 354.3177 - val_loss: 960.4462 - _timestamp: 1654089593.0000 - _runtime: 1502.0000\n",
      "Epoch 109/1000\n",
      "49/49 [==============================] - 11s 220ms/step - loss: 361.1286 - val_loss: 1917.1066 - _timestamp: 1654089613.0000 - _runtime: 1522.0000\n",
      "Epoch 110/1000\n",
      "49/49 [==============================] - 11s 218ms/step - loss: 327.6170 - val_loss: 1021.6000 - _timestamp: 1654089634.0000 - _runtime: 1543.0000\n",
      "Epoch 111/1000\n",
      "49/49 [==============================] - 10s 210ms/step - loss: 368.1852 - val_loss: 1359.6013 - _timestamp: 1654089644.0000 - _runtime: 1553.0000\n",
      "Epoch 112/1000\n",
      "49/49 [==============================] - 11s 215ms/step - loss: 346.4863 - val_loss: 1024.4904 - _timestamp: 1654089655.0000 - _runtime: 1564.0000\n",
      "Epoch 113/1000\n",
      "49/49 [==============================] - 10s 211ms/step - loss: 348.5323 - val_loss: 649.2113 - _timestamp: 1654089665.0000 - _runtime: 1574.0000\n",
      "Epoch 114/1000\n",
      "49/49 [==============================] - 10s 210ms/step - loss: 385.3901 - val_loss: 1746.8774 - _timestamp: 1654089675.0000 - _runtime: 1584.0000\n",
      "Epoch 115/1000\n",
      "49/49 [==============================] - 10s 204ms/step - loss: 325.7997 - val_loss: 990.2972 - _timestamp: 1654089685.0000 - _runtime: 1594.0000\n",
      "Epoch 116/1000\n",
      "49/49 [==============================] - 11s 216ms/step - loss: 346.2018 - val_loss: 792.7162 - _timestamp: 1654089696.0000 - _runtime: 1605.0000\n",
      "Epoch 117/1000\n",
      "49/49 [==============================] - 11s 217ms/step - loss: 311.8500 - val_loss: 721.9327 - _timestamp: 1654089707.0000 - _runtime: 1616.0000\n",
      "Epoch 118/1000\n",
      "49/49 [==============================] - 10s 200ms/step - loss: 363.0936 - val_loss: 599.4534 - _timestamp: 1654089727.0000 - _runtime: 1636.0000\n",
      "Epoch 119/1000\n",
      "49/49 [==============================] - 9s 173ms/step - loss: 369.0959 - val_loss: 2425.1843 - _timestamp: 1654089735.0000 - _runtime: 1644.0000\n",
      "Epoch 120/1000\n",
      "49/49 [==============================] - 7s 142ms/step - loss: 373.0306 - val_loss: 767.1605 - _timestamp: 1654089742.0000 - _runtime: 1651.0000\n",
      "Epoch 121/1000\n",
      "49/49 [==============================] - 7s 138ms/step - loss: 285.7558 - val_loss: 1320.7351 - _timestamp: 1654089749.0000 - _runtime: 1658.0000\n",
      "Epoch 122/1000\n",
      "49/49 [==============================] - 11s 222ms/step - loss: 263.3360 - val_loss: 569.1043 - _timestamp: 1654089760.0000 - _runtime: 1669.0000\n",
      "Epoch 123/1000\n",
      "49/49 [==============================] - 10s 198ms/step - loss: 312.9894 - val_loss: 667.6078 - _timestamp: 1654089779.0000 - _runtime: 1688.0000\n",
      "Epoch 124/1000\n",
      "49/49 [==============================] - 10s 206ms/step - loss: 378.4340 - val_loss: 3075.8113 - _timestamp: 1654089789.0000 - _runtime: 1698.0000\n",
      "Epoch 125/1000\n",
      "49/49 [==============================] - 15s 305ms/step - loss: 789.6166 - val_loss: 1872.9209 - _timestamp: 1654089804.0000 - _runtime: 1713.0000\n",
      "Epoch 126/1000\n",
      "49/49 [==============================] - 17s 335ms/step - loss: 980.4540 - val_loss: 6316.1255 - _timestamp: 1654089827.0000 - _runtime: 1736.0000\n",
      "Epoch 127/1000\n",
      "49/49 [==============================] - 16s 317ms/step - loss: 577.7890 - val_loss: 4989.7524 - _timestamp: 1654089842.0000 - _runtime: 1751.0000\n",
      "Epoch 128/1000\n",
      "49/49 [==============================] - 16s 317ms/step - loss: 519.1353 - val_loss: 2283.6438 - _timestamp: 1654089858.0000 - _runtime: 1767.0000\n",
      "Epoch 129/1000\n",
      "49/49 [==============================] - 15s 303ms/step - loss: 361.6875 - val_loss: 1668.0891 - _timestamp: 1654089873.0000 - _runtime: 1782.0000\n",
      "Epoch 130/1000\n",
      "49/49 [==============================] - 15s 315ms/step - loss: 373.1270 - val_loss: 1050.0315 - _timestamp: 1654089888.0000 - _runtime: 1797.0000\n",
      "Epoch 131/1000\n",
      "49/49 [==============================] - 15s 308ms/step - loss: 412.0014 - val_loss: 1650.1696 - _timestamp: 1654089909.0000 - _runtime: 1818.0000\n",
      "Epoch 132/1000\n",
      "49/49 [==============================] - 16s 319ms/step - loss: 409.3687 - val_loss: 1621.8744 - _timestamp: 1654089924.0000 - _runtime: 1833.0000\n",
      "Epoch 133/1000\n",
      "49/49 [==============================] - 16s 323ms/step - loss: 379.9969 - val_loss: 2468.4272 - _timestamp: 1654089940.0000 - _runtime: 1849.0000\n",
      "Epoch 134/1000\n",
      "49/49 [==============================] - 15s 313ms/step - loss: 426.0590 - val_loss: 1056.1647 - _timestamp: 1654089960.0000 - _runtime: 1869.0000\n",
      "Epoch 135/1000\n",
      "49/49 [==============================] - 15s 314ms/step - loss: 335.4735 - val_loss: 1732.0310 - _timestamp: 1654089976.0000 - _runtime: 1885.0000\n"
     ]
    },
    {
     "name": "stdout",
     "output_type": "stream",
     "text": [
      "Epoch 136/1000\n",
      "49/49 [==============================] - 14s 283ms/step - loss: 417.7411 - val_loss: 2576.4802 - _timestamp: 1654089990.0000 - _runtime: 1899.0000\n",
      "Epoch 137/1000\n",
      "49/49 [==============================] - 8s 173ms/step - loss: 379.3958 - val_loss: 1459.9252 - _timestamp: 1654089998.0000 - _runtime: 1907.0000\n",
      "Epoch 138/1000\n",
      "49/49 [==============================] - 10s 205ms/step - loss: 332.2055 - val_loss: 1831.9457 - _timestamp: 1654090008.0000 - _runtime: 1917.0000\n",
      "Epoch 139/1000\n",
      "49/49 [==============================] - 10s 195ms/step - loss: 326.8945 - val_loss: 2077.3989 - _timestamp: 1654090018.0000 - _runtime: 1927.0000\n",
      "Epoch 140/1000\n",
      "49/49 [==============================] - 9s 191ms/step - loss: 428.3681 - val_loss: 1615.3191 - _timestamp: 1654090027.0000 - _runtime: 1936.0000\n",
      "Epoch 141/1000\n",
      "49/49 [==============================] - 9s 192ms/step - loss: 306.1478 - val_loss: 1193.7096 - _timestamp: 1654090037.0000 - _runtime: 1946.0000\n",
      "Epoch 142/1000\n",
      "49/49 [==============================] - 9s 190ms/step - loss: 433.0823 - val_loss: 1062.9368 - _timestamp: 1654090046.0000 - _runtime: 1955.0000\n",
      "Epoch 143/1000\n",
      "49/49 [==============================] - 10s 198ms/step - loss: 345.7915 - val_loss: 1010.3970 - _timestamp: 1654090056.0000 - _runtime: 1965.0000\n",
      "Epoch 144/1000\n",
      "49/49 [==============================] - 10s 197ms/step - loss: 281.7221 - val_loss: 592.8837 - _timestamp: 1654090066.0000 - _runtime: 1975.0000\n",
      "Epoch 145/1000\n",
      "49/49 [==============================] - 10s 195ms/step - loss: 388.3621 - val_loss: 585.7658 - _timestamp: 1654090076.0000 - _runtime: 1985.0000\n",
      "Epoch 146/1000\n",
      "49/49 [==============================] - 9s 190ms/step - loss: 246.5896 - val_loss: 825.3544 - _timestamp: 1654090085.0000 - _runtime: 1994.0000\n",
      "Epoch 147/1000\n",
      "49/49 [==============================] - 9s 190ms/step - loss: 260.6513 - val_loss: 691.9000 - _timestamp: 1654090094.0000 - _runtime: 2003.0000\n",
      "Epoch 148/1000\n",
      "49/49 [==============================] - 9s 191ms/step - loss: 303.9366 - val_loss: 683.2280 - _timestamp: 1654090104.0000 - _runtime: 2013.0000\n",
      "Epoch 149/1000\n",
      "49/49 [==============================] - 9s 191ms/step - loss: 309.3317 - val_loss: 1259.4425 - _timestamp: 1654090113.0000 - _runtime: 2022.0000\n",
      "Epoch 150/1000\n",
      "49/49 [==============================] - 9s 189ms/step - loss: 410.4193 - val_loss: 2274.7458 - _timestamp: 1654090123.0000 - _runtime: 2032.0000\n",
      "Epoch 151/1000\n",
      "49/49 [==============================] - 9s 191ms/step - loss: 326.0468 - val_loss: 906.2322 - _timestamp: 1654090134.0000 - _runtime: 2043.0000\n",
      "Epoch 152/1000\n",
      "49/49 [==============================] - 10s 196ms/step - loss: 351.6315 - val_loss: 989.9919 - _timestamp: 1654090144.0000 - _runtime: 2053.0000\n",
      "Epoch 153/1000\n",
      "49/49 [==============================] - 9s 194ms/step - loss: 325.9554 - val_loss: 1181.6324 - _timestamp: 1654090154.0000 - _runtime: 2063.0000\n",
      "Epoch 154/1000\n",
      "49/49 [==============================] - 10s 195ms/step - loss: 306.5953 - val_loss: 1433.5582 - _timestamp: 1654090164.0000 - _runtime: 2073.0000\n",
      "Epoch 155/1000\n",
      "49/49 [==============================] - 10s 196ms/step - loss: 337.4271 - val_loss: 1328.1858 - _timestamp: 1654090174.0000 - _runtime: 2083.0000\n",
      "Epoch 156/1000\n",
      "49/49 [==============================] - 9s 190ms/step - loss: 403.4833 - val_loss: 1530.9987 - _timestamp: 1654090183.0000 - _runtime: 2092.0000\n",
      "Epoch 157/1000\n",
      "49/49 [==============================] - 9s 191ms/step - loss: 381.9525 - val_loss: 708.3731 - _timestamp: 1654090193.0000 - _runtime: 2102.0000\n",
      "Epoch 158/1000\n",
      "49/49 [==============================] - 10s 198ms/step - loss: 362.7080 - val_loss: 493.7298 - _timestamp: 1654090202.0000 - _runtime: 2111.0000\n",
      "Epoch 159/1000\n",
      "49/49 [==============================] - 9s 191ms/step - loss: 321.0083 - val_loss: 986.9304 - _timestamp: 1654090212.0000 - _runtime: 2121.0000\n",
      "Epoch 160/1000\n",
      "49/49 [==============================] - 9s 188ms/step - loss: 322.4247 - val_loss: 785.4346 - _timestamp: 1654090221.0000 - _runtime: 2130.0000\n",
      "Epoch 161/1000\n",
      "49/49 [==============================] - 9s 191ms/step - loss: 346.2425 - val_loss: 2353.7778 - _timestamp: 1654090231.0000 - _runtime: 2140.0000\n",
      "Epoch 162/1000\n",
      "49/49 [==============================] - 10s 199ms/step - loss: 353.1401 - val_loss: 472.3810 - _timestamp: 1654090240.0000 - _runtime: 2149.0000\n",
      "Epoch 163/1000\n",
      "49/49 [==============================] - 10s 196ms/step - loss: 322.6107 - val_loss: 942.8252 - _timestamp: 1654090250.0000 - _runtime: 2159.0000\n",
      "Epoch 164/1000\n",
      "49/49 [==============================] - 10s 197ms/step - loss: 354.9801 - val_loss: 497.4977 - _timestamp: 1654090260.0000 - _runtime: 2169.0000\n",
      "Epoch 165/1000\n",
      "49/49 [==============================] - 10s 194ms/step - loss: 367.8668 - val_loss: 421.6359 - _timestamp: 1654090269.0000 - _runtime: 2178.0000\n",
      "Epoch 166/1000\n",
      "49/49 [==============================] - 10s 196ms/step - loss: 324.9195 - val_loss: 558.8706 - _timestamp: 1654090279.0000 - _runtime: 2188.0000\n",
      "Epoch 167/1000\n",
      "49/49 [==============================] - 10s 193ms/step - loss: 257.8274 - val_loss: 813.3409 - _timestamp: 1654090289.0000 - _runtime: 2198.0000\n",
      "Epoch 168/1000\n",
      "49/49 [==============================] - 10s 199ms/step - loss: 258.4799 - val_loss: 1231.4232 - _timestamp: 1654090299.0000 - _runtime: 2208.0000\n",
      "Epoch 169/1000\n",
      "49/49 [==============================] - 10s 199ms/step - loss: 306.0013 - val_loss: 1179.6125 - _timestamp: 1654090308.0000 - _runtime: 2217.0000\n",
      "Epoch 170/1000\n",
      "49/49 [==============================] - 9s 192ms/step - loss: 255.8383 - val_loss: 1719.7415 - _timestamp: 1654090318.0000 - _runtime: 2227.0000\n",
      "Epoch 171/1000\n",
      "49/49 [==============================] - 9s 191ms/step - loss: 363.4999 - val_loss: 1796.2568 - _timestamp: 1654090327.0000 - _runtime: 2236.0000\n",
      "Epoch 172/1000\n",
      "49/49 [==============================] - 10s 197ms/step - loss: 329.3166 - val_loss: 1745.6309 - _timestamp: 1654090337.0000 - _runtime: 2246.0000\n",
      "Epoch 173/1000\n",
      "49/49 [==============================] - 9s 189ms/step - loss: 294.3075 - val_loss: 1122.3146 - _timestamp: 1654090346.0000 - _runtime: 2255.0000\n",
      "Epoch 174/1000\n",
      "49/49 [==============================] - 10s 200ms/step - loss: 292.7792 - val_loss: 702.0593 - _timestamp: 1654090356.0000 - _runtime: 2265.0000\n",
      "Epoch 175/1000\n",
      "49/49 [==============================] - 10s 196ms/step - loss: 330.1467 - val_loss: 855.2874 - _timestamp: 1654090366.0000 - _runtime: 2275.0000\n",
      "Epoch 176/1000\n",
      "49/49 [==============================] - 10s 198ms/step - loss: 345.6234 - val_loss: 425.2280 - _timestamp: 1654090376.0000 - _runtime: 2285.0000\n",
      "Epoch 177/1000\n",
      "49/49 [==============================] - 10s 198ms/step - loss: 363.3211 - val_loss: 398.3723 - _timestamp: 1654090386.0000 - _runtime: 2295.0000\n",
      "Epoch 178/1000\n",
      "49/49 [==============================] - 9s 190ms/step - loss: 346.9792 - val_loss: 640.5198 - _timestamp: 1654090395.0000 - _runtime: 2304.0000\n",
      "Epoch 179/1000\n",
      "49/49 [==============================] - 9s 191ms/step - loss: 285.6830 - val_loss: 1134.6260 - _timestamp: 1654090405.0000 - _runtime: 2314.0000\n",
      "Epoch 180/1000\n",
      "49/49 [==============================] - 9s 193ms/step - loss: 264.1733 - val_loss: 883.6425 - _timestamp: 1654090414.0000 - _runtime: 2323.0000\n",
      "Epoch 181/1000\n",
      "49/49 [==============================] - ETA: 0s - loss: 280.0202"
     ]
    },
    {
     "name": "stderr",
     "output_type": "stream",
     "text": [
      "WARNING:absl:Found untraced functions such as lstm_cell_6_layer_call_fn, lstm_cell_6_layer_call_and_return_conditional_losses, lstm_cell_7_layer_call_fn, lstm_cell_7_layer_call_and_return_conditional_losses while saving (showing 4 of 4). These functions will not be directly callable after loading.\n"
     ]
    },
    {
     "name": "stdout",
     "output_type": "stream",
     "text": [
      "INFO:tensorflow:Assets written to: ../model/demand_forecasting/assets\n"
     ]
    },
    {
     "name": "stderr",
     "output_type": "stream",
     "text": [
      "INFO:tensorflow:Assets written to: ../model/demand_forecasting/assets\n",
      "WARNING:absl:<keras.layers.recurrent.LSTMCell object at 0x7f3bb91f7340> has the same name 'LSTMCell' as a built-in Keras object. Consider renaming <class 'keras.layers.recurrent.LSTMCell'> to avoid naming conflicts when loading with `tf.keras.models.load_model`. If renaming is not possible, pass the object in the `custom_objects` parameter of the load function.\n",
      "WARNING:absl:<keras.layers.recurrent.LSTMCell object at 0x7f3bb9182130> has the same name 'LSTMCell' as a built-in Keras object. Consider renaming <class 'keras.layers.recurrent.LSTMCell'> to avoid naming conflicts when loading with `tf.keras.models.load_model`. If renaming is not possible, pass the object in the `custom_objects` parameter of the load function.\n"
     ]
    },
    {
     "name": "stdout",
     "output_type": "stream",
     "text": [
      "49/49 [==============================] - 30s 627ms/step - loss: 280.0202 - val_loss: 359.9662 - _timestamp: 1654090424.0000 - _runtime: 2333.0000\n",
      "Epoch 182/1000\n",
      "49/49 [==============================] - 10s 195ms/step - loss: 305.8891 - val_loss: 458.4097 - _timestamp: 1654090454.0000 - _runtime: 2363.0000\n",
      "Epoch 183/1000\n",
      "49/49 [==============================] - 10s 205ms/step - loss: 361.8591 - val_loss: 561.6440 - _timestamp: 1654090464.0000 - _runtime: 2373.0000\n",
      "Epoch 184/1000\n",
      "49/49 [==============================] - 10s 196ms/step - loss: 278.3058 - val_loss: 757.7629 - _timestamp: 1654090474.0000 - _runtime: 2383.0000\n",
      "Epoch 185/1000\n",
      "49/49 [==============================] - 9s 193ms/step - loss: 389.6356 - val_loss: 689.6554 - _timestamp: 1654090484.0000 - _runtime: 2393.0000\n",
      "Epoch 186/1000\n",
      "49/49 [==============================] - 10s 194ms/step - loss: 300.7840 - val_loss: 674.9880 - _timestamp: 1654090494.0000 - _runtime: 2403.0000\n",
      "Epoch 187/1000\n",
      "49/49 [==============================] - 10s 201ms/step - loss: 346.1148 - val_loss: 661.8467 - _timestamp: 1654090504.0000 - _runtime: 2413.0000\n",
      "Epoch 188/1000\n",
      "49/49 [==============================] - 9s 191ms/step - loss: 247.6311 - val_loss: 912.6025 - _timestamp: 1654090514.0000 - _runtime: 2423.0000\n",
      "Epoch 189/1000\n",
      "49/49 [==============================] - 9s 190ms/step - loss: 278.8386 - val_loss: 458.7309 - _timestamp: 1654090523.0000 - _runtime: 2432.0000\n",
      "Epoch 190/1000\n",
      "49/49 [==============================] - 9s 190ms/step - loss: 298.7832 - val_loss: 534.3107 - _timestamp: 1654090532.0000 - _runtime: 2441.0000\n",
      "Epoch 191/1000\n",
      "49/49 [==============================] - 9s 192ms/step - loss: 342.7344 - val_loss: 1002.4479 - _timestamp: 1654090542.0000 - _runtime: 2451.0000\n",
      "Epoch 192/1000\n",
      "49/49 [==============================] - 10s 194ms/step - loss: 330.1778 - val_loss: 609.9896 - _timestamp: 1654090552.0000 - _runtime: 2461.0000\n",
      "Epoch 193/1000\n",
      "49/49 [==============================] - 9s 190ms/step - loss: 283.3955 - val_loss: 794.4773 - _timestamp: 1654090561.0000 - _runtime: 2470.0000\n",
      "Epoch 194/1000\n",
      "49/49 [==============================] - 10s 193ms/step - loss: 294.6605 - val_loss: 561.2912 - _timestamp: 1654090570.0000 - _runtime: 2479.0000\n",
      "Epoch 195/1000\n",
      "49/49 [==============================] - 10s 200ms/step - loss: 259.2484 - val_loss: 839.6658 - _timestamp: 1654090580.0000 - _runtime: 2489.0000\n",
      "Epoch 196/1000\n",
      "49/49 [==============================] - 10s 196ms/step - loss: 348.3977 - val_loss: 654.5735 - _timestamp: 1654090590.0000 - _runtime: 2499.0000\n",
      "Epoch 197/1000\n",
      "49/49 [==============================] - 10s 203ms/step - loss: 267.4873 - val_loss: 434.8570 - _timestamp: 1654090600.0000 - _runtime: 2509.0000\n",
      "Epoch 198/1000\n",
      "49/49 [==============================] - 10s 195ms/step - loss: 314.8944 - val_loss: 637.5902 - _timestamp: 1654090610.0000 - _runtime: 2519.0000\n",
      "Epoch 199/1000\n",
      "49/49 [==============================] - 10s 200ms/step - loss: 247.7006 - val_loss: 785.6334 - _timestamp: 1654090620.0000 - _runtime: 2529.0000\n",
      "Epoch 200/1000\n",
      "49/49 [==============================] - 10s 193ms/step - loss: 350.7193 - val_loss: 609.6913 - _timestamp: 1654090629.0000 - _runtime: 2538.0000\n",
      "Epoch 201/1000\n",
      "49/49 [==============================] - 10s 195ms/step - loss: 363.7583 - val_loss: 940.5493 - _timestamp: 1654090639.0000 - _runtime: 2548.0000\n",
      "Epoch 202/1000\n",
      "49/49 [==============================] - 10s 200ms/step - loss: 262.8102 - val_loss: 1012.4600 - _timestamp: 1654090649.0000 - _runtime: 2558.0000\n",
      "Epoch 203/1000\n",
      "49/49 [==============================] - ETA: 0s - loss: 314.9069"
     ]
    },
    {
     "name": "stderr",
     "output_type": "stream",
     "text": [
      "WARNING:absl:Found untraced functions such as lstm_cell_6_layer_call_fn, lstm_cell_6_layer_call_and_return_conditional_losses, lstm_cell_7_layer_call_fn, lstm_cell_7_layer_call_and_return_conditional_losses while saving (showing 4 of 4). These functions will not be directly callable after loading.\n"
     ]
    },
    {
     "name": "stdout",
     "output_type": "stream",
     "text": [
      "INFO:tensorflow:Assets written to: ../model/demand_forecasting/assets\n"
     ]
    },
    {
     "name": "stderr",
     "output_type": "stream",
     "text": [
      "INFO:tensorflow:Assets written to: ../model/demand_forecasting/assets\n",
      "WARNING:absl:<keras.layers.recurrent.LSTMCell object at 0x7f3bb91f7340> has the same name 'LSTMCell' as a built-in Keras object. Consider renaming <class 'keras.layers.recurrent.LSTMCell'> to avoid naming conflicts when loading with `tf.keras.models.load_model`. If renaming is not possible, pass the object in the `custom_objects` parameter of the load function.\n",
      "WARNING:absl:<keras.layers.recurrent.LSTMCell object at 0x7f3bb9182130> has the same name 'LSTMCell' as a built-in Keras object. Consider renaming <class 'keras.layers.recurrent.LSTMCell'> to avoid naming conflicts when loading with `tf.keras.models.load_model`. If renaming is not possible, pass the object in the `custom_objects` parameter of the load function.\n"
     ]
    },
    {
     "name": "stdout",
     "output_type": "stream",
     "text": [
      "49/49 [==============================] - 24s 489ms/step - loss: 314.9069 - val_loss: 308.3481 - _timestamp: 1654090658.0000 - _runtime: 2567.0000\n",
      "Epoch 204/1000\n",
      "49/49 [==============================] - 10s 198ms/step - loss: 368.3463 - val_loss: 345.3691 - _timestamp: 1654090682.0000 - _runtime: 2591.0000\n",
      "Epoch 205/1000\n",
      "49/49 [==============================] - 10s 199ms/step - loss: 311.2381 - val_loss: 407.0124 - _timestamp: 1654090693.0000 - _runtime: 2602.0000\n",
      "Epoch 206/1000\n",
      "49/49 [==============================] - 10s 196ms/step - loss: 311.9523 - val_loss: 331.8922 - _timestamp: 1654090702.0000 - _runtime: 2611.0000\n",
      "Epoch 207/1000\n",
      "49/49 [==============================] - 10s 203ms/step - loss: 339.7025 - val_loss: 362.7655 - _timestamp: 1654090712.0000 - _runtime: 2621.0000\n",
      "Epoch 208/1000\n",
      "49/49 [==============================] - 10s 196ms/step - loss: 368.2351 - val_loss: 516.3417 - _timestamp: 1654090722.0000 - _runtime: 2631.0000\n",
      "Epoch 209/1000\n",
      "49/49 [==============================] - 9s 189ms/step - loss: 292.2759 - val_loss: 660.5608 - _timestamp: 1654090731.0000 - _runtime: 2640.0000\n",
      "Epoch 210/1000\n",
      "49/49 [==============================] - ETA: 0s - loss: 365.6705"
     ]
    },
    {
     "name": "stderr",
     "output_type": "stream",
     "text": [
      "WARNING:absl:Found untraced functions such as lstm_cell_6_layer_call_fn, lstm_cell_6_layer_call_and_return_conditional_losses, lstm_cell_7_layer_call_fn, lstm_cell_7_layer_call_and_return_conditional_losses while saving (showing 4 of 4). These functions will not be directly callable after loading.\n"
     ]
    },
    {
     "name": "stdout",
     "output_type": "stream",
     "text": [
      "INFO:tensorflow:Assets written to: ../model/demand_forecasting/assets\n"
     ]
    },
    {
     "name": "stderr",
     "output_type": "stream",
     "text": [
      "INFO:tensorflow:Assets written to: ../model/demand_forecasting/assets\n",
      "WARNING:absl:<keras.layers.recurrent.LSTMCell object at 0x7f3bb91f7340> has the same name 'LSTMCell' as a built-in Keras object. Consider renaming <class 'keras.layers.recurrent.LSTMCell'> to avoid naming conflicts when loading with `tf.keras.models.load_model`. If renaming is not possible, pass the object in the `custom_objects` parameter of the load function.\n",
      "WARNING:absl:<keras.layers.recurrent.LSTMCell object at 0x7f3bb9182130> has the same name 'LSTMCell' as a built-in Keras object. Consider renaming <class 'keras.layers.recurrent.LSTMCell'> to avoid naming conflicts when loading with `tf.keras.models.load_model`. If renaming is not possible, pass the object in the `custom_objects` parameter of the load function.\n"
     ]
    },
    {
     "name": "stdout",
     "output_type": "stream",
     "text": [
      "49/49 [==============================] - 24s 492ms/step - loss: 365.6705 - val_loss: 279.0865 - _timestamp: 1654090741.0000 - _runtime: 2650.0000\n",
      "Epoch 211/1000\n",
      "49/49 [==============================] - ETA: 0s - loss: 273.3904"
     ]
    },
    {
     "name": "stderr",
     "output_type": "stream",
     "text": [
      "WARNING:absl:Found untraced functions such as lstm_cell_6_layer_call_fn, lstm_cell_6_layer_call_and_return_conditional_losses, lstm_cell_7_layer_call_fn, lstm_cell_7_layer_call_and_return_conditional_losses while saving (showing 4 of 4). These functions will not be directly callable after loading.\n"
     ]
    },
    {
     "name": "stdout",
     "output_type": "stream",
     "text": [
      "INFO:tensorflow:Assets written to: ../model/demand_forecasting/assets\n"
     ]
    },
    {
     "name": "stderr",
     "output_type": "stream",
     "text": [
      "INFO:tensorflow:Assets written to: ../model/demand_forecasting/assets\n",
      "WARNING:absl:<keras.layers.recurrent.LSTMCell object at 0x7f3bb91f7340> has the same name 'LSTMCell' as a built-in Keras object. Consider renaming <class 'keras.layers.recurrent.LSTMCell'> to avoid naming conflicts when loading with `tf.keras.models.load_model`. If renaming is not possible, pass the object in the `custom_objects` parameter of the load function.\n",
      "WARNING:absl:<keras.layers.recurrent.LSTMCell object at 0x7f3bb9182130> has the same name 'LSTMCell' as a built-in Keras object. Consider renaming <class 'keras.layers.recurrent.LSTMCell'> to avoid naming conflicts when loading with `tf.keras.models.load_model`. If renaming is not possible, pass the object in the `custom_objects` parameter of the load function.\n"
     ]
    },
    {
     "name": "stdout",
     "output_type": "stream",
     "text": [
      "49/49 [==============================] - 23s 481ms/step - loss: 273.3904 - val_loss: 220.3976 - _timestamp: 1654090765.0000 - _runtime: 2674.0000\n",
      "Epoch 212/1000\n",
      "49/49 [==============================] - 10s 199ms/step - loss: 233.1712 - val_loss: 563.4642 - _timestamp: 1654090788.0000 - _runtime: 2697.0000\n",
      "Epoch 213/1000\n",
      "49/49 [==============================] - 10s 196ms/step - loss: 344.2546 - val_loss: 618.9197 - _timestamp: 1654090798.0000 - _runtime: 2707.0000\n",
      "Epoch 214/1000\n",
      "49/49 [==============================] - 10s 200ms/step - loss: 321.7835 - val_loss: 393.3495 - _timestamp: 1654090808.0000 - _runtime: 2717.0000\n",
      "Epoch 215/1000\n",
      "49/49 [==============================] - 10s 204ms/step - loss: 298.2714 - val_loss: 395.6992 - _timestamp: 1654090818.0000 - _runtime: 2727.0000\n",
      "Epoch 216/1000\n",
      "49/49 [==============================] - 10s 203ms/step - loss: 265.2063 - val_loss: 297.0765 - _timestamp: 1654090828.0000 - _runtime: 2737.0000\n",
      "Epoch 217/1000\n",
      "49/49 [==============================] - 10s 197ms/step - loss: 239.3710 - val_loss: 328.2146 - _timestamp: 1654090838.0000 - _runtime: 2747.0000\n",
      "Epoch 218/1000\n",
      "49/49 [==============================] - 10s 194ms/step - loss: 279.2229 - val_loss: 599.1859 - _timestamp: 1654090848.0000 - _runtime: 2757.0000\n",
      "Epoch 219/1000\n",
      "49/49 [==============================] - 10s 197ms/step - loss: 336.3895 - val_loss: 573.7119 - _timestamp: 1654090857.0000 - _runtime: 2766.0000\n",
      "Epoch 220/1000\n",
      "49/49 [==============================] - 10s 203ms/step - loss: 262.7728 - val_loss: 608.1415 - _timestamp: 1654090867.0000 - _runtime: 2776.0000\n",
      "Epoch 221/1000\n",
      "49/49 [==============================] - 10s 196ms/step - loss: 288.6486 - val_loss: 545.1342 - _timestamp: 1654090877.0000 - _runtime: 2786.0000\n",
      "Epoch 222/1000\n",
      "49/49 [==============================] - 10s 197ms/step - loss: 314.2117 - val_loss: 456.1560 - _timestamp: 1654090887.0000 - _runtime: 2796.0000\n",
      "Epoch 223/1000\n",
      "49/49 [==============================] - 11s 216ms/step - loss: 301.7806 - val_loss: 389.1707 - _timestamp: 1654090897.0000 - _runtime: 2806.0000\n",
      "Epoch 224/1000\n",
      "49/49 [==============================] - 10s 196ms/step - loss: 342.2140 - val_loss: 356.4846 - _timestamp: 1654090917.0000 - _runtime: 2826.0000\n",
      "Epoch 225/1000\n",
      "49/49 [==============================] - 9s 190ms/step - loss: 255.1888 - val_loss: 362.1957 - _timestamp: 1654090926.0000 - _runtime: 2835.0000\n",
      "Epoch 226/1000\n",
      "49/49 [==============================] - 10s 200ms/step - loss: 410.2209 - val_loss: 5055.0176 - _timestamp: 1654090936.0000 - _runtime: 2845.0000\n",
      "Epoch 227/1000\n",
      "49/49 [==============================] - 10s 194ms/step - loss: 256.8235 - val_loss: 904.1159 - _timestamp: 1654090946.0000 - _runtime: 2855.0000\n",
      "Epoch 228/1000\n",
      "49/49 [==============================] - 10s 194ms/step - loss: 269.4841 - val_loss: 691.3151 - _timestamp: 1654090955.0000 - _runtime: 2864.0000\n",
      "Epoch 229/1000\n",
      "49/49 [==============================] - 9s 191ms/step - loss: 317.4785 - val_loss: 449.7602 - _timestamp: 1654090965.0000 - _runtime: 2874.0000\n",
      "Epoch 230/1000\n",
      "49/49 [==============================] - 9s 190ms/step - loss: 269.3430 - val_loss: 892.3245 - _timestamp: 1654090974.0000 - _runtime: 2883.0000\n",
      "Epoch 231/1000\n",
      "49/49 [==============================] - 10s 202ms/step - loss: 281.0990 - val_loss: 582.7339 - _timestamp: 1654090984.0000 - _runtime: 2893.0000\n",
      "Epoch 232/1000\n",
      "49/49 [==============================] - 10s 206ms/step - loss: 368.5030 - val_loss: 825.6357 - _timestamp: 1654090994.0000 - _runtime: 2903.0000\n",
      "Epoch 233/1000\n",
      "49/49 [==============================] - 10s 202ms/step - loss: 381.6701 - val_loss: 1599.2556 - _timestamp: 1654091004.0000 - _runtime: 2913.0000\n",
      "Epoch 234/1000\n",
      "49/49 [==============================] - 10s 202ms/step - loss: 286.7657 - val_loss: 792.9673 - _timestamp: 1654091014.0000 - _runtime: 2923.0000\n",
      "Epoch 235/1000\n",
      "49/49 [==============================] - 10s 200ms/step - loss: 221.4416 - val_loss: 908.4750 - _timestamp: 1654091024.0000 - _runtime: 2933.0000\n",
      "Epoch 236/1000\n",
      "49/49 [==============================] - 10s 198ms/step - loss: 336.3387 - val_loss: 703.6361 - _timestamp: 1654091034.0000 - _runtime: 2943.0000\n",
      "Epoch 237/1000\n",
      "49/49 [==============================] - 10s 200ms/step - loss: 267.8329 - val_loss: 1795.9209 - _timestamp: 1654091044.0000 - _runtime: 2953.0000\n",
      "Epoch 238/1000\n",
      "49/49 [==============================] - 10s 196ms/step - loss: 289.9246 - val_loss: 1092.1771 - _timestamp: 1654091054.0000 - _runtime: 2963.0000\n",
      "Epoch 239/1000\n",
      "49/49 [==============================] - 10s 196ms/step - loss: 267.8141 - val_loss: 1557.6747 - _timestamp: 1654091063.0000 - _runtime: 2972.0000\n",
      "Epoch 240/1000\n",
      "49/49 [==============================] - 10s 196ms/step - loss: 277.4684 - val_loss: 337.6801 - _timestamp: 1654091073.0000 - _runtime: 2982.0000\n",
      "Epoch 241/1000\n",
      "49/49 [==============================] - 10s 196ms/step - loss: 290.4354 - val_loss: 317.5454 - _timestamp: 1654091083.0000 - _runtime: 2992.0000\n",
      "Epoch 242/1000\n",
      "49/49 [==============================] - 10s 196ms/step - loss: 257.8830 - val_loss: 762.3617 - _timestamp: 1654091093.0000 - _runtime: 3002.0000\n",
      "Epoch 243/1000\n",
      "49/49 [==============================] - 10s 196ms/step - loss: 252.8134 - val_loss: 603.3661 - _timestamp: 1654091102.0000 - _runtime: 3011.0000\n",
      "Epoch 244/1000\n",
      "49/49 [==============================] - 10s 202ms/step - loss: 287.0318 - val_loss: 542.0379 - _timestamp: 1654091113.0000 - _runtime: 3022.0000\n",
      "Epoch 245/1000\n",
      "49/49 [==============================] - 10s 196ms/step - loss: 341.3047 - val_loss: 641.5170 - _timestamp: 1654091123.0000 - _runtime: 3032.0000\n",
      "Epoch 246/1000\n",
      "49/49 [==============================] - 10s 199ms/step - loss: 249.4233 - val_loss: 690.7217 - _timestamp: 1654091132.0000 - _runtime: 3041.0000\n",
      "Epoch 247/1000\n",
      "49/49 [==============================] - 10s 195ms/step - loss: 358.1426 - val_loss: 462.0449 - _timestamp: 1654091142.0000 - _runtime: 3051.0000\n",
      "Epoch 248/1000\n",
      "49/49 [==============================] - 10s 196ms/step - loss: 285.5164 - val_loss: 719.9429 - _timestamp: 1654091152.0000 - _runtime: 3061.0000\n",
      "Epoch 249/1000\n",
      "49/49 [==============================] - 10s 194ms/step - loss: 285.4845 - val_loss: 511.6054 - _timestamp: 1654091161.0000 - _runtime: 3070.0000\n",
      "Epoch 250/1000\n",
      "49/49 [==============================] - 10s 201ms/step - loss: 216.6431 - val_loss: 620.1230 - _timestamp: 1654091171.0000 - _runtime: 3080.0000\n",
      "Epoch 251/1000\n",
      "49/49 [==============================] - 10s 195ms/step - loss: 263.1089 - val_loss: 264.6181 - _timestamp: 1654091181.0000 - _runtime: 3090.0000\n",
      "Epoch 252/1000\n",
      "49/49 [==============================] - 10s 194ms/step - loss: 322.5863 - val_loss: 1609.8719 - _timestamp: 1654091191.0000 - _runtime: 3100.0000\n",
      "Epoch 253/1000\n",
      "49/49 [==============================] - 10s 211ms/step - loss: 362.6539 - val_loss: 276.0129 - _timestamp: 1654091202.0000 - _runtime: 3111.0000\n",
      "Epoch 254/1000\n",
      "49/49 [==============================] - 10s 197ms/step - loss: 288.4014 - val_loss: 326.7304 - _timestamp: 1654091222.0000 - _runtime: 3131.0000\n",
      "Epoch 255/1000\n",
      "49/49 [==============================] - 10s 194ms/step - loss: 313.7542 - val_loss: 822.1635 - _timestamp: 1654091231.0000 - _runtime: 3140.0000\n",
      "Epoch 256/1000\n",
      "49/49 [==============================] - 10s 199ms/step - loss: 280.0005 - val_loss: 980.6181 - _timestamp: 1654091242.0000 - _runtime: 3151.0000\n",
      "Epoch 257/1000\n",
      "49/49 [==============================] - 10s 206ms/step - loss: 233.7429 - val_loss: 268.2913 - _timestamp: 1654091252.0000 - _runtime: 3161.0000\n",
      "Epoch 258/1000\n",
      "49/49 [==============================] - 10s 195ms/step - loss: 258.2590 - val_loss: 300.0103 - _timestamp: 1654091262.0000 - _runtime: 3171.0000\n",
      "Epoch 259/1000\n",
      "49/49 [==============================] - 10s 201ms/step - loss: 254.3094 - val_loss: 604.2163 - _timestamp: 1654091272.0000 - _runtime: 3181.0000\n",
      "Epoch 260/1000\n",
      "49/49 [==============================] - ETA: 0s - loss: 275.4186"
     ]
    },
    {
     "name": "stderr",
     "output_type": "stream",
     "text": [
      "WARNING:absl:Found untraced functions such as lstm_cell_6_layer_call_fn, lstm_cell_6_layer_call_and_return_conditional_losses, lstm_cell_7_layer_call_fn, lstm_cell_7_layer_call_and_return_conditional_losses while saving (showing 4 of 4). These functions will not be directly callable after loading.\n"
     ]
    },
    {
     "name": "stdout",
     "output_type": "stream",
     "text": [
      "INFO:tensorflow:Assets written to: ../model/demand_forecasting/assets\n"
     ]
    },
    {
     "name": "stderr",
     "output_type": "stream",
     "text": [
      "INFO:tensorflow:Assets written to: ../model/demand_forecasting/assets\n",
      "WARNING:absl:<keras.layers.recurrent.LSTMCell object at 0x7f3bb91f7340> has the same name 'LSTMCell' as a built-in Keras object. Consider renaming <class 'keras.layers.recurrent.LSTMCell'> to avoid naming conflicts when loading with `tf.keras.models.load_model`. If renaming is not possible, pass the object in the `custom_objects` parameter of the load function.\n",
      "WARNING:absl:<keras.layers.recurrent.LSTMCell object at 0x7f3bb9182130> has the same name 'LSTMCell' as a built-in Keras object. Consider renaming <class 'keras.layers.recurrent.LSTMCell'> to avoid naming conflicts when loading with `tf.keras.models.load_model`. If renaming is not possible, pass the object in the `custom_objects` parameter of the load function.\n"
     ]
    },
    {
     "name": "stdout",
     "output_type": "stream",
     "text": [
      "49/49 [==============================] - 24s 487ms/step - loss: 275.4186 - val_loss: 186.5386 - _timestamp: 1654091281.0000 - _runtime: 3190.0000\n",
      "Epoch 261/1000\n",
      "49/49 [==============================] - 10s 195ms/step - loss: 244.6176 - val_loss: 197.0961 - _timestamp: 1654091305.0000 - _runtime: 3214.0000\n",
      "Epoch 262/1000\n",
      "49/49 [==============================] - 10s 203ms/step - loss: 266.3876 - val_loss: 468.6776 - _timestamp: 1654091315.0000 - _runtime: 3224.0000\n",
      "Epoch 263/1000\n",
      "49/49 [==============================] - 10s 196ms/step - loss: 312.1444 - val_loss: 511.9681 - _timestamp: 1654091325.0000 - _runtime: 3234.0000\n",
      "Epoch 264/1000\n",
      "49/49 [==============================] - 10s 194ms/step - loss: 318.8267 - val_loss: 680.7812 - _timestamp: 1654091334.0000 - _runtime: 3243.0000\n",
      "Epoch 265/1000\n",
      "49/49 [==============================] - 10s 201ms/step - loss: 251.4127 - val_loss: 424.8314 - _timestamp: 1654091344.0000 - _runtime: 3253.0000\n",
      "Epoch 266/1000\n",
      "49/49 [==============================] - 9s 193ms/step - loss: 232.5510 - val_loss: 587.5702 - _timestamp: 1654091354.0000 - _runtime: 3263.0000\n",
      "Epoch 267/1000\n",
      "49/49 [==============================] - 9s 189ms/step - loss: 279.6635 - val_loss: 1256.4526 - _timestamp: 1654091363.0000 - _runtime: 3272.0000\n",
      "Epoch 268/1000\n",
      "49/49 [==============================] - 9s 190ms/step - loss: 283.1649 - val_loss: 1016.1017 - _timestamp: 1654091372.0000 - _runtime: 3281.0000\n",
      "Epoch 269/1000\n",
      "49/49 [==============================] - 10s 198ms/step - loss: 350.9676 - val_loss: 384.1692 - _timestamp: 1654091382.0000 - _runtime: 3291.0000\n",
      "Epoch 270/1000\n",
      "49/49 [==============================] - 9s 192ms/step - loss: 228.4919 - val_loss: 466.6067 - _timestamp: 1654091392.0000 - _runtime: 3301.0000\n",
      "Epoch 271/1000\n",
      "49/49 [==============================] - 10s 194ms/step - loss: 299.1328 - val_loss: 1324.0942 - _timestamp: 1654091401.0000 - _runtime: 3310.0000\n",
      "Epoch 272/1000\n",
      "49/49 [==============================] - 9s 189ms/step - loss: 331.5725 - val_loss: 754.2598 - _timestamp: 1654091411.0000 - _runtime: 3320.0000\n",
      "Epoch 273/1000\n",
      "49/49 [==============================] - 10s 199ms/step - loss: 258.4577 - val_loss: 915.4662 - _timestamp: 1654091420.0000 - _runtime: 3329.0000\n",
      "Epoch 274/1000\n",
      "49/49 [==============================] - 10s 196ms/step - loss: 315.5295 - val_loss: 321.8441 - _timestamp: 1654091430.0000 - _runtime: 3339.0000\n",
      "Epoch 275/1000\n",
      "49/49 [==============================] - 10s 198ms/step - loss: 293.3670 - val_loss: 524.5627 - _timestamp: 1654091440.0000 - _runtime: 3349.0000\n",
      "Epoch 276/1000\n",
      "49/49 [==============================] - 10s 212ms/step - loss: 271.9305 - val_loss: 346.3150 - _timestamp: 1654091450.0000 - _runtime: 3359.0000\n",
      "Epoch 277/1000\n",
      "49/49 [==============================] - 10s 210ms/step - loss: 300.1296 - val_loss: 430.7018 - _timestamp: 1654091461.0000 - _runtime: 3370.0000\n",
      "Epoch 278/1000\n",
      "49/49 [==============================] - 10s 197ms/step - loss: 252.6934 - val_loss: 546.8770 - _timestamp: 1654091470.0000 - _runtime: 3379.0000\n",
      "Epoch 279/1000\n",
      "49/49 [==============================] - 10s 196ms/step - loss: 266.4221 - val_loss: 238.8477 - _timestamp: 1654091480.0000 - _runtime: 3389.0000\n",
      "Epoch 280/1000\n",
      "49/49 [==============================] - 10s 198ms/step - loss: 258.9155 - val_loss: 228.8100 - _timestamp: 1654091490.0000 - _runtime: 3399.0000\n",
      "Epoch 281/1000\n",
      "49/49 [==============================] - 10s 204ms/step - loss: 236.0081 - val_loss: 325.3613 - _timestamp: 1654091500.0000 - _runtime: 3409.0000\n",
      "Epoch 282/1000\n",
      "49/49 [==============================] - 9s 192ms/step - loss: 258.9095 - val_loss: 829.5867 - _timestamp: 1654091509.0000 - _runtime: 3418.0000\n",
      "Epoch 283/1000\n",
      "49/49 [==============================] - 10s 195ms/step - loss: 299.0934 - val_loss: 273.0757 - _timestamp: 1654091519.0000 - _runtime: 3428.0000\n",
      "Epoch 284/1000\n",
      "49/49 [==============================] - 10s 200ms/step - loss: 268.2356 - val_loss: 211.7153 - _timestamp: 1654091529.0000 - _runtime: 3438.0000\n",
      "Epoch 285/1000\n",
      "49/49 [==============================] - 9s 191ms/step - loss: 286.7264 - val_loss: 344.4284 - _timestamp: 1654091538.0000 - _runtime: 3447.0000\n",
      "Epoch 286/1000\n",
      "49/49 [==============================] - 9s 193ms/step - loss: 266.1421 - val_loss: 975.8539 - _timestamp: 1654091548.0000 - _runtime: 3457.0000\n",
      "Epoch 287/1000\n",
      "49/49 [==============================] - 10s 196ms/step - loss: 223.2974 - val_loss: 736.6415 - _timestamp: 1654091558.0000 - _runtime: 3467.0000\n",
      "Epoch 288/1000\n",
      "49/49 [==============================] - 10s 198ms/step - loss: 277.4726 - val_loss: 1524.8021 - _timestamp: 1654091567.0000 - _runtime: 3476.0000\n",
      "Epoch 289/1000\n",
      "49/49 [==============================] - 10s 205ms/step - loss: 301.0612 - val_loss: 1159.1091 - _timestamp: 1654091578.0000 - _runtime: 3487.0000\n",
      "Epoch 290/1000\n",
      "49/49 [==============================] - 10s 201ms/step - loss: 234.7319 - val_loss: 465.8098 - _timestamp: 1654091588.0000 - _runtime: 3497.0000\n",
      "Epoch 291/1000\n",
      "49/49 [==============================] - 10s 195ms/step - loss: 230.1115 - val_loss: 287.0400 - _timestamp: 1654091598.0000 - _runtime: 3507.0000\n",
      "Epoch 292/1000\n",
      "49/49 [==============================] - 10s 207ms/step - loss: 212.8564 - val_loss: 909.1526 - _timestamp: 1654091608.0000 - _runtime: 3517.0000\n",
      "Epoch 293/1000\n",
      "49/49 [==============================] - 9s 192ms/step - loss: 244.5585 - val_loss: 572.5173 - _timestamp: 1654091617.0000 - _runtime: 3526.0000\n",
      "Epoch 294/1000\n",
      "49/49 [==============================] - 10s 198ms/step - loss: 286.4720 - val_loss: 964.8876 - _timestamp: 1654091627.0000 - _runtime: 3536.0000\n",
      "Epoch 295/1000\n",
      "49/49 [==============================] - 10s 196ms/step - loss: 205.6358 - val_loss: 1017.3113 - _timestamp: 1654091637.0000 - _runtime: 3546.0000\n",
      "Epoch 296/1000\n",
      "49/49 [==============================] - 10s 202ms/step - loss: 324.6974 - val_loss: 1847.5524 - _timestamp: 1654091647.0000 - _runtime: 3556.0000\n",
      "Epoch 297/1000\n",
      "49/49 [==============================] - 10s 194ms/step - loss: 308.8337 - val_loss: 791.6752 - _timestamp: 1654091657.0000 - _runtime: 3566.0000\n",
      "Epoch 298/1000\n",
      "49/49 [==============================] - 10s 195ms/step - loss: 261.6411 - val_loss: 760.5698 - _timestamp: 1654091666.0000 - _runtime: 3575.0000\n",
      "Epoch 299/1000\n",
      "49/49 [==============================] - 10s 196ms/step - loss: 203.6049 - val_loss: 1192.6351 - _timestamp: 1654091676.0000 - _runtime: 3585.0000\n",
      "Epoch 300/1000\n",
      "49/49 [==============================] - 10s 200ms/step - loss: 270.0691 - val_loss: 977.6767 - _timestamp: 1654091686.0000 - _runtime: 3595.0000\n",
      "Epoch 301/1000\n",
      "49/49 [==============================] - 10s 191ms/step - loss: 234.6549 - val_loss: 585.2789 - _timestamp: 1654091695.0000 - _runtime: 3604.0000\n",
      "Epoch 302/1000\n",
      "49/49 [==============================] - 9s 192ms/step - loss: 340.7618 - val_loss: 796.9066 - _timestamp: 1654091705.0000 - _runtime: 3614.0000\n",
      "Epoch 303/1000\n",
      "49/49 [==============================] - 10s 194ms/step - loss: 233.2516 - val_loss: 764.8969 - _timestamp: 1654091714.0000 - _runtime: 3623.0000\n",
      "Epoch 304/1000\n",
      "49/49 [==============================] - 10s 195ms/step - loss: 224.6812 - val_loss: 319.3439 - _timestamp: 1654091724.0000 - _runtime: 3633.0000\n",
      "Epoch 305/1000\n",
      "49/49 [==============================] - 10s 202ms/step - loss: 272.6349 - val_loss: 352.4803 - _timestamp: 1654091734.0000 - _runtime: 3643.0000\n",
      "Epoch 306/1000\n",
      "49/49 [==============================] - 9s 193ms/step - loss: 295.7101 - val_loss: 443.3941 - _timestamp: 1654091744.0000 - _runtime: 3653.0000\n",
      "Epoch 307/1000\n",
      "49/49 [==============================] - 9s 192ms/step - loss: 276.7626 - val_loss: 324.7907 - _timestamp: 1654091753.0000 - _runtime: 3662.0000\n",
      "Epoch 308/1000\n",
      "49/49 [==============================] - 10s 193ms/step - loss: 273.2428 - val_loss: 518.5628 - _timestamp: 1654091763.0000 - _runtime: 3672.0000\n",
      "Epoch 309/1000\n",
      "49/49 [==============================] - 10s 204ms/step - loss: 313.3209 - val_loss: 295.1928 - _timestamp: 1654091773.0000 - _runtime: 3682.0000\n",
      "Epoch 310/1000\n",
      "49/49 [==============================] - 10s 194ms/step - loss: 254.0483 - val_loss: 415.4817 - _timestamp: 1654091782.0000 - _runtime: 3691.0000\n",
      "Epoch 311/1000\n"
     ]
    },
    {
     "name": "stdout",
     "output_type": "stream",
     "text": [
      "49/49 [==============================] - 9s 193ms/step - loss: 279.3907 - val_loss: 255.8272 - _timestamp: 1654091792.0000 - _runtime: 3701.0000\n",
      "Epoch 312/1000\n",
      "49/49 [==============================] - 10s 201ms/step - loss: 291.2692 - val_loss: 685.8195 - _timestamp: 1654091802.0000 - _runtime: 3711.0000\n",
      "Epoch 313/1000\n",
      "49/49 [==============================] - 10s 198ms/step - loss: 254.9335 - val_loss: 566.6274 - _timestamp: 1654091812.0000 - _runtime: 3721.0000\n",
      "Epoch 314/1000\n",
      "49/49 [==============================] - 9s 190ms/step - loss: 238.7918 - val_loss: 1350.7382 - _timestamp: 1654091821.0000 - _runtime: 3730.0000\n",
      "Epoch 315/1000\n",
      "49/49 [==============================] - 9s 191ms/step - loss: 253.6813 - val_loss: 327.9747 - _timestamp: 1654091830.0000 - _runtime: 3739.0000\n",
      "Epoch 316/1000\n",
      "49/49 [==============================] - 10s 199ms/step - loss: 267.4687 - val_loss: 328.0549 - _timestamp: 1654091840.0000 - _runtime: 3749.0000\n",
      "Epoch 317/1000\n",
      "49/49 [==============================] - 10s 200ms/step - loss: 238.5634 - val_loss: 383.8845 - _timestamp: 1654091850.0000 - _runtime: 3759.0000\n",
      "Epoch 318/1000\n",
      "49/49 [==============================] - 10s 197ms/step - loss: 228.4200 - val_loss: 1214.2051 - _timestamp: 1654091860.0000 - _runtime: 3769.0000\n",
      "Epoch 319/1000\n",
      "49/49 [==============================] - 10s 194ms/step - loss: 258.4755 - val_loss: 350.1104 - _timestamp: 1654091869.0000 - _runtime: 3778.0000\n",
      "Epoch 320/1000\n",
      "49/49 [==============================] - 10s 203ms/step - loss: 252.1509 - val_loss: 310.0661 - _timestamp: 1654091879.0000 - _runtime: 3788.0000\n",
      "Epoch 321/1000\n",
      "49/49 [==============================] - 10s 194ms/step - loss: 305.8472 - val_loss: 1015.8288 - _timestamp: 1654091889.0000 - _runtime: 3798.0000\n",
      "Epoch 322/1000\n",
      "49/49 [==============================] - 10s 198ms/step - loss: 227.7710 - val_loss: 718.7018 - _timestamp: 1654091899.0000 - _runtime: 3808.0000\n",
      "Epoch 323/1000\n",
      "49/49 [==============================] - 10s 200ms/step - loss: 223.1263 - val_loss: 369.3429 - _timestamp: 1654091909.0000 - _runtime: 3818.0000\n",
      "Epoch 324/1000\n",
      "49/49 [==============================] - 10s 203ms/step - loss: 242.0672 - val_loss: 311.1373 - _timestamp: 1654091919.0000 - _runtime: 3828.0000\n",
      "Epoch 325/1000\n",
      "49/49 [==============================] - 9s 192ms/step - loss: 227.1852 - val_loss: 285.3504 - _timestamp: 1654091928.0000 - _runtime: 3837.0000\n",
      "Epoch 326/1000\n",
      "49/49 [==============================] - 9s 194ms/step - loss: 371.6869 - val_loss: 198.3683 - _timestamp: 1654091938.0000 - _runtime: 3847.0000\n",
      "Epoch 327/1000\n",
      "49/49 [==============================] - 9s 191ms/step - loss: 233.8388 - val_loss: 190.8764 - _timestamp: 1654091947.0000 - _runtime: 3856.0000\n",
      "Epoch 328/1000\n",
      "49/49 [==============================] - 10s 198ms/step - loss: 261.9932 - val_loss: 229.9316 - _timestamp: 1654091957.0000 - _runtime: 3866.0000\n",
      "Epoch 329/1000\n",
      "49/49 [==============================] - ETA: 0s - loss: 279.3020"
     ]
    },
    {
     "name": "stderr",
     "output_type": "stream",
     "text": [
      "WARNING:absl:Found untraced functions such as lstm_cell_6_layer_call_fn, lstm_cell_6_layer_call_and_return_conditional_losses, lstm_cell_7_layer_call_fn, lstm_cell_7_layer_call_and_return_conditional_losses while saving (showing 4 of 4). These functions will not be directly callable after loading.\n"
     ]
    },
    {
     "name": "stdout",
     "output_type": "stream",
     "text": [
      "INFO:tensorflow:Assets written to: ../model/demand_forecasting/assets\n"
     ]
    },
    {
     "name": "stderr",
     "output_type": "stream",
     "text": [
      "INFO:tensorflow:Assets written to: ../model/demand_forecasting/assets\n",
      "WARNING:absl:<keras.layers.recurrent.LSTMCell object at 0x7f3bb91f7340> has the same name 'LSTMCell' as a built-in Keras object. Consider renaming <class 'keras.layers.recurrent.LSTMCell'> to avoid naming conflicts when loading with `tf.keras.models.load_model`. If renaming is not possible, pass the object in the `custom_objects` parameter of the load function.\n",
      "WARNING:absl:<keras.layers.recurrent.LSTMCell object at 0x7f3bb9182130> has the same name 'LSTMCell' as a built-in Keras object. Consider renaming <class 'keras.layers.recurrent.LSTMCell'> to avoid naming conflicts when loading with `tf.keras.models.load_model`. If renaming is not possible, pass the object in the `custom_objects` parameter of the load function.\n"
     ]
    },
    {
     "name": "stdout",
     "output_type": "stream",
     "text": [
      "49/49 [==============================] - 42s 870ms/step - loss: 279.3020 - val_loss: 173.4142 - _timestamp: 1654091967.0000 - _runtime: 3876.0000\n",
      "Epoch 330/1000\n",
      "49/49 [==============================] - 10s 193ms/step - loss: 289.5269 - val_loss: 342.7911 - _timestamp: 1654092009.0000 - _runtime: 3918.0000\n",
      "Epoch 331/1000\n",
      "49/49 [==============================] - 9s 190ms/step - loss: 216.8828 - val_loss: 290.5810 - _timestamp: 1654092019.0000 - _runtime: 3928.0000\n",
      "Epoch 332/1000\n",
      "49/49 [==============================] - 9s 192ms/step - loss: 214.3011 - val_loss: 275.7024 - _timestamp: 1654092028.0000 - _runtime: 3937.0000\n",
      "Epoch 333/1000\n",
      "49/49 [==============================] - 10s 202ms/step - loss: 303.1465 - val_loss: 311.7207 - _timestamp: 1654092038.0000 - _runtime: 3947.0000\n",
      "Epoch 334/1000\n",
      "49/49 [==============================] - 10s 196ms/step - loss: 258.8170 - val_loss: 274.9532 - _timestamp: 1654092048.0000 - _runtime: 3957.0000\n",
      "Epoch 335/1000\n",
      "49/49 [==============================] - 10s 194ms/step - loss: 223.5997 - val_loss: 536.2292 - _timestamp: 1654092058.0000 - _runtime: 3967.0000\n",
      "Epoch 336/1000\n",
      "49/49 [==============================] - 9s 186ms/step - loss: 240.3187 - val_loss: 665.9970 - _timestamp: 1654092067.0000 - _runtime: 3976.0000\n",
      "Epoch 337/1000\n",
      "49/49 [==============================] - 9s 183ms/step - loss: 334.1545 - val_loss: 421.2114 - _timestamp: 1654092076.0000 - _runtime: 3985.0000\n",
      "Epoch 338/1000\n",
      "49/49 [==============================] - 10s 205ms/step - loss: 221.0977 - val_loss: 282.4509 - _timestamp: 1654092086.0000 - _runtime: 3995.0000\n",
      "Epoch 339/1000\n",
      "49/49 [==============================] - 8s 165ms/step - loss: 216.1190 - val_loss: 315.2199 - _timestamp: 1654092095.0000 - _runtime: 4004.0000\n",
      "Epoch 340/1000\n",
      "49/49 [==============================] - 9s 178ms/step - loss: 227.9309 - val_loss: 229.6775 - _timestamp: 1654092103.0000 - _runtime: 4012.0000\n",
      "Epoch 341/1000\n",
      "49/49 [==============================] - 11s 218ms/step - loss: 249.9810 - val_loss: 253.5235 - _timestamp: 1654092114.0000 - _runtime: 4023.0000\n",
      "Epoch 342/1000\n",
      "49/49 [==============================] - 9s 191ms/step - loss: 248.2113 - val_loss: 403.3978 - _timestamp: 1654092124.0000 - _runtime: 4033.0000\n",
      "Epoch 343/1000\n",
      "49/49 [==============================] - 10s 193ms/step - loss: 239.7137 - val_loss: 344.4668 - _timestamp: 1654092133.0000 - _runtime: 4042.0000\n",
      "Epoch 344/1000\n",
      "49/49 [==============================] - 9s 188ms/step - loss: 282.9669 - val_loss: 331.5674 - _timestamp: 1654092142.0000 - _runtime: 4051.0000\n",
      "Epoch 345/1000\n",
      "49/49 [==============================] - 10s 197ms/step - loss: 256.4314 - val_loss: 862.1794 - _timestamp: 1654092152.0000 - _runtime: 4061.0000\n",
      "Epoch 346/1000\n",
      "49/49 [==============================] - 7s 146ms/step - loss: 230.2901 - val_loss: 418.3643 - _timestamp: 1654092159.0000 - _runtime: 4068.0000\n",
      "Epoch 347/1000\n",
      "49/49 [==============================] - 11s 235ms/step - loss: 228.1767 - val_loss: 834.0071 - _timestamp: 1654092171.0000 - _runtime: 4080.0000\n",
      "Epoch 348/1000\n",
      "49/49 [==============================] - 11s 224ms/step - loss: 221.4699 - val_loss: 322.0710 - _timestamp: 1654092182.0000 - _runtime: 4091.0000\n",
      "Epoch 349/1000\n",
      "49/49 [==============================] - 10s 208ms/step - loss: 242.5033 - val_loss: 311.9756 - _timestamp: 1654092192.0000 - _runtime: 4101.0000\n",
      "Epoch 350/1000\n",
      "49/49 [==============================] - 12s 238ms/step - loss: 233.1171 - val_loss: 291.6129 - _timestamp: 1654092215.0000 - _runtime: 4124.0000\n",
      "Epoch 351/1000\n",
      "49/49 [==============================] - 9s 187ms/step - loss: 230.8264 - val_loss: 371.9087 - _timestamp: 1654092224.0000 - _runtime: 4133.0000\n",
      "Epoch 352/1000\n",
      "49/49 [==============================] - 11s 228ms/step - loss: 271.4426 - val_loss: 533.6825 - _timestamp: 1654092236.0000 - _runtime: 4145.0000\n",
      "Epoch 353/1000\n",
      "49/49 [==============================] - 11s 231ms/step - loss: 200.7093 - val_loss: 295.6128 - _timestamp: 1654092244.0000 - _runtime: 4153.0000\n",
      "Epoch 354/1000\n",
      "49/49 [==============================] - 9s 185ms/step - loss: 214.2200 - val_loss: 246.6819 - _timestamp: 1654092256.0000 - _runtime: 4165.0000\n",
      "Epoch 355/1000\n",
      "49/49 [==============================] - 9s 175ms/step - loss: 245.8182 - val_loss: 242.1484 - _timestamp: 1654092265.0000 - _runtime: 4174.0000\n",
      "Epoch 356/1000\n",
      "49/49 [==============================] - 9s 179ms/step - loss: 269.2262 - val_loss: 423.7367 - _timestamp: 1654092274.0000 - _runtime: 4183.0000\n",
      "Epoch 357/1000\n",
      "49/49 [==============================] - 10s 194ms/step - loss: 231.6937 - val_loss: 418.5429 - _timestamp: 1654092283.0000 - _runtime: 4192.0000\n",
      "Epoch 358/1000\n",
      "49/49 [==============================] - 10s 200ms/step - loss: 254.0302 - val_loss: 423.0978 - _timestamp: 1654092293.0000 - _runtime: 4202.0000\n",
      "Epoch 359/1000\n",
      "49/49 [==============================] - 9s 188ms/step - loss: 321.3244 - val_loss: 489.9804 - _timestamp: 1654092303.0000 - _runtime: 4212.0000\n",
      "Epoch 360/1000\n",
      "49/49 [==============================] - 9s 192ms/step - loss: 245.3021 - val_loss: 948.4697 - _timestamp: 1654092312.0000 - _runtime: 4221.0000\n",
      "Epoch 361/1000\n",
      "49/49 [==============================] - 9s 188ms/step - loss: 242.7911 - val_loss: 585.1923 - _timestamp: 1654092322.0000 - _runtime: 4231.0000\n",
      "Epoch 362/1000\n",
      "49/49 [==============================] - 9s 185ms/step - loss: 269.4749 - val_loss: 746.3357 - _timestamp: 1654092331.0000 - _runtime: 4240.0000\n",
      "Epoch 363/1000\n",
      "49/49 [==============================] - 17s 341ms/step - loss: 178.2666 - val_loss: 433.5536 - _timestamp: 1654092338.0000 - _runtime: 4247.0000\n",
      "Epoch 364/1000\n",
      "49/49 [==============================] - 7s 149ms/step - loss: 201.2605 - val_loss: 374.0061 - _timestamp: 1654092355.0000 - _runtime: 4264.0000\n",
      "Epoch 365/1000\n",
      "49/49 [==============================] - 7s 137ms/step - loss: 240.6320 - val_loss: 1145.7300 - _timestamp: 1654092362.0000 - _runtime: 4271.0000\n",
      "Epoch 366/1000\n",
      "49/49 [==============================] - 8s 160ms/step - loss: 243.8727 - val_loss: 498.1191 - _timestamp: 1654092370.0000 - _runtime: 4279.0000\n",
      "Epoch 367/1000\n",
      "49/49 [==============================] - 8s 153ms/step - loss: 247.1820 - val_loss: 747.0682 - _timestamp: 1654092377.0000 - _runtime: 4286.0000\n",
      "Epoch 368/1000\n",
      "49/49 [==============================] - 11s 209ms/step - loss: 263.2153 - val_loss: 559.4886 - _timestamp: 1654092388.0000 - _runtime: 4297.0000\n",
      "Epoch 369/1000\n",
      "49/49 [==============================] - 12s 236ms/step - loss: 189.2938 - val_loss: 251.1328 - _timestamp: 1654092400.0000 - _runtime: 4309.0000\n",
      "Epoch 370/1000\n",
      "49/49 [==============================] - 9s 185ms/step - loss: 272.1305 - val_loss: 660.1168 - _timestamp: 1654092418.0000 - _runtime: 4327.0000\n",
      "Epoch 371/1000\n",
      "49/49 [==============================] - 11s 224ms/step - loss: 196.5816 - val_loss: 750.8190 - _timestamp: 1654092429.0000 - _runtime: 4338.0000\n",
      "Epoch 372/1000\n",
      "49/49 [==============================] - 11s 234ms/step - loss: 199.7869 - val_loss: 411.1951 - _timestamp: 1654092440.0000 - _runtime: 4349.0000\n",
      "Epoch 373/1000\n",
      "49/49 [==============================] - 12s 218ms/step - loss: 243.0688 - val_loss: 318.1626 - _timestamp: 1654092452.0000 - _runtime: 4361.0000\n",
      "Epoch 374/1000\n",
      "49/49 [==============================] - 12s 234ms/step - loss: 254.7531 - val_loss: 489.4297 - _timestamp: 1654092464.0000 - _runtime: 4373.0000\n",
      "Epoch 375/1000\n",
      "49/49 [==============================] - 9s 189ms/step - loss: 232.0612 - val_loss: 1084.9340 - _timestamp: 1654092473.0000 - _runtime: 4382.0000\n",
      "Epoch 376/1000\n",
      "49/49 [==============================] - 9s 191ms/step - loss: 258.4493 - val_loss: 362.5037 - _timestamp: 1654092483.0000 - _runtime: 4392.0000\n",
      "Epoch 377/1000\n",
      "49/49 [==============================] - 10s 200ms/step - loss: 212.1979 - val_loss: 320.6721 - _timestamp: 1654092493.0000 - _runtime: 4402.0000\n",
      "Epoch 378/1000\n",
      "49/49 [==============================] - 8s 170ms/step - loss: 256.7180 - val_loss: 395.8668 - _timestamp: 1654092502.0000 - _runtime: 4411.0000\n",
      "Epoch 379/1000\n",
      "49/49 [==============================] - 7s 142ms/step - loss: 212.8436 - val_loss: 403.9927 - _timestamp: 1654092509.0000 - _runtime: 4418.0000\n",
      "Epoch 380/1000\n",
      "49/49 [==============================] - 7s 150ms/step - loss: 215.9442 - val_loss: 1615.7830 - _timestamp: 1654092516.0000 - _runtime: 4425.0000\n",
      "Epoch 381/1000\n",
      "49/49 [==============================] - 9s 180ms/step - loss: 270.5675 - val_loss: 1061.3048 - _timestamp: 1654092525.0000 - _runtime: 4434.0000\n",
      "Epoch 382/1000\n",
      "49/49 [==============================] - 9s 190ms/step - loss: 202.4467 - val_loss: 1172.4388 - _timestamp: 1654092536.0000 - _runtime: 4445.0000\n",
      "Epoch 383/1000\n",
      "49/49 [==============================] - 9s 186ms/step - loss: 318.4318 - val_loss: 934.7465 - _timestamp: 1654092546.0000 - _runtime: 4455.0000\n",
      "Epoch 384/1000\n",
      "49/49 [==============================] - 10s 211ms/step - loss: 318.6269 - val_loss: 614.4098 - _timestamp: 1654092557.0000 - _runtime: 4466.0000\n",
      "Epoch 385/1000\n",
      "49/49 [==============================] - 11s 210ms/step - loss: 254.5762 - val_loss: 591.6012 - _timestamp: 1654092568.0000 - _runtime: 4477.0000\n",
      "Epoch 386/1000\n",
      "49/49 [==============================] - 11s 228ms/step - loss: 238.7727 - val_loss: 309.2701 - _timestamp: 1654092579.0000 - _runtime: 4488.0000\n",
      "Epoch 387/1000\n",
      "49/49 [==============================] - 15s 298ms/step - loss: 207.4615 - val_loss: 442.4854 - _timestamp: 1654092594.0000 - _runtime: 4503.0000\n",
      "Epoch 388/1000\n",
      "49/49 [==============================] - 13s 252ms/step - loss: 261.7116 - val_loss: 416.6094 - _timestamp: 1654092612.0000 - _runtime: 4521.0000\n",
      "Epoch 389/1000\n",
      "49/49 [==============================] - 13s 276ms/step - loss: 260.8360 - val_loss: 838.6316 - _timestamp: 1654092626.0000 - _runtime: 4535.0000\n",
      "Epoch 390/1000\n",
      "49/49 [==============================] - 13s 267ms/step - loss: 316.7797 - val_loss: 3085.1189 - _timestamp: 1654092639.0000 - _runtime: 4548.0000\n",
      "Epoch 391/1000\n",
      "49/49 [==============================] - 13s 268ms/step - loss: 313.0596 - val_loss: 850.6229 - _timestamp: 1654092652.0000 - _runtime: 4561.0000\n",
      "Epoch 392/1000\n",
      "49/49 [==============================] - 9s 191ms/step - loss: 259.6462 - val_loss: 686.5600 - _timestamp: 1654092662.0000 - _runtime: 4571.0000\n",
      "Epoch 393/1000\n",
      "49/49 [==============================] - 12s 244ms/step - loss: 357.6761 - val_loss: 747.8083 - _timestamp: 1654092674.0000 - _runtime: 4583.0000\n",
      "Epoch 394/1000\n",
      "49/49 [==============================] - 9s 192ms/step - loss: 255.6279 - val_loss: 283.9961 - _timestamp: 1654092683.0000 - _runtime: 4592.0000\n",
      "Epoch 395/1000\n",
      "49/49 [==============================] - 13s 260ms/step - loss: 357.1119 - val_loss: 326.0534 - _timestamp: 1654092697.0000 - _runtime: 4606.0000\n",
      "Epoch 396/1000\n",
      "49/49 [==============================] - 13s 258ms/step - loss: 272.9230 - val_loss: 301.8712 - _timestamp: 1654092709.0000 - _runtime: 4618.0000\n",
      "Epoch 397/1000\n",
      "49/49 [==============================] - 11s 227ms/step - loss: 271.8891 - val_loss: 557.6965 - _timestamp: 1654092720.0000 - _runtime: 4629.0000\n",
      "Epoch 398/1000\n",
      "49/49 [==============================] - 14s 286ms/step - loss: 242.3598 - val_loss: 501.5659 - _timestamp: 1654092735.0000 - _runtime: 4644.0000\n",
      "Epoch 399/1000\n",
      "49/49 [==============================] - 15s 311ms/step - loss: 267.6568 - val_loss: 386.2122 - _timestamp: 1654092750.0000 - _runtime: 4659.0000\n",
      "Epoch 400/1000\n",
      "49/49 [==============================] - 14s 293ms/step - loss: 207.5811 - val_loss: 556.9885 - _timestamp: 1654092770.0000 - _runtime: 4679.0000\n",
      "Epoch 401/1000\n",
      "49/49 [==============================] - 14s 287ms/step - loss: 267.3742 - val_loss: 248.5977 - _timestamp: 1654092784.0000 - _runtime: 4693.0000\n",
      "Epoch 402/1000\n",
      "49/49 [==============================] - 18s 361ms/step - loss: 271.1920 - val_loss: 579.9673 - _timestamp: 1654092808.0000 - _runtime: 4717.0000\n",
      "Epoch 403/1000\n",
      "49/49 [==============================] - 20s 398ms/step - loss: 215.3145 - val_loss: 564.4634 - _timestamp: 1654092828.0000 - _runtime: 4737.0000\n",
      "Epoch 404/1000\n",
      "49/49 [==============================] - 18s 361ms/step - loss: 227.2346 - val_loss: 511.2609 - _timestamp: 1654092845.0000 - _runtime: 4754.0000\n",
      "Epoch 405/1000\n",
      "49/49 [==============================] - 15s 297ms/step - loss: 242.7392 - val_loss: 428.5402 - _timestamp: 1654092863.0000 - _runtime: 4772.0000\n",
      "Epoch 406/1000\n",
      "49/49 [==============================] - 19s 396ms/step - loss: 248.2702 - val_loss: 441.3871 - _timestamp: 1654092882.0000 - _runtime: 4791.0000\n",
      "Epoch 407/1000\n",
      "49/49 [==============================] - 18s 357ms/step - loss: 242.4695 - val_loss: 312.3545 - _timestamp: 1654092900.0000 - _runtime: 4809.0000\n",
      "Epoch 408/1000\n",
      "49/49 [==============================] - 16s 320ms/step - loss: 199.4358 - val_loss: 850.0462 - _timestamp: 1654092919.0000 - _runtime: 4828.0000\n",
      "Epoch 409/1000\n",
      "49/49 [==============================] - 16s 321ms/step - loss: 191.5706 - val_loss: 826.8201 - _timestamp: 1654092935.0000 - _runtime: 4844.0000\n",
      "Epoch 410/1000\n",
      "49/49 [==============================] - 15s 311ms/step - loss: 262.0622 - val_loss: 319.7087 - _timestamp: 1654092955.0000 - _runtime: 4864.0000\n",
      "Epoch 411/1000\n",
      "49/49 [==============================] - 17s 340ms/step - loss: 245.2850 - val_loss: 376.8071 - _timestamp: 1654092976.0000 - _runtime: 4885.0000\n",
      "Epoch 412/1000\n",
      "49/49 [==============================] - 16s 325ms/step - loss: 198.7127 - val_loss: 632.3643 - _timestamp: 1654092992.0000 - _runtime: 4901.0000\n",
      "Epoch 413/1000\n",
      "49/49 [==============================] - 16s 326ms/step - loss: 203.8838 - val_loss: 432.2672 - _timestamp: 1654093009.0000 - _runtime: 4918.0000\n",
      "Epoch 414/1000\n",
      "49/49 [==============================] - 16s 334ms/step - loss: 212.0426 - val_loss: 243.6828 - _timestamp: 1654093025.0000 - _runtime: 4934.0000\n",
      "Epoch 415/1000\n",
      "49/49 [==============================] - 13s 258ms/step - loss: 217.2661 - val_loss: 514.5560 - _timestamp: 1654093038.0000 - _runtime: 4947.0000\n",
      "Epoch 416/1000\n",
      "49/49 [==============================] - 11s 229ms/step - loss: 235.1863 - val_loss: 727.9478 - _timestamp: 1654093049.0000 - _runtime: 4958.0000\n",
      "Epoch 417/1000\n",
      "49/49 [==============================] - 12s 234ms/step - loss: 215.3716 - val_loss: 565.0956 - _timestamp: 1654093070.0000 - _runtime: 4979.0000\n",
      "Epoch 418/1000\n",
      "49/49 [==============================] - 11s 228ms/step - loss: 222.0821 - val_loss: 893.1516 - _timestamp: 1654093081.0000 - _runtime: 4990.0000\n",
      "Epoch 419/1000\n",
      "49/49 [==============================] - 11s 225ms/step - loss: 199.0629 - val_loss: 328.0918 - _timestamp: 1654093092.0000 - _runtime: 5001.0000\n",
      "Epoch 420/1000\n",
      "49/49 [==============================] - 11s 222ms/step - loss: 197.4713 - val_loss: 391.2469 - _timestamp: 1654093103.0000 - _runtime: 5012.0000\n",
      "Epoch 421/1000\n",
      "49/49 [==============================] - ETA: 0s - loss: 287.9085"
     ]
    },
    {
     "name": "stderr",
     "output_type": "stream",
     "text": [
      "WARNING:absl:Found untraced functions such as lstm_cell_6_layer_call_fn, lstm_cell_6_layer_call_and_return_conditional_losses, lstm_cell_7_layer_call_fn, lstm_cell_7_layer_call_and_return_conditional_losses while saving (showing 4 of 4). These functions will not be directly callable after loading.\n"
     ]
    },
    {
     "name": "stdout",
     "output_type": "stream",
     "text": [
      "INFO:tensorflow:Assets written to: ../model/demand_forecasting/assets\n"
     ]
    },
    {
     "name": "stderr",
     "output_type": "stream",
     "text": [
      "INFO:tensorflow:Assets written to: ../model/demand_forecasting/assets\n",
      "WARNING:absl:<keras.layers.recurrent.LSTMCell object at 0x7f3bb91f7340> has the same name 'LSTMCell' as a built-in Keras object. Consider renaming <class 'keras.layers.recurrent.LSTMCell'> to avoid naming conflicts when loading with `tf.keras.models.load_model`. If renaming is not possible, pass the object in the `custom_objects` parameter of the load function.\n",
      "WARNING:absl:<keras.layers.recurrent.LSTMCell object at 0x7f3bb9182130> has the same name 'LSTMCell' as a built-in Keras object. Consider renaming <class 'keras.layers.recurrent.LSTMCell'> to avoid naming conflicts when loading with `tf.keras.models.load_model`. If renaming is not possible, pass the object in the `custom_objects` parameter of the load function.\n"
     ]
    },
    {
     "name": "stdout",
     "output_type": "stream",
     "text": [
      "49/49 [==============================] - 392s 8s/step - loss: 287.9085 - val_loss: 166.6418 - _timestamp: 1654093114.0000 - _runtime: 5023.0000\n",
      "Epoch 422/1000\n",
      "49/49 [==============================] - 17s 296ms/step - loss: 316.1742 - val_loss: 188.5580 - _timestamp: 1654093515.0000 - _runtime: 5424.0000\n",
      "Epoch 423/1000\n",
      "49/49 [==============================] - 14s 285ms/step - loss: 262.5540 - val_loss: 615.2442 - _timestamp: 1654093533.0000 - _runtime: 5442.0000\n",
      "Epoch 424/1000\n",
      "49/49 [==============================] - 15s 299ms/step - loss: 281.2200 - val_loss: 450.1551 - _timestamp: 1654093554.0000 - _runtime: 5463.0000\n",
      "Epoch 425/1000\n",
      "49/49 [==============================] - 14s 293ms/step - loss: 254.8639 - val_loss: 1422.2186 - _timestamp: 1654093569.0000 - _runtime: 5478.0000\n",
      "Epoch 426/1000\n",
      "49/49 [==============================] - 15s 308ms/step - loss: 231.9596 - val_loss: 747.1530 - _timestamp: 1654093584.0000 - _runtime: 5493.0000\n",
      "Epoch 427/1000\n",
      "49/49 [==============================] - 15s 309ms/step - loss: 179.6725 - val_loss: 555.2182 - _timestamp: 1654093599.0000 - _runtime: 5508.0000\n",
      "Epoch 428/1000\n",
      "49/49 [==============================] - 15s 308ms/step - loss: 256.3366 - val_loss: 331.4524 - _timestamp: 1654093615.0000 - _runtime: 5524.0000\n",
      "Epoch 429/1000\n",
      "49/49 [==============================] - 14s 289ms/step - loss: 242.0631 - val_loss: 677.1201 - _timestamp: 1654093629.0000 - _runtime: 5538.0000\n",
      "Epoch 430/1000\n",
      "49/49 [==============================] - 15s 310ms/step - loss: 238.0824 - val_loss: 470.5288 - _timestamp: 1654093650.0000 - _runtime: 5559.0000\n",
      "Epoch 431/1000\n",
      "49/49 [==============================] - 15s 295ms/step - loss: 193.2702 - val_loss: 832.4883 - _timestamp: 1654093665.0000 - _runtime: 5574.0000\n",
      "Epoch 432/1000\n",
      "49/49 [==============================] - 15s 303ms/step - loss: 260.4330 - val_loss: 445.7497 - _timestamp: 1654093686.0000 - _runtime: 5595.0000\n",
      "Epoch 433/1000\n",
      "49/49 [==============================] - 13s 272ms/step - loss: 261.2592 - val_loss: 581.5186 - _timestamp: 1654093699.0000 - _runtime: 5608.0000\n",
      "Epoch 434/1000\n",
      "49/49 [==============================] - 13s 266ms/step - loss: 220.5717 - val_loss: 660.5789 - _timestamp: 1654093712.0000 - _runtime: 5621.0000\n",
      "Epoch 435/1000\n",
      "49/49 [==============================] - 13s 272ms/step - loss: 202.7987 - val_loss: 1058.8048 - _timestamp: 1654093726.0000 - _runtime: 5635.0000\n",
      "Epoch 436/1000\n",
      "49/49 [==============================] - 14s 282ms/step - loss: 220.8583 - val_loss: 282.9482 - _timestamp: 1654093747.0000 - _runtime: 5656.0000\n",
      "Epoch 437/1000\n",
      "49/49 [==============================] - 15s 304ms/step - loss: 209.7406 - val_loss: 553.6364 - _timestamp: 1654093762.0000 - _runtime: 5671.0000\n",
      "Epoch 438/1000\n",
      "49/49 [==============================] - 15s 301ms/step - loss: 190.3685 - val_loss: 484.9032 - _timestamp: 1654093782.0000 - _runtime: 5691.0000\n",
      "Epoch 439/1000\n",
      "49/49 [==============================] - 15s 308ms/step - loss: 228.1643 - val_loss: 380.5252 - _timestamp: 1654093797.0000 - _runtime: 5706.0000\n",
      "Epoch 440/1000\n",
      "49/49 [==============================] - 14s 287ms/step - loss: 154.1066 - val_loss: 664.7957 - _timestamp: 1654093811.0000 - _runtime: 5720.0000\n",
      "Epoch 441/1000\n",
      "49/49 [==============================] - 15s 297ms/step - loss: 194.4240 - val_loss: 492.3185 - _timestamp: 1654093833.0000 - _runtime: 5742.0000\n",
      "Epoch 442/1000\n",
      "49/49 [==============================] - 15s 306ms/step - loss: 258.7350 - val_loss: 503.7533 - _timestamp: 1654093853.0000 - _runtime: 5762.0000\n",
      "Epoch 443/1000\n",
      "49/49 [==============================] - 14s 289ms/step - loss: 274.7619 - val_loss: 181.4737 - _timestamp: 1654093868.0000 - _runtime: 5777.0000\n",
      "Epoch 444/1000\n",
      "49/49 [==============================] - 15s 299ms/step - loss: 221.1034 - val_loss: 279.0374 - _timestamp: 1654093883.0000 - _runtime: 5792.0000\n",
      "Epoch 445/1000\n",
      "49/49 [==============================] - 15s 315ms/step - loss: 270.1180 - val_loss: 399.1050 - _timestamp: 1654093904.0000 - _runtime: 5813.0000\n",
      "Epoch 446/1000\n",
      "49/49 [==============================] - 15s 304ms/step - loss: 301.3801 - val_loss: 842.6797 - _timestamp: 1654093924.0000 - _runtime: 5833.0000\n",
      "Epoch 447/1000\n",
      "49/49 [==============================] - 15s 306ms/step - loss: 311.6148 - val_loss: 515.2427 - _timestamp: 1654093939.0000 - _runtime: 5848.0000\n",
      "Epoch 448/1000\n",
      "49/49 [==============================] - 15s 297ms/step - loss: 278.1046 - val_loss: 961.8314 - _timestamp: 1654093954.0000 - _runtime: 5863.0000\n",
      "Epoch 449/1000\n",
      "49/49 [==============================] - 15s 304ms/step - loss: 300.5703 - val_loss: 198.0220 - _timestamp: 1654093969.0000 - _runtime: 5878.0000\n",
      "Epoch 450/1000\n",
      "49/49 [==============================] - 15s 298ms/step - loss: 271.3095 - val_loss: 1186.2235 - _timestamp: 1654093983.0000 - _runtime: 5892.0000\n",
      "Epoch 451/1000\n",
      "49/49 [==============================] - 14s 294ms/step - loss: 215.7496 - val_loss: 321.5526 - _timestamp: 1654093998.0000 - _runtime: 5907.0000\n",
      "Epoch 452/1000\n",
      "49/49 [==============================] - 14s 286ms/step - loss: 213.9228 - val_loss: 287.0284 - _timestamp: 1654094012.0000 - _runtime: 5921.0000\n",
      "Epoch 453/1000\n",
      "49/49 [==============================] - ETA: 0s - loss: 218.3319"
     ]
    },
    {
     "name": "stderr",
     "output_type": "stream",
     "text": [
      "WARNING:absl:Found untraced functions such as lstm_cell_6_layer_call_fn, lstm_cell_6_layer_call_and_return_conditional_losses, lstm_cell_7_layer_call_fn, lstm_cell_7_layer_call_and_return_conditional_losses while saving (showing 4 of 4). These functions will not be directly callable after loading.\n"
     ]
    },
    {
     "name": "stdout",
     "output_type": "stream",
     "text": [
      "INFO:tensorflow:Assets written to: ../model/demand_forecasting/assets\n"
     ]
    },
    {
     "name": "stderr",
     "output_type": "stream",
     "text": [
      "INFO:tensorflow:Assets written to: ../model/demand_forecasting/assets\n",
      "WARNING:absl:<keras.layers.recurrent.LSTMCell object at 0x7f3bb91f7340> has the same name 'LSTMCell' as a built-in Keras object. Consider renaming <class 'keras.layers.recurrent.LSTMCell'> to avoid naming conflicts when loading with `tf.keras.models.load_model`. If renaming is not possible, pass the object in the `custom_objects` parameter of the load function.\n",
      "WARNING:absl:<keras.layers.recurrent.LSTMCell object at 0x7f3bb9182130> has the same name 'LSTMCell' as a built-in Keras object. Consider renaming <class 'keras.layers.recurrent.LSTMCell'> to avoid naming conflicts when loading with `tf.keras.models.load_model`. If renaming is not possible, pass the object in the `custom_objects` parameter of the load function.\n"
     ]
    },
    {
     "name": "stdout",
     "output_type": "stream",
     "text": [
      "49/49 [==============================] - 54s 1s/step - loss: 218.3319 - val_loss: 126.0706 - _timestamp: 1654094027.0000 - _runtime: 5936.0000\n",
      "Epoch 454/1000\n",
      "49/49 [==============================] - 9s 187ms/step - loss: 234.4474 - val_loss: 929.9450 - _timestamp: 1654094075.0000 - _runtime: 5984.0000\n",
      "Epoch 455/1000\n",
      "49/49 [==============================] - 9s 189ms/step - loss: 253.2283 - val_loss: 460.5465 - _timestamp: 1654094085.0000 - _runtime: 5994.0000\n",
      "Epoch 456/1000\n",
      "49/49 [==============================] - 11s 215ms/step - loss: 269.5876 - val_loss: 403.3936 - _timestamp: 1654094096.0000 - _runtime: 6005.0000\n",
      "Epoch 457/1000\n",
      "49/49 [==============================] - 9s 180ms/step - loss: 315.8256 - val_loss: 797.3604 - _timestamp: 1654094105.0000 - _runtime: 6014.0000\n",
      "Epoch 458/1000\n",
      "49/49 [==============================] - 9s 177ms/step - loss: 291.8016 - val_loss: 479.3569 - _timestamp: 1654094114.0000 - _runtime: 6023.0000\n",
      "Epoch 459/1000\n",
      "49/49 [==============================] - 12s 242ms/step - loss: 288.2608 - val_loss: 348.9520 - _timestamp: 1654094127.0000 - _runtime: 6036.0000\n",
      "Epoch 460/1000\n",
      "49/49 [==============================] - 17s 343ms/step - loss: 336.7207 - val_loss: 1741.3124 - _timestamp: 1654094144.0000 - _runtime: 6053.0000\n",
      "Epoch 461/1000\n",
      "49/49 [==============================] - 18s 359ms/step - loss: 271.7690 - val_loss: 1121.6411 - _timestamp: 1654094162.0000 - _runtime: 6071.0000\n",
      "Epoch 462/1000\n",
      "49/49 [==============================] - 14s 292ms/step - loss: 221.7235 - val_loss: 481.5085 - _timestamp: 1654094176.0000 - _runtime: 6085.0000\n",
      "Epoch 463/1000\n",
      "49/49 [==============================] - 14s 286ms/step - loss: 257.8035 - val_loss: 515.4600 - _timestamp: 1654094196.0000 - _runtime: 6105.0000\n",
      "Epoch 464/1000\n",
      "49/49 [==============================] - 14s 294ms/step - loss: 266.6594 - val_loss: 401.6586 - _timestamp: 1654094217.0000 - _runtime: 6126.0000\n",
      "Epoch 465/1000\n",
      "49/49 [==============================] - 15s 303ms/step - loss: 244.9346 - val_loss: 655.0145 - _timestamp: 1654094232.0000 - _runtime: 6141.0000\n",
      "Epoch 466/1000\n",
      "49/49 [==============================] - 15s 302ms/step - loss: 281.8965 - val_loss: 460.9713 - _timestamp: 1654094247.0000 - _runtime: 6156.0000\n",
      "Epoch 467/1000\n",
      "49/49 [==============================] - 15s 299ms/step - loss: 243.6276 - val_loss: 1002.9547 - _timestamp: 1654094262.0000 - _runtime: 6171.0000\n",
      "Epoch 468/1000\n",
      "49/49 [==============================] - 15s 296ms/step - loss: 266.7109 - val_loss: 849.5893 - _timestamp: 1654094277.0000 - _runtime: 6186.0000\n",
      "Epoch 469/1000\n",
      "49/49 [==============================] - 15s 302ms/step - loss: 231.9340 - val_loss: 497.3697 - _timestamp: 1654094297.0000 - _runtime: 6206.0000\n",
      "Epoch 470/1000\n",
      "49/49 [==============================] - 13s 264ms/step - loss: 263.9410 - val_loss: 637.6012 - _timestamp: 1654094316.0000 - _runtime: 6225.0000\n",
      "Epoch 471/1000\n",
      "49/49 [==============================] - 14s 286ms/step - loss: 346.8786 - val_loss: 817.8500 - _timestamp: 1654094330.0000 - _runtime: 6239.0000\n",
      "Epoch 472/1000\n",
      "49/49 [==============================] - 15s 298ms/step - loss: 232.9383 - val_loss: 653.3854 - _timestamp: 1654094351.0000 - _runtime: 6260.0000\n",
      "Epoch 473/1000\n",
      "49/49 [==============================] - 14s 292ms/step - loss: 240.5102 - val_loss: 829.9505 - _timestamp: 1654094371.0000 - _runtime: 6280.0000\n",
      "Epoch 474/1000\n",
      "49/49 [==============================] - 15s 300ms/step - loss: 222.1272 - val_loss: 762.9349 - _timestamp: 1654094386.0000 - _runtime: 6295.0000\n",
      "Epoch 475/1000\n",
      "49/49 [==============================] - 14s 295ms/step - loss: 280.3115 - val_loss: 717.7244 - _timestamp: 1654094401.0000 - _runtime: 6310.0000\n",
      "Epoch 476/1000\n",
      "49/49 [==============================] - 13s 273ms/step - loss: 274.4186 - val_loss: 587.9734 - _timestamp: 1654094420.0000 - _runtime: 6329.0000\n",
      "Epoch 477/1000\n",
      "49/49 [==============================] - 14s 279ms/step - loss: 244.4512 - val_loss: 562.5814 - _timestamp: 1654094441.0000 - _runtime: 6350.0000\n",
      "Epoch 478/1000\n",
      "49/49 [==============================] - 14s 296ms/step - loss: 236.3198 - val_loss: 753.2081 - _timestamp: 1654094462.0000 - _runtime: 6371.0000\n",
      "Epoch 479/1000\n",
      "49/49 [==============================] - 15s 295ms/step - loss: 248.0858 - val_loss: 783.7834 - _timestamp: 1654094477.0000 - _runtime: 6386.0000\n",
      "Epoch 480/1000\n",
      "49/49 [==============================] - 16s 316ms/step - loss: 248.3029 - val_loss: 661.6075 - _timestamp: 1654094498.0000 - _runtime: 6407.0000\n",
      "Epoch 481/1000\n",
      "49/49 [==============================] - 13s 272ms/step - loss: 268.5580 - val_loss: 649.7076 - _timestamp: 1654094517.0000 - _runtime: 6426.0000\n",
      "Epoch 482/1000\n",
      "49/49 [==============================] - 13s 258ms/step - loss: 228.9536 - val_loss: 809.1146 - _timestamp: 1654094529.0000 - _runtime: 6438.0000\n",
      "Epoch 483/1000\n",
      "49/49 [==============================] - 16s 322ms/step - loss: 249.5589 - val_loss: 1112.2391 - _timestamp: 1654094545.0000 - _runtime: 6454.0000\n",
      "Epoch 484/1000\n",
      "49/49 [==============================] - 16s 318ms/step - loss: 238.0417 - val_loss: 691.5079 - _timestamp: 1654094561.0000 - _runtime: 6470.0000\n",
      "Epoch 485/1000\n",
      "49/49 [==============================] - 14s 283ms/step - loss: 264.0898 - val_loss: 1185.9109 - _timestamp: 1654094575.0000 - _runtime: 6484.0000\n",
      "Epoch 486/1000\n",
      "49/49 [==============================] - 16s 319ms/step - loss: 227.1563 - val_loss: 537.4954 - _timestamp: 1654094591.0000 - _runtime: 6500.0000\n",
      "Epoch 487/1000\n",
      "49/49 [==============================] - 16s 328ms/step - loss: 224.3254 - val_loss: 280.4406 - _timestamp: 1654094607.0000 - _runtime: 6516.0000\n",
      "Epoch 488/1000\n",
      "49/49 [==============================] - 16s 321ms/step - loss: 222.8969 - val_loss: 613.5599 - _timestamp: 1654094623.0000 - _runtime: 6532.0000\n",
      "Epoch 489/1000\n",
      "49/49 [==============================] - 13s 256ms/step - loss: 254.0367 - val_loss: 721.0070 - _timestamp: 1654094636.0000 - _runtime: 6545.0000\n",
      "Epoch 490/1000\n",
      "49/49 [==============================] - 15s 306ms/step - loss: 233.1438 - val_loss: 1189.9875 - _timestamp: 1654094659.0000 - _runtime: 6568.0000\n",
      "Epoch 491/1000\n",
      "49/49 [==============================] - 14s 288ms/step - loss: 274.1172 - val_loss: 1412.1794 - _timestamp: 1654094678.0000 - _runtime: 6587.0000\n",
      "Epoch 492/1000\n",
      "49/49 [==============================] - 15s 302ms/step - loss: 327.9872 - val_loss: 460.6354 - _timestamp: 1654094699.0000 - _runtime: 6608.0000\n",
      "Epoch 493/1000\n",
      "49/49 [==============================] - 15s 310ms/step - loss: 234.3260 - val_loss: 681.7414 - _timestamp: 1654094715.0000 - _runtime: 6624.0000\n",
      "Epoch 494/1000\n",
      "49/49 [==============================] - 15s 313ms/step - loss: 236.2166 - val_loss: 400.0265 - _timestamp: 1654094730.0000 - _runtime: 6639.0000\n",
      "Epoch 495/1000\n",
      "49/49 [==============================] - 15s 303ms/step - loss: 224.2096 - val_loss: 883.1534 - _timestamp: 1654094750.0000 - _runtime: 6659.0000\n",
      "Epoch 496/1000\n",
      "49/49 [==============================] - 14s 291ms/step - loss: 255.0038 - val_loss: 586.3200 - _timestamp: 1654094765.0000 - _runtime: 6674.0000\n",
      "Epoch 497/1000\n",
      "49/49 [==============================] - 13s 273ms/step - loss: 211.1360 - val_loss: 367.8987 - _timestamp: 1654094778.0000 - _runtime: 6687.0000\n",
      "Epoch 498/1000\n",
      "49/49 [==============================] - ETA: 0s - loss: 211.5590"
     ]
    },
    {
     "name": "stderr",
     "output_type": "stream",
     "text": [
      "WARNING:absl:Found untraced functions such as lstm_cell_6_layer_call_fn, lstm_cell_6_layer_call_and_return_conditional_losses, lstm_cell_7_layer_call_fn, lstm_cell_7_layer_call_and_return_conditional_losses while saving (showing 4 of 4). These functions will not be directly callable after loading.\n"
     ]
    },
    {
     "name": "stdout",
     "output_type": "stream",
     "text": [
      "INFO:tensorflow:Assets written to: ../model/demand_forecasting/assets\n"
     ]
    },
    {
     "name": "stderr",
     "output_type": "stream",
     "text": [
      "INFO:tensorflow:Assets written to: ../model/demand_forecasting/assets\n",
      "WARNING:absl:<keras.layers.recurrent.LSTMCell object at 0x7f3bb91f7340> has the same name 'LSTMCell' as a built-in Keras object. Consider renaming <class 'keras.layers.recurrent.LSTMCell'> to avoid naming conflicts when loading with `tf.keras.models.load_model`. If renaming is not possible, pass the object in the `custom_objects` parameter of the load function.\n",
      "WARNING:absl:<keras.layers.recurrent.LSTMCell object at 0x7f3bb9182130> has the same name 'LSTMCell' as a built-in Keras object. Consider renaming <class 'keras.layers.recurrent.LSTMCell'> to avoid naming conflicts when loading with `tf.keras.models.load_model`. If renaming is not possible, pass the object in the `custom_objects` parameter of the load function.\n"
     ]
    },
    {
     "name": "stdout",
     "output_type": "stream",
     "text": [
      "49/49 [==============================] - 121s 3s/step - loss: 211.5590 - val_loss: 118.8103 - _timestamp: 1654094793.0000 - _runtime: 6702.0000\n",
      "Epoch 499/1000\n",
      "49/49 [==============================] - 47s 432ms/step - loss: 273.0768 - val_loss: 895.6631 - _timestamp: 1654094967.0000 - _runtime: 6876.0000\n",
      "Epoch 500/1000\n",
      "49/49 [==============================] - 17s 350ms/step - loss: 240.9929 - val_loss: 683.8648 - _timestamp: 1654095020.0000 - _runtime: 6929.0000\n",
      "Epoch 501/1000\n",
      "49/49 [==============================] - 17s 337ms/step - loss: 225.0890 - val_loss: 592.3585 - _timestamp: 1654095040.0000 - _runtime: 6949.0000\n",
      "Epoch 502/1000\n",
      "49/49 [==============================] - 18s 372ms/step - loss: 191.3008 - val_loss: 256.9822 - _timestamp: 1654095058.0000 - _runtime: 6967.0000\n",
      "Epoch 503/1000\n",
      "49/49 [==============================] - 17s 336ms/step - loss: 254.6874 - val_loss: 971.3177 - _timestamp: 1654095075.0000 - _runtime: 6984.0000\n",
      "Epoch 504/1000\n",
      "49/49 [==============================] - 18s 355ms/step - loss: 213.2980 - val_loss: 466.0132 - _timestamp: 1654095096.0000 - _runtime: 7005.0000\n",
      "Epoch 505/1000\n",
      "49/49 [==============================] - 17s 347ms/step - loss: 224.4981 - val_loss: 363.1854 - _timestamp: 1654095116.0000 - _runtime: 7025.0000\n",
      "Epoch 506/1000\n",
      "49/49 [==============================] - 19s 391ms/step - loss: 242.1261 - val_loss: 168.5029 - _timestamp: 1654095136.0000 - _runtime: 7045.0000\n",
      "Epoch 507/1000\n",
      "49/49 [==============================] - 17s 339ms/step - loss: 364.0762 - val_loss: 387.0592 - _timestamp: 1654095154.0000 - _runtime: 7063.0000\n",
      "Epoch 508/1000\n",
      "49/49 [==============================] - 18s 370ms/step - loss: 307.7155 - val_loss: 499.9821 - _timestamp: 1654095172.0000 - _runtime: 7081.0000\n",
      "Epoch 509/1000\n",
      "49/49 [==============================] - 18s 373ms/step - loss: 202.9283 - val_loss: 204.0721 - _timestamp: 1654095191.0000 - _runtime: 7100.0000\n",
      "Epoch 510/1000\n",
      "49/49 [==============================] - 17s 343ms/step - loss: 207.2217 - val_loss: 608.9990 - _timestamp: 1654095210.0000 - _runtime: 7119.0000\n",
      "Epoch 511/1000\n",
      "49/49 [==============================] - 17s 341ms/step - loss: 294.3409 - val_loss: 646.6368 - _timestamp: 1654095227.0000 - _runtime: 7136.0000\n",
      "Epoch 512/1000\n",
      "49/49 [==============================] - 17s 338ms/step - loss: 210.8435 - val_loss: 172.8473 - _timestamp: 1654095243.0000 - _runtime: 7152.0000\n",
      "Epoch 513/1000\n",
      "49/49 [==============================] - 17s 344ms/step - loss: 230.4796 - val_loss: 231.1319 - _timestamp: 1654095264.0000 - _runtime: 7173.0000\n",
      "Epoch 514/1000\n",
      "49/49 [==============================] - 17s 344ms/step - loss: 254.5451 - val_loss: 279.0512 - _timestamp: 1654095281.0000 - _runtime: 7190.0000\n",
      "Epoch 515/1000\n",
      "49/49 [==============================] - 17s 341ms/step - loss: 222.0997 - val_loss: 2539.7678 - _timestamp: 1654095301.0000 - _runtime: 7210.0000\n",
      "Epoch 516/1000\n",
      "49/49 [==============================] - 17s 335ms/step - loss: 183.3888 - val_loss: 279.9704 - _timestamp: 1654095318.0000 - _runtime: 7227.0000\n",
      "Epoch 517/1000\n",
      "49/49 [==============================] - 17s 342ms/step - loss: 218.9522 - val_loss: 933.1898 - _timestamp: 1654095339.0000 - _runtime: 7248.0000\n",
      "Epoch 518/1000\n",
      "49/49 [==============================] - 16s 337ms/step - loss: 226.0218 - val_loss: 179.6211 - _timestamp: 1654095355.0000 - _runtime: 7264.0000\n",
      "Epoch 519/1000\n",
      "49/49 [==============================] - 16s 323ms/step - loss: 274.2486 - val_loss: 294.9636 - _timestamp: 1654095375.0000 - _runtime: 7284.0000\n",
      "Epoch 520/1000\n",
      "49/49 [==============================] - 18s 361ms/step - loss: 220.7174 - val_loss: 239.4875 - _timestamp: 1654095393.0000 - _runtime: 7302.0000\n",
      "Epoch 521/1000\n",
      "49/49 [==============================] - 18s 371ms/step - loss: 223.3966 - val_loss: 383.4622 - _timestamp: 1654095411.0000 - _runtime: 7320.0000\n",
      "Epoch 522/1000\n",
      "49/49 [==============================] - 18s 364ms/step - loss: 215.6320 - val_loss: 476.5309 - _timestamp: 1654095432.0000 - _runtime: 7341.0000\n",
      "Epoch 523/1000\n",
      "49/49 [==============================] - 17s 340ms/step - loss: 253.0208 - val_loss: 287.7140 - _timestamp: 1654095451.0000 - _runtime: 7360.0000\n",
      "Epoch 524/1000\n",
      "49/49 [==============================] - 18s 372ms/step - loss: 248.0699 - val_loss: 153.2481 - _timestamp: 1654095469.0000 - _runtime: 7378.0000\n",
      "Epoch 525/1000\n",
      "49/49 [==============================] - 18s 364ms/step - loss: 262.8217 - val_loss: 153.6300 - _timestamp: 1654095487.0000 - _runtime: 7396.0000\n",
      "Epoch 526/1000\n",
      "49/49 [==============================] - 18s 360ms/step - loss: 211.3118 - val_loss: 894.2893 - _timestamp: 1654095505.0000 - _runtime: 7414.0000\n",
      "Epoch 527/1000\n",
      "49/49 [==============================] - 16s 331ms/step - loss: 242.1134 - val_loss: 345.9548 - _timestamp: 1654095521.0000 - _runtime: 7430.0000\n",
      "Epoch 528/1000\n",
      "49/49 [==============================] - 18s 364ms/step - loss: 227.2285 - val_loss: 168.2172 - _timestamp: 1654095543.0000 - _runtime: 7452.0000\n",
      "Epoch 529/1000\n",
      "49/49 [==============================] - ETA: 0s - loss: 232.9463"
     ]
    },
    {
     "name": "stderr",
     "output_type": "stream",
     "text": [
      "WARNING:absl:Found untraced functions such as lstm_cell_6_layer_call_fn, lstm_cell_6_layer_call_and_return_conditional_losses, lstm_cell_7_layer_call_fn, lstm_cell_7_layer_call_and_return_conditional_losses while saving (showing 4 of 4). These functions will not be directly callable after loading.\n"
     ]
    },
    {
     "name": "stdout",
     "output_type": "stream",
     "text": [
      "INFO:tensorflow:Assets written to: ../model/demand_forecasting/assets\n"
     ]
    },
    {
     "name": "stderr",
     "output_type": "stream",
     "text": [
      "INFO:tensorflow:Assets written to: ../model/demand_forecasting/assets\n",
      "WARNING:absl:<keras.layers.recurrent.LSTMCell object at 0x7f3bb91f7340> has the same name 'LSTMCell' as a built-in Keras object. Consider renaming <class 'keras.layers.recurrent.LSTMCell'> to avoid naming conflicts when loading with `tf.keras.models.load_model`. If renaming is not possible, pass the object in the `custom_objects` parameter of the load function.\n",
      "WARNING:absl:<keras.layers.recurrent.LSTMCell object at 0x7f3bb9182130> has the same name 'LSTMCell' as a built-in Keras object. Consider renaming <class 'keras.layers.recurrent.LSTMCell'> to avoid naming conflicts when loading with `tf.keras.models.load_model`. If renaming is not possible, pass the object in the `custom_objects` parameter of the load function.\n"
     ]
    },
    {
     "name": "stdout",
     "output_type": "stream",
     "text": [
      "49/49 [==============================] - 130s 3s/step - loss: 232.9463 - val_loss: 109.2989 - _timestamp: 1654095561.0000 - _runtime: 7470.0000\n",
      "Epoch 530/1000\n",
      "49/49 [==============================] - 18s 363ms/step - loss: 251.7414 - val_loss: 364.6102 - _timestamp: 1654095691.0000 - _runtime: 7600.0000\n",
      "Epoch 531/1000\n",
      "49/49 [==============================] - 18s 372ms/step - loss: 225.1179 - val_loss: 153.8731 - _timestamp: 1654095712.0000 - _runtime: 7621.0000\n",
      "Epoch 532/1000\n",
      "49/49 [==============================] - 17s 344ms/step - loss: 275.5646 - val_loss: 1330.5027 - _timestamp: 1654095729.0000 - _runtime: 7638.0000\n",
      "Epoch 533/1000\n",
      "49/49 [==============================] - 16s 333ms/step - loss: 264.0919 - val_loss: 426.6331 - _timestamp: 1654095746.0000 - _runtime: 7655.0000\n",
      "Epoch 534/1000\n",
      "49/49 [==============================] - 19s 379ms/step - loss: 246.9800 - val_loss: 139.9969 - _timestamp: 1654095764.0000 - _runtime: 7673.0000\n",
      "Epoch 535/1000\n",
      "49/49 [==============================] - 17s 339ms/step - loss: 210.5069 - val_loss: 1058.6919 - _timestamp: 1654095783.0000 - _runtime: 7692.0000\n",
      "Epoch 536/1000\n",
      "49/49 [==============================] - 17s 338ms/step - loss: 302.5299 - val_loss: 310.8810 - _timestamp: 1654095799.0000 - _runtime: 7708.0000\n",
      "Epoch 537/1000\n",
      "49/49 [==============================] - 15s 314ms/step - loss: 269.9344 - val_loss: 548.3243 - _timestamp: 1654095819.0000 - _runtime: 7728.0000\n",
      "Epoch 538/1000\n",
      "49/49 [==============================] - 16s 320ms/step - loss: 233.4346 - val_loss: 1344.3232 - _timestamp: 1654095834.0000 - _runtime: 7743.0000\n",
      "Epoch 539/1000\n",
      "49/49 [==============================] - 17s 350ms/step - loss: 231.6242 - val_loss: 542.6185 - _timestamp: 1654095856.0000 - _runtime: 7765.0000\n",
      "Epoch 540/1000\n",
      "49/49 [==============================] - 19s 387ms/step - loss: 214.7532 - val_loss: 378.9490 - _timestamp: 1654095873.0000 - _runtime: 7782.0000\n"
     ]
    }
   ],
   "source": [
    "history = model.fit(\n",
    "    train_set,\n",
    "    validation_data=valid_set,\n",
    "    epochs=1000,\n",
    "    callbacks=[WandbCallback(), earlystopping_cb, checkpoint_cb],\n",
    ")"
   ]
  },
  {
   "cell_type": "code",
   "execution_count": 57,
   "id": "384cc7a6",
   "metadata": {},
   "outputs": [
    {
     "data": {
      "image/png": "[encoded data removed]",
      "text/plain": [
       "<Figure size 1008x576 with 1 Axes>"
      ]
     },
     "metadata": {
      "needs_background": "light"
     },
     "output_type": "display_data"
    }
   ],
   "source": [
    "show_history(history)"
   ]
  },
  {
   "cell_type": "markdown",
   "id": "89b6aaec",
   "metadata": {},
   "source": [
    "### Price Optimization Demonstration"
   ]
  },
  {
   "cell_type": "code",
   "execution_count": 106,
   "id": "5918e57c",
   "metadata": {},
   "outputs": [],
   "source": [
    "def predict_next_week(model, data):\n",
    "    pred = model.predict(data)[0][0]\n",
    "    \n",
    "    return pred\n",
    "\n",
    "def forecast(model, data, prices, window_size=config.window_size, batch_size=config.batch_size, buffer_size=config.buffer_size):\n",
    "    data = data[['scaled_sales', 'scaled_price', 'sales']].copy()\n",
    "    predictions = []\n",
    "    for price in prices:\n",
    "        data = data.append({'scaled_sales':0, 'scaled_price': scaler.transform([[0, price]])[0, 1]}, ignore_index = True)\n",
    "        current_week = create_windowed_dataset(data.iloc[-(config.batch_size + config.window_size):], with_label=True)\n",
    "        next_week_sales = predict_next_week(model, current_week)\n",
    "        predictions.append(next_week_sales)\n",
    "        data['sales'].iloc[-1] = next_week_sales\n",
    "        \n",
    "    return predictions\n"
   ]
  },
  {
   "cell_type": "code",
   "execution_count": 41,
   "id": "0845b7d8",
   "metadata": {},
   "outputs": [
    {
     "name": "stderr",
     "output_type": "stream",
     "text": [
      "2022-06-03 16:56:41.459996: W tensorflow/stream_executor/platform/default/dso_loader.cc:64] Could not load dynamic library 'libcuda.so.1'; dlerror: libcuda.so.1: cannot open shared object file: No such file or directory\n",
      "2022-06-03 16:56:41.481998: W tensorflow/stream_executor/cuda/cuda_driver.cc:269] failed call to cuInit: UNKNOWN ERROR (303)\n",
      "2022-06-03 16:56:41.491421: I tensorflow/stream_executor/cuda/cuda_diagnostics.cc:156] kernel driver does not appear to be running on this host (manfred): /proc/driver/nvidia/version does not exist\n",
      "2022-06-03 16:56:41.779048: I tensorflow/core/platform/cpu_feature_guard.cc:151] This TensorFlow binary is optimized with oneAPI Deep Neural Network Library (oneDNN) to use the following CPU instructions in performance-critical operations:  AVX2 FMA\n",
      "To enable them in other operations, rebuild TensorFlow with the appropriate compiler flags.\n"
     ]
    }
   ],
   "source": [
    "# model = tf.keras.models.load_model(\"../model/demand_forecasting\")"
   ]
  },
  {
   "cell_type": "code",
   "execution_count": 47,
   "id": "4471c41c",
   "metadata": {},
   "outputs": [],
   "source": [
    "from utils3 import ModelPipeline"
   ]
  },
  {
   "cell_type": "code",
   "execution_count": 42,
   "id": "f7e572e5",
   "metadata": {},
   "outputs": [],
   "source": [
    "# class ModelPipeline:\n",
    "#     def __init__(self, model, data_pipeline):\n",
    "#         self.model = model\n",
    "#         self.data_pipeline = data_pipeline\n",
    "        \n",
    "#     def predict_next_week(self, model, data):\n",
    "#         return self.model.predict(data)[0][0]\n",
    "\n",
    "#     def forecast(self, data, prices):\n",
    "#         data = self.data_pipeline.rescale(data)\n",
    "#         data = data[['scaled_sales', 'scaled_price', 'sales']].copy()\n",
    "#         predictions = []\n",
    "#         for price in prices:\n",
    "#             data = data.append({'scaled_sales':0, 'scaled_price': self.data_pipeline.scaler.transform([[0, price]])[0, 1]}, ignore_index = True)\n",
    "#             current_week = self.data_pipeline.create_windowed_dataset(data.iloc[-(self.data_pipeline.batch_size + self.data_pipeline.window_size):], with_label=True, rescale=False)\n",
    "#             next_week_sales = self.predict_next_week(self.model, current_week)\n",
    "#             predictions.append(next_week_sales)\n",
    "#             data['sales'].iloc[-1] = next_week_sales\n",
    "\n",
    "#         return predictions"
   ]
  },
  {
   "cell_type": "code",
   "execution_count": 48,
   "id": "a78ea3a7",
   "metadata": {},
   "outputs": [],
   "source": [
    "pipeline = ModelPipeline(model, data_pipeline)"
   ]
  },
  {
   "cell_type": "code",
   "execution_count": 49,
   "id": "bfbc4457",
   "metadata": {},
   "outputs": [
    {
     "name": "stderr",
     "output_type": "stream",
     "text": [
      "WARNING:absl:Found untraced functions such as lstm_cell_layer_call_fn, lstm_cell_layer_call_and_return_conditional_losses, lstm_cell_1_layer_call_fn, lstm_cell_1_layer_call_and_return_conditional_losses while saving (showing 4 of 4). These functions will not be directly callable after loading.\n"
     ]
    },
    {
     "name": "stdout",
     "output_type": "stream",
     "text": [
      "INFO:tensorflow:Assets written to: ram://08a16ca7-e382-451a-b818-52ac47cafd4d/assets\n"
     ]
    },
    {
     "name": "stderr",
     "output_type": "stream",
     "text": [
      "INFO:tensorflow:Assets written to: ram://08a16ca7-e382-451a-b818-52ac47cafd4d/assets\n",
      "WARNING:absl:<keras.layers.recurrent.LSTMCell object at 0x7efcafff4c70> has the same name 'LSTMCell' as a built-in Keras object. Consider renaming <class 'keras.layers.recurrent.LSTMCell'> to avoid naming conflicts when loading with `tf.keras.models.load_model`. If renaming is not possible, pass the object in the `custom_objects` parameter of the load function.\n",
      "WARNING:absl:<keras.layers.recurrent.LSTMCell object at 0x7efcafb8b820> has the same name 'LSTMCell' as a built-in Keras object. Consider renaming <class 'keras.layers.recurrent.LSTMCell'> to avoid naming conflicts when loading with `tf.keras.models.load_model`. If renaming is not possible, pass the object in the `custom_objects` parameter of the load function.\n"
     ]
    },
    {
     "data": {
      "text/plain": [
       "['../model/demand_forecasting/pipeline.joblib']"
      ]
     },
     "execution_count": 49,
     "metadata": {},
     "output_type": "execute_result"
    }
   ],
   "source": [
    "joblib.dump(pipeline, \"../model/demand_forecasting/pipeline.joblib\")"
   ]
  },
  {
   "cell_type": "code",
   "execution_count": 109,
   "id": "96bd76bc",
   "metadata": {},
   "outputs": [
    {
     "name": "stderr",
     "output_type": "stream",
     "text": [
      "/home/manfred/miniconda3/envs/tensorflow/lib/python3.9/site-packages/sklearn/base.py:450: UserWarning: X does not have valid feature names, but StandardScaler was fitted with feature names\n",
      "  warnings.warn(\n",
      "/home/manfred/miniconda3/envs/tensorflow/lib/python3.9/site-packages/sklearn/base.py:450: UserWarning: X does not have valid feature names, but StandardScaler was fitted with feature names\n",
      "  warnings.warn(\n",
      "/home/manfred/miniconda3/envs/tensorflow/lib/python3.9/site-packages/sklearn/base.py:450: UserWarning: X does not have valid feature names, but StandardScaler was fitted with feature names\n",
      "  warnings.warn(\n",
      "/home/manfred/miniconda3/envs/tensorflow/lib/python3.9/site-packages/sklearn/base.py:450: UserWarning: X does not have valid feature names, but StandardScaler was fitted with feature names\n",
      "  warnings.warn(\n",
      "/home/manfred/miniconda3/envs/tensorflow/lib/python3.9/site-packages/sklearn/base.py:450: UserWarning: X does not have valid feature names, but StandardScaler was fitted with feature names\n",
      "  warnings.warn(\n",
      "/home/manfred/miniconda3/envs/tensorflow/lib/python3.9/site-packages/sklearn/base.py:450: UserWarning: X does not have valid feature names, but StandardScaler was fitted with feature names\n",
      "  warnings.warn(\n",
      "/home/manfred/miniconda3/envs/tensorflow/lib/python3.9/site-packages/sklearn/base.py:450: UserWarning: X does not have valid feature names, but StandardScaler was fitted with feature names\n",
      "  warnings.warn(\n",
      "/home/manfred/miniconda3/envs/tensorflow/lib/python3.9/site-packages/sklearn/base.py:450: UserWarning: X does not have valid feature names, but StandardScaler was fitted with feature names\n",
      "  warnings.warn(\n",
      "/home/manfred/miniconda3/envs/tensorflow/lib/python3.9/site-packages/sklearn/base.py:450: UserWarning: X does not have valid feature names, but StandardScaler was fitted with feature names\n",
      "  warnings.warn(\n",
      "/home/manfred/miniconda3/envs/tensorflow/lib/python3.9/site-packages/sklearn/base.py:450: UserWarning: X does not have valid feature names, but StandardScaler was fitted with feature names\n",
      "  warnings.warn(\n",
      "/home/manfred/miniconda3/envs/tensorflow/lib/python3.9/site-packages/sklearn/base.py:450: UserWarning: X does not have valid feature names, but StandardScaler was fitted with feature names\n",
      "  warnings.warn(\n",
      "/home/manfred/miniconda3/envs/tensorflow/lib/python3.9/site-packages/sklearn/base.py:450: UserWarning: X does not have valid feature names, but StandardScaler was fitted with feature names\n",
      "  warnings.warn(\n",
      "/home/manfred/miniconda3/envs/tensorflow/lib/python3.9/site-packages/sklearn/base.py:450: UserWarning: X does not have valid feature names, but StandardScaler was fitted with feature names\n",
      "  warnings.warn(\n",
      "/home/manfred/miniconda3/envs/tensorflow/lib/python3.9/site-packages/sklearn/base.py:450: UserWarning: X does not have valid feature names, but StandardScaler was fitted with feature names\n",
      "  warnings.warn(\n",
      "/home/manfred/miniconda3/envs/tensorflow/lib/python3.9/site-packages/sklearn/base.py:450: UserWarning: X does not have valid feature names, but StandardScaler was fitted with feature names\n",
      "  warnings.warn(\n",
      "/home/manfred/miniconda3/envs/tensorflow/lib/python3.9/site-packages/sklearn/base.py:450: UserWarning: X does not have valid feature names, but StandardScaler was fitted with feature names\n",
      "  warnings.warn(\n",
      "/home/manfred/miniconda3/envs/tensorflow/lib/python3.9/site-packages/sklearn/base.py:450: UserWarning: X does not have valid feature names, but StandardScaler was fitted with feature names\n",
      "  warnings.warn(\n",
      "/home/manfred/miniconda3/envs/tensorflow/lib/python3.9/site-packages/sklearn/base.py:450: UserWarning: X does not have valid feature names, but StandardScaler was fitted with feature names\n",
      "  warnings.warn(\n",
      "/home/manfred/miniconda3/envs/tensorflow/lib/python3.9/site-packages/sklearn/base.py:450: UserWarning: X does not have valid feature names, but StandardScaler was fitted with feature names\n",
      "  warnings.warn(\n",
      "/home/manfred/miniconda3/envs/tensorflow/lib/python3.9/site-packages/sklearn/base.py:450: UserWarning: X does not have valid feature names, but StandardScaler was fitted with feature names\n",
      "  warnings.warn(\n",
      "/home/manfred/miniconda3/envs/tensorflow/lib/python3.9/site-packages/sklearn/base.py:450: UserWarning: X does not have valid feature names, but StandardScaler was fitted with feature names\n",
      "  warnings.warn(\n",
      "/home/manfred/miniconda3/envs/tensorflow/lib/python3.9/site-packages/sklearn/base.py:450: UserWarning: X does not have valid feature names, but StandardScaler was fitted with feature names\n",
      "  warnings.warn(\n",
      "/home/manfred/miniconda3/envs/tensorflow/lib/python3.9/site-packages/sklearn/base.py:450: UserWarning: X does not have valid feature names, but StandardScaler was fitted with feature names\n",
      "  warnings.warn(\n",
      "/home/manfred/miniconda3/envs/tensorflow/lib/python3.9/site-packages/sklearn/base.py:450: UserWarning: X does not have valid feature names, but StandardScaler was fitted with feature names\n",
      "  warnings.warn(\n",
      "/home/manfred/miniconda3/envs/tensorflow/lib/python3.9/site-packages/sklearn/base.py:450: UserWarning: X does not have valid feature names, but StandardScaler was fitted with feature names\n",
      "  warnings.warn(\n",
      "/home/manfred/miniconda3/envs/tensorflow/lib/python3.9/site-packages/sklearn/base.py:450: UserWarning: X does not have valid feature names, but StandardScaler was fitted with feature names\n",
      "  warnings.warn(\n",
      "/home/manfred/miniconda3/envs/tensorflow/lib/python3.9/site-packages/sklearn/base.py:450: UserWarning: X does not have valid feature names, but StandardScaler was fitted with feature names\n",
      "  warnings.warn(\n",
      "/home/manfred/miniconda3/envs/tensorflow/lib/python3.9/site-packages/sklearn/base.py:450: UserWarning: X does not have valid feature names, but StandardScaler was fitted with feature names\n",
      "  warnings.warn(\n"
     ]
    },
    {
     "ename": "AttributeError",
     "evalue": "module 'matplotlib' has no attribute 'path'",
     "output_type": "error",
     "traceback": [
      "\u001b[0;31m---------------------------------------------------------------------------\u001b[0m",
      "\u001b[0;31mAttributeError\u001b[0m                            Traceback (most recent call last)",
      "Input \u001b[0;32mIn [109]\u001b[0m, in \u001b[0;36m<cell line: 6>\u001b[0;34m()\u001b[0m\n\u001b[1;32m      1\u001b[0m predicted_sales \u001b[38;5;241m=\u001b[39m pipeline\u001b[38;5;241m.\u001b[39mforecast(valid, [\u001b[38;5;241m312089.685355\u001b[39m, \u001b[38;5;241m312089.685355\u001b[39m, \u001b[38;5;241m312089.685355\u001b[39m, \u001b[38;5;241m312089.685355\u001b[39m, \u001b[38;5;241m312089.685355\u001b[39m, \u001b[38;5;241m312089.685355\u001b[39m, \u001b[38;5;241m312089.685355\u001b[39m,\n\u001b[1;32m      2\u001b[0m                                           \u001b[38;5;241m312089.685355\u001b[39m, \u001b[38;5;241m312089.685355\u001b[39m, \u001b[38;5;241m312089.685355\u001b[39m, \u001b[38;5;241m312089.685355\u001b[39m, \u001b[38;5;241m312089.685355\u001b[39m, \u001b[38;5;241m312089.685355\u001b[39m, \u001b[38;5;241m312089.685355\u001b[39m,\n\u001b[1;32m      3\u001b[0m                                           \u001b[38;5;241m312089.685355\u001b[39m, \u001b[38;5;241m312089.685355\u001b[39m, \u001b[38;5;241m312089.685355\u001b[39m, \u001b[38;5;241m312089.685355\u001b[39m, \u001b[38;5;241m312089.685355\u001b[39m, \u001b[38;5;241m312089.685355\u001b[39m, \u001b[38;5;241m312089.685355\u001b[39m,\n\u001b[1;32m      4\u001b[0m                                           \u001b[38;5;241m312089.685355\u001b[39m, \u001b[38;5;241m312089.685355\u001b[39m, \u001b[38;5;241m312089.685355\u001b[39m, \u001b[38;5;241m312089.685355\u001b[39m, \u001b[38;5;241m312089.685355\u001b[39m, \u001b[38;5;241m312089.685355\u001b[39m, \u001b[38;5;241m312089.685355\u001b[39m, \n\u001b[1;32m      5\u001b[0m                                          ])\n\u001b[0;32m----> 6\u001b[0m \u001b[43mplt\u001b[49m\u001b[38;5;241;43m.\u001b[39;49m\u001b[43mplot\u001b[49m\u001b[43m(\u001b[49m\u001b[43mpredicted_sales\u001b[49m\u001b[43m)\u001b[49m\n\u001b[1;32m      7\u001b[0m \u001b[38;5;28mprint\u001b[39m(np\u001b[38;5;241m.\u001b[39mmean(predicted_sales))\n",
      "File \u001b[0;32m~/miniconda3/envs/tensorflow/lib/python3.9/site-packages/matplotlib/pyplot.py:2757\u001b[0m, in \u001b[0;36mplot\u001b[0;34m(scalex, scaley, data, *args, **kwargs)\u001b[0m\n\u001b[1;32m   2755\u001b[0m \u001b[38;5;129m@_copy_docstring_and_deprecators\u001b[39m(Axes\u001b[38;5;241m.\u001b[39mplot)\n\u001b[1;32m   2756\u001b[0m \u001b[38;5;28;01mdef\u001b[39;00m \u001b[38;5;21mplot\u001b[39m(\u001b[38;5;241m*\u001b[39margs, scalex\u001b[38;5;241m=\u001b[39m\u001b[38;5;28;01mTrue\u001b[39;00m, scaley\u001b[38;5;241m=\u001b[39m\u001b[38;5;28;01mTrue\u001b[39;00m, data\u001b[38;5;241m=\u001b[39m\u001b[38;5;28;01mNone\u001b[39;00m, \u001b[38;5;241m*\u001b[39m\u001b[38;5;241m*\u001b[39mkwargs):\n\u001b[0;32m-> 2757\u001b[0m     \u001b[38;5;28;01mreturn\u001b[39;00m \u001b[43mgca\u001b[49m\u001b[43m(\u001b[49m\u001b[43m)\u001b[49m\u001b[38;5;241m.\u001b[39mplot(\n\u001b[1;32m   2758\u001b[0m         \u001b[38;5;241m*\u001b[39margs, scalex\u001b[38;5;241m=\u001b[39mscalex, scaley\u001b[38;5;241m=\u001b[39mscaley,\n\u001b[1;32m   2759\u001b[0m         \u001b[38;5;241m*\u001b[39m\u001b[38;5;241m*\u001b[39m({\u001b[38;5;124m\"\u001b[39m\u001b[38;5;124mdata\u001b[39m\u001b[38;5;124m\"\u001b[39m: data} \u001b[38;5;28;01mif\u001b[39;00m data \u001b[38;5;129;01mis\u001b[39;00m \u001b[38;5;129;01mnot\u001b[39;00m \u001b[38;5;28;01mNone\u001b[39;00m \u001b[38;5;28;01melse\u001b[39;00m {}), \u001b[38;5;241m*\u001b[39m\u001b[38;5;241m*\u001b[39mkwargs)\n",
      "File \u001b[0;32m~/miniconda3/envs/tensorflow/lib/python3.9/site-packages/matplotlib/pyplot.py:2262\u001b[0m, in \u001b[0;36mgca\u001b[0;34m(**kwargs)\u001b[0m\n\u001b[1;32m   2260\u001b[0m \u001b[38;5;129m@_copy_docstring_and_deprecators\u001b[39m(Figure\u001b[38;5;241m.\u001b[39mgca)\n\u001b[1;32m   2261\u001b[0m \u001b[38;5;28;01mdef\u001b[39;00m \u001b[38;5;21mgca\u001b[39m(\u001b[38;5;241m*\u001b[39m\u001b[38;5;241m*\u001b[39mkwargs):\n\u001b[0;32m-> 2262\u001b[0m     \u001b[38;5;28;01mreturn\u001b[39;00m \u001b[43mgcf\u001b[49m\u001b[43m(\u001b[49m\u001b[43m)\u001b[49m\u001b[38;5;241;43m.\u001b[39;49m\u001b[43mgca\u001b[49m\u001b[43m(\u001b[49m\u001b[38;5;241;43m*\u001b[39;49m\u001b[38;5;241;43m*\u001b[39;49m\u001b[43mkwargs\u001b[49m\u001b[43m)\u001b[49m\n",
      "File \u001b[0;32m~/miniconda3/envs/tensorflow/lib/python3.9/site-packages/matplotlib/figure.py:1515\u001b[0m, in \u001b[0;36mFigureBase.gca\u001b[0;34m(self, **kwargs)\u001b[0m\n\u001b[1;32m   1505\u001b[0m     _api\u001b[38;5;241m.\u001b[39mwarn_deprecated(\n\u001b[1;32m   1506\u001b[0m         \u001b[38;5;124m\"\u001b[39m\u001b[38;5;124m3.4\u001b[39m\u001b[38;5;124m\"\u001b[39m,\n\u001b[1;32m   1507\u001b[0m         message\u001b[38;5;241m=\u001b[39m\u001b[38;5;124m\"\u001b[39m\u001b[38;5;124mCalling gca() with keyword arguments was deprecated \u001b[39m\u001b[38;5;124m\"\u001b[39m\n\u001b[0;32m   (...)\u001b[0m\n\u001b[1;32m   1512\u001b[0m         \u001b[38;5;124m\"\u001b[39m\u001b[38;5;124maxes with non-default arguments, use plt.axes() or \u001b[39m\u001b[38;5;124m\"\u001b[39m\n\u001b[1;32m   1513\u001b[0m         \u001b[38;5;124m\"\u001b[39m\u001b[38;5;124mplt.subplot().\u001b[39m\u001b[38;5;124m\"\u001b[39m)\n\u001b[1;32m   1514\u001b[0m \u001b[38;5;28;01mif\u001b[39;00m \u001b[38;5;28mself\u001b[39m\u001b[38;5;241m.\u001b[39m_axstack\u001b[38;5;241m.\u001b[39mempty():\n\u001b[0;32m-> 1515\u001b[0m     \u001b[38;5;28;01mreturn\u001b[39;00m \u001b[38;5;28;43mself\u001b[39;49m\u001b[38;5;241;43m.\u001b[39;49m\u001b[43madd_subplot\u001b[49m\u001b[43m(\u001b[49m\u001b[38;5;241;43m1\u001b[39;49m\u001b[43m,\u001b[49m\u001b[43m \u001b[49m\u001b[38;5;241;43m1\u001b[39;49m\u001b[43m,\u001b[49m\u001b[43m \u001b[49m\u001b[38;5;241;43m1\u001b[39;49m\u001b[43m,\u001b[49m\u001b[43m \u001b[49m\u001b[38;5;241;43m*\u001b[39;49m\u001b[38;5;241;43m*\u001b[39;49m\u001b[43mkwargs\u001b[49m\u001b[43m)\u001b[49m\n\u001b[1;32m   1516\u001b[0m \u001b[38;5;28;01melse\u001b[39;00m:\n\u001b[1;32m   1517\u001b[0m     \u001b[38;5;28;01mreturn\u001b[39;00m \u001b[38;5;28mself\u001b[39m\u001b[38;5;241m.\u001b[39m_axstack()\n",
      "File \u001b[0;32m~/miniconda3/envs/tensorflow/lib/python3.9/site-packages/matplotlib/figure.py:772\u001b[0m, in \u001b[0;36mFigureBase.add_subplot\u001b[0;34m(self, *args, **kwargs)\u001b[0m\n\u001b[1;32m    769\u001b[0m         args \u001b[38;5;241m=\u001b[39m \u001b[38;5;28mtuple\u001b[39m(\u001b[38;5;28mmap\u001b[39m(\u001b[38;5;28mint\u001b[39m, \u001b[38;5;28mstr\u001b[39m(args[\u001b[38;5;241m0\u001b[39m])))\n\u001b[1;32m    770\u001b[0m     projection_class, pkw \u001b[38;5;241m=\u001b[39m \u001b[38;5;28mself\u001b[39m\u001b[38;5;241m.\u001b[39m_process_projection_requirements(\n\u001b[1;32m    771\u001b[0m         \u001b[38;5;241m*\u001b[39margs, \u001b[38;5;241m*\u001b[39m\u001b[38;5;241m*\u001b[39mkwargs)\n\u001b[0;32m--> 772\u001b[0m     ax \u001b[38;5;241m=\u001b[39m \u001b[43msubplot_class_factory\u001b[49m\u001b[43m(\u001b[49m\u001b[43mprojection_class\u001b[49m\u001b[43m)\u001b[49m\u001b[43m(\u001b[49m\u001b[38;5;28;43mself\u001b[39;49m\u001b[43m,\u001b[49m\u001b[43m \u001b[49m\u001b[38;5;241;43m*\u001b[39;49m\u001b[43margs\u001b[49m\u001b[43m,\u001b[49m\u001b[43m \u001b[49m\u001b[38;5;241;43m*\u001b[39;49m\u001b[38;5;241;43m*\u001b[39;49m\u001b[43mpkw\u001b[49m\u001b[43m)\u001b[49m\n\u001b[1;32m    773\u001b[0m     key \u001b[38;5;241m=\u001b[39m (projection_class, pkw)\n\u001b[1;32m    774\u001b[0m \u001b[38;5;28;01mreturn\u001b[39;00m \u001b[38;5;28mself\u001b[39m\u001b[38;5;241m.\u001b[39m_add_axes_internal(ax, key)\n",
      "File \u001b[0;32m~/miniconda3/envs/tensorflow/lib/python3.9/site-packages/matplotlib/axes/_subplots.py:34\u001b[0m, in \u001b[0;36mSubplotBase.__init__\u001b[0;34m(self, fig, *args, **kwargs)\u001b[0m\n\u001b[1;32m     15\u001b[0m \u001b[38;5;124;03m\"\"\"\u001b[39;00m\n\u001b[1;32m     16\u001b[0m \u001b[38;5;124;03mParameters\u001b[39;00m\n\u001b[1;32m     17\u001b[0m \u001b[38;5;124;03m----------\u001b[39;00m\n\u001b[0;32m   (...)\u001b[0m\n\u001b[1;32m     31\u001b[0m \u001b[38;5;124;03m    Keyword arguments are passed to the Axes (sub)class constructor.\u001b[39;00m\n\u001b[1;32m     32\u001b[0m \u001b[38;5;124;03m\"\"\"\u001b[39;00m\n\u001b[1;32m     33\u001b[0m \u001b[38;5;66;03m# _axes_class is set in the subplot_class_factory\u001b[39;00m\n\u001b[0;32m---> 34\u001b[0m \u001b[38;5;28;43mself\u001b[39;49m\u001b[38;5;241;43m.\u001b[39;49m\u001b[43m_axes_class\u001b[49m\u001b[38;5;241;43m.\u001b[39;49m\u001b[38;5;21;43m__init__\u001b[39;49m\u001b[43m(\u001b[49m\u001b[38;5;28;43mself\u001b[39;49m\u001b[43m,\u001b[49m\u001b[43m \u001b[49m\u001b[43mfig\u001b[49m\u001b[43m,\u001b[49m\u001b[43m \u001b[49m\u001b[43m[\u001b[49m\u001b[38;5;241;43m0\u001b[39;49m\u001b[43m,\u001b[49m\u001b[43m \u001b[49m\u001b[38;5;241;43m0\u001b[39;49m\u001b[43m,\u001b[49m\u001b[43m \u001b[49m\u001b[38;5;241;43m1\u001b[39;49m\u001b[43m,\u001b[49m\u001b[43m \u001b[49m\u001b[38;5;241;43m1\u001b[39;49m\u001b[43m]\u001b[49m\u001b[43m,\u001b[49m\u001b[43m \u001b[49m\u001b[38;5;241;43m*\u001b[39;49m\u001b[38;5;241;43m*\u001b[39;49m\u001b[43mkwargs\u001b[49m\u001b[43m)\u001b[49m\n\u001b[1;32m     35\u001b[0m \u001b[38;5;66;03m# This will also update the axes position.\u001b[39;00m\n\u001b[1;32m     36\u001b[0m \u001b[38;5;28mself\u001b[39m\u001b[38;5;241m.\u001b[39mset_subplotspec(SubplotSpec\u001b[38;5;241m.\u001b[39m_from_subplot_args(fig, args))\n",
      "File \u001b[0;32m~/miniconda3/envs/tensorflow/lib/python3.9/site-packages/matplotlib/_api/deprecation.py:456\u001b[0m, in \u001b[0;36mmake_keyword_only.<locals>.wrapper\u001b[0;34m(*args, **kwargs)\u001b[0m\n\u001b[1;32m    450\u001b[0m \u001b[38;5;28;01mif\u001b[39;00m \u001b[38;5;28mlen\u001b[39m(args) \u001b[38;5;241m>\u001b[39m name_idx:\n\u001b[1;32m    451\u001b[0m     warn_deprecated(\n\u001b[1;32m    452\u001b[0m         since, message\u001b[38;5;241m=\u001b[39m\u001b[38;5;124m\"\u001b[39m\u001b[38;5;124mPassing the \u001b[39m\u001b[38;5;132;01m%(name)s\u001b[39;00m\u001b[38;5;124m \u001b[39m\u001b[38;5;132;01m%(obj_type)s\u001b[39;00m\u001b[38;5;124m \u001b[39m\u001b[38;5;124m\"\u001b[39m\n\u001b[1;32m    453\u001b[0m         \u001b[38;5;124m\"\u001b[39m\u001b[38;5;124mpositionally is deprecated since Matplotlib \u001b[39m\u001b[38;5;132;01m%(since)s\u001b[39;00m\u001b[38;5;124m; the \u001b[39m\u001b[38;5;124m\"\u001b[39m\n\u001b[1;32m    454\u001b[0m         \u001b[38;5;124m\"\u001b[39m\u001b[38;5;124mparameter will become keyword-only \u001b[39m\u001b[38;5;132;01m%(removal)s\u001b[39;00m\u001b[38;5;124m.\u001b[39m\u001b[38;5;124m\"\u001b[39m,\n\u001b[1;32m    455\u001b[0m         name\u001b[38;5;241m=\u001b[39mname, obj_type\u001b[38;5;241m=\u001b[39m\u001b[38;5;124mf\u001b[39m\u001b[38;5;124m\"\u001b[39m\u001b[38;5;124mparameter of \u001b[39m\u001b[38;5;132;01m{\u001b[39;00mfunc\u001b[38;5;241m.\u001b[39m\u001b[38;5;18m__name__\u001b[39m\u001b[38;5;132;01m}\u001b[39;00m\u001b[38;5;124m()\u001b[39m\u001b[38;5;124m\"\u001b[39m)\n\u001b[0;32m--> 456\u001b[0m \u001b[38;5;28;01mreturn\u001b[39;00m \u001b[43mfunc\u001b[49m\u001b[43m(\u001b[49m\u001b[38;5;241;43m*\u001b[39;49m\u001b[43margs\u001b[49m\u001b[43m,\u001b[49m\u001b[43m \u001b[49m\u001b[38;5;241;43m*\u001b[39;49m\u001b[38;5;241;43m*\u001b[39;49m\u001b[43mkwargs\u001b[49m\u001b[43m)\u001b[49m\n",
      "File \u001b[0;32m~/miniconda3/envs/tensorflow/lib/python3.9/site-packages/matplotlib/axes/_base.py:621\u001b[0m, in \u001b[0;36m_AxesBase.__init__\u001b[0;34m(self, fig, rect, facecolor, frameon, sharex, sharey, label, xscale, yscale, box_aspect, **kwargs)\u001b[0m\n\u001b[1;32m    618\u001b[0m \u001b[38;5;66;03m# placeholder for any colorbars added that use this Axes.\u001b[39;00m\n\u001b[1;32m    619\u001b[0m \u001b[38;5;66;03m# (see colorbar.py):\u001b[39;00m\n\u001b[1;32m    620\u001b[0m \u001b[38;5;28mself\u001b[39m\u001b[38;5;241m.\u001b[39m_colorbars \u001b[38;5;241m=\u001b[39m []\n\u001b[0;32m--> 621\u001b[0m \u001b[38;5;28mself\u001b[39m\u001b[38;5;241m.\u001b[39mspines \u001b[38;5;241m=\u001b[39m mspines\u001b[38;5;241m.\u001b[39mSpines\u001b[38;5;241m.\u001b[39mfrom_dict(\u001b[38;5;28;43mself\u001b[39;49m\u001b[38;5;241;43m.\u001b[39;49m\u001b[43m_gen_axes_spines\u001b[49m\u001b[43m(\u001b[49m\u001b[43m)\u001b[49m)\n\u001b[1;32m    623\u001b[0m \u001b[38;5;66;03m# this call may differ for non-sep axes, e.g., polar\u001b[39;00m\n\u001b[1;32m    624\u001b[0m \u001b[38;5;28mself\u001b[39m\u001b[38;5;241m.\u001b[39m_init_axis()\n",
      "File \u001b[0;32m~/miniconda3/envs/tensorflow/lib/python3.9/site-packages/matplotlib/axes/_base.py:1141\u001b[0m, in \u001b[0;36m_AxesBase._gen_axes_spines\u001b[0;34m(self, locations, offset, units)\u001b[0m\n\u001b[1;32m   1126\u001b[0m \u001b[38;5;28;01mdef\u001b[39;00m \u001b[38;5;21m_gen_axes_spines\u001b[39m(\u001b[38;5;28mself\u001b[39m, locations\u001b[38;5;241m=\u001b[39m\u001b[38;5;28;01mNone\u001b[39;00m, offset\u001b[38;5;241m=\u001b[39m\u001b[38;5;241m0.0\u001b[39m, units\u001b[38;5;241m=\u001b[39m\u001b[38;5;124m'\u001b[39m\u001b[38;5;124minches\u001b[39m\u001b[38;5;124m'\u001b[39m):\n\u001b[1;32m   1127\u001b[0m     \u001b[38;5;124;03m\"\"\"\u001b[39;00m\n\u001b[1;32m   1128\u001b[0m \u001b[38;5;124;03m    Returns\u001b[39;00m\n\u001b[1;32m   1129\u001b[0m \u001b[38;5;124;03m    -------\u001b[39;00m\n\u001b[0;32m   (...)\u001b[0m\n\u001b[1;32m   1139\u001b[0m \u001b[38;5;124;03m    Intended to be overridden by new projection types.\u001b[39;00m\n\u001b[1;32m   1140\u001b[0m \u001b[38;5;124;03m    \"\"\"\u001b[39;00m\n\u001b[0;32m-> 1141\u001b[0m     \u001b[38;5;28;01mreturn\u001b[39;00m \u001b[43mOrderedDict\u001b[49m\u001b[43m(\u001b[49m\u001b[43m(\u001b[49m\u001b[43mside\u001b[49m\u001b[43m,\u001b[49m\u001b[43m \u001b[49m\u001b[43mmspines\u001b[49m\u001b[38;5;241;43m.\u001b[39;49m\u001b[43mSpine\u001b[49m\u001b[38;5;241;43m.\u001b[39;49m\u001b[43mlinear_spine\u001b[49m\u001b[43m(\u001b[49m\u001b[38;5;28;43mself\u001b[39;49m\u001b[43m,\u001b[49m\u001b[43m \u001b[49m\u001b[43mside\u001b[49m\u001b[43m)\u001b[49m\u001b[43m)\u001b[49m\n\u001b[1;32m   1142\u001b[0m \u001b[43m                       \u001b[49m\u001b[38;5;28;43;01mfor\u001b[39;49;00m\u001b[43m \u001b[49m\u001b[43mside\u001b[49m\u001b[43m \u001b[49m\u001b[38;5;129;43;01min\u001b[39;49;00m\u001b[43m \u001b[49m\u001b[43m[\u001b[49m\u001b[38;5;124;43m'\u001b[39;49m\u001b[38;5;124;43mleft\u001b[39;49m\u001b[38;5;124;43m'\u001b[39;49m\u001b[43m,\u001b[49m\u001b[43m \u001b[49m\u001b[38;5;124;43m'\u001b[39;49m\u001b[38;5;124;43mright\u001b[39;49m\u001b[38;5;124;43m'\u001b[39;49m\u001b[43m,\u001b[49m\u001b[43m \u001b[49m\u001b[38;5;124;43m'\u001b[39;49m\u001b[38;5;124;43mbottom\u001b[39;49m\u001b[38;5;124;43m'\u001b[39;49m\u001b[43m,\u001b[49m\u001b[43m \u001b[49m\u001b[38;5;124;43m'\u001b[39;49m\u001b[38;5;124;43mtop\u001b[39;49m\u001b[38;5;124;43m'\u001b[39;49m\u001b[43m]\u001b[49m\u001b[43m)\u001b[49m\n",
      "File \u001b[0;32m~/miniconda3/envs/tensorflow/lib/python3.9/site-packages/matplotlib/axes/_base.py:1141\u001b[0m, in \u001b[0;36m<genexpr>\u001b[0;34m(.0)\u001b[0m\n\u001b[1;32m   1126\u001b[0m \u001b[38;5;28;01mdef\u001b[39;00m \u001b[38;5;21m_gen_axes_spines\u001b[39m(\u001b[38;5;28mself\u001b[39m, locations\u001b[38;5;241m=\u001b[39m\u001b[38;5;28;01mNone\u001b[39;00m, offset\u001b[38;5;241m=\u001b[39m\u001b[38;5;241m0.0\u001b[39m, units\u001b[38;5;241m=\u001b[39m\u001b[38;5;124m'\u001b[39m\u001b[38;5;124minches\u001b[39m\u001b[38;5;124m'\u001b[39m):\n\u001b[1;32m   1127\u001b[0m     \u001b[38;5;124;03m\"\"\"\u001b[39;00m\n\u001b[1;32m   1128\u001b[0m \u001b[38;5;124;03m    Returns\u001b[39;00m\n\u001b[1;32m   1129\u001b[0m \u001b[38;5;124;03m    -------\u001b[39;00m\n\u001b[0;32m   (...)\u001b[0m\n\u001b[1;32m   1139\u001b[0m \u001b[38;5;124;03m    Intended to be overridden by new projection types.\u001b[39;00m\n\u001b[1;32m   1140\u001b[0m \u001b[38;5;124;03m    \"\"\"\u001b[39;00m\n\u001b[0;32m-> 1141\u001b[0m     \u001b[38;5;28;01mreturn\u001b[39;00m OrderedDict((side, \u001b[43mmspines\u001b[49m\u001b[38;5;241;43m.\u001b[39;49m\u001b[43mSpine\u001b[49m\u001b[38;5;241;43m.\u001b[39;49m\u001b[43mlinear_spine\u001b[49m\u001b[43m(\u001b[49m\u001b[38;5;28;43mself\u001b[39;49m\u001b[43m,\u001b[49m\u001b[43m \u001b[49m\u001b[43mside\u001b[49m\u001b[43m)\u001b[49m)\n\u001b[1;32m   1142\u001b[0m                        \u001b[38;5;28;01mfor\u001b[39;00m side \u001b[38;5;129;01min\u001b[39;00m [\u001b[38;5;124m'\u001b[39m\u001b[38;5;124mleft\u001b[39m\u001b[38;5;124m'\u001b[39m, \u001b[38;5;124m'\u001b[39m\u001b[38;5;124mright\u001b[39m\u001b[38;5;124m'\u001b[39m, \u001b[38;5;124m'\u001b[39m\u001b[38;5;124mbottom\u001b[39m\u001b[38;5;124m'\u001b[39m, \u001b[38;5;124m'\u001b[39m\u001b[38;5;124mtop\u001b[39m\u001b[38;5;124m'\u001b[39m])\n",
      "File \u001b[0;32m~/miniconda3/envs/tensorflow/lib/python3.9/site-packages/matplotlib/spines.py:437\u001b[0m, in \u001b[0;36mSpine.linear_spine\u001b[0;34m(cls, axes, spine_type, **kwargs)\u001b[0m\n\u001b[1;32m    435\u001b[0m \u001b[38;5;28;01melse\u001b[39;00m:\n\u001b[1;32m    436\u001b[0m     \u001b[38;5;28;01mraise\u001b[39;00m \u001b[38;5;167;01mValueError\u001b[39;00m(\u001b[38;5;124m'\u001b[39m\u001b[38;5;124munable to make path for spine \u001b[39m\u001b[38;5;124m\"\u001b[39m\u001b[38;5;132;01m%s\u001b[39;00m\u001b[38;5;124m\"\u001b[39m\u001b[38;5;124m'\u001b[39m \u001b[38;5;241m%\u001b[39m spine_type)\n\u001b[0;32m--> 437\u001b[0m result \u001b[38;5;241m=\u001b[39m \u001b[38;5;28;43mcls\u001b[39;49m\u001b[43m(\u001b[49m\u001b[43maxes\u001b[49m\u001b[43m,\u001b[49m\u001b[43m \u001b[49m\u001b[43mspine_type\u001b[49m\u001b[43m,\u001b[49m\u001b[43m \u001b[49m\u001b[43mpath\u001b[49m\u001b[43m,\u001b[49m\u001b[43m \u001b[49m\u001b[38;5;241;43m*\u001b[39;49m\u001b[38;5;241;43m*\u001b[39;49m\u001b[43mkwargs\u001b[49m\u001b[43m)\u001b[49m\n\u001b[1;32m    438\u001b[0m result\u001b[38;5;241m.\u001b[39mset_visible(rcParams[\u001b[38;5;124m'\u001b[39m\u001b[38;5;124maxes.spines.\u001b[39m\u001b[38;5;132;01m{0}\u001b[39;00m\u001b[38;5;124m'\u001b[39m\u001b[38;5;241m.\u001b[39mformat(spine_type)])\n\u001b[1;32m    440\u001b[0m \u001b[38;5;28;01mreturn\u001b[39;00m result\n",
      "File \u001b[0;32m~/miniconda3/envs/tensorflow/lib/python3.9/site-packages/matplotlib/spines.py:72\u001b[0m, in \u001b[0;36mSpine.__init__\u001b[0;34m(self, axes, spine_type, path, **kwargs)\u001b[0m\n\u001b[1;32m     68\u001b[0m \u001b[38;5;66;03m# Defer initial position determination. (Not much support for\u001b[39;00m\n\u001b[1;32m     69\u001b[0m \u001b[38;5;66;03m# non-rectangular axes is currently implemented, and this lets\u001b[39;00m\n\u001b[1;32m     70\u001b[0m \u001b[38;5;66;03m# them pass through the spines machinery without errors.)\u001b[39;00m\n\u001b[1;32m     71\u001b[0m \u001b[38;5;28mself\u001b[39m\u001b[38;5;241m.\u001b[39m_position \u001b[38;5;241m=\u001b[39m \u001b[38;5;28;01mNone\u001b[39;00m\n\u001b[0;32m---> 72\u001b[0m _api\u001b[38;5;241m.\u001b[39mcheck_isinstance(\u001b[43mmatplotlib\u001b[49m\u001b[38;5;241;43m.\u001b[39;49m\u001b[43mpath\u001b[49m\u001b[38;5;241m.\u001b[39mPath, path\u001b[38;5;241m=\u001b[39mpath)\n\u001b[1;32m     73\u001b[0m \u001b[38;5;28mself\u001b[39m\u001b[38;5;241m.\u001b[39m_path \u001b[38;5;241m=\u001b[39m path\n\u001b[1;32m     75\u001b[0m \u001b[38;5;66;03m# To support drawing both linear and circular spines, this\u001b[39;00m\n\u001b[1;32m     76\u001b[0m \u001b[38;5;66;03m# class implements Patch behavior three ways. If\u001b[39;00m\n\u001b[1;32m     77\u001b[0m \u001b[38;5;66;03m# self._patch_type == 'line', behave like a mpatches.PathPatch\u001b[39;00m\n\u001b[1;32m     78\u001b[0m \u001b[38;5;66;03m# instance. If self._patch_type == 'circle', behave like a\u001b[39;00m\n\u001b[1;32m     79\u001b[0m \u001b[38;5;66;03m# mpatches.Ellipse instance. If self._patch_type == 'arc', behave like\u001b[39;00m\n\u001b[1;32m     80\u001b[0m \u001b[38;5;66;03m# a mpatches.Arc instance.\u001b[39;00m\n",
      "File \u001b[0;32m~/miniconda3/envs/tensorflow/lib/python3.9/site-packages/matplotlib/_api/__init__.py:222\u001b[0m, in \u001b[0;36mcaching_module_getattr.<locals>.__getattr__\u001b[0;34m(name)\u001b[0m\n\u001b[1;32m    220\u001b[0m \u001b[38;5;28;01mif\u001b[39;00m name \u001b[38;5;129;01min\u001b[39;00m props:\n\u001b[1;32m    221\u001b[0m     \u001b[38;5;28;01mreturn\u001b[39;00m props[name]\u001b[38;5;241m.\u001b[39m\u001b[38;5;21m__get__\u001b[39m(instance)\n\u001b[0;32m--> 222\u001b[0m \u001b[38;5;28;01mraise\u001b[39;00m \u001b[38;5;167;01mAttributeError\u001b[39;00m(\n\u001b[1;32m    223\u001b[0m     \u001b[38;5;124mf\u001b[39m\u001b[38;5;124m\"\u001b[39m\u001b[38;5;124mmodule \u001b[39m\u001b[38;5;132;01m{\u001b[39;00m\u001b[38;5;28mcls\u001b[39m\u001b[38;5;241m.\u001b[39m\u001b[38;5;18m__module__\u001b[39m\u001b[38;5;132;01m!r}\u001b[39;00m\u001b[38;5;124m has no attribute \u001b[39m\u001b[38;5;132;01m{\u001b[39;00mname\u001b[38;5;132;01m!r}\u001b[39;00m\u001b[38;5;124m\"\u001b[39m)\n",
      "\u001b[0;31mAttributeError\u001b[0m: module 'matplotlib' has no attribute 'path'"
     ]
    },
    {
     "data": {
      "text/plain": [
       "<Figure size 432x288 with 0 Axes>"
      ]
     },
     "metadata": {},
     "output_type": "display_data"
    }
   ],
   "source": [
    "predicted_sales = pipeline.forecast(valid, [312089.685355, 312089.685355, 312089.685355, 312089.685355, 312089.685355, 312089.685355, 312089.685355,\n",
    "                                          312089.685355, 312089.685355, 312089.685355, 312089.685355, 312089.685355, 312089.685355, 312089.685355,\n",
    "                                          312089.685355, 312089.685355, 312089.685355, 312089.685355, 312089.685355, 312089.685355, 312089.685355,\n",
    "                                          312089.685355, 312089.685355, 312089.685355, 312089.685355, 312089.685355, 312089.685355, 312089.685355, \n",
    "                                         ])\n",
    "plt.plot(predicted_sales)\n",
    "print(np.mean(predicted_sales))"
   ]
  },
  {
   "cell_type": "code",
   "execution_count": 110,
   "id": "3c566768",
   "metadata": {},
   "outputs": [
    {
     "ename": "AttributeError",
     "evalue": "module 'matplotlib' has no attribute 'path'",
     "output_type": "error",
     "traceback": [
      "\u001b[0;31m---------------------------------------------------------------------------\u001b[0m",
      "\u001b[0;31mAttributeError\u001b[0m                            Traceback (most recent call last)",
      "Input \u001b[0;32mIn [110]\u001b[0m, in \u001b[0;36m<cell line: 7>\u001b[0;34m()\u001b[0m\n\u001b[1;32m      1\u001b[0m \u001b[38;5;66;03m# No discount at all\u001b[39;00m\n\u001b[1;32m      2\u001b[0m \u001b[38;5;66;03m# predicted_sales = forecast(model, valid, [312089.685355, 312089.685355, 312089.685355, 312089.685355, 312089.685355, 312089.685355, 312089.685355,\u001b[39;00m\n\u001b[1;32m      3\u001b[0m \u001b[38;5;66;03m#                                           312089.685355, 312089.685355, 312089.685355, 312089.685355, 312089.685355, 312089.685355, 312089.685355,\u001b[39;00m\n\u001b[1;32m      4\u001b[0m \u001b[38;5;66;03m#                                           312089.685355, 312089.685355, 312089.685355, 312089.685355, 312089.685355, 312089.685355, 312089.685355,\u001b[39;00m\n\u001b[1;32m      5\u001b[0m \u001b[38;5;66;03m#                                           312089.685355, 312089.685355, 312089.685355, 312089.685355, 312089.685355, 312089.685355, 312089.685355, \u001b[39;00m\n\u001b[1;32m      6\u001b[0m \u001b[38;5;66;03m#                                          ])\u001b[39;00m\n\u001b[0;32m----> 7\u001b[0m \u001b[43mplt\u001b[49m\u001b[38;5;241;43m.\u001b[39;49m\u001b[43mplot\u001b[49m\u001b[43m(\u001b[49m\u001b[43mpredicted_sales\u001b[49m\u001b[43m)\u001b[49m\n\u001b[1;32m      8\u001b[0m \u001b[38;5;28mprint\u001b[39m(np\u001b[38;5;241m.\u001b[39mmean(predicted_sales))\n",
      "File \u001b[0;32m~/miniconda3/envs/tensorflow/lib/python3.9/site-packages/matplotlib/pyplot.py:2757\u001b[0m, in \u001b[0;36mplot\u001b[0;34m(scalex, scaley, data, *args, **kwargs)\u001b[0m\n\u001b[1;32m   2755\u001b[0m \u001b[38;5;129m@_copy_docstring_and_deprecators\u001b[39m(Axes\u001b[38;5;241m.\u001b[39mplot)\n\u001b[1;32m   2756\u001b[0m \u001b[38;5;28;01mdef\u001b[39;00m \u001b[38;5;21mplot\u001b[39m(\u001b[38;5;241m*\u001b[39margs, scalex\u001b[38;5;241m=\u001b[39m\u001b[38;5;28;01mTrue\u001b[39;00m, scaley\u001b[38;5;241m=\u001b[39m\u001b[38;5;28;01mTrue\u001b[39;00m, data\u001b[38;5;241m=\u001b[39m\u001b[38;5;28;01mNone\u001b[39;00m, \u001b[38;5;241m*\u001b[39m\u001b[38;5;241m*\u001b[39mkwargs):\n\u001b[0;32m-> 2757\u001b[0m     \u001b[38;5;28;01mreturn\u001b[39;00m \u001b[43mgca\u001b[49m\u001b[43m(\u001b[49m\u001b[43m)\u001b[49m\u001b[38;5;241m.\u001b[39mplot(\n\u001b[1;32m   2758\u001b[0m         \u001b[38;5;241m*\u001b[39margs, scalex\u001b[38;5;241m=\u001b[39mscalex, scaley\u001b[38;5;241m=\u001b[39mscaley,\n\u001b[1;32m   2759\u001b[0m         \u001b[38;5;241m*\u001b[39m\u001b[38;5;241m*\u001b[39m({\u001b[38;5;124m\"\u001b[39m\u001b[38;5;124mdata\u001b[39m\u001b[38;5;124m\"\u001b[39m: data} \u001b[38;5;28;01mif\u001b[39;00m data \u001b[38;5;129;01mis\u001b[39;00m \u001b[38;5;129;01mnot\u001b[39;00m \u001b[38;5;28;01mNone\u001b[39;00m \u001b[38;5;28;01melse\u001b[39;00m {}), \u001b[38;5;241m*\u001b[39m\u001b[38;5;241m*\u001b[39mkwargs)\n",
      "File \u001b[0;32m~/miniconda3/envs/tensorflow/lib/python3.9/site-packages/matplotlib/pyplot.py:2262\u001b[0m, in \u001b[0;36mgca\u001b[0;34m(**kwargs)\u001b[0m\n\u001b[1;32m   2260\u001b[0m \u001b[38;5;129m@_copy_docstring_and_deprecators\u001b[39m(Figure\u001b[38;5;241m.\u001b[39mgca)\n\u001b[1;32m   2261\u001b[0m \u001b[38;5;28;01mdef\u001b[39;00m \u001b[38;5;21mgca\u001b[39m(\u001b[38;5;241m*\u001b[39m\u001b[38;5;241m*\u001b[39mkwargs):\n\u001b[0;32m-> 2262\u001b[0m     \u001b[38;5;28;01mreturn\u001b[39;00m \u001b[43mgcf\u001b[49m\u001b[43m(\u001b[49m\u001b[43m)\u001b[49m\u001b[38;5;241;43m.\u001b[39;49m\u001b[43mgca\u001b[49m\u001b[43m(\u001b[49m\u001b[38;5;241;43m*\u001b[39;49m\u001b[38;5;241;43m*\u001b[39;49m\u001b[43mkwargs\u001b[49m\u001b[43m)\u001b[49m\n",
      "File \u001b[0;32m~/miniconda3/envs/tensorflow/lib/python3.9/site-packages/matplotlib/figure.py:1515\u001b[0m, in \u001b[0;36mFigureBase.gca\u001b[0;34m(self, **kwargs)\u001b[0m\n\u001b[1;32m   1505\u001b[0m     _api\u001b[38;5;241m.\u001b[39mwarn_deprecated(\n\u001b[1;32m   1506\u001b[0m         \u001b[38;5;124m\"\u001b[39m\u001b[38;5;124m3.4\u001b[39m\u001b[38;5;124m\"\u001b[39m,\n\u001b[1;32m   1507\u001b[0m         message\u001b[38;5;241m=\u001b[39m\u001b[38;5;124m\"\u001b[39m\u001b[38;5;124mCalling gca() with keyword arguments was deprecated \u001b[39m\u001b[38;5;124m\"\u001b[39m\n\u001b[0;32m   (...)\u001b[0m\n\u001b[1;32m   1512\u001b[0m         \u001b[38;5;124m\"\u001b[39m\u001b[38;5;124maxes with non-default arguments, use plt.axes() or \u001b[39m\u001b[38;5;124m\"\u001b[39m\n\u001b[1;32m   1513\u001b[0m         \u001b[38;5;124m\"\u001b[39m\u001b[38;5;124mplt.subplot().\u001b[39m\u001b[38;5;124m\"\u001b[39m)\n\u001b[1;32m   1514\u001b[0m \u001b[38;5;28;01mif\u001b[39;00m \u001b[38;5;28mself\u001b[39m\u001b[38;5;241m.\u001b[39m_axstack\u001b[38;5;241m.\u001b[39mempty():\n\u001b[0;32m-> 1515\u001b[0m     \u001b[38;5;28;01mreturn\u001b[39;00m \u001b[38;5;28;43mself\u001b[39;49m\u001b[38;5;241;43m.\u001b[39;49m\u001b[43madd_subplot\u001b[49m\u001b[43m(\u001b[49m\u001b[38;5;241;43m1\u001b[39;49m\u001b[43m,\u001b[49m\u001b[43m \u001b[49m\u001b[38;5;241;43m1\u001b[39;49m\u001b[43m,\u001b[49m\u001b[43m \u001b[49m\u001b[38;5;241;43m1\u001b[39;49m\u001b[43m,\u001b[49m\u001b[43m \u001b[49m\u001b[38;5;241;43m*\u001b[39;49m\u001b[38;5;241;43m*\u001b[39;49m\u001b[43mkwargs\u001b[49m\u001b[43m)\u001b[49m\n\u001b[1;32m   1516\u001b[0m \u001b[38;5;28;01melse\u001b[39;00m:\n\u001b[1;32m   1517\u001b[0m     \u001b[38;5;28;01mreturn\u001b[39;00m \u001b[38;5;28mself\u001b[39m\u001b[38;5;241m.\u001b[39m_axstack()\n",
      "File \u001b[0;32m~/miniconda3/envs/tensorflow/lib/python3.9/site-packages/matplotlib/figure.py:772\u001b[0m, in \u001b[0;36mFigureBase.add_subplot\u001b[0;34m(self, *args, **kwargs)\u001b[0m\n\u001b[1;32m    769\u001b[0m         args \u001b[38;5;241m=\u001b[39m \u001b[38;5;28mtuple\u001b[39m(\u001b[38;5;28mmap\u001b[39m(\u001b[38;5;28mint\u001b[39m, \u001b[38;5;28mstr\u001b[39m(args[\u001b[38;5;241m0\u001b[39m])))\n\u001b[1;32m    770\u001b[0m     projection_class, pkw \u001b[38;5;241m=\u001b[39m \u001b[38;5;28mself\u001b[39m\u001b[38;5;241m.\u001b[39m_process_projection_requirements(\n\u001b[1;32m    771\u001b[0m         \u001b[38;5;241m*\u001b[39margs, \u001b[38;5;241m*\u001b[39m\u001b[38;5;241m*\u001b[39mkwargs)\n\u001b[0;32m--> 772\u001b[0m     ax \u001b[38;5;241m=\u001b[39m \u001b[43msubplot_class_factory\u001b[49m\u001b[43m(\u001b[49m\u001b[43mprojection_class\u001b[49m\u001b[43m)\u001b[49m\u001b[43m(\u001b[49m\u001b[38;5;28;43mself\u001b[39;49m\u001b[43m,\u001b[49m\u001b[43m \u001b[49m\u001b[38;5;241;43m*\u001b[39;49m\u001b[43margs\u001b[49m\u001b[43m,\u001b[49m\u001b[43m \u001b[49m\u001b[38;5;241;43m*\u001b[39;49m\u001b[38;5;241;43m*\u001b[39;49m\u001b[43mpkw\u001b[49m\u001b[43m)\u001b[49m\n\u001b[1;32m    773\u001b[0m     key \u001b[38;5;241m=\u001b[39m (projection_class, pkw)\n\u001b[1;32m    774\u001b[0m \u001b[38;5;28;01mreturn\u001b[39;00m \u001b[38;5;28mself\u001b[39m\u001b[38;5;241m.\u001b[39m_add_axes_internal(ax, key)\n",
      "File \u001b[0;32m~/miniconda3/envs/tensorflow/lib/python3.9/site-packages/matplotlib/axes/_subplots.py:34\u001b[0m, in \u001b[0;36mSubplotBase.__init__\u001b[0;34m(self, fig, *args, **kwargs)\u001b[0m\n\u001b[1;32m     15\u001b[0m \u001b[38;5;124;03m\"\"\"\u001b[39;00m\n\u001b[1;32m     16\u001b[0m \u001b[38;5;124;03mParameters\u001b[39;00m\n\u001b[1;32m     17\u001b[0m \u001b[38;5;124;03m----------\u001b[39;00m\n\u001b[0;32m   (...)\u001b[0m\n\u001b[1;32m     31\u001b[0m \u001b[38;5;124;03m    Keyword arguments are passed to the Axes (sub)class constructor.\u001b[39;00m\n\u001b[1;32m     32\u001b[0m \u001b[38;5;124;03m\"\"\"\u001b[39;00m\n\u001b[1;32m     33\u001b[0m \u001b[38;5;66;03m# _axes_class is set in the subplot_class_factory\u001b[39;00m\n\u001b[0;32m---> 34\u001b[0m \u001b[38;5;28;43mself\u001b[39;49m\u001b[38;5;241;43m.\u001b[39;49m\u001b[43m_axes_class\u001b[49m\u001b[38;5;241;43m.\u001b[39;49m\u001b[38;5;21;43m__init__\u001b[39;49m\u001b[43m(\u001b[49m\u001b[38;5;28;43mself\u001b[39;49m\u001b[43m,\u001b[49m\u001b[43m \u001b[49m\u001b[43mfig\u001b[49m\u001b[43m,\u001b[49m\u001b[43m \u001b[49m\u001b[43m[\u001b[49m\u001b[38;5;241;43m0\u001b[39;49m\u001b[43m,\u001b[49m\u001b[43m \u001b[49m\u001b[38;5;241;43m0\u001b[39;49m\u001b[43m,\u001b[49m\u001b[43m \u001b[49m\u001b[38;5;241;43m1\u001b[39;49m\u001b[43m,\u001b[49m\u001b[43m \u001b[49m\u001b[38;5;241;43m1\u001b[39;49m\u001b[43m]\u001b[49m\u001b[43m,\u001b[49m\u001b[43m \u001b[49m\u001b[38;5;241;43m*\u001b[39;49m\u001b[38;5;241;43m*\u001b[39;49m\u001b[43mkwargs\u001b[49m\u001b[43m)\u001b[49m\n\u001b[1;32m     35\u001b[0m \u001b[38;5;66;03m# This will also update the axes position.\u001b[39;00m\n\u001b[1;32m     36\u001b[0m \u001b[38;5;28mself\u001b[39m\u001b[38;5;241m.\u001b[39mset_subplotspec(SubplotSpec\u001b[38;5;241m.\u001b[39m_from_subplot_args(fig, args))\n",
      "File \u001b[0;32m~/miniconda3/envs/tensorflow/lib/python3.9/site-packages/matplotlib/_api/deprecation.py:456\u001b[0m, in \u001b[0;36mmake_keyword_only.<locals>.wrapper\u001b[0;34m(*args, **kwargs)\u001b[0m\n\u001b[1;32m    450\u001b[0m \u001b[38;5;28;01mif\u001b[39;00m \u001b[38;5;28mlen\u001b[39m(args) \u001b[38;5;241m>\u001b[39m name_idx:\n\u001b[1;32m    451\u001b[0m     warn_deprecated(\n\u001b[1;32m    452\u001b[0m         since, message\u001b[38;5;241m=\u001b[39m\u001b[38;5;124m\"\u001b[39m\u001b[38;5;124mPassing the \u001b[39m\u001b[38;5;132;01m%(name)s\u001b[39;00m\u001b[38;5;124m \u001b[39m\u001b[38;5;132;01m%(obj_type)s\u001b[39;00m\u001b[38;5;124m \u001b[39m\u001b[38;5;124m\"\u001b[39m\n\u001b[1;32m    453\u001b[0m         \u001b[38;5;124m\"\u001b[39m\u001b[38;5;124mpositionally is deprecated since Matplotlib \u001b[39m\u001b[38;5;132;01m%(since)s\u001b[39;00m\u001b[38;5;124m; the \u001b[39m\u001b[38;5;124m\"\u001b[39m\n\u001b[1;32m    454\u001b[0m         \u001b[38;5;124m\"\u001b[39m\u001b[38;5;124mparameter will become keyword-only \u001b[39m\u001b[38;5;132;01m%(removal)s\u001b[39;00m\u001b[38;5;124m.\u001b[39m\u001b[38;5;124m\"\u001b[39m,\n\u001b[1;32m    455\u001b[0m         name\u001b[38;5;241m=\u001b[39mname, obj_type\u001b[38;5;241m=\u001b[39m\u001b[38;5;124mf\u001b[39m\u001b[38;5;124m\"\u001b[39m\u001b[38;5;124mparameter of \u001b[39m\u001b[38;5;132;01m{\u001b[39;00mfunc\u001b[38;5;241m.\u001b[39m\u001b[38;5;18m__name__\u001b[39m\u001b[38;5;132;01m}\u001b[39;00m\u001b[38;5;124m()\u001b[39m\u001b[38;5;124m\"\u001b[39m)\n\u001b[0;32m--> 456\u001b[0m \u001b[38;5;28;01mreturn\u001b[39;00m \u001b[43mfunc\u001b[49m\u001b[43m(\u001b[49m\u001b[38;5;241;43m*\u001b[39;49m\u001b[43margs\u001b[49m\u001b[43m,\u001b[49m\u001b[43m \u001b[49m\u001b[38;5;241;43m*\u001b[39;49m\u001b[38;5;241;43m*\u001b[39;49m\u001b[43mkwargs\u001b[49m\u001b[43m)\u001b[49m\n",
      "File \u001b[0;32m~/miniconda3/envs/tensorflow/lib/python3.9/site-packages/matplotlib/axes/_base.py:621\u001b[0m, in \u001b[0;36m_AxesBase.__init__\u001b[0;34m(self, fig, rect, facecolor, frameon, sharex, sharey, label, xscale, yscale, box_aspect, **kwargs)\u001b[0m\n\u001b[1;32m    618\u001b[0m \u001b[38;5;66;03m# placeholder for any colorbars added that use this Axes.\u001b[39;00m\n\u001b[1;32m    619\u001b[0m \u001b[38;5;66;03m# (see colorbar.py):\u001b[39;00m\n\u001b[1;32m    620\u001b[0m \u001b[38;5;28mself\u001b[39m\u001b[38;5;241m.\u001b[39m_colorbars \u001b[38;5;241m=\u001b[39m []\n\u001b[0;32m--> 621\u001b[0m \u001b[38;5;28mself\u001b[39m\u001b[38;5;241m.\u001b[39mspines \u001b[38;5;241m=\u001b[39m mspines\u001b[38;5;241m.\u001b[39mSpines\u001b[38;5;241m.\u001b[39mfrom_dict(\u001b[38;5;28;43mself\u001b[39;49m\u001b[38;5;241;43m.\u001b[39;49m\u001b[43m_gen_axes_spines\u001b[49m\u001b[43m(\u001b[49m\u001b[43m)\u001b[49m)\n\u001b[1;32m    623\u001b[0m \u001b[38;5;66;03m# this call may differ for non-sep axes, e.g., polar\u001b[39;00m\n\u001b[1;32m    624\u001b[0m \u001b[38;5;28mself\u001b[39m\u001b[38;5;241m.\u001b[39m_init_axis()\n",
      "File \u001b[0;32m~/miniconda3/envs/tensorflow/lib/python3.9/site-packages/matplotlib/axes/_base.py:1141\u001b[0m, in \u001b[0;36m_AxesBase._gen_axes_spines\u001b[0;34m(self, locations, offset, units)\u001b[0m\n\u001b[1;32m   1126\u001b[0m \u001b[38;5;28;01mdef\u001b[39;00m \u001b[38;5;21m_gen_axes_spines\u001b[39m(\u001b[38;5;28mself\u001b[39m, locations\u001b[38;5;241m=\u001b[39m\u001b[38;5;28;01mNone\u001b[39;00m, offset\u001b[38;5;241m=\u001b[39m\u001b[38;5;241m0.0\u001b[39m, units\u001b[38;5;241m=\u001b[39m\u001b[38;5;124m'\u001b[39m\u001b[38;5;124minches\u001b[39m\u001b[38;5;124m'\u001b[39m):\n\u001b[1;32m   1127\u001b[0m     \u001b[38;5;124;03m\"\"\"\u001b[39;00m\n\u001b[1;32m   1128\u001b[0m \u001b[38;5;124;03m    Returns\u001b[39;00m\n\u001b[1;32m   1129\u001b[0m \u001b[38;5;124;03m    -------\u001b[39;00m\n\u001b[0;32m   (...)\u001b[0m\n\u001b[1;32m   1139\u001b[0m \u001b[38;5;124;03m    Intended to be overridden by new projection types.\u001b[39;00m\n\u001b[1;32m   1140\u001b[0m \u001b[38;5;124;03m    \"\"\"\u001b[39;00m\n\u001b[0;32m-> 1141\u001b[0m     \u001b[38;5;28;01mreturn\u001b[39;00m \u001b[43mOrderedDict\u001b[49m\u001b[43m(\u001b[49m\u001b[43m(\u001b[49m\u001b[43mside\u001b[49m\u001b[43m,\u001b[49m\u001b[43m \u001b[49m\u001b[43mmspines\u001b[49m\u001b[38;5;241;43m.\u001b[39;49m\u001b[43mSpine\u001b[49m\u001b[38;5;241;43m.\u001b[39;49m\u001b[43mlinear_spine\u001b[49m\u001b[43m(\u001b[49m\u001b[38;5;28;43mself\u001b[39;49m\u001b[43m,\u001b[49m\u001b[43m \u001b[49m\u001b[43mside\u001b[49m\u001b[43m)\u001b[49m\u001b[43m)\u001b[49m\n\u001b[1;32m   1142\u001b[0m \u001b[43m                       \u001b[49m\u001b[38;5;28;43;01mfor\u001b[39;49;00m\u001b[43m \u001b[49m\u001b[43mside\u001b[49m\u001b[43m \u001b[49m\u001b[38;5;129;43;01min\u001b[39;49;00m\u001b[43m \u001b[49m\u001b[43m[\u001b[49m\u001b[38;5;124;43m'\u001b[39;49m\u001b[38;5;124;43mleft\u001b[39;49m\u001b[38;5;124;43m'\u001b[39;49m\u001b[43m,\u001b[49m\u001b[43m \u001b[49m\u001b[38;5;124;43m'\u001b[39;49m\u001b[38;5;124;43mright\u001b[39;49m\u001b[38;5;124;43m'\u001b[39;49m\u001b[43m,\u001b[49m\u001b[43m \u001b[49m\u001b[38;5;124;43m'\u001b[39;49m\u001b[38;5;124;43mbottom\u001b[39;49m\u001b[38;5;124;43m'\u001b[39;49m\u001b[43m,\u001b[49m\u001b[43m \u001b[49m\u001b[38;5;124;43m'\u001b[39;49m\u001b[38;5;124;43mtop\u001b[39;49m\u001b[38;5;124;43m'\u001b[39;49m\u001b[43m]\u001b[49m\u001b[43m)\u001b[49m\n",
      "File \u001b[0;32m~/miniconda3/envs/tensorflow/lib/python3.9/site-packages/matplotlib/axes/_base.py:1141\u001b[0m, in \u001b[0;36m<genexpr>\u001b[0;34m(.0)\u001b[0m\n\u001b[1;32m   1126\u001b[0m \u001b[38;5;28;01mdef\u001b[39;00m \u001b[38;5;21m_gen_axes_spines\u001b[39m(\u001b[38;5;28mself\u001b[39m, locations\u001b[38;5;241m=\u001b[39m\u001b[38;5;28;01mNone\u001b[39;00m, offset\u001b[38;5;241m=\u001b[39m\u001b[38;5;241m0.0\u001b[39m, units\u001b[38;5;241m=\u001b[39m\u001b[38;5;124m'\u001b[39m\u001b[38;5;124minches\u001b[39m\u001b[38;5;124m'\u001b[39m):\n\u001b[1;32m   1127\u001b[0m     \u001b[38;5;124;03m\"\"\"\u001b[39;00m\n\u001b[1;32m   1128\u001b[0m \u001b[38;5;124;03m    Returns\u001b[39;00m\n\u001b[1;32m   1129\u001b[0m \u001b[38;5;124;03m    -------\u001b[39;00m\n\u001b[0;32m   (...)\u001b[0m\n\u001b[1;32m   1139\u001b[0m \u001b[38;5;124;03m    Intended to be overridden by new projection types.\u001b[39;00m\n\u001b[1;32m   1140\u001b[0m \u001b[38;5;124;03m    \"\"\"\u001b[39;00m\n\u001b[0;32m-> 1141\u001b[0m     \u001b[38;5;28;01mreturn\u001b[39;00m OrderedDict((side, \u001b[43mmspines\u001b[49m\u001b[38;5;241;43m.\u001b[39;49m\u001b[43mSpine\u001b[49m\u001b[38;5;241;43m.\u001b[39;49m\u001b[43mlinear_spine\u001b[49m\u001b[43m(\u001b[49m\u001b[38;5;28;43mself\u001b[39;49m\u001b[43m,\u001b[49m\u001b[43m \u001b[49m\u001b[43mside\u001b[49m\u001b[43m)\u001b[49m)\n\u001b[1;32m   1142\u001b[0m                        \u001b[38;5;28;01mfor\u001b[39;00m side \u001b[38;5;129;01min\u001b[39;00m [\u001b[38;5;124m'\u001b[39m\u001b[38;5;124mleft\u001b[39m\u001b[38;5;124m'\u001b[39m, \u001b[38;5;124m'\u001b[39m\u001b[38;5;124mright\u001b[39m\u001b[38;5;124m'\u001b[39m, \u001b[38;5;124m'\u001b[39m\u001b[38;5;124mbottom\u001b[39m\u001b[38;5;124m'\u001b[39m, \u001b[38;5;124m'\u001b[39m\u001b[38;5;124mtop\u001b[39m\u001b[38;5;124m'\u001b[39m])\n",
      "File \u001b[0;32m~/miniconda3/envs/tensorflow/lib/python3.9/site-packages/matplotlib/spines.py:437\u001b[0m, in \u001b[0;36mSpine.linear_spine\u001b[0;34m(cls, axes, spine_type, **kwargs)\u001b[0m\n\u001b[1;32m    435\u001b[0m \u001b[38;5;28;01melse\u001b[39;00m:\n\u001b[1;32m    436\u001b[0m     \u001b[38;5;28;01mraise\u001b[39;00m \u001b[38;5;167;01mValueError\u001b[39;00m(\u001b[38;5;124m'\u001b[39m\u001b[38;5;124munable to make path for spine \u001b[39m\u001b[38;5;124m\"\u001b[39m\u001b[38;5;132;01m%s\u001b[39;00m\u001b[38;5;124m\"\u001b[39m\u001b[38;5;124m'\u001b[39m \u001b[38;5;241m%\u001b[39m spine_type)\n\u001b[0;32m--> 437\u001b[0m result \u001b[38;5;241m=\u001b[39m \u001b[38;5;28;43mcls\u001b[39;49m\u001b[43m(\u001b[49m\u001b[43maxes\u001b[49m\u001b[43m,\u001b[49m\u001b[43m \u001b[49m\u001b[43mspine_type\u001b[49m\u001b[43m,\u001b[49m\u001b[43m \u001b[49m\u001b[43mpath\u001b[49m\u001b[43m,\u001b[49m\u001b[43m \u001b[49m\u001b[38;5;241;43m*\u001b[39;49m\u001b[38;5;241;43m*\u001b[39;49m\u001b[43mkwargs\u001b[49m\u001b[43m)\u001b[49m\n\u001b[1;32m    438\u001b[0m result\u001b[38;5;241m.\u001b[39mset_visible(rcParams[\u001b[38;5;124m'\u001b[39m\u001b[38;5;124maxes.spines.\u001b[39m\u001b[38;5;132;01m{0}\u001b[39;00m\u001b[38;5;124m'\u001b[39m\u001b[38;5;241m.\u001b[39mformat(spine_type)])\n\u001b[1;32m    440\u001b[0m \u001b[38;5;28;01mreturn\u001b[39;00m result\n",
      "File \u001b[0;32m~/miniconda3/envs/tensorflow/lib/python3.9/site-packages/matplotlib/spines.py:72\u001b[0m, in \u001b[0;36mSpine.__init__\u001b[0;34m(self, axes, spine_type, path, **kwargs)\u001b[0m\n\u001b[1;32m     68\u001b[0m \u001b[38;5;66;03m# Defer initial position determination. (Not much support for\u001b[39;00m\n\u001b[1;32m     69\u001b[0m \u001b[38;5;66;03m# non-rectangular axes is currently implemented, and this lets\u001b[39;00m\n\u001b[1;32m     70\u001b[0m \u001b[38;5;66;03m# them pass through the spines machinery without errors.)\u001b[39;00m\n\u001b[1;32m     71\u001b[0m \u001b[38;5;28mself\u001b[39m\u001b[38;5;241m.\u001b[39m_position \u001b[38;5;241m=\u001b[39m \u001b[38;5;28;01mNone\u001b[39;00m\n\u001b[0;32m---> 72\u001b[0m _api\u001b[38;5;241m.\u001b[39mcheck_isinstance(\u001b[43mmatplotlib\u001b[49m\u001b[38;5;241;43m.\u001b[39;49m\u001b[43mpath\u001b[49m\u001b[38;5;241m.\u001b[39mPath, path\u001b[38;5;241m=\u001b[39mpath)\n\u001b[1;32m     73\u001b[0m \u001b[38;5;28mself\u001b[39m\u001b[38;5;241m.\u001b[39m_path \u001b[38;5;241m=\u001b[39m path\n\u001b[1;32m     75\u001b[0m \u001b[38;5;66;03m# To support drawing both linear and circular spines, this\u001b[39;00m\n\u001b[1;32m     76\u001b[0m \u001b[38;5;66;03m# class implements Patch behavior three ways. If\u001b[39;00m\n\u001b[1;32m     77\u001b[0m \u001b[38;5;66;03m# self._patch_type == 'line', behave like a mpatches.PathPatch\u001b[39;00m\n\u001b[1;32m     78\u001b[0m \u001b[38;5;66;03m# instance. If self._patch_type == 'circle', behave like a\u001b[39;00m\n\u001b[1;32m     79\u001b[0m \u001b[38;5;66;03m# mpatches.Ellipse instance. If self._patch_type == 'arc', behave like\u001b[39;00m\n\u001b[1;32m     80\u001b[0m \u001b[38;5;66;03m# a mpatches.Arc instance.\u001b[39;00m\n",
      "File \u001b[0;32m~/miniconda3/envs/tensorflow/lib/python3.9/site-packages/matplotlib/_api/__init__.py:222\u001b[0m, in \u001b[0;36mcaching_module_getattr.<locals>.__getattr__\u001b[0;34m(name)\u001b[0m\n\u001b[1;32m    220\u001b[0m \u001b[38;5;28;01mif\u001b[39;00m name \u001b[38;5;129;01min\u001b[39;00m props:\n\u001b[1;32m    221\u001b[0m     \u001b[38;5;28;01mreturn\u001b[39;00m props[name]\u001b[38;5;241m.\u001b[39m\u001b[38;5;21m__get__\u001b[39m(instance)\n\u001b[0;32m--> 222\u001b[0m \u001b[38;5;28;01mraise\u001b[39;00m \u001b[38;5;167;01mAttributeError\u001b[39;00m(\n\u001b[1;32m    223\u001b[0m     \u001b[38;5;124mf\u001b[39m\u001b[38;5;124m\"\u001b[39m\u001b[38;5;124mmodule \u001b[39m\u001b[38;5;132;01m{\u001b[39;00m\u001b[38;5;28mcls\u001b[39m\u001b[38;5;241m.\u001b[39m\u001b[38;5;18m__module__\u001b[39m\u001b[38;5;132;01m!r}\u001b[39;00m\u001b[38;5;124m has no attribute \u001b[39m\u001b[38;5;132;01m{\u001b[39;00mname\u001b[38;5;132;01m!r}\u001b[39;00m\u001b[38;5;124m\"\u001b[39m)\n",
      "\u001b[0;31mAttributeError\u001b[0m: module 'matplotlib' has no attribute 'path'"
     ]
    },
    {
     "data": {
      "text/plain": [
       "<Figure size 432x288 with 0 Axes>"
      ]
     },
     "metadata": {},
     "output_type": "display_data"
    }
   ],
   "source": [
    "# No discount at all\n",
    "# predicted_sales = forecast(model, valid, [312089.685355, 312089.685355, 312089.685355, 312089.685355, 312089.685355, 312089.685355, 312089.685355,\n",
    "#                                           312089.685355, 312089.685355, 312089.685355, 312089.685355, 312089.685355, 312089.685355, 312089.685355,\n",
    "#                                           312089.685355, 312089.685355, 312089.685355, 312089.685355, 312089.685355, 312089.685355, 312089.685355,\n",
    "#                                           312089.685355, 312089.685355, 312089.685355, 312089.685355, 312089.685355, 312089.685355, 312089.685355, \n",
    "#                                          ])\n",
    "plt.plot(predicted_sales)\n",
    "print(np.mean(predicted_sales))"
   ]
  },
  {
   "cell_type": "code",
   "execution_count": 112,
   "id": "4afb1828",
   "metadata": {},
   "outputs": [],
   "source": [
    "# No discount at all\n",
    "predicted_sales = forecast(model, valid, [312089.685355, 312089.685355, 312089.685355, 312089.685355, 312089.685355, 300000.685355, 300000.685355,\n",
    "                                          312089.685355, 312089.685355, 312089.685355, 312089.685355, 312089.685355, 300000.685355, 300000.685355,\n",
    "                                          312089.685355, 312089.685355, 312089.685355, 312089.685355, 312089.685355, 300000.685355, 300000.685355,\n",
    "                                          312089.685355, 312089.685355, 312089.685355, 312089.685355, 312089.685355, 300000.685355, 300000.685355,\n",
    "                                         ])\n",
    "plt.plot(predicted_sales)\n",
    "print(np.mean(predicted_sales))"
   ]
  },
  {
   "cell_type": "code",
   "execution_count": null,
   "id": "566b0d4a",
   "metadata": {},
   "outputs": [],
   "source": [
    "# Discount on the first 2 weeks\n",
    "predicted_sales = forecast(model, valid, [0, 0, 0, 0, 0, 0, 0,\n",
    "                                          0, 0, 0, 0, 0, 0, 0,\n",
    "                                          0, 0, 0, 0, 0, 0, 0,\n",
    "                                          0, 0, 0, 0, 0, 0, 0,\n",
    "                                         ])\n",
    "plt.plot(predicted_sales)\n",
    "print(np.mean(predicted_sales))"
   ]
  },
  {
   "cell_type": "code",
   "execution_count": null,
   "id": "6182f00a",
   "metadata": {},
   "outputs": [],
   "source": [
    "valid"
   ]
  }
 ],
 "metadata": {
  "kernelspec": {
   "display_name": "tensorflow",
   "language": "python",
   "name": "tensorflow"
  },
  "language_info": {
   "codemirror_mode": {
    "name": "ipython",
    "version": 3
   },
   "file_extension": ".py",
   "mimetype": "text/x-python",
   "name": "python",
   "nbconvert_exporter": "python",
   "pygments_lexer": "ipython3",
   "version": "3.9.7"
  },
  "toc": {
   "base_numbering": 1,
   "nav_menu": {},
   "number_sections": true,
   "sideBar": false,
   "skip_h1_title": false,
   "title_cell": "Table of Contents",
   "title_sidebar": "Contents",
   "toc_cell": true,
   "toc_position": {},
   "toc_section_display": true,
   "toc_window_display": false
  },
  "varInspector": {
   "cols": {
    "lenName": 16,
    "lenType": 16,
    "lenVar": 40
   },
   "kernels_config": {
    "python": {
     "delete_cmd_postfix": "",
     "delete_cmd_prefix": "del ",
     "library": "var_list.py",
     "varRefreshCmd": "print(var_dic_list())"
    },
    "r": {
     "delete_cmd_postfix": ") ",
     "delete_cmd_prefix": "rm(",
     "library": "var_list.r",
     "varRefreshCmd": "cat(var_dic_list()) "
    }
   },
   "types_to_exclude": [
    "module",
    "function",
    "builtin_function_or_method",
    "instance",
    "_Feature"
   ],
   "window_display": false
  }
 },
 "nbformat": 4,
 "nbformat_minor": 5
}
