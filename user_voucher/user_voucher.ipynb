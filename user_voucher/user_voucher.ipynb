{
  "cells": [
    {
      "cell_type": "markdown",
      "source": [
        "# Preparing Dataset"
      ],
      "metadata": {
        "id": "T2WNZZxEOb0M"
      },
      "id": "T2WNZZxEOb0M"
    },
    {
      "cell_type": "code",
      "execution_count": null,
      "id": "66837ed1",
      "metadata": {
        "id": "66837ed1"
      },
      "outputs": [],
      "source": [
        "import pandas as pd\n",
        "import matplotlib as plt\n",
        "import numpy as np\n",
        "import tensorflow as tf"
      ]
    },
    {
      "cell_type": "code",
      "execution_count": null,
      "id": "6126b7e4",
      "metadata": {
        "id": "6126b7e4"
      },
      "outputs": [],
      "source": [
        "order_reviews = pd.read_csv('./data/olist_order_reviews_dataset.csv')\n",
        "order_data = pd.read_csv('./data/olist_orders_dataset.csv') \n",
        "order_items = pd.read_csv('./data/olist_order_items_dataset.csv')\n",
        "products = pd.read_csv('./data/products.csv')\n",
        "customers = pd.read_csv('./data/olist_customers_dataset.csv')"
      ]
    },
    {
      "cell_type": "code",
      "execution_count": null,
      "id": "cc55cef1",
      "metadata": {
        "id": "cc55cef1",
        "outputId": "4f41feca-2ef4-41ba-ed25-1c4804ee951a"
      },
      "outputs": [
        {
          "data": {
            "text/html": [
              "<div>\n",
              "<style scoped>\n",
              "    .dataframe tbody tr th:only-of-type {\n",
              "        vertical-align: middle;\n",
              "    }\n",
              "\n",
              "    .dataframe tbody tr th {\n",
              "        vertical-align: top;\n",
              "    }\n",
              "\n",
              "    .dataframe thead th {\n",
              "        text-align: right;\n",
              "    }\n",
              "</style>\n",
              "<table border=\"1\" class=\"dataframe\">\n",
              "  <thead>\n",
              "    <tr style=\"text-align: right;\">\n",
              "      <th></th>\n",
              "      <th>review_id</th>\n",
              "      <th>order_id</th>\n",
              "      <th>review_score</th>\n",
              "      <th>review_comment_title</th>\n",
              "      <th>review_comment_message</th>\n",
              "      <th>review_creation_date</th>\n",
              "      <th>review_answer_timestamp</th>\n",
              "    </tr>\n",
              "  </thead>\n",
              "  <tbody>\n",
              "    <tr>\n",
              "      <th>7930</th>\n",
              "      <td>249468c9ad8dad2b958eef7606d8dbd5</td>\n",
              "      <td>f71d58fa033d5d4e4425df56015ad62d</td>\n",
              "      <td>5</td>\n",
              "      <td>NaN</td>\n",
              "      <td>NaN</td>\n",
              "      <td>2018-05-19 00:00:00</td>\n",
              "      <td>2018-05-21 12:34:32</td>\n",
              "    </tr>\n",
              "    <tr>\n",
              "      <th>87355</th>\n",
              "      <td>326f0451018258ac03c45c086ee0a299</td>\n",
              "      <td>d9ecfbca463d0edab5f63732a812a5d1</td>\n",
              "      <td>5</td>\n",
              "      <td>NaN</td>\n",
              "      <td>Chegou no prazo conforme combinado</td>\n",
              "      <td>2018-03-17 00:00:00</td>\n",
              "      <td>2018-03-19 12:50:21</td>\n",
              "    </tr>\n",
              "    <tr>\n",
              "      <th>989</th>\n",
              "      <td>4b964e53dbfc85277f4316507d7fc15d</td>\n",
              "      <td>3ccd24b53560c0fe294750d98a057584</td>\n",
              "      <td>5</td>\n",
              "      <td>NaN</td>\n",
              "      <td>NaN</td>\n",
              "      <td>2018-07-10 00:00:00</td>\n",
              "      <td>2018-07-10 22:25:03</td>\n",
              "    </tr>\n",
              "    <tr>\n",
              "      <th>7006</th>\n",
              "      <td>b8b71b26501c33521ea53f57050dee14</td>\n",
              "      <td>99121a6a19faf88462f8fe83aeecb844</td>\n",
              "      <td>2</td>\n",
              "      <td>NaN</td>\n",
              "      <td>O que era para ser o presente de natal, chegou...</td>\n",
              "      <td>2018-01-10 00:00:00</td>\n",
              "      <td>2018-01-11 00:43:23</td>\n",
              "    </tr>\n",
              "    <tr>\n",
              "      <th>69887</th>\n",
              "      <td>00489c52684302a7ae49bf65175cb1a8</td>\n",
              "      <td>16af3bfaa6a2871b0c80b75da409f501</td>\n",
              "      <td>5</td>\n",
              "      <td>NaN</td>\n",
              "      <td>NaN</td>\n",
              "      <td>2018-05-09 00:00:00</td>\n",
              "      <td>2018-05-10 13:12:05</td>\n",
              "    </tr>\n",
              "  </tbody>\n",
              "</table>\n",
              "</div>"
            ],
            "text/plain": [
              "                              review_id                          order_id  \\\n",
              "7930   249468c9ad8dad2b958eef7606d8dbd5  f71d58fa033d5d4e4425df56015ad62d   \n",
              "87355  326f0451018258ac03c45c086ee0a299  d9ecfbca463d0edab5f63732a812a5d1   \n",
              "989    4b964e53dbfc85277f4316507d7fc15d  3ccd24b53560c0fe294750d98a057584   \n",
              "7006   b8b71b26501c33521ea53f57050dee14  99121a6a19faf88462f8fe83aeecb844   \n",
              "69887  00489c52684302a7ae49bf65175cb1a8  16af3bfaa6a2871b0c80b75da409f501   \n",
              "\n",
              "       review_score review_comment_title  \\\n",
              "7930              5                  NaN   \n",
              "87355             5                  NaN   \n",
              "989               5                  NaN   \n",
              "7006              2                  NaN   \n",
              "69887             5                  NaN   \n",
              "\n",
              "                                  review_comment_message review_creation_date  \\\n",
              "7930                                                 NaN  2018-05-19 00:00:00   \n",
              "87355                 Chegou no prazo conforme combinado  2018-03-17 00:00:00   \n",
              "989                                                  NaN  2018-07-10 00:00:00   \n",
              "7006   O que era para ser o presente de natal, chegou...  2018-01-10 00:00:00   \n",
              "69887                                                NaN  2018-05-09 00:00:00   \n",
              "\n",
              "      review_answer_timestamp  \n",
              "7930      2018-05-21 12:34:32  \n",
              "87355     2018-03-19 12:50:21  \n",
              "989       2018-07-10 22:25:03  \n",
              "7006      2018-01-11 00:43:23  \n",
              "69887     2018-05-10 13:12:05  "
            ]
          },
          "execution_count": 175,
          "metadata": {},
          "output_type": "execute_result"
        }
      ],
      "source": [
        "order_reviews.sample(5)"
      ]
    },
    {
      "cell_type": "code",
      "execution_count": null,
      "id": "6550da5b",
      "metadata": {
        "id": "6550da5b",
        "outputId": "e85f8459-3537-4995-fde9-f995c5105c70"
      },
      "outputs": [
        {
          "data": {
            "text/html": [
              "<div>\n",
              "<style scoped>\n",
              "    .dataframe tbody tr th:only-of-type {\n",
              "        vertical-align: middle;\n",
              "    }\n",
              "\n",
              "    .dataframe tbody tr th {\n",
              "        vertical-align: top;\n",
              "    }\n",
              "\n",
              "    .dataframe thead th {\n",
              "        text-align: right;\n",
              "    }\n",
              "</style>\n",
              "<table border=\"1\" class=\"dataframe\">\n",
              "  <thead>\n",
              "    <tr style=\"text-align: right;\">\n",
              "      <th></th>\n",
              "      <th>order_id</th>\n",
              "      <th>customer_id</th>\n",
              "      <th>order_status</th>\n",
              "      <th>order_purchase_timestamp</th>\n",
              "      <th>order_approved_at</th>\n",
              "      <th>order_delivered_carrier_date</th>\n",
              "      <th>order_delivered_customer_date</th>\n",
              "      <th>order_estimated_delivery_date</th>\n",
              "    </tr>\n",
              "  </thead>\n",
              "  <tbody>\n",
              "    <tr>\n",
              "      <th>68133</th>\n",
              "      <td>6f0c925fc5d548afcddeea046d4e30d1</td>\n",
              "      <td>95249fdbd5e35ac3652c3f5e05e75f91</td>\n",
              "      <td>delivered</td>\n",
              "      <td>2018-01-05 17:31:53</td>\n",
              "      <td>2018-01-05 17:39:21</td>\n",
              "      <td>2018-01-10 20:11:23</td>\n",
              "      <td>2018-01-22 23:48:41</td>\n",
              "      <td>2018-02-07 00:00:00</td>\n",
              "    </tr>\n",
              "    <tr>\n",
              "      <th>98119</th>\n",
              "      <td>b65a9099b9f6617410e0f5fb0b9e1fdc</td>\n",
              "      <td>d962481ccf3e97521018974422943966</td>\n",
              "      <td>delivered</td>\n",
              "      <td>2017-03-09 19:12:19</td>\n",
              "      <td>2017-03-09 19:12:19</td>\n",
              "      <td>2017-03-10 09:27:21</td>\n",
              "      <td>2017-03-14 11:48:06</td>\n",
              "      <td>2017-03-31 00:00:00</td>\n",
              "    </tr>\n",
              "    <tr>\n",
              "      <th>57259</th>\n",
              "      <td>676909a2d3e6b18493578ed09d3e9e03</td>\n",
              "      <td>7e059909ea55e4548694d7da1ee6ab13</td>\n",
              "      <td>delivered</td>\n",
              "      <td>2017-07-20 19:29:03</td>\n",
              "      <td>2017-07-20 19:43:26</td>\n",
              "      <td>2017-07-21 20:46:36</td>\n",
              "      <td>2017-07-31 17:37:45</td>\n",
              "      <td>2017-08-23 00:00:00</td>\n",
              "    </tr>\n",
              "    <tr>\n",
              "      <th>22996</th>\n",
              "      <td>0070092bb6004faafa287e5fc35971e9</td>\n",
              "      <td>399d1e628c48b7c3b6389098be566cfd</td>\n",
              "      <td>delivered</td>\n",
              "      <td>2017-07-25 11:42:58</td>\n",
              "      <td>2017-07-25 11:55:24</td>\n",
              "      <td>2017-07-26 10:47:53</td>\n",
              "      <td>2017-07-27 21:34:24</td>\n",
              "      <td>2017-08-14 00:00:00</td>\n",
              "    </tr>\n",
              "    <tr>\n",
              "      <th>44675</th>\n",
              "      <td>f1ce9965a957c39b5753f2b82622f6fb</td>\n",
              "      <td>c281c5f935d39e223bdc5aa6f1955ad6</td>\n",
              "      <td>delivered</td>\n",
              "      <td>2017-11-19 17:37:11</td>\n",
              "      <td>2017-11-19 17:50:33</td>\n",
              "      <td>2017-11-21 22:26:57</td>\n",
              "      <td>2017-11-29 18:09:04</td>\n",
              "      <td>2017-12-07 00:00:00</td>\n",
              "    </tr>\n",
              "  </tbody>\n",
              "</table>\n",
              "</div>"
            ],
            "text/plain": [
              "                               order_id                       customer_id  \\\n",
              "68133  6f0c925fc5d548afcddeea046d4e30d1  95249fdbd5e35ac3652c3f5e05e75f91   \n",
              "98119  b65a9099b9f6617410e0f5fb0b9e1fdc  d962481ccf3e97521018974422943966   \n",
              "57259  676909a2d3e6b18493578ed09d3e9e03  7e059909ea55e4548694d7da1ee6ab13   \n",
              "22996  0070092bb6004faafa287e5fc35971e9  399d1e628c48b7c3b6389098be566cfd   \n",
              "44675  f1ce9965a957c39b5753f2b82622f6fb  c281c5f935d39e223bdc5aa6f1955ad6   \n",
              "\n",
              "      order_status order_purchase_timestamp    order_approved_at  \\\n",
              "68133    delivered      2018-01-05 17:31:53  2018-01-05 17:39:21   \n",
              "98119    delivered      2017-03-09 19:12:19  2017-03-09 19:12:19   \n",
              "57259    delivered      2017-07-20 19:29:03  2017-07-20 19:43:26   \n",
              "22996    delivered      2017-07-25 11:42:58  2017-07-25 11:55:24   \n",
              "44675    delivered      2017-11-19 17:37:11  2017-11-19 17:50:33   \n",
              "\n",
              "      order_delivered_carrier_date order_delivered_customer_date  \\\n",
              "68133          2018-01-10 20:11:23           2018-01-22 23:48:41   \n",
              "98119          2017-03-10 09:27:21           2017-03-14 11:48:06   \n",
              "57259          2017-07-21 20:46:36           2017-07-31 17:37:45   \n",
              "22996          2017-07-26 10:47:53           2017-07-27 21:34:24   \n",
              "44675          2017-11-21 22:26:57           2017-11-29 18:09:04   \n",
              "\n",
              "      order_estimated_delivery_date  \n",
              "68133           2018-02-07 00:00:00  \n",
              "98119           2017-03-31 00:00:00  \n",
              "57259           2017-08-23 00:00:00  \n",
              "22996           2017-08-14 00:00:00  \n",
              "44675           2017-12-07 00:00:00  "
            ]
          },
          "execution_count": 176,
          "metadata": {},
          "output_type": "execute_result"
        }
      ],
      "source": [
        "order_data.sample(5)"
      ]
    },
    {
      "cell_type": "code",
      "execution_count": null,
      "id": "802c77f7",
      "metadata": {
        "id": "802c77f7",
        "outputId": "a421ce44-f54d-477e-f2c3-17c000f98fd1"
      },
      "outputs": [
        {
          "data": {
            "text/html": [
              "<div>\n",
              "<style scoped>\n",
              "    .dataframe tbody tr th:only-of-type {\n",
              "        vertical-align: middle;\n",
              "    }\n",
              "\n",
              "    .dataframe tbody tr th {\n",
              "        vertical-align: top;\n",
              "    }\n",
              "\n",
              "    .dataframe thead th {\n",
              "        text-align: right;\n",
              "    }\n",
              "</style>\n",
              "<table border=\"1\" class=\"dataframe\">\n",
              "  <thead>\n",
              "    <tr style=\"text-align: right;\">\n",
              "      <th></th>\n",
              "      <th>order_id</th>\n",
              "      <th>order_item_id</th>\n",
              "      <th>product_id</th>\n",
              "      <th>seller_id</th>\n",
              "      <th>shipping_limit_date</th>\n",
              "      <th>price</th>\n",
              "      <th>freight_value</th>\n",
              "    </tr>\n",
              "  </thead>\n",
              "  <tbody>\n",
              "    <tr>\n",
              "      <th>6615</th>\n",
              "      <td>0ef649628b81b1b6562026090e37b98b</td>\n",
              "      <td>1</td>\n",
              "      <td>500870614ddcf5bd84f7d26861026c8a</td>\n",
              "      <td>92eb0f42c21942b6552362b9b114707d</td>\n",
              "      <td>2018-08-27 14:05:21</td>\n",
              "      <td>11.87</td>\n",
              "      <td>7.39</td>\n",
              "    </tr>\n",
              "    <tr>\n",
              "      <th>640</th>\n",
              "      <td>0179a3003c894f1dd3b1ddda5d1f8a12</td>\n",
              "      <td>1</td>\n",
              "      <td>f42892b40225227fe465626ff509a92e</td>\n",
              "      <td>4a3ca9315b744ce9f8e9374361493884</td>\n",
              "      <td>2017-06-01 02:50:20</td>\n",
              "      <td>89.90</td>\n",
              "      <td>15.33</td>\n",
              "    </tr>\n",
              "    <tr>\n",
              "      <th>86166</th>\n",
              "      <td>c3be15258fc4adeb2c7569983b4afb99</td>\n",
              "      <td>3</td>\n",
              "      <td>f288cae3916218ec01f708d093b29d4f</td>\n",
              "      <td>c8417879a15366a17c30af34c798c332</td>\n",
              "      <td>2017-09-26 02:30:21</td>\n",
              "      <td>107.00</td>\n",
              "      <td>8.00</td>\n",
              "    </tr>\n",
              "    <tr>\n",
              "      <th>13478</th>\n",
              "      <td>1e9cdcfe3bc61780f3fdf2edc4866484</td>\n",
              "      <td>1</td>\n",
              "      <td>2b5fddc2b543ee8d6699fb8687fac6bb</td>\n",
              "      <td>7299e27ed73d2ad986de7f7c77d919fa</td>\n",
              "      <td>2017-09-14 17:55:10</td>\n",
              "      <td>79.99</td>\n",
              "      <td>15.31</td>\n",
              "    </tr>\n",
              "    <tr>\n",
              "      <th>34364</th>\n",
              "      <td>4db6ae4eb4f99f22c2eecfcb62df5e03</td>\n",
              "      <td>1</td>\n",
              "      <td>d4a8ab90e626911fa92af68c07228390</td>\n",
              "      <td>cca3071e3e9bb7d12640c9fbe2301306</td>\n",
              "      <td>2017-02-24 19:20:28</td>\n",
              "      <td>45.90</td>\n",
              "      <td>15.56</td>\n",
              "    </tr>\n",
              "  </tbody>\n",
              "</table>\n",
              "</div>"
            ],
            "text/plain": [
              "                               order_id  order_item_id  \\\n",
              "6615   0ef649628b81b1b6562026090e37b98b              1   \n",
              "640    0179a3003c894f1dd3b1ddda5d1f8a12              1   \n",
              "86166  c3be15258fc4adeb2c7569983b4afb99              3   \n",
              "13478  1e9cdcfe3bc61780f3fdf2edc4866484              1   \n",
              "34364  4db6ae4eb4f99f22c2eecfcb62df5e03              1   \n",
              "\n",
              "                             product_id                         seller_id  \\\n",
              "6615   500870614ddcf5bd84f7d26861026c8a  92eb0f42c21942b6552362b9b114707d   \n",
              "640    f42892b40225227fe465626ff509a92e  4a3ca9315b744ce9f8e9374361493884   \n",
              "86166  f288cae3916218ec01f708d093b29d4f  c8417879a15366a17c30af34c798c332   \n",
              "13478  2b5fddc2b543ee8d6699fb8687fac6bb  7299e27ed73d2ad986de7f7c77d919fa   \n",
              "34364  d4a8ab90e626911fa92af68c07228390  cca3071e3e9bb7d12640c9fbe2301306   \n",
              "\n",
              "       shipping_limit_date   price  freight_value  \n",
              "6615   2018-08-27 14:05:21   11.87           7.39  \n",
              "640    2017-06-01 02:50:20   89.90          15.33  \n",
              "86166  2017-09-26 02:30:21  107.00           8.00  \n",
              "13478  2017-09-14 17:55:10   79.99          15.31  \n",
              "34364  2017-02-24 19:20:28   45.90          15.56  "
            ]
          },
          "execution_count": 177,
          "metadata": {},
          "output_type": "execute_result"
        }
      ],
      "source": [
        "order_items.sample(5)"
      ]
    },
    {
      "cell_type": "code",
      "execution_count": null,
      "id": "4f20005d",
      "metadata": {
        "id": "4f20005d",
        "outputId": "f4caf555-c0d9-4f42-8ac7-72bd73851357"
      },
      "outputs": [
        {
          "data": {
            "text/html": [
              "<div>\n",
              "<style scoped>\n",
              "    .dataframe tbody tr th:only-of-type {\n",
              "        vertical-align: middle;\n",
              "    }\n",
              "\n",
              "    .dataframe tbody tr th {\n",
              "        vertical-align: top;\n",
              "    }\n",
              "\n",
              "    .dataframe thead th {\n",
              "        text-align: right;\n",
              "    }\n",
              "</style>\n",
              "<table border=\"1\" class=\"dataframe\">\n",
              "  <thead>\n",
              "    <tr style=\"text-align: right;\">\n",
              "      <th></th>\n",
              "      <th>order_id</th>\n",
              "      <th>order_item_id</th>\n",
              "      <th>product_id</th>\n",
              "      <th>seller_id</th>\n",
              "      <th>shipping_limit_date</th>\n",
              "      <th>price</th>\n",
              "      <th>freight_value</th>\n",
              "    </tr>\n",
              "  </thead>\n",
              "  <tbody>\n",
              "    <tr>\n",
              "      <th>57297</th>\n",
              "      <td>8272b63d03f5f79c56e9e4120aec44ef</td>\n",
              "      <td>1</td>\n",
              "      <td>270516a3f41dc035aa87d220228f844c</td>\n",
              "      <td>2709af9587499e95e803a6498a5a56e9</td>\n",
              "      <td>2017-07-21 18:25:23</td>\n",
              "      <td>1.2</td>\n",
              "      <td>7.89</td>\n",
              "    </tr>\n",
              "    <tr>\n",
              "      <th>57298</th>\n",
              "      <td>8272b63d03f5f79c56e9e4120aec44ef</td>\n",
              "      <td>2</td>\n",
              "      <td>05b515fdc76e888aada3c6d66c201dff</td>\n",
              "      <td>2709af9587499e95e803a6498a5a56e9</td>\n",
              "      <td>2017-07-21 18:25:23</td>\n",
              "      <td>1.2</td>\n",
              "      <td>7.89</td>\n",
              "    </tr>\n",
              "    <tr>\n",
              "      <th>57299</th>\n",
              "      <td>8272b63d03f5f79c56e9e4120aec44ef</td>\n",
              "      <td>3</td>\n",
              "      <td>05b515fdc76e888aada3c6d66c201dff</td>\n",
              "      <td>2709af9587499e95e803a6498a5a56e9</td>\n",
              "      <td>2017-07-21 18:25:23</td>\n",
              "      <td>1.2</td>\n",
              "      <td>7.89</td>\n",
              "    </tr>\n",
              "    <tr>\n",
              "      <th>57300</th>\n",
              "      <td>8272b63d03f5f79c56e9e4120aec44ef</td>\n",
              "      <td>4</td>\n",
              "      <td>05b515fdc76e888aada3c6d66c201dff</td>\n",
              "      <td>2709af9587499e95e803a6498a5a56e9</td>\n",
              "      <td>2017-07-21 18:25:23</td>\n",
              "      <td>1.2</td>\n",
              "      <td>7.89</td>\n",
              "    </tr>\n",
              "    <tr>\n",
              "      <th>57301</th>\n",
              "      <td>8272b63d03f5f79c56e9e4120aec44ef</td>\n",
              "      <td>5</td>\n",
              "      <td>05b515fdc76e888aada3c6d66c201dff</td>\n",
              "      <td>2709af9587499e95e803a6498a5a56e9</td>\n",
              "      <td>2017-07-21 18:25:23</td>\n",
              "      <td>1.2</td>\n",
              "      <td>7.89</td>\n",
              "    </tr>\n",
              "    <tr>\n",
              "      <th>57302</th>\n",
              "      <td>8272b63d03f5f79c56e9e4120aec44ef</td>\n",
              "      <td>6</td>\n",
              "      <td>05b515fdc76e888aada3c6d66c201dff</td>\n",
              "      <td>2709af9587499e95e803a6498a5a56e9</td>\n",
              "      <td>2017-07-21 18:25:23</td>\n",
              "      <td>1.2</td>\n",
              "      <td>7.89</td>\n",
              "    </tr>\n",
              "    <tr>\n",
              "      <th>57303</th>\n",
              "      <td>8272b63d03f5f79c56e9e4120aec44ef</td>\n",
              "      <td>7</td>\n",
              "      <td>05b515fdc76e888aada3c6d66c201dff</td>\n",
              "      <td>2709af9587499e95e803a6498a5a56e9</td>\n",
              "      <td>2017-07-21 18:25:23</td>\n",
              "      <td>1.2</td>\n",
              "      <td>7.89</td>\n",
              "    </tr>\n",
              "    <tr>\n",
              "      <th>57304</th>\n",
              "      <td>8272b63d03f5f79c56e9e4120aec44ef</td>\n",
              "      <td>8</td>\n",
              "      <td>05b515fdc76e888aada3c6d66c201dff</td>\n",
              "      <td>2709af9587499e95e803a6498a5a56e9</td>\n",
              "      <td>2017-07-21 18:25:23</td>\n",
              "      <td>1.2</td>\n",
              "      <td>7.89</td>\n",
              "    </tr>\n",
              "    <tr>\n",
              "      <th>57305</th>\n",
              "      <td>8272b63d03f5f79c56e9e4120aec44ef</td>\n",
              "      <td>9</td>\n",
              "      <td>05b515fdc76e888aada3c6d66c201dff</td>\n",
              "      <td>2709af9587499e95e803a6498a5a56e9</td>\n",
              "      <td>2017-07-21 18:25:23</td>\n",
              "      <td>1.2</td>\n",
              "      <td>7.89</td>\n",
              "    </tr>\n",
              "    <tr>\n",
              "      <th>57306</th>\n",
              "      <td>8272b63d03f5f79c56e9e4120aec44ef</td>\n",
              "      <td>10</td>\n",
              "      <td>05b515fdc76e888aada3c6d66c201dff</td>\n",
              "      <td>2709af9587499e95e803a6498a5a56e9</td>\n",
              "      <td>2017-07-21 18:25:23</td>\n",
              "      <td>1.2</td>\n",
              "      <td>7.89</td>\n",
              "    </tr>\n",
              "    <tr>\n",
              "      <th>57307</th>\n",
              "      <td>8272b63d03f5f79c56e9e4120aec44ef</td>\n",
              "      <td>11</td>\n",
              "      <td>05b515fdc76e888aada3c6d66c201dff</td>\n",
              "      <td>2709af9587499e95e803a6498a5a56e9</td>\n",
              "      <td>2017-07-21 18:25:23</td>\n",
              "      <td>1.2</td>\n",
              "      <td>7.89</td>\n",
              "    </tr>\n",
              "    <tr>\n",
              "      <th>57308</th>\n",
              "      <td>8272b63d03f5f79c56e9e4120aec44ef</td>\n",
              "      <td>12</td>\n",
              "      <td>270516a3f41dc035aa87d220228f844c</td>\n",
              "      <td>2709af9587499e95e803a6498a5a56e9</td>\n",
              "      <td>2017-07-21 18:25:23</td>\n",
              "      <td>1.2</td>\n",
              "      <td>7.89</td>\n",
              "    </tr>\n",
              "    <tr>\n",
              "      <th>57309</th>\n",
              "      <td>8272b63d03f5f79c56e9e4120aec44ef</td>\n",
              "      <td>13</td>\n",
              "      <td>270516a3f41dc035aa87d220228f844c</td>\n",
              "      <td>2709af9587499e95e803a6498a5a56e9</td>\n",
              "      <td>2017-07-21 18:25:23</td>\n",
              "      <td>1.2</td>\n",
              "      <td>7.89</td>\n",
              "    </tr>\n",
              "    <tr>\n",
              "      <th>57310</th>\n",
              "      <td>8272b63d03f5f79c56e9e4120aec44ef</td>\n",
              "      <td>14</td>\n",
              "      <td>270516a3f41dc035aa87d220228f844c</td>\n",
              "      <td>2709af9587499e95e803a6498a5a56e9</td>\n",
              "      <td>2017-07-21 18:25:23</td>\n",
              "      <td>1.2</td>\n",
              "      <td>7.89</td>\n",
              "    </tr>\n",
              "    <tr>\n",
              "      <th>57311</th>\n",
              "      <td>8272b63d03f5f79c56e9e4120aec44ef</td>\n",
              "      <td>15</td>\n",
              "      <td>270516a3f41dc035aa87d220228f844c</td>\n",
              "      <td>2709af9587499e95e803a6498a5a56e9</td>\n",
              "      <td>2017-07-21 18:25:23</td>\n",
              "      <td>1.2</td>\n",
              "      <td>7.89</td>\n",
              "    </tr>\n",
              "    <tr>\n",
              "      <th>57312</th>\n",
              "      <td>8272b63d03f5f79c56e9e4120aec44ef</td>\n",
              "      <td>16</td>\n",
              "      <td>270516a3f41dc035aa87d220228f844c</td>\n",
              "      <td>2709af9587499e95e803a6498a5a56e9</td>\n",
              "      <td>2017-07-21 18:25:23</td>\n",
              "      <td>1.2</td>\n",
              "      <td>7.89</td>\n",
              "    </tr>\n",
              "    <tr>\n",
              "      <th>57313</th>\n",
              "      <td>8272b63d03f5f79c56e9e4120aec44ef</td>\n",
              "      <td>17</td>\n",
              "      <td>270516a3f41dc035aa87d220228f844c</td>\n",
              "      <td>2709af9587499e95e803a6498a5a56e9</td>\n",
              "      <td>2017-07-21 18:25:23</td>\n",
              "      <td>1.2</td>\n",
              "      <td>7.89</td>\n",
              "    </tr>\n",
              "    <tr>\n",
              "      <th>57314</th>\n",
              "      <td>8272b63d03f5f79c56e9e4120aec44ef</td>\n",
              "      <td>18</td>\n",
              "      <td>270516a3f41dc035aa87d220228f844c</td>\n",
              "      <td>2709af9587499e95e803a6498a5a56e9</td>\n",
              "      <td>2017-07-21 18:25:23</td>\n",
              "      <td>1.2</td>\n",
              "      <td>7.89</td>\n",
              "    </tr>\n",
              "    <tr>\n",
              "      <th>57315</th>\n",
              "      <td>8272b63d03f5f79c56e9e4120aec44ef</td>\n",
              "      <td>19</td>\n",
              "      <td>270516a3f41dc035aa87d220228f844c</td>\n",
              "      <td>2709af9587499e95e803a6498a5a56e9</td>\n",
              "      <td>2017-07-21 18:25:23</td>\n",
              "      <td>1.2</td>\n",
              "      <td>7.89</td>\n",
              "    </tr>\n",
              "    <tr>\n",
              "      <th>57316</th>\n",
              "      <td>8272b63d03f5f79c56e9e4120aec44ef</td>\n",
              "      <td>20</td>\n",
              "      <td>270516a3f41dc035aa87d220228f844c</td>\n",
              "      <td>2709af9587499e95e803a6498a5a56e9</td>\n",
              "      <td>2017-07-21 18:25:23</td>\n",
              "      <td>1.2</td>\n",
              "      <td>7.89</td>\n",
              "    </tr>\n",
              "    <tr>\n",
              "      <th>57317</th>\n",
              "      <td>8272b63d03f5f79c56e9e4120aec44ef</td>\n",
              "      <td>21</td>\n",
              "      <td>79ce45dbc2ea29b22b5a261bbb7b7ee7</td>\n",
              "      <td>2709af9587499e95e803a6498a5a56e9</td>\n",
              "      <td>2017-07-21 18:25:23</td>\n",
              "      <td>7.8</td>\n",
              "      <td>6.57</td>\n",
              "    </tr>\n",
              "  </tbody>\n",
              "</table>\n",
              "</div>"
            ],
            "text/plain": [
              "                               order_id  order_item_id  \\\n",
              "57297  8272b63d03f5f79c56e9e4120aec44ef              1   \n",
              "57298  8272b63d03f5f79c56e9e4120aec44ef              2   \n",
              "57299  8272b63d03f5f79c56e9e4120aec44ef              3   \n",
              "57300  8272b63d03f5f79c56e9e4120aec44ef              4   \n",
              "57301  8272b63d03f5f79c56e9e4120aec44ef              5   \n",
              "57302  8272b63d03f5f79c56e9e4120aec44ef              6   \n",
              "57303  8272b63d03f5f79c56e9e4120aec44ef              7   \n",
              "57304  8272b63d03f5f79c56e9e4120aec44ef              8   \n",
              "57305  8272b63d03f5f79c56e9e4120aec44ef              9   \n",
              "57306  8272b63d03f5f79c56e9e4120aec44ef             10   \n",
              "57307  8272b63d03f5f79c56e9e4120aec44ef             11   \n",
              "57308  8272b63d03f5f79c56e9e4120aec44ef             12   \n",
              "57309  8272b63d03f5f79c56e9e4120aec44ef             13   \n",
              "57310  8272b63d03f5f79c56e9e4120aec44ef             14   \n",
              "57311  8272b63d03f5f79c56e9e4120aec44ef             15   \n",
              "57312  8272b63d03f5f79c56e9e4120aec44ef             16   \n",
              "57313  8272b63d03f5f79c56e9e4120aec44ef             17   \n",
              "57314  8272b63d03f5f79c56e9e4120aec44ef             18   \n",
              "57315  8272b63d03f5f79c56e9e4120aec44ef             19   \n",
              "57316  8272b63d03f5f79c56e9e4120aec44ef             20   \n",
              "57317  8272b63d03f5f79c56e9e4120aec44ef             21   \n",
              "\n",
              "                             product_id                         seller_id  \\\n",
              "57297  270516a3f41dc035aa87d220228f844c  2709af9587499e95e803a6498a5a56e9   \n",
              "57298  05b515fdc76e888aada3c6d66c201dff  2709af9587499e95e803a6498a5a56e9   \n",
              "57299  05b515fdc76e888aada3c6d66c201dff  2709af9587499e95e803a6498a5a56e9   \n",
              "57300  05b515fdc76e888aada3c6d66c201dff  2709af9587499e95e803a6498a5a56e9   \n",
              "57301  05b515fdc76e888aada3c6d66c201dff  2709af9587499e95e803a6498a5a56e9   \n",
              "57302  05b515fdc76e888aada3c6d66c201dff  2709af9587499e95e803a6498a5a56e9   \n",
              "57303  05b515fdc76e888aada3c6d66c201dff  2709af9587499e95e803a6498a5a56e9   \n",
              "57304  05b515fdc76e888aada3c6d66c201dff  2709af9587499e95e803a6498a5a56e9   \n",
              "57305  05b515fdc76e888aada3c6d66c201dff  2709af9587499e95e803a6498a5a56e9   \n",
              "57306  05b515fdc76e888aada3c6d66c201dff  2709af9587499e95e803a6498a5a56e9   \n",
              "57307  05b515fdc76e888aada3c6d66c201dff  2709af9587499e95e803a6498a5a56e9   \n",
              "57308  270516a3f41dc035aa87d220228f844c  2709af9587499e95e803a6498a5a56e9   \n",
              "57309  270516a3f41dc035aa87d220228f844c  2709af9587499e95e803a6498a5a56e9   \n",
              "57310  270516a3f41dc035aa87d220228f844c  2709af9587499e95e803a6498a5a56e9   \n",
              "57311  270516a3f41dc035aa87d220228f844c  2709af9587499e95e803a6498a5a56e9   \n",
              "57312  270516a3f41dc035aa87d220228f844c  2709af9587499e95e803a6498a5a56e9   \n",
              "57313  270516a3f41dc035aa87d220228f844c  2709af9587499e95e803a6498a5a56e9   \n",
              "57314  270516a3f41dc035aa87d220228f844c  2709af9587499e95e803a6498a5a56e9   \n",
              "57315  270516a3f41dc035aa87d220228f844c  2709af9587499e95e803a6498a5a56e9   \n",
              "57316  270516a3f41dc035aa87d220228f844c  2709af9587499e95e803a6498a5a56e9   \n",
              "57317  79ce45dbc2ea29b22b5a261bbb7b7ee7  2709af9587499e95e803a6498a5a56e9   \n",
              "\n",
              "       shipping_limit_date  price  freight_value  \n",
              "57297  2017-07-21 18:25:23    1.2           7.89  \n",
              "57298  2017-07-21 18:25:23    1.2           7.89  \n",
              "57299  2017-07-21 18:25:23    1.2           7.89  \n",
              "57300  2017-07-21 18:25:23    1.2           7.89  \n",
              "57301  2017-07-21 18:25:23    1.2           7.89  \n",
              "57302  2017-07-21 18:25:23    1.2           7.89  \n",
              "57303  2017-07-21 18:25:23    1.2           7.89  \n",
              "57304  2017-07-21 18:25:23    1.2           7.89  \n",
              "57305  2017-07-21 18:25:23    1.2           7.89  \n",
              "57306  2017-07-21 18:25:23    1.2           7.89  \n",
              "57307  2017-07-21 18:25:23    1.2           7.89  \n",
              "57308  2017-07-21 18:25:23    1.2           7.89  \n",
              "57309  2017-07-21 18:25:23    1.2           7.89  \n",
              "57310  2017-07-21 18:25:23    1.2           7.89  \n",
              "57311  2017-07-21 18:25:23    1.2           7.89  \n",
              "57312  2017-07-21 18:25:23    1.2           7.89  \n",
              "57313  2017-07-21 18:25:23    1.2           7.89  \n",
              "57314  2017-07-21 18:25:23    1.2           7.89  \n",
              "57315  2017-07-21 18:25:23    1.2           7.89  \n",
              "57316  2017-07-21 18:25:23    1.2           7.89  \n",
              "57317  2017-07-21 18:25:23    7.8           6.57  "
            ]
          },
          "execution_count": 178,
          "metadata": {},
          "output_type": "execute_result"
        }
      ],
      "source": [
        "order_items[order_items.order_id == '8272b63d03f5f79c56e9e4120aec44ef']"
      ]
    },
    {
      "cell_type": "code",
      "execution_count": null,
      "id": "3c57e943",
      "metadata": {
        "id": "3c57e943",
        "outputId": "a2b313b7-ee74-4a1c-eae1-dcea9e70f3c5"
      },
      "outputs": [
        {
          "data": {
            "text/plain": [
              "8272b63d03f5f79c56e9e4120aec44ef    21\n",
              "1b15974a0141d54e36626dca3fdc731a    20\n",
              "ab14fdcfbe524636d65ee38360e22ce8    20\n",
              "9ef13efd6949e4573a18964dd1bbe7f5    15\n",
              "428a2f660dc84138d969ccd69a0ab6d5    15\n",
              "                                    ..\n",
              "5a0911d70c1f85d3bed0df1bf693a6dd     1\n",
              "5a082b558a3798d3e36d93bfa8ca1eae     1\n",
              "5a07264682e0b8fbb3f166edbbffc6e8     1\n",
              "5a071192a28951b76774e5a760c8c9b7     1\n",
              "fffe41c64501cc87c801fd61db3f6244     1\n",
              "Name: order_id, Length: 98666, dtype: int64"
            ]
          },
          "execution_count": 179,
          "metadata": {},
          "output_type": "execute_result"
        }
      ],
      "source": [
        "# how much product order in 1 transactions\n",
        "order_items.order_id.value_counts()"
      ]
    },
    {
      "cell_type": "code",
      "execution_count": null,
      "id": "e61b475d",
      "metadata": {
        "id": "e61b475d",
        "outputId": "241028a6-5a7b-4124-9a2e-3495594e282a"
      },
      "outputs": [
        {
          "data": {
            "text/html": [
              "<div>\n",
              "<style scoped>\n",
              "    .dataframe tbody tr th:only-of-type {\n",
              "        vertical-align: middle;\n",
              "    }\n",
              "\n",
              "    .dataframe tbody tr th {\n",
              "        vertical-align: top;\n",
              "    }\n",
              "\n",
              "    .dataframe thead th {\n",
              "        text-align: right;\n",
              "    }\n",
              "</style>\n",
              "<table border=\"1\" class=\"dataframe\">\n",
              "  <thead>\n",
              "    <tr style=\"text-align: right;\">\n",
              "      <th></th>\n",
              "      <th>customer_id</th>\n",
              "      <th>customer_unique_id</th>\n",
              "      <th>customer_zip_code_prefix</th>\n",
              "      <th>customer_city</th>\n",
              "      <th>customer_state</th>\n",
              "    </tr>\n",
              "  </thead>\n",
              "  <tbody>\n",
              "    <tr>\n",
              "      <th>96300</th>\n",
              "      <td>26f79186ad50c0aef167aaf9245ad6ce</td>\n",
              "      <td>1e2ed8baccf0b162951b922e8936bc98</td>\n",
              "      <td>23075</td>\n",
              "      <td>rio de janeiro</td>\n",
              "      <td>RJ</td>\n",
              "    </tr>\n",
              "    <tr>\n",
              "      <th>71942</th>\n",
              "      <td>8704d7f9a0909c9653edf868eb057f29</td>\n",
              "      <td>c96809461a8d0aa55f0d5eecda0b6a0f</td>\n",
              "      <td>45654</td>\n",
              "      <td>ilheus</td>\n",
              "      <td>BA</td>\n",
              "    </tr>\n",
              "    <tr>\n",
              "      <th>68988</th>\n",
              "      <td>9b3dcdba0f0d6a3d467c04ef78a347a1</td>\n",
              "      <td>a9ee2be8e606aa8c7bf7bfac9feb68eb</td>\n",
              "      <td>44085</td>\n",
              "      <td>feira de santana</td>\n",
              "      <td>BA</td>\n",
              "    </tr>\n",
              "    <tr>\n",
              "      <th>49824</th>\n",
              "      <td>e28a2cddec01873acb71884810975673</td>\n",
              "      <td>0e620ddd3ff680344ba57ec7a0c6a4e6</td>\n",
              "      <td>6815</td>\n",
              "      <td>embu das artes</td>\n",
              "      <td>SP</td>\n",
              "    </tr>\n",
              "    <tr>\n",
              "      <th>59632</th>\n",
              "      <td>411e55a7552f5194f492ee0c4d62c0f7</td>\n",
              "      <td>995facb032e4446a511762f5f842eb11</td>\n",
              "      <td>35650</td>\n",
              "      <td>pitangui</td>\n",
              "      <td>MG</td>\n",
              "    </tr>\n",
              "  </tbody>\n",
              "</table>\n",
              "</div>"
            ],
            "text/plain": [
              "                            customer_id                customer_unique_id  \\\n",
              "96300  26f79186ad50c0aef167aaf9245ad6ce  1e2ed8baccf0b162951b922e8936bc98   \n",
              "71942  8704d7f9a0909c9653edf868eb057f29  c96809461a8d0aa55f0d5eecda0b6a0f   \n",
              "68988  9b3dcdba0f0d6a3d467c04ef78a347a1  a9ee2be8e606aa8c7bf7bfac9feb68eb   \n",
              "49824  e28a2cddec01873acb71884810975673  0e620ddd3ff680344ba57ec7a0c6a4e6   \n",
              "59632  411e55a7552f5194f492ee0c4d62c0f7  995facb032e4446a511762f5f842eb11   \n",
              "\n",
              "       customer_zip_code_prefix     customer_city customer_state  \n",
              "96300                     23075    rio de janeiro             RJ  \n",
              "71942                     45654            ilheus             BA  \n",
              "68988                     44085  feira de santana             BA  \n",
              "49824                      6815    embu das artes             SP  \n",
              "59632                     35650          pitangui             MG  "
            ]
          },
          "execution_count": 180,
          "metadata": {},
          "output_type": "execute_result"
        }
      ],
      "source": [
        "customers.sample(5)"
      ]
    },
    {
      "cell_type": "code",
      "execution_count": null,
      "id": "68aae5c9",
      "metadata": {
        "id": "68aae5c9",
        "outputId": "c641c698-ba7d-41aa-fb3a-f2002d10532d"
      },
      "outputs": [
        {
          "data": {
            "text/plain": [
              "8d50f5eadf50201ccdcedfb9e2ac8455    17\n",
              "3e43e6105506432c953e165fb2acf44c     9\n",
              "1b6c7548a2a1f9037c1fd3ddfed95f33     7\n",
              "ca77025e7201e3b30c44b472ff346268     7\n",
              "6469f99c1f9dfae7733b25662e7f1782     7\n",
              "                                    ..\n",
              "081f07439678af2da7755a0aa572154d     1\n",
              "9c57789a6a587f4efcfb01e36c106014     1\n",
              "9e4c21635f640562de1a6976374fba03     1\n",
              "06c0ea6ee892364d1608ee47aa9f56a0     1\n",
              "84732c5050c01db9b23e19ba39899398     1\n",
              "Name: customer_unique_id, Length: 96096, dtype: int64"
            ]
          },
          "execution_count": 181,
          "metadata": {},
          "output_type": "execute_result"
        }
      ],
      "source": [
        "# How Much Customers buying products\n",
        "customers.customer_unique_id.value_counts()"
      ]
    },
    {
      "cell_type": "code",
      "execution_count": null,
      "id": "bdb7c7e2",
      "metadata": {
        "id": "bdb7c7e2",
        "outputId": "32845b84-976f-4253-bcd5-e6f7fed281b6"
      },
      "outputs": [
        {
          "data": {
            "text/html": [
              "<div>\n",
              "<style scoped>\n",
              "    .dataframe tbody tr th:only-of-type {\n",
              "        vertical-align: middle;\n",
              "    }\n",
              "\n",
              "    .dataframe tbody tr th {\n",
              "        vertical-align: top;\n",
              "    }\n",
              "\n",
              "    .dataframe thead th {\n",
              "        text-align: right;\n",
              "    }\n",
              "</style>\n",
              "<table border=\"1\" class=\"dataframe\">\n",
              "  <thead>\n",
              "    <tr style=\"text-align: right;\">\n",
              "      <th></th>\n",
              "      <th>id</th>\n",
              "      <th>product_category</th>\n",
              "      <th>name</th>\n",
              "      <th>created_at</th>\n",
              "      <th>updated_at</th>\n",
              "      <th>base_price</th>\n",
              "      <th>competitor_price</th>\n",
              "    </tr>\n",
              "  </thead>\n",
              "  <tbody>\n",
              "    <tr>\n",
              "      <th>10623</th>\n",
              "      <td>6a622dda60b04364ef5d8b59644b8afc</td>\n",
              "      <td>housewares</td>\n",
              "      <td>NaN</td>\n",
              "      <td>2018-07-28 16:45:10</td>\n",
              "      <td>2018-07-28 16:45:10</td>\n",
              "      <td>580168.800</td>\n",
              "      <td>NaN</td>\n",
              "    </tr>\n",
              "    <tr>\n",
              "      <th>28201</th>\n",
              "      <td>92bc0c56dce8e6bee96f8b443f886a97</td>\n",
              "      <td>furniture_decor</td>\n",
              "      <td>NaN</td>\n",
              "      <td>2018-07-20 13:27:57</td>\n",
              "      <td>2018-07-20 13:27:57</td>\n",
              "      <td>182905.848</td>\n",
              "      <td>NaN</td>\n",
              "    </tr>\n",
              "    <tr>\n",
              "      <th>24829</th>\n",
              "      <td>a8e35f118bd7f9b1d38fc786b555d210</td>\n",
              "      <td>fashion_male_clothing</td>\n",
              "      <td>NaN</td>\n",
              "      <td>2017-08-21 20:49:53</td>\n",
              "      <td>2017-08-21 20:49:53</td>\n",
              "      <td>76032.648</td>\n",
              "      <td>NaN</td>\n",
              "    </tr>\n",
              "    <tr>\n",
              "      <th>10178</th>\n",
              "      <td>db12ac2c4b6f38f091e197cece7d4a3e</td>\n",
              "      <td>furniture_decor</td>\n",
              "      <td>NaN</td>\n",
              "      <td>2017-11-12 09:46:54</td>\n",
              "      <td>2017-11-12 09:46:54</td>\n",
              "      <td>152370.648</td>\n",
              "      <td>NaN</td>\n",
              "    </tr>\n",
              "    <tr>\n",
              "      <th>16493</th>\n",
              "      <td>ba091f760e02c4b603a0a6a52c2d31d8</td>\n",
              "      <td>auto</td>\n",
              "      <td>NaN</td>\n",
              "      <td>2017-03-26 11:27:56</td>\n",
              "      <td>2017-11-17 07:20:13</td>\n",
              "      <td>393904.080</td>\n",
              "      <td>NaN</td>\n",
              "    </tr>\n",
              "  </tbody>\n",
              "</table>\n",
              "</div>"
            ],
            "text/plain": [
              "                                     id       product_category  name  \\\n",
              "10623  6a622dda60b04364ef5d8b59644b8afc             housewares   NaN   \n",
              "28201  92bc0c56dce8e6bee96f8b443f886a97        furniture_decor   NaN   \n",
              "24829  a8e35f118bd7f9b1d38fc786b555d210  fashion_male_clothing   NaN   \n",
              "10178  db12ac2c4b6f38f091e197cece7d4a3e        furniture_decor   NaN   \n",
              "16493  ba091f760e02c4b603a0a6a52c2d31d8                   auto   NaN   \n",
              "\n",
              "                created_at           updated_at  base_price  competitor_price  \n",
              "10623  2018-07-28 16:45:10  2018-07-28 16:45:10  580168.800               NaN  \n",
              "28201  2018-07-20 13:27:57  2018-07-20 13:27:57  182905.848               NaN  \n",
              "24829  2017-08-21 20:49:53  2017-08-21 20:49:53   76032.648               NaN  \n",
              "10178  2017-11-12 09:46:54  2017-11-12 09:46:54  152370.648               NaN  \n",
              "16493  2017-03-26 11:27:56  2017-11-17 07:20:13  393904.080               NaN  "
            ]
          },
          "execution_count": 182,
          "metadata": {},
          "output_type": "execute_result"
        }
      ],
      "source": [
        "products.sample(5)"
      ]
    },
    {
      "cell_type": "code",
      "execution_count": null,
      "id": "e75a60d7",
      "metadata": {
        "id": "e75a60d7",
        "outputId": "cf3d0968-1c08-466e-eda6-9be74d8d78b8"
      },
      "outputs": [
        {
          "data": {
            "text/html": [
              "<div>\n",
              "<style scoped>\n",
              "    .dataframe tbody tr th:only-of-type {\n",
              "        vertical-align: middle;\n",
              "    }\n",
              "\n",
              "    .dataframe tbody tr th {\n",
              "        vertical-align: top;\n",
              "    }\n",
              "\n",
              "    .dataframe thead th {\n",
              "        text-align: right;\n",
              "    }\n",
              "</style>\n",
              "<table border=\"1\" class=\"dataframe\">\n",
              "  <thead>\n",
              "    <tr style=\"text-align: right;\">\n",
              "      <th></th>\n",
              "      <th>order_id</th>\n",
              "      <th>customer_unique_id</th>\n",
              "      <th>order_purchase_timestamp</th>\n",
              "      <th>order_status</th>\n",
              "    </tr>\n",
              "  </thead>\n",
              "  <tbody>\n",
              "    <tr>\n",
              "      <th>24571</th>\n",
              "      <td>c496bc3178d477c1390f52393d78d723</td>\n",
              "      <td>4d5fcc334b694fbd64186ef503d65f4d</td>\n",
              "      <td>2018-05-16 08:11:59</td>\n",
              "      <td>delivered</td>\n",
              "    </tr>\n",
              "    <tr>\n",
              "      <th>77588</th>\n",
              "      <td>56a4e1d3a1dabc4fa83466169b0a18d8</td>\n",
              "      <td>81e82130bc9944904ae78762e646d71e</td>\n",
              "      <td>2017-11-10 16:04:04</td>\n",
              "      <td>delivered</td>\n",
              "    </tr>\n",
              "    <tr>\n",
              "      <th>2221</th>\n",
              "      <td>f7c13c71907b58b590da46643fda3bbc</td>\n",
              "      <td>e89bf89e2621b5aeb4c181e69a8c6952</td>\n",
              "      <td>2017-07-03 13:20:54</td>\n",
              "      <td>delivered</td>\n",
              "    </tr>\n",
              "    <tr>\n",
              "      <th>56710</th>\n",
              "      <td>a5da284831a584245b8ab3cbce6eea11</td>\n",
              "      <td>8864da1baee87cf25d7947d16634aee6</td>\n",
              "      <td>2017-03-06 09:46:46</td>\n",
              "      <td>delivered</td>\n",
              "    </tr>\n",
              "    <tr>\n",
              "      <th>20179</th>\n",
              "      <td>47af3c45ff89024653aa5c3cd617077e</td>\n",
              "      <td>cd532bb7548e2076263ac8e87e8fee4d</td>\n",
              "      <td>2018-08-24 17:17:46</td>\n",
              "      <td>delivered</td>\n",
              "    </tr>\n",
              "  </tbody>\n",
              "</table>\n",
              "</div>"
            ],
            "text/plain": [
              "                               order_id                customer_unique_id  \\\n",
              "24571  c496bc3178d477c1390f52393d78d723  4d5fcc334b694fbd64186ef503d65f4d   \n",
              "77588  56a4e1d3a1dabc4fa83466169b0a18d8  81e82130bc9944904ae78762e646d71e   \n",
              "2221   f7c13c71907b58b590da46643fda3bbc  e89bf89e2621b5aeb4c181e69a8c6952   \n",
              "56710  a5da284831a584245b8ab3cbce6eea11  8864da1baee87cf25d7947d16634aee6   \n",
              "20179  47af3c45ff89024653aa5c3cd617077e  cd532bb7548e2076263ac8e87e8fee4d   \n",
              "\n",
              "      order_purchase_timestamp order_status  \n",
              "24571      2018-05-16 08:11:59    delivered  \n",
              "77588      2017-11-10 16:04:04    delivered  \n",
              "2221       2017-07-03 13:20:54    delivered  \n",
              "56710      2017-03-06 09:46:46    delivered  \n",
              "20179      2018-08-24 17:17:46    delivered  "
            ]
          },
          "execution_count": 183,
          "metadata": {},
          "output_type": "execute_result"
        }
      ],
      "source": [
        "order_data = order_data.merge(customers, on='customer_id')[['order_id','customer_unique_id','order_purchase_timestamp','order_status']]\n",
        "order_data.sample(5)"
      ]
    },
    {
      "cell_type": "code",
      "execution_count": null,
      "id": "ff836c2d",
      "metadata": {
        "id": "ff836c2d"
      },
      "outputs": [],
      "source": [
        "order_data = order_data.merge(order_items, on='order_id')"
      ]
    },
    {
      "cell_type": "code",
      "execution_count": null,
      "id": "40982dfa",
      "metadata": {
        "id": "40982dfa",
        "outputId": "102b96e0-db2c-4e57-99e8-0f2ff5675314"
      },
      "outputs": [
        {
          "data": {
            "text/html": [
              "<div>\n",
              "<style scoped>\n",
              "    .dataframe tbody tr th:only-of-type {\n",
              "        vertical-align: middle;\n",
              "    }\n",
              "\n",
              "    .dataframe tbody tr th {\n",
              "        vertical-align: top;\n",
              "    }\n",
              "\n",
              "    .dataframe thead th {\n",
              "        text-align: right;\n",
              "    }\n",
              "</style>\n",
              "<table border=\"1\" class=\"dataframe\">\n",
              "  <thead>\n",
              "    <tr style=\"text-align: right;\">\n",
              "      <th></th>\n",
              "      <th>order_id</th>\n",
              "      <th>customer_unique_id</th>\n",
              "      <th>order_purchase_timestamp</th>\n",
              "      <th>order_status</th>\n",
              "      <th>order_item_id</th>\n",
              "      <th>product_id</th>\n",
              "      <th>seller_id</th>\n",
              "      <th>shipping_limit_date</th>\n",
              "      <th>price</th>\n",
              "      <th>freight_value</th>\n",
              "    </tr>\n",
              "  </thead>\n",
              "  <tbody>\n",
              "    <tr>\n",
              "      <th>100528</th>\n",
              "      <td>8272b63d03f5f79c56e9e4120aec44ef</td>\n",
              "      <td>4546caea018ad8c692964e3382debd19</td>\n",
              "      <td>2017-07-16 18:19:25</td>\n",
              "      <td>delivered</td>\n",
              "      <td>1</td>\n",
              "      <td>270516a3f41dc035aa87d220228f844c</td>\n",
              "      <td>2709af9587499e95e803a6498a5a56e9</td>\n",
              "      <td>2017-07-21 18:25:23</td>\n",
              "      <td>1.2</td>\n",
              "      <td>7.89</td>\n",
              "    </tr>\n",
              "    <tr>\n",
              "      <th>100529</th>\n",
              "      <td>8272b63d03f5f79c56e9e4120aec44ef</td>\n",
              "      <td>4546caea018ad8c692964e3382debd19</td>\n",
              "      <td>2017-07-16 18:19:25</td>\n",
              "      <td>delivered</td>\n",
              "      <td>2</td>\n",
              "      <td>05b515fdc76e888aada3c6d66c201dff</td>\n",
              "      <td>2709af9587499e95e803a6498a5a56e9</td>\n",
              "      <td>2017-07-21 18:25:23</td>\n",
              "      <td>1.2</td>\n",
              "      <td>7.89</td>\n",
              "    </tr>\n",
              "    <tr>\n",
              "      <th>100530</th>\n",
              "      <td>8272b63d03f5f79c56e9e4120aec44ef</td>\n",
              "      <td>4546caea018ad8c692964e3382debd19</td>\n",
              "      <td>2017-07-16 18:19:25</td>\n",
              "      <td>delivered</td>\n",
              "      <td>3</td>\n",
              "      <td>05b515fdc76e888aada3c6d66c201dff</td>\n",
              "      <td>2709af9587499e95e803a6498a5a56e9</td>\n",
              "      <td>2017-07-21 18:25:23</td>\n",
              "      <td>1.2</td>\n",
              "      <td>7.89</td>\n",
              "    </tr>\n",
              "    <tr>\n",
              "      <th>100531</th>\n",
              "      <td>8272b63d03f5f79c56e9e4120aec44ef</td>\n",
              "      <td>4546caea018ad8c692964e3382debd19</td>\n",
              "      <td>2017-07-16 18:19:25</td>\n",
              "      <td>delivered</td>\n",
              "      <td>4</td>\n",
              "      <td>05b515fdc76e888aada3c6d66c201dff</td>\n",
              "      <td>2709af9587499e95e803a6498a5a56e9</td>\n",
              "      <td>2017-07-21 18:25:23</td>\n",
              "      <td>1.2</td>\n",
              "      <td>7.89</td>\n",
              "    </tr>\n",
              "    <tr>\n",
              "      <th>100532</th>\n",
              "      <td>8272b63d03f5f79c56e9e4120aec44ef</td>\n",
              "      <td>4546caea018ad8c692964e3382debd19</td>\n",
              "      <td>2017-07-16 18:19:25</td>\n",
              "      <td>delivered</td>\n",
              "      <td>5</td>\n",
              "      <td>05b515fdc76e888aada3c6d66c201dff</td>\n",
              "      <td>2709af9587499e95e803a6498a5a56e9</td>\n",
              "      <td>2017-07-21 18:25:23</td>\n",
              "      <td>1.2</td>\n",
              "      <td>7.89</td>\n",
              "    </tr>\n",
              "    <tr>\n",
              "      <th>100533</th>\n",
              "      <td>8272b63d03f5f79c56e9e4120aec44ef</td>\n",
              "      <td>4546caea018ad8c692964e3382debd19</td>\n",
              "      <td>2017-07-16 18:19:25</td>\n",
              "      <td>delivered</td>\n",
              "      <td>6</td>\n",
              "      <td>05b515fdc76e888aada3c6d66c201dff</td>\n",
              "      <td>2709af9587499e95e803a6498a5a56e9</td>\n",
              "      <td>2017-07-21 18:25:23</td>\n",
              "      <td>1.2</td>\n",
              "      <td>7.89</td>\n",
              "    </tr>\n",
              "    <tr>\n",
              "      <th>100534</th>\n",
              "      <td>8272b63d03f5f79c56e9e4120aec44ef</td>\n",
              "      <td>4546caea018ad8c692964e3382debd19</td>\n",
              "      <td>2017-07-16 18:19:25</td>\n",
              "      <td>delivered</td>\n",
              "      <td>7</td>\n",
              "      <td>05b515fdc76e888aada3c6d66c201dff</td>\n",
              "      <td>2709af9587499e95e803a6498a5a56e9</td>\n",
              "      <td>2017-07-21 18:25:23</td>\n",
              "      <td>1.2</td>\n",
              "      <td>7.89</td>\n",
              "    </tr>\n",
              "    <tr>\n",
              "      <th>100535</th>\n",
              "      <td>8272b63d03f5f79c56e9e4120aec44ef</td>\n",
              "      <td>4546caea018ad8c692964e3382debd19</td>\n",
              "      <td>2017-07-16 18:19:25</td>\n",
              "      <td>delivered</td>\n",
              "      <td>8</td>\n",
              "      <td>05b515fdc76e888aada3c6d66c201dff</td>\n",
              "      <td>2709af9587499e95e803a6498a5a56e9</td>\n",
              "      <td>2017-07-21 18:25:23</td>\n",
              "      <td>1.2</td>\n",
              "      <td>7.89</td>\n",
              "    </tr>\n",
              "    <tr>\n",
              "      <th>100536</th>\n",
              "      <td>8272b63d03f5f79c56e9e4120aec44ef</td>\n",
              "      <td>4546caea018ad8c692964e3382debd19</td>\n",
              "      <td>2017-07-16 18:19:25</td>\n",
              "      <td>delivered</td>\n",
              "      <td>9</td>\n",
              "      <td>05b515fdc76e888aada3c6d66c201dff</td>\n",
              "      <td>2709af9587499e95e803a6498a5a56e9</td>\n",
              "      <td>2017-07-21 18:25:23</td>\n",
              "      <td>1.2</td>\n",
              "      <td>7.89</td>\n",
              "    </tr>\n",
              "    <tr>\n",
              "      <th>100537</th>\n",
              "      <td>8272b63d03f5f79c56e9e4120aec44ef</td>\n",
              "      <td>4546caea018ad8c692964e3382debd19</td>\n",
              "      <td>2017-07-16 18:19:25</td>\n",
              "      <td>delivered</td>\n",
              "      <td>10</td>\n",
              "      <td>05b515fdc76e888aada3c6d66c201dff</td>\n",
              "      <td>2709af9587499e95e803a6498a5a56e9</td>\n",
              "      <td>2017-07-21 18:25:23</td>\n",
              "      <td>1.2</td>\n",
              "      <td>7.89</td>\n",
              "    </tr>\n",
              "    <tr>\n",
              "      <th>100538</th>\n",
              "      <td>8272b63d03f5f79c56e9e4120aec44ef</td>\n",
              "      <td>4546caea018ad8c692964e3382debd19</td>\n",
              "      <td>2017-07-16 18:19:25</td>\n",
              "      <td>delivered</td>\n",
              "      <td>11</td>\n",
              "      <td>05b515fdc76e888aada3c6d66c201dff</td>\n",
              "      <td>2709af9587499e95e803a6498a5a56e9</td>\n",
              "      <td>2017-07-21 18:25:23</td>\n",
              "      <td>1.2</td>\n",
              "      <td>7.89</td>\n",
              "    </tr>\n",
              "    <tr>\n",
              "      <th>100539</th>\n",
              "      <td>8272b63d03f5f79c56e9e4120aec44ef</td>\n",
              "      <td>4546caea018ad8c692964e3382debd19</td>\n",
              "      <td>2017-07-16 18:19:25</td>\n",
              "      <td>delivered</td>\n",
              "      <td>12</td>\n",
              "      <td>270516a3f41dc035aa87d220228f844c</td>\n",
              "      <td>2709af9587499e95e803a6498a5a56e9</td>\n",
              "      <td>2017-07-21 18:25:23</td>\n",
              "      <td>1.2</td>\n",
              "      <td>7.89</td>\n",
              "    </tr>\n",
              "    <tr>\n",
              "      <th>100540</th>\n",
              "      <td>8272b63d03f5f79c56e9e4120aec44ef</td>\n",
              "      <td>4546caea018ad8c692964e3382debd19</td>\n",
              "      <td>2017-07-16 18:19:25</td>\n",
              "      <td>delivered</td>\n",
              "      <td>13</td>\n",
              "      <td>270516a3f41dc035aa87d220228f844c</td>\n",
              "      <td>2709af9587499e95e803a6498a5a56e9</td>\n",
              "      <td>2017-07-21 18:25:23</td>\n",
              "      <td>1.2</td>\n",
              "      <td>7.89</td>\n",
              "    </tr>\n",
              "    <tr>\n",
              "      <th>100541</th>\n",
              "      <td>8272b63d03f5f79c56e9e4120aec44ef</td>\n",
              "      <td>4546caea018ad8c692964e3382debd19</td>\n",
              "      <td>2017-07-16 18:19:25</td>\n",
              "      <td>delivered</td>\n",
              "      <td>14</td>\n",
              "      <td>270516a3f41dc035aa87d220228f844c</td>\n",
              "      <td>2709af9587499e95e803a6498a5a56e9</td>\n",
              "      <td>2017-07-21 18:25:23</td>\n",
              "      <td>1.2</td>\n",
              "      <td>7.89</td>\n",
              "    </tr>\n",
              "    <tr>\n",
              "      <th>100542</th>\n",
              "      <td>8272b63d03f5f79c56e9e4120aec44ef</td>\n",
              "      <td>4546caea018ad8c692964e3382debd19</td>\n",
              "      <td>2017-07-16 18:19:25</td>\n",
              "      <td>delivered</td>\n",
              "      <td>15</td>\n",
              "      <td>270516a3f41dc035aa87d220228f844c</td>\n",
              "      <td>2709af9587499e95e803a6498a5a56e9</td>\n",
              "      <td>2017-07-21 18:25:23</td>\n",
              "      <td>1.2</td>\n",
              "      <td>7.89</td>\n",
              "    </tr>\n",
              "    <tr>\n",
              "      <th>100543</th>\n",
              "      <td>8272b63d03f5f79c56e9e4120aec44ef</td>\n",
              "      <td>4546caea018ad8c692964e3382debd19</td>\n",
              "      <td>2017-07-16 18:19:25</td>\n",
              "      <td>delivered</td>\n",
              "      <td>16</td>\n",
              "      <td>270516a3f41dc035aa87d220228f844c</td>\n",
              "      <td>2709af9587499e95e803a6498a5a56e9</td>\n",
              "      <td>2017-07-21 18:25:23</td>\n",
              "      <td>1.2</td>\n",
              "      <td>7.89</td>\n",
              "    </tr>\n",
              "    <tr>\n",
              "      <th>100544</th>\n",
              "      <td>8272b63d03f5f79c56e9e4120aec44ef</td>\n",
              "      <td>4546caea018ad8c692964e3382debd19</td>\n",
              "      <td>2017-07-16 18:19:25</td>\n",
              "      <td>delivered</td>\n",
              "      <td>17</td>\n",
              "      <td>270516a3f41dc035aa87d220228f844c</td>\n",
              "      <td>2709af9587499e95e803a6498a5a56e9</td>\n",
              "      <td>2017-07-21 18:25:23</td>\n",
              "      <td>1.2</td>\n",
              "      <td>7.89</td>\n",
              "    </tr>\n",
              "    <tr>\n",
              "      <th>100545</th>\n",
              "      <td>8272b63d03f5f79c56e9e4120aec44ef</td>\n",
              "      <td>4546caea018ad8c692964e3382debd19</td>\n",
              "      <td>2017-07-16 18:19:25</td>\n",
              "      <td>delivered</td>\n",
              "      <td>18</td>\n",
              "      <td>270516a3f41dc035aa87d220228f844c</td>\n",
              "      <td>2709af9587499e95e803a6498a5a56e9</td>\n",
              "      <td>2017-07-21 18:25:23</td>\n",
              "      <td>1.2</td>\n",
              "      <td>7.89</td>\n",
              "    </tr>\n",
              "    <tr>\n",
              "      <th>100546</th>\n",
              "      <td>8272b63d03f5f79c56e9e4120aec44ef</td>\n",
              "      <td>4546caea018ad8c692964e3382debd19</td>\n",
              "      <td>2017-07-16 18:19:25</td>\n",
              "      <td>delivered</td>\n",
              "      <td>19</td>\n",
              "      <td>270516a3f41dc035aa87d220228f844c</td>\n",
              "      <td>2709af9587499e95e803a6498a5a56e9</td>\n",
              "      <td>2017-07-21 18:25:23</td>\n",
              "      <td>1.2</td>\n",
              "      <td>7.89</td>\n",
              "    </tr>\n",
              "    <tr>\n",
              "      <th>100547</th>\n",
              "      <td>8272b63d03f5f79c56e9e4120aec44ef</td>\n",
              "      <td>4546caea018ad8c692964e3382debd19</td>\n",
              "      <td>2017-07-16 18:19:25</td>\n",
              "      <td>delivered</td>\n",
              "      <td>20</td>\n",
              "      <td>270516a3f41dc035aa87d220228f844c</td>\n",
              "      <td>2709af9587499e95e803a6498a5a56e9</td>\n",
              "      <td>2017-07-21 18:25:23</td>\n",
              "      <td>1.2</td>\n",
              "      <td>7.89</td>\n",
              "    </tr>\n",
              "    <tr>\n",
              "      <th>100548</th>\n",
              "      <td>8272b63d03f5f79c56e9e4120aec44ef</td>\n",
              "      <td>4546caea018ad8c692964e3382debd19</td>\n",
              "      <td>2017-07-16 18:19:25</td>\n",
              "      <td>delivered</td>\n",
              "      <td>21</td>\n",
              "      <td>79ce45dbc2ea29b22b5a261bbb7b7ee7</td>\n",
              "      <td>2709af9587499e95e803a6498a5a56e9</td>\n",
              "      <td>2017-07-21 18:25:23</td>\n",
              "      <td>7.8</td>\n",
              "      <td>6.57</td>\n",
              "    </tr>\n",
              "  </tbody>\n",
              "</table>\n",
              "</div>"
            ],
            "text/plain": [
              "                                order_id                customer_unique_id  \\\n",
              "100528  8272b63d03f5f79c56e9e4120aec44ef  4546caea018ad8c692964e3382debd19   \n",
              "100529  8272b63d03f5f79c56e9e4120aec44ef  4546caea018ad8c692964e3382debd19   \n",
              "100530  8272b63d03f5f79c56e9e4120aec44ef  4546caea018ad8c692964e3382debd19   \n",
              "100531  8272b63d03f5f79c56e9e4120aec44ef  4546caea018ad8c692964e3382debd19   \n",
              "100532  8272b63d03f5f79c56e9e4120aec44ef  4546caea018ad8c692964e3382debd19   \n",
              "100533  8272b63d03f5f79c56e9e4120aec44ef  4546caea018ad8c692964e3382debd19   \n",
              "100534  8272b63d03f5f79c56e9e4120aec44ef  4546caea018ad8c692964e3382debd19   \n",
              "100535  8272b63d03f5f79c56e9e4120aec44ef  4546caea018ad8c692964e3382debd19   \n",
              "100536  8272b63d03f5f79c56e9e4120aec44ef  4546caea018ad8c692964e3382debd19   \n",
              "100537  8272b63d03f5f79c56e9e4120aec44ef  4546caea018ad8c692964e3382debd19   \n",
              "100538  8272b63d03f5f79c56e9e4120aec44ef  4546caea018ad8c692964e3382debd19   \n",
              "100539  8272b63d03f5f79c56e9e4120aec44ef  4546caea018ad8c692964e3382debd19   \n",
              "100540  8272b63d03f5f79c56e9e4120aec44ef  4546caea018ad8c692964e3382debd19   \n",
              "100541  8272b63d03f5f79c56e9e4120aec44ef  4546caea018ad8c692964e3382debd19   \n",
              "100542  8272b63d03f5f79c56e9e4120aec44ef  4546caea018ad8c692964e3382debd19   \n",
              "100543  8272b63d03f5f79c56e9e4120aec44ef  4546caea018ad8c692964e3382debd19   \n",
              "100544  8272b63d03f5f79c56e9e4120aec44ef  4546caea018ad8c692964e3382debd19   \n",
              "100545  8272b63d03f5f79c56e9e4120aec44ef  4546caea018ad8c692964e3382debd19   \n",
              "100546  8272b63d03f5f79c56e9e4120aec44ef  4546caea018ad8c692964e3382debd19   \n",
              "100547  8272b63d03f5f79c56e9e4120aec44ef  4546caea018ad8c692964e3382debd19   \n",
              "100548  8272b63d03f5f79c56e9e4120aec44ef  4546caea018ad8c692964e3382debd19   \n",
              "\n",
              "       order_purchase_timestamp order_status  order_item_id  \\\n",
              "100528      2017-07-16 18:19:25    delivered              1   \n",
              "100529      2017-07-16 18:19:25    delivered              2   \n",
              "100530      2017-07-16 18:19:25    delivered              3   \n",
              "100531      2017-07-16 18:19:25    delivered              4   \n",
              "100532      2017-07-16 18:19:25    delivered              5   \n",
              "100533      2017-07-16 18:19:25    delivered              6   \n",
              "100534      2017-07-16 18:19:25    delivered              7   \n",
              "100535      2017-07-16 18:19:25    delivered              8   \n",
              "100536      2017-07-16 18:19:25    delivered              9   \n",
              "100537      2017-07-16 18:19:25    delivered             10   \n",
              "100538      2017-07-16 18:19:25    delivered             11   \n",
              "100539      2017-07-16 18:19:25    delivered             12   \n",
              "100540      2017-07-16 18:19:25    delivered             13   \n",
              "100541      2017-07-16 18:19:25    delivered             14   \n",
              "100542      2017-07-16 18:19:25    delivered             15   \n",
              "100543      2017-07-16 18:19:25    delivered             16   \n",
              "100544      2017-07-16 18:19:25    delivered             17   \n",
              "100545      2017-07-16 18:19:25    delivered             18   \n",
              "100546      2017-07-16 18:19:25    delivered             19   \n",
              "100547      2017-07-16 18:19:25    delivered             20   \n",
              "100548      2017-07-16 18:19:25    delivered             21   \n",
              "\n",
              "                              product_id                         seller_id  \\\n",
              "100528  270516a3f41dc035aa87d220228f844c  2709af9587499e95e803a6498a5a56e9   \n",
              "100529  05b515fdc76e888aada3c6d66c201dff  2709af9587499e95e803a6498a5a56e9   \n",
              "100530  05b515fdc76e888aada3c6d66c201dff  2709af9587499e95e803a6498a5a56e9   \n",
              "100531  05b515fdc76e888aada3c6d66c201dff  2709af9587499e95e803a6498a5a56e9   \n",
              "100532  05b515fdc76e888aada3c6d66c201dff  2709af9587499e95e803a6498a5a56e9   \n",
              "100533  05b515fdc76e888aada3c6d66c201dff  2709af9587499e95e803a6498a5a56e9   \n",
              "100534  05b515fdc76e888aada3c6d66c201dff  2709af9587499e95e803a6498a5a56e9   \n",
              "100535  05b515fdc76e888aada3c6d66c201dff  2709af9587499e95e803a6498a5a56e9   \n",
              "100536  05b515fdc76e888aada3c6d66c201dff  2709af9587499e95e803a6498a5a56e9   \n",
              "100537  05b515fdc76e888aada3c6d66c201dff  2709af9587499e95e803a6498a5a56e9   \n",
              "100538  05b515fdc76e888aada3c6d66c201dff  2709af9587499e95e803a6498a5a56e9   \n",
              "100539  270516a3f41dc035aa87d220228f844c  2709af9587499e95e803a6498a5a56e9   \n",
              "100540  270516a3f41dc035aa87d220228f844c  2709af9587499e95e803a6498a5a56e9   \n",
              "100541  270516a3f41dc035aa87d220228f844c  2709af9587499e95e803a6498a5a56e9   \n",
              "100542  270516a3f41dc035aa87d220228f844c  2709af9587499e95e803a6498a5a56e9   \n",
              "100543  270516a3f41dc035aa87d220228f844c  2709af9587499e95e803a6498a5a56e9   \n",
              "100544  270516a3f41dc035aa87d220228f844c  2709af9587499e95e803a6498a5a56e9   \n",
              "100545  270516a3f41dc035aa87d220228f844c  2709af9587499e95e803a6498a5a56e9   \n",
              "100546  270516a3f41dc035aa87d220228f844c  2709af9587499e95e803a6498a5a56e9   \n",
              "100547  270516a3f41dc035aa87d220228f844c  2709af9587499e95e803a6498a5a56e9   \n",
              "100548  79ce45dbc2ea29b22b5a261bbb7b7ee7  2709af9587499e95e803a6498a5a56e9   \n",
              "\n",
              "        shipping_limit_date  price  freight_value  \n",
              "100528  2017-07-21 18:25:23    1.2           7.89  \n",
              "100529  2017-07-21 18:25:23    1.2           7.89  \n",
              "100530  2017-07-21 18:25:23    1.2           7.89  \n",
              "100531  2017-07-21 18:25:23    1.2           7.89  \n",
              "100532  2017-07-21 18:25:23    1.2           7.89  \n",
              "100533  2017-07-21 18:25:23    1.2           7.89  \n",
              "100534  2017-07-21 18:25:23    1.2           7.89  \n",
              "100535  2017-07-21 18:25:23    1.2           7.89  \n",
              "100536  2017-07-21 18:25:23    1.2           7.89  \n",
              "100537  2017-07-21 18:25:23    1.2           7.89  \n",
              "100538  2017-07-21 18:25:23    1.2           7.89  \n",
              "100539  2017-07-21 18:25:23    1.2           7.89  \n",
              "100540  2017-07-21 18:25:23    1.2           7.89  \n",
              "100541  2017-07-21 18:25:23    1.2           7.89  \n",
              "100542  2017-07-21 18:25:23    1.2           7.89  \n",
              "100543  2017-07-21 18:25:23    1.2           7.89  \n",
              "100544  2017-07-21 18:25:23    1.2           7.89  \n",
              "100545  2017-07-21 18:25:23    1.2           7.89  \n",
              "100546  2017-07-21 18:25:23    1.2           7.89  \n",
              "100547  2017-07-21 18:25:23    1.2           7.89  \n",
              "100548  2017-07-21 18:25:23    7.8           6.57  "
            ]
          },
          "execution_count": 185,
          "metadata": {},
          "output_type": "execute_result"
        }
      ],
      "source": [
        "# What is customer 8272b63d03f5f79c56e9e4120aec44ef buy?\n",
        "customers_1 = order_data[order_data.order_id == '8272b63d03f5f79c56e9e4120aec44ef']\n",
        "customers_1"
      ]
    },
    {
      "cell_type": "code",
      "execution_count": null,
      "id": "6e76dec2",
      "metadata": {
        "id": "6e76dec2"
      },
      "outputs": [],
      "source": [
        "qty = customers_1.product_id.value_counts().values"
      ]
    },
    {
      "cell_type": "code",
      "execution_count": null,
      "id": "bb372988",
      "metadata": {
        "id": "bb372988"
      },
      "outputs": [],
      "source": [
        "product_customer = customers_1.product_id.unique()"
      ]
    },
    {
      "cell_type": "code",
      "execution_count": null,
      "id": "e62c09f0",
      "metadata": {
        "id": "e62c09f0",
        "outputId": "a05b2f61-b949-47bb-ff6d-adae8059d2ee"
      },
      "outputs": [
        {
          "data": {
            "text/plain": [
              "270516a3f41dc035aa87d220228f844c    10\n",
              "05b515fdc76e888aada3c6d66c201dff    10\n",
              "79ce45dbc2ea29b22b5a261bbb7b7ee7     1\n",
              "Name: product_id, dtype: int64"
            ]
          },
          "execution_count": 188,
          "metadata": {},
          "output_type": "execute_result"
        }
      ],
      "source": [
        "customers_1.product_id.value_counts()"
      ]
    },
    {
      "cell_type": "code",
      "execution_count": null,
      "id": "660afdbc",
      "metadata": {
        "id": "660afdbc"
      },
      "outputs": [],
      "source": [
        "transaction_customer_1 = pd.DataFrame(product_customer,qty).reset_index()"
      ]
    },
    {
      "cell_type": "code",
      "execution_count": null,
      "id": "aad947bf",
      "metadata": {
        "id": "aad947bf"
      },
      "outputs": [],
      "source": [
        "transaction_customer_1['customer_unique_id'] = '8272b63d03f5f79c56e9e4120aec44ef'"
      ]
    },
    {
      "cell_type": "code",
      "execution_count": null,
      "id": "80beb00e",
      "metadata": {
        "id": "80beb00e",
        "outputId": "8f152dc7-b387-49dd-ffb2-d991260143da"
      },
      "outputs": [
        {
          "data": {
            "text/html": [
              "<div>\n",
              "<style scoped>\n",
              "    .dataframe tbody tr th:only-of-type {\n",
              "        vertical-align: middle;\n",
              "    }\n",
              "\n",
              "    .dataframe tbody tr th {\n",
              "        vertical-align: top;\n",
              "    }\n",
              "\n",
              "    .dataframe thead th {\n",
              "        text-align: right;\n",
              "    }\n",
              "</style>\n",
              "<table border=\"1\" class=\"dataframe\">\n",
              "  <thead>\n",
              "    <tr style=\"text-align: right;\">\n",
              "      <th></th>\n",
              "      <th>count</th>\n",
              "      <th>product_id</th>\n",
              "      <th>customer_unique_id</th>\n",
              "    </tr>\n",
              "  </thead>\n",
              "  <tbody>\n",
              "    <tr>\n",
              "      <th>0</th>\n",
              "      <td>10</td>\n",
              "      <td>270516a3f41dc035aa87d220228f844c</td>\n",
              "      <td>8272b63d03f5f79c56e9e4120aec44ef</td>\n",
              "    </tr>\n",
              "    <tr>\n",
              "      <th>1</th>\n",
              "      <td>10</td>\n",
              "      <td>05b515fdc76e888aada3c6d66c201dff</td>\n",
              "      <td>8272b63d03f5f79c56e9e4120aec44ef</td>\n",
              "    </tr>\n",
              "    <tr>\n",
              "      <th>2</th>\n",
              "      <td>1</td>\n",
              "      <td>79ce45dbc2ea29b22b5a261bbb7b7ee7</td>\n",
              "      <td>8272b63d03f5f79c56e9e4120aec44ef</td>\n",
              "    </tr>\n",
              "  </tbody>\n",
              "</table>\n",
              "</div>"
            ],
            "text/plain": [
              "   count                        product_id                customer_unique_id\n",
              "0     10  270516a3f41dc035aa87d220228f844c  8272b63d03f5f79c56e9e4120aec44ef\n",
              "1     10  05b515fdc76e888aada3c6d66c201dff  8272b63d03f5f79c56e9e4120aec44ef\n",
              "2      1  79ce45dbc2ea29b22b5a261bbb7b7ee7  8272b63d03f5f79c56e9e4120aec44ef"
            ]
          },
          "execution_count": 191,
          "metadata": {},
          "output_type": "execute_result"
        }
      ],
      "source": [
        "transaction_customer_1.rename({'index':'count',0:'product_id'}, axis=1)"
      ]
    },
    {
      "cell_type": "code",
      "execution_count": null,
      "id": "4da86c12",
      "metadata": {
        "id": "4da86c12",
        "outputId": "d39a6754-e8a6-4876-b96f-106368c3d47f"
      },
      "outputs": [
        {
          "data": {
            "text/html": [
              "<div>\n",
              "<style scoped>\n",
              "    .dataframe tbody tr th:only-of-type {\n",
              "        vertical-align: middle;\n",
              "    }\n",
              "\n",
              "    .dataframe tbody tr th {\n",
              "        vertical-align: top;\n",
              "    }\n",
              "\n",
              "    .dataframe thead th {\n",
              "        text-align: right;\n",
              "    }\n",
              "</style>\n",
              "<table border=\"1\" class=\"dataframe\">\n",
              "  <thead>\n",
              "    <tr style=\"text-align: right;\">\n",
              "      <th></th>\n",
              "      <th>product_id</th>\n",
              "      <th>count</th>\n",
              "    </tr>\n",
              "  </thead>\n",
              "  <tbody>\n",
              "    <tr>\n",
              "      <th>0</th>\n",
              "      <td>aca2eb7d00ea1a7b8ebd4e68314663af</td>\n",
              "      <td>527</td>\n",
              "    </tr>\n",
              "    <tr>\n",
              "      <th>1</th>\n",
              "      <td>99a4788cb24856965c36a24e339b6058</td>\n",
              "      <td>488</td>\n",
              "    </tr>\n",
              "    <tr>\n",
              "      <th>2</th>\n",
              "      <td>422879e10f46682990de24d770e7f83d</td>\n",
              "      <td>484</td>\n",
              "    </tr>\n",
              "    <tr>\n",
              "      <th>3</th>\n",
              "      <td>389d119b48cf3043d311335e499d9c6b</td>\n",
              "      <td>392</td>\n",
              "    </tr>\n",
              "    <tr>\n",
              "      <th>4</th>\n",
              "      <td>368c6c730842d78016ad823897a372db</td>\n",
              "      <td>388</td>\n",
              "    </tr>\n",
              "    <tr>\n",
              "      <th>...</th>\n",
              "      <td>...</td>\n",
              "      <td>...</td>\n",
              "    </tr>\n",
              "    <tr>\n",
              "      <th>32946</th>\n",
              "      <td>dbc42f8ad8afd0147a5a46be630781f8</td>\n",
              "      <td>1</td>\n",
              "    </tr>\n",
              "    <tr>\n",
              "      <th>32947</th>\n",
              "      <td>5d86ed92606c80a89e547cdba3946812</td>\n",
              "      <td>1</td>\n",
              "    </tr>\n",
              "    <tr>\n",
              "      <th>32948</th>\n",
              "      <td>0b8750fa58fefe42cf03a9e2e4b8fce6</td>\n",
              "      <td>1</td>\n",
              "    </tr>\n",
              "    <tr>\n",
              "      <th>32949</th>\n",
              "      <td>a4758e74e2cdb74d0c4db83594ca14a3</td>\n",
              "      <td>1</td>\n",
              "    </tr>\n",
              "    <tr>\n",
              "      <th>32950</th>\n",
              "      <td>350688d9dc1e75ff97be326363655e01</td>\n",
              "      <td>1</td>\n",
              "    </tr>\n",
              "  </tbody>\n",
              "</table>\n",
              "<p>32951 rows × 2 columns</p>\n",
              "</div>"
            ],
            "text/plain": [
              "                             product_id  count\n",
              "0      aca2eb7d00ea1a7b8ebd4e68314663af    527\n",
              "1      99a4788cb24856965c36a24e339b6058    488\n",
              "2      422879e10f46682990de24d770e7f83d    484\n",
              "3      389d119b48cf3043d311335e499d9c6b    392\n",
              "4      368c6c730842d78016ad823897a372db    388\n",
              "...                                 ...    ...\n",
              "32946  dbc42f8ad8afd0147a5a46be630781f8      1\n",
              "32947  5d86ed92606c80a89e547cdba3946812      1\n",
              "32948  0b8750fa58fefe42cf03a9e2e4b8fce6      1\n",
              "32949  a4758e74e2cdb74d0c4db83594ca14a3      1\n",
              "32950  350688d9dc1e75ff97be326363655e01      1\n",
              "\n",
              "[32951 rows x 2 columns]"
            ]
          },
          "execution_count": 192,
          "metadata": {},
          "output_type": "execute_result"
        }
      ],
      "source": [
        "product_count = pd.DataFrame(order_items.product_id.value_counts()).reset_index()\n",
        "product_count = product_count.rename({'index':'product_id', 'product_id':'count'}, axis=1)\n",
        "product_count"
      ]
    },
    {
      "cell_type": "code",
      "execution_count": null,
      "id": "0b255730",
      "metadata": {
        "id": "0b255730",
        "outputId": "b1fd48e4-8161-4908-a36e-b59073e95a78"
      },
      "outputs": [
        {
          "data": {
            "text/plain": [
              "'006619bbed68b000c8ba3f8725d5409e'"
            ]
          },
          "execution_count": 193,
          "metadata": {},
          "output_type": "execute_result"
        }
      ],
      "source": [
        "product"
      ]
    },
    {
      "cell_type": "code",
      "execution_count": null,
      "id": "dce5fc81",
      "metadata": {
        "id": "dce5fc81",
        "outputId": "31d0c4f8-4508-47a6-c43d-a6a5d5731580"
      },
      "outputs": [
        {
          "data": {
            "text/html": [
              "<div>\n",
              "<style scoped>\n",
              "    .dataframe tbody tr th:only-of-type {\n",
              "        vertical-align: middle;\n",
              "    }\n",
              "\n",
              "    .dataframe tbody tr th {\n",
              "        vertical-align: top;\n",
              "    }\n",
              "\n",
              "    .dataframe thead th {\n",
              "        text-align: right;\n",
              "    }\n",
              "</style>\n",
              "<table border=\"1\" class=\"dataframe\">\n",
              "  <thead>\n",
              "    <tr style=\"text-align: right;\">\n",
              "      <th></th>\n",
              "      <th>customer_unique_id</th>\n",
              "      <th>product_id</th>\n",
              "    </tr>\n",
              "  </thead>\n",
              "  <tbody>\n",
              "    <tr>\n",
              "      <th>0</th>\n",
              "      <td>7c396fd4830fd04220f754e42b4e5bff</td>\n",
              "      <td>87285b34884572647811a353c7ac498a</td>\n",
              "    </tr>\n",
              "    <tr>\n",
              "      <th>1</th>\n",
              "      <td>af07308b275d755c9edb36a90c618231</td>\n",
              "      <td>595fac2a385ac33a80bd5114aec74eb8</td>\n",
              "    </tr>\n",
              "    <tr>\n",
              "      <th>2</th>\n",
              "      <td>3a653a41f6f9fc3d2a113cf8398680e8</td>\n",
              "      <td>aa4383b373c6aca5d8797843e5594415</td>\n",
              "    </tr>\n",
              "    <tr>\n",
              "      <th>3</th>\n",
              "      <td>7c142cf63193a1473d2e66489a9ae977</td>\n",
              "      <td>d0b61bfb1de832b15ba9d266ca96e5b0</td>\n",
              "    </tr>\n",
              "    <tr>\n",
              "      <th>4</th>\n",
              "      <td>72632f0f9dd73dfee390c9b22eb56dd6</td>\n",
              "      <td>65266b2da20d04dbe00c5c2d3bb7859e</td>\n",
              "    </tr>\n",
              "    <tr>\n",
              "      <th>...</th>\n",
              "      <td>...</td>\n",
              "      <td>...</td>\n",
              "    </tr>\n",
              "    <tr>\n",
              "      <th>112645</th>\n",
              "      <td>da62f9e57a76d978d02ab5362c509660</td>\n",
              "      <td>f1d4ce8c6dd66c47bbaa8c6781c2a923</td>\n",
              "    </tr>\n",
              "    <tr>\n",
              "      <th>112646</th>\n",
              "      <td>737520a9aad80b3fbbdad19b66b37b30</td>\n",
              "      <td>b80910977a37536adeddd63663f916ad</td>\n",
              "    </tr>\n",
              "    <tr>\n",
              "      <th>112647</th>\n",
              "      <td>5097a5312c8b157bb7be58ae360ef43c</td>\n",
              "      <td>d1c427060a0f73f6b889a5c7c61f2ac4</td>\n",
              "    </tr>\n",
              "    <tr>\n",
              "      <th>112648</th>\n",
              "      <td>5097a5312c8b157bb7be58ae360ef43c</td>\n",
              "      <td>d1c427060a0f73f6b889a5c7c61f2ac4</td>\n",
              "    </tr>\n",
              "    <tr>\n",
              "      <th>112649</th>\n",
              "      <td>60350aa974b26ff12caad89e55993bd6</td>\n",
              "      <td>006619bbed68b000c8ba3f8725d5409e</td>\n",
              "    </tr>\n",
              "  </tbody>\n",
              "</table>\n",
              "<p>112650 rows × 2 columns</p>\n",
              "</div>"
            ],
            "text/plain": [
              "                      customer_unique_id                        product_id\n",
              "0       7c396fd4830fd04220f754e42b4e5bff  87285b34884572647811a353c7ac498a\n",
              "1       af07308b275d755c9edb36a90c618231  595fac2a385ac33a80bd5114aec74eb8\n",
              "2       3a653a41f6f9fc3d2a113cf8398680e8  aa4383b373c6aca5d8797843e5594415\n",
              "3       7c142cf63193a1473d2e66489a9ae977  d0b61bfb1de832b15ba9d266ca96e5b0\n",
              "4       72632f0f9dd73dfee390c9b22eb56dd6  65266b2da20d04dbe00c5c2d3bb7859e\n",
              "...                                  ...                               ...\n",
              "112645  da62f9e57a76d978d02ab5362c509660  f1d4ce8c6dd66c47bbaa8c6781c2a923\n",
              "112646  737520a9aad80b3fbbdad19b66b37b30  b80910977a37536adeddd63663f916ad\n",
              "112647  5097a5312c8b157bb7be58ae360ef43c  d1c427060a0f73f6b889a5c7c61f2ac4\n",
              "112648  5097a5312c8b157bb7be58ae360ef43c  d1c427060a0f73f6b889a5c7c61f2ac4\n",
              "112649  60350aa974b26ff12caad89e55993bd6  006619bbed68b000c8ba3f8725d5409e\n",
              "\n",
              "[112650 rows x 2 columns]"
            ]
          },
          "execution_count": 194,
          "metadata": {},
          "output_type": "execute_result"
        }
      ],
      "source": [
        "transactions = order_data[['customer_unique_id','product_id']]\n",
        "transactions"
      ]
    },
    {
      "cell_type": "code",
      "execution_count": null,
      "id": "656ae8fd",
      "metadata": {
        "id": "656ae8fd",
        "outputId": "623cb77f-ff5e-438b-aee8-f9934b32ff21"
      },
      "outputs": [
        {
          "data": {
            "text/html": [
              "<div>\n",
              "<style scoped>\n",
              "    .dataframe tbody tr th:only-of-type {\n",
              "        vertical-align: middle;\n",
              "    }\n",
              "\n",
              "    .dataframe tbody tr th {\n",
              "        vertical-align: top;\n",
              "    }\n",
              "\n",
              "    .dataframe thead th {\n",
              "        text-align: right;\n",
              "    }\n",
              "</style>\n",
              "<table border=\"1\" class=\"dataframe\">\n",
              "  <thead>\n",
              "    <tr style=\"text-align: right;\">\n",
              "      <th></th>\n",
              "      <th>customer_unique_id</th>\n",
              "      <th>product_id</th>\n",
              "      <th>count</th>\n",
              "    </tr>\n",
              "  </thead>\n",
              "  <tbody>\n",
              "    <tr>\n",
              "      <th>0</th>\n",
              "      <td>7c396fd4830fd04220f754e42b4e5bff</td>\n",
              "      <td>87285b34884572647811a353c7ac498a</td>\n",
              "      <td>4</td>\n",
              "    </tr>\n",
              "    <tr>\n",
              "      <th>1</th>\n",
              "      <td>3a51803cc0d012c3b5dc8b7528cb05f7</td>\n",
              "      <td>87285b34884572647811a353c7ac498a</td>\n",
              "      <td>4</td>\n",
              "    </tr>\n",
              "    <tr>\n",
              "      <th>2</th>\n",
              "      <td>ef0996a1a279c26e7ecbd737be23d235</td>\n",
              "      <td>87285b34884572647811a353c7ac498a</td>\n",
              "      <td>4</td>\n",
              "    </tr>\n",
              "    <tr>\n",
              "      <th>3</th>\n",
              "      <td>e781fdcc107d13d865fc7698711cc572</td>\n",
              "      <td>87285b34884572647811a353c7ac498a</td>\n",
              "      <td>4</td>\n",
              "    </tr>\n",
              "    <tr>\n",
              "      <th>4</th>\n",
              "      <td>af07308b275d755c9edb36a90c618231</td>\n",
              "      <td>595fac2a385ac33a80bd5114aec74eb8</td>\n",
              "      <td>106</td>\n",
              "    </tr>\n",
              "    <tr>\n",
              "      <th>...</th>\n",
              "      <td>...</td>\n",
              "      <td>...</td>\n",
              "      <td>...</td>\n",
              "    </tr>\n",
              "    <tr>\n",
              "      <th>112645</th>\n",
              "      <td>fb9310710003399b031add3e55f34719</td>\n",
              "      <td>0df37da38a30a713453b03053d60d3f7</td>\n",
              "      <td>2</td>\n",
              "    </tr>\n",
              "    <tr>\n",
              "      <th>112646</th>\n",
              "      <td>fb9310710003399b031add3e55f34719</td>\n",
              "      <td>0df37da38a30a713453b03053d60d3f7</td>\n",
              "      <td>2</td>\n",
              "    </tr>\n",
              "    <tr>\n",
              "      <th>112647</th>\n",
              "      <td>a49e8e11e850592fe685ae3c64b40eca</td>\n",
              "      <td>3d2c44374ee42b3003a470f3e937a2ea</td>\n",
              "      <td>1</td>\n",
              "    </tr>\n",
              "    <tr>\n",
              "      <th>112648</th>\n",
              "      <td>6359f309b166b0196dbf7ad2ac62bb5a</td>\n",
              "      <td>ac35486adb7b02598c182c2ff2e05254</td>\n",
              "      <td>1</td>\n",
              "    </tr>\n",
              "    <tr>\n",
              "      <th>112649</th>\n",
              "      <td>60350aa974b26ff12caad89e55993bd6</td>\n",
              "      <td>006619bbed68b000c8ba3f8725d5409e</td>\n",
              "      <td>1</td>\n",
              "    </tr>\n",
              "  </tbody>\n",
              "</table>\n",
              "<p>112650 rows × 3 columns</p>\n",
              "</div>"
            ],
            "text/plain": [
              "                      customer_unique_id                        product_id  \\\n",
              "0       7c396fd4830fd04220f754e42b4e5bff  87285b34884572647811a353c7ac498a   \n",
              "1       3a51803cc0d012c3b5dc8b7528cb05f7  87285b34884572647811a353c7ac498a   \n",
              "2       ef0996a1a279c26e7ecbd737be23d235  87285b34884572647811a353c7ac498a   \n",
              "3       e781fdcc107d13d865fc7698711cc572  87285b34884572647811a353c7ac498a   \n",
              "4       af07308b275d755c9edb36a90c618231  595fac2a385ac33a80bd5114aec74eb8   \n",
              "...                                  ...                               ...   \n",
              "112645  fb9310710003399b031add3e55f34719  0df37da38a30a713453b03053d60d3f7   \n",
              "112646  fb9310710003399b031add3e55f34719  0df37da38a30a713453b03053d60d3f7   \n",
              "112647  a49e8e11e850592fe685ae3c64b40eca  3d2c44374ee42b3003a470f3e937a2ea   \n",
              "112648  6359f309b166b0196dbf7ad2ac62bb5a  ac35486adb7b02598c182c2ff2e05254   \n",
              "112649  60350aa974b26ff12caad89e55993bd6  006619bbed68b000c8ba3f8725d5409e   \n",
              "\n",
              "        count  \n",
              "0           4  \n",
              "1           4  \n",
              "2           4  \n",
              "3           4  \n",
              "4         106  \n",
              "...       ...  \n",
              "112645      2  \n",
              "112646      2  \n",
              "112647      1  \n",
              "112648      1  \n",
              "112649      1  \n",
              "\n",
              "[112650 rows x 3 columns]"
            ]
          },
          "execution_count": 195,
          "metadata": {},
          "output_type": "execute_result"
        }
      ],
      "source": [
        "pre_model_input = transactions.merge(product_count, on='product_id')\n",
        "pre_model_input"
      ]
    },
    {
      "cell_type": "code",
      "execution_count": null,
      "id": "a966e966",
      "metadata": {
        "id": "a966e966",
        "outputId": "f2ae9b06-9596-4b6d-cc3d-758409dcd6e2"
      },
      "outputs": [
        {
          "data": {
            "text/html": [
              "<div>\n",
              "<style scoped>\n",
              "    .dataframe tbody tr th:only-of-type {\n",
              "        vertical-align: middle;\n",
              "    }\n",
              "\n",
              "    .dataframe tbody tr th {\n",
              "        vertical-align: top;\n",
              "    }\n",
              "\n",
              "    .dataframe thead th {\n",
              "        text-align: right;\n",
              "    }\n",
              "</style>\n",
              "<table border=\"1\" class=\"dataframe\">\n",
              "  <thead>\n",
              "    <tr style=\"text-align: right;\">\n",
              "      <th></th>\n",
              "      <th>index</th>\n",
              "      <th>id</th>\n",
              "      <th>product_category</th>\n",
              "    </tr>\n",
              "  </thead>\n",
              "  <tbody>\n",
              "    <tr>\n",
              "      <th>0</th>\n",
              "      <td>0</td>\n",
              "      <td>1e9e8ef04dbcff4541ed26657ea517e5</td>\n",
              "      <td>perfumery</td>\n",
              "    </tr>\n",
              "    <tr>\n",
              "      <th>1</th>\n",
              "      <td>1</td>\n",
              "      <td>3aa071139cb16b67ca9e5dea641aaa2f</td>\n",
              "      <td>art</td>\n",
              "    </tr>\n",
              "    <tr>\n",
              "      <th>2</th>\n",
              "      <td>2</td>\n",
              "      <td>96bd76ec8810374ed1b65e291975717f</td>\n",
              "      <td>sports_leisure</td>\n",
              "    </tr>\n",
              "    <tr>\n",
              "      <th>3</th>\n",
              "      <td>3</td>\n",
              "      <td>cef67bcfe19066a932b7673e239eb23d</td>\n",
              "      <td>baby</td>\n",
              "    </tr>\n",
              "    <tr>\n",
              "      <th>4</th>\n",
              "      <td>4</td>\n",
              "      <td>9dc1a7de274444849c219cff195d0b71</td>\n",
              "      <td>housewares</td>\n",
              "    </tr>\n",
              "    <tr>\n",
              "      <th>...</th>\n",
              "      <td>...</td>\n",
              "      <td>...</td>\n",
              "      <td>...</td>\n",
              "    </tr>\n",
              "    <tr>\n",
              "      <th>32946</th>\n",
              "      <td>32946</td>\n",
              "      <td>a0b7d5a992ccda646f2d34e418fff5a0</td>\n",
              "      <td>furniture_decor</td>\n",
              "    </tr>\n",
              "    <tr>\n",
              "      <th>32947</th>\n",
              "      <td>32947</td>\n",
              "      <td>bf4538d88321d0fd4412a93c974510e6</td>\n",
              "      <td>construction_tools_lights</td>\n",
              "    </tr>\n",
              "    <tr>\n",
              "      <th>32948</th>\n",
              "      <td>32948</td>\n",
              "      <td>9a7c6041fa9592d9d9ef6cfe62a71f8c</td>\n",
              "      <td>bed_bath_table</td>\n",
              "    </tr>\n",
              "    <tr>\n",
              "      <th>32949</th>\n",
              "      <td>32949</td>\n",
              "      <td>83808703fc0706a22e264b9d75f04a2e</td>\n",
              "      <td>computers_accessories</td>\n",
              "    </tr>\n",
              "    <tr>\n",
              "      <th>32950</th>\n",
              "      <td>32950</td>\n",
              "      <td>106392145fca363410d287a815be6de4</td>\n",
              "      <td>bed_bath_table</td>\n",
              "    </tr>\n",
              "  </tbody>\n",
              "</table>\n",
              "<p>32951 rows × 3 columns</p>\n",
              "</div>"
            ],
            "text/plain": [
              "       index                                id           product_category\n",
              "0          0  1e9e8ef04dbcff4541ed26657ea517e5                  perfumery\n",
              "1          1  3aa071139cb16b67ca9e5dea641aaa2f                        art\n",
              "2          2  96bd76ec8810374ed1b65e291975717f             sports_leisure\n",
              "3          3  cef67bcfe19066a932b7673e239eb23d                       baby\n",
              "4          4  9dc1a7de274444849c219cff195d0b71                 housewares\n",
              "...      ...                               ...                        ...\n",
              "32946  32946  a0b7d5a992ccda646f2d34e418fff5a0            furniture_decor\n",
              "32947  32947  bf4538d88321d0fd4412a93c974510e6  construction_tools_lights\n",
              "32948  32948  9a7c6041fa9592d9d9ef6cfe62a71f8c             bed_bath_table\n",
              "32949  32949  83808703fc0706a22e264b9d75f04a2e      computers_accessories\n",
              "32950  32950  106392145fca363410d287a815be6de4             bed_bath_table\n",
              "\n",
              "[32951 rows x 3 columns]"
            ]
          },
          "execution_count": 196,
          "metadata": {},
          "output_type": "execute_result"
        }
      ],
      "source": [
        "df_products_id = products[['id', 'product_category']].reset_index()\n",
        "df_products_id"
      ]
    },
    {
      "cell_type": "code",
      "execution_count": null,
      "id": "8e3c0f0c",
      "metadata": {
        "id": "8e3c0f0c",
        "outputId": "d6031d1c-b1a8-4be7-b1d8-f308e1224248"
      },
      "outputs": [
        {
          "data": {
            "text/html": [
              "<div>\n",
              "<style scoped>\n",
              "    .dataframe tbody tr th:only-of-type {\n",
              "        vertical-align: middle;\n",
              "    }\n",
              "\n",
              "    .dataframe tbody tr th {\n",
              "        vertical-align: top;\n",
              "    }\n",
              "\n",
              "    .dataframe thead th {\n",
              "        text-align: right;\n",
              "    }\n",
              "</style>\n",
              "<table border=\"1\" class=\"dataframe\">\n",
              "  <thead>\n",
              "    <tr style=\"text-align: right;\">\n",
              "      <th></th>\n",
              "      <th>index</th>\n",
              "      <th>customer_unique_id</th>\n",
              "    </tr>\n",
              "  </thead>\n",
              "  <tbody>\n",
              "    <tr>\n",
              "      <th>0</th>\n",
              "      <td>0</td>\n",
              "      <td>861eff4711a542e4b93843c6dd7febb0</td>\n",
              "    </tr>\n",
              "    <tr>\n",
              "      <th>1</th>\n",
              "      <td>1</td>\n",
              "      <td>290c77bc529b7ac935b93aa66c333dc3</td>\n",
              "    </tr>\n",
              "    <tr>\n",
              "      <th>2</th>\n",
              "      <td>2</td>\n",
              "      <td>060e732b5b29e8181a18229c7b0b2b5e</td>\n",
              "    </tr>\n",
              "    <tr>\n",
              "      <th>3</th>\n",
              "      <td>3</td>\n",
              "      <td>259dac757896d24d7702b9acbbff3f3c</td>\n",
              "    </tr>\n",
              "    <tr>\n",
              "      <th>4</th>\n",
              "      <td>4</td>\n",
              "      <td>345ecd01c38d18a9036ed96c73b8d066</td>\n",
              "    </tr>\n",
              "    <tr>\n",
              "      <th>...</th>\n",
              "      <td>...</td>\n",
              "      <td>...</td>\n",
              "    </tr>\n",
              "    <tr>\n",
              "      <th>99436</th>\n",
              "      <td>99436</td>\n",
              "      <td>1a29b476fee25c95fbafc67c5ac95cf8</td>\n",
              "    </tr>\n",
              "    <tr>\n",
              "      <th>99437</th>\n",
              "      <td>99437</td>\n",
              "      <td>d52a67c98be1cf6a5c84435bd38d095d</td>\n",
              "    </tr>\n",
              "    <tr>\n",
              "      <th>99438</th>\n",
              "      <td>99438</td>\n",
              "      <td>e9f50caf99f032f0bf3c55141f019d99</td>\n",
              "    </tr>\n",
              "    <tr>\n",
              "      <th>99439</th>\n",
              "      <td>99439</td>\n",
              "      <td>73c2643a0a458b49f58cea58833b192e</td>\n",
              "    </tr>\n",
              "    <tr>\n",
              "      <th>99440</th>\n",
              "      <td>99440</td>\n",
              "      <td>84732c5050c01db9b23e19ba39899398</td>\n",
              "    </tr>\n",
              "  </tbody>\n",
              "</table>\n",
              "<p>99441 rows × 2 columns</p>\n",
              "</div>"
            ],
            "text/plain": [
              "       index                customer_unique_id\n",
              "0          0  861eff4711a542e4b93843c6dd7febb0\n",
              "1          1  290c77bc529b7ac935b93aa66c333dc3\n",
              "2          2  060e732b5b29e8181a18229c7b0b2b5e\n",
              "3          3  259dac757896d24d7702b9acbbff3f3c\n",
              "4          4  345ecd01c38d18a9036ed96c73b8d066\n",
              "...      ...                               ...\n",
              "99436  99436  1a29b476fee25c95fbafc67c5ac95cf8\n",
              "99437  99437  d52a67c98be1cf6a5c84435bd38d095d\n",
              "99438  99438  e9f50caf99f032f0bf3c55141f019d99\n",
              "99439  99439  73c2643a0a458b49f58cea58833b192e\n",
              "99440  99440  84732c5050c01db9b23e19ba39899398\n",
              "\n",
              "[99441 rows x 2 columns]"
            ]
          },
          "execution_count": 197,
          "metadata": {},
          "output_type": "execute_result"
        }
      ],
      "source": [
        "df_customers_id = customers[['customer_unique_id']].reset_index()\n",
        "df_customers_id"
      ]
    },
    {
      "cell_type": "code",
      "execution_count": null,
      "id": "d56b6442",
      "metadata": {
        "id": "d56b6442",
        "outputId": "3ee14aea-120f-4359-e82d-9d0c9a80574a"
      },
      "outputs": [
        {
          "data": {
            "text/html": [
              "<div>\n",
              "<style scoped>\n",
              "    .dataframe tbody tr th:only-of-type {\n",
              "        vertical-align: middle;\n",
              "    }\n",
              "\n",
              "    .dataframe tbody tr th {\n",
              "        vertical-align: top;\n",
              "    }\n",
              "\n",
              "    .dataframe thead th {\n",
              "        text-align: right;\n",
              "    }\n",
              "</style>\n",
              "<table border=\"1\" class=\"dataframe\">\n",
              "  <thead>\n",
              "    <tr style=\"text-align: right;\">\n",
              "      <th></th>\n",
              "      <th>customer_unique_id</th>\n",
              "      <th>product_id</th>\n",
              "      <th>count</th>\n",
              "    </tr>\n",
              "  </thead>\n",
              "  <tbody>\n",
              "    <tr>\n",
              "      <th>0</th>\n",
              "      <td>7c396fd4830fd04220f754e42b4e5bff</td>\n",
              "      <td>87285b34884572647811a353c7ac498a</td>\n",
              "      <td>4</td>\n",
              "    </tr>\n",
              "    <tr>\n",
              "      <th>1</th>\n",
              "      <td>3a51803cc0d012c3b5dc8b7528cb05f7</td>\n",
              "      <td>87285b34884572647811a353c7ac498a</td>\n",
              "      <td>4</td>\n",
              "    </tr>\n",
              "    <tr>\n",
              "      <th>2</th>\n",
              "      <td>ef0996a1a279c26e7ecbd737be23d235</td>\n",
              "      <td>87285b34884572647811a353c7ac498a</td>\n",
              "      <td>4</td>\n",
              "    </tr>\n",
              "    <tr>\n",
              "      <th>3</th>\n",
              "      <td>e781fdcc107d13d865fc7698711cc572</td>\n",
              "      <td>87285b34884572647811a353c7ac498a</td>\n",
              "      <td>4</td>\n",
              "    </tr>\n",
              "    <tr>\n",
              "      <th>4</th>\n",
              "      <td>af07308b275d755c9edb36a90c618231</td>\n",
              "      <td>595fac2a385ac33a80bd5114aec74eb8</td>\n",
              "      <td>106</td>\n",
              "    </tr>\n",
              "    <tr>\n",
              "      <th>...</th>\n",
              "      <td>...</td>\n",
              "      <td>...</td>\n",
              "      <td>...</td>\n",
              "    </tr>\n",
              "    <tr>\n",
              "      <th>112645</th>\n",
              "      <td>fb9310710003399b031add3e55f34719</td>\n",
              "      <td>0df37da38a30a713453b03053d60d3f7</td>\n",
              "      <td>2</td>\n",
              "    </tr>\n",
              "    <tr>\n",
              "      <th>112646</th>\n",
              "      <td>fb9310710003399b031add3e55f34719</td>\n",
              "      <td>0df37da38a30a713453b03053d60d3f7</td>\n",
              "      <td>2</td>\n",
              "    </tr>\n",
              "    <tr>\n",
              "      <th>112647</th>\n",
              "      <td>a49e8e11e850592fe685ae3c64b40eca</td>\n",
              "      <td>3d2c44374ee42b3003a470f3e937a2ea</td>\n",
              "      <td>1</td>\n",
              "    </tr>\n",
              "    <tr>\n",
              "      <th>112648</th>\n",
              "      <td>6359f309b166b0196dbf7ad2ac62bb5a</td>\n",
              "      <td>ac35486adb7b02598c182c2ff2e05254</td>\n",
              "      <td>1</td>\n",
              "    </tr>\n",
              "    <tr>\n",
              "      <th>112649</th>\n",
              "      <td>60350aa974b26ff12caad89e55993bd6</td>\n",
              "      <td>006619bbed68b000c8ba3f8725d5409e</td>\n",
              "      <td>1</td>\n",
              "    </tr>\n",
              "  </tbody>\n",
              "</table>\n",
              "<p>112650 rows × 3 columns</p>\n",
              "</div>"
            ],
            "text/plain": [
              "                      customer_unique_id                        product_id  \\\n",
              "0       7c396fd4830fd04220f754e42b4e5bff  87285b34884572647811a353c7ac498a   \n",
              "1       3a51803cc0d012c3b5dc8b7528cb05f7  87285b34884572647811a353c7ac498a   \n",
              "2       ef0996a1a279c26e7ecbd737be23d235  87285b34884572647811a353c7ac498a   \n",
              "3       e781fdcc107d13d865fc7698711cc572  87285b34884572647811a353c7ac498a   \n",
              "4       af07308b275d755c9edb36a90c618231  595fac2a385ac33a80bd5114aec74eb8   \n",
              "...                                  ...                               ...   \n",
              "112645  fb9310710003399b031add3e55f34719  0df37da38a30a713453b03053d60d3f7   \n",
              "112646  fb9310710003399b031add3e55f34719  0df37da38a30a713453b03053d60d3f7   \n",
              "112647  a49e8e11e850592fe685ae3c64b40eca  3d2c44374ee42b3003a470f3e937a2ea   \n",
              "112648  6359f309b166b0196dbf7ad2ac62bb5a  ac35486adb7b02598c182c2ff2e05254   \n",
              "112649  60350aa974b26ff12caad89e55993bd6  006619bbed68b000c8ba3f8725d5409e   \n",
              "\n",
              "        count  \n",
              "0           4  \n",
              "1           4  \n",
              "2           4  \n",
              "3           4  \n",
              "4         106  \n",
              "...       ...  \n",
              "112645      2  \n",
              "112646      2  \n",
              "112647      1  \n",
              "112648      1  \n",
              "112649      1  \n",
              "\n",
              "[112650 rows x 3 columns]"
            ]
          },
          "execution_count": 200,
          "metadata": {},
          "output_type": "execute_result"
        }
      ],
      "source": [
        "pre_model_input"
      ]
    },
    {
      "cell_type": "code",
      "execution_count": null,
      "id": "609bf347",
      "metadata": {
        "id": "609bf347",
        "outputId": "e137b52f-d846-4bf0-dbb7-d1567aa681bc"
      },
      "outputs": [
        {
          "name": "stdout",
          "output_type": "stream",
          "text": [
            "<class 'pandas.core.frame.DataFrame'>\n",
            "Int64Index: 112650 entries, 0 to 112649\n",
            "Data columns (total 3 columns):\n",
            " #   Column              Non-Null Count   Dtype \n",
            "---  ------              --------------   ----- \n",
            " 0   customer_unique_id  112650 non-null  object\n",
            " 1   product_id          112650 non-null  object\n",
            " 2   count               112650 non-null  int64 \n",
            "dtypes: int64(1), object(2)\n",
            "memory usage: 3.4+ MB\n"
          ]
        }
      ],
      "source": [
        "pre_model_input.info()"
      ]
    },
    {
      "cell_type": "code",
      "execution_count": null,
      "id": "9e647b7f",
      "metadata": {
        "id": "9e647b7f",
        "outputId": "79d4cdb6-bdcc-41e1-ac5a-8aa3bfb08325"
      },
      "outputs": [
        {
          "data": {
            "text/html": [
              "<div>\n",
              "<style scoped>\n",
              "    .dataframe tbody tr th:only-of-type {\n",
              "        vertical-align: middle;\n",
              "    }\n",
              "\n",
              "    .dataframe tbody tr th {\n",
              "        vertical-align: top;\n",
              "    }\n",
              "\n",
              "    .dataframe thead th {\n",
              "        text-align: right;\n",
              "    }\n",
              "</style>\n",
              "<table border=\"1\" class=\"dataframe\">\n",
              "  <thead>\n",
              "    <tr style=\"text-align: right;\">\n",
              "      <th></th>\n",
              "      <th>product_index</th>\n",
              "      <th>product_id</th>\n",
              "      <th>product_category</th>\n",
              "    </tr>\n",
              "  </thead>\n",
              "  <tbody>\n",
              "    <tr>\n",
              "      <th>0</th>\n",
              "      <td>0</td>\n",
              "      <td>87285b34884572647811a353c7ac498a</td>\n",
              "      <td>housewares</td>\n",
              "    </tr>\n",
              "    <tr>\n",
              "      <th>1</th>\n",
              "      <td>1</td>\n",
              "      <td>595fac2a385ac33a80bd5114aec74eb8</td>\n",
              "      <td>perfumery</td>\n",
              "    </tr>\n",
              "    <tr>\n",
              "      <th>2</th>\n",
              "      <td>2</td>\n",
              "      <td>aa4383b373c6aca5d8797843e5594415</td>\n",
              "      <td>auto</td>\n",
              "    </tr>\n",
              "    <tr>\n",
              "      <th>3</th>\n",
              "      <td>3</td>\n",
              "      <td>d0b61bfb1de832b15ba9d266ca96e5b0</td>\n",
              "      <td>pet_shop</td>\n",
              "    </tr>\n",
              "    <tr>\n",
              "      <th>4</th>\n",
              "      <td>4</td>\n",
              "      <td>65266b2da20d04dbe00c5c2d3bb7859e</td>\n",
              "      <td>stationery</td>\n",
              "    </tr>\n",
              "    <tr>\n",
              "      <th>...</th>\n",
              "      <td>...</td>\n",
              "      <td>...</td>\n",
              "      <td>...</td>\n",
              "    </tr>\n",
              "    <tr>\n",
              "      <th>32946</th>\n",
              "      <td>32946</td>\n",
              "      <td>cbaf5898b92064cd5e399c7cff291d0a</td>\n",
              "      <td>health_beauty</td>\n",
              "    </tr>\n",
              "    <tr>\n",
              "      <th>32947</th>\n",
              "      <td>32947</td>\n",
              "      <td>0df37da38a30a713453b03053d60d3f7</td>\n",
              "      <td>sports_leisure</td>\n",
              "    </tr>\n",
              "    <tr>\n",
              "      <th>32948</th>\n",
              "      <td>32948</td>\n",
              "      <td>3d2c44374ee42b3003a470f3e937a2ea</td>\n",
              "      <td>musical_instruments</td>\n",
              "    </tr>\n",
              "    <tr>\n",
              "      <th>32949</th>\n",
              "      <td>32949</td>\n",
              "      <td>ac35486adb7b02598c182c2ff2e05254</td>\n",
              "      <td>health_beauty</td>\n",
              "    </tr>\n",
              "    <tr>\n",
              "      <th>32950</th>\n",
              "      <td>32950</td>\n",
              "      <td>006619bbed68b000c8ba3f8725d5409e</td>\n",
              "      <td>health_beauty</td>\n",
              "    </tr>\n",
              "  </tbody>\n",
              "</table>\n",
              "<p>32951 rows × 3 columns</p>\n",
              "</div>"
            ],
            "text/plain": [
              "       product_index                        product_id     product_category\n",
              "0                  0  87285b34884572647811a353c7ac498a           housewares\n",
              "1                  1  595fac2a385ac33a80bd5114aec74eb8            perfumery\n",
              "2                  2  aa4383b373c6aca5d8797843e5594415                 auto\n",
              "3                  3  d0b61bfb1de832b15ba9d266ca96e5b0             pet_shop\n",
              "4                  4  65266b2da20d04dbe00c5c2d3bb7859e           stationery\n",
              "...              ...                               ...                  ...\n",
              "32946          32946  cbaf5898b92064cd5e399c7cff291d0a        health_beauty\n",
              "32947          32947  0df37da38a30a713453b03053d60d3f7       sports_leisure\n",
              "32948          32948  3d2c44374ee42b3003a470f3e937a2ea  musical_instruments\n",
              "32949          32949  ac35486adb7b02598c182c2ff2e05254        health_beauty\n",
              "32950          32950  006619bbed68b000c8ba3f8725d5409e        health_beauty\n",
              "\n",
              "[32951 rows x 3 columns]"
            ]
          },
          "execution_count": 202,
          "metadata": {},
          "output_type": "execute_result"
        }
      ],
      "source": [
        "product_in_use = pd.DataFrame(pre_model_input.product_id.unique(),columns=['product_id']).reset_index()\n",
        "product_in_use.rename({'index':'product_index'}, axis=1, inplace=True)\n",
        "product_in_use = product_in_use.merge(products[['id','product_category']], left_on='product_id',right_on='id')[['product_index', 'product_id','product_category']]\n",
        "product_in_use"
      ]
    },
    {
      "cell_type": "code",
      "execution_count": null,
      "id": "0844b75e",
      "metadata": {
        "id": "0844b75e",
        "outputId": "d40dd4ae-5618-4d0d-856e-fe54774c1af7"
      },
      "outputs": [
        {
          "name": "stdout",
          "output_type": "stream",
          "text": [
            "<class 'pandas.core.frame.DataFrame'>\n",
            "Int64Index: 32951 entries, 0 to 32950\n",
            "Data columns (total 3 columns):\n",
            " #   Column            Non-Null Count  Dtype \n",
            "---  ------            --------------  ----- \n",
            " 0   product_index     32951 non-null  int64 \n",
            " 1   product_id        32951 non-null  object\n",
            " 2   product_category  32328 non-null  object\n",
            "dtypes: int64(1), object(2)\n",
            "memory usage: 1.0+ MB\n"
          ]
        }
      ],
      "source": [
        "product_in_use.info()"
      ]
    },
    {
      "cell_type": "code",
      "execution_count": null,
      "id": "c1973d51",
      "metadata": {
        "id": "c1973d51",
        "outputId": "99b22f02-b9c8-4213-e9c8-b9b97fc2ac76"
      },
      "outputs": [
        {
          "data": {
            "text/html": [
              "<div>\n",
              "<style scoped>\n",
              "    .dataframe tbody tr th:only-of-type {\n",
              "        vertical-align: middle;\n",
              "    }\n",
              "\n",
              "    .dataframe tbody tr th {\n",
              "        vertical-align: top;\n",
              "    }\n",
              "\n",
              "    .dataframe thead th {\n",
              "        text-align: right;\n",
              "    }\n",
              "</style>\n",
              "<table border=\"1\" class=\"dataframe\">\n",
              "  <thead>\n",
              "    <tr style=\"text-align: right;\">\n",
              "      <th></th>\n",
              "      <th>customer_index</th>\n",
              "      <th>customer_unique_id</th>\n",
              "    </tr>\n",
              "  </thead>\n",
              "  <tbody>\n",
              "    <tr>\n",
              "      <th>0</th>\n",
              "      <td>0</td>\n",
              "      <td>7c396fd4830fd04220f754e42b4e5bff</td>\n",
              "    </tr>\n",
              "    <tr>\n",
              "      <th>1</th>\n",
              "      <td>1</td>\n",
              "      <td>3a51803cc0d012c3b5dc8b7528cb05f7</td>\n",
              "    </tr>\n",
              "    <tr>\n",
              "      <th>2</th>\n",
              "      <td>2</td>\n",
              "      <td>ef0996a1a279c26e7ecbd737be23d235</td>\n",
              "    </tr>\n",
              "    <tr>\n",
              "      <th>3</th>\n",
              "      <td>3</td>\n",
              "      <td>e781fdcc107d13d865fc7698711cc572</td>\n",
              "    </tr>\n",
              "    <tr>\n",
              "      <th>4</th>\n",
              "      <td>4</td>\n",
              "      <td>af07308b275d755c9edb36a90c618231</td>\n",
              "    </tr>\n",
              "    <tr>\n",
              "      <th>...</th>\n",
              "      <td>...</td>\n",
              "      <td>...</td>\n",
              "    </tr>\n",
              "    <tr>\n",
              "      <th>95415</th>\n",
              "      <td>95415</td>\n",
              "      <td>490c3c53ca927221bccbb00706afbcf9</td>\n",
              "    </tr>\n",
              "    <tr>\n",
              "      <th>95416</th>\n",
              "      <td>95416</td>\n",
              "      <td>fb9310710003399b031add3e55f34719</td>\n",
              "    </tr>\n",
              "    <tr>\n",
              "      <th>95417</th>\n",
              "      <td>95417</td>\n",
              "      <td>a49e8e11e850592fe685ae3c64b40eca</td>\n",
              "    </tr>\n",
              "    <tr>\n",
              "      <th>95418</th>\n",
              "      <td>95418</td>\n",
              "      <td>6359f309b166b0196dbf7ad2ac62bb5a</td>\n",
              "    </tr>\n",
              "    <tr>\n",
              "      <th>95419</th>\n",
              "      <td>95419</td>\n",
              "      <td>60350aa974b26ff12caad89e55993bd6</td>\n",
              "    </tr>\n",
              "  </tbody>\n",
              "</table>\n",
              "<p>95420 rows × 2 columns</p>\n",
              "</div>"
            ],
            "text/plain": [
              "       customer_index                customer_unique_id\n",
              "0                   0  7c396fd4830fd04220f754e42b4e5bff\n",
              "1                   1  3a51803cc0d012c3b5dc8b7528cb05f7\n",
              "2                   2  ef0996a1a279c26e7ecbd737be23d235\n",
              "3                   3  e781fdcc107d13d865fc7698711cc572\n",
              "4                   4  af07308b275d755c9edb36a90c618231\n",
              "...               ...                               ...\n",
              "95415           95415  490c3c53ca927221bccbb00706afbcf9\n",
              "95416           95416  fb9310710003399b031add3e55f34719\n",
              "95417           95417  a49e8e11e850592fe685ae3c64b40eca\n",
              "95418           95418  6359f309b166b0196dbf7ad2ac62bb5a\n",
              "95419           95419  60350aa974b26ff12caad89e55993bd6\n",
              "\n",
              "[95420 rows x 2 columns]"
            ]
          },
          "execution_count": 204,
          "metadata": {},
          "output_type": "execute_result"
        }
      ],
      "source": [
        "customers_in_order = pd.DataFrame(pre_model_input.customer_unique_id.unique(),columns=['customer_unique_id']).reset_index()\n",
        "customers_in_order.rename({'index':'customer_index'}, axis=1, inplace=True)\n",
        "customers_in_order"
      ]
    },
    {
      "cell_type": "code",
      "execution_count": null,
      "id": "1411fd67",
      "metadata": {
        "id": "1411fd67",
        "outputId": "b45ae348-8001-4d3a-f830-a52f6109c1e1"
      },
      "outputs": [
        {
          "data": {
            "text/html": [
              "<div>\n",
              "<style scoped>\n",
              "    .dataframe tbody tr th:only-of-type {\n",
              "        vertical-align: middle;\n",
              "    }\n",
              "\n",
              "    .dataframe tbody tr th {\n",
              "        vertical-align: top;\n",
              "    }\n",
              "\n",
              "    .dataframe thead th {\n",
              "        text-align: right;\n",
              "    }\n",
              "</style>\n",
              "<table border=\"1\" class=\"dataframe\">\n",
              "  <thead>\n",
              "    <tr style=\"text-align: right;\">\n",
              "      <th></th>\n",
              "      <th>customer_unique_id</th>\n",
              "      <th>product_id</th>\n",
              "      <th>count</th>\n",
              "      <th>customer_index</th>\n",
              "      <th>product_index</th>\n",
              "      <th>product_category</th>\n",
              "    </tr>\n",
              "  </thead>\n",
              "  <tbody>\n",
              "    <tr>\n",
              "      <th>0</th>\n",
              "      <td>7c396fd4830fd04220f754e42b4e5bff</td>\n",
              "      <td>87285b34884572647811a353c7ac498a</td>\n",
              "      <td>4</td>\n",
              "      <td>0</td>\n",
              "      <td>0</td>\n",
              "      <td>housewares</td>\n",
              "    </tr>\n",
              "    <tr>\n",
              "      <th>1</th>\n",
              "      <td>3a51803cc0d012c3b5dc8b7528cb05f7</td>\n",
              "      <td>87285b34884572647811a353c7ac498a</td>\n",
              "      <td>4</td>\n",
              "      <td>1</td>\n",
              "      <td>0</td>\n",
              "      <td>housewares</td>\n",
              "    </tr>\n",
              "    <tr>\n",
              "      <th>2</th>\n",
              "      <td>ef0996a1a279c26e7ecbd737be23d235</td>\n",
              "      <td>87285b34884572647811a353c7ac498a</td>\n",
              "      <td>4</td>\n",
              "      <td>2</td>\n",
              "      <td>0</td>\n",
              "      <td>housewares</td>\n",
              "    </tr>\n",
              "    <tr>\n",
              "      <th>3</th>\n",
              "      <td>e781fdcc107d13d865fc7698711cc572</td>\n",
              "      <td>87285b34884572647811a353c7ac498a</td>\n",
              "      <td>4</td>\n",
              "      <td>3</td>\n",
              "      <td>0</td>\n",
              "      <td>housewares</td>\n",
              "    </tr>\n",
              "    <tr>\n",
              "      <th>4</th>\n",
              "      <td>7c396fd4830fd04220f754e42b4e5bff</td>\n",
              "      <td>9abb00920aae319ef9eba674b7d2e6ff</td>\n",
              "      <td>17</td>\n",
              "      <td>0</td>\n",
              "      <td>1104</td>\n",
              "      <td>baby</td>\n",
              "    </tr>\n",
              "    <tr>\n",
              "      <th>...</th>\n",
              "      <td>...</td>\n",
              "      <td>...</td>\n",
              "      <td>...</td>\n",
              "      <td>...</td>\n",
              "      <td>...</td>\n",
              "      <td>...</td>\n",
              "    </tr>\n",
              "    <tr>\n",
              "      <th>112645</th>\n",
              "      <td>fb9310710003399b031add3e55f34719</td>\n",
              "      <td>0df37da38a30a713453b03053d60d3f7</td>\n",
              "      <td>2</td>\n",
              "      <td>95416</td>\n",
              "      <td>32947</td>\n",
              "      <td>sports_leisure</td>\n",
              "    </tr>\n",
              "    <tr>\n",
              "      <th>112646</th>\n",
              "      <td>fb9310710003399b031add3e55f34719</td>\n",
              "      <td>0df37da38a30a713453b03053d60d3f7</td>\n",
              "      <td>2</td>\n",
              "      <td>95416</td>\n",
              "      <td>32947</td>\n",
              "      <td>sports_leisure</td>\n",
              "    </tr>\n",
              "    <tr>\n",
              "      <th>112647</th>\n",
              "      <td>a49e8e11e850592fe685ae3c64b40eca</td>\n",
              "      <td>3d2c44374ee42b3003a470f3e937a2ea</td>\n",
              "      <td>1</td>\n",
              "      <td>95417</td>\n",
              "      <td>32948</td>\n",
              "      <td>musical_instruments</td>\n",
              "    </tr>\n",
              "    <tr>\n",
              "      <th>112648</th>\n",
              "      <td>6359f309b166b0196dbf7ad2ac62bb5a</td>\n",
              "      <td>ac35486adb7b02598c182c2ff2e05254</td>\n",
              "      <td>1</td>\n",
              "      <td>95418</td>\n",
              "      <td>32949</td>\n",
              "      <td>health_beauty</td>\n",
              "    </tr>\n",
              "    <tr>\n",
              "      <th>112649</th>\n",
              "      <td>60350aa974b26ff12caad89e55993bd6</td>\n",
              "      <td>006619bbed68b000c8ba3f8725d5409e</td>\n",
              "      <td>1</td>\n",
              "      <td>95419</td>\n",
              "      <td>32950</td>\n",
              "      <td>health_beauty</td>\n",
              "    </tr>\n",
              "  </tbody>\n",
              "</table>\n",
              "<p>112650 rows × 6 columns</p>\n",
              "</div>"
            ],
            "text/plain": [
              "                      customer_unique_id                        product_id  \\\n",
              "0       7c396fd4830fd04220f754e42b4e5bff  87285b34884572647811a353c7ac498a   \n",
              "1       3a51803cc0d012c3b5dc8b7528cb05f7  87285b34884572647811a353c7ac498a   \n",
              "2       ef0996a1a279c26e7ecbd737be23d235  87285b34884572647811a353c7ac498a   \n",
              "3       e781fdcc107d13d865fc7698711cc572  87285b34884572647811a353c7ac498a   \n",
              "4       7c396fd4830fd04220f754e42b4e5bff  9abb00920aae319ef9eba674b7d2e6ff   \n",
              "...                                  ...                               ...   \n",
              "112645  fb9310710003399b031add3e55f34719  0df37da38a30a713453b03053d60d3f7   \n",
              "112646  fb9310710003399b031add3e55f34719  0df37da38a30a713453b03053d60d3f7   \n",
              "112647  a49e8e11e850592fe685ae3c64b40eca  3d2c44374ee42b3003a470f3e937a2ea   \n",
              "112648  6359f309b166b0196dbf7ad2ac62bb5a  ac35486adb7b02598c182c2ff2e05254   \n",
              "112649  60350aa974b26ff12caad89e55993bd6  006619bbed68b000c8ba3f8725d5409e   \n",
              "\n",
              "        count  customer_index  product_index     product_category  \n",
              "0           4               0              0           housewares  \n",
              "1           4               1              0           housewares  \n",
              "2           4               2              0           housewares  \n",
              "3           4               3              0           housewares  \n",
              "4          17               0           1104                 baby  \n",
              "...       ...             ...            ...                  ...  \n",
              "112645      2           95416          32947       sports_leisure  \n",
              "112646      2           95416          32947       sports_leisure  \n",
              "112647      1           95417          32948  musical_instruments  \n",
              "112648      1           95418          32949        health_beauty  \n",
              "112649      1           95419          32950        health_beauty  \n",
              "\n",
              "[112650 rows x 6 columns]"
            ]
          },
          "execution_count": 205,
          "metadata": {},
          "output_type": "execute_result"
        }
      ],
      "source": [
        "pre_model_input = pre_model_input.merge(customers_in_order, on='customer_unique_id')\n",
        "pre_model_input = pre_model_input.merge(product_in_use, on='product_id')\n",
        "\n",
        "pre_model_input\n"
      ]
    },
    {
      "cell_type": "code",
      "execution_count": null,
      "id": "c697fb92",
      "metadata": {
        "id": "c697fb92",
        "outputId": "dee5cb47-3923-48cf-a809-e406b9f7d55b"
      },
      "outputs": [
        {
          "data": {
            "text/html": [
              "<div>\n",
              "<style scoped>\n",
              "    .dataframe tbody tr th:only-of-type {\n",
              "        vertical-align: middle;\n",
              "    }\n",
              "\n",
              "    .dataframe tbody tr th {\n",
              "        vertical-align: top;\n",
              "    }\n",
              "\n",
              "    .dataframe thead th {\n",
              "        text-align: right;\n",
              "    }\n",
              "</style>\n",
              "<table border=\"1\" class=\"dataframe\">\n",
              "  <thead>\n",
              "    <tr style=\"text-align: right;\">\n",
              "      <th></th>\n",
              "      <th>customer_index</th>\n",
              "      <th>product_index</th>\n",
              "      <th>product_category</th>\n",
              "      <th>count</th>\n",
              "    </tr>\n",
              "  </thead>\n",
              "  <tbody>\n",
              "    <tr>\n",
              "      <th>0</th>\n",
              "      <td>0</td>\n",
              "      <td>0</td>\n",
              "      <td>housewares</td>\n",
              "      <td>4</td>\n",
              "    </tr>\n",
              "    <tr>\n",
              "      <th>1</th>\n",
              "      <td>1</td>\n",
              "      <td>0</td>\n",
              "      <td>housewares</td>\n",
              "      <td>4</td>\n",
              "    </tr>\n",
              "    <tr>\n",
              "      <th>2</th>\n",
              "      <td>2</td>\n",
              "      <td>0</td>\n",
              "      <td>housewares</td>\n",
              "      <td>4</td>\n",
              "    </tr>\n",
              "    <tr>\n",
              "      <th>3</th>\n",
              "      <td>3</td>\n",
              "      <td>0</td>\n",
              "      <td>housewares</td>\n",
              "      <td>4</td>\n",
              "    </tr>\n",
              "    <tr>\n",
              "      <th>4</th>\n",
              "      <td>0</td>\n",
              "      <td>1104</td>\n",
              "      <td>baby</td>\n",
              "      <td>17</td>\n",
              "    </tr>\n",
              "    <tr>\n",
              "      <th>...</th>\n",
              "      <td>...</td>\n",
              "      <td>...</td>\n",
              "      <td>...</td>\n",
              "      <td>...</td>\n",
              "    </tr>\n",
              "    <tr>\n",
              "      <th>112645</th>\n",
              "      <td>95416</td>\n",
              "      <td>32947</td>\n",
              "      <td>sports_leisure</td>\n",
              "      <td>2</td>\n",
              "    </tr>\n",
              "    <tr>\n",
              "      <th>112646</th>\n",
              "      <td>95416</td>\n",
              "      <td>32947</td>\n",
              "      <td>sports_leisure</td>\n",
              "      <td>2</td>\n",
              "    </tr>\n",
              "    <tr>\n",
              "      <th>112647</th>\n",
              "      <td>95417</td>\n",
              "      <td>32948</td>\n",
              "      <td>musical_instruments</td>\n",
              "      <td>1</td>\n",
              "    </tr>\n",
              "    <tr>\n",
              "      <th>112648</th>\n",
              "      <td>95418</td>\n",
              "      <td>32949</td>\n",
              "      <td>health_beauty</td>\n",
              "      <td>1</td>\n",
              "    </tr>\n",
              "    <tr>\n",
              "      <th>112649</th>\n",
              "      <td>95419</td>\n",
              "      <td>32950</td>\n",
              "      <td>health_beauty</td>\n",
              "      <td>1</td>\n",
              "    </tr>\n",
              "  </tbody>\n",
              "</table>\n",
              "<p>112650 rows × 4 columns</p>\n",
              "</div>"
            ],
            "text/plain": [
              "        customer_index  product_index     product_category  count\n",
              "0                    0              0           housewares      4\n",
              "1                    1              0           housewares      4\n",
              "2                    2              0           housewares      4\n",
              "3                    3              0           housewares      4\n",
              "4                    0           1104                 baby     17\n",
              "...                ...            ...                  ...    ...\n",
              "112645           95416          32947       sports_leisure      2\n",
              "112646           95416          32947       sports_leisure      2\n",
              "112647           95417          32948  musical_instruments      1\n",
              "112648           95418          32949        health_beauty      1\n",
              "112649           95419          32950        health_beauty      1\n",
              "\n",
              "[112650 rows x 4 columns]"
            ]
          },
          "execution_count": 206,
          "metadata": {},
          "output_type": "execute_result"
        }
      ],
      "source": [
        "model_input = pre_model_input[['customer_index','product_index','product_category','count']]\n",
        "model_input"
      ]
    },
    {
      "cell_type": "code",
      "execution_count": null,
      "id": "6eb0ae98",
      "metadata": {
        "id": "6eb0ae98"
      },
      "outputs": [],
      "source": [
        "from sklearn.model_selection import train_test_split\n",
        "train, test = train_test_split(model_input, test_size=0.2, random_state=42)"
      ]
    },
    {
      "cell_type": "code",
      "execution_count": null,
      "id": "548a8e0e",
      "metadata": {
        "id": "548a8e0e",
        "outputId": "ab570101-3455-456a-d2b3-e27875edac3c"
      },
      "outputs": [
        {
          "data": {
            "text/html": [
              "<div>\n",
              "<style scoped>\n",
              "    .dataframe tbody tr th:only-of-type {\n",
              "        vertical-align: middle;\n",
              "    }\n",
              "\n",
              "    .dataframe tbody tr th {\n",
              "        vertical-align: top;\n",
              "    }\n",
              "\n",
              "    .dataframe thead th {\n",
              "        text-align: right;\n",
              "    }\n",
              "</style>\n",
              "<table border=\"1\" class=\"dataframe\">\n",
              "  <thead>\n",
              "    <tr style=\"text-align: right;\">\n",
              "      <th></th>\n",
              "      <th>customer_index</th>\n",
              "      <th>product_index</th>\n",
              "      <th>product_category</th>\n",
              "      <th>count</th>\n",
              "    </tr>\n",
              "  </thead>\n",
              "  <tbody>\n",
              "    <tr>\n",
              "      <th>86547</th>\n",
              "      <td>71178</td>\n",
              "      <td>13746</td>\n",
              "      <td>stationery</td>\n",
              "      <td>1</td>\n",
              "    </tr>\n",
              "    <tr>\n",
              "      <th>7323</th>\n",
              "      <td>32074</td>\n",
              "      <td>2475</td>\n",
              "      <td>garden_tools</td>\n",
              "      <td>48</td>\n",
              "    </tr>\n",
              "    <tr>\n",
              "      <th>27237</th>\n",
              "      <td>23597</td>\n",
              "      <td>1468</td>\n",
              "      <td>garden_tools</td>\n",
              "      <td>34</td>\n",
              "    </tr>\n",
              "    <tr>\n",
              "      <th>99544</th>\n",
              "      <td>83615</td>\n",
              "      <td>21677</td>\n",
              "      <td>garden_tools</td>\n",
              "      <td>1</td>\n",
              "    </tr>\n",
              "    <tr>\n",
              "      <th>56252</th>\n",
              "      <td>40486</td>\n",
              "      <td>3845</td>\n",
              "      <td>toys</td>\n",
              "      <td>5</td>\n",
              "    </tr>\n",
              "    <tr>\n",
              "      <th>...</th>\n",
              "      <td>...</td>\n",
              "      <td>...</td>\n",
              "      <td>...</td>\n",
              "      <td>...</td>\n",
              "    </tr>\n",
              "    <tr>\n",
              "      <th>76820</th>\n",
              "      <td>61346</td>\n",
              "      <td>9442</td>\n",
              "      <td>perfumery</td>\n",
              "      <td>9</td>\n",
              "    </tr>\n",
              "    <tr>\n",
              "      <th>110268</th>\n",
              "      <td>93390</td>\n",
              "      <td>30641</td>\n",
              "      <td>bed_bath_table</td>\n",
              "      <td>1</td>\n",
              "    </tr>\n",
              "    <tr>\n",
              "      <th>103694</th>\n",
              "      <td>87463</td>\n",
              "      <td>24897</td>\n",
              "      <td>auto</td>\n",
              "      <td>1</td>\n",
              "    </tr>\n",
              "    <tr>\n",
              "      <th>860</th>\n",
              "      <td>319</td>\n",
              "      <td>10</td>\n",
              "      <td>garden_tools</td>\n",
              "      <td>113</td>\n",
              "    </tr>\n",
              "    <tr>\n",
              "      <th>15795</th>\n",
              "      <td>14392</td>\n",
              "      <td>697</td>\n",
              "      <td>art</td>\n",
              "      <td>107</td>\n",
              "    </tr>\n",
              "  </tbody>\n",
              "</table>\n",
              "<p>90120 rows × 4 columns</p>\n",
              "</div>"
            ],
            "text/plain": [
              "        customer_index  product_index product_category  count\n",
              "86547            71178          13746       stationery      1\n",
              "7323             32074           2475     garden_tools     48\n",
              "27237            23597           1468     garden_tools     34\n",
              "99544            83615          21677     garden_tools      1\n",
              "56252            40486           3845             toys      5\n",
              "...                ...            ...              ...    ...\n",
              "76820            61346           9442        perfumery      9\n",
              "110268           93390          30641   bed_bath_table      1\n",
              "103694           87463          24897             auto      1\n",
              "860                319             10     garden_tools    113\n",
              "15795            14392            697              art    107\n",
              "\n",
              "[90120 rows x 4 columns]"
            ]
          },
          "execution_count": 208,
          "metadata": {},
          "output_type": "execute_result"
        }
      ],
      "source": [
        "train"
      ]
    },
    {
      "cell_type": "code",
      "execution_count": null,
      "id": "28c10362",
      "metadata": {
        "scrolled": true,
        "id": "28c10362",
        "outputId": "fb779a27-8813-4012-bf55-9af3532daf20"
      },
      "outputs": [
        {
          "data": {
            "text/html": [
              "<div>\n",
              "<style scoped>\n",
              "    .dataframe tbody tr th:only-of-type {\n",
              "        vertical-align: middle;\n",
              "    }\n",
              "\n",
              "    .dataframe tbody tr th {\n",
              "        vertical-align: top;\n",
              "    }\n",
              "\n",
              "    .dataframe thead th {\n",
              "        text-align: right;\n",
              "    }\n",
              "</style>\n",
              "<table border=\"1\" class=\"dataframe\">\n",
              "  <thead>\n",
              "    <tr style=\"text-align: right;\">\n",
              "      <th></th>\n",
              "      <th>customer_index</th>\n",
              "      <th>product_index</th>\n",
              "      <th>product_category</th>\n",
              "      <th>count</th>\n",
              "    </tr>\n",
              "  </thead>\n",
              "  <tbody>\n",
              "    <tr>\n",
              "      <th>0</th>\n",
              "      <td>0</td>\n",
              "      <td>0</td>\n",
              "      <td>housewares</td>\n",
              "      <td>4</td>\n",
              "    </tr>\n",
              "    <tr>\n",
              "      <th>1</th>\n",
              "      <td>1</td>\n",
              "      <td>0</td>\n",
              "      <td>housewares</td>\n",
              "      <td>4</td>\n",
              "    </tr>\n",
              "    <tr>\n",
              "      <th>2</th>\n",
              "      <td>2</td>\n",
              "      <td>0</td>\n",
              "      <td>housewares</td>\n",
              "      <td>4</td>\n",
              "    </tr>\n",
              "    <tr>\n",
              "      <th>63</th>\n",
              "      <td>42</td>\n",
              "      <td>1</td>\n",
              "      <td>perfumery</td>\n",
              "      <td>106</td>\n",
              "    </tr>\n",
              "    <tr>\n",
              "      <th>80</th>\n",
              "      <td>58</td>\n",
              "      <td>1</td>\n",
              "      <td>perfumery</td>\n",
              "      <td>106</td>\n",
              "    </tr>\n",
              "    <tr>\n",
              "      <th>...</th>\n",
              "      <td>...</td>\n",
              "      <td>...</td>\n",
              "      <td>...</td>\n",
              "      <td>...</td>\n",
              "    </tr>\n",
              "    <tr>\n",
              "      <th>112646</th>\n",
              "      <td>95416</td>\n",
              "      <td>32947</td>\n",
              "      <td>sports_leisure</td>\n",
              "      <td>2</td>\n",
              "    </tr>\n",
              "    <tr>\n",
              "      <th>112645</th>\n",
              "      <td>95416</td>\n",
              "      <td>32947</td>\n",
              "      <td>sports_leisure</td>\n",
              "      <td>2</td>\n",
              "    </tr>\n",
              "    <tr>\n",
              "      <th>112647</th>\n",
              "      <td>95417</td>\n",
              "      <td>32948</td>\n",
              "      <td>musical_instruments</td>\n",
              "      <td>1</td>\n",
              "    </tr>\n",
              "    <tr>\n",
              "      <th>112648</th>\n",
              "      <td>95418</td>\n",
              "      <td>32949</td>\n",
              "      <td>health_beauty</td>\n",
              "      <td>1</td>\n",
              "    </tr>\n",
              "    <tr>\n",
              "      <th>112649</th>\n",
              "      <td>95419</td>\n",
              "      <td>32950</td>\n",
              "      <td>health_beauty</td>\n",
              "      <td>1</td>\n",
              "    </tr>\n",
              "  </tbody>\n",
              "</table>\n",
              "<p>90120 rows × 4 columns</p>\n",
              "</div>"
            ],
            "text/plain": [
              "        customer_index  product_index     product_category  count\n",
              "0                    0              0           housewares      4\n",
              "1                    1              0           housewares      4\n",
              "2                    2              0           housewares      4\n",
              "63                  42              1            perfumery    106\n",
              "80                  58              1            perfumery    106\n",
              "...                ...            ...                  ...    ...\n",
              "112646           95416          32947       sports_leisure      2\n",
              "112645           95416          32947       sports_leisure      2\n",
              "112647           95417          32948  musical_instruments      1\n",
              "112648           95418          32949        health_beauty      1\n",
              "112649           95419          32950        health_beauty      1\n",
              "\n",
              "[90120 rows x 4 columns]"
            ]
          },
          "execution_count": 209,
          "metadata": {},
          "output_type": "execute_result"
        }
      ],
      "source": [
        "train.sort_values('product_index')"
      ]
    },
    {
      "cell_type": "code",
      "execution_count": null,
      "id": "d668b4b1",
      "metadata": {
        "id": "d668b4b1",
        "outputId": "4ef8dd12-2e88-4bc7-b0fd-ac954be4d462"
      },
      "outputs": [
        {
          "data": {
            "text/html": [
              "<div>\n",
              "<style scoped>\n",
              "    .dataframe tbody tr th:only-of-type {\n",
              "        vertical-align: middle;\n",
              "    }\n",
              "\n",
              "    .dataframe tbody tr th {\n",
              "        vertical-align: top;\n",
              "    }\n",
              "\n",
              "    .dataframe thead th {\n",
              "        text-align: right;\n",
              "    }\n",
              "</style>\n",
              "<table border=\"1\" class=\"dataframe\">\n",
              "  <thead>\n",
              "    <tr style=\"text-align: right;\">\n",
              "      <th></th>\n",
              "      <th>customer_index</th>\n",
              "      <th>product_index</th>\n",
              "      <th>product_category</th>\n",
              "      <th>count</th>\n",
              "    </tr>\n",
              "  </thead>\n",
              "  <tbody>\n",
              "    <tr>\n",
              "      <th>69935</th>\n",
              "      <td>54235</td>\n",
              "      <td>7128</td>\n",
              "      <td>watches_gifts</td>\n",
              "      <td>3</td>\n",
              "    </tr>\n",
              "    <tr>\n",
              "      <th>41071</th>\n",
              "      <td>24963</td>\n",
              "      <td>1608</td>\n",
              "      <td>furniture_decor</td>\n",
              "      <td>8</td>\n",
              "    </tr>\n",
              "    <tr>\n",
              "      <th>54370</th>\n",
              "      <td>38684</td>\n",
              "      <td>3500</td>\n",
              "      <td>pet_shop</td>\n",
              "      <td>41</td>\n",
              "    </tr>\n",
              "    <tr>\n",
              "      <th>70913</th>\n",
              "      <td>55314</td>\n",
              "      <td>7454</td>\n",
              "      <td>pet_shop</td>\n",
              "      <td>10</td>\n",
              "    </tr>\n",
              "    <tr>\n",
              "      <th>101969</th>\n",
              "      <td>85858</td>\n",
              "      <td>23483</td>\n",
              "      <td>sports_leisure</td>\n",
              "      <td>2</td>\n",
              "    </tr>\n",
              "  </tbody>\n",
              "</table>\n",
              "</div>"
            ],
            "text/plain": [
              "        customer_index  product_index product_category  count\n",
              "69935            54235           7128    watches_gifts      3\n",
              "41071            24963           1608  furniture_decor      8\n",
              "54370            38684           3500         pet_shop     41\n",
              "70913            55314           7454         pet_shop     10\n",
              "101969           85858          23483   sports_leisure      2"
            ]
          },
          "execution_count": 210,
          "metadata": {},
          "output_type": "execute_result"
        }
      ],
      "source": [
        "test.sample(5)"
      ]
    },
    {
      "cell_type": "code",
      "execution_count": null,
      "id": "e6738a29",
      "metadata": {
        "id": "e6738a29"
      },
      "outputs": [],
      "source": [
        "customer_id = np.array(train.customer_index)"
      ]
    },
    {
      "cell_type": "markdown",
      "id": "3a551567",
      "metadata": {
        "id": "3a551567"
      },
      "source": [
        "## MODEL\n"
      ]
    },
    {
      "cell_type": "code",
      "execution_count": null,
      "id": "d587da6d",
      "metadata": {
        "id": "d587da6d"
      },
      "outputs": [],
      "source": [
        "# !pip install tensorflow\n",
        "# !pip install wandb\n",
        "import wandb\n",
        "from wandb.keras import WandbCallback\n"
      ]
    },
    {
      "cell_type": "code",
      "execution_count": null,
      "id": "1f4fc90e",
      "metadata": {
        "colab": {
          "referenced_widgets": [
            "64409227de194210a53db2360d3630e7"
          ]
        },
        "id": "1f4fc90e",
        "outputId": "35c5209e-1d59-491c-f1d4-7e1387c27301"
      },
      "outputs": [
        {
          "data": {
            "text/html": [
              "Finishing last run (ID:1jcd7ai6) before initializing another..."
            ],
            "text/plain": [
              "<IPython.core.display.HTML object>"
            ]
          },
          "metadata": {},
          "output_type": "display_data"
        },
        {
          "data": {
            "text/html": [
              "Waiting for W&B process to finish... <strong style=\"color:green\">(success).</strong>"
            ],
            "text/plain": [
              "<IPython.core.display.HTML object>"
            ]
          },
          "metadata": {},
          "output_type": "display_data"
        },
        {
          "data": {
            "application/vnd.jupyter.widget-view+json": {
              "model_id": "64409227de194210a53db2360d3630e7",
              "version_major": 2,
              "version_minor": 0
            },
            "text/plain": [
              "VBox(children=(Label(value='0.002 MB of 0.002 MB uploaded (0.000 MB deduped)\\r'), FloatProgress(value=1.0, max…"
            ]
          },
          "metadata": {},
          "output_type": "display_data"
        },
        {
          "data": {
            "text/html": [
              "<style>\n",
              "    table.wandb td:nth-child(1) { padding: 0 10px; text-align: left ; width: auto;} td:nth-child(2) {text-align: left ; width: 100%}\n",
              "    .wandb-row { display: flex; flex-direction: row; flex-wrap: wrap; justify-content: flex-start; width: 100% }\n",
              "    .wandb-col { display: flex; flex-direction: column; flex-basis: 100%; flex: 1; padding: 10px; }\n",
              "    </style>\n",
              "<div class=\"wandb-row\"><div class=\"wandb-col\"><h3>Run history:</h3><br/><table class=\"wandb\"><tr><td>epoch</td><td>▁▁▁▁▂▂▂▂▂▃▃▃▃▃▃▄▄▄▄▄▅▅▅▅▅▅▆▆▆▆▆▇▇▇▇▇▇███</td></tr><tr><td>loss</td><td>█▂▂▂▁▁▁▁▁▁▁▁▁▁▁▁▁▁▁▁▁▁▁▁▁▁▁▁▁▁▁▁▁▁▁▁▁▁▁▁</td></tr></table><br/></div><div class=\"wandb-col\"><h3>Run summary:</h3><br/><table class=\"wandb\"><tr><td>epoch</td><td>99</td></tr><tr><td>loss</td><td>47.41483</td></tr></table><br/></div></div>"
            ],
            "text/plain": [
              "<IPython.core.display.HTML object>"
            ]
          },
          "metadata": {},
          "output_type": "display_data"
        },
        {
          "data": {
            "text/html": [
              "Synced <strong style=\"color:#cdcd00\">serene-terrain-17</strong>: <a href=\"https://wandb.ai/anakbangkit/customer-product-voucher/runs/1jcd7ai6\" target=\"_blank\">https://wandb.ai/anakbangkit/customer-product-voucher/runs/1jcd7ai6</a><br/>Synced 6 W&B file(s), 1 media file(s), 0 artifact file(s) and 0 other file(s)"
            ],
            "text/plain": [
              "<IPython.core.display.HTML object>"
            ]
          },
          "metadata": {},
          "output_type": "display_data"
        },
        {
          "data": {
            "text/html": [
              "Find logs at: <code>.\\wandb\\run-20220615_111322-1jcd7ai6\\logs</code>"
            ],
            "text/plain": [
              "<IPython.core.display.HTML object>"
            ]
          },
          "metadata": {},
          "output_type": "display_data"
        },
        {
          "data": {
            "text/html": [
              "Successfully finished last run (ID:1jcd7ai6). Initializing new run:<br/>"
            ],
            "text/plain": [
              "<IPython.core.display.HTML object>"
            ]
          },
          "metadata": {},
          "output_type": "display_data"
        },
        {
          "data": {
            "text/html": [
              "wandb version 0.12.18 is available!  To upgrade, please run:\n",
              " $ pip install wandb --upgrade"
            ],
            "text/plain": [
              "<IPython.core.display.HTML object>"
            ]
          },
          "metadata": {},
          "output_type": "display_data"
        },
        {
          "data": {
            "text/html": [
              "Tracking run with wandb version 0.12.17"
            ],
            "text/plain": [
              "<IPython.core.display.HTML object>"
            ]
          },
          "metadata": {},
          "output_type": "display_data"
        },
        {
          "data": {
            "text/html": [
              "Run data is saved locally in <code>C:\\Users\\LENOVO\\Capstone\\wandb\\run-20220615_135240-3jfzflbk</code>"
            ],
            "text/plain": [
              "<IPython.core.display.HTML object>"
            ]
          },
          "metadata": {},
          "output_type": "display_data"
        },
        {
          "data": {
            "text/html": [
              "Syncing run <strong><a href=\"https://wandb.ai/anakbangkit/customer-product-voucher/runs/3jfzflbk\" target=\"_blank\">treasured-shadow-18</a></strong> to <a href=\"https://wandb.ai/anakbangkit/customer-product-voucher\" target=\"_blank\">Weights & Biases</a> (<a href=\"https://wandb.me/run\" target=\"_blank\">docs</a>)<br/>"
            ],
            "text/plain": [
              "<IPython.core.display.HTML object>"
            ]
          },
          "metadata": {},
          "output_type": "display_data"
        }
      ],
      "source": [
        "wandb.init(project=\"customer-product-voucher\", entity=\"anakbangkit\",reinit=True)\n",
        "config = wandb.config"
      ]
    },
    {
      "cell_type": "code",
      "execution_count": null,
      "id": "daeb9195",
      "metadata": {
        "id": "daeb9195"
      },
      "outputs": [],
      "source": [
        "config.test_size = 0.2\n",
        "config.fc1 = 128\n",
        "config.fc2 = 64\n",
        "config.fc3 = 32\n",
        "config.denseout = 1\n",
        "config.epochs = 1000\n",
        "config.useBias = False\n",
        "config.kernel_regularizer = True\n",
        "config.embedding_dimension = 8\n",
        "config.denseLayer = False\n",
        "config.batchsize = 8192"
      ]
    },
    {
      "cell_type": "code",
      "execution_count": null,
      "id": "f70f9396",
      "metadata": {
        "id": "f70f9396"
      },
      "outputs": [],
      "source": [
        "import numpy as np\n",
        "import pandas as pd\n",
        "import matplotlib.pyplot as plt\n",
        "import os\n",
        "import warnings\n",
        "import tensorflow as tf\n",
        "from keras.layers import Input, Embedding, Flatten, Dot, Dense, Concatenate\n",
        "from keras.models import Model"
      ]
    },
    {
      "cell_type": "code",
      "execution_count": null,
      "id": "97e899bf",
      "metadata": {
        "id": "97e899bf",
        "outputId": "962bf37d-a236-4738-9718-171e2ae94bfb"
      },
      "outputs": [
        {
          "name": "stdout",
          "output_type": "stream",
          "text": [
            "32951 95420\n"
          ]
        }
      ],
      "source": [
        "n_product = len(model_input.product_index.value_counts())\n",
        "n_users = len(model_input.customer_index.value_counts())\n",
        "print(n_product, n_users)\n"
      ]
    },
    {
      "cell_type": "code",
      "execution_count": null,
      "id": "22ed9b0d",
      "metadata": {
        "id": "22ed9b0d"
      },
      "outputs": [],
      "source": [
        "# creating product embedding path\n",
        "product_input = Input(shape=[1], name=\"Product-Input\")\n",
        "product_embedding = Embedding(n_product+1, 8, name=\"Product-Embedding\")(product_input)\n",
        "product_embedding.embeddings_regularizer = tf.keras.regularizers.L1(0.01)\n",
        "product_vec = Flatten(name=\"Flatten-Product\")(product_embedding)\n",
        "\n",
        "# creating user embedding path\n",
        "user_input = Input(shape=[1], name=\"User-Input\")\n",
        "user_embedding = Embedding(n_users+1, 8, name=\"User-Embedding\")(user_input)\n",
        "user_embedding.embeddings_regularizer = tf.keras.regularizers.L1(0.01)\n",
        "user_vec = Flatten(name=\"Flatten-Users\")(user_embedding)\n",
        "\n",
        "# # concatenate features\n",
        "conc = Concatenate()([product_vec, user_vec])\n",
        "\n",
        "# dot product matrix\n",
        "# dot_user_products = Dot(1)([user_vec, product_vec]) \n",
        "\n",
        "# add fully-connected-layers\n",
        "fc1 = Dense(config.fc1, activation='relu', use_bias= config.useBias)(conc)\n",
        "fc2 = Dense(config.fc2, activation='relu', use_bias= config.useBias)(fc1)\n",
        "fc3 = Dense(config.fc3, activation='relu', use_bias= config.useBias)(fc2)\n",
        "out = Dense(1, use_bias= config.useBias)(fc3)\n",
        "\n"
      ]
    },
    {
      "cell_type": "code",
      "execution_count": null,
      "id": "07633d8c",
      "metadata": {
        "id": "07633d8c"
      },
      "outputs": [],
      "source": [
        "# Create model and compile it\n",
        "model = Model([user_input, product_input],out)\n",
        "model.compile('adam', 'mean_squared_error')"
      ]
    },
    {
      "cell_type": "code",
      "execution_count": null,
      "id": "c1b66fbf",
      "metadata": {
        "scrolled": false,
        "id": "c1b66fbf",
        "outputId": "5660dc03-9ef8-428d-acf6-0b4241e0078f"
      },
      "outputs": [
        {
          "name": "stdout",
          "output_type": "stream",
          "text": [
            "Model: \"model_6\"\n",
            "__________________________________________________________________________________________________\n",
            " Layer (type)                   Output Shape         Param #     Connected to                     \n",
            "==================================================================================================\n",
            " User-Input (InputLayer)        [(None, 1)]          0           []                               \n",
            "                                                                                                  \n",
            " Product-Input (InputLayer)     [(None, 1)]          0           []                               \n",
            "                                                                                                  \n",
            " User-Embedding (Embedding)     (None, 1, 8)         763368      ['User-Input[0][0]']             \n",
            "                                                                                                  \n",
            " Product-Embedding (Embedding)  (None, 1, 8)         263616      ['Product-Input[0][0]']          \n",
            "                                                                                                  \n",
            " Flatten-Users (Flatten)        (None, 8)            0           ['User-Embedding[0][0]']         \n",
            "                                                                                                  \n",
            " Flatten-Product (Flatten)      (None, 8)            0           ['Product-Embedding[0][0]']      \n",
            "                                                                                                  \n",
            " dot_6 (Dot)                    (None, 1)            0           ['Flatten-Users[0][0]',          \n",
            "                                                                  'Flatten-Product[0][0]']        \n",
            "                                                                                                  \n",
            " dense_22 (Dense)               (None, 1)            1           ['dot_6[0][0]']                  \n",
            "                                                                                                  \n",
            "==================================================================================================\n",
            "Total params: 1,026,985\n",
            "Trainable params: 1,026,985\n",
            "Non-trainable params: 0\n",
            "__________________________________________________________________________________________________\n"
          ]
        }
      ],
      "source": [
        "model.summary()"
      ]
    },
    {
      "cell_type": "code",
      "execution_count": null,
      "id": "b1e084fe",
      "metadata": {
        "id": "b1e084fe",
        "outputId": "27158a48-687c-4ba5-df94-8da5683a1eba"
      },
      "outputs": [
        {
          "data": {
            "text/plain": [
              "array([13746,  2475,  1468, ..., 24897,    10,   697], dtype=int64)"
            ]
          },
          "execution_count": 168,
          "metadata": {},
          "output_type": "execute_result"
        }
      ],
      "source": [
        "customer_input = np.array(train.customer_index)\n",
        "product_id = np.array(train.product_index)\n",
        "count = np.array(train['count'].values)\n",
        "product_id"
      ]
    },
    {
      "cell_type": "code",
      "execution_count": null,
      "id": "72ce5f3f",
      "metadata": {
        "id": "72ce5f3f",
        "outputId": "04a80b97-f456-4e4d-fb1e-9a0fc06abfa0"
      },
      "outputs": [
        {
          "data": {
            "text/plain": [
              "array([13746,  2475,  1468, ..., 24897,    10,   697], dtype=int64)"
            ]
          },
          "execution_count": 169,
          "metadata": {},
          "output_type": "execute_result"
        }
      ],
      "source": [
        "product_id"
      ]
    },
    {
      "cell_type": "code",
      "execution_count": null,
      "id": "31340a05",
      "metadata": {
        "scrolled": true,
        "id": "31340a05",
        "outputId": "07d81bfd-cc05-4245-b43b-96c86af6d681"
      },
      "outputs": [
        {
          "name": "stdout",
          "output_type": "stream",
          "text": [
            "Epoch 1/1000\n",
            "12/12 [==============================] - 1s 12ms/step - loss: 7997.3838 - _timestamp: 1655276227.0000 - _runtime: 261.0000\n",
            "Epoch 2/1000\n",
            "12/12 [==============================] - 0s 13ms/step - loss: 7997.2871 - _timestamp: 1655276227.0000 - _runtime: 261.0000\n",
            "Epoch 3/1000\n",
            "12/12 [==============================] - 0s 13ms/step - loss: 7997.1680 - _timestamp: 1655276228.0000 - _runtime: 262.0000\n",
            "Epoch 4/1000\n",
            "12/12 [==============================] - 0s 12ms/step - loss: 7996.9805 - _timestamp: 1655276228.0000 - _runtime: 262.0000\n",
            "Epoch 5/1000\n",
            "12/12 [==============================] - 0s 12ms/step - loss: 7996.6929 - _timestamp: 1655276228.0000 - _runtime: 262.0000\n",
            "Epoch 6/1000\n",
            "12/12 [==============================] - 0s 12ms/step - loss: 7996.2695 - _timestamp: 1655276228.0000 - _runtime: 262.0000\n",
            "Epoch 7/1000\n",
            "12/12 [==============================] - 0s 12ms/step - loss: 7995.6836 - _timestamp: 1655276228.0000 - _runtime: 262.0000\n",
            "Epoch 8/1000\n",
            "12/12 [==============================] - 0s 13ms/step - loss: 7994.9097 - _timestamp: 1655276228.0000 - _runtime: 262.0000\n",
            "Epoch 9/1000\n",
            "12/12 [==============================] - 0s 12ms/step - loss: 7993.9316 - _timestamp: 1655276229.0000 - _runtime: 263.0000\n",
            "Epoch 10/1000\n",
            "12/12 [==============================] - 0s 17ms/step - loss: 7992.7412 - _timestamp: 1655276229.0000 - _runtime: 263.0000\n",
            "Epoch 11/1000\n",
            "12/12 [==============================] - 0s 14ms/step - loss: 7991.3198 - _timestamp: 1655276229.0000 - _runtime: 263.0000\n",
            "Epoch 12/1000\n",
            "12/12 [==============================] - 0s 16ms/step - loss: 7989.6431 - _timestamp: 1655276229.0000 - _runtime: 263.0000\n",
            "Epoch 13/1000\n",
            "12/12 [==============================] - 0s 13ms/step - loss: 7987.7148 - _timestamp: 1655276229.0000 - _runtime: 263.0000\n",
            "Epoch 14/1000\n",
            "12/12 [==============================] - 0s 13ms/step - loss: 7985.5703 - _timestamp: 1655276229.0000 - _runtime: 263.0000\n",
            "Epoch 15/1000\n",
            "12/12 [==============================] - 0s 14ms/step - loss: 7983.1763 - _timestamp: 1655276230.0000 - _runtime: 264.0000\n",
            "Epoch 16/1000\n",
            "12/12 [==============================] - 0s 13ms/step - loss: 7980.5332 - _timestamp: 1655276230.0000 - _runtime: 264.0000\n",
            "Epoch 17/1000\n",
            "12/12 [==============================] - 0s 12ms/step - loss: 7977.6191 - _timestamp: 1655276230.0000 - _runtime: 264.0000\n",
            "Epoch 18/1000\n",
            "12/12 [==============================] - 0s 12ms/step - loss: 7974.4478 - _timestamp: 1655276230.0000 - _runtime: 264.0000\n",
            "Epoch 19/1000\n",
            "12/12 [==============================] - 0s 13ms/step - loss: 7970.9458 - _timestamp: 1655276230.0000 - _runtime: 264.0000\n",
            "Epoch 20/1000\n",
            "12/12 [==============================] - 0s 12ms/step - loss: 7967.1885 - _timestamp: 1655276230.0000 - _runtime: 264.0000\n",
            "Epoch 21/1000\n",
            "12/12 [==============================] - 0s 12ms/step - loss: 7963.1128 - _timestamp: 1655276231.0000 - _runtime: 265.0000\n",
            "Epoch 22/1000\n",
            "12/12 [==============================] - 0s 14ms/step - loss: 7958.6870 - _timestamp: 1655276231.0000 - _runtime: 265.0000\n",
            "Epoch 23/1000\n",
            "12/12 [==============================] - 0s 13ms/step - loss: 7953.9546 - _timestamp: 1655276231.0000 - _runtime: 265.0000\n",
            "Epoch 24/1000\n",
            "12/12 [==============================] - 0s 12ms/step - loss: 7948.8755 - _timestamp: 1655276231.0000 - _runtime: 265.0000\n",
            "Epoch 25/1000\n",
            "12/12 [==============================] - 0s 13ms/step - loss: 7943.4404 - _timestamp: 1655276231.0000 - _runtime: 265.0000\n",
            "Epoch 26/1000\n",
            "12/12 [==============================] - 0s 12ms/step - loss: 7937.6123 - _timestamp: 1655276231.0000 - _runtime: 265.0000\n",
            "Epoch 27/1000\n",
            "12/12 [==============================] - 0s 12ms/step - loss: 7931.4541 - _timestamp: 1655276231.0000 - _runtime: 265.0000\n",
            "Epoch 28/1000\n",
            "12/12 [==============================] - 0s 12ms/step - loss: 7924.8350 - _timestamp: 1655276232.0000 - _runtime: 266.0000\n",
            "Epoch 29/1000\n",
            "12/12 [==============================] - 0s 14ms/step - loss: 7917.8804 - _timestamp: 1655276232.0000 - _runtime: 266.0000\n",
            "Epoch 30/1000\n",
            "12/12 [==============================] - 0s 13ms/step - loss: 7910.6372 - _timestamp: 1655276232.0000 - _runtime: 266.0000\n",
            "Epoch 31/1000\n",
            "12/12 [==============================] - 0s 12ms/step - loss: 7903.1821 - _timestamp: 1655276232.0000 - _runtime: 266.0000\n",
            "Epoch 32/1000\n",
            "12/12 [==============================] - 0s 12ms/step - loss: 7895.3970 - _timestamp: 1655276232.0000 - _runtime: 266.0000\n",
            "Epoch 33/1000\n",
            "12/12 [==============================] - 0s 12ms/step - loss: 7887.2778 - _timestamp: 1655276232.0000 - _runtime: 266.0000\n",
            "Epoch 34/1000\n",
            "12/12 [==============================] - 0s 12ms/step - loss: 7878.7031 - _timestamp: 1655276232.0000 - _runtime: 266.0000\n",
            "Epoch 35/1000\n",
            "12/12 [==============================] - 0s 13ms/step - loss: 7869.8140 - _timestamp: 1655276233.0000 - _runtime: 267.0000\n",
            "Epoch 36/1000\n",
            "12/12 [==============================] - 0s 12ms/step - loss: 7860.5322 - _timestamp: 1655276233.0000 - _runtime: 267.0000\n",
            "Epoch 37/1000\n",
            "12/12 [==============================] - 0s 12ms/step - loss: 7850.9272 - _timestamp: 1655276233.0000 - _runtime: 267.0000\n",
            "Epoch 38/1000\n",
            "12/12 [==============================] - 0s 12ms/step - loss: 7840.8813 - _timestamp: 1655276233.0000 - _runtime: 267.0000\n",
            "Epoch 39/1000\n",
            "12/12 [==============================] - 0s 12ms/step - loss: 7830.5127 - _timestamp: 1655276233.0000 - _runtime: 267.0000\n",
            "Epoch 40/1000\n",
            "12/12 [==============================] - 0s 13ms/step - loss: 7819.6143 - _timestamp: 1655276233.0000 - _runtime: 267.0000\n",
            "Epoch 41/1000\n",
            "12/12 [==============================] - 0s 12ms/step - loss: 7808.5391 - _timestamp: 1655276234.0000 - _runtime: 268.0000\n",
            "Epoch 42/1000\n",
            "12/12 [==============================] - 0s 13ms/step - loss: 7797.2866 - _timestamp: 1655276234.0000 - _runtime: 268.0000\n",
            "Epoch 43/1000\n",
            "12/12 [==============================] - 0s 13ms/step - loss: 7785.7397 - _timestamp: 1655276234.0000 - _runtime: 268.0000\n",
            "Epoch 44/1000\n",
            "12/12 [==============================] - 0s 12ms/step - loss: 7773.7642 - _timestamp: 1655276234.0000 - _runtime: 268.0000\n",
            "Epoch 45/1000\n",
            "12/12 [==============================] - 0s 12ms/step - loss: 7761.3862 - _timestamp: 1655276234.0000 - _runtime: 268.0000\n",
            "Epoch 46/1000\n",
            "12/12 [==============================] - 0s 12ms/step - loss: 7748.5771 - _timestamp: 1655276234.0000 - _runtime: 268.0000\n",
            "Epoch 47/1000\n",
            "12/12 [==============================] - 0s 13ms/step - loss: 7735.2280 - _timestamp: 1655276234.0000 - _runtime: 268.0000\n",
            "Epoch 48/1000\n",
            "12/12 [==============================] - 0s 14ms/step - loss: 7721.6055 - _timestamp: 1655276235.0000 - _runtime: 269.0000\n",
            "Epoch 49/1000\n",
            "12/12 [==============================] - 0s 16ms/step - loss: 7707.4380 - _timestamp: 1655276235.0000 - _runtime: 269.0000\n",
            "Epoch 50/1000\n",
            "12/12 [==============================] - 0s 17ms/step - loss: 7692.8120 - _timestamp: 1655276235.0000 - _runtime: 269.0000\n",
            "Epoch 51/1000\n",
            "12/12 [==============================] - 0s 15ms/step - loss: 7678.2012 - _timestamp: 1655276235.0000 - _runtime: 269.0000\n",
            "Epoch 52/1000\n",
            "12/12 [==============================] - 0s 15ms/step - loss: 7663.4233 - _timestamp: 1655276235.0000 - _runtime: 269.0000\n",
            "Epoch 53/1000\n",
            "12/12 [==============================] - 0s 12ms/step - loss: 7648.3130 - _timestamp: 1655276236.0000 - _runtime: 270.0000\n",
            "Epoch 54/1000\n",
            "12/12 [==============================] - 0s 13ms/step - loss: 7633.0098 - _timestamp: 1655276236.0000 - _runtime: 270.0000\n",
            "Epoch 55/1000\n",
            "12/12 [==============================] - 0s 12ms/step - loss: 7617.1953 - _timestamp: 1655276236.0000 - _runtime: 270.0000\n",
            "Epoch 56/1000\n",
            "12/12 [==============================] - 0s 13ms/step - loss: 7600.9692 - _timestamp: 1655276236.0000 - _runtime: 270.0000\n",
            "Epoch 57/1000\n",
            "12/12 [==============================] - 0s 13ms/step - loss: 7584.2329 - _timestamp: 1655276236.0000 - _runtime: 270.0000\n",
            "Epoch 58/1000\n",
            "12/12 [==============================] - 0s 13ms/step - loss: 7566.9014 - _timestamp: 1655276236.0000 - _runtime: 270.0000\n",
            "Epoch 59/1000\n",
            "12/12 [==============================] - 0s 13ms/step - loss: 7549.5288 - _timestamp: 1655276237.0000 - _runtime: 271.0000\n",
            "Epoch 60/1000\n",
            "12/12 [==============================] - 0s 14ms/step - loss: 7532.0903 - _timestamp: 1655276237.0000 - _runtime: 271.0000\n"
          ]
        },
        {
          "name": "stdout",
          "output_type": "stream",
          "text": [
            "Epoch 61/1000\n",
            "12/12 [==============================] - 0s 13ms/step - loss: 7514.2002 - _timestamp: 1655276237.0000 - _runtime: 271.0000\n",
            "Epoch 62/1000\n",
            "12/12 [==============================] - 0s 13ms/step - loss: 7496.1089 - _timestamp: 1655276237.0000 - _runtime: 271.0000\n",
            "Epoch 63/1000\n",
            "12/12 [==============================] - 0s 13ms/step - loss: 7477.5522 - _timestamp: 1655276237.0000 - _runtime: 271.0000\n",
            "Epoch 64/1000\n",
            "12/12 [==============================] - 0s 13ms/step - loss: 7458.7412 - _timestamp: 1655276237.0000 - _runtime: 271.0000\n",
            "Epoch 65/1000\n",
            "12/12 [==============================] - 0s 13ms/step - loss: 7439.5542 - _timestamp: 1655276237.0000 - _runtime: 271.0000\n",
            "Epoch 66/1000\n",
            "12/12 [==============================] - 0s 14ms/step - loss: 7419.5415 - _timestamp: 1655276238.0000 - _runtime: 272.0000\n",
            "Epoch 67/1000\n",
            "12/12 [==============================] - 0s 14ms/step - loss: 7399.2642 - _timestamp: 1655276238.0000 - _runtime: 272.0000\n",
            "Epoch 68/1000\n",
            "12/12 [==============================] - 0s 15ms/step - loss: 7378.8042 - _timestamp: 1655276238.0000 - _runtime: 272.0000\n",
            "Epoch 69/1000\n",
            "12/12 [==============================] - 0s 13ms/step - loss: 7358.2695 - _timestamp: 1655276238.0000 - _runtime: 272.0000\n",
            "Epoch 70/1000\n",
            "12/12 [==============================] - 0s 13ms/step - loss: 7337.3408 - _timestamp: 1655276238.0000 - _runtime: 272.0000\n",
            "Epoch 71/1000\n",
            "12/12 [==============================] - 0s 13ms/step - loss: 7315.6958 - _timestamp: 1655276238.0000 - _runtime: 272.0000\n",
            "Epoch 72/1000\n",
            "12/12 [==============================] - 0s 14ms/step - loss: 7293.2744 - _timestamp: 1655276239.0000 - _runtime: 273.0000\n",
            "Epoch 73/1000\n",
            "12/12 [==============================] - 0s 14ms/step - loss: 7271.0840 - _timestamp: 1655276239.0000 - _runtime: 273.0000\n",
            "Epoch 74/1000\n",
            "12/12 [==============================] - 0s 13ms/step - loss: 7248.7246 - _timestamp: 1655276239.0000 - _runtime: 273.0000\n",
            "Epoch 75/1000\n",
            "12/12 [==============================] - 0s 13ms/step - loss: 7225.5537 - _timestamp: 1655276239.0000 - _runtime: 273.0000\n",
            "Epoch 76/1000\n",
            "12/12 [==============================] - 0s 13ms/step - loss: 7202.3506 - _timestamp: 1655276239.0000 - _runtime: 273.0000\n",
            "Epoch 77/1000\n",
            "12/12 [==============================] - 0s 13ms/step - loss: 7178.7959 - _timestamp: 1655276239.0000 - _runtime: 273.0000\n",
            "Epoch 78/1000\n",
            "12/12 [==============================] - 0s 14ms/step - loss: 7154.4517 - _timestamp: 1655276240.0000 - _runtime: 274.0000\n",
            "Epoch 79/1000\n",
            "12/12 [==============================] - 0s 13ms/step - loss: 7130.8110 - _timestamp: 1655276240.0000 - _runtime: 274.0000\n",
            "Epoch 80/1000\n",
            "12/12 [==============================] - 0s 13ms/step - loss: 7106.4751 - _timestamp: 1655276240.0000 - _runtime: 274.0000\n",
            "Epoch 81/1000\n",
            "12/12 [==============================] - 0s 13ms/step - loss: 7082.3223 - _timestamp: 1655276240.0000 - _runtime: 274.0000\n",
            "Epoch 82/1000\n",
            "12/12 [==============================] - 0s 13ms/step - loss: 7058.7588 - _timestamp: 1655276240.0000 - _runtime: 274.0000\n",
            "Epoch 83/1000\n",
            "12/12 [==============================] - 0s 13ms/step - loss: 7035.2290 - _timestamp: 1655276240.0000 - _runtime: 274.0000\n",
            "Epoch 84/1000\n",
            "12/12 [==============================] - 0s 15ms/step - loss: 7011.2407 - _timestamp: 1655276241.0000 - _runtime: 275.0000\n",
            "Epoch 85/1000\n",
            "12/12 [==============================] - 0s 13ms/step - loss: 6986.8940 - _timestamp: 1655276241.0000 - _runtime: 275.0000\n",
            "Epoch 86/1000\n",
            "12/12 [==============================] - 0s 13ms/step - loss: 6962.6050 - _timestamp: 1655276241.0000 - _runtime: 275.0000\n",
            "Epoch 87/1000\n",
            "12/12 [==============================] - 0s 14ms/step - loss: 6937.4663 - _timestamp: 1655276241.0000 - _runtime: 275.0000\n",
            "Epoch 88/1000\n",
            "12/12 [==============================] - 0s 13ms/step - loss: 6911.5107 - _timestamp: 1655276241.0000 - _runtime: 275.0000\n",
            "Epoch 89/1000\n",
            "12/12 [==============================] - 0s 13ms/step - loss: 6885.7451 - _timestamp: 1655276241.0000 - _runtime: 275.0000\n",
            "Epoch 90/1000\n",
            "12/12 [==============================] - 0s 14ms/step - loss: 6860.4629 - _timestamp: 1655276242.0000 - _runtime: 276.0000\n",
            "Epoch 91/1000\n",
            "12/12 [==============================] - 0s 13ms/step - loss: 6835.0913 - _timestamp: 1655276242.0000 - _runtime: 276.0000\n",
            "Epoch 92/1000\n",
            "12/12 [==============================] - 0s 15ms/step - loss: 6809.4990 - _timestamp: 1655276242.0000 - _runtime: 276.0000\n",
            "Epoch 93/1000\n",
            "12/12 [==============================] - 0s 13ms/step - loss: 6783.7354 - _timestamp: 1655276242.0000 - _runtime: 276.0000\n",
            "Epoch 94/1000\n",
            "12/12 [==============================] - 0s 13ms/step - loss: 6757.6875 - _timestamp: 1655276242.0000 - _runtime: 276.0000\n",
            "Epoch 95/1000\n",
            "12/12 [==============================] - 0s 14ms/step - loss: 6731.3384 - _timestamp: 1655276242.0000 - _runtime: 276.0000\n",
            "Epoch 96/1000\n",
            "12/12 [==============================] - 0s 15ms/step - loss: 6704.5161 - _timestamp: 1655276243.0000 - _runtime: 277.0000\n",
            "Epoch 97/1000\n",
            "12/12 [==============================] - 0s 13ms/step - loss: 6677.5259 - _timestamp: 1655276243.0000 - _runtime: 277.0000\n",
            "Epoch 98/1000\n",
            "12/12 [==============================] - 0s 14ms/step - loss: 6650.2241 - _timestamp: 1655276243.0000 - _runtime: 277.0000\n",
            "Epoch 99/1000\n",
            "12/12 [==============================] - 0s 13ms/step - loss: 6622.8154 - _timestamp: 1655276243.0000 - _runtime: 277.0000\n",
            "Epoch 100/1000\n",
            "12/12 [==============================] - 0s 13ms/step - loss: 6594.6094 - _timestamp: 1655276243.0000 - _runtime: 277.0000\n",
            "Epoch 101/1000\n",
            "12/12 [==============================] - 0s 13ms/step - loss: 6566.4478 - _timestamp: 1655276243.0000 - _runtime: 277.0000\n",
            "Epoch 102/1000\n",
            "12/12 [==============================] - 0s 13ms/step - loss: 6537.2422 - _timestamp: 1655276244.0000 - _runtime: 278.0000\n",
            "Epoch 103/1000\n",
            "12/12 [==============================] - 0s 14ms/step - loss: 6507.1416 - _timestamp: 1655276244.0000 - _runtime: 278.0000\n",
            "Epoch 104/1000\n",
            "12/12 [==============================] - 0s 13ms/step - loss: 6477.7041 - _timestamp: 1655276244.0000 - _runtime: 278.0000\n",
            "Epoch 105/1000\n",
            "12/12 [==============================] - 0s 14ms/step - loss: 6448.0752 - _timestamp: 1655276244.0000 - _runtime: 278.0000\n",
            "Epoch 106/1000\n",
            "12/12 [==============================] - 0s 15ms/step - loss: 6418.7632 - _timestamp: 1655276244.0000 - _runtime: 278.0000\n",
            "Epoch 107/1000\n",
            "12/12 [==============================] - 0s 13ms/step - loss: 6389.9858 - _timestamp: 1655276244.0000 - _runtime: 278.0000\n",
            "Epoch 108/1000\n",
            "12/12 [==============================] - 0s 14ms/step - loss: 6361.2798 - _timestamp: 1655276245.0000 - _runtime: 279.0000\n",
            "Epoch 109/1000\n",
            "12/12 [==============================] - 0s 14ms/step - loss: 6332.3262 - _timestamp: 1655276245.0000 - _runtime: 279.0000\n",
            "Epoch 110/1000\n",
            "12/12 [==============================] - 0s 15ms/step - loss: 6302.2305 - _timestamp: 1655276245.0000 - _runtime: 279.0000\n",
            "Epoch 111/1000\n",
            "12/12 [==============================] - 0s 13ms/step - loss: 6271.9531 - _timestamp: 1655276245.0000 - _runtime: 279.0000\n",
            "Epoch 112/1000\n",
            "12/12 [==============================] - 0s 13ms/step - loss: 6242.0220 - _timestamp: 1655276245.0000 - _runtime: 279.0000\n",
            "Epoch 113/1000\n",
            "12/12 [==============================] - 0s 13ms/step - loss: 6212.3418 - _timestamp: 1655276245.0000 - _runtime: 279.0000\n",
            "Epoch 114/1000\n",
            "12/12 [==============================] - 0s 14ms/step - loss: 6182.1851 - _timestamp: 1655276246.0000 - _runtime: 280.0000\n",
            "Epoch 115/1000\n",
            "12/12 [==============================] - 0s 13ms/step - loss: 6151.7373 - _timestamp: 1655276246.0000 - _runtime: 280.0000\n",
            "Epoch 116/1000\n",
            "12/12 [==============================] - 0s 13ms/step - loss: 6121.6021 - _timestamp: 1655276246.0000 - _runtime: 280.0000\n",
            "Epoch 117/1000\n",
            "12/12 [==============================] - 0s 13ms/step - loss: 6089.4780 - _timestamp: 1655276246.0000 - _runtime: 280.0000\n",
            "Epoch 118/1000\n",
            "12/12 [==============================] - 0s 13ms/step - loss: 6057.0767 - _timestamp: 1655276246.0000 - _runtime: 280.0000\n",
            "Epoch 119/1000\n",
            "12/12 [==============================] - 0s 13ms/step - loss: 6025.8521 - _timestamp: 1655276246.0000 - _runtime: 280.0000\n",
            "Epoch 120/1000\n",
            "12/12 [==============================] - 0s 13ms/step - loss: 5995.2729 - _timestamp: 1655276247.0000 - _runtime: 281.0000\n"
          ]
        },
        {
          "name": "stdout",
          "output_type": "stream",
          "text": [
            "Epoch 121/1000\n",
            "12/12 [==============================] - 0s 13ms/step - loss: 5965.1992 - _timestamp: 1655276247.0000 - _runtime: 281.0000\n",
            "Epoch 122/1000\n",
            "12/12 [==============================] - 0s 13ms/step - loss: 5933.3711 - _timestamp: 1655276247.0000 - _runtime: 281.0000\n",
            "Epoch 123/1000\n",
            "12/12 [==============================] - 0s 13ms/step - loss: 5900.1821 - _timestamp: 1655276247.0000 - _runtime: 281.0000\n",
            "Epoch 124/1000\n",
            "12/12 [==============================] - 0s 14ms/step - loss: 5867.9717 - _timestamp: 1655276247.0000 - _runtime: 281.0000\n",
            "Epoch 125/1000\n",
            "12/12 [==============================] - 0s 14ms/step - loss: 5837.1074 - _timestamp: 1655276247.0000 - _runtime: 281.0000\n",
            "Epoch 126/1000\n",
            "12/12 [==============================] - 0s 13ms/step - loss: 5806.4478 - _timestamp: 1655276248.0000 - _runtime: 282.0000\n",
            "Epoch 127/1000\n",
            "12/12 [==============================] - 0s 14ms/step - loss: 5775.5762 - _timestamp: 1655276248.0000 - _runtime: 282.0000\n",
            "Epoch 128/1000\n",
            "12/12 [==============================] - 0s 14ms/step - loss: 5744.7505 - _timestamp: 1655276248.0000 - _runtime: 282.0000\n",
            "Epoch 129/1000\n",
            "12/12 [==============================] - 0s 14ms/step - loss: 5711.9834 - _timestamp: 1655276248.0000 - _runtime: 282.0000\n",
            "Epoch 130/1000\n",
            "12/12 [==============================] - 0s 13ms/step - loss: 5679.5142 - _timestamp: 1655276248.0000 - _runtime: 282.0000\n",
            "Epoch 131/1000\n",
            "12/12 [==============================] - 0s 13ms/step - loss: 5648.0591 - _timestamp: 1655276248.0000 - _runtime: 282.0000\n",
            "Epoch 132/1000\n",
            "12/12 [==============================] - 0s 13ms/step - loss: 5615.7290 - _timestamp: 1655276249.0000 - _runtime: 283.0000\n",
            "Epoch 133/1000\n",
            "12/12 [==============================] - 0s 14ms/step - loss: 5583.3906 - _timestamp: 1655276249.0000 - _runtime: 283.0000\n",
            "Epoch 134/1000\n",
            "12/12 [==============================] - 0s 13ms/step - loss: 5551.3760 - _timestamp: 1655276249.0000 - _runtime: 283.0000\n",
            "Epoch 135/1000\n",
            "12/12 [==============================] - 0s 13ms/step - loss: 5519.6245 - _timestamp: 1655276249.0000 - _runtime: 283.0000\n",
            "Epoch 136/1000\n",
            "12/12 [==============================] - 0s 13ms/step - loss: 5487.9106 - _timestamp: 1655276249.0000 - _runtime: 283.0000\n",
            "Epoch 137/1000\n",
            "12/12 [==============================] - 0s 14ms/step - loss: 5454.3486 - _timestamp: 1655276249.0000 - _runtime: 283.0000\n",
            "Epoch 138/1000\n",
            "12/12 [==============================] - 0s 14ms/step - loss: 5420.7886 - _timestamp: 1655276250.0000 - _runtime: 284.0000\n",
            "Epoch 139/1000\n",
            "12/12 [==============================] - 0s 17ms/step - loss: 5389.4902 - _timestamp: 1655276250.0000 - _runtime: 284.0000\n",
            "Epoch 140/1000\n",
            "12/12 [==============================] - 0s 14ms/step - loss: 5358.1602 - _timestamp: 1655276250.0000 - _runtime: 284.0000\n",
            "Epoch 141/1000\n",
            "12/12 [==============================] - 0s 15ms/step - loss: 5327.2002 - _timestamp: 1655276250.0000 - _runtime: 284.0000\n",
            "Epoch 142/1000\n",
            "12/12 [==============================] - 0s 14ms/step - loss: 5296.3672 - _timestamp: 1655276250.0000 - _runtime: 284.0000\n",
            "Epoch 143/1000\n",
            "12/12 [==============================] - 0s 15ms/step - loss: 5265.3711 - _timestamp: 1655276250.0000 - _runtime: 284.0000\n",
            "Epoch 144/1000\n",
            "12/12 [==============================] - 0s 14ms/step - loss: 5233.4155 - _timestamp: 1655276251.0000 - _runtime: 285.0000\n",
            "Epoch 145/1000\n",
            "12/12 [==============================] - 0s 13ms/step - loss: 5199.6465 - _timestamp: 1655276251.0000 - _runtime: 285.0000\n",
            "Epoch 146/1000\n",
            "12/12 [==============================] - 0s 15ms/step - loss: 5166.4985 - _timestamp: 1655276251.0000 - _runtime: 285.0000\n",
            "Epoch 147/1000\n",
            "12/12 [==============================] - 0s 13ms/step - loss: 5133.6240 - _timestamp: 1655276251.0000 - _runtime: 285.0000\n",
            "Epoch 148/1000\n",
            "12/12 [==============================] - 0s 13ms/step - loss: 5101.3750 - _timestamp: 1655276251.0000 - _runtime: 285.0000\n",
            "Epoch 149/1000\n",
            "12/12 [==============================] - 0s 14ms/step - loss: 5069.7700 - _timestamp: 1655276251.0000 - _runtime: 285.0000\n",
            "Epoch 150/1000\n",
            "12/12 [==============================] - 0s 14ms/step - loss: 5038.8198 - _timestamp: 1655276252.0000 - _runtime: 286.0000\n",
            "Epoch 151/1000\n",
            "12/12 [==============================] - 0s 14ms/step - loss: 5007.5249 - _timestamp: 1655276252.0000 - _runtime: 286.0000\n",
            "Epoch 152/1000\n",
            "12/12 [==============================] - 0s 14ms/step - loss: 4976.1235 - _timestamp: 1655276252.0000 - _runtime: 286.0000\n",
            "Epoch 153/1000\n",
            "12/12 [==============================] - 0s 13ms/step - loss: 4944.6138 - _timestamp: 1655276252.0000 - _runtime: 286.0000\n",
            "Epoch 154/1000\n",
            "12/12 [==============================] - 0s 13ms/step - loss: 4913.4390 - _timestamp: 1655276252.0000 - _runtime: 286.0000\n",
            "Epoch 155/1000\n",
            "12/12 [==============================] - 0s 13ms/step - loss: 4881.8062 - _timestamp: 1655276252.0000 - _runtime: 286.0000\n",
            "Epoch 156/1000\n",
            "12/12 [==============================] - 0s 14ms/step - loss: 4848.5469 - _timestamp: 1655276253.0000 - _runtime: 287.0000\n",
            "Epoch 157/1000\n",
            "12/12 [==============================] - 0s 12ms/step - loss: 4815.4932 - _timestamp: 1655276253.0000 - _runtime: 287.0000\n",
            "Epoch 158/1000\n",
            "12/12 [==============================] - 0s 12ms/step - loss: 4783.5020 - _timestamp: 1655276253.0000 - _runtime: 287.0000\n",
            "Epoch 159/1000\n",
            "12/12 [==============================] - 0s 12ms/step - loss: 4751.5874 - _timestamp: 1655276253.0000 - _runtime: 287.0000\n",
            "Epoch 160/1000\n",
            "12/12 [==============================] - 0s 12ms/step - loss: 4719.7559 - _timestamp: 1655276253.0000 - _runtime: 287.0000\n",
            "Epoch 161/1000\n",
            "12/12 [==============================] - 0s 12ms/step - loss: 4687.8647 - _timestamp: 1655276253.0000 - _runtime: 287.0000\n",
            "Epoch 162/1000\n",
            "12/12 [==============================] - 0s 13ms/step - loss: 4656.0117 - _timestamp: 1655276254.0000 - _runtime: 288.0000\n",
            "Epoch 163/1000\n",
            "12/12 [==============================] - 0s 13ms/step - loss: 4623.7456 - _timestamp: 1655276254.0000 - _runtime: 288.0000\n",
            "Epoch 164/1000\n",
            "12/12 [==============================] - 0s 12ms/step - loss: 4591.8457 - _timestamp: 1655276254.0000 - _runtime: 288.0000\n",
            "Epoch 165/1000\n",
            "12/12 [==============================] - 0s 12ms/step - loss: 4560.0044 - _timestamp: 1655276254.0000 - _runtime: 288.0000\n",
            "Epoch 166/1000\n",
            "12/12 [==============================] - 0s 13ms/step - loss: 4528.0605 - _timestamp: 1655276254.0000 - _runtime: 288.0000\n",
            "Epoch 167/1000\n",
            "12/12 [==============================] - 0s 12ms/step - loss: 4496.0229 - _timestamp: 1655276254.0000 - _runtime: 288.0000\n",
            "Epoch 168/1000\n",
            "12/12 [==============================] - 0s 12ms/step - loss: 4463.9995 - _timestamp: 1655276254.0000 - _runtime: 288.0000\n",
            "Epoch 169/1000\n",
            "12/12 [==============================] - 0s 12ms/step - loss: 4432.0601 - _timestamp: 1655276255.0000 - _runtime: 289.0000\n",
            "Epoch 170/1000\n",
            "12/12 [==============================] - 0s 13ms/step - loss: 4398.5596 - _timestamp: 1655276255.0000 - _runtime: 289.0000\n",
            "Epoch 171/1000\n",
            "12/12 [==============================] - 0s 12ms/step - loss: 4365.0483 - _timestamp: 1655276255.0000 - _runtime: 289.0000\n",
            "Epoch 172/1000\n",
            "12/12 [==============================] - 0s 12ms/step - loss: 4332.6426 - _timestamp: 1655276255.0000 - _runtime: 289.0000\n",
            "Epoch 173/1000\n",
            "12/12 [==============================] - 0s 14ms/step - loss: 4297.8296 - _timestamp: 1655276255.0000 - _runtime: 289.0000\n",
            "Epoch 174/1000\n",
            "12/12 [==============================] - 0s 12ms/step - loss: 4263.4941 - _timestamp: 1655276255.0000 - _runtime: 289.0000\n",
            "Epoch 175/1000\n",
            "12/12 [==============================] - 0s 12ms/step - loss: 4231.3267 - _timestamp: 1655276256.0000 - _runtime: 290.0000\n",
            "Epoch 176/1000\n",
            "12/12 [==============================] - 0s 15ms/step - loss: 4199.1519 - _timestamp: 1655276256.0000 - _runtime: 290.0000\n",
            "Epoch 177/1000\n",
            "12/12 [==============================] - 0s 12ms/step - loss: 4167.8184 - _timestamp: 1655276256.0000 - _runtime: 290.0000\n",
            "Epoch 178/1000\n",
            "12/12 [==============================] - 0s 12ms/step - loss: 4136.0547 - _timestamp: 1655276256.0000 - _runtime: 290.0000\n",
            "Epoch 179/1000\n",
            "12/12 [==============================] - 0s 12ms/step - loss: 4103.6465 - _timestamp: 1655276256.0000 - _runtime: 290.0000\n",
            "Epoch 180/1000\n"
          ]
        },
        {
          "name": "stdout",
          "output_type": "stream",
          "text": [
            "12/12 [==============================] - 0s 12ms/step - loss: 4071.3606 - _timestamp: 1655276256.0000 - _runtime: 290.0000\n",
            "Epoch 181/1000\n",
            "12/12 [==============================] - 0s 12ms/step - loss: 4039.4751 - _timestamp: 1655276256.0000 - _runtime: 290.0000\n",
            "Epoch 182/1000\n",
            "12/12 [==============================] - 0s 13ms/step - loss: 4007.7046 - _timestamp: 1655276257.0000 - _runtime: 291.0000\n",
            "Epoch 183/1000\n",
            "12/12 [==============================] - 0s 15ms/step - loss: 3974.9131 - _timestamp: 1655276257.0000 - _runtime: 291.0000\n",
            "Epoch 184/1000\n",
            "12/12 [==============================] - 0s 12ms/step - loss: 3942.6387 - _timestamp: 1655276257.0000 - _runtime: 291.0000\n",
            "Epoch 185/1000\n",
            "12/12 [==============================] - 0s 12ms/step - loss: 3911.2859 - _timestamp: 1655276257.0000 - _runtime: 291.0000\n",
            "Epoch 186/1000\n",
            "12/12 [==============================] - 0s 12ms/step - loss: 3880.0195 - _timestamp: 1655276257.0000 - _runtime: 291.0000\n",
            "Epoch 187/1000\n",
            "12/12 [==============================] - 0s 13ms/step - loss: 3847.2336 - _timestamp: 1655276257.0000 - _runtime: 291.0000\n",
            "Epoch 188/1000\n",
            "12/12 [==============================] - 0s 12ms/step - loss: 3813.7751 - _timestamp: 1655276258.0000 - _runtime: 292.0000\n",
            "Epoch 189/1000\n",
            "12/12 [==============================] - 0s 16ms/step - loss: 3782.0620 - _timestamp: 1655276258.0000 - _runtime: 292.0000\n",
            "Epoch 190/1000\n",
            "12/12 [==============================] - 0s 12ms/step - loss: 3748.7034 - _timestamp: 1655276258.0000 - _runtime: 292.0000\n",
            "Epoch 191/1000\n",
            "12/12 [==============================] - 0s 12ms/step - loss: 3715.7727 - _timestamp: 1655276258.0000 - _runtime: 292.0000\n",
            "Epoch 192/1000\n",
            "12/12 [==============================] - 0s 12ms/step - loss: 3684.7515 - _timestamp: 1655276258.0000 - _runtime: 292.0000\n",
            "Epoch 193/1000\n",
            "12/12 [==============================] - 0s 12ms/step - loss: 3654.3091 - _timestamp: 1655276258.0000 - _runtime: 292.0000\n",
            "Epoch 194/1000\n",
            "12/12 [==============================] - 0s 13ms/step - loss: 3624.2764 - _timestamp: 1655276258.0000 - _runtime: 292.0000\n",
            "Epoch 195/1000\n",
            "12/12 [==============================] - 0s 13ms/step - loss: 3591.6194 - _timestamp: 1655276259.0000 - _runtime: 293.0000\n",
            "Epoch 196/1000\n",
            "12/12 [==============================] - 0s 13ms/step - loss: 3559.3669 - _timestamp: 1655276259.0000 - _runtime: 293.0000\n",
            "Epoch 197/1000\n",
            "12/12 [==============================] - 0s 12ms/step - loss: 3529.5879 - _timestamp: 1655276259.0000 - _runtime: 293.0000\n",
            "Epoch 198/1000\n",
            "12/12 [==============================] - 0s 12ms/step - loss: 3500.0054 - _timestamp: 1655276259.0000 - _runtime: 293.0000\n",
            "Epoch 199/1000\n",
            "12/12 [==============================] - 0s 13ms/step - loss: 3470.7449 - _timestamp: 1655276259.0000 - _runtime: 293.0000\n",
            "Epoch 200/1000\n",
            "12/12 [==============================] - 0s 12ms/step - loss: 3441.5339 - _timestamp: 1655276259.0000 - _runtime: 293.0000\n",
            "Epoch 201/1000\n",
            "12/12 [==============================] - 0s 12ms/step - loss: 3412.4297 - _timestamp: 1655276260.0000 - _runtime: 294.0000\n",
            "Epoch 202/1000\n",
            "12/12 [==============================] - 0s 14ms/step - loss: 3383.1223 - _timestamp: 1655276260.0000 - _runtime: 294.0000\n",
            "Epoch 203/1000\n",
            "12/12 [==============================] - 0s 12ms/step - loss: 3353.7754 - _timestamp: 1655276260.0000 - _runtime: 294.0000\n",
            "Epoch 204/1000\n",
            "12/12 [==============================] - 0s 12ms/step - loss: 3324.3589 - _timestamp: 1655276260.0000 - _runtime: 294.0000\n",
            "Epoch 205/1000\n",
            "12/12 [==============================] - 0s 12ms/step - loss: 3295.3911 - _timestamp: 1655276260.0000 - _runtime: 294.0000\n",
            "Epoch 206/1000\n",
            "12/12 [==============================] - 0s 13ms/step - loss: 3264.1741 - _timestamp: 1655276260.0000 - _runtime: 294.0000\n",
            "Epoch 207/1000\n",
            "12/12 [==============================] - 0s 12ms/step - loss: 3233.3237 - _timestamp: 1655276260.0000 - _runtime: 294.0000\n",
            "Epoch 208/1000\n",
            "12/12 [==============================] - 0s 13ms/step - loss: 3203.9255 - _timestamp: 1655276261.0000 - _runtime: 295.0000\n",
            "Epoch 209/1000\n",
            "12/12 [==============================] - 0s 13ms/step - loss: 3175.4436 - _timestamp: 1655276261.0000 - _runtime: 295.0000\n",
            "Epoch 210/1000\n",
            "12/12 [==============================] - 0s 12ms/step - loss: 3146.9897 - _timestamp: 1655276261.0000 - _runtime: 295.0000\n",
            "Epoch 211/1000\n",
            "12/12 [==============================] - 0s 13ms/step - loss: 3118.5366 - _timestamp: 1655276261.0000 - _runtime: 295.0000\n",
            "Epoch 212/1000\n",
            "12/12 [==============================] - 0s 12ms/step - loss: 3090.4409 - _timestamp: 1655276261.0000 - _runtime: 295.0000\n",
            "Epoch 213/1000\n",
            "12/12 [==============================] - 0s 13ms/step - loss: 3060.1477 - _timestamp: 1655276261.0000 - _runtime: 295.0000\n",
            "Epoch 214/1000\n",
            "12/12 [==============================] - 0s 12ms/step - loss: 3029.5630 - _timestamp: 1655276262.0000 - _runtime: 296.0000\n",
            "Epoch 215/1000\n",
            "12/12 [==============================] - 0s 14ms/step - loss: 3000.6233 - _timestamp: 1655276262.0000 - _runtime: 296.0000\n",
            "Epoch 216/1000\n",
            "12/12 [==============================] - 0s 13ms/step - loss: 2970.6331 - _timestamp: 1655276262.0000 - _runtime: 296.0000\n",
            "Epoch 217/1000\n",
            "12/12 [==============================] - 0s 12ms/step - loss: 2939.3723 - _timestamp: 1655276262.0000 - _runtime: 296.0000\n",
            "Epoch 218/1000\n",
            "12/12 [==============================] - 0s 12ms/step - loss: 2910.1792 - _timestamp: 1655276262.0000 - _runtime: 296.0000\n",
            "Epoch 219/1000\n",
            "12/12 [==============================] - 0s 12ms/step - loss: 2880.8035 - _timestamp: 1655276262.0000 - _runtime: 296.0000\n",
            "Epoch 220/1000\n",
            "12/12 [==============================] - 0s 12ms/step - loss: 2852.8594 - _timestamp: 1655276262.0000 - _runtime: 296.0000\n",
            "Epoch 221/1000\n",
            "12/12 [==============================] - 0s 12ms/step - loss: 2826.0676 - _timestamp: 1655276263.0000 - _runtime: 297.0000\n",
            "Epoch 222/1000\n",
            "12/12 [==============================] - 0s 13ms/step - loss: 2800.0173 - _timestamp: 1655276263.0000 - _runtime: 297.0000\n",
            "Epoch 223/1000\n",
            "12/12 [==============================] - 0s 13ms/step - loss: 2774.2012 - _timestamp: 1655276263.0000 - _runtime: 297.0000\n",
            "Epoch 224/1000\n",
            "12/12 [==============================] - 0s 12ms/step - loss: 2748.2263 - _timestamp: 1655276263.0000 - _runtime: 297.0000\n",
            "Epoch 225/1000\n",
            "12/12 [==============================] - 0s 12ms/step - loss: 2722.6953 - _timestamp: 1655276263.0000 - _runtime: 297.0000\n",
            "Epoch 226/1000\n",
            "12/12 [==============================] - 0s 13ms/step - loss: 2696.5044 - _timestamp: 1655276263.0000 - _runtime: 297.0000\n",
            "Epoch 227/1000\n",
            "12/12 [==============================] - 0s 12ms/step - loss: 2670.9844 - _timestamp: 1655276264.0000 - _runtime: 298.0000\n",
            "Epoch 228/1000\n",
            "12/12 [==============================] - 0s 13ms/step - loss: 2645.4700 - _timestamp: 1655276264.0000 - _runtime: 298.0000\n",
            "Epoch 229/1000\n",
            "12/12 [==============================] - 0s 12ms/step - loss: 2619.7642 - _timestamp: 1655276264.0000 - _runtime: 298.0000\n",
            "Epoch 230/1000\n",
            "12/12 [==============================] - 0s 12ms/step - loss: 2593.0916 - _timestamp: 1655276264.0000 - _runtime: 298.0000\n",
            "Epoch 231/1000\n",
            "12/12 [==============================] - 0s 12ms/step - loss: 2566.5417 - _timestamp: 1655276264.0000 - _runtime: 298.0000\n",
            "Epoch 232/1000\n",
            "12/12 [==============================] - 0s 12ms/step - loss: 2540.4917 - _timestamp: 1655276264.0000 - _runtime: 298.0000\n",
            "Epoch 233/1000\n",
            "12/12 [==============================] - 0s 12ms/step - loss: 2514.6296 - _timestamp: 1655276264.0000 - _runtime: 298.0000\n",
            "Epoch 234/1000\n",
            "12/12 [==============================] - 0s 12ms/step - loss: 2489.6204 - _timestamp: 1655276265.0000 - _runtime: 299.0000\n",
            "Epoch 235/1000\n",
            "12/12 [==============================] - 0s 13ms/step - loss: 2464.6072 - _timestamp: 1655276265.0000 - _runtime: 299.0000\n",
            "Epoch 236/1000\n",
            "12/12 [==============================] - 0s 12ms/step - loss: 2440.0242 - _timestamp: 1655276265.0000 - _runtime: 299.0000\n",
            "Epoch 237/1000\n",
            "12/12 [==============================] - 0s 12ms/step - loss: 2415.3574 - _timestamp: 1655276265.0000 - _runtime: 299.0000\n",
            "Epoch 238/1000\n",
            "12/12 [==============================] - 0s 12ms/step - loss: 2390.9270 - _timestamp: 1655276265.0000 - _runtime: 299.0000\n",
            "Epoch 239/1000\n"
          ]
        },
        {
          "name": "stdout",
          "output_type": "stream",
          "text": [
            "12/12 [==============================] - 0s 12ms/step - loss: 2364.8613 - _timestamp: 1655276265.0000 - _runtime: 299.0000\n",
            "Epoch 240/1000\n",
            "12/12 [==============================] - 0s 12ms/step - loss: 2337.8538 - _timestamp: 1655276265.0000 - _runtime: 299.0000\n",
            "Epoch 241/1000\n",
            "12/12 [==============================] - 0s 15ms/step - loss: 2312.1555 - _timestamp: 1655276266.0000 - _runtime: 300.0000\n",
            "Epoch 242/1000\n",
            "12/12 [==============================] - 0s 12ms/step - loss: 2288.2322 - _timestamp: 1655276266.0000 - _runtime: 300.0000\n",
            "Epoch 243/1000\n",
            "12/12 [==============================] - 0s 13ms/step - loss: 2262.8372 - _timestamp: 1655276266.0000 - _runtime: 300.0000\n",
            "Epoch 244/1000\n",
            "12/12 [==============================] - 0s 12ms/step - loss: 2237.5588 - _timestamp: 1655276266.0000 - _runtime: 300.0000\n",
            "Epoch 245/1000\n",
            "12/12 [==============================] - 0s 12ms/step - loss: 2213.8174 - _timestamp: 1655276266.0000 - _runtime: 300.0000\n",
            "Epoch 246/1000\n",
            "12/12 [==============================] - 0s 12ms/step - loss: 2189.8132 - _timestamp: 1655276266.0000 - _runtime: 300.0000\n",
            "Epoch 247/1000\n",
            "12/12 [==============================] - 0s 13ms/step - loss: 2164.4275 - _timestamp: 1655276267.0000 - _runtime: 301.0000\n",
            "Epoch 248/1000\n",
            "12/12 [==============================] - 0s 12ms/step - loss: 2139.4465 - _timestamp: 1655276267.0000 - _runtime: 301.0000\n",
            "Epoch 249/1000\n",
            "12/12 [==============================] - 0s 12ms/step - loss: 2116.1333 - _timestamp: 1655276267.0000 - _runtime: 301.0000\n",
            "Epoch 250/1000\n",
            "12/12 [==============================] - 0s 13ms/step - loss: 2093.2427 - _timestamp: 1655276267.0000 - _runtime: 301.0000\n",
            "Epoch 251/1000\n",
            "12/12 [==============================] - 0s 13ms/step - loss: 2070.8530 - _timestamp: 1655276267.0000 - _runtime: 301.0000\n",
            "Epoch 252/1000\n",
            "12/12 [==============================] - 0s 13ms/step - loss: 2048.0889 - _timestamp: 1655276267.0000 - _runtime: 301.0000\n",
            "Epoch 253/1000\n",
            "12/12 [==============================] - 0s 14ms/step - loss: 2024.9298 - _timestamp: 1655276268.0000 - _runtime: 302.0000\n",
            "Epoch 254/1000\n",
            "12/12 [==============================] - 0s 15ms/step - loss: 1999.7129 - _timestamp: 1655276268.0000 - _runtime: 302.0000\n",
            "Epoch 255/1000\n",
            "12/12 [==============================] - 0s 14ms/step - loss: 1975.7284 - _timestamp: 1655276268.0000 - _runtime: 302.0000\n",
            "Epoch 256/1000\n",
            "12/12 [==============================] - 0s 14ms/step - loss: 1953.2506 - _timestamp: 1655276268.0000 - _runtime: 302.0000\n",
            "Epoch 257/1000\n",
            "12/12 [==============================] - 0s 13ms/step - loss: 1931.4510 - _timestamp: 1655276268.0000 - _runtime: 302.0000\n",
            "Epoch 258/1000\n",
            "12/12 [==============================] - 0s 12ms/step - loss: 1910.0164 - _timestamp: 1655276268.0000 - _runtime: 302.0000\n",
            "Epoch 259/1000\n",
            "12/12 [==============================] - 0s 12ms/step - loss: 1887.9171 - _timestamp: 1655276269.0000 - _runtime: 303.0000\n",
            "Epoch 260/1000\n",
            "12/12 [==============================] - 0s 13ms/step - loss: 1865.9336 - _timestamp: 1655276269.0000 - _runtime: 303.0000\n",
            "Epoch 261/1000\n",
            "12/12 [==============================] - 0s 12ms/step - loss: 1844.5801 - _timestamp: 1655276269.0000 - _runtime: 303.0000\n",
            "Epoch 262/1000\n",
            "12/12 [==============================] - 0s 23ms/step - loss: 1823.3538 - _timestamp: 1655276269.0000 - _runtime: 303.0000\n",
            "Epoch 263/1000\n",
            "12/12 [==============================] - 0s 24ms/step - loss: 1801.9565 - _timestamp: 1655276269.0000 - _runtime: 303.0000\n",
            "Epoch 264/1000\n",
            "12/12 [==============================] - 0s 19ms/step - loss: 1780.0055 - _timestamp: 1655276270.0000 - _runtime: 304.0000\n",
            "Epoch 265/1000\n",
            "12/12 [==============================] - 0s 17ms/step - loss: 1757.9496 - _timestamp: 1655276270.0000 - _runtime: 304.0000\n",
            "Epoch 266/1000\n",
            "12/12 [==============================] - 0s 19ms/step - loss: 1736.9276 - _timestamp: 1655276270.0000 - _runtime: 304.0000\n",
            "Epoch 267/1000\n",
            "12/12 [==============================] - 0s 18ms/step - loss: 1716.0538 - _timestamp: 1655276270.0000 - _runtime: 304.0000\n",
            "Epoch 268/1000\n",
            "12/12 [==============================] - 0s 18ms/step - loss: 1693.1603 - _timestamp: 1655276271.0000 - _runtime: 305.0000\n",
            "Epoch 269/1000\n",
            "12/12 [==============================] - 0s 27ms/step - loss: 1670.9442 - _timestamp: 1655276271.0000 - _runtime: 305.0000\n",
            "Epoch 270/1000\n",
            "12/12 [==============================] - 0s 19ms/step - loss: 1650.8533 - _timestamp: 1655276271.0000 - _runtime: 305.0000\n",
            "Epoch 271/1000\n",
            "12/12 [==============================] - 0s 22ms/step - loss: 1631.5077 - _timestamp: 1655276271.0000 - _runtime: 305.0000\n",
            "Epoch 272/1000\n",
            "12/12 [==============================] - 0s 21ms/step - loss: 1612.1051 - _timestamp: 1655276272.0000 - _runtime: 306.0000\n",
            "Epoch 273/1000\n",
            "12/12 [==============================] - 0s 19ms/step - loss: 1593.1589 - _timestamp: 1655276272.0000 - _runtime: 306.0000\n",
            "Epoch 274/1000\n",
            "12/12 [==============================] - 0s 17ms/step - loss: 1574.2079 - _timestamp: 1655276272.0000 - _runtime: 306.0000\n",
            "Epoch 275/1000\n",
            "12/12 [==============================] - 0s 19ms/step - loss: 1555.2920 - _timestamp: 1655276272.0000 - _runtime: 306.0000\n",
            "Epoch 276/1000\n",
            "12/12 [==============================] - 0s 19ms/step - loss: 1536.7389 - _timestamp: 1655276273.0000 - _runtime: 307.0000\n",
            "Epoch 277/1000\n",
            "12/12 [==============================] - 0s 19ms/step - loss: 1518.0405 - _timestamp: 1655276273.0000 - _runtime: 307.0000\n",
            "Epoch 278/1000\n",
            "12/12 [==============================] - 0s 18ms/step - loss: 1499.2939 - _timestamp: 1655276273.0000 - _runtime: 307.0000\n",
            "Epoch 279/1000\n",
            "12/12 [==============================] - 0s 17ms/step - loss: 1480.7977 - _timestamp: 1655276273.0000 - _runtime: 307.0000\n",
            "Epoch 280/1000\n",
            "12/12 [==============================] - 0s 16ms/step - loss: 1462.3672 - _timestamp: 1655276273.0000 - _runtime: 307.0000\n",
            "Epoch 281/1000\n",
            "12/12 [==============================] - 0s 15ms/step - loss: 1442.3119 - _timestamp: 1655276274.0000 - _runtime: 308.0000\n",
            "Epoch 282/1000\n",
            "12/12 [==============================] - 0s 17ms/step - loss: 1422.7053 - _timestamp: 1655276274.0000 - _runtime: 308.0000\n",
            "Epoch 283/1000\n",
            "12/12 [==============================] - 0s 15ms/step - loss: 1404.5782 - _timestamp: 1655276274.0000 - _runtime: 308.0000\n",
            "Epoch 284/1000\n",
            "12/12 [==============================] - 0s 15ms/step - loss: 1387.1273 - _timestamp: 1655276274.0000 - _runtime: 308.0000\n",
            "Epoch 285/1000\n",
            "12/12 [==============================] - 0s 15ms/step - loss: 1369.7307 - _timestamp: 1655276274.0000 - _runtime: 308.0000\n",
            "Epoch 286/1000\n",
            "12/12 [==============================] - 0s 13ms/step - loss: 1352.6678 - _timestamp: 1655276274.0000 - _runtime: 308.0000\n",
            "Epoch 287/1000\n",
            "12/12 [==============================] - 0s 14ms/step - loss: 1335.2802 - _timestamp: 1655276275.0000 - _runtime: 309.0000\n",
            "Epoch 288/1000\n",
            "12/12 [==============================] - 0s 14ms/step - loss: 1318.1326 - _timestamp: 1655276275.0000 - _runtime: 309.0000\n",
            "Epoch 289/1000\n",
            "12/12 [==============================] - 0s 14ms/step - loss: 1300.2960 - _timestamp: 1655276275.0000 - _runtime: 309.0000\n",
            "Epoch 290/1000\n",
            "12/12 [==============================] - 0s 14ms/step - loss: 1282.7605 - _timestamp: 1655276275.0000 - _runtime: 309.0000\n",
            "Epoch 291/1000\n",
            "12/12 [==============================] - 0s 15ms/step - loss: 1264.8345 - _timestamp: 1655276275.0000 - _runtime: 309.0000\n",
            "Epoch 292/1000\n",
            "12/12 [==============================] - 0s 14ms/step - loss: 1247.3472 - _timestamp: 1655276276.0000 - _runtime: 310.0000\n",
            "Epoch 293/1000\n",
            "12/12 [==============================] - 0s 15ms/step - loss: 1229.7079 - _timestamp: 1655276276.0000 - _runtime: 310.0000\n",
            "Epoch 294/1000\n",
            "12/12 [==============================] - 0s 14ms/step - loss: 1211.8694 - _timestamp: 1655276276.0000 - _runtime: 310.0000\n",
            "Epoch 295/1000\n",
            "12/12 [==============================] - 0s 14ms/step - loss: 1193.6788 - _timestamp: 1655276276.0000 - _runtime: 310.0000\n",
            "Epoch 296/1000\n",
            "12/12 [==============================] - 0s 15ms/step - loss: 1176.1871 - _timestamp: 1655276276.0000 - _runtime: 310.0000\n",
            "Epoch 297/1000\n",
            "12/12 [==============================] - 0s 14ms/step - loss: 1160.4072 - _timestamp: 1655276276.0000 - _runtime: 310.0000\n",
            "Epoch 298/1000\n"
          ]
        },
        {
          "name": "stdout",
          "output_type": "stream",
          "text": [
            "12/12 [==============================] - 0s 14ms/step - loss: 1144.2340 - _timestamp: 1655276277.0000 - _runtime: 311.0000\n",
            "Epoch 299/1000\n",
            "12/12 [==============================] - 0s 15ms/step - loss: 1128.4674 - _timestamp: 1655276277.0000 - _runtime: 311.0000\n",
            "Epoch 300/1000\n",
            "12/12 [==============================] - 0s 14ms/step - loss: 1113.2926 - _timestamp: 1655276277.0000 - _runtime: 311.0000\n",
            "Epoch 301/1000\n",
            "12/12 [==============================] - 0s 14ms/step - loss: 1098.7560 - _timestamp: 1655276277.0000 - _runtime: 311.0000\n",
            "Epoch 302/1000\n",
            "12/12 [==============================] - 0s 13ms/step - loss: 1084.1528 - _timestamp: 1655276277.0000 - _runtime: 311.0000\n",
            "Epoch 303/1000\n",
            "12/12 [==============================] - 0s 13ms/step - loss: 1069.7971 - _timestamp: 1655276277.0000 - _runtime: 311.0000\n",
            "Epoch 304/1000\n",
            "12/12 [==============================] - 0s 14ms/step - loss: 1055.4299 - _timestamp: 1655276278.0000 - _runtime: 312.0000\n",
            "Epoch 305/1000\n",
            "12/12 [==============================] - 0s 14ms/step - loss: 1041.3525 - _timestamp: 1655276278.0000 - _runtime: 312.0000\n",
            "Epoch 306/1000\n",
            "12/12 [==============================] - 0s 14ms/step - loss: 1027.2308 - _timestamp: 1655276278.0000 - _runtime: 312.0000\n",
            "Epoch 307/1000\n",
            "12/12 [==============================] - 0s 13ms/step - loss: 1013.1395 - _timestamp: 1655276278.0000 - _runtime: 312.0000\n",
            "Epoch 308/1000\n",
            "12/12 [==============================] - 0s 13ms/step - loss: 998.0215 - _timestamp: 1655276278.0000 - _runtime: 312.0000\n",
            "Epoch 309/1000\n",
            "12/12 [==============================] - 0s 14ms/step - loss: 982.3804 - _timestamp: 1655276278.0000 - _runtime: 312.0000\n",
            "Epoch 310/1000\n",
            "12/12 [==============================] - 0s 14ms/step - loss: 967.2817 - _timestamp: 1655276279.0000 - _runtime: 313.0000\n",
            "Epoch 311/1000\n",
            "12/12 [==============================] - 0s 14ms/step - loss: 952.9808 - _timestamp: 1655276279.0000 - _runtime: 313.0000\n",
            "Epoch 312/1000\n",
            "12/12 [==============================] - 0s 14ms/step - loss: 939.6384 - _timestamp: 1655276279.0000 - _runtime: 313.0000\n",
            "Epoch 313/1000\n",
            "12/12 [==============================] - 0s 13ms/step - loss: 926.7830 - _timestamp: 1655276279.0000 - _runtime: 313.0000\n",
            "Epoch 314/1000\n",
            "12/12 [==============================] - 0s 14ms/step - loss: 914.0176 - _timestamp: 1655276279.0000 - _runtime: 313.0000\n",
            "Epoch 315/1000\n",
            "12/12 [==============================] - 0s 14ms/step - loss: 899.9006 - _timestamp: 1655276279.0000 - _runtime: 313.0000\n",
            "Epoch 316/1000\n",
            "12/12 [==============================] - 0s 16ms/step - loss: 886.2346 - _timestamp: 1655276280.0000 - _runtime: 314.0000\n",
            "Epoch 317/1000\n",
            "12/12 [==============================] - 0s 16ms/step - loss: 873.5814 - _timestamp: 1655276280.0000 - _runtime: 314.0000\n",
            "Epoch 318/1000\n",
            "12/12 [==============================] - 0s 17ms/step - loss: 861.1091 - _timestamp: 1655276280.0000 - _runtime: 314.0000\n",
            "Epoch 319/1000\n",
            "12/12 [==============================] - 0s 17ms/step - loss: 849.0776 - _timestamp: 1655276280.0000 - _runtime: 314.0000\n",
            "Epoch 320/1000\n",
            "12/12 [==============================] - 0s 16ms/step - loss: 837.2080 - _timestamp: 1655276280.0000 - _runtime: 314.0000\n",
            "Epoch 321/1000\n",
            "12/12 [==============================] - 0s 15ms/step - loss: 825.0085 - _timestamp: 1655276281.0000 - _runtime: 315.0000\n",
            "Epoch 322/1000\n",
            "12/12 [==============================] - 0s 15ms/step - loss: 812.7578 - _timestamp: 1655276281.0000 - _runtime: 315.0000\n",
            "Epoch 323/1000\n",
            "12/12 [==============================] - 0s 14ms/step - loss: 801.1159 - _timestamp: 1655276281.0000 - _runtime: 315.0000\n",
            "Epoch 324/1000\n",
            "12/12 [==============================] - 0s 14ms/step - loss: 787.1768 - _timestamp: 1655276281.0000 - _runtime: 315.0000\n",
            "Epoch 325/1000\n",
            "12/12 [==============================] - 0s 14ms/step - loss: 773.7652 - _timestamp: 1655276281.0000 - _runtime: 315.0000\n",
            "Epoch 326/1000\n",
            "12/12 [==============================] - 0s 13ms/step - loss: 762.2671 - _timestamp: 1655276281.0000 - _runtime: 315.0000\n",
            "Epoch 327/1000\n",
            "12/12 [==============================] - 0s 14ms/step - loss: 750.9834 - _timestamp: 1655276282.0000 - _runtime: 316.0000\n",
            "Epoch 328/1000\n",
            "12/12 [==============================] - 0s 14ms/step - loss: 739.9882 - _timestamp: 1655276282.0000 - _runtime: 316.0000\n",
            "Epoch 329/1000\n",
            "12/12 [==============================] - 0s 14ms/step - loss: 729.6719 - _timestamp: 1655276282.0000 - _runtime: 316.0000\n",
            "Epoch 330/1000\n",
            "12/12 [==============================] - 0s 14ms/step - loss: 717.6007 - _timestamp: 1655276282.0000 - _runtime: 316.0000\n",
            "Epoch 331/1000\n",
            "12/12 [==============================] - 0s 13ms/step - loss: 705.9527 - _timestamp: 1655276282.0000 - _runtime: 316.0000\n",
            "Epoch 332/1000\n",
            "12/12 [==============================] - 0s 15ms/step - loss: 695.9037 - _timestamp: 1655276282.0000 - _runtime: 316.0000\n",
            "Epoch 333/1000\n",
            "12/12 [==============================] - 0s 15ms/step - loss: 686.2104 - _timestamp: 1655276283.0000 - _runtime: 317.0000\n",
            "Epoch 334/1000\n",
            "12/12 [==============================] - 0s 13ms/step - loss: 676.5905 - _timestamp: 1655276283.0000 - _runtime: 317.0000\n",
            "Epoch 335/1000\n",
            "12/12 [==============================] - 0s 13ms/step - loss: 667.1918 - _timestamp: 1655276283.0000 - _runtime: 317.0000\n",
            "Epoch 336/1000\n",
            "12/12 [==============================] - 0s 13ms/step - loss: 657.7118 - _timestamp: 1655276283.0000 - _runtime: 317.0000\n",
            "Epoch 337/1000\n",
            "12/12 [==============================] - 0s 14ms/step - loss: 648.5751 - _timestamp: 1655276283.0000 - _runtime: 317.0000\n",
            "Epoch 338/1000\n",
            "12/12 [==============================] - 0s 13ms/step - loss: 638.7276 - _timestamp: 1655276284.0000 - _runtime: 318.0000\n",
            "Epoch 339/1000\n",
            "12/12 [==============================] - 0s 15ms/step - loss: 629.0565 - _timestamp: 1655276284.0000 - _runtime: 318.0000\n",
            "Epoch 340/1000\n",
            "12/12 [==============================] - 0s 14ms/step - loss: 619.0776 - _timestamp: 1655276284.0000 - _runtime: 318.0000\n",
            "Epoch 341/1000\n",
            "12/12 [==============================] - 0s 13ms/step - loss: 609.6104 - _timestamp: 1655276284.0000 - _runtime: 318.0000\n",
            "Epoch 342/1000\n",
            "12/12 [==============================] - 0s 13ms/step - loss: 601.1652 - _timestamp: 1655276284.0000 - _runtime: 318.0000\n",
            "Epoch 343/1000\n",
            "12/12 [==============================] - 0s 13ms/step - loss: 592.8105 - _timestamp: 1655276284.0000 - _runtime: 318.0000\n",
            "Epoch 344/1000\n",
            "12/12 [==============================] - 0s 13ms/step - loss: 584.4809 - _timestamp: 1655276285.0000 - _runtime: 319.0000\n",
            "Epoch 345/1000\n",
            "12/12 [==============================] - 0s 14ms/step - loss: 576.4267 - _timestamp: 1655276285.0000 - _runtime: 319.0000\n",
            "Epoch 346/1000\n",
            "12/12 [==============================] - 0s 14ms/step - loss: 567.7822 - _timestamp: 1655276285.0000 - _runtime: 319.0000\n",
            "Epoch 347/1000\n",
            "12/12 [==============================] - 0s 13ms/step - loss: 559.5603 - _timestamp: 1655276285.0000 - _runtime: 319.0000\n",
            "Epoch 348/1000\n",
            "12/12 [==============================] - 0s 14ms/step - loss: 549.9191 - _timestamp: 1655276285.0000 - _runtime: 319.0000\n",
            "Epoch 349/1000\n",
            "12/12 [==============================] - 0s 13ms/step - loss: 540.7888 - _timestamp: 1655276285.0000 - _runtime: 319.0000\n",
            "Epoch 350/1000\n",
            "12/12 [==============================] - 0s 13ms/step - loss: 532.9054 - _timestamp: 1655276285.0000 - _runtime: 319.0000\n",
            "Epoch 351/1000\n",
            "12/12 [==============================] - 0s 16ms/step - loss: 525.3519 - _timestamp: 1655276286.0000 - _runtime: 320.0000\n",
            "Epoch 352/1000\n",
            "12/12 [==============================] - 0s 13ms/step - loss: 518.1183 - _timestamp: 1655276286.0000 - _runtime: 320.0000\n",
            "Epoch 353/1000\n",
            "12/12 [==============================] - 0s 13ms/step - loss: 510.8773 - _timestamp: 1655276286.0000 - _runtime: 320.0000\n",
            "Epoch 354/1000\n",
            "12/12 [==============================] - 0s 13ms/step - loss: 503.8364 - _timestamp: 1655276286.0000 - _runtime: 320.0000\n",
            "Epoch 355/1000\n",
            "12/12 [==============================] - 0s 14ms/step - loss: 496.8493 - _timestamp: 1655276286.0000 - _runtime: 320.0000\n",
            "Epoch 356/1000\n",
            "12/12 [==============================] - 0s 13ms/step - loss: 489.9402 - _timestamp: 1655276287.0000 - _runtime: 321.0000\n",
            "Epoch 357/1000\n",
            "12/12 [==============================] - 0s 14ms/step - loss: 483.1174 - _timestamp: 1655276287.0000 - _runtime: 321.0000\n"
          ]
        },
        {
          "name": "stdout",
          "output_type": "stream",
          "text": [
            "Epoch 358/1000\n",
            "12/12 [==============================] - 0s 14ms/step - loss: 475.7321 - _timestamp: 1655276287.0000 - _runtime: 321.0000\n",
            "Epoch 359/1000\n",
            "12/12 [==============================] - 0s 13ms/step - loss: 468.5458 - _timestamp: 1655276287.0000 - _runtime: 321.0000\n",
            "Epoch 360/1000\n",
            "12/12 [==============================] - 0s 14ms/step - loss: 461.7569 - _timestamp: 1655276287.0000 - _runtime: 321.0000\n",
            "Epoch 361/1000\n",
            "12/12 [==============================] - 0s 14ms/step - loss: 455.3003 - _timestamp: 1655276287.0000 - _runtime: 321.0000\n",
            "Epoch 362/1000\n",
            "12/12 [==============================] - 0s 14ms/step - loss: 448.3363 - _timestamp: 1655276288.0000 - _runtime: 322.0000\n",
            "Epoch 363/1000\n",
            "12/12 [==============================] - 0s 15ms/step - loss: 440.9046 - _timestamp: 1655276288.0000 - _runtime: 322.0000\n",
            "Epoch 364/1000\n",
            "12/12 [==============================] - 0s 14ms/step - loss: 434.1129 - _timestamp: 1655276288.0000 - _runtime: 322.0000\n",
            "Epoch 365/1000\n",
            "12/12 [==============================] - 0s 13ms/step - loss: 427.8909 - _timestamp: 1655276288.0000 - _runtime: 322.0000\n",
            "Epoch 366/1000\n",
            "12/12 [==============================] - 0s 13ms/step - loss: 421.8651 - _timestamp: 1655276288.0000 - _runtime: 322.0000\n",
            "Epoch 367/1000\n",
            "12/12 [==============================] - 0s 14ms/step - loss: 416.0263 - _timestamp: 1655276288.0000 - _runtime: 322.0000\n",
            "Epoch 368/1000\n",
            "12/12 [==============================] - 0s 13ms/step - loss: 410.1788 - _timestamp: 1655276289.0000 - _runtime: 323.0000\n",
            "Epoch 369/1000\n",
            "12/12 [==============================] - 0s 15ms/step - loss: 404.4425 - _timestamp: 1655276289.0000 - _runtime: 323.0000\n",
            "Epoch 370/1000\n",
            "12/12 [==============================] - 0s 13ms/step - loss: 398.3423 - _timestamp: 1655276289.0000 - _runtime: 323.0000\n",
            "Epoch 371/1000\n",
            "12/12 [==============================] - 0s 13ms/step - loss: 392.3230 - _timestamp: 1655276289.0000 - _runtime: 323.0000\n",
            "Epoch 372/1000\n",
            "12/12 [==============================] - 0s 13ms/step - loss: 385.6670 - _timestamp: 1655276289.0000 - _runtime: 323.0000\n",
            "Epoch 373/1000\n",
            "12/12 [==============================] - 0s 13ms/step - loss: 379.4044 - _timestamp: 1655276289.0000 - _runtime: 323.0000\n",
            "Epoch 374/1000\n",
            "12/12 [==============================] - 0s 16ms/step - loss: 373.6356 - _timestamp: 1655276290.0000 - _runtime: 324.0000\n",
            "Epoch 375/1000\n",
            "12/12 [==============================] - 0s 15ms/step - loss: 368.2160 - _timestamp: 1655276290.0000 - _runtime: 324.0000\n",
            "Epoch 376/1000\n",
            "12/12 [==============================] - 0s 14ms/step - loss: 363.1057 - _timestamp: 1655276290.0000 - _runtime: 324.0000\n",
            "Epoch 377/1000\n",
            "12/12 [==============================] - 0s 14ms/step - loss: 357.9614 - _timestamp: 1655276290.0000 - _runtime: 324.0000\n",
            "Epoch 378/1000\n",
            "12/12 [==============================] - 0s 13ms/step - loss: 352.9460 - _timestamp: 1655276290.0000 - _runtime: 324.0000\n",
            "Epoch 379/1000\n",
            "12/12 [==============================] - 0s 13ms/step - loss: 347.2177 - _timestamp: 1655276290.0000 - _runtime: 324.0000\n",
            "Epoch 380/1000\n",
            "12/12 [==============================] - 0s 13ms/step - loss: 341.6650 - _timestamp: 1655276291.0000 - _runtime: 325.0000\n",
            "Epoch 381/1000\n",
            "12/12 [==============================] - 0s 15ms/step - loss: 336.7237 - _timestamp: 1655276291.0000 - _runtime: 325.0000\n",
            "Epoch 382/1000\n",
            "12/12 [==============================] - 0s 14ms/step - loss: 331.8302 - _timestamp: 1655276291.0000 - _runtime: 325.0000\n",
            "Epoch 383/1000\n",
            "12/12 [==============================] - 0s 13ms/step - loss: 326.4940 - _timestamp: 1655276291.0000 - _runtime: 325.0000\n",
            "Epoch 384/1000\n",
            "12/12 [==============================] - 0s 13ms/step - loss: 321.3821 - _timestamp: 1655276291.0000 - _runtime: 325.0000\n",
            "Epoch 385/1000\n",
            "12/12 [==============================] - 0s 13ms/step - loss: 316.9329 - _timestamp: 1655276291.0000 - _runtime: 325.0000\n",
            "Epoch 386/1000\n",
            "12/12 [==============================] - 0s 13ms/step - loss: 312.5719 - _timestamp: 1655276292.0000 - _runtime: 326.0000\n",
            "Epoch 387/1000\n",
            "12/12 [==============================] - 0s 15ms/step - loss: 308.4491 - _timestamp: 1655276292.0000 - _runtime: 326.0000\n",
            "Epoch 388/1000\n",
            "12/12 [==============================] - 0s 14ms/step - loss: 304.3633 - _timestamp: 1655276292.0000 - _runtime: 326.0000\n",
            "Epoch 389/1000\n",
            "12/12 [==============================] - 0s 13ms/step - loss: 300.2257 - _timestamp: 1655276292.0000 - _runtime: 326.0000\n",
            "Epoch 390/1000\n",
            "12/12 [==============================] - 0s 13ms/step - loss: 296.1573 - _timestamp: 1655276292.0000 - _runtime: 326.0000\n",
            "Epoch 391/1000\n",
            "12/12 [==============================] - 0s 13ms/step - loss: 292.0678 - _timestamp: 1655276292.0000 - _runtime: 326.0000\n",
            "Epoch 392/1000\n",
            "12/12 [==============================] - 0s 14ms/step - loss: 288.0272 - _timestamp: 1655276293.0000 - _runtime: 327.0000\n",
            "Epoch 393/1000\n",
            "12/12 [==============================] - 0s 15ms/step - loss: 284.1659 - _timestamp: 1655276293.0000 - _runtime: 327.0000\n",
            "Epoch 394/1000\n",
            "12/12 [==============================] - 0s 13ms/step - loss: 280.3335 - _timestamp: 1655276293.0000 - _runtime: 327.0000\n",
            "Epoch 395/1000\n",
            "12/12 [==============================] - 0s 13ms/step - loss: 276.6839 - _timestamp: 1655276293.0000 - _runtime: 327.0000\n",
            "Epoch 396/1000\n",
            "12/12 [==============================] - 0s 13ms/step - loss: 272.1947 - _timestamp: 1655276293.0000 - _runtime: 327.0000\n",
            "Epoch 397/1000\n",
            "12/12 [==============================] - 0s 13ms/step - loss: 267.9017 - _timestamp: 1655276293.0000 - _runtime: 327.0000\n",
            "Epoch 398/1000\n",
            "12/12 [==============================] - 0s 13ms/step - loss: 264.1671 - _timestamp: 1655276294.0000 - _runtime: 328.0000\n",
            "Epoch 399/1000\n",
            "12/12 [==============================] - 0s 15ms/step - loss: 260.0384 - _timestamp: 1655276294.0000 - _runtime: 328.0000\n",
            "Epoch 400/1000\n",
            "12/12 [==============================] - 0s 13ms/step - loss: 256.0208 - _timestamp: 1655276294.0000 - _runtime: 328.0000\n",
            "Epoch 401/1000\n",
            "12/12 [==============================] - 0s 13ms/step - loss: 251.6467 - _timestamp: 1655276294.0000 - _runtime: 328.0000\n",
            "Epoch 402/1000\n",
            "12/12 [==============================] - 0s 14ms/step - loss: 247.6095 - _timestamp: 1655276294.0000 - _runtime: 328.0000\n",
            "Epoch 403/1000\n",
            "12/12 [==============================] - 0s 13ms/step - loss: 244.1866 - _timestamp: 1655276294.0000 - _runtime: 328.0000\n",
            "Epoch 404/1000\n",
            "12/12 [==============================] - 0s 13ms/step - loss: 241.0133 - _timestamp: 1655276295.0000 - _runtime: 329.0000\n",
            "Epoch 405/1000\n",
            "12/12 [==============================] - 0s 14ms/step - loss: 237.9721 - _timestamp: 1655276295.0000 - _runtime: 329.0000\n",
            "Epoch 406/1000\n",
            "12/12 [==============================] - 0s 13ms/step - loss: 234.9344 - _timestamp: 1655276295.0000 - _runtime: 329.0000\n",
            "Epoch 407/1000\n",
            "12/12 [==============================] - 0s 13ms/step - loss: 231.9560 - _timestamp: 1655276295.0000 - _runtime: 329.0000\n",
            "Epoch 408/1000\n",
            "12/12 [==============================] - 0s 13ms/step - loss: 229.0242 - _timestamp: 1655276295.0000 - _runtime: 329.0000\n",
            "Epoch 409/1000\n",
            "12/12 [==============================] - 0s 13ms/step - loss: 226.2174 - _timestamp: 1655276295.0000 - _runtime: 329.0000\n",
            "Epoch 410/1000\n",
            "12/12 [==============================] - 0s 13ms/step - loss: 223.5331 - _timestamp: 1655276295.0000 - _runtime: 329.0000\n",
            "Epoch 411/1000\n",
            "12/12 [==============================] - 0s 14ms/step - loss: 220.7640 - _timestamp: 1655276296.0000 - _runtime: 330.0000\n",
            "Epoch 412/1000\n",
            "12/12 [==============================] - 0s 13ms/step - loss: 218.0313 - _timestamp: 1655276296.0000 - _runtime: 330.0000\n",
            "Epoch 413/1000\n",
            "12/12 [==============================] - 0s 13ms/step - loss: 215.2726 - _timestamp: 1655276296.0000 - _runtime: 330.0000\n",
            "Epoch 414/1000\n",
            "12/12 [==============================] - 0s 14ms/step - loss: 212.6201 - _timestamp: 1655276296.0000 - _runtime: 330.0000\n",
            "Epoch 415/1000\n",
            "12/12 [==============================] - 0s 13ms/step - loss: 209.9029 - _timestamp: 1655276296.0000 - _runtime: 330.0000\n",
            "Epoch 416/1000\n",
            "12/12 [==============================] - 0s 13ms/step - loss: 207.2723 - _timestamp: 1655276296.0000 - _runtime: 330.0000\n",
            "Epoch 417/1000\n",
            "12/12 [==============================] - 0s 14ms/step - loss: 204.6848 - _timestamp: 1655276297.0000 - _runtime: 331.0000\n"
          ]
        },
        {
          "name": "stdout",
          "output_type": "stream",
          "text": [
            "Epoch 418/1000\n",
            "12/12 [==============================] - 0s 13ms/step - loss: 202.1489 - _timestamp: 1655276297.0000 - _runtime: 331.0000\n",
            "Epoch 419/1000\n",
            "12/12 [==============================] - 0s 13ms/step - loss: 199.7099 - _timestamp: 1655276297.0000 - _runtime: 331.0000\n",
            "Epoch 420/1000\n",
            "12/12 [==============================] - 0s 13ms/step - loss: 197.2497 - _timestamp: 1655276297.0000 - _runtime: 331.0000\n",
            "Epoch 421/1000\n",
            "12/12 [==============================] - 0s 13ms/step - loss: 194.5484 - _timestamp: 1655276297.0000 - _runtime: 331.0000\n",
            "Epoch 422/1000\n",
            "12/12 [==============================] - 0s 13ms/step - loss: 191.9274 - _timestamp: 1655276297.0000 - _runtime: 331.0000\n",
            "Epoch 423/1000\n",
            "12/12 [==============================] - 0s 15ms/step - loss: 189.1513 - _timestamp: 1655276298.0000 - _runtime: 332.0000\n",
            "Epoch 424/1000\n",
            "12/12 [==============================] - 0s 14ms/step - loss: 186.4355 - _timestamp: 1655276298.0000 - _runtime: 332.0000\n",
            "Epoch 425/1000\n",
            "12/12 [==============================] - 0s 14ms/step - loss: 184.0147 - _timestamp: 1655276298.0000 - _runtime: 332.0000\n",
            "Epoch 426/1000\n",
            "12/12 [==============================] - 0s 14ms/step - loss: 181.7977 - _timestamp: 1655276298.0000 - _runtime: 332.0000\n",
            "Epoch 427/1000\n",
            "12/12 [==============================] - 0s 13ms/step - loss: 179.6420 - _timestamp: 1655276298.0000 - _runtime: 332.0000\n",
            "Epoch 428/1000\n",
            "12/12 [==============================] - 0s 16ms/step - loss: 177.5699 - _timestamp: 1655276299.0000 - _runtime: 333.0000\n",
            "Epoch 429/1000\n",
            "12/12 [==============================] - 0s 17ms/step - loss: 175.5007 - _timestamp: 1655276299.0000 - _runtime: 333.0000\n",
            "Epoch 430/1000\n",
            "12/12 [==============================] - 0s 15ms/step - loss: 173.4472 - _timestamp: 1655276299.0000 - _runtime: 333.0000\n",
            "Epoch 431/1000\n",
            "12/12 [==============================] - 0s 15ms/step - loss: 171.4909 - _timestamp: 1655276299.0000 - _runtime: 333.0000\n",
            "Epoch 432/1000\n",
            "12/12 [==============================] - 0s 18ms/step - loss: 169.4825 - _timestamp: 1655276299.0000 - _runtime: 333.0000\n",
            "Epoch 433/1000\n",
            "12/12 [==============================] - 0s 15ms/step - loss: 167.5693 - _timestamp: 1655276299.0000 - _runtime: 333.0000\n",
            "Epoch 434/1000\n",
            "12/12 [==============================] - 0s 16ms/step - loss: 165.0429 - _timestamp: 1655276300.0000 - _runtime: 334.0000\n",
            "Epoch 435/1000\n",
            "12/12 [==============================] - 0s 14ms/step - loss: 162.6419 - _timestamp: 1655276300.0000 - _runtime: 334.0000\n",
            "Epoch 436/1000\n",
            "12/12 [==============================] - 0s 13ms/step - loss: 160.5980 - _timestamp: 1655276300.0000 - _runtime: 334.0000\n",
            "Epoch 437/1000\n",
            "12/12 [==============================] - 0s 14ms/step - loss: 158.8041 - _timestamp: 1655276300.0000 - _runtime: 334.0000\n",
            "Epoch 438/1000\n",
            "12/12 [==============================] - 0s 15ms/step - loss: 157.0508 - _timestamp: 1655276300.0000 - _runtime: 334.0000\n",
            "Epoch 439/1000\n",
            "12/12 [==============================] - 0s 15ms/step - loss: 155.3254 - _timestamp: 1655276301.0000 - _runtime: 335.0000\n",
            "Epoch 440/1000\n",
            "12/12 [==============================] - 0s 15ms/step - loss: 153.6529 - _timestamp: 1655276301.0000 - _runtime: 335.0000\n",
            "Epoch 441/1000\n",
            "12/12 [==============================] - 0s 17ms/step - loss: 151.9848 - _timestamp: 1655276301.0000 - _runtime: 335.0000\n",
            "Epoch 442/1000\n",
            "12/12 [==============================] - 0s 17ms/step - loss: 150.3578 - _timestamp: 1655276301.0000 - _runtime: 335.0000\n",
            "Epoch 443/1000\n",
            "12/12 [==============================] - 0s 15ms/step - loss: 148.4053 - _timestamp: 1655276301.0000 - _runtime: 335.0000\n",
            "Epoch 444/1000\n",
            "12/12 [==============================] - 0s 16ms/step - loss: 146.5466 - _timestamp: 1655276302.0000 - _runtime: 336.0000\n",
            "Epoch 445/1000\n",
            "12/12 [==============================] - 0s 15ms/step - loss: 144.9352 - _timestamp: 1655276302.0000 - _runtime: 336.0000\n",
            "Epoch 446/1000\n",
            "12/12 [==============================] - 0s 18ms/step - loss: 143.4157 - _timestamp: 1655276302.0000 - _runtime: 336.0000\n",
            "Epoch 447/1000\n",
            "12/12 [==============================] - 0s 15ms/step - loss: 142.0054 - _timestamp: 1655276302.0000 - _runtime: 336.0000\n",
            "Epoch 448/1000\n",
            "12/12 [==============================] - 0s 15ms/step - loss: 140.6238 - _timestamp: 1655276302.0000 - _runtime: 336.0000\n",
            "Epoch 449/1000\n",
            "12/12 [==============================] - 0s 14ms/step - loss: 139.2229 - _timestamp: 1655276303.0000 - _runtime: 337.0000\n",
            "Epoch 450/1000\n",
            "12/12 [==============================] - 0s 15ms/step - loss: 137.7868 - _timestamp: 1655276303.0000 - _runtime: 337.0000\n",
            "Epoch 451/1000\n",
            "12/12 [==============================] - 0s 13ms/step - loss: 136.4294 - _timestamp: 1655276303.0000 - _runtime: 337.0000\n",
            "Epoch 452/1000\n",
            "12/12 [==============================] - 0s 13ms/step - loss: 135.0574 - _timestamp: 1655276303.0000 - _runtime: 337.0000\n",
            "Epoch 453/1000\n",
            "12/12 [==============================] - 0s 13ms/step - loss: 133.6941 - _timestamp: 1655276303.0000 - _runtime: 337.0000\n",
            "Epoch 454/1000\n",
            "12/12 [==============================] - 0s 14ms/step - loss: 132.3662 - _timestamp: 1655276303.0000 - _runtime: 337.0000\n",
            "Epoch 455/1000\n",
            "12/12 [==============================] - 0s 13ms/step - loss: 131.0623 - _timestamp: 1655276304.0000 - _runtime: 338.0000\n",
            "Epoch 456/1000\n",
            "12/12 [==============================] - 0s 14ms/step - loss: 129.8059 - _timestamp: 1655276304.0000 - _runtime: 338.0000\n",
            "Epoch 457/1000\n",
            "12/12 [==============================] - 0s 13ms/step - loss: 128.5359 - _timestamp: 1655276304.0000 - _runtime: 338.0000\n",
            "Epoch 458/1000\n",
            "12/12 [==============================] - 0s 13ms/step - loss: 127.3259 - _timestamp: 1655276304.0000 - _runtime: 338.0000\n",
            "Epoch 459/1000\n",
            "12/12 [==============================] - 0s 13ms/step - loss: 126.0993 - _timestamp: 1655276304.0000 - _runtime: 338.0000\n",
            "Epoch 460/1000\n",
            "12/12 [==============================] - 0s 14ms/step - loss: 124.9174 - _timestamp: 1655276304.0000 - _runtime: 338.0000\n",
            "Epoch 461/1000\n",
            "12/12 [==============================] - 0s 13ms/step - loss: 123.7302 - _timestamp: 1655276304.0000 - _runtime: 338.0000\n",
            "Epoch 462/1000\n",
            "12/12 [==============================] - 0s 14ms/step - loss: 122.5755 - _timestamp: 1655276305.0000 - _runtime: 339.0000\n",
            "Epoch 463/1000\n",
            "12/12 [==============================] - 0s 13ms/step - loss: 121.4392 - _timestamp: 1655276305.0000 - _runtime: 339.0000\n",
            "Epoch 464/1000\n",
            "12/12 [==============================] - 0s 13ms/step - loss: 120.3257 - _timestamp: 1655276305.0000 - _runtime: 339.0000\n",
            "Epoch 465/1000\n",
            "12/12 [==============================] - 0s 13ms/step - loss: 119.2033 - _timestamp: 1655276305.0000 - _runtime: 339.0000\n",
            "Epoch 466/1000\n",
            "12/12 [==============================] - 0s 13ms/step - loss: 118.1179 - _timestamp: 1655276305.0000 - _runtime: 339.0000\n",
            "Epoch 467/1000\n",
            "12/12 [==============================] - 0s 14ms/step - loss: 117.0660 - _timestamp: 1655276305.0000 - _runtime: 339.0000\n",
            "Epoch 468/1000\n",
            "12/12 [==============================] - 0s 15ms/step - loss: 116.0209 - _timestamp: 1655276306.0000 - _runtime: 340.0000\n",
            "Epoch 469/1000\n",
            "12/12 [==============================] - 0s 13ms/step - loss: 115.0001 - _timestamp: 1655276306.0000 - _runtime: 340.0000\n",
            "Epoch 470/1000\n",
            "12/12 [==============================] - 0s 13ms/step - loss: 113.9964 - _timestamp: 1655276306.0000 - _runtime: 340.0000\n",
            "Epoch 471/1000\n",
            "12/12 [==============================] - 0s 13ms/step - loss: 113.0004 - _timestamp: 1655276306.0000 - _runtime: 340.0000\n",
            "Epoch 472/1000\n",
            "12/12 [==============================] - 0s 13ms/step - loss: 112.0324 - _timestamp: 1655276306.0000 - _runtime: 340.0000\n",
            "Epoch 473/1000\n",
            "12/12 [==============================] - 0s 13ms/step - loss: 111.0611 - _timestamp: 1655276306.0000 - _runtime: 340.0000\n",
            "Epoch 474/1000\n",
            "12/12 [==============================] - 0s 14ms/step - loss: 110.1272 - _timestamp: 1655276307.0000 - _runtime: 341.0000\n",
            "Epoch 475/1000\n",
            "12/12 [==============================] - 0s 13ms/step - loss: 109.2072 - _timestamp: 1655276307.0000 - _runtime: 341.0000\n",
            "Epoch 476/1000\n",
            "12/12 [==============================] - 0s 13ms/step - loss: 108.2978 - _timestamp: 1655276307.0000 - _runtime: 341.0000\n",
            "Epoch 477/1000\n",
            "12/12 [==============================] - 0s 13ms/step - loss: 107.4053 - _timestamp: 1655276307.0000 - _runtime: 341.0000\n"
          ]
        },
        {
          "name": "stdout",
          "output_type": "stream",
          "text": [
            "Epoch 478/1000\n",
            "12/12 [==============================] - 0s 13ms/step - loss: 106.3825 - _timestamp: 1655276307.0000 - _runtime: 341.0000\n",
            "Epoch 479/1000\n",
            "12/12 [==============================] - 0s 15ms/step - loss: 105.3342 - _timestamp: 1655276307.0000 - _runtime: 341.0000\n",
            "Epoch 480/1000\n",
            "12/12 [==============================] - 0s 14ms/step - loss: 104.2513 - _timestamp: 1655276308.0000 - _runtime: 342.0000\n",
            "Epoch 481/1000\n",
            "12/12 [==============================] - 0s 13ms/step - loss: 103.2503 - _timestamp: 1655276308.0000 - _runtime: 342.0000\n",
            "Epoch 482/1000\n",
            "12/12 [==============================] - 0s 14ms/step - loss: 102.2092 - _timestamp: 1655276308.0000 - _runtime: 342.0000\n",
            "Epoch 483/1000\n",
            "12/12 [==============================] - 0s 13ms/step - loss: 101.2855 - _timestamp: 1655276308.0000 - _runtime: 342.0000\n",
            "Epoch 484/1000\n",
            "12/12 [==============================] - 0s 13ms/step - loss: 100.4719 - _timestamp: 1655276308.0000 - _runtime: 342.0000\n",
            "Epoch 485/1000\n",
            "12/12 [==============================] - 0s 13ms/step - loss: 99.7409 - _timestamp: 1655276308.0000 - _runtime: 342.0000\n",
            "Epoch 486/1000\n",
            "12/12 [==============================] - 0s 14ms/step - loss: 99.0148 - _timestamp: 1655276309.0000 - _runtime: 343.0000\n",
            "Epoch 487/1000\n",
            "12/12 [==============================] - 0s 13ms/step - loss: 98.2997 - _timestamp: 1655276309.0000 - _runtime: 343.0000\n",
            "Epoch 488/1000\n",
            "12/12 [==============================] - 0s 13ms/step - loss: 97.6059 - _timestamp: 1655276309.0000 - _runtime: 343.0000\n",
            "Epoch 489/1000\n",
            "12/12 [==============================] - 0s 14ms/step - loss: 96.9049 - _timestamp: 1655276309.0000 - _runtime: 343.0000\n",
            "Epoch 490/1000\n",
            "12/12 [==============================] - 0s 14ms/step - loss: 96.2278 - _timestamp: 1655276309.0000 - _runtime: 343.0000\n",
            "Epoch 491/1000\n",
            "12/12 [==============================] - 0s 13ms/step - loss: 95.5569 - _timestamp: 1655276309.0000 - _runtime: 343.0000\n",
            "Epoch 492/1000\n",
            "12/12 [==============================] - 0s 15ms/step - loss: 94.9051 - _timestamp: 1655276310.0000 - _runtime: 344.0000\n",
            "Epoch 493/1000\n",
            "12/12 [==============================] - 0s 14ms/step - loss: 94.3074 - _timestamp: 1655276310.0000 - _runtime: 344.0000\n",
            "Epoch 494/1000\n",
            "12/12 [==============================] - 0s 13ms/step - loss: 93.7059 - _timestamp: 1655276310.0000 - _runtime: 344.0000\n",
            "Epoch 495/1000\n",
            "12/12 [==============================] - 0s 13ms/step - loss: 93.0933 - _timestamp: 1655276310.0000 - _runtime: 344.0000\n",
            "Epoch 496/1000\n",
            "12/12 [==============================] - 0s 14ms/step - loss: 92.4819 - _timestamp: 1655276310.0000 - _runtime: 344.0000\n",
            "Epoch 497/1000\n",
            "12/12 [==============================] - 0s 14ms/step - loss: 91.8966 - _timestamp: 1655276310.0000 - _runtime: 344.0000\n",
            "Epoch 498/1000\n",
            "12/12 [==============================] - 0s 14ms/step - loss: 91.2942 - _timestamp: 1655276311.0000 - _runtime: 345.0000\n",
            "Epoch 499/1000\n",
            "12/12 [==============================] - 0s 13ms/step - loss: 90.7234 - _timestamp: 1655276311.0000 - _runtime: 345.0000\n",
            "Epoch 500/1000\n",
            "12/12 [==============================] - 0s 14ms/step - loss: 90.1414 - _timestamp: 1655276311.0000 - _runtime: 345.0000\n",
            "Epoch 501/1000\n",
            "12/12 [==============================] - 0s 13ms/step - loss: 89.5907 - _timestamp: 1655276311.0000 - _runtime: 345.0000\n",
            "Epoch 502/1000\n",
            "12/12 [==============================] - 0s 14ms/step - loss: 89.0391 - _timestamp: 1655276311.0000 - _runtime: 345.0000\n",
            "Epoch 503/1000\n",
            "12/12 [==============================] - 0s 13ms/step - loss: 88.5015 - _timestamp: 1655276311.0000 - _runtime: 345.0000\n",
            "Epoch 504/1000\n",
            "12/12 [==============================] - 0s 14ms/step - loss: 87.8240 - _timestamp: 1655276312.0000 - _runtime: 346.0000\n",
            "Epoch 505/1000\n",
            "12/12 [==============================] - 0s 14ms/step - loss: 87.1862 - _timestamp: 1655276312.0000 - _runtime: 346.0000\n",
            "Epoch 506/1000\n",
            "12/12 [==============================] - 0s 13ms/step - loss: 86.5566 - _timestamp: 1655276312.0000 - _runtime: 346.0000\n",
            "Epoch 507/1000\n",
            "12/12 [==============================] - 0s 13ms/step - loss: 85.9657 - _timestamp: 1655276312.0000 - _runtime: 346.0000\n",
            "Epoch 508/1000\n",
            "12/12 [==============================] - 0s 13ms/step - loss: 85.3548 - _timestamp: 1655276312.0000 - _runtime: 346.0000\n",
            "Epoch 509/1000\n",
            "12/12 [==============================] - 0s 13ms/step - loss: 84.8076 - _timestamp: 1655276312.0000 - _runtime: 346.0000\n",
            "Epoch 510/1000\n",
            "12/12 [==============================] - 0s 15ms/step - loss: 84.3207 - _timestamp: 1655276313.0000 - _runtime: 347.0000\n",
            "Epoch 511/1000\n",
            "12/12 [==============================] - 0s 13ms/step - loss: 83.8786 - _timestamp: 1655276313.0000 - _runtime: 347.0000\n",
            "Epoch 512/1000\n",
            "12/12 [==============================] - 0s 14ms/step - loss: 83.4734 - _timestamp: 1655276313.0000 - _runtime: 347.0000\n",
            "Epoch 513/1000\n",
            "12/12 [==============================] - 0s 13ms/step - loss: 83.0581 - _timestamp: 1655276313.0000 - _runtime: 347.0000\n",
            "Epoch 514/1000\n",
            "12/12 [==============================] - 0s 13ms/step - loss: 82.6380 - _timestamp: 1655276313.0000 - _runtime: 347.0000\n",
            "Epoch 515/1000\n",
            "12/12 [==============================] - 0s 13ms/step - loss: 82.2190 - _timestamp: 1655276313.0000 - _runtime: 347.0000\n",
            "Epoch 516/1000\n",
            "12/12 [==============================] - 0s 14ms/step - loss: 81.7726 - _timestamp: 1655276314.0000 - _runtime: 348.0000\n",
            "Epoch 517/1000\n",
            "12/12 [==============================] - 0s 14ms/step - loss: 81.3481 - _timestamp: 1655276314.0000 - _runtime: 348.0000\n",
            "Epoch 518/1000\n",
            "12/12 [==============================] - 0s 13ms/step - loss: 80.9409 - _timestamp: 1655276314.0000 - _runtime: 348.0000\n",
            "Epoch 519/1000\n",
            "12/12 [==============================] - 0s 13ms/step - loss: 80.5442 - _timestamp: 1655276314.0000 - _runtime: 348.0000\n",
            "Epoch 520/1000\n",
            "12/12 [==============================] - 0s 13ms/step - loss: 80.1512 - _timestamp: 1655276314.0000 - _runtime: 348.0000\n",
            "Epoch 521/1000\n",
            "12/12 [==============================] - 0s 13ms/step - loss: 79.7556 - _timestamp: 1655276314.0000 - _runtime: 348.0000\n",
            "Epoch 522/1000\n",
            "12/12 [==============================] - 0s 14ms/step - loss: 79.3814 - _timestamp: 1655276315.0000 - _runtime: 349.0000\n",
            "Epoch 523/1000\n",
            "12/12 [==============================] - 0s 14ms/step - loss: 78.9985 - _timestamp: 1655276315.0000 - _runtime: 349.0000\n",
            "Epoch 524/1000\n",
            "12/12 [==============================] - 0s 15ms/step - loss: 78.5905 - _timestamp: 1655276315.0000 - _runtime: 349.0000\n",
            "Epoch 525/1000\n",
            "12/12 [==============================] - 0s 13ms/step - loss: 78.1978 - _timestamp: 1655276315.0000 - _runtime: 349.0000\n",
            "Epoch 526/1000\n",
            "12/12 [==============================] - 0s 14ms/step - loss: 77.8233 - _timestamp: 1655276315.0000 - _runtime: 349.0000\n",
            "Epoch 527/1000\n",
            "12/12 [==============================] - 0s 13ms/step - loss: 77.4404 - _timestamp: 1655276315.0000 - _runtime: 349.0000\n",
            "Epoch 528/1000\n",
            "12/12 [==============================] - 0s 14ms/step - loss: 77.0666 - _timestamp: 1655276316.0000 - _runtime: 350.0000\n",
            "Epoch 529/1000\n",
            "12/12 [==============================] - 0s 15ms/step - loss: 76.6899 - _timestamp: 1655276316.0000 - _runtime: 350.0000\n",
            "Epoch 530/1000\n",
            "12/12 [==============================] - 0s 17ms/step - loss: 76.3392 - _timestamp: 1655276316.0000 - _runtime: 350.0000\n",
            "Epoch 531/1000\n",
            "12/12 [==============================] - 0s 15ms/step - loss: 76.0029 - _timestamp: 1655276316.0000 - _runtime: 350.0000\n",
            "Epoch 532/1000\n",
            "12/12 [==============================] - 0s 15ms/step - loss: 75.6750 - _timestamp: 1655276316.0000 - _runtime: 350.0000\n",
            "Epoch 533/1000\n",
            "12/12 [==============================] - 0s 14ms/step - loss: 75.3576 - _timestamp: 1655276317.0000 - _runtime: 351.0000\n",
            "Epoch 534/1000\n",
            "12/12 [==============================] - 0s 17ms/step - loss: 75.0372 - _timestamp: 1655276317.0000 - _runtime: 351.0000\n",
            "Epoch 535/1000\n",
            "12/12 [==============================] - 0s 14ms/step - loss: 74.7254 - _timestamp: 1655276317.0000 - _runtime: 351.0000\n",
            "Epoch 536/1000\n",
            "12/12 [==============================] - 0s 14ms/step - loss: 74.4126 - _timestamp: 1655276317.0000 - _runtime: 351.0000\n",
            "Epoch 537/1000\n",
            "12/12 [==============================] - 0s 15ms/step - loss: 74.0893 - _timestamp: 1655276317.0000 - _runtime: 351.0000\n",
            "Epoch 538/1000\n"
          ]
        },
        {
          "name": "stdout",
          "output_type": "stream",
          "text": [
            "12/12 [==============================] - 0s 15ms/step - loss: 73.7973 - _timestamp: 1655276317.0000 - _runtime: 351.0000\n",
            "Epoch 539/1000\n",
            "12/12 [==============================] - 0s 15ms/step - loss: 73.4954 - _timestamp: 1655276318.0000 - _runtime: 352.0000\n",
            "Epoch 540/1000\n",
            "12/12 [==============================] - 0s 15ms/step - loss: 73.2003 - _timestamp: 1655276318.0000 - _runtime: 352.0000\n",
            "Epoch 541/1000\n",
            "12/12 [==============================] - 0s 14ms/step - loss: 72.9023 - _timestamp: 1655276318.0000 - _runtime: 352.0000\n",
            "Epoch 542/1000\n",
            "12/12 [==============================] - 0s 14ms/step - loss: 72.6161 - _timestamp: 1655276318.0000 - _runtime: 352.0000\n",
            "Epoch 543/1000\n",
            "12/12 [==============================] - 0s 15ms/step - loss: 72.3401 - _timestamp: 1655276318.0000 - _runtime: 352.0000\n",
            "Epoch 544/1000\n",
            "12/12 [==============================] - 0s 15ms/step - loss: 72.0446 - _timestamp: 1655276319.0000 - _runtime: 353.0000\n",
            "Epoch 545/1000\n",
            "12/12 [==============================] - 0s 15ms/step - loss: 71.7746 - _timestamp: 1655276319.0000 - _runtime: 353.0000\n",
            "Epoch 546/1000\n",
            "12/12 [==============================] - 0s 17ms/step - loss: 71.3598 - _timestamp: 1655276319.0000 - _runtime: 353.0000\n",
            "Epoch 547/1000\n",
            "12/12 [==============================] - 0s 15ms/step - loss: 71.0061 - _timestamp: 1655276319.0000 - _runtime: 353.0000\n",
            "Epoch 548/1000\n",
            "12/12 [==============================] - 0s 14ms/step - loss: 70.7177 - _timestamp: 1655276319.0000 - _runtime: 353.0000\n",
            "Epoch 549/1000\n",
            "12/12 [==============================] - 0s 16ms/step - loss: 70.4436 - _timestamp: 1655276319.0000 - _runtime: 353.0000\n",
            "Epoch 550/1000\n",
            "12/12 [==============================] - 0s 17ms/step - loss: 70.1885 - _timestamp: 1655276320.0000 - _runtime: 354.0000\n",
            "Epoch 551/1000\n",
            "12/12 [==============================] - 0s 15ms/step - loss: 69.9382 - _timestamp: 1655276320.0000 - _runtime: 354.0000\n",
            "Epoch 552/1000\n",
            "12/12 [==============================] - 0s 15ms/step - loss: 69.6847 - _timestamp: 1655276320.0000 - _runtime: 354.0000\n",
            "Epoch 553/1000\n",
            "12/12 [==============================] - 0s 15ms/step - loss: 69.4305 - _timestamp: 1655276320.0000 - _runtime: 354.0000\n",
            "Epoch 554/1000\n",
            "12/12 [==============================] - 0s 14ms/step - loss: 69.1930 - _timestamp: 1655276320.0000 - _runtime: 354.0000\n",
            "Epoch 555/1000\n",
            "12/12 [==============================] - 0s 15ms/step - loss: 68.9529 - _timestamp: 1655276321.0000 - _runtime: 355.0000\n",
            "Epoch 556/1000\n",
            "12/12 [==============================] - 0s 14ms/step - loss: 68.7056 - _timestamp: 1655276321.0000 - _runtime: 355.0000\n",
            "Epoch 557/1000\n",
            "12/12 [==============================] - 0s 15ms/step - loss: 68.4732 - _timestamp: 1655276321.0000 - _runtime: 355.0000\n",
            "Epoch 558/1000\n",
            "12/12 [==============================] - 0s 14ms/step - loss: 68.2349 - _timestamp: 1655276321.0000 - _runtime: 355.0000\n",
            "Epoch 559/1000\n",
            "12/12 [==============================] - 0s 13ms/step - loss: 67.9944 - _timestamp: 1655276321.0000 - _runtime: 355.0000\n",
            "Epoch 560/1000\n",
            "12/12 [==============================] - 0s 13ms/step - loss: 67.7679 - _timestamp: 1655276321.0000 - _runtime: 355.0000\n",
            "Epoch 561/1000\n",
            "12/12 [==============================] - 0s 15ms/step - loss: 67.5299 - _timestamp: 1655276322.0000 - _runtime: 356.0000\n",
            "Epoch 562/1000\n",
            "12/12 [==============================] - 0s 15ms/step - loss: 67.3015 - _timestamp: 1655276322.0000 - _runtime: 356.0000\n",
            "Epoch 563/1000\n",
            "12/12 [==============================] - 0s 15ms/step - loss: 67.0987 - _timestamp: 1655276322.0000 - _runtime: 356.0000\n",
            "Epoch 564/1000\n",
            "12/12 [==============================] - 0s 14ms/step - loss: 66.8383 - _timestamp: 1655276322.0000 - _runtime: 356.0000\n",
            "Epoch 565/1000\n",
            "12/12 [==============================] - 0s 14ms/step - loss: 66.5787 - _timestamp: 1655276322.0000 - _runtime: 356.0000\n",
            "Epoch 566/1000\n",
            "12/12 [==============================] - 0s 15ms/step - loss: 66.3559 - _timestamp: 1655276323.0000 - _runtime: 357.0000\n",
            "Epoch 567/1000\n",
            "12/12 [==============================] - 0s 16ms/step - loss: 66.1249 - _timestamp: 1655276323.0000 - _runtime: 357.0000\n",
            "Epoch 568/1000\n",
            "12/12 [==============================] - 0s 15ms/step - loss: 65.9152 - _timestamp: 1655276323.0000 - _runtime: 357.0000\n",
            "Epoch 569/1000\n",
            "12/12 [==============================] - 0s 14ms/step - loss: 65.7031 - _timestamp: 1655276323.0000 - _runtime: 357.0000\n",
            "Epoch 570/1000\n",
            "12/12 [==============================] - 0s 14ms/step - loss: 65.4876 - _timestamp: 1655276323.0000 - _runtime: 357.0000\n",
            "Epoch 571/1000\n",
            "12/12 [==============================] - 0s 14ms/step - loss: 65.2811 - _timestamp: 1655276323.0000 - _runtime: 357.0000\n",
            "Epoch 572/1000\n",
            "12/12 [==============================] - 0s 15ms/step - loss: 65.0736 - _timestamp: 1655276324.0000 - _runtime: 358.0000\n",
            "Epoch 573/1000\n",
            "12/12 [==============================] - 0s 14ms/step - loss: 64.8618 - _timestamp: 1655276324.0000 - _runtime: 358.0000\n",
            "Epoch 574/1000\n",
            "12/12 [==============================] - 0s 14ms/step - loss: 64.6610 - _timestamp: 1655276324.0000 - _runtime: 358.0000\n",
            "Epoch 575/1000\n",
            "12/12 [==============================] - 0s 14ms/step - loss: 64.4446 - _timestamp: 1655276324.0000 - _runtime: 358.0000\n",
            "Epoch 576/1000\n",
            "12/12 [==============================] - 0s 13ms/step - loss: 64.2469 - _timestamp: 1655276324.0000 - _runtime: 358.0000\n",
            "Epoch 577/1000\n",
            "12/12 [==============================] - 0s 13ms/step - loss: 64.0391 - _timestamp: 1655276324.0000 - _runtime: 358.0000\n",
            "Epoch 578/1000\n",
            "12/12 [==============================] - 0s 15ms/step - loss: 63.8360 - _timestamp: 1655276325.0000 - _runtime: 359.0000\n",
            "Epoch 579/1000\n",
            "12/12 [==============================] - 0s 15ms/step - loss: 63.6369 - _timestamp: 1655276325.0000 - _runtime: 359.0000\n",
            "Epoch 580/1000\n",
            "12/12 [==============================] - 0s 14ms/step - loss: 63.4308 - _timestamp: 1655276325.0000 - _runtime: 359.0000\n",
            "Epoch 581/1000\n",
            "12/12 [==============================] - 0s 14ms/step - loss: 63.2296 - _timestamp: 1655276325.0000 - _runtime: 359.0000\n",
            "Epoch 582/1000\n",
            "12/12 [==============================] - 0s 13ms/step - loss: 63.0357 - _timestamp: 1655276325.0000 - _runtime: 359.0000\n",
            "Epoch 583/1000\n",
            "12/12 [==============================] - 0s 15ms/step - loss: 62.8327 - _timestamp: 1655276325.0000 - _runtime: 359.0000\n",
            "Epoch 584/1000\n",
            "12/12 [==============================] - 0s 15ms/step - loss: 62.6403 - _timestamp: 1655276326.0000 - _runtime: 360.0000\n",
            "Epoch 585/1000\n",
            "12/12 [==============================] - 0s 13ms/step - loss: 62.4382 - _timestamp: 1655276326.0000 - _runtime: 360.0000\n",
            "Epoch 586/1000\n",
            "12/12 [==============================] - 0s 15ms/step - loss: 62.2472 - _timestamp: 1655276326.0000 - _runtime: 360.0000\n",
            "Epoch 587/1000\n",
            "12/12 [==============================] - 0s 14ms/step - loss: 62.0475 - _timestamp: 1655276326.0000 - _runtime: 360.0000\n",
            "Epoch 588/1000\n",
            "12/12 [==============================] - 0s 14ms/step - loss: 61.8607 - _timestamp: 1655276326.0000 - _runtime: 360.0000\n",
            "Epoch 589/1000\n",
            "12/12 [==============================] - 0s 14ms/step - loss: 61.6655 - _timestamp: 1655276327.0000 - _runtime: 361.0000\n",
            "Epoch 590/1000\n",
            "12/12 [==============================] - 0s 15ms/step - loss: 61.4709 - _timestamp: 1655276327.0000 - _runtime: 361.0000\n",
            "Epoch 591/1000\n",
            "12/12 [==============================] - 0s 14ms/step - loss: 61.2798 - _timestamp: 1655276327.0000 - _runtime: 361.0000\n",
            "Epoch 592/1000\n",
            "12/12 [==============================] - 0s 14ms/step - loss: 61.0914 - _timestamp: 1655276327.0000 - _runtime: 361.0000\n",
            "Epoch 593/1000\n",
            "12/12 [==============================] - 0s 15ms/step - loss: 60.8992 - _timestamp: 1655276327.0000 - _runtime: 361.0000\n",
            "Epoch 594/1000\n",
            "12/12 [==============================] - 0s 15ms/step - loss: 60.7140 - _timestamp: 1655276327.0000 - _runtime: 361.0000\n",
            "Epoch 595/1000\n",
            "12/12 [==============================] - 0s 16ms/step - loss: 60.5346 - _timestamp: 1655276328.0000 - _runtime: 362.0000\n",
            "Epoch 596/1000\n",
            "12/12 [==============================] - 0s 15ms/step - loss: 60.3559 - _timestamp: 1655276328.0000 - _runtime: 362.0000\n",
            "Epoch 597/1000\n",
            "12/12 [==============================] - 0s 15ms/step - loss: 60.1639 - _timestamp: 1655276328.0000 - _runtime: 362.0000\n",
            "Epoch 598/1000\n"
          ]
        },
        {
          "name": "stdout",
          "output_type": "stream",
          "text": [
            "12/12 [==============================] - 0s 14ms/step - loss: 59.9691 - _timestamp: 1655276328.0000 - _runtime: 362.0000\n",
            "Epoch 599/1000\n",
            "12/12 [==============================] - 0s 15ms/step - loss: 59.7777 - _timestamp: 1655276328.0000 - _runtime: 362.0000\n",
            "Epoch 600/1000\n",
            "12/12 [==============================] - 0s 16ms/step - loss: 59.5948 - _timestamp: 1655276329.0000 - _runtime: 363.0000\n",
            "Epoch 601/1000\n",
            "12/12 [==============================] - 0s 16ms/step - loss: 59.4067 - _timestamp: 1655276329.0000 - _runtime: 363.0000\n",
            "Epoch 602/1000\n",
            "12/12 [==============================] - 0s 15ms/step - loss: 59.2182 - _timestamp: 1655276329.0000 - _runtime: 363.0000\n",
            "Epoch 603/1000\n",
            "12/12 [==============================] - 0s 17ms/step - loss: 59.0360 - _timestamp: 1655276329.0000 - _runtime: 363.0000\n",
            "Epoch 604/1000\n",
            "12/12 [==============================] - 0s 15ms/step - loss: 58.8466 - _timestamp: 1655276329.0000 - _runtime: 363.0000\n",
            "Epoch 605/1000\n",
            "12/12 [==============================] - 0s 14ms/step - loss: 58.6676 - _timestamp: 1655276329.0000 - _runtime: 363.0000\n",
            "Epoch 606/1000\n",
            "12/12 [==============================] - 0s 16ms/step - loss: 58.4777 - _timestamp: 1655276330.0000 - _runtime: 364.0000\n",
            "Epoch 607/1000\n",
            "12/12 [==============================] - 0s 14ms/step - loss: 58.2964 - _timestamp: 1655276330.0000 - _runtime: 364.0000\n",
            "Epoch 608/1000\n",
            "12/12 [==============================] - 0s 15ms/step - loss: 58.0838 - _timestamp: 1655276330.0000 - _runtime: 364.0000\n",
            "Epoch 609/1000\n",
            "12/12 [==============================] - 0s 15ms/step - loss: 57.8771 - _timestamp: 1655276330.0000 - _runtime: 364.0000\n",
            "Epoch 610/1000\n",
            "12/12 [==============================] - 0s 15ms/step - loss: 57.6838 - _timestamp: 1655276330.0000 - _runtime: 364.0000\n",
            "Epoch 611/1000\n",
            "12/12 [==============================] - 0s 13ms/step - loss: 57.5074 - _timestamp: 1655276331.0000 - _runtime: 365.0000\n",
            "Epoch 612/1000\n",
            "12/12 [==============================] - 0s 15ms/step - loss: 57.3205 - _timestamp: 1655276331.0000 - _runtime: 365.0000\n",
            "Epoch 613/1000\n",
            "12/12 [==============================] - 0s 14ms/step - loss: 57.1435 - _timestamp: 1655276331.0000 - _runtime: 365.0000\n",
            "Epoch 614/1000\n",
            "12/12 [==============================] - 0s 14ms/step - loss: 56.9643 - _timestamp: 1655276331.0000 - _runtime: 365.0000\n",
            "Epoch 615/1000\n",
            "12/12 [==============================] - 0s 14ms/step - loss: 56.7680 - _timestamp: 1655276331.0000 - _runtime: 365.0000\n",
            "Epoch 616/1000\n",
            "12/12 [==============================] - 0s 14ms/step - loss: 56.5749 - _timestamp: 1655276331.0000 - _runtime: 365.0000\n",
            "Epoch 617/1000\n",
            "12/12 [==============================] - 0s 14ms/step - loss: 56.3982 - _timestamp: 1655276332.0000 - _runtime: 366.0000\n",
            "Epoch 618/1000\n",
            "12/12 [==============================] - 0s 14ms/step - loss: 56.2115 - _timestamp: 1655276332.0000 - _runtime: 366.0000\n",
            "Epoch 619/1000\n",
            "12/12 [==============================] - 0s 14ms/step - loss: 56.0442 - _timestamp: 1655276332.0000 - _runtime: 366.0000\n",
            "Epoch 620/1000\n",
            "12/12 [==============================] - 0s 13ms/step - loss: 55.8615 - _timestamp: 1655276332.0000 - _runtime: 366.0000\n",
            "Epoch 621/1000\n",
            "12/12 [==============================] - 0s 15ms/step - loss: 55.6930 - _timestamp: 1655276332.0000 - _runtime: 366.0000\n",
            "Epoch 622/1000\n",
            "12/12 [==============================] - 0s 13ms/step - loss: 55.5197 - _timestamp: 1655276332.0000 - _runtime: 366.0000\n",
            "Epoch 623/1000\n",
            "12/12 [==============================] - 0s 14ms/step - loss: 55.3435 - _timestamp: 1655276333.0000 - _runtime: 367.0000\n",
            "Epoch 624/1000\n",
            "12/12 [==============================] - 0s 14ms/step - loss: 55.1699 - _timestamp: 1655276333.0000 - _runtime: 367.0000\n",
            "Epoch 625/1000\n",
            "12/12 [==============================] - 0s 14ms/step - loss: 54.9907 - _timestamp: 1655276333.0000 - _runtime: 367.0000\n",
            "Epoch 626/1000\n",
            "12/12 [==============================] - 0s 13ms/step - loss: 54.8233 - _timestamp: 1655276333.0000 - _runtime: 367.0000\n",
            "Epoch 627/1000\n",
            "12/12 [==============================] - 0s 14ms/step - loss: 54.6524 - _timestamp: 1655276333.0000 - _runtime: 367.0000\n",
            "Epoch 628/1000\n",
            "12/12 [==============================] - 0s 14ms/step - loss: 54.4853 - _timestamp: 1655276333.0000 - _runtime: 367.0000\n",
            "Epoch 629/1000\n",
            "12/12 [==============================] - 0s 14ms/step - loss: 54.3159 - _timestamp: 1655276334.0000 - _runtime: 368.0000\n",
            "Epoch 630/1000\n",
            "12/12 [==============================] - 0s 14ms/step - loss: 54.1409 - _timestamp: 1655276334.0000 - _runtime: 368.0000\n",
            "Epoch 631/1000\n",
            "12/12 [==============================] - 0s 14ms/step - loss: 53.9698 - _timestamp: 1655276334.0000 - _runtime: 368.0000\n",
            "Epoch 632/1000\n",
            "12/12 [==============================] - 0s 13ms/step - loss: 53.8003 - _timestamp: 1655276334.0000 - _runtime: 368.0000\n",
            "Epoch 633/1000\n",
            "12/12 [==============================] - 0s 13ms/step - loss: 53.6339 - _timestamp: 1655276334.0000 - _runtime: 368.0000\n",
            "Epoch 634/1000\n",
            "12/12 [==============================] - 0s 13ms/step - loss: 53.4686 - _timestamp: 1655276334.0000 - _runtime: 368.0000\n",
            "Epoch 635/1000\n",
            "12/12 [==============================] - 0s 13ms/step - loss: 53.3023 - _timestamp: 1655276335.0000 - _runtime: 369.0000\n",
            "Epoch 636/1000\n",
            "12/12 [==============================] - 0s 14ms/step - loss: 53.1315 - _timestamp: 1655276335.0000 - _runtime: 369.0000\n",
            "Epoch 637/1000\n",
            "12/12 [==============================] - 0s 13ms/step - loss: 52.9706 - _timestamp: 1655276335.0000 - _runtime: 369.0000\n",
            "Epoch 638/1000\n",
            "12/12 [==============================] - 0s 14ms/step - loss: 52.8072 - _timestamp: 1655276335.0000 - _runtime: 369.0000\n",
            "Epoch 639/1000\n",
            "12/12 [==============================] - 0s 14ms/step - loss: 52.6364 - _timestamp: 1655276335.0000 - _runtime: 369.0000\n",
            "Epoch 640/1000\n",
            "12/12 [==============================] - 0s 14ms/step - loss: 52.4749 - _timestamp: 1655276335.0000 - _runtime: 369.0000\n",
            "Epoch 641/1000\n",
            "12/12 [==============================] - 0s 14ms/step - loss: 52.3122 - _timestamp: 1655276336.0000 - _runtime: 370.0000\n",
            "Epoch 642/1000\n",
            "12/12 [==============================] - 0s 13ms/step - loss: 52.1387 - _timestamp: 1655276336.0000 - _runtime: 370.0000\n",
            "Epoch 643/1000\n",
            "12/12 [==============================] - 0s 13ms/step - loss: 51.9771 - _timestamp: 1655276336.0000 - _runtime: 370.0000\n",
            "Epoch 644/1000\n",
            "12/12 [==============================] - 0s 14ms/step - loss: 51.8033 - _timestamp: 1655276336.0000 - _runtime: 370.0000\n",
            "Epoch 645/1000\n",
            "12/12 [==============================] - 0s 14ms/step - loss: 51.6413 - _timestamp: 1655276336.0000 - _runtime: 370.0000\n",
            "Epoch 646/1000\n",
            "12/12 [==============================] - 0s 13ms/step - loss: 51.4857 - _timestamp: 1655276336.0000 - _runtime: 370.0000\n",
            "Epoch 647/1000\n",
            "12/12 [==============================] - 0s 14ms/step - loss: 51.3127 - _timestamp: 1655276337.0000 - _runtime: 371.0000\n",
            "Epoch 648/1000\n",
            "12/12 [==============================] - 0s 14ms/step - loss: 51.1534 - _timestamp: 1655276337.0000 - _runtime: 371.0000\n",
            "Epoch 649/1000\n",
            "12/12 [==============================] - 0s 13ms/step - loss: 50.9869 - _timestamp: 1655276337.0000 - _runtime: 371.0000\n",
            "Epoch 650/1000\n",
            "12/12 [==============================] - 0s 14ms/step - loss: 50.8290 - _timestamp: 1655276337.0000 - _runtime: 371.0000\n",
            "Epoch 651/1000\n",
            "12/12 [==============================] - 0s 13ms/step - loss: 50.6621 - _timestamp: 1655276337.0000 - _runtime: 371.0000\n",
            "Epoch 652/1000\n",
            "12/12 [==============================] - 0s 13ms/step - loss: 50.5041 - _timestamp: 1655276337.0000 - _runtime: 371.0000\n",
            "Epoch 653/1000\n",
            "12/12 [==============================] - 0s 14ms/step - loss: 50.3432 - _timestamp: 1655276338.0000 - _runtime: 372.0000\n",
            "Epoch 654/1000\n",
            "12/12 [==============================] - 0s 13ms/step - loss: 50.1625 - _timestamp: 1655276338.0000 - _runtime: 372.0000\n",
            "Epoch 655/1000\n",
            "12/12 [==============================] - 0s 14ms/step - loss: 49.9909 - _timestamp: 1655276338.0000 - _runtime: 372.0000\n",
            "Epoch 656/1000\n",
            "12/12 [==============================] - 0s 13ms/step - loss: 49.8328 - _timestamp: 1655276338.0000 - _runtime: 372.0000\n",
            "Epoch 657/1000\n",
            "12/12 [==============================] - 0s 13ms/step - loss: 49.6705 - _timestamp: 1655276338.0000 - _runtime: 372.0000\n",
            "Epoch 658/1000\n"
          ]
        },
        {
          "name": "stdout",
          "output_type": "stream",
          "text": [
            "12/12 [==============================] - 0s 14ms/step - loss: 49.5010 - _timestamp: 1655276338.0000 - _runtime: 372.0000\n",
            "Epoch 659/1000\n",
            "12/12 [==============================] - 0s 14ms/step - loss: 49.3441 - _timestamp: 1655276339.0000 - _runtime: 373.0000\n",
            "Epoch 660/1000\n",
            "12/12 [==============================] - 0s 14ms/step - loss: 49.1858 - _timestamp: 1655276339.0000 - _runtime: 373.0000\n",
            "Epoch 661/1000\n",
            "12/12 [==============================] - 0s 13ms/step - loss: 49.0201 - _timestamp: 1655276339.0000 - _runtime: 373.0000\n",
            "Epoch 662/1000\n",
            "12/12 [==============================] - 0s 14ms/step - loss: 48.8640 - _timestamp: 1655276339.0000 - _runtime: 373.0000\n",
            "Epoch 663/1000\n",
            "12/12 [==============================] - 0s 13ms/step - loss: 48.7098 - _timestamp: 1655276339.0000 - _runtime: 373.0000\n",
            "Epoch 664/1000\n",
            "12/12 [==============================] - 0s 15ms/step - loss: 48.5453 - _timestamp: 1655276339.0000 - _runtime: 373.0000\n",
            "Epoch 665/1000\n",
            "12/12 [==============================] - 0s 16ms/step - loss: 48.3861 - _timestamp: 1655276340.0000 - _runtime: 374.0000\n",
            "Epoch 666/1000\n",
            "12/12 [==============================] - 0s 14ms/step - loss: 48.2268 - _timestamp: 1655276340.0000 - _runtime: 374.0000\n",
            "Epoch 667/1000\n",
            "12/12 [==============================] - 0s 15ms/step - loss: 48.0669 - _timestamp: 1655276340.0000 - _runtime: 374.0000\n",
            "Epoch 668/1000\n",
            "12/12 [==============================] - 0s 15ms/step - loss: 47.9078 - _timestamp: 1655276340.0000 - _runtime: 374.0000\n",
            "Epoch 669/1000\n",
            "12/12 [==============================] - 0s 15ms/step - loss: 47.7492 - _timestamp: 1655276340.0000 - _runtime: 374.0000\n",
            "Epoch 670/1000\n",
            "12/12 [==============================] - 0s 14ms/step - loss: 47.5746 - _timestamp: 1655276341.0000 - _runtime: 375.0000\n",
            "Epoch 671/1000\n",
            "12/12 [==============================] - 0s 15ms/step - loss: 47.4095 - _timestamp: 1655276341.0000 - _runtime: 375.0000\n",
            "Epoch 672/1000\n",
            "12/12 [==============================] - 0s 13ms/step - loss: 47.2464 - _timestamp: 1655276341.0000 - _runtime: 375.0000\n",
            "Epoch 673/1000\n",
            "12/12 [==============================] - 0s 13ms/step - loss: 47.0858 - _timestamp: 1655276341.0000 - _runtime: 375.0000\n",
            "Epoch 674/1000\n",
            "12/12 [==============================] - 0s 14ms/step - loss: 46.9276 - _timestamp: 1655276341.0000 - _runtime: 375.0000\n",
            "Epoch 675/1000\n",
            "12/12 [==============================] - 0s 14ms/step - loss: 46.7856 - _timestamp: 1655276341.0000 - _runtime: 375.0000\n",
            "Epoch 676/1000\n",
            "12/12 [==============================] - 0s 14ms/step - loss: 46.6332 - _timestamp: 1655276342.0000 - _runtime: 376.0000\n",
            "Epoch 677/1000\n",
            "12/12 [==============================] - 0s 14ms/step - loss: 46.4904 - _timestamp: 1655276342.0000 - _runtime: 376.0000\n",
            "Epoch 678/1000\n",
            "12/12 [==============================] - 0s 13ms/step - loss: 46.3426 - _timestamp: 1655276342.0000 - _runtime: 376.0000\n",
            "Epoch 679/1000\n",
            "12/12 [==============================] - 0s 13ms/step - loss: 46.1945 - _timestamp: 1655276342.0000 - _runtime: 376.0000\n",
            "Epoch 680/1000\n",
            "12/12 [==============================] - 0s 14ms/step - loss: 46.0389 - _timestamp: 1655276342.0000 - _runtime: 376.0000\n",
            "Epoch 681/1000\n",
            "12/12 [==============================] - 0s 13ms/step - loss: 45.8876 - _timestamp: 1655276342.0000 - _runtime: 376.0000\n",
            "Epoch 682/1000\n",
            "12/12 [==============================] - 0s 14ms/step - loss: 45.7386 - _timestamp: 1655276343.0000 - _runtime: 377.0000\n",
            "Epoch 683/1000\n",
            "12/12 [==============================] - 0s 15ms/step - loss: 45.5840 - _timestamp: 1655276343.0000 - _runtime: 377.0000\n",
            "Epoch 684/1000\n",
            "12/12 [==============================] - 0s 14ms/step - loss: 45.4368 - _timestamp: 1655276343.0000 - _runtime: 377.0000\n",
            "Epoch 685/1000\n",
            "12/12 [==============================] - 0s 13ms/step - loss: 45.2802 - _timestamp: 1655276343.0000 - _runtime: 377.0000\n",
            "Epoch 686/1000\n",
            "12/12 [==============================] - 0s 13ms/step - loss: 45.1355 - _timestamp: 1655276343.0000 - _runtime: 377.0000\n",
            "Epoch 687/1000\n",
            "12/12 [==============================] - 0s 14ms/step - loss: 44.9798 - _timestamp: 1655276343.0000 - _runtime: 377.0000\n",
            "Epoch 688/1000\n",
            "12/12 [==============================] - 0s 13ms/step - loss: 44.8054 - _timestamp: 1655276344.0000 - _runtime: 378.0000\n",
            "Epoch 689/1000\n",
            "12/12 [==============================] - 0s 14ms/step - loss: 44.6437 - _timestamp: 1655276344.0000 - _runtime: 378.0000\n",
            "Epoch 690/1000\n",
            "12/12 [==============================] - 0s 13ms/step - loss: 44.4934 - _timestamp: 1655276344.0000 - _runtime: 378.0000\n",
            "Epoch 691/1000\n",
            "12/12 [==============================] - 0s 14ms/step - loss: 44.3465 - _timestamp: 1655276344.0000 - _runtime: 378.0000\n",
            "Epoch 692/1000\n",
            "12/12 [==============================] - 0s 15ms/step - loss: 44.1912 - _timestamp: 1655276344.0000 - _runtime: 378.0000\n",
            "Epoch 693/1000\n",
            "12/12 [==============================] - 0s 15ms/step - loss: 44.0465 - _timestamp: 1655276344.0000 - _runtime: 378.0000\n",
            "Epoch 694/1000\n",
            "12/12 [==============================] - 0s 18ms/step - loss: 43.9070 - _timestamp: 1655276345.0000 - _runtime: 379.0000\n",
            "Epoch 695/1000\n",
            "12/12 [==============================] - 0s 17ms/step - loss: 43.7563 - _timestamp: 1655276345.0000 - _runtime: 379.0000\n",
            "Epoch 696/1000\n",
            "12/12 [==============================] - 0s 20ms/step - loss: 43.6106 - _timestamp: 1655276345.0000 - _runtime: 379.0000\n",
            "Epoch 697/1000\n",
            "12/12 [==============================] - 0s 19ms/step - loss: 43.4699 - _timestamp: 1655276345.0000 - _runtime: 379.0000\n",
            "Epoch 698/1000\n",
            "12/12 [==============================] - 0s 16ms/step - loss: 43.3244 - _timestamp: 1655276346.0000 - _runtime: 380.0000\n",
            "Epoch 699/1000\n",
            "12/12 [==============================] - 0s 20ms/step - loss: 43.1804 - _timestamp: 1655276346.0000 - _runtime: 380.0000\n",
            "Epoch 700/1000\n",
            "12/12 [==============================] - 0s 18ms/step - loss: 43.0368 - _timestamp: 1655276346.0000 - _runtime: 380.0000\n",
            "Epoch 701/1000\n",
            "12/12 [==============================] - 0s 17ms/step - loss: 42.8924 - _timestamp: 1655276346.0000 - _runtime: 380.0000\n",
            "Epoch 702/1000\n",
            "12/12 [==============================] - 0s 18ms/step - loss: 42.7427 - _timestamp: 1655276346.0000 - _runtime: 380.0000\n",
            "Epoch 703/1000\n",
            "12/12 [==============================] - 0s 16ms/step - loss: 42.6057 - _timestamp: 1655276347.0000 - _runtime: 381.0000\n",
            "Epoch 704/1000\n",
            "12/12 [==============================] - 0s 19ms/step - loss: 42.4600 - _timestamp: 1655276347.0000 - _runtime: 381.0000\n",
            "Epoch 705/1000\n",
            "12/12 [==============================] - 0s 20ms/step - loss: 42.3186 - _timestamp: 1655276347.0000 - _runtime: 381.0000\n",
            "Epoch 706/1000\n",
            "12/12 [==============================] - 0s 15ms/step - loss: 42.1715 - _timestamp: 1655276347.0000 - _runtime: 381.0000\n",
            "Epoch 707/1000\n",
            "12/12 [==============================] - 0s 16ms/step - loss: 42.0338 - _timestamp: 1655276347.0000 - _runtime: 381.0000\n",
            "Epoch 708/1000\n",
            "12/12 [==============================] - 0s 15ms/step - loss: 41.8924 - _timestamp: 1655276348.0000 - _runtime: 382.0000\n",
            "Epoch 709/1000\n",
            "12/12 [==============================] - 0s 17ms/step - loss: 41.7427 - _timestamp: 1655276348.0000 - _runtime: 382.0000\n",
            "Epoch 710/1000\n",
            "12/12 [==============================] - 0s 17ms/step - loss: 41.6040 - _timestamp: 1655276348.0000 - _runtime: 382.0000\n",
            "Epoch 711/1000\n",
            "12/12 [==============================] - 0s 17ms/step - loss: 41.4627 - _timestamp: 1655276348.0000 - _runtime: 382.0000\n",
            "Epoch 712/1000\n",
            "12/12 [==============================] - 0s 14ms/step - loss: 41.3255 - _timestamp: 1655276348.0000 - _runtime: 382.0000\n",
            "Epoch 713/1000\n",
            "12/12 [==============================] - 0s 19ms/step - loss: 41.1854 - _timestamp: 1655276349.0000 - _runtime: 383.0000\n",
            "Epoch 714/1000\n",
            "12/12 [==============================] - 0s 18ms/step - loss: 41.0442 - _timestamp: 1655276349.0000 - _runtime: 383.0000\n",
            "Epoch 715/1000\n",
            "12/12 [==============================] - 0s 15ms/step - loss: 40.9202 - _timestamp: 1655276349.0000 - _runtime: 383.0000\n",
            "Epoch 716/1000\n",
            "12/12 [==============================] - 0s 18ms/step - loss: 40.8043 - _timestamp: 1655276349.0000 - _runtime: 383.0000\n",
            "Epoch 717/1000\n",
            "12/12 [==============================] - 0s 17ms/step - loss: 40.6648 - _timestamp: 1655276350.0000 - _runtime: 384.0000\n",
            "Epoch 718/1000\n"
          ]
        },
        {
          "name": "stdout",
          "output_type": "stream",
          "text": [
            "12/12 [==============================] - 0s 20ms/step - loss: 40.5339 - _timestamp: 1655276350.0000 - _runtime: 384.0000\n",
            "Epoch 719/1000\n",
            "12/12 [==============================] - 0s 17ms/step - loss: 40.3855 - _timestamp: 1655276350.0000 - _runtime: 384.0000\n",
            "Epoch 720/1000\n",
            "12/12 [==============================] - 0s 18ms/step - loss: 40.2567 - _timestamp: 1655276350.0000 - _runtime: 384.0000\n",
            "Epoch 721/1000\n",
            "12/12 [==============================] - 0s 17ms/step - loss: 40.1144 - _timestamp: 1655276350.0000 - _runtime: 384.0000\n",
            "Epoch 722/1000\n",
            "12/12 [==============================] - 0s 18ms/step - loss: 39.9772 - _timestamp: 1655276351.0000 - _runtime: 385.0000\n",
            "Epoch 723/1000\n",
            "12/12 [==============================] - 0s 16ms/step - loss: 39.8369 - _timestamp: 1655276351.0000 - _runtime: 385.0000\n",
            "Epoch 724/1000\n",
            "12/12 [==============================] - 0s 19ms/step - loss: 39.7004 - _timestamp: 1655276351.0000 - _runtime: 385.0000\n",
            "Epoch 725/1000\n",
            "12/12 [==============================] - 0s 17ms/step - loss: 39.5678 - _timestamp: 1655276351.0000 - _runtime: 385.0000\n",
            "Epoch 726/1000\n",
            "12/12 [==============================] - 0s 18ms/step - loss: 39.4278 - _timestamp: 1655276351.0000 - _runtime: 385.0000\n",
            "Epoch 727/1000\n",
            "12/12 [==============================] - 0s 19ms/step - loss: 39.2887 - _timestamp: 1655276352.0000 - _runtime: 386.0000\n",
            "Epoch 728/1000\n",
            "12/12 [==============================] - 0s 19ms/step - loss: 39.1553 - _timestamp: 1655276352.0000 - _runtime: 386.0000\n",
            "Epoch 729/1000\n",
            "12/12 [==============================] - 0s 17ms/step - loss: 39.0221 - _timestamp: 1655276352.0000 - _runtime: 386.0000\n",
            "Epoch 730/1000\n",
            "12/12 [==============================] - 0s 18ms/step - loss: 38.8926 - _timestamp: 1655276352.0000 - _runtime: 386.0000\n",
            "Epoch 731/1000\n",
            "12/12 [==============================] - 0s 19ms/step - loss: 38.7467 - _timestamp: 1655276353.0000 - _runtime: 387.0000\n",
            "Epoch 732/1000\n",
            "12/12 [==============================] - 0s 16ms/step - loss: 38.6159 - _timestamp: 1655276353.0000 - _runtime: 387.0000\n",
            "Epoch 733/1000\n",
            "12/12 [==============================] - 0s 17ms/step - loss: 38.4780 - _timestamp: 1655276353.0000 - _runtime: 387.0000\n",
            "Epoch 734/1000\n",
            "12/12 [==============================] - 0s 16ms/step - loss: 38.3414 - _timestamp: 1655276353.0000 - _runtime: 387.0000\n",
            "Epoch 735/1000\n",
            "12/12 [==============================] - 0s 14ms/step - loss: 38.2125 - _timestamp: 1655276353.0000 - _runtime: 387.0000\n",
            "Epoch 736/1000\n",
            "12/12 [==============================] - 0s 21ms/step - loss: 38.0744 - _timestamp: 1655276354.0000 - _runtime: 388.0000\n",
            "Epoch 737/1000\n",
            "12/12 [==============================] - 0s 18ms/step - loss: 37.9413 - _timestamp: 1655276354.0000 - _runtime: 388.0000\n",
            "Epoch 738/1000\n",
            "12/12 [==============================] - 0s 16ms/step - loss: 37.8043 - _timestamp: 1655276354.0000 - _runtime: 388.0000\n",
            "Epoch 739/1000\n",
            "12/12 [==============================] - 0s 19ms/step - loss: 37.6216 - _timestamp: 1655276354.0000 - _runtime: 388.0000\n",
            "Epoch 740/1000\n",
            "12/12 [==============================] - 0s 15ms/step - loss: 37.4456 - _timestamp: 1655276355.0000 - _runtime: 389.0000\n",
            "Epoch 741/1000\n",
            "12/12 [==============================] - 0s 16ms/step - loss: 37.2978 - _timestamp: 1655276355.0000 - _runtime: 389.0000\n",
            "Epoch 742/1000\n",
            "12/12 [==============================] - 0s 17ms/step - loss: 37.1546 - _timestamp: 1655276355.0000 - _runtime: 389.0000\n",
            "Epoch 743/1000\n",
            "12/12 [==============================] - 0s 16ms/step - loss: 37.0166 - _timestamp: 1655276355.0000 - _runtime: 389.0000\n",
            "Epoch 744/1000\n",
            "12/12 [==============================] - 0s 18ms/step - loss: 36.8924 - _timestamp: 1655276355.0000 - _runtime: 389.0000\n",
            "Epoch 745/1000\n",
            "12/12 [==============================] - 0s 17ms/step - loss: 36.7536 - _timestamp: 1655276356.0000 - _runtime: 390.0000\n",
            "Epoch 746/1000\n",
            "12/12 [==============================] - 0s 18ms/step - loss: 36.6317 - _timestamp: 1655276356.0000 - _runtime: 390.0000\n",
            "Epoch 747/1000\n",
            "12/12 [==============================] - 0s 16ms/step - loss: 36.4980 - _timestamp: 1655276356.0000 - _runtime: 390.0000\n",
            "Epoch 748/1000\n",
            "12/12 [==============================] - 0s 15ms/step - loss: 36.3689 - _timestamp: 1655276356.0000 - _runtime: 390.0000\n",
            "Epoch 749/1000\n",
            "12/12 [==============================] - 0s 15ms/step - loss: 36.2447 - _timestamp: 1655276356.0000 - _runtime: 390.0000\n",
            "Epoch 750/1000\n",
            "12/12 [==============================] - 0s 14ms/step - loss: 36.1199 - _timestamp: 1655276357.0000 - _runtime: 391.0000\n",
            "Epoch 751/1000\n",
            "12/12 [==============================] - 0s 18ms/step - loss: 35.9959 - _timestamp: 1655276357.0000 - _runtime: 391.0000\n",
            "Epoch 752/1000\n",
            "12/12 [==============================] - 0s 15ms/step - loss: 35.8754 - _timestamp: 1655276357.0000 - _runtime: 391.0000\n",
            "Epoch 753/1000\n",
            "12/12 [==============================] - 0s 15ms/step - loss: 35.7514 - _timestamp: 1655276357.0000 - _runtime: 391.0000\n",
            "Epoch 754/1000\n",
            "12/12 [==============================] - 0s 15ms/step - loss: 35.6266 - _timestamp: 1655276357.0000 - _runtime: 391.0000\n",
            "Epoch 755/1000\n",
            "12/12 [==============================] - 0s 14ms/step - loss: 35.4951 - _timestamp: 1655276357.0000 - _runtime: 391.0000\n",
            "Epoch 756/1000\n",
            "12/12 [==============================] - 0s 15ms/step - loss: 35.3701 - _timestamp: 1655276358.0000 - _runtime: 392.0000\n",
            "Epoch 757/1000\n",
            "12/12 [==============================] - 0s 15ms/step - loss: 35.2402 - _timestamp: 1655276358.0000 - _runtime: 392.0000\n",
            "Epoch 758/1000\n",
            "12/12 [==============================] - 0s 14ms/step - loss: 35.1182 - _timestamp: 1655276358.0000 - _runtime: 392.0000\n",
            "Epoch 759/1000\n",
            "12/12 [==============================] - 0s 17ms/step - loss: 35.0007 - _timestamp: 1655276358.0000 - _runtime: 392.0000\n",
            "Epoch 760/1000\n",
            "12/12 [==============================] - 0s 14ms/step - loss: 34.8721 - _timestamp: 1655276358.0000 - _runtime: 392.0000\n",
            "Epoch 761/1000\n",
            "12/12 [==============================] - 0s 15ms/step - loss: 34.7558 - _timestamp: 1655276359.0000 - _runtime: 393.0000\n",
            "Epoch 762/1000\n",
            "12/12 [==============================] - 0s 17ms/step - loss: 34.6312 - _timestamp: 1655276359.0000 - _runtime: 393.0000\n",
            "Epoch 763/1000\n",
            "12/12 [==============================] - 0s 15ms/step - loss: 34.5156 - _timestamp: 1655276359.0000 - _runtime: 393.0000\n",
            "Epoch 764/1000\n",
            "12/12 [==============================] - 0s 13ms/step - loss: 34.3917 - _timestamp: 1655276359.0000 - _runtime: 393.0000\n",
            "Epoch 765/1000\n",
            "12/12 [==============================] - 0s 15ms/step - loss: 34.2644 - _timestamp: 1655276359.0000 - _runtime: 393.0000\n",
            "Epoch 766/1000\n",
            "12/12 [==============================] - 0s 15ms/step - loss: 34.1501 - _timestamp: 1655276359.0000 - _runtime: 393.0000\n",
            "Epoch 767/1000\n",
            "12/12 [==============================] - 0s 16ms/step - loss: 34.0275 - _timestamp: 1655276360.0000 - _runtime: 394.0000\n",
            "Epoch 768/1000\n",
            "12/12 [==============================] - 0s 14ms/step - loss: 33.9092 - _timestamp: 1655276360.0000 - _runtime: 394.0000\n",
            "Epoch 769/1000\n",
            "12/12 [==============================] - 0s 14ms/step - loss: 33.7926 - _timestamp: 1655276360.0000 - _runtime: 394.0000\n",
            "Epoch 770/1000\n",
            "12/12 [==============================] - 0s 13ms/step - loss: 33.6739 - _timestamp: 1655276360.0000 - _runtime: 394.0000\n",
            "Epoch 771/1000\n",
            "12/12 [==============================] - 0s 18ms/step - loss: 33.5562 - _timestamp: 1655276360.0000 - _runtime: 394.0000\n",
            "Epoch 772/1000\n",
            "12/12 [==============================] - 0s 19ms/step - loss: 33.4336 - _timestamp: 1655276361.0000 - _runtime: 395.0000\n",
            "Epoch 773/1000\n",
            "12/12 [==============================] - 0s 20ms/step - loss: 33.3146 - _timestamp: 1655276361.0000 - _runtime: 395.0000\n",
            "Epoch 774/1000\n",
            "12/12 [==============================] - 0s 18ms/step - loss: 33.2009 - _timestamp: 1655276361.0000 - _runtime: 395.0000\n",
            "Epoch 775/1000\n",
            "12/12 [==============================] - 0s 15ms/step - loss: 33.0868 - _timestamp: 1655276361.0000 - _runtime: 395.0000\n",
            "Epoch 776/1000\n",
            "12/12 [==============================] - 0s 18ms/step - loss: 32.9644 - _timestamp: 1655276362.0000 - _runtime: 396.0000\n",
            "Epoch 777/1000\n",
            "12/12 [==============================] - 0s 18ms/step - loss: 32.8477 - _timestamp: 1655276362.0000 - _runtime: 396.0000\n",
            "Epoch 778/1000\n"
          ]
        },
        {
          "name": "stdout",
          "output_type": "stream",
          "text": [
            "12/12 [==============================] - 0s 15ms/step - loss: 32.7293 - _timestamp: 1655276362.0000 - _runtime: 396.0000\n",
            "Epoch 779/1000\n",
            "12/12 [==============================] - 0s 16ms/step - loss: 32.6123 - _timestamp: 1655276362.0000 - _runtime: 396.0000\n",
            "Epoch 780/1000\n",
            "12/12 [==============================] - 0s 13ms/step - loss: 32.4943 - _timestamp: 1655276362.0000 - _runtime: 396.0000\n",
            "Epoch 781/1000\n",
            "12/12 [==============================] - 0s 13ms/step - loss: 32.3818 - _timestamp: 1655276362.0000 - _runtime: 396.0000\n",
            "Epoch 782/1000\n",
            "12/12 [==============================] - 0s 15ms/step - loss: 32.2675 - _timestamp: 1655276363.0000 - _runtime: 397.0000\n",
            "Epoch 783/1000\n",
            "12/12 [==============================] - 0s 14ms/step - loss: 32.1500 - _timestamp: 1655276363.0000 - _runtime: 397.0000\n",
            "Epoch 784/1000\n",
            "12/12 [==============================] - 0s 14ms/step - loss: 32.0304 - _timestamp: 1655276363.0000 - _runtime: 397.0000\n",
            "Epoch 785/1000\n",
            "12/12 [==============================] - 0s 14ms/step - loss: 31.9208 - _timestamp: 1655276363.0000 - _runtime: 397.0000\n",
            "Epoch 786/1000\n",
            "12/12 [==============================] - 0s 15ms/step - loss: 31.8088 - _timestamp: 1655276363.0000 - _runtime: 397.0000\n",
            "Epoch 787/1000\n",
            "12/12 [==============================] - 0s 15ms/step - loss: 31.6912 - _timestamp: 1655276364.0000 - _runtime: 398.0000\n",
            "Epoch 788/1000\n",
            "12/12 [==============================] - 0s 15ms/step - loss: 31.5748 - _timestamp: 1655276364.0000 - _runtime: 398.0000\n",
            "Epoch 789/1000\n",
            "12/12 [==============================] - 0s 13ms/step - loss: 31.4641 - _timestamp: 1655276364.0000 - _runtime: 398.0000\n",
            "Epoch 790/1000\n",
            "12/12 [==============================] - 0s 15ms/step - loss: 31.3502 - _timestamp: 1655276364.0000 - _runtime: 398.0000\n",
            "Epoch 791/1000\n",
            "12/12 [==============================] - 0s 14ms/step - loss: 31.2363 - _timestamp: 1655276364.0000 - _runtime: 398.0000\n",
            "Epoch 792/1000\n",
            "12/12 [==============================] - 0s 14ms/step - loss: 31.1252 - _timestamp: 1655276364.0000 - _runtime: 398.0000\n",
            "Epoch 793/1000\n",
            "12/12 [==============================] - 0s 16ms/step - loss: 31.0077 - _timestamp: 1655276365.0000 - _runtime: 399.0000\n",
            "Epoch 794/1000\n",
            "12/12 [==============================] - 0s 15ms/step - loss: 30.8979 - _timestamp: 1655276365.0000 - _runtime: 399.0000\n",
            "Epoch 795/1000\n",
            "12/12 [==============================] - 0s 14ms/step - loss: 30.7884 - _timestamp: 1655276365.0000 - _runtime: 399.0000\n",
            "Epoch 796/1000\n",
            "12/12 [==============================] - 0s 16ms/step - loss: 30.6777 - _timestamp: 1655276365.0000 - _runtime: 399.0000\n",
            "Epoch 797/1000\n",
            "12/12 [==============================] - 0s 14ms/step - loss: 30.5645 - _timestamp: 1655276365.0000 - _runtime: 399.0000\n",
            "Epoch 798/1000\n",
            "12/12 [==============================] - 0s 14ms/step - loss: 30.4542 - _timestamp: 1655276365.0000 - _runtime: 399.0000\n",
            "Epoch 799/1000\n",
            "12/12 [==============================] - 0s 15ms/step - loss: 30.3433 - _timestamp: 1655276366.0000 - _runtime: 400.0000\n",
            "Epoch 800/1000\n",
            "12/12 [==============================] - 0s 14ms/step - loss: 30.2275 - _timestamp: 1655276366.0000 - _runtime: 400.0000\n",
            "Epoch 801/1000\n",
            "12/12 [==============================] - 0s 15ms/step - loss: 30.1163 - _timestamp: 1655276366.0000 - _runtime: 400.0000\n",
            "Epoch 802/1000\n",
            "12/12 [==============================] - 0s 15ms/step - loss: 30.0036 - _timestamp: 1655276366.0000 - _runtime: 400.0000\n",
            "Epoch 803/1000\n",
            "12/12 [==============================] - 0s 13ms/step - loss: 29.8929 - _timestamp: 1655276366.0000 - _runtime: 400.0000\n",
            "Epoch 804/1000\n",
            "12/12 [==============================] - 0s 15ms/step - loss: 29.7832 - _timestamp: 1655276367.0000 - _runtime: 401.0000\n",
            "Epoch 805/1000\n",
            "12/12 [==============================] - 0s 15ms/step - loss: 29.6684 - _timestamp: 1655276367.0000 - _runtime: 401.0000\n",
            "Epoch 806/1000\n",
            "12/12 [==============================] - 0s 14ms/step - loss: 29.5564 - _timestamp: 1655276367.0000 - _runtime: 401.0000\n",
            "Epoch 807/1000\n",
            "12/12 [==============================] - 0s 14ms/step - loss: 29.4460 - _timestamp: 1655276367.0000 - _runtime: 401.0000\n",
            "Epoch 808/1000\n",
            "12/12 [==============================] - 0s 13ms/step - loss: 29.3347 - _timestamp: 1655276367.0000 - _runtime: 401.0000\n",
            "Epoch 809/1000\n",
            "12/12 [==============================] - 0s 13ms/step - loss: 29.2258 - _timestamp: 1655276367.0000 - _runtime: 401.0000\n",
            "Epoch 810/1000\n",
            "12/12 [==============================] - 0s 14ms/step - loss: 29.1138 - _timestamp: 1655276368.0000 - _runtime: 402.0000\n",
            "Epoch 811/1000\n",
            "12/12 [==============================] - 0s 15ms/step - loss: 29.0069 - _timestamp: 1655276368.0000 - _runtime: 402.0000\n",
            "Epoch 812/1000\n",
            "12/12 [==============================] - 0s 13ms/step - loss: 28.9000 - _timestamp: 1655276368.0000 - _runtime: 402.0000\n",
            "Epoch 813/1000\n",
            "12/12 [==============================] - 0s 14ms/step - loss: 28.7905 - _timestamp: 1655276368.0000 - _runtime: 402.0000\n",
            "Epoch 814/1000\n",
            "12/12 [==============================] - 0s 14ms/step - loss: 28.6816 - _timestamp: 1655276368.0000 - _runtime: 402.0000\n",
            "Epoch 815/1000\n",
            "12/12 [==============================] - 0s 13ms/step - loss: 28.5694 - _timestamp: 1655276368.0000 - _runtime: 402.0000\n",
            "Epoch 816/1000\n",
            "12/12 [==============================] - 0s 14ms/step - loss: 28.4586 - _timestamp: 1655276369.0000 - _runtime: 403.0000\n",
            "Epoch 817/1000\n",
            "12/12 [==============================] - 0s 15ms/step - loss: 28.3529 - _timestamp: 1655276369.0000 - _runtime: 403.0000\n",
            "Epoch 818/1000\n",
            "12/12 [==============================] - 0s 15ms/step - loss: 28.2455 - _timestamp: 1655276369.0000 - _runtime: 403.0000\n",
            "Epoch 819/1000\n",
            "12/12 [==============================] - 0s 14ms/step - loss: 28.1360 - _timestamp: 1655276369.0000 - _runtime: 403.0000\n",
            "Epoch 820/1000\n",
            "12/12 [==============================] - 0s 13ms/step - loss: 28.0275 - _timestamp: 1655276369.0000 - _runtime: 403.0000\n",
            "Epoch 821/1000\n",
            "12/12 [==============================] - 0s 14ms/step - loss: 27.9238 - _timestamp: 1655276369.0000 - _runtime: 403.0000\n",
            "Epoch 822/1000\n",
            "12/12 [==============================] - 0s 17ms/step - loss: 27.8143 - _timestamp: 1655276370.0000 - _runtime: 404.0000\n",
            "Epoch 823/1000\n",
            "12/12 [==============================] - 0s 15ms/step - loss: 27.7099 - _timestamp: 1655276370.0000 - _runtime: 404.0000\n",
            "Epoch 824/1000\n",
            "12/12 [==============================] - 0s 18ms/step - loss: 27.6074 - _timestamp: 1655276370.0000 - _runtime: 404.0000\n",
            "Epoch 825/1000\n",
            "12/12 [==============================] - 0s 13ms/step - loss: 27.4930 - _timestamp: 1655276370.0000 - _runtime: 404.0000\n",
            "Epoch 826/1000\n",
            "12/12 [==============================] - 0s 14ms/step - loss: 27.3871 - _timestamp: 1655276370.0000 - _runtime: 404.0000\n",
            "Epoch 827/1000\n",
            "12/12 [==============================] - 0s 13ms/step - loss: 27.2832 - _timestamp: 1655276371.0000 - _runtime: 405.0000\n",
            "Epoch 828/1000\n",
            "12/12 [==============================] - 0s 19ms/step - loss: 27.1753 - _timestamp: 1655276371.0000 - _runtime: 405.0000\n",
            "Epoch 829/1000\n",
            "12/12 [==============================] - 0s 16ms/step - loss: 27.0652 - _timestamp: 1655276371.0000 - _runtime: 405.0000\n",
            "Epoch 830/1000\n",
            "12/12 [==============================] - 0s 16ms/step - loss: 26.9597 - _timestamp: 1655276371.0000 - _runtime: 405.0000\n",
            "Epoch 831/1000\n",
            "12/12 [==============================] - 0s 15ms/step - loss: 26.8547 - _timestamp: 1655276371.0000 - _runtime: 405.0000\n",
            "Epoch 832/1000\n",
            "12/12 [==============================] - 0s 15ms/step - loss: 26.7433 - _timestamp: 1655276372.0000 - _runtime: 406.0000\n",
            "Epoch 833/1000\n",
            "12/12 [==============================] - 0s 15ms/step - loss: 26.6406 - _timestamp: 1655276372.0000 - _runtime: 406.0000\n",
            "Epoch 834/1000\n",
            "12/12 [==============================] - 0s 14ms/step - loss: 26.5352 - _timestamp: 1655276372.0000 - _runtime: 406.0000\n",
            "Epoch 835/1000\n",
            "12/12 [==============================] - 0s 14ms/step - loss: 26.4309 - _timestamp: 1655276372.0000 - _runtime: 406.0000\n",
            "Epoch 836/1000\n",
            "12/12 [==============================] - 0s 14ms/step - loss: 26.3232 - _timestamp: 1655276372.0000 - _runtime: 406.0000\n",
            "Epoch 837/1000\n",
            "12/12 [==============================] - 0s 14ms/step - loss: 26.2182 - _timestamp: 1655276372.0000 - _runtime: 406.0000\n",
            "Epoch 838/1000\n"
          ]
        },
        {
          "name": "stdout",
          "output_type": "stream",
          "text": [
            "12/12 [==============================] - 0s 15ms/step - loss: 26.1115 - _timestamp: 1655276373.0000 - _runtime: 407.0000\n",
            "Epoch 839/1000\n",
            "12/12 [==============================] - 0s 17ms/step - loss: 26.0105 - _timestamp: 1655276373.0000 - _runtime: 407.0000\n",
            "Epoch 840/1000\n",
            "12/12 [==============================] - 0s 14ms/step - loss: 25.9050 - _timestamp: 1655276373.0000 - _runtime: 407.0000\n",
            "Epoch 841/1000\n",
            "12/12 [==============================] - 0s 14ms/step - loss: 25.8027 - _timestamp: 1655276373.0000 - _runtime: 407.0000\n",
            "Epoch 842/1000\n",
            "12/12 [==============================] - 0s 14ms/step - loss: 25.6967 - _timestamp: 1655276373.0000 - _runtime: 407.0000\n",
            "Epoch 843/1000\n",
            "12/12 [==============================] - 0s 13ms/step - loss: 25.5924 - _timestamp: 1655276373.0000 - _runtime: 407.0000\n",
            "Epoch 844/1000\n",
            "12/12 [==============================] - 0s 14ms/step - loss: 25.4841 - _timestamp: 1655276374.0000 - _runtime: 408.0000\n",
            "Epoch 845/1000\n",
            "12/12 [==============================] - 0s 13ms/step - loss: 25.3831 - _timestamp: 1655276374.0000 - _runtime: 408.0000\n",
            "Epoch 846/1000\n",
            "12/12 [==============================] - 0s 14ms/step - loss: 25.2827 - _timestamp: 1655276374.0000 - _runtime: 408.0000\n",
            "Epoch 847/1000\n",
            "12/12 [==============================] - 0s 16ms/step - loss: 25.1735 - _timestamp: 1655276374.0000 - _runtime: 408.0000\n",
            "Epoch 848/1000\n",
            "12/12 [==============================] - 0s 15ms/step - loss: 25.0722 - _timestamp: 1655276374.0000 - _runtime: 408.0000\n",
            "Epoch 849/1000\n",
            "12/12 [==============================] - 0s 17ms/step - loss: 24.9716 - _timestamp: 1655276375.0000 - _runtime: 409.0000\n",
            "Epoch 850/1000\n",
            "12/12 [==============================] - 0s 18ms/step - loss: 24.8580 - _timestamp: 1655276375.0000 - _runtime: 409.0000\n",
            "Epoch 851/1000\n",
            "12/12 [==============================] - 0s 15ms/step - loss: 24.7586 - _timestamp: 1655276375.0000 - _runtime: 409.0000\n",
            "Epoch 852/1000\n",
            "12/12 [==============================] - 0s 14ms/step - loss: 24.6491 - _timestamp: 1655276375.0000 - _runtime: 409.0000\n",
            "Epoch 853/1000\n",
            "12/12 [==============================] - 0s 14ms/step - loss: 24.5287 - _timestamp: 1655276375.0000 - _runtime: 409.0000\n",
            "Epoch 854/1000\n",
            "12/12 [==============================] - 0s 16ms/step - loss: 24.4223 - _timestamp: 1655276375.0000 - _runtime: 409.0000\n",
            "Epoch 855/1000\n",
            "12/12 [==============================] - 0s 17ms/step - loss: 24.3116 - _timestamp: 1655276376.0000 - _runtime: 410.0000\n",
            "Epoch 856/1000\n",
            "12/12 [==============================] - 0s 14ms/step - loss: 24.2023 - _timestamp: 1655276376.0000 - _runtime: 410.0000\n",
            "Epoch 857/1000\n",
            "12/12 [==============================] - 0s 15ms/step - loss: 24.1001 - _timestamp: 1655276376.0000 - _runtime: 410.0000\n",
            "Epoch 858/1000\n",
            "12/12 [==============================] - 0s 14ms/step - loss: 23.9963 - _timestamp: 1655276376.0000 - _runtime: 410.0000\n",
            "Epoch 859/1000\n",
            "12/12 [==============================] - 0s 15ms/step - loss: 23.9005 - _timestamp: 1655276376.0000 - _runtime: 410.0000\n",
            "Epoch 860/1000\n",
            "12/12 [==============================] - 0s 16ms/step - loss: 23.7953 - _timestamp: 1655276377.0000 - _runtime: 411.0000\n",
            "Epoch 861/1000\n",
            "12/12 [==============================] - 0s 14ms/step - loss: 23.6900 - _timestamp: 1655276377.0000 - _runtime: 411.0000\n",
            "Epoch 862/1000\n",
            "12/12 [==============================] - 0s 13ms/step - loss: 23.5979 - _timestamp: 1655276377.0000 - _runtime: 411.0000\n",
            "Epoch 863/1000\n",
            "12/12 [==============================] - 0s 14ms/step - loss: 23.5031 - _timestamp: 1655276377.0000 - _runtime: 411.0000\n",
            "Epoch 864/1000\n",
            "12/12 [==============================] - 0s 15ms/step - loss: 23.3972 - _timestamp: 1655276377.0000 - _runtime: 411.0000\n",
            "Epoch 865/1000\n",
            "12/12 [==============================] - 0s 15ms/step - loss: 23.3032 - _timestamp: 1655276377.0000 - _runtime: 411.0000\n",
            "Epoch 866/1000\n",
            "12/12 [==============================] - 0s 17ms/step - loss: 23.2030 - _timestamp: 1655276378.0000 - _runtime: 412.0000\n",
            "Epoch 867/1000\n",
            "12/12 [==============================] - 0s 15ms/step - loss: 23.1033 - _timestamp: 1655276378.0000 - _runtime: 412.0000\n",
            "Epoch 868/1000\n",
            "12/12 [==============================] - 0s 14ms/step - loss: 23.0072 - _timestamp: 1655276378.0000 - _runtime: 412.0000\n",
            "Epoch 869/1000\n",
            "12/12 [==============================] - 0s 13ms/step - loss: 22.9094 - _timestamp: 1655276378.0000 - _runtime: 412.0000\n",
            "Epoch 870/1000\n",
            "12/12 [==============================] - 0s 14ms/step - loss: 22.8114 - _timestamp: 1655276378.0000 - _runtime: 412.0000\n",
            "Epoch 871/1000\n",
            "12/12 [==============================] - 0s 19ms/step - loss: 22.6911 - _timestamp: 1655276379.0000 - _runtime: 413.0000\n",
            "Epoch 872/1000\n",
            "12/12 [==============================] - 0s 17ms/step - loss: 22.5938 - _timestamp: 1655276379.0000 - _runtime: 413.0000\n",
            "Epoch 873/1000\n",
            "12/12 [==============================] - 0s 18ms/step - loss: 22.4745 - _timestamp: 1655276379.0000 - _runtime: 413.0000\n",
            "Epoch 874/1000\n",
            "12/12 [==============================] - 0s 16ms/step - loss: 22.3508 - _timestamp: 1655276379.0000 - _runtime: 413.0000\n",
            "Epoch 875/1000\n",
            "12/12 [==============================] - 0s 14ms/step - loss: 22.2346 - _timestamp: 1655276379.0000 - _runtime: 413.0000\n",
            "Epoch 876/1000\n",
            "12/12 [==============================] - 0s 16ms/step - loss: 22.1236 - _timestamp: 1655276380.0000 - _runtime: 414.0000\n",
            "Epoch 877/1000\n",
            "12/12 [==============================] - 0s 17ms/step - loss: 22.0189 - _timestamp: 1655276380.0000 - _runtime: 414.0000\n",
            "Epoch 878/1000\n",
            "12/12 [==============================] - 0s 14ms/step - loss: 21.9190 - _timestamp: 1655276380.0000 - _runtime: 414.0000\n",
            "Epoch 879/1000\n",
            "12/12 [==============================] - 0s 14ms/step - loss: 21.8253 - _timestamp: 1655276380.0000 - _runtime: 414.0000\n",
            "Epoch 880/1000\n",
            "12/12 [==============================] - 0s 14ms/step - loss: 21.7231 - _timestamp: 1655276380.0000 - _runtime: 414.0000\n",
            "Epoch 881/1000\n",
            "12/12 [==============================] - 0s 13ms/step - loss: 21.6294 - _timestamp: 1655276381.0000 - _runtime: 415.0000\n",
            "Epoch 882/1000\n",
            "12/12 [==============================] - 0s 15ms/step - loss: 21.5322 - _timestamp: 1655276381.0000 - _runtime: 415.0000\n",
            "Epoch 883/1000\n",
            "12/12 [==============================] - 0s 15ms/step - loss: 21.4422 - _timestamp: 1655276381.0000 - _runtime: 415.0000\n",
            "Epoch 884/1000\n",
            "12/12 [==============================] - 0s 15ms/step - loss: 21.3483 - _timestamp: 1655276381.0000 - _runtime: 415.0000\n",
            "Epoch 885/1000\n",
            "12/12 [==============================] - 0s 15ms/step - loss: 21.2520 - _timestamp: 1655276381.0000 - _runtime: 415.0000\n",
            "Epoch 886/1000\n",
            "12/12 [==============================] - 0s 14ms/step - loss: 21.1609 - _timestamp: 1655276381.0000 - _runtime: 415.0000\n",
            "Epoch 887/1000\n",
            "12/12 [==============================] - 0s 14ms/step - loss: 21.0721 - _timestamp: 1655276382.0000 - _runtime: 416.0000\n",
            "Epoch 888/1000\n",
            "12/12 [==============================] - 0s 15ms/step - loss: 20.9817 - _timestamp: 1655276382.0000 - _runtime: 416.0000\n",
            "Epoch 889/1000\n",
            "12/12 [==============================] - 0s 14ms/step - loss: 20.8884 - _timestamp: 1655276382.0000 - _runtime: 416.0000\n",
            "Epoch 890/1000\n",
            "12/12 [==============================] - 0s 15ms/step - loss: 20.7985 - _timestamp: 1655276382.0000 - _runtime: 416.0000\n",
            "Epoch 891/1000\n",
            "12/12 [==============================] - 0s 14ms/step - loss: 20.7118 - _timestamp: 1655276382.0000 - _runtime: 416.0000\n",
            "Epoch 892/1000\n",
            "12/12 [==============================] - 0s 16ms/step - loss: 20.6290 - _timestamp: 1655276383.0000 - _runtime: 417.0000\n",
            "Epoch 893/1000\n",
            "12/12 [==============================] - 0s 16ms/step - loss: 20.5439 - _timestamp: 1655276383.0000 - _runtime: 417.0000\n",
            "Epoch 894/1000\n",
            "12/12 [==============================] - 0s 14ms/step - loss: 20.4557 - _timestamp: 1655276383.0000 - _runtime: 417.0000\n",
            "Epoch 895/1000\n",
            "12/12 [==============================] - 0s 13ms/step - loss: 20.3708 - _timestamp: 1655276383.0000 - _runtime: 417.0000\n",
            "Epoch 896/1000\n",
            "12/12 [==============================] - 0s 14ms/step - loss: 20.2785 - _timestamp: 1655276383.0000 - _runtime: 417.0000\n",
            "Epoch 897/1000\n",
            "12/12 [==============================] - 0s 13ms/step - loss: 20.1877 - _timestamp: 1655276383.0000 - _runtime: 417.0000\n",
            "Epoch 898/1000\n"
          ]
        },
        {
          "name": "stdout",
          "output_type": "stream",
          "text": [
            "12/12 [==============================] - 0s 13ms/step - loss: 20.0993 - _timestamp: 1655276384.0000 - _runtime: 418.0000\n",
            "Epoch 899/1000\n",
            "12/12 [==============================] - 0s 15ms/step - loss: 20.0140 - _timestamp: 1655276384.0000 - _runtime: 418.0000\n",
            "Epoch 900/1000\n",
            "12/12 [==============================] - 0s 14ms/step - loss: 19.9233 - _timestamp: 1655276384.0000 - _runtime: 418.0000\n",
            "Epoch 901/1000\n",
            "12/12 [==============================] - 0s 14ms/step - loss: 19.8340 - _timestamp: 1655276384.0000 - _runtime: 418.0000\n",
            "Epoch 902/1000\n",
            "12/12 [==============================] - 0s 15ms/step - loss: 19.7409 - _timestamp: 1655276384.0000 - _runtime: 418.0000\n",
            "Epoch 903/1000\n",
            "12/12 [==============================] - 0s 14ms/step - loss: 19.6590 - _timestamp: 1655276384.0000 - _runtime: 418.0000\n",
            "Epoch 904/1000\n",
            "12/12 [==============================] - 0s 15ms/step - loss: 19.5710 - _timestamp: 1655276385.0000 - _runtime: 419.0000\n",
            "Epoch 905/1000\n",
            "12/12 [==============================] - 0s 14ms/step - loss: 19.4842 - _timestamp: 1655276385.0000 - _runtime: 419.0000\n",
            "Epoch 906/1000\n",
            "12/12 [==============================] - 0s 14ms/step - loss: 19.3983 - _timestamp: 1655276385.0000 - _runtime: 419.0000\n",
            "Epoch 907/1000\n",
            "12/12 [==============================] - 0s 14ms/step - loss: 19.3116 - _timestamp: 1655276385.0000 - _runtime: 419.0000\n",
            "Epoch 908/1000\n",
            "12/12 [==============================] - 0s 14ms/step - loss: 19.2221 - _timestamp: 1655276385.0000 - _runtime: 419.0000\n",
            "Epoch 909/1000\n",
            "12/12 [==============================] - 0s 13ms/step - loss: 19.1360 - _timestamp: 1655276385.0000 - _runtime: 419.0000\n",
            "Epoch 910/1000\n",
            "12/12 [==============================] - 0s 13ms/step - loss: 19.0510 - _timestamp: 1655276386.0000 - _runtime: 420.0000\n",
            "Epoch 911/1000\n",
            "12/12 [==============================] - 0s 13ms/step - loss: 18.9643 - _timestamp: 1655276386.0000 - _runtime: 420.0000\n",
            "Epoch 912/1000\n",
            "12/12 [==============================] - 0s 13ms/step - loss: 18.8761 - _timestamp: 1655276386.0000 - _runtime: 420.0000\n",
            "Epoch 913/1000\n",
            "12/12 [==============================] - 0s 13ms/step - loss: 18.7930 - _timestamp: 1655276386.0000 - _runtime: 420.0000\n",
            "Epoch 914/1000\n",
            "12/12 [==============================] - 0s 13ms/step - loss: 18.7047 - _timestamp: 1655276386.0000 - _runtime: 420.0000\n",
            "Epoch 915/1000\n",
            "12/12 [==============================] - 0s 13ms/step - loss: 18.6126 - _timestamp: 1655276386.0000 - _runtime: 420.0000\n",
            "Epoch 916/1000\n",
            "12/12 [==============================] - 0s 13ms/step - loss: 18.5325 - _timestamp: 1655276387.0000 - _runtime: 421.0000\n",
            "Epoch 917/1000\n",
            "12/12 [==============================] - 0s 14ms/step - loss: 18.4497 - _timestamp: 1655276387.0000 - _runtime: 421.0000\n",
            "Epoch 918/1000\n",
            "12/12 [==============================] - 0s 14ms/step - loss: 18.3653 - _timestamp: 1655276387.0000 - _runtime: 421.0000\n",
            "Epoch 919/1000\n",
            "12/12 [==============================] - 0s 13ms/step - loss: 18.2754 - _timestamp: 1655276387.0000 - _runtime: 421.0000\n",
            "Epoch 920/1000\n",
            "12/12 [==============================] - 0s 14ms/step - loss: 18.1926 - _timestamp: 1655276387.0000 - _runtime: 421.0000\n",
            "Epoch 921/1000\n",
            "12/12 [==============================] - 0s 14ms/step - loss: 18.1112 - _timestamp: 1655276387.0000 - _runtime: 421.0000\n",
            "Epoch 922/1000\n",
            "12/12 [==============================] - 0s 14ms/step - loss: 18.0210 - _timestamp: 1655276388.0000 - _runtime: 422.0000\n",
            "Epoch 923/1000\n",
            "12/12 [==============================] - 0s 14ms/step - loss: 17.9371 - _timestamp: 1655276388.0000 - _runtime: 422.0000\n",
            "Epoch 924/1000\n",
            "12/12 [==============================] - 0s 15ms/step - loss: 17.8555 - _timestamp: 1655276388.0000 - _runtime: 422.0000\n",
            "Epoch 925/1000\n",
            "12/12 [==============================] - 0s 13ms/step - loss: 17.7641 - _timestamp: 1655276388.0000 - _runtime: 422.0000\n",
            "Epoch 926/1000\n",
            "12/12 [==============================] - 0s 12ms/step - loss: 17.6836 - _timestamp: 1655276388.0000 - _runtime: 422.0000\n",
            "Epoch 927/1000\n",
            "12/12 [==============================] - 0s 14ms/step - loss: 17.6000 - _timestamp: 1655276388.0000 - _runtime: 422.0000\n",
            "Epoch 928/1000\n",
            "12/12 [==============================] - 0s 13ms/step - loss: 17.5187 - _timestamp: 1655276389.0000 - _runtime: 423.0000\n",
            "Epoch 929/1000\n",
            "12/12 [==============================] - 0s 13ms/step - loss: 17.4319 - _timestamp: 1655276389.0000 - _runtime: 423.0000\n",
            "Epoch 930/1000\n",
            "12/12 [==============================] - 0s 13ms/step - loss: 17.3276 - _timestamp: 1655276389.0000 - _runtime: 423.0000\n",
            "Epoch 931/1000\n",
            "12/12 [==============================] - 0s 14ms/step - loss: 17.2366 - _timestamp: 1655276389.0000 - _runtime: 423.0000\n",
            "Epoch 932/1000\n",
            "12/12 [==============================] - 0s 13ms/step - loss: 17.1445 - _timestamp: 1655276389.0000 - _runtime: 423.0000\n",
            "Epoch 933/1000\n",
            "12/12 [==============================] - 0s 13ms/step - loss: 17.0611 - _timestamp: 1655276389.0000 - _runtime: 423.0000\n",
            "Epoch 934/1000\n",
            "12/12 [==============================] - 0s 12ms/step - loss: 16.9782 - _timestamp: 1655276390.0000 - _runtime: 424.0000\n",
            "Epoch 935/1000\n",
            "12/12 [==============================] - 0s 14ms/step - loss: 16.8970 - _timestamp: 1655276390.0000 - _runtime: 424.0000\n",
            "Epoch 936/1000\n",
            "12/12 [==============================] - 0s 13ms/step - loss: 16.8130 - _timestamp: 1655276390.0000 - _runtime: 424.0000\n",
            "Epoch 937/1000\n",
            "12/12 [==============================] - 0s 13ms/step - loss: 16.7371 - _timestamp: 1655276390.0000 - _runtime: 424.0000\n",
            "Epoch 938/1000\n",
            "12/12 [==============================] - 0s 14ms/step - loss: 16.6534 - _timestamp: 1655276390.0000 - _runtime: 424.0000\n",
            "Epoch 939/1000\n",
            "12/12 [==============================] - 0s 13ms/step - loss: 16.5685 - _timestamp: 1655276390.0000 - _runtime: 424.0000\n",
            "Epoch 940/1000\n",
            "12/12 [==============================] - 0s 13ms/step - loss: 16.4944 - _timestamp: 1655276391.0000 - _runtime: 425.0000\n",
            "Epoch 941/1000\n",
            "12/12 [==============================] - 0s 14ms/step - loss: 16.4131 - _timestamp: 1655276391.0000 - _runtime: 425.0000\n",
            "Epoch 942/1000\n",
            "12/12 [==============================] - 0s 13ms/step - loss: 16.3282 - _timestamp: 1655276391.0000 - _runtime: 425.0000\n",
            "Epoch 943/1000\n",
            "12/12 [==============================] - 0s 14ms/step - loss: 16.2690 - _timestamp: 1655276391.0000 - _runtime: 425.0000\n",
            "Epoch 944/1000\n",
            "12/12 [==============================] - 0s 12ms/step - loss: 16.2062 - _timestamp: 1655276391.0000 - _runtime: 425.0000\n",
            "Epoch 945/1000\n",
            "12/12 [==============================] - 0s 13ms/step - loss: 16.1234 - _timestamp: 1655276391.0000 - _runtime: 425.0000\n",
            "Epoch 946/1000\n",
            "12/12 [==============================] - 0s 14ms/step - loss: 16.0427 - _timestamp: 1655276392.0000 - _runtime: 426.0000\n",
            "Epoch 947/1000\n",
            "12/12 [==============================] - 0s 14ms/step - loss: 15.9656 - _timestamp: 1655276392.0000 - _runtime: 426.0000\n",
            "Epoch 948/1000\n",
            "12/12 [==============================] - 0s 14ms/step - loss: 15.8784 - _timestamp: 1655276392.0000 - _runtime: 426.0000\n",
            "Epoch 949/1000\n",
            "12/12 [==============================] - 0s 17ms/step - loss: 15.8061 - _timestamp: 1655276392.0000 - _runtime: 426.0000\n",
            "Epoch 950/1000\n",
            "12/12 [==============================] - 0s 16ms/step - loss: 15.7274 - _timestamp: 1655276392.0000 - _runtime: 426.0000\n",
            "Epoch 951/1000\n",
            "12/12 [==============================] - 0s 16ms/step - loss: 15.6498 - _timestamp: 1655276392.0000 - _runtime: 426.0000\n",
            "Epoch 952/1000\n",
            "12/12 [==============================] - 0s 13ms/step - loss: 15.5651 - _timestamp: 1655276393.0000 - _runtime: 427.0000\n",
            "Epoch 953/1000\n",
            "12/12 [==============================] - 0s 13ms/step - loss: 15.4828 - _timestamp: 1655276393.0000 - _runtime: 427.0000\n",
            "Epoch 954/1000\n",
            "12/12 [==============================] - 0s 13ms/step - loss: 15.4015 - _timestamp: 1655276393.0000 - _runtime: 427.0000\n",
            "Epoch 955/1000\n",
            "12/12 [==============================] - 0s 13ms/step - loss: 15.3247 - _timestamp: 1655276393.0000 - _runtime: 427.0000\n",
            "Epoch 956/1000\n",
            "12/12 [==============================] - 0s 13ms/step - loss: 15.2434 - _timestamp: 1655276393.0000 - _runtime: 427.0000\n",
            "Epoch 957/1000\n",
            "12/12 [==============================] - 0s 13ms/step - loss: 15.1661 - _timestamp: 1655276393.0000 - _runtime: 427.0000\n",
            "Epoch 958/1000\n"
          ]
        },
        {
          "name": "stdout",
          "output_type": "stream",
          "text": [
            "12/12 [==============================] - 0s 14ms/step - loss: 15.0911 - _timestamp: 1655276394.0000 - _runtime: 428.0000\n",
            "Epoch 959/1000\n",
            "12/12 [==============================] - 0s 14ms/step - loss: 15.0143 - _timestamp: 1655276394.0000 - _runtime: 428.0000\n",
            "Epoch 960/1000\n",
            "12/12 [==============================] - 0s 13ms/step - loss: 14.9358 - _timestamp: 1655276394.0000 - _runtime: 428.0000\n",
            "Epoch 961/1000\n",
            "12/12 [==============================] - 0s 13ms/step - loss: 14.8599 - _timestamp: 1655276394.0000 - _runtime: 428.0000\n",
            "Epoch 962/1000\n",
            "12/12 [==============================] - 0s 13ms/step - loss: 14.7832 - _timestamp: 1655276394.0000 - _runtime: 428.0000\n",
            "Epoch 963/1000\n",
            "12/12 [==============================] - 0s 13ms/step - loss: 14.7092 - _timestamp: 1655276394.0000 - _runtime: 428.0000\n",
            "Epoch 964/1000\n",
            "12/12 [==============================] - 0s 14ms/step - loss: 14.6348 - _timestamp: 1655276395.0000 - _runtime: 429.0000\n",
            "Epoch 965/1000\n",
            "12/12 [==============================] - 0s 13ms/step - loss: 14.5627 - _timestamp: 1655276395.0000 - _runtime: 429.0000\n",
            "Epoch 966/1000\n",
            "12/12 [==============================] - 0s 12ms/step - loss: 14.4861 - _timestamp: 1655276395.0000 - _runtime: 429.0000\n",
            "Epoch 967/1000\n",
            "12/12 [==============================] - 0s 13ms/step - loss: 14.4131 - _timestamp: 1655276395.0000 - _runtime: 429.0000\n",
            "Epoch 968/1000\n",
            "12/12 [==============================] - 0s 13ms/step - loss: 14.3377 - _timestamp: 1655276395.0000 - _runtime: 429.0000\n",
            "Epoch 969/1000\n",
            "12/12 [==============================] - 0s 13ms/step - loss: 14.2719 - _timestamp: 1655276395.0000 - _runtime: 429.0000\n",
            "Epoch 970/1000\n",
            "12/12 [==============================] - 0s 13ms/step - loss: 14.2044 - _timestamp: 1655276396.0000 - _runtime: 430.0000\n",
            "Epoch 971/1000\n",
            "12/12 [==============================] - 0s 14ms/step - loss: 14.1333 - _timestamp: 1655276396.0000 - _runtime: 430.0000\n",
            "Epoch 972/1000\n",
            "12/12 [==============================] - 0s 13ms/step - loss: 14.0567 - _timestamp: 1655276396.0000 - _runtime: 430.0000\n",
            "Epoch 973/1000\n",
            "12/12 [==============================] - 0s 13ms/step - loss: 13.9881 - _timestamp: 1655276396.0000 - _runtime: 430.0000\n",
            "Epoch 974/1000\n",
            "12/12 [==============================] - 0s 14ms/step - loss: 13.9075 - _timestamp: 1655276396.0000 - _runtime: 430.0000\n",
            "Epoch 975/1000\n",
            "12/12 [==============================] - 0s 13ms/step - loss: 13.8412 - _timestamp: 1655276396.0000 - _runtime: 430.0000\n",
            "Epoch 976/1000\n",
            "12/12 [==============================] - 0s 13ms/step - loss: 13.7669 - _timestamp: 1655276397.0000 - _runtime: 431.0000\n",
            "Epoch 977/1000\n",
            "12/12 [==============================] - 0s 14ms/step - loss: 13.6930 - _timestamp: 1655276397.0000 - _runtime: 431.0000\n",
            "Epoch 978/1000\n",
            "12/12 [==============================] - 0s 13ms/step - loss: 13.6245 - _timestamp: 1655276397.0000 - _runtime: 431.0000\n",
            "Epoch 979/1000\n",
            "12/12 [==============================] - 0s 13ms/step - loss: 13.5472 - _timestamp: 1655276397.0000 - _runtime: 431.0000\n",
            "Epoch 980/1000\n",
            "12/12 [==============================] - 0s 12ms/step - loss: 13.4759 - _timestamp: 1655276397.0000 - _runtime: 431.0000\n",
            "Epoch 981/1000\n",
            "12/12 [==============================] - 0s 13ms/step - loss: 13.4037 - _timestamp: 1655276397.0000 - _runtime: 431.0000\n",
            "Epoch 982/1000\n",
            "12/12 [==============================] - 0s 13ms/step - loss: 13.3375 - _timestamp: 1655276397.0000 - _runtime: 431.0000\n",
            "Epoch 983/1000\n",
            "12/12 [==============================] - 0s 13ms/step - loss: 13.2640 - _timestamp: 1655276398.0000 - _runtime: 432.0000\n",
            "Epoch 984/1000\n",
            "12/12 [==============================] - 0s 14ms/step - loss: 13.1872 - _timestamp: 1655276398.0000 - _runtime: 432.0000\n",
            "Epoch 985/1000\n",
            "12/12 [==============================] - 0s 13ms/step - loss: 13.1188 - _timestamp: 1655276398.0000 - _runtime: 432.0000\n",
            "Epoch 986/1000\n",
            "12/12 [==============================] - 0s 12ms/step - loss: 13.0523 - _timestamp: 1655276398.0000 - _runtime: 432.0000\n",
            "Epoch 987/1000\n",
            "12/12 [==============================] - 0s 13ms/step - loss: 12.9790 - _timestamp: 1655276398.0000 - _runtime: 432.0000\n",
            "Epoch 988/1000\n",
            "12/12 [==============================] - 0s 14ms/step - loss: 12.9092 - _timestamp: 1655276398.0000 - _runtime: 432.0000\n",
            "Epoch 989/1000\n",
            "12/12 [==============================] - 0s 13ms/step - loss: 12.8429 - _timestamp: 1655276399.0000 - _runtime: 433.0000\n",
            "Epoch 990/1000\n",
            "12/12 [==============================] - 0s 14ms/step - loss: 12.7701 - _timestamp: 1655276399.0000 - _runtime: 433.0000\n",
            "Epoch 991/1000\n",
            "12/12 [==============================] - 0s 13ms/step - loss: 12.6998 - _timestamp: 1655276399.0000 - _runtime: 433.0000\n",
            "Epoch 992/1000\n",
            "12/12 [==============================] - 0s 13ms/step - loss: 12.6335 - _timestamp: 1655276399.0000 - _runtime: 433.0000\n",
            "Epoch 993/1000\n",
            "12/12 [==============================] - 0s 13ms/step - loss: 12.5653 - _timestamp: 1655276399.0000 - _runtime: 433.0000\n",
            "Epoch 994/1000\n",
            "12/12 [==============================] - 0s 13ms/step - loss: 12.4925 - _timestamp: 1655276399.0000 - _runtime: 433.0000\n",
            "Epoch 995/1000\n",
            "12/12 [==============================] - 0s 15ms/step - loss: 12.4223 - _timestamp: 1655276400.0000 - _runtime: 434.0000\n",
            "Epoch 996/1000\n",
            "12/12 [==============================] - 0s 15ms/step - loss: 12.3613 - _timestamp: 1655276400.0000 - _runtime: 434.0000\n",
            "Epoch 997/1000\n",
            "12/12 [==============================] - 0s 15ms/step - loss: 12.2906 - _timestamp: 1655276400.0000 - _runtime: 434.0000\n",
            "Epoch 998/1000\n",
            "12/12 [==============================] - 0s 14ms/step - loss: 12.2244 - _timestamp: 1655276400.0000 - _runtime: 434.0000\n",
            "Epoch 999/1000\n",
            "12/12 [==============================] - 0s 14ms/step - loss: 12.1534 - _timestamp: 1655276400.0000 - _runtime: 434.0000\n",
            "Epoch 1000/1000\n",
            "12/12 [==============================] - 0s 22ms/step - loss: 12.0914 - _timestamp: 1655276401.0000 - _runtime: 435.0000\n"
          ]
        }
      ],
      "source": [
        "history = model.fit(\n",
        "    [customer_input,product_id],\n",
        "    count, \n",
        "    epochs=config.epochs, \n",
        "    verbose=1, \n",
        "    callbacks=[WandbCallback()],\n",
        "    batch_size = config.batchsize\n",
        "    \n",
        ")"
      ]
    },
    {
      "cell_type": "code",
      "execution_count": null,
      "id": "944f397d",
      "metadata": {
        "scrolled": true,
        "id": "944f397d",
        "outputId": "37cd137a-a1c3-413a-a700-29b797bc4da7"
      },
      "outputs": [
        {
          "data": {
            "text/plain": [
              "Text(0, 0.5, 'Training Error')"
            ]
          },
          "execution_count": 171,
          "metadata": {},
          "output_type": "execute_result"
        },
        {
          "data": {
            "image/png": "[encoded data removed]",
            "text/plain": [
              "<Figure size 432x288 with 1 Axes>"
            ]
          },
          "metadata": {
            "needs_background": "light"
          },
          "output_type": "display_data"
        }
      ],
      "source": [
        "plt.plot(history.history['loss'])\n",
        "plt.xlabel(\"Epochs\")\n",
        "plt.ylabel(\"Training Error\")"
      ]
    },
    {
      "cell_type": "code",
      "execution_count": null,
      "id": "2227eb1e",
      "metadata": {
        "scrolled": true,
        "id": "2227eb1e",
        "outputId": "f091325f-b5ac-40a5-ff85-1ba4d56ced1b"
      },
      "outputs": [
        {
          "name": "stdout",
          "output_type": "stream",
          "text": [
            "705/705 [==============================] - 1s 1ms/step - loss: 6126.6196\n"
          ]
        },
        {
          "data": {
            "text/plain": [
              "6126.61962890625"
            ]
          },
          "execution_count": 172,
          "metadata": {},
          "output_type": "execute_result"
        }
      ],
      "source": [
        "model.evaluate([test.customer_index, test.product_index], np.array(test['count']))\n"
      ]
    },
    {
      "cell_type": "code",
      "execution_count": null,
      "id": "2a532b7a",
      "metadata": {
        "id": "2a532b7a"
      },
      "outputs": [],
      "source": [
        "# Save Model\n",
        "SAVED_PATH = './model/voucher_model_2.h5'\n",
        "# model.save(SAVED_PATH)"
      ]
    },
    {
      "cell_type": "code",
      "execution_count": null,
      "id": "5a6b9a13",
      "metadata": {
        "id": "5a6b9a13"
      },
      "outputs": [],
      "source": [
        "#  Initial Model : Model awal, 64 shape, use bias = True\n",
        "# voucher_model_1 : model kedua, 1 shape, use bias = False\n",
        "\n",
        "# Excel : \n",
        "# Voucher 1 : Use Bias False, Epoch 100\n",
        "# Voucher 2 : Use Bias False, Epoch 100, Use Kernel Regularizer\n",
        "# Voucher 3 : Use bias True, Epoch 100, Use Kernel Regularizer\n",
        "# Voucher 4 : Use Bias False, Epoch 20, Use Kernel Regularizer\n",
        "\n"
      ]
    },
    {
      "cell_type": "markdown",
      "id": "a73aa64f",
      "metadata": {
        "id": "a73aa64f"
      },
      "source": [
        "# Model Predict"
      ]
    },
    {
      "cell_type": "code",
      "execution_count": null,
      "id": "10e6d61f",
      "metadata": {
        "id": "10e6d61f"
      },
      "outputs": [],
      "source": [
        "import numpy as np\n",
        "import pandas as pd\n",
        "import matplotlib.pyplot as plt\n",
        "import os\n",
        "import warnings\n",
        "import tensorflow as tf\n",
        "from keras.layers import Input, Embedding, Flatten, Dot, Dense, Concatenate\n",
        "from keras.models import Model"
      ]
    },
    {
      "cell_type": "code",
      "execution_count": null,
      "id": "5f9b8bb8",
      "metadata": {
        "id": "5f9b8bb8"
      },
      "outputs": [],
      "source": [
        "model = tf.keras.models.load_model(SAVED_PATH)"
      ]
    },
    {
      "cell_type": "code",
      "execution_count": null,
      "id": "581230b0",
      "metadata": {
        "id": "581230b0",
        "outputId": "d64f5386-663f-4fb2-d4d7-aa4864f95a63"
      },
      "outputs": [
        {
          "data": {
            "text/plain": [
              "array([    0,     1,     2, ..., 32948, 32949, 32950], dtype=int64)"
            ]
          },
          "execution_count": 220,
          "metadata": {},
          "output_type": "execute_result"
        }
      ],
      "source": [
        ""
      ]
    },
    {
      "cell_type": "code",
      "execution_count": null,
      "id": "53755979",
      "metadata": {
        "id": "53755979",
        "outputId": "5db4bac7-9543-463c-85d1-eebc613a512b"
      },
      "outputs": [
        {
          "data": {
            "text/plain": [
              "array([30844, 30845, 30846], dtype=int64)"
            ]
          },
          "execution_count": 230,
          "metadata": {},
          "output_type": "execute_result"
        }
      ],
      "source": [
        "id_product = range(1,20)\n",
        "# Creating dataset for making recommendations for the first user\n",
        "product_data = np.array(list(set(model_input[model_input.customer_index ==93575 ].product_index.values)))\n",
        "product_data"
      ]
    },
    {
      "cell_type": "code",
      "execution_count": null,
      "id": "424a5f16",
      "metadata": {
        "id": "424a5f16",
        "outputId": "0a718429-16c2-4b15-fa55-7ee5ecc77ab2"
      },
      "outputs": [
        {
          "data": {
            "text/plain": [
              "c8460e4251689ba205045f3ea17884a1    24\n",
              "4546caea018ad8c692964e3382debd19    21\n",
              "698e1cf81d01a3d389d96145f7fa6df8    20\n",
              "c402f431464c72e27330a67f7b94d4fb    20\n",
              "0f5ac8d5c31de21d2f25e24be15bbffb    18\n",
              "8d50f5eadf50201ccdcedfb9e2ac8455    16\n",
              "11f97da02237a49c8e783dfda6f50e8e    15\n",
              "eae0a83d752b1dd32697e0e7b4221656    15\n",
              "3e43e6105506432c953e165fb2acf44c    14\n",
              "31e412b9fb766b6794724ed17a41dfa6    14\n",
              "f7ea4eef770a388bd5b225acfc546604    14\n",
              "d97b3cfb22b0d6b25ac9ed4e9c2d481b    13\n",
              "7582a5a77fc2976628f46a13ec91b375    13\n",
              "ce9f8b9c31d83341764708396ac7e38b    12\n",
              "d3383e8df3cd44cd351aecff92e34627    12\n",
              "86df00dc5fd68f4dd5d5945ca19f3ed6    12\n",
              "ca77025e7201e3b30c44b472ff346268    12\n",
              "07ff81a9676efa0286ddd3f09e7c0063    12\n",
              "37bc3d463e2a0024012a7fa587597a3c    12\n",
              "4644f1b187e390a08b4c66fb16c91364    12\n",
              "4d99682572b7b5932340a0bce676c18c    12\n",
              "9eca552063680b7cd2ed0e8aea002b21    12\n",
              "a5c6335399140e986db84120c425adf0    11\n",
              "5a494c648fde2d1ec4eb614274ea7159    11\n",
              "33176de67c05eeed870fd49f234387a0    11\n",
              "efce1ab3e96ccab8b1b464326bd22417    11\n",
              "a5d3bfee5b23b430b95c4ae295e1028a    11\n",
              "a3dc27d87234f862d7e61a0148c77fa9    11\n",
              "dc813062e0fc23409cd255f7f53c7074    11\n",
              "70ad91901ad4330af432978ff134fc6f    11\n",
              "Name: customer_unique_id, dtype: int64"
            ]
          },
          "execution_count": 217,
          "metadata": {},
          "output_type": "execute_result"
        }
      ],
      "source": [
        "pre_model_input.customer_unique_id.value_counts().head(30)"
      ]
    },
    {
      "cell_type": "code",
      "execution_count": null,
      "id": "a0da3931",
      "metadata": {
        "id": "a0da3931",
        "outputId": "1b871a36-4733-479e-8d64-7cce0a7ee457"
      },
      "outputs": [
        {
          "data": {
            "text/plain": [
              "1.1805701110878222"
            ]
          },
          "execution_count": 214,
          "metadata": {},
          "output_type": "execute_result"
        }
      ],
      "source": [
        "pre_model_input.customer_unique_id.value_counts().mean()"
      ]
    },
    {
      "cell_type": "code",
      "execution_count": null,
      "id": "2855e8b5",
      "metadata": {
        "id": "2855e8b5",
        "outputId": "b51e61c9-f349-4e4f-c668-8339114e8fd8"
      },
      "outputs": [
        {
          "data": {
            "text/html": [
              "<div>\n",
              "<style scoped>\n",
              "    .dataframe tbody tr th:only-of-type {\n",
              "        vertical-align: middle;\n",
              "    }\n",
              "\n",
              "    .dataframe tbody tr th {\n",
              "        vertical-align: top;\n",
              "    }\n",
              "\n",
              "    .dataframe thead th {\n",
              "        text-align: right;\n",
              "    }\n",
              "</style>\n",
              "<table border=\"1\" class=\"dataframe\">\n",
              "  <thead>\n",
              "    <tr style=\"text-align: right;\">\n",
              "      <th></th>\n",
              "      <th>customer_index</th>\n",
              "      <th>customer_unique_id</th>\n",
              "    </tr>\n",
              "  </thead>\n",
              "  <tbody>\n",
              "    <tr>\n",
              "      <th>10873</th>\n",
              "      <td>10873</td>\n",
              "      <td>c8460e4251689ba205045f3ea17884a1</td>\n",
              "    </tr>\n",
              "  </tbody>\n",
              "</table>\n",
              "</div>"
            ],
            "text/plain": [
              "       customer_index                customer_unique_id\n",
              "10873           10873  c8460e4251689ba205045f3ea17884a1"
            ]
          },
          "execution_count": 115,
          "metadata": {},
          "output_type": "execute_result"
        }
      ],
      "source": [
        "customers_in_order[customers_in_order.customer_unique_id == 'c8460e4251689ba205045f3ea17884a1']"
      ]
    },
    {
      "cell_type": "code",
      "execution_count": null,
      "id": "8427ec65",
      "metadata": {
        "id": "8427ec65",
        "outputId": "27b84280-7ebc-4be2-a81a-0da189940434"
      },
      "outputs": [
        {
          "data": {
            "text/plain": [
              "array([93575, 93575, 93575])"
            ]
          },
          "execution_count": 232,
          "metadata": {},
          "output_type": "execute_result"
        }
      ],
      "source": [
        "id_user = 93575\n",
        "user = np.array([id_user for i in range(len(product_data))])\n",
        "user"
      ]
    },
    {
      "cell_type": "code",
      "execution_count": null,
      "id": "531fc879",
      "metadata": {
        "id": "531fc879",
        "outputId": "1594e85a-f493-4260-e22d-00ad683fd5bd"
      },
      "outputs": [
        {
          "name": "stdout",
          "output_type": "stream",
          "text": [
            "1/1 [==============================] - 0s 23ms/step\n"
          ]
        }
      ],
      "source": [
        "predictions = model.predict([user, product_data])"
      ]
    },
    {
      "cell_type": "code",
      "execution_count": null,
      "id": "f820eec2",
      "metadata": {
        "id": "f820eec2",
        "outputId": "1f4d09fd-bdc4-4247-8982-1d0026fa2bee"
      },
      "outputs": [
        {
          "data": {
            "text/plain": [
              "array([[10.176496 ],\n",
              "       [10.103251 ],\n",
              "       [ 1.0476122]], dtype=float32)"
            ]
          },
          "execution_count": 234,
          "metadata": {},
          "output_type": "execute_result"
        }
      ],
      "source": [
        "predictions"
      ]
    },
    {
      "cell_type": "code",
      "execution_count": null,
      "id": "ce33dc13",
      "metadata": {
        "id": "ce33dc13",
        "outputId": "4ecbdfed-afd4-4751-c390-06c29da4a801"
      },
      "outputs": [
        {
          "data": {
            "text/html": [
              "<div>\n",
              "<style scoped>\n",
              "    .dataframe tbody tr th:only-of-type {\n",
              "        vertical-align: middle;\n",
              "    }\n",
              "\n",
              "    .dataframe tbody tr th {\n",
              "        vertical-align: top;\n",
              "    }\n",
              "\n",
              "    .dataframe thead th {\n",
              "        text-align: right;\n",
              "    }\n",
              "</style>\n",
              "<table border=\"1\" class=\"dataframe\">\n",
              "  <thead>\n",
              "    <tr style=\"text-align: right;\">\n",
              "      <th></th>\n",
              "      <th>index</th>\n",
              "      <th>0</th>\n",
              "    </tr>\n",
              "  </thead>\n",
              "  <tbody>\n",
              "    <tr>\n",
              "      <th>2</th>\n",
              "      <td>2</td>\n",
              "      <td>1.047612</td>\n",
              "    </tr>\n",
              "    <tr>\n",
              "      <th>1</th>\n",
              "      <td>1</td>\n",
              "      <td>10.103251</td>\n",
              "    </tr>\n",
              "    <tr>\n",
              "      <th>0</th>\n",
              "      <td>0</td>\n",
              "      <td>10.176496</td>\n",
              "    </tr>\n",
              "  </tbody>\n",
              "</table>\n",
              "</div>"
            ],
            "text/plain": [
              "   index          0\n",
              "2      2   1.047612\n",
              "1      1  10.103251\n",
              "0      0  10.176496"
            ]
          },
          "execution_count": 235,
          "metadata": {},
          "output_type": "execute_result"
        }
      ],
      "source": [
        "pd.DataFrame(predictions).reset_index().sort_values(by=0)"
      ]
    },
    {
      "cell_type": "code",
      "execution_count": null,
      "id": "1cbd2e71",
      "metadata": {
        "id": "1cbd2e71"
      },
      "outputs": [],
      "source": [
        "predictions = np.array([a[0] for a in predictions])"
      ]
    },
    {
      "cell_type": "code",
      "execution_count": null,
      "id": "c3051e95",
      "metadata": {
        "id": "c3051e95",
        "outputId": "1d5d1dea-bccf-4ff1-efaf-2c0ca7c91bc0"
      },
      "outputs": [
        {
          "data": {
            "text/plain": [
              "array([10.176496 , 10.103251 ,  1.0476122], dtype=float32)"
            ]
          },
          "execution_count": 237,
          "metadata": {},
          "output_type": "execute_result"
        }
      ],
      "source": [
        "predictions\n"
      ]
    },
    {
      "cell_type": "code",
      "execution_count": null,
      "id": "1ea453cc",
      "metadata": {
        "id": "1ea453cc",
        "outputId": "9e04575c-fbe4-46de-8570-80110599133f"
      },
      "outputs": [
        {
          "data": {
            "text/plain": [
              "array([0, 1, 2], dtype=int64)"
            ]
          },
          "execution_count": 239,
          "metadata": {},
          "output_type": "execute_result"
        }
      ],
      "source": [
        "recommended_product_ids = (-predictions).argsort()[:10]\n",
        "recommended_product_ids"
      ]
    },
    {
      "cell_type": "code",
      "execution_count": null,
      "id": "618f54d3",
      "metadata": {
        "id": "618f54d3",
        "outputId": "b630e4e9-a62c-48e9-aa46-d1641662a487"
      },
      "outputs": [
        {
          "data": {
            "text/plain": [
              "array([10.176496 , 10.103251 ,  1.0476122], dtype=float32)"
            ]
          },
          "execution_count": 240,
          "metadata": {},
          "output_type": "execute_result"
        }
      ],
      "source": [
        "predictions[recommended_product_ids]"
      ]
    },
    {
      "cell_type": "code",
      "execution_count": null,
      "id": "701704ca",
      "metadata": {
        "id": "701704ca",
        "outputId": "621c9844-cdab-4a64-bf92-645faf83ea56"
      },
      "outputs": [
        {
          "data": {
            "text/plain": [
              "0    87285b34884572647811a353c7ac498a\n",
              "Name: product_id, dtype: object"
            ]
          },
          "execution_count": 245,
          "metadata": {},
          "output_type": "execute_result"
        }
      ],
      "source": [
        "# recommendation product indexnumber 48, cek kategorinya aja udah cukup\n",
        "\n",
        "product_voucher = 0\n",
        "product_in_use[product_in_use.index == 0].product_id"
      ]
    },
    {
      "cell_type": "code",
      "execution_count": null,
      "id": "f9a27049",
      "metadata": {
        "id": "f9a27049",
        "outputId": "d16505f6-3e6a-403d-aa3b-fe9195c1bb1a"
      },
      "outputs": [
        {
          "data": {
            "text/plain": [
              "291    99a4788cb24856965c36a24e339b6058\n",
              "Name: product_id, dtype: object"
            ]
          },
          "execution_count": 214,
          "metadata": {},
          "output_type": "execute_result"
        }
      ],
      "source": [
        "product_in_use[product_in_use.index == 291].product_id"
      ]
    },
    {
      "cell_type": "code",
      "execution_count": null,
      "id": "0f85ba0a",
      "metadata": {
        "id": "0f85ba0a",
        "outputId": "7c067efc-3dc2-406c-e232-9abc8689f80e"
      },
      "outputs": [
        {
          "data": {
            "text/html": [
              "<div>\n",
              "<style scoped>\n",
              "    .dataframe tbody tr th:only-of-type {\n",
              "        vertical-align: middle;\n",
              "    }\n",
              "\n",
              "    .dataframe tbody tr th {\n",
              "        vertical-align: top;\n",
              "    }\n",
              "\n",
              "    .dataframe thead th {\n",
              "        text-align: right;\n",
              "    }\n",
              "</style>\n",
              "<table border=\"1\" class=\"dataframe\">\n",
              "  <thead>\n",
              "    <tr style=\"text-align: right;\">\n",
              "      <th></th>\n",
              "      <th>product_index</th>\n",
              "      <th>product_id</th>\n",
              "    </tr>\n",
              "  </thead>\n",
              "  <tbody>\n",
              "    <tr>\n",
              "      <th>0</th>\n",
              "      <td>0</td>\n",
              "      <td>87285b34884572647811a353c7ac498a</td>\n",
              "    </tr>\n",
              "    <tr>\n",
              "      <th>1</th>\n",
              "      <td>1</td>\n",
              "      <td>595fac2a385ac33a80bd5114aec74eb8</td>\n",
              "    </tr>\n",
              "    <tr>\n",
              "      <th>2</th>\n",
              "      <td>2</td>\n",
              "      <td>aa4383b373c6aca5d8797843e5594415</td>\n",
              "    </tr>\n",
              "    <tr>\n",
              "      <th>3</th>\n",
              "      <td>3</td>\n",
              "      <td>d0b61bfb1de832b15ba9d266ca96e5b0</td>\n",
              "    </tr>\n",
              "    <tr>\n",
              "      <th>4</th>\n",
              "      <td>4</td>\n",
              "      <td>65266b2da20d04dbe00c5c2d3bb7859e</td>\n",
              "    </tr>\n",
              "    <tr>\n",
              "      <th>...</th>\n",
              "      <td>...</td>\n",
              "      <td>...</td>\n",
              "    </tr>\n",
              "    <tr>\n",
              "      <th>32946</th>\n",
              "      <td>32946</td>\n",
              "      <td>cbaf5898b92064cd5e399c7cff291d0a</td>\n",
              "    </tr>\n",
              "    <tr>\n",
              "      <th>32947</th>\n",
              "      <td>32947</td>\n",
              "      <td>0df37da38a30a713453b03053d60d3f7</td>\n",
              "    </tr>\n",
              "    <tr>\n",
              "      <th>32948</th>\n",
              "      <td>32948</td>\n",
              "      <td>3d2c44374ee42b3003a470f3e937a2ea</td>\n",
              "    </tr>\n",
              "    <tr>\n",
              "      <th>32949</th>\n",
              "      <td>32949</td>\n",
              "      <td>ac35486adb7b02598c182c2ff2e05254</td>\n",
              "    </tr>\n",
              "    <tr>\n",
              "      <th>32950</th>\n",
              "      <td>32950</td>\n",
              "      <td>006619bbed68b000c8ba3f8725d5409e</td>\n",
              "    </tr>\n",
              "  </tbody>\n",
              "</table>\n",
              "<p>32951 rows × 2 columns</p>\n",
              "</div>"
            ],
            "text/plain": [
              "       product_index                        product_id\n",
              "0                  0  87285b34884572647811a353c7ac498a\n",
              "1                  1  595fac2a385ac33a80bd5114aec74eb8\n",
              "2                  2  aa4383b373c6aca5d8797843e5594415\n",
              "3                  3  d0b61bfb1de832b15ba9d266ca96e5b0\n",
              "4                  4  65266b2da20d04dbe00c5c2d3bb7859e\n",
              "...              ...                               ...\n",
              "32946          32946  cbaf5898b92064cd5e399c7cff291d0a\n",
              "32947          32947  0df37da38a30a713453b03053d60d3f7\n",
              "32948          32948  3d2c44374ee42b3003a470f3e937a2ea\n",
              "32949          32949  ac35486adb7b02598c182c2ff2e05254\n",
              "32950          32950  006619bbed68b000c8ba3f8725d5409e\n",
              "\n",
              "[32951 rows x 2 columns]"
            ]
          },
          "execution_count": 215,
          "metadata": {},
          "output_type": "execute_result"
        }
      ],
      "source": [
        "product_in_use"
      ]
    },
    {
      "cell_type": "code",
      "execution_count": null,
      "id": "e207639b",
      "metadata": {
        "id": "e207639b",
        "outputId": "864c2986-a27c-4498-a0a7-52074b298db7"
      },
      "outputs": [
        {
          "data": {
            "text/plain": [
              "1094    422879e10f46682990de24d770e7f83d\n",
              "Name: product_id, dtype: object"
            ]
          },
          "execution_count": 216,
          "metadata": {},
          "output_type": "execute_result"
        }
      ],
      "source": [
        "product_in_use[product_in_use.index == 1094].product_id"
      ]
    },
    {
      "cell_type": "code",
      "execution_count": null,
      "id": "6075f491",
      "metadata": {
        "id": "6075f491",
        "outputId": "4cd3b8dd-5ff8-4240-fb71-b42b2f022d09"
      },
      "outputs": [
        {
          "data": {
            "text/html": [
              "<div>\n",
              "<style scoped>\n",
              "    .dataframe tbody tr th:only-of-type {\n",
              "        vertical-align: middle;\n",
              "    }\n",
              "\n",
              "    .dataframe tbody tr th {\n",
              "        vertical-align: top;\n",
              "    }\n",
              "\n",
              "    .dataframe thead th {\n",
              "        text-align: right;\n",
              "    }\n",
              "</style>\n",
              "<table border=\"1\" class=\"dataframe\">\n",
              "  <thead>\n",
              "    <tr style=\"text-align: right;\">\n",
              "      <th></th>\n",
              "      <th>id</th>\n",
              "      <th>product_category</th>\n",
              "      <th>name</th>\n",
              "      <th>created_at</th>\n",
              "      <th>updated_at</th>\n",
              "      <th>base_price</th>\n",
              "      <th>competitor_price</th>\n",
              "    </tr>\n",
              "  </thead>\n",
              "  <tbody>\n",
              "    <tr>\n",
              "      <th>2349</th>\n",
              "      <td>87285b34884572647811a353c7ac498a</td>\n",
              "      <td>housewares</td>\n",
              "      <td>NaN</td>\n",
              "      <td>2017-08-02 18:24:47</td>\n",
              "      <td>2017-10-23 23:26:46</td>\n",
              "      <td>91575.0648</td>\n",
              "      <td>NaN</td>\n",
              "    </tr>\n",
              "  </tbody>\n",
              "</table>\n",
              "</div>"
            ],
            "text/plain": [
              "                                    id product_category  name  \\\n",
              "2349  87285b34884572647811a353c7ac498a       housewares   NaN   \n",
              "\n",
              "               created_at           updated_at  base_price  competitor_price  \n",
              "2349  2017-08-02 18:24:47  2017-10-23 23:26:46  91575.0648               NaN  "
            ]
          },
          "execution_count": 246,
          "metadata": {},
          "output_type": "execute_result"
        }
      ],
      "source": [
        "products[products.id == '87285b34884572647811a353c7ac498a']"
      ]
    },
    {
      "cell_type": "code",
      "execution_count": null,
      "id": "67e8f5f3",
      "metadata": {
        "id": "67e8f5f3",
        "outputId": "3f778127-c75e-4b91-d381-03725287151b"
      },
      "outputs": [
        {
          "data": {
            "text/html": [
              "<div>\n",
              "<style scoped>\n",
              "    .dataframe tbody tr th:only-of-type {\n",
              "        vertical-align: middle;\n",
              "    }\n",
              "\n",
              "    .dataframe tbody tr th {\n",
              "        vertical-align: top;\n",
              "    }\n",
              "\n",
              "    .dataframe thead th {\n",
              "        text-align: right;\n",
              "    }\n",
              "</style>\n",
              "<table border=\"1\" class=\"dataframe\">\n",
              "  <thead>\n",
              "    <tr style=\"text-align: right;\">\n",
              "      <th></th>\n",
              "      <th>id</th>\n",
              "      <th>product_category</th>\n",
              "      <th>name</th>\n",
              "      <th>created_at</th>\n",
              "      <th>updated_at</th>\n",
              "      <th>base_price</th>\n",
              "      <th>competitor_price</th>\n",
              "    </tr>\n",
              "  </thead>\n",
              "  <tbody>\n",
              "    <tr>\n",
              "      <th>9661</th>\n",
              "      <td>99a4788cb24856965c36a24e339b6058</td>\n",
              "      <td>bed_bath_table</td>\n",
              "      <td>NaN</td>\n",
              "      <td>2017-02-28 11:11:32</td>\n",
              "      <td>2018-08-19 18:03:14</td>\n",
              "      <td>225960.48</td>\n",
              "      <td>NaN</td>\n",
              "    </tr>\n",
              "  </tbody>\n",
              "</table>\n",
              "</div>"
            ],
            "text/plain": [
              "                                    id product_category  name  \\\n",
              "9661  99a4788cb24856965c36a24e339b6058   bed_bath_table   NaN   \n",
              "\n",
              "               created_at           updated_at  base_price  competitor_price  \n",
              "9661  2017-02-28 11:11:32  2018-08-19 18:03:14   225960.48               NaN  "
            ]
          },
          "execution_count": 218,
          "metadata": {},
          "output_type": "execute_result"
        }
      ],
      "source": [
        "products[products.id == '99a4788cb24856965c36a24e339b6058']"
      ]
    },
    {
      "cell_type": "code",
      "execution_count": null,
      "id": "02e835a0",
      "metadata": {
        "id": "02e835a0",
        "outputId": "143fa0a7-9f9f-44ab-baa7-01b8fa6a851c"
      },
      "outputs": [
        {
          "data": {
            "text/html": [
              "<div>\n",
              "<style scoped>\n",
              "    .dataframe tbody tr th:only-of-type {\n",
              "        vertical-align: middle;\n",
              "    }\n",
              "\n",
              "    .dataframe tbody tr th {\n",
              "        vertical-align: top;\n",
              "    }\n",
              "\n",
              "    .dataframe thead th {\n",
              "        text-align: right;\n",
              "    }\n",
              "</style>\n",
              "<table border=\"1\" class=\"dataframe\">\n",
              "  <thead>\n",
              "    <tr style=\"text-align: right;\">\n",
              "      <th></th>\n",
              "      <th>id</th>\n",
              "      <th>product_category</th>\n",
              "      <th>name</th>\n",
              "      <th>created_at</th>\n",
              "      <th>updated_at</th>\n",
              "      <th>base_price</th>\n",
              "      <th>competitor_price</th>\n",
              "    </tr>\n",
              "  </thead>\n",
              "  <tbody>\n",
              "    <tr>\n",
              "      <th>14051</th>\n",
              "      <td>422879e10f46682990de24d770e7f83d</td>\n",
              "      <td>garden_tools</td>\n",
              "      <td>NaN</td>\n",
              "      <td>2017-05-02 18:34:59</td>\n",
              "      <td>2018-08-14 09:18:25</td>\n",
              "      <td>152401.1832</td>\n",
              "      <td>NaN</td>\n",
              "    </tr>\n",
              "  </tbody>\n",
              "</table>\n",
              "</div>"
            ],
            "text/plain": [
              "                                     id product_category  name  \\\n",
              "14051  422879e10f46682990de24d770e7f83d     garden_tools   NaN   \n",
              "\n",
              "                created_at           updated_at   base_price  competitor_price  \n",
              "14051  2017-05-02 18:34:59  2018-08-14 09:18:25  152401.1832               NaN  "
            ]
          },
          "execution_count": 87,
          "metadata": {},
          "output_type": "execute_result"
        }
      ],
      "source": [
        "products[products.id == '422879e10f46682990de24d770e7f83d']"
      ]
    },
    {
      "cell_type": "code",
      "execution_count": null,
      "id": "cf0c2291",
      "metadata": {
        "id": "cf0c2291",
        "outputId": "2c03edf1-a67f-48a6-87f9-c78fb05cb5f9"
      },
      "outputs": [
        {
          "data": {
            "text/html": [
              "<div>\n",
              "<style scoped>\n",
              "    .dataframe tbody tr th:only-of-type {\n",
              "        vertical-align: middle;\n",
              "    }\n",
              "\n",
              "    .dataframe tbody tr th {\n",
              "        vertical-align: top;\n",
              "    }\n",
              "\n",
              "    .dataframe thead th {\n",
              "        text-align: right;\n",
              "    }\n",
              "</style>\n",
              "<table border=\"1\" class=\"dataframe\">\n",
              "  <thead>\n",
              "    <tr style=\"text-align: right;\">\n",
              "      <th></th>\n",
              "      <th>customer_index</th>\n",
              "      <th>customer_unique_id</th>\n",
              "    </tr>\n",
              "  </thead>\n",
              "  <tbody>\n",
              "    <tr>\n",
              "      <th>44285</th>\n",
              "      <td>44285</td>\n",
              "      <td>c402f431464c72e27330a67f7b94d4fb</td>\n",
              "    </tr>\n",
              "  </tbody>\n",
              "</table>\n",
              "</div>"
            ],
            "text/plain": [
              "       customer_index                customer_unique_id\n",
              "44285           44285  c402f431464c72e27330a67f7b94d4fb"
            ]
          },
          "execution_count": 400,
          "metadata": {},
          "output_type": "execute_result"
        }
      ],
      "source": [
        "customers_in_order[customers_in_order.index == 44285]"
      ]
    },
    {
      "cell_type": "code",
      "execution_count": null,
      "id": "42a57188",
      "metadata": {
        "id": "42a57188",
        "outputId": "68caf11f-83ff-4d37-f90b-da9cfde24638"
      },
      "outputs": [
        {
          "data": {
            "text/html": [
              "<div>\n",
              "<style scoped>\n",
              "    .dataframe tbody tr th:only-of-type {\n",
              "        vertical-align: middle;\n",
              "    }\n",
              "\n",
              "    .dataframe tbody tr th {\n",
              "        vertical-align: top;\n",
              "    }\n",
              "\n",
              "    .dataframe thead th {\n",
              "        text-align: right;\n",
              "    }\n",
              "</style>\n",
              "<table border=\"1\" class=\"dataframe\">\n",
              "  <thead>\n",
              "    <tr style=\"text-align: right;\">\n",
              "      <th></th>\n",
              "      <th>customer_unique_id</th>\n",
              "      <th>product_id</th>\n",
              "    </tr>\n",
              "  </thead>\n",
              "  <tbody>\n",
              "    <tr>\n",
              "      <th>98394</th>\n",
              "      <td>c402f431464c72e27330a67f7b94d4fb</td>\n",
              "      <td>ee3d532c8a438679776d222e997606b3</td>\n",
              "    </tr>\n",
              "    <tr>\n",
              "      <th>98395</th>\n",
              "      <td>c402f431464c72e27330a67f7b94d4fb</td>\n",
              "      <td>ee3d532c8a438679776d222e997606b3</td>\n",
              "    </tr>\n",
              "    <tr>\n",
              "      <th>98396</th>\n",
              "      <td>c402f431464c72e27330a67f7b94d4fb</td>\n",
              "      <td>ee3d532c8a438679776d222e997606b3</td>\n",
              "    </tr>\n",
              "    <tr>\n",
              "      <th>98397</th>\n",
              "      <td>c402f431464c72e27330a67f7b94d4fb</td>\n",
              "      <td>ee3d532c8a438679776d222e997606b3</td>\n",
              "    </tr>\n",
              "    <tr>\n",
              "      <th>98398</th>\n",
              "      <td>c402f431464c72e27330a67f7b94d4fb</td>\n",
              "      <td>ee3d532c8a438679776d222e997606b3</td>\n",
              "    </tr>\n",
              "    <tr>\n",
              "      <th>98399</th>\n",
              "      <td>c402f431464c72e27330a67f7b94d4fb</td>\n",
              "      <td>ee3d532c8a438679776d222e997606b3</td>\n",
              "    </tr>\n",
              "    <tr>\n",
              "      <th>98400</th>\n",
              "      <td>c402f431464c72e27330a67f7b94d4fb</td>\n",
              "      <td>ee3d532c8a438679776d222e997606b3</td>\n",
              "    </tr>\n",
              "    <tr>\n",
              "      <th>98401</th>\n",
              "      <td>c402f431464c72e27330a67f7b94d4fb</td>\n",
              "      <td>ee3d532c8a438679776d222e997606b3</td>\n",
              "    </tr>\n",
              "    <tr>\n",
              "      <th>98402</th>\n",
              "      <td>c402f431464c72e27330a67f7b94d4fb</td>\n",
              "      <td>ee3d532c8a438679776d222e997606b3</td>\n",
              "    </tr>\n",
              "    <tr>\n",
              "      <th>98403</th>\n",
              "      <td>c402f431464c72e27330a67f7b94d4fb</td>\n",
              "      <td>ee3d532c8a438679776d222e997606b3</td>\n",
              "    </tr>\n",
              "    <tr>\n",
              "      <th>98404</th>\n",
              "      <td>c402f431464c72e27330a67f7b94d4fb</td>\n",
              "      <td>ee3d532c8a438679776d222e997606b3</td>\n",
              "    </tr>\n",
              "    <tr>\n",
              "      <th>98405</th>\n",
              "      <td>c402f431464c72e27330a67f7b94d4fb</td>\n",
              "      <td>ee3d532c8a438679776d222e997606b3</td>\n",
              "    </tr>\n",
              "    <tr>\n",
              "      <th>98406</th>\n",
              "      <td>c402f431464c72e27330a67f7b94d4fb</td>\n",
              "      <td>ee3d532c8a438679776d222e997606b3</td>\n",
              "    </tr>\n",
              "    <tr>\n",
              "      <th>98407</th>\n",
              "      <td>c402f431464c72e27330a67f7b94d4fb</td>\n",
              "      <td>ee3d532c8a438679776d222e997606b3</td>\n",
              "    </tr>\n",
              "    <tr>\n",
              "      <th>98408</th>\n",
              "      <td>c402f431464c72e27330a67f7b94d4fb</td>\n",
              "      <td>ee3d532c8a438679776d222e997606b3</td>\n",
              "    </tr>\n",
              "    <tr>\n",
              "      <th>98409</th>\n",
              "      <td>c402f431464c72e27330a67f7b94d4fb</td>\n",
              "      <td>ee3d532c8a438679776d222e997606b3</td>\n",
              "    </tr>\n",
              "    <tr>\n",
              "      <th>98410</th>\n",
              "      <td>c402f431464c72e27330a67f7b94d4fb</td>\n",
              "      <td>ee3d532c8a438679776d222e997606b3</td>\n",
              "    </tr>\n",
              "    <tr>\n",
              "      <th>98411</th>\n",
              "      <td>c402f431464c72e27330a67f7b94d4fb</td>\n",
              "      <td>ee3d532c8a438679776d222e997606b3</td>\n",
              "    </tr>\n",
              "    <tr>\n",
              "      <th>98412</th>\n",
              "      <td>c402f431464c72e27330a67f7b94d4fb</td>\n",
              "      <td>ee3d532c8a438679776d222e997606b3</td>\n",
              "    </tr>\n",
              "    <tr>\n",
              "      <th>98413</th>\n",
              "      <td>c402f431464c72e27330a67f7b94d4fb</td>\n",
              "      <td>ee3d532c8a438679776d222e997606b3</td>\n",
              "    </tr>\n",
              "  </tbody>\n",
              "</table>\n",
              "</div>"
            ],
            "text/plain": [
              "                     customer_unique_id                        product_id\n",
              "98394  c402f431464c72e27330a67f7b94d4fb  ee3d532c8a438679776d222e997606b3\n",
              "98395  c402f431464c72e27330a67f7b94d4fb  ee3d532c8a438679776d222e997606b3\n",
              "98396  c402f431464c72e27330a67f7b94d4fb  ee3d532c8a438679776d222e997606b3\n",
              "98397  c402f431464c72e27330a67f7b94d4fb  ee3d532c8a438679776d222e997606b3\n",
              "98398  c402f431464c72e27330a67f7b94d4fb  ee3d532c8a438679776d222e997606b3\n",
              "98399  c402f431464c72e27330a67f7b94d4fb  ee3d532c8a438679776d222e997606b3\n",
              "98400  c402f431464c72e27330a67f7b94d4fb  ee3d532c8a438679776d222e997606b3\n",
              "98401  c402f431464c72e27330a67f7b94d4fb  ee3d532c8a438679776d222e997606b3\n",
              "98402  c402f431464c72e27330a67f7b94d4fb  ee3d532c8a438679776d222e997606b3\n",
              "98403  c402f431464c72e27330a67f7b94d4fb  ee3d532c8a438679776d222e997606b3\n",
              "98404  c402f431464c72e27330a67f7b94d4fb  ee3d532c8a438679776d222e997606b3\n",
              "98405  c402f431464c72e27330a67f7b94d4fb  ee3d532c8a438679776d222e997606b3\n",
              "98406  c402f431464c72e27330a67f7b94d4fb  ee3d532c8a438679776d222e997606b3\n",
              "98407  c402f431464c72e27330a67f7b94d4fb  ee3d532c8a438679776d222e997606b3\n",
              "98408  c402f431464c72e27330a67f7b94d4fb  ee3d532c8a438679776d222e997606b3\n",
              "98409  c402f431464c72e27330a67f7b94d4fb  ee3d532c8a438679776d222e997606b3\n",
              "98410  c402f431464c72e27330a67f7b94d4fb  ee3d532c8a438679776d222e997606b3\n",
              "98411  c402f431464c72e27330a67f7b94d4fb  ee3d532c8a438679776d222e997606b3\n",
              "98412  c402f431464c72e27330a67f7b94d4fb  ee3d532c8a438679776d222e997606b3\n",
              "98413  c402f431464c72e27330a67f7b94d4fb  ee3d532c8a438679776d222e997606b3"
            ]
          },
          "execution_count": 401,
          "metadata": {},
          "output_type": "execute_result"
        }
      ],
      "source": [
        "transactions[transactions.customer_unique_id == 'c402f431464c72e27330a67f7b94d4fb']"
      ]
    },
    {
      "cell_type": "code",
      "execution_count": null,
      "id": "3dd4c87c",
      "metadata": {
        "id": "3dd4c87c",
        "outputId": "422a18bb-f8f3-4245-9c57-f648fdf12643"
      },
      "outputs": [
        {
          "data": {
            "text/html": [
              "<div>\n",
              "<style scoped>\n",
              "    .dataframe tbody tr th:only-of-type {\n",
              "        vertical-align: middle;\n",
              "    }\n",
              "\n",
              "    .dataframe tbody tr th {\n",
              "        vertical-align: top;\n",
              "    }\n",
              "\n",
              "    .dataframe thead th {\n",
              "        text-align: right;\n",
              "    }\n",
              "</style>\n",
              "<table border=\"1\" class=\"dataframe\">\n",
              "  <thead>\n",
              "    <tr style=\"text-align: right;\">\n",
              "      <th></th>\n",
              "      <th>id</th>\n",
              "      <th>product_category</th>\n",
              "      <th>name</th>\n",
              "      <th>created_at</th>\n",
              "      <th>updated_at</th>\n",
              "      <th>base_price</th>\n",
              "      <th>competitor_price</th>\n",
              "    </tr>\n",
              "  </thead>\n",
              "  <tbody>\n",
              "    <tr>\n",
              "      <th>27921</th>\n",
              "      <td>ee3d532c8a438679776d222e997606b3</td>\n",
              "      <td>computers_accessories</td>\n",
              "      <td>NaN</td>\n",
              "      <td>2018-01-23 08:44:12</td>\n",
              "      <td>2018-03-02 16:35:38</td>\n",
              "      <td>305046.648</td>\n",
              "      <td>NaN</td>\n",
              "    </tr>\n",
              "  </tbody>\n",
              "</table>\n",
              "</div>"
            ],
            "text/plain": [
              "                                     id       product_category  name  \\\n",
              "27921  ee3d532c8a438679776d222e997606b3  computers_accessories   NaN   \n",
              "\n",
              "                created_at           updated_at  base_price  competitor_price  \n",
              "27921  2018-01-23 08:44:12  2018-03-02 16:35:38  305046.648               NaN  "
            ]
          },
          "execution_count": 402,
          "metadata": {},
          "output_type": "execute_result"
        }
      ],
      "source": [
        "get_product_details('ee3d532c8a438679776d222e997606b3')"
      ]
    },
    {
      "cell_type": "code",
      "execution_count": null,
      "id": "d5d2c8d7",
      "metadata": {
        "id": "d5d2c8d7",
        "outputId": "a542ee99-7a7a-4989-bb5f-ff6fd4b3cd3f"
      },
      "outputs": [
        {
          "data": {
            "text/html": [
              "<div>\n",
              "<style scoped>\n",
              "    .dataframe tbody tr th:only-of-type {\n",
              "        vertical-align: middle;\n",
              "    }\n",
              "\n",
              "    .dataframe tbody tr th {\n",
              "        vertical-align: top;\n",
              "    }\n",
              "\n",
              "    .dataframe thead th {\n",
              "        text-align: right;\n",
              "    }\n",
              "</style>\n",
              "<table border=\"1\" class=\"dataframe\">\n",
              "  <thead>\n",
              "    <tr style=\"text-align: right;\">\n",
              "      <th></th>\n",
              "      <th>product_index</th>\n",
              "      <th>product_id</th>\n",
              "    </tr>\n",
              "  </thead>\n",
              "  <tbody>\n",
              "    <tr>\n",
              "      <th>0</th>\n",
              "      <td>0</td>\n",
              "      <td>87285b34884572647811a353c7ac498a</td>\n",
              "    </tr>\n",
              "    <tr>\n",
              "      <th>1</th>\n",
              "      <td>1</td>\n",
              "      <td>595fac2a385ac33a80bd5114aec74eb8</td>\n",
              "    </tr>\n",
              "    <tr>\n",
              "      <th>2</th>\n",
              "      <td>2</td>\n",
              "      <td>aa4383b373c6aca5d8797843e5594415</td>\n",
              "    </tr>\n",
              "    <tr>\n",
              "      <th>3</th>\n",
              "      <td>3</td>\n",
              "      <td>d0b61bfb1de832b15ba9d266ca96e5b0</td>\n",
              "    </tr>\n",
              "    <tr>\n",
              "      <th>4</th>\n",
              "      <td>4</td>\n",
              "      <td>65266b2da20d04dbe00c5c2d3bb7859e</td>\n",
              "    </tr>\n",
              "    <tr>\n",
              "      <th>...</th>\n",
              "      <td>...</td>\n",
              "      <td>...</td>\n",
              "    </tr>\n",
              "    <tr>\n",
              "      <th>32946</th>\n",
              "      <td>32946</td>\n",
              "      <td>cbaf5898b92064cd5e399c7cff291d0a</td>\n",
              "    </tr>\n",
              "    <tr>\n",
              "      <th>32947</th>\n",
              "      <td>32947</td>\n",
              "      <td>0df37da38a30a713453b03053d60d3f7</td>\n",
              "    </tr>\n",
              "    <tr>\n",
              "      <th>32948</th>\n",
              "      <td>32948</td>\n",
              "      <td>3d2c44374ee42b3003a470f3e937a2ea</td>\n",
              "    </tr>\n",
              "    <tr>\n",
              "      <th>32949</th>\n",
              "      <td>32949</td>\n",
              "      <td>ac35486adb7b02598c182c2ff2e05254</td>\n",
              "    </tr>\n",
              "    <tr>\n",
              "      <th>32950</th>\n",
              "      <td>32950</td>\n",
              "      <td>006619bbed68b000c8ba3f8725d5409e</td>\n",
              "    </tr>\n",
              "  </tbody>\n",
              "</table>\n",
              "<p>32951 rows × 2 columns</p>\n",
              "</div>"
            ],
            "text/plain": [
              "       product_index                        product_id\n",
              "0                  0  87285b34884572647811a353c7ac498a\n",
              "1                  1  595fac2a385ac33a80bd5114aec74eb8\n",
              "2                  2  aa4383b373c6aca5d8797843e5594415\n",
              "3                  3  d0b61bfb1de832b15ba9d266ca96e5b0\n",
              "4                  4  65266b2da20d04dbe00c5c2d3bb7859e\n",
              "...              ...                               ...\n",
              "32946          32946  cbaf5898b92064cd5e399c7cff291d0a\n",
              "32947          32947  0df37da38a30a713453b03053d60d3f7\n",
              "32948          32948  3d2c44374ee42b3003a470f3e937a2ea\n",
              "32949          32949  ac35486adb7b02598c182c2ff2e05254\n",
              "32950          32950  006619bbed68b000c8ba3f8725d5409e\n",
              "\n",
              "[32951 rows x 2 columns]"
            ]
          },
          "execution_count": 403,
          "metadata": {},
          "output_type": "execute_result"
        }
      ],
      "source": [
        "product_in_use"
      ]
    },
    {
      "cell_type": "code",
      "execution_count": null,
      "id": "6dd955bc",
      "metadata": {
        "id": "6dd955bc",
        "outputId": "ae4d9e5c-5821-42be-edea-0138e83ca42d"
      },
      "outputs": [
        {
          "data": {
            "text/html": [
              "<div>\n",
              "<style scoped>\n",
              "    .dataframe tbody tr th:only-of-type {\n",
              "        vertical-align: middle;\n",
              "    }\n",
              "\n",
              "    .dataframe tbody tr th {\n",
              "        vertical-align: top;\n",
              "    }\n",
              "\n",
              "    .dataframe thead th {\n",
              "        text-align: right;\n",
              "    }\n",
              "</style>\n",
              "<table border=\"1\" class=\"dataframe\">\n",
              "  <thead>\n",
              "    <tr style=\"text-align: right;\">\n",
              "      <th></th>\n",
              "      <th>id</th>\n",
              "      <th>product_category</th>\n",
              "      <th>name</th>\n",
              "      <th>created_at</th>\n",
              "      <th>updated_at</th>\n",
              "      <th>base_price</th>\n",
              "      <th>competitor_price</th>\n",
              "    </tr>\n",
              "  </thead>\n",
              "  <tbody>\n",
              "    <tr>\n",
              "      <th>20550</th>\n",
              "      <td>595fac2a385ac33a80bd5114aec74eb8</td>\n",
              "      <td>perfumery</td>\n",
              "      <td>NaN</td>\n",
              "      <td>2017-08-03 11:36:18</td>\n",
              "      <td>2018-08-23 21:20:25</td>\n",
              "      <td>357261.84</td>\n",
              "      <td>NaN</td>\n",
              "    </tr>\n",
              "  </tbody>\n",
              "</table>\n",
              "</div>"
            ],
            "text/plain": [
              "                                     id product_category  name  \\\n",
              "20550  595fac2a385ac33a80bd5114aec74eb8        perfumery   NaN   \n",
              "\n",
              "                created_at           updated_at  base_price  competitor_price  \n",
              "20550  2017-08-03 11:36:18  2018-08-23 21:20:25   357261.84               NaN  "
            ]
          },
          "execution_count": 118,
          "metadata": {},
          "output_type": "execute_result"
        }
      ],
      "source": [
        "# product has purchased by user id 39\n",
        "products[products.id == '595fac2a385ac33a80bd5114aec74eb8']"
      ]
    },
    {
      "cell_type": "code",
      "execution_count": null,
      "id": "31882261",
      "metadata": {
        "id": "31882261",
        "outputId": "bc4ed6cf-8d65-4081-ac13-41475d33c041"
      },
      "outputs": [
        {
          "data": {
            "text/plain": [
              "10873    24\n",
              "93575    21\n",
              "94481    20\n",
              "44285    20\n",
              "19163    18\n",
              "         ..\n",
              "80413     1\n",
              "24694     1\n",
              "24693     1\n",
              "24692     1\n",
              "95419     1\n",
              "Name: customer_index, Length: 95420, dtype: int64"
            ]
          },
          "execution_count": 124,
          "metadata": {},
          "output_type": "execute_result"
        }
      ],
      "source": [
        "model_input.customer_index.value_counts()"
      ]
    },
    {
      "cell_type": "markdown",
      "id": "243f0a17",
      "metadata": {
        "id": "243f0a17"
      },
      "source": [
        "### Coba approaching lain, exclude product yang udah sempet dibeli"
      ]
    },
    {
      "cell_type": "code",
      "execution_count": null,
      "id": "77f4e235",
      "metadata": {
        "id": "77f4e235",
        "outputId": "91b2c387-5824-4d5e-bae3-8e8ab61f8b99"
      },
      "outputs": [
        {
          "data": {
            "text/plain": [
              "array([    0,     1,     2, ..., 32948, 32949, 32950], dtype=int64)"
            ]
          },
          "execution_count": 255,
          "metadata": {},
          "output_type": "execute_result"
        }
      ],
      "source": [
        "product_in_use[~product_in_use.product_index.isin([30844, 30845, 30846])].product_index.values"
      ]
    },
    {
      "cell_type": "code",
      "execution_count": null,
      "id": "64e55418",
      "metadata": {
        "id": "64e55418",
        "outputId": "aa8cdd72-6130-4328-dbd4-23cd84d575bc"
      },
      "outputs": [
        {
          "data": {
            "text/plain": [
              "array([    0,     1,     2, ..., 32948, 32949, 32950], dtype=int64)"
            ]
          },
          "execution_count": 256,
          "metadata": {},
          "output_type": "execute_result"
        }
      ],
      "source": [
        "id_product = range(1,20)\n",
        "# Creating dataset for making recommendations for the first user\n",
        "product_data = np.array(list(set(product_in_use[~product_in_use.product_index.isin([30844, 30845, 30846])].product_index.values)))\n",
        "product_data"
      ]
    },
    {
      "cell_type": "code",
      "execution_count": null,
      "id": "db6d7324",
      "metadata": {
        "id": "db6d7324",
        "outputId": "49869ca9-ed12-4c04-c039-6f660bd91c61"
      },
      "outputs": [
        {
          "data": {
            "text/plain": [
              "array([3, 3, 3, 3, 3, 3, 3, 3, 3, 3])"
            ]
          },
          "execution_count": 258,
          "metadata": {},
          "output_type": "execute_result"
        }
      ],
      "source": [
        "id_user = 3\n",
        "user = np.array([id_user for i in range(len(product_data))])\n",
        "user[:10]"
      ]
    },
    {
      "cell_type": "code",
      "execution_count": null,
      "id": "d0598b1c",
      "metadata": {
        "id": "d0598b1c",
        "outputId": "53ce9c4f-f8fa-4702-bd10-194d3f01e04c"
      },
      "outputs": [
        {
          "name": "stdout",
          "output_type": "stream",
          "text": [
            "1030/1030 [==============================] - 5s 4ms/step\n"
          ]
        }
      ],
      "source": [
        "predictions = model.predict([user, product_data])"
      ]
    },
    {
      "cell_type": "code",
      "execution_count": null,
      "id": "437cff0d",
      "metadata": {
        "id": "437cff0d"
      },
      "outputs": [],
      "source": [
        "predictions = np.array([a[0] for a in predictions])"
      ]
    },
    {
      "cell_type": "code",
      "execution_count": null,
      "id": "14c7a0ef",
      "metadata": {
        "id": "14c7a0ef"
      },
      "outputs": [],
      "source": [
        "recommended_product_ids = (-predictions).argsort()[:10]"
      ]
    },
    {
      "cell_type": "code",
      "execution_count": null,
      "id": "5ca32d96",
      "metadata": {
        "id": "5ca32d96",
        "outputId": "00a08020-b2b3-4322-b7ef-4857e2b89f86"
      },
      "outputs": [
        {
          "data": {
            "text/plain": [
              "array([  48,  291, 1094,  146,  309,  400,   64,  409,   79, 1138],\n",
              "      dtype=int64)"
            ]
          },
          "execution_count": 263,
          "metadata": {},
          "output_type": "execute_result"
        }
      ],
      "source": [
        "recommended_product_ids"
      ]
    },
    {
      "cell_type": "code",
      "execution_count": null,
      "id": "b644e515",
      "metadata": {
        "id": "b644e515",
        "outputId": "4aae0b3e-c11a-4501-da7b-8bf0931218e0"
      },
      "outputs": [
        {
          "data": {
            "text/plain": [
              "32951"
            ]
          },
          "execution_count": 276,
          "metadata": {},
          "output_type": "execute_result"
        }
      ],
      "source": [
        "# approach lain\n",
        "len(product_in_use)"
      ]
    },
    {
      "cell_type": "code",
      "execution_count": null,
      "id": "1bba268e",
      "metadata": {
        "id": "1bba268e",
        "outputId": "5e6eef12-7b64-4925-ef87-55071200757d"
      },
      "outputs": [
        {
          "data": {
            "text/plain": [
              "32950"
            ]
          },
          "execution_count": 275,
          "metadata": {},
          "output_type": "execute_result"
        }
      ],
      "source": [
        "len(product_in_use[~product_in_use.product_index.isin([10873])].product_index.values)"
      ]
    },
    {
      "cell_type": "code",
      "execution_count": null,
      "id": "a5d7e859",
      "metadata": {
        "id": "a5d7e859",
        "outputId": "12d5f647-e3cc-47bf-a5eb-d3808df2dc38"
      },
      "outputs": [
        {
          "data": {
            "text/plain": [
              "array([    0,     1,     2, ..., 32948, 32949, 32950], dtype=int64)"
            ]
          },
          "execution_count": 280,
          "metadata": {},
          "output_type": "execute_result"
        }
      ],
      "source": [
        "# Creating dataset for making recommendations for the first user\n",
        "product_data = np.array(list(set(product_in_use[~product_in_use.product_index.isin([10873])].product_index.values)))\n",
        "product_data"
      ]
    },
    {
      "cell_type": "code",
      "execution_count": null,
      "id": "b244de64",
      "metadata": {
        "id": "b244de64",
        "outputId": "04c1bcf1-5018-42e6-f4a2-f881ad1e35b9"
      },
      "outputs": [
        {
          "data": {
            "text/plain": [
              "array([4, 4, 4, 4, 4, 4, 4, 4, 4, 4])"
            ]
          },
          "execution_count": 269,
          "metadata": {},
          "output_type": "execute_result"
        }
      ],
      "source": [
        "id_user = 4\n",
        "user = np.array([id_user for i in range(len(product_data))])\n",
        "user[:10]"
      ]
    },
    {
      "cell_type": "code",
      "execution_count": null,
      "id": "7dae99de",
      "metadata": {
        "id": "7dae99de",
        "outputId": "18628858-a237-49c7-cb71-e0767a3e050b"
      },
      "outputs": [
        {
          "name": "stdout",
          "output_type": "stream",
          "text": [
            "1030/1030 [==============================] - 4s 4ms/step\n"
          ]
        }
      ],
      "source": [
        "predictions = model.predict([user, product_data])"
      ]
    },
    {
      "cell_type": "code",
      "execution_count": null,
      "id": "c1276944",
      "metadata": {
        "id": "c1276944"
      },
      "outputs": [],
      "source": [
        "predictions = np.array([a[0] for a in predictions])"
      ]
    },
    {
      "cell_type": "code",
      "execution_count": null,
      "id": "b5e4150f",
      "metadata": {
        "id": "b5e4150f"
      },
      "outputs": [],
      "source": [
        "recommended_product_ids = (-predictions).argsort()[:10]"
      ]
    },
    {
      "cell_type": "code",
      "execution_count": null,
      "id": "a08ef9eb",
      "metadata": {
        "id": "a08ef9eb",
        "outputId": "9acd8700-2ad7-4437-eaef-e4f04d0c5da6"
      },
      "outputs": [
        {
          "data": {
            "text/plain": [
              "array([  48,  291, 1094,  146,  309,  400,   64,  409,   79, 1138],\n",
              "      dtype=int64)"
            ]
          },
          "execution_count": 273,
          "metadata": {},
          "output_type": "execute_result"
        }
      ],
      "source": [
        "recommended_product_ids"
      ]
    },
    {
      "cell_type": "code",
      "execution_count": null,
      "id": "86e6d053",
      "metadata": {
        "id": "86e6d053"
      },
      "outputs": [],
      "source": [
        "# others approaching\n"
      ]
    },
    {
      "cell_type": "code",
      "execution_count": null,
      "id": "29af9661",
      "metadata": {
        "id": "29af9661",
        "outputId": "e0648b54-114b-478b-892a-c075c071dc28"
      },
      "outputs": [
        {
          "data": {
            "text/plain": [
              "array([    0,     1,     2, ..., 32948, 32949, 32950], dtype=int64)"
            ]
          },
          "execution_count": 278,
          "metadata": {},
          "output_type": "execute_result"
        }
      ],
      "source": [
        "product_in_use[~product_in_use.product_index.isin([48,291])].product_index.values"
      ]
    },
    {
      "cell_type": "code",
      "execution_count": null,
      "id": "0c269bd3",
      "metadata": {
        "id": "0c269bd3",
        "outputId": "3912e004-880f-4e08-89b4-5dfb23447e41"
      },
      "outputs": [
        {
          "data": {
            "text/plain": [
              "array([    0,     1,     2, ..., 32948, 32949, 32950], dtype=int64)"
            ]
          },
          "execution_count": 281,
          "metadata": {},
          "output_type": "execute_result"
        }
      ],
      "source": [
        "# Creating dataset for making recommendations for the first user\n",
        "product_data = np.array(list(set(product_in_use[~product_in_use.product_index.isin([48,291])].product_index.values)))\n",
        "product_data"
      ]
    },
    {
      "cell_type": "code",
      "execution_count": null,
      "id": "efbdb0ef",
      "metadata": {
        "id": "efbdb0ef",
        "outputId": "79e85e31-963f-4603-ef76-4c7fb54d5df0"
      },
      "outputs": [
        {
          "data": {
            "text/plain": [
              "array([4, 4, 4, 4, 4, 4, 4, 4, 4, 4])"
            ]
          },
          "execution_count": 282,
          "metadata": {},
          "output_type": "execute_result"
        }
      ],
      "source": [
        "id_user = 4\n",
        "user = np.array([id_user for i in range(len(product_data))])\n",
        "user[:10]"
      ]
    },
    {
      "cell_type": "code",
      "execution_count": null,
      "id": "a10cf1e5",
      "metadata": {
        "id": "a10cf1e5",
        "outputId": "b7a78952-6669-4f2f-8621-3d63a9f27a72"
      },
      "outputs": [
        {
          "name": "stdout",
          "output_type": "stream",
          "text": [
            "1030/1030 [==============================] - 3s 3ms/step\n"
          ]
        }
      ],
      "source": [
        "predictions = model.predict([user, product_data])"
      ]
    },
    {
      "cell_type": "code",
      "execution_count": null,
      "id": "1cb811f8",
      "metadata": {
        "id": "1cb811f8"
      },
      "outputs": [],
      "source": [
        "predictions = np.array([a[0] for a in predictions])"
      ]
    },
    {
      "cell_type": "code",
      "execution_count": null,
      "id": "35e33ac4",
      "metadata": {
        "id": "35e33ac4"
      },
      "outputs": [],
      "source": [
        "recommended_product_ids = (-predictions).argsort()[:10]"
      ]
    },
    {
      "cell_type": "code",
      "execution_count": null,
      "id": "2220b026",
      "metadata": {
        "id": "2220b026",
        "outputId": "59eaf31c-f28d-4266-f25a-92e9321ce406"
      },
      "outputs": [
        {
          "data": {
            "text/plain": [
              "array([1092,  145,  307,  398,   63,  407,   78, 1136,   21,   90],\n",
              "      dtype=int64)"
            ]
          },
          "execution_count": 287,
          "metadata": {},
          "output_type": "execute_result"
        }
      ],
      "source": [
        "recommended_product_ids"
      ]
    },
    {
      "cell_type": "code",
      "execution_count": null,
      "id": "3da6a548",
      "metadata": {
        "id": "3da6a548"
      },
      "outputs": [],
      "source": [
        "def get_product_details(id):\n",
        "    return products[products.id == id]"
      ]
    },
    {
      "cell_type": "code",
      "execution_count": null,
      "id": "bc144d5f",
      "metadata": {
        "id": "bc144d5f",
        "outputId": "90ad10dd-7058-4960-e83c-59386df8820d"
      },
      "outputs": [
        {
          "data": {
            "text/html": [
              "<div>\n",
              "<style scoped>\n",
              "    .dataframe tbody tr th:only-of-type {\n",
              "        vertical-align: middle;\n",
              "    }\n",
              "\n",
              "    .dataframe tbody tr th {\n",
              "        vertical-align: top;\n",
              "    }\n",
              "\n",
              "    .dataframe thead th {\n",
              "        text-align: right;\n",
              "    }\n",
              "</style>\n",
              "<table border=\"1\" class=\"dataframe\">\n",
              "  <thead>\n",
              "    <tr style=\"text-align: right;\">\n",
              "      <th></th>\n",
              "      <th>id</th>\n",
              "      <th>product_category</th>\n",
              "      <th>name</th>\n",
              "      <th>created_at</th>\n",
              "      <th>updated_at</th>\n",
              "      <th>base_price</th>\n",
              "      <th>competitor_price</th>\n",
              "    </tr>\n",
              "  </thead>\n",
              "  <tbody>\n",
              "    <tr>\n",
              "      <th>20550</th>\n",
              "      <td>595fac2a385ac33a80bd5114aec74eb8</td>\n",
              "      <td>perfumery</td>\n",
              "      <td>NaN</td>\n",
              "      <td>2017-08-03 11:36:18</td>\n",
              "      <td>2018-08-23 21:20:25</td>\n",
              "      <td>357261.84</td>\n",
              "      <td>NaN</td>\n",
              "    </tr>\n",
              "  </tbody>\n",
              "</table>\n",
              "</div>"
            ],
            "text/plain": [
              "                                     id product_category  name  \\\n",
              "20550  595fac2a385ac33a80bd5114aec74eb8        perfumery   NaN   \n",
              "\n",
              "                created_at           updated_at  base_price  competitor_price  \n",
              "20550  2017-08-03 11:36:18  2018-08-23 21:20:25   357261.84               NaN  "
            ]
          },
          "execution_count": 399,
          "metadata": {},
          "output_type": "execute_result"
        }
      ],
      "source": [
        "get_product_details('595fac2a385ac33a80bd5114aec74eb8')"
      ]
    },
    {
      "cell_type": "markdown",
      "id": "ded0a268",
      "metadata": {
        "id": "ded0a268"
      },
      "source": [
        "# Product Recomendation by category 'sports_leisure'\n"
      ]
    },
    {
      "cell_type": "code",
      "execution_count": null,
      "id": "f53edf3f",
      "metadata": {
        "id": "f53edf3f"
      },
      "outputs": [],
      "source": [
        "# user : 95416"
      ]
    },
    {
      "cell_type": "code",
      "execution_count": null,
      "id": "d92eb690",
      "metadata": {
        "id": "d92eb690",
        "outputId": "cff7bc2a-f1c6-464f-d402-f9fab81b3d14"
      },
      "outputs": [
        {
          "data": {
            "text/html": [
              "<div>\n",
              "<style scoped>\n",
              "    .dataframe tbody tr th:only-of-type {\n",
              "        vertical-align: middle;\n",
              "    }\n",
              "\n",
              "    .dataframe tbody tr th {\n",
              "        vertical-align: top;\n",
              "    }\n",
              "\n",
              "    .dataframe thead th {\n",
              "        text-align: right;\n",
              "    }\n",
              "</style>\n",
              "<table border=\"1\" class=\"dataframe\">\n",
              "  <thead>\n",
              "    <tr style=\"text-align: right;\">\n",
              "      <th></th>\n",
              "      <th>customer_index</th>\n",
              "      <th>product_index</th>\n",
              "      <th>product_category</th>\n",
              "      <th>count</th>\n",
              "    </tr>\n",
              "  </thead>\n",
              "  <tbody>\n",
              "    <tr>\n",
              "      <th>0</th>\n",
              "      <td>0</td>\n",
              "      <td>0</td>\n",
              "      <td>housewares</td>\n",
              "      <td>4</td>\n",
              "    </tr>\n",
              "    <tr>\n",
              "      <th>1</th>\n",
              "      <td>1</td>\n",
              "      <td>0</td>\n",
              "      <td>housewares</td>\n",
              "      <td>4</td>\n",
              "    </tr>\n",
              "    <tr>\n",
              "      <th>2</th>\n",
              "      <td>2</td>\n",
              "      <td>0</td>\n",
              "      <td>housewares</td>\n",
              "      <td>4</td>\n",
              "    </tr>\n",
              "    <tr>\n",
              "      <th>3</th>\n",
              "      <td>3</td>\n",
              "      <td>0</td>\n",
              "      <td>housewares</td>\n",
              "      <td>4</td>\n",
              "    </tr>\n",
              "    <tr>\n",
              "      <th>4</th>\n",
              "      <td>0</td>\n",
              "      <td>1104</td>\n",
              "      <td>baby</td>\n",
              "      <td>17</td>\n",
              "    </tr>\n",
              "    <tr>\n",
              "      <th>...</th>\n",
              "      <td>...</td>\n",
              "      <td>...</td>\n",
              "      <td>...</td>\n",
              "      <td>...</td>\n",
              "    </tr>\n",
              "    <tr>\n",
              "      <th>112645</th>\n",
              "      <td>95416</td>\n",
              "      <td>32947</td>\n",
              "      <td>sports_leisure</td>\n",
              "      <td>2</td>\n",
              "    </tr>\n",
              "    <tr>\n",
              "      <th>112646</th>\n",
              "      <td>95416</td>\n",
              "      <td>32947</td>\n",
              "      <td>sports_leisure</td>\n",
              "      <td>2</td>\n",
              "    </tr>\n",
              "    <tr>\n",
              "      <th>112647</th>\n",
              "      <td>95417</td>\n",
              "      <td>32948</td>\n",
              "      <td>musical_instruments</td>\n",
              "      <td>1</td>\n",
              "    </tr>\n",
              "    <tr>\n",
              "      <th>112648</th>\n",
              "      <td>95418</td>\n",
              "      <td>32949</td>\n",
              "      <td>health_beauty</td>\n",
              "      <td>1</td>\n",
              "    </tr>\n",
              "    <tr>\n",
              "      <th>112649</th>\n",
              "      <td>95419</td>\n",
              "      <td>32950</td>\n",
              "      <td>health_beauty</td>\n",
              "      <td>1</td>\n",
              "    </tr>\n",
              "  </tbody>\n",
              "</table>\n",
              "<p>112650 rows × 4 columns</p>\n",
              "</div>"
            ],
            "text/plain": [
              "        customer_index  product_index     product_category  count\n",
              "0                    0              0           housewares      4\n",
              "1                    1              0           housewares      4\n",
              "2                    2              0           housewares      4\n",
              "3                    3              0           housewares      4\n",
              "4                    0           1104                 baby     17\n",
              "...                ...            ...                  ...    ...\n",
              "112645           95416          32947       sports_leisure      2\n",
              "112646           95416          32947       sports_leisure      2\n",
              "112647           95417          32948  musical_instruments      1\n",
              "112648           95418          32949        health_beauty      1\n",
              "112649           95419          32950        health_beauty      1\n",
              "\n",
              "[112650 rows x 4 columns]"
            ]
          },
          "execution_count": 45,
          "metadata": {},
          "output_type": "execute_result"
        }
      ],
      "source": [
        "model_input"
      ]
    },
    {
      "cell_type": "code",
      "execution_count": null,
      "id": "5f7a0fee",
      "metadata": {
        "scrolled": true,
        "id": "5f7a0fee",
        "outputId": "04cd5804-1686-4d51-d618-bc53c30b6132"
      },
      "outputs": [
        {
          "data": {
            "text/html": [
              "<div>\n",
              "<style scoped>\n",
              "    .dataframe tbody tr th:only-of-type {\n",
              "        vertical-align: middle;\n",
              "    }\n",
              "\n",
              "    .dataframe tbody tr th {\n",
              "        vertical-align: top;\n",
              "    }\n",
              "\n",
              "    .dataframe thead th {\n",
              "        text-align: right;\n",
              "    }\n",
              "</style>\n",
              "<table border=\"1\" class=\"dataframe\">\n",
              "  <thead>\n",
              "    <tr style=\"text-align: right;\">\n",
              "      <th></th>\n",
              "      <th>customer_index</th>\n",
              "      <th>customer_unique_id</th>\n",
              "    </tr>\n",
              "  </thead>\n",
              "  <tbody>\n",
              "    <tr>\n",
              "      <th>0</th>\n",
              "      <td>0</td>\n",
              "      <td>7c396fd4830fd04220f754e42b4e5bff</td>\n",
              "    </tr>\n",
              "    <tr>\n",
              "      <th>1</th>\n",
              "      <td>1</td>\n",
              "      <td>3a51803cc0d012c3b5dc8b7528cb05f7</td>\n",
              "    </tr>\n",
              "    <tr>\n",
              "      <th>2</th>\n",
              "      <td>2</td>\n",
              "      <td>ef0996a1a279c26e7ecbd737be23d235</td>\n",
              "    </tr>\n",
              "    <tr>\n",
              "      <th>3</th>\n",
              "      <td>3</td>\n",
              "      <td>e781fdcc107d13d865fc7698711cc572</td>\n",
              "    </tr>\n",
              "    <tr>\n",
              "      <th>4</th>\n",
              "      <td>4</td>\n",
              "      <td>af07308b275d755c9edb36a90c618231</td>\n",
              "    </tr>\n",
              "    <tr>\n",
              "      <th>...</th>\n",
              "      <td>...</td>\n",
              "      <td>...</td>\n",
              "    </tr>\n",
              "    <tr>\n",
              "      <th>95415</th>\n",
              "      <td>95415</td>\n",
              "      <td>490c3c53ca927221bccbb00706afbcf9</td>\n",
              "    </tr>\n",
              "    <tr>\n",
              "      <th>95416</th>\n",
              "      <td>95416</td>\n",
              "      <td>fb9310710003399b031add3e55f34719</td>\n",
              "    </tr>\n",
              "    <tr>\n",
              "      <th>95417</th>\n",
              "      <td>95417</td>\n",
              "      <td>a49e8e11e850592fe685ae3c64b40eca</td>\n",
              "    </tr>\n",
              "    <tr>\n",
              "      <th>95418</th>\n",
              "      <td>95418</td>\n",
              "      <td>6359f309b166b0196dbf7ad2ac62bb5a</td>\n",
              "    </tr>\n",
              "    <tr>\n",
              "      <th>95419</th>\n",
              "      <td>95419</td>\n",
              "      <td>60350aa974b26ff12caad89e55993bd6</td>\n",
              "    </tr>\n",
              "  </tbody>\n",
              "</table>\n",
              "<p>95420 rows × 2 columns</p>\n",
              "</div>"
            ],
            "text/plain": [
              "       customer_index                customer_unique_id\n",
              "0                   0  7c396fd4830fd04220f754e42b4e5bff\n",
              "1                   1  3a51803cc0d012c3b5dc8b7528cb05f7\n",
              "2                   2  ef0996a1a279c26e7ecbd737be23d235\n",
              "3                   3  e781fdcc107d13d865fc7698711cc572\n",
              "4                   4  af07308b275d755c9edb36a90c618231\n",
              "...               ...                               ...\n",
              "95415           95415  490c3c53ca927221bccbb00706afbcf9\n",
              "95416           95416  fb9310710003399b031add3e55f34719\n",
              "95417           95417  a49e8e11e850592fe685ae3c64b40eca\n",
              "95418           95418  6359f309b166b0196dbf7ad2ac62bb5a\n",
              "95419           95419  60350aa974b26ff12caad89e55993bd6\n",
              "\n",
              "[95420 rows x 2 columns]"
            ]
          },
          "execution_count": 46,
          "metadata": {},
          "output_type": "execute_result"
        }
      ],
      "source": [
        "customers_in_order"
      ]
    },
    {
      "cell_type": "code",
      "execution_count": null,
      "id": "06805885",
      "metadata": {
        "id": "06805885"
      },
      "outputs": [],
      "source": [
        "def get_customer_index(customer_id):\n",
        "    return customers_in_order[customers_in_order.customer_unique_id == customer_id].customer_index.values[0]\n",
        "\n",
        "def get_customer_id(customer_idx):\n",
        "    return customers_in_order[customers_in_order.customer_index == customer_idx].customer_unique_id.values[0]\n",
        "\n",
        "def get_transaction_by_customer(customer_id):\n",
        "    return transactions[transactions.customer_unique_id == customer_id].product_id.values\n",
        "\n",
        "def get_product_index_by_product_id(product_id):\n",
        "    return product_in_use[product_in_use.product_id == product_id].product_index.values[0]\n",
        "\n",
        "def get_product_category_by_product_index(product_idx):\n",
        "    return product_in_use[product_in_use.product_index == product_idx].product_category.values[0]\n",
        "\n",
        "def get_product_id_by_product_index(product_idx):\n",
        "    return product_in_use[product_in_use.product_index == product_idx].product_id.values[0]"
      ]
    },
    {
      "cell_type": "code",
      "execution_count": null,
      "id": "8df018e4",
      "metadata": {
        "id": "8df018e4",
        "outputId": "18e47d59-6032-4e30-bc41-43a30b473e18"
      },
      "outputs": [
        {
          "data": {
            "text/plain": [
              "array(['0df37da38a30a713453b03053d60d3f7',\n",
              "       '0df37da38a30a713453b03053d60d3f7'], dtype=object)"
            ]
          },
          "execution_count": 48,
          "metadata": {},
          "output_type": "execute_result"
        }
      ],
      "source": [
        "get_transaction_by_customer(get_customer_id(95416))"
      ]
    },
    {
      "cell_type": "markdown",
      "id": "5e369500",
      "metadata": {
        "id": "5e369500"
      },
      "source": [
        "## transactions[transactions.customer_unique_id == 'fb9310710003399b031add3e55f34719']"
      ]
    },
    {
      "cell_type": "code",
      "execution_count": null,
      "id": "aae29ea9",
      "metadata": {
        "id": "aae29ea9"
      },
      "outputs": [],
      "source": [
        "product_already_purchased = get_transaction_by_customer(get_customer_id(95416))\n"
      ]
    },
    {
      "cell_type": "code",
      "execution_count": null,
      "id": "fb4b554d",
      "metadata": {
        "id": "fb4b554d",
        "outputId": "c7866622-99ef-4ccc-e35c-1e68ff74066c"
      },
      "outputs": [
        {
          "data": {
            "text/plain": [
              "32947"
            ]
          },
          "execution_count": 52,
          "metadata": {},
          "output_type": "execute_result"
        }
      ],
      "source": [
        "get_product_index_by_product_id('0df37da38a30a713453b03053d60d3f7')"
      ]
    },
    {
      "cell_type": "code",
      "execution_count": null,
      "id": "1fed738c",
      "metadata": {
        "id": "1fed738c",
        "outputId": "58c57043-64e6-4396-e7d2-762360d94c6e"
      },
      "outputs": [
        {
          "data": {
            "text/plain": [
              "'sports_leisure'"
            ]
          },
          "execution_count": 53,
          "metadata": {},
          "output_type": "execute_result"
        }
      ],
      "source": [
        "get_product_category_by_product_index(32947)"
      ]
    },
    {
      "cell_type": "code",
      "execution_count": null,
      "id": "0f414a57",
      "metadata": {
        "id": "0f414a57"
      },
      "outputs": [],
      "source": [
        "index_product_already_purchased = []\n",
        "for i in range(len(product_already_purchased)):\n",
        "    index_product_already_purchased.append(get_product_index_by_product_id(product_already_purchased[i]))"
      ]
    },
    {
      "cell_type": "code",
      "execution_count": null,
      "id": "10beff4a",
      "metadata": {
        "id": "10beff4a",
        "outputId": "027ea280-40a3-429c-a5df-f11e06a0e10b"
      },
      "outputs": [
        {
          "data": {
            "text/plain": [
              "[32947, 32947]"
            ]
          },
          "execution_count": 57,
          "metadata": {},
          "output_type": "execute_result"
        }
      ],
      "source": [
        "index_product_already_purchased"
      ]
    },
    {
      "cell_type": "code",
      "execution_count": null,
      "id": "6568c5e9",
      "metadata": {
        "id": "6568c5e9"
      },
      "outputs": [],
      "source": [
        "filtered_product_in_use = product_in_use[product_in_use.product_category == 'sports_leisure' ]"
      ]
    },
    {
      "cell_type": "code",
      "execution_count": null,
      "id": "1534baa3",
      "metadata": {
        "id": "1534baa3",
        "outputId": "2f7b4f92-571b-4ba4-9a39-af42c31efb59"
      },
      "outputs": [
        {
          "data": {
            "text/html": [
              "<div>\n",
              "<style scoped>\n",
              "    .dataframe tbody tr th:only-of-type {\n",
              "        vertical-align: middle;\n",
              "    }\n",
              "\n",
              "    .dataframe tbody tr th {\n",
              "        vertical-align: top;\n",
              "    }\n",
              "\n",
              "    .dataframe thead th {\n",
              "        text-align: right;\n",
              "    }\n",
              "</style>\n",
              "<table border=\"1\" class=\"dataframe\">\n",
              "  <thead>\n",
              "    <tr style=\"text-align: right;\">\n",
              "      <th></th>\n",
              "      <th>product_index</th>\n",
              "      <th>product_id</th>\n",
              "      <th>product_category</th>\n",
              "    </tr>\n",
              "  </thead>\n",
              "  <tbody>\n",
              "    <tr>\n",
              "      <th>43</th>\n",
              "      <td>43</td>\n",
              "      <td>cd935d283d47f1050c505e1c39c48b67</td>\n",
              "      <td>sports_leisure</td>\n",
              "    </tr>\n",
              "    <tr>\n",
              "      <th>47</th>\n",
              "      <td>47</td>\n",
              "      <td>ba4bfbf74dbe7ab37e263b9326da0523</td>\n",
              "      <td>sports_leisure</td>\n",
              "    </tr>\n",
              "    <tr>\n",
              "      <th>49</th>\n",
              "      <td>49</td>\n",
              "      <td>1deda1acffb44ed38494667d7e49a9f3</td>\n",
              "      <td>sports_leisure</td>\n",
              "    </tr>\n",
              "    <tr>\n",
              "      <th>53</th>\n",
              "      <td>53</td>\n",
              "      <td>f48eb5c2fde13ca63664f0bb05f55346</td>\n",
              "      <td>sports_leisure</td>\n",
              "    </tr>\n",
              "    <tr>\n",
              "      <th>59</th>\n",
              "      <td>59</td>\n",
              "      <td>30469bb5ea377eae7121981e2f0778e4</td>\n",
              "      <td>sports_leisure</td>\n",
              "    </tr>\n",
              "    <tr>\n",
              "      <th>...</th>\n",
              "      <td>...</td>\n",
              "      <td>...</td>\n",
              "      <td>...</td>\n",
              "    </tr>\n",
              "    <tr>\n",
              "      <th>32907</th>\n",
              "      <td>32907</td>\n",
              "      <td>7a38e463ce92bd8ee8449bde3f9ab398</td>\n",
              "      <td>sports_leisure</td>\n",
              "    </tr>\n",
              "    <tr>\n",
              "      <th>32909</th>\n",
              "      <td>32909</td>\n",
              "      <td>59013456264614e8f78024619f8b2972</td>\n",
              "      <td>sports_leisure</td>\n",
              "    </tr>\n",
              "    <tr>\n",
              "      <th>32928</th>\n",
              "      <td>32928</td>\n",
              "      <td>a2a90c1a0501c5148928da33b033dee8</td>\n",
              "      <td>sports_leisure</td>\n",
              "    </tr>\n",
              "    <tr>\n",
              "      <th>32929</th>\n",
              "      <td>32929</td>\n",
              "      <td>926454d19f2417167bf0a9488af66a4a</td>\n",
              "      <td>sports_leisure</td>\n",
              "    </tr>\n",
              "    <tr>\n",
              "      <th>32947</th>\n",
              "      <td>32947</td>\n",
              "      <td>0df37da38a30a713453b03053d60d3f7</td>\n",
              "      <td>sports_leisure</td>\n",
              "    </tr>\n",
              "  </tbody>\n",
              "</table>\n",
              "<p>2867 rows × 3 columns</p>\n",
              "</div>"
            ],
            "text/plain": [
              "       product_index                        product_id product_category\n",
              "43                43  cd935d283d47f1050c505e1c39c48b67   sports_leisure\n",
              "47                47  ba4bfbf74dbe7ab37e263b9326da0523   sports_leisure\n",
              "49                49  1deda1acffb44ed38494667d7e49a9f3   sports_leisure\n",
              "53                53  f48eb5c2fde13ca63664f0bb05f55346   sports_leisure\n",
              "59                59  30469bb5ea377eae7121981e2f0778e4   sports_leisure\n",
              "...              ...                               ...              ...\n",
              "32907          32907  7a38e463ce92bd8ee8449bde3f9ab398   sports_leisure\n",
              "32909          32909  59013456264614e8f78024619f8b2972   sports_leisure\n",
              "32928          32928  a2a90c1a0501c5148928da33b033dee8   sports_leisure\n",
              "32929          32929  926454d19f2417167bf0a9488af66a4a   sports_leisure\n",
              "32947          32947  0df37da38a30a713453b03053d60d3f7   sports_leisure\n",
              "\n",
              "[2867 rows x 3 columns]"
            ]
          },
          "execution_count": 59,
          "metadata": {},
          "output_type": "execute_result"
        }
      ],
      "source": [
        "filtered_product_in_use"
      ]
    },
    {
      "cell_type": "code",
      "execution_count": null,
      "id": "133d9cbb",
      "metadata": {
        "id": "133d9cbb",
        "outputId": "c6969bff-8ee2-4c46-b3eb-8286a8b200b8"
      },
      "outputs": [
        {
          "data": {
            "text/plain": [
              "2866"
            ]
          },
          "execution_count": 61,
          "metadata": {},
          "output_type": "execute_result"
        }
      ],
      "source": [
        "len(filtered_product_in_use[~filtered_product_in_use.product_index.isin([32947, 32947])].product_index.values)"
      ]
    },
    {
      "cell_type": "code",
      "execution_count": null,
      "id": "d6cd6b3b",
      "metadata": {
        "id": "d6cd6b3b",
        "outputId": "03f022b9-0494-46fb-af99-70f1ed2b6efe"
      },
      "outputs": [
        {
          "data": {
            "text/plain": [
              "array([ 8192, 32772, 24581, ..., 16367,  8189,  8190], dtype=int64)"
            ]
          },
          "execution_count": 62,
          "metadata": {},
          "output_type": "execute_result"
        }
      ],
      "source": [
        "product_data = np.array(list(set(filtered_product_in_use[~filtered_product_in_use.product_index.isin([32947, 32947])].product_index.values)))\n",
        "product_data"
      ]
    },
    {
      "cell_type": "code",
      "execution_count": null,
      "id": "d4b91fba",
      "metadata": {
        "id": "d4b91fba",
        "outputId": "407bd2e4-21f3-4a90-e7ce-cfbe037aaca4"
      },
      "outputs": [
        {
          "data": {
            "text/plain": [
              "2866"
            ]
          },
          "execution_count": 63,
          "metadata": {},
          "output_type": "execute_result"
        }
      ],
      "source": [
        "len(product_data)"
      ]
    },
    {
      "cell_type": "code",
      "execution_count": null,
      "id": "0cab0c43",
      "metadata": {
        "id": "0cab0c43",
        "outputId": "b3aa8621-28ba-409e-fcbb-f69743aeb0e6"
      },
      "outputs": [
        {
          "data": {
            "text/plain": [
              "array([95416, 95416, 95416, 95416, 95416, 95416, 95416, 95416, 95416,\n",
              "       95416])"
            ]
          },
          "execution_count": 64,
          "metadata": {},
          "output_type": "execute_result"
        }
      ],
      "source": [
        "index_user = 95416\n",
        "user = np.array([index_user for i in range(len(product_data))])\n",
        "user[:10]"
      ]
    },
    {
      "cell_type": "code",
      "execution_count": null,
      "id": "19121807",
      "metadata": {
        "id": "19121807",
        "outputId": "1004cc06-e6d1-44ce-a517-af0620848057"
      },
      "outputs": [
        {
          "name": "stdout",
          "output_type": "stream",
          "text": [
            "90/90 [==============================] - 0s 1ms/step\n"
          ]
        }
      ],
      "source": [
        "predictions = model.predict([user,product_data])\n",
        "predictions = np.array([a[0] for a in predictions])"
      ]
    },
    {
      "cell_type": "code",
      "execution_count": null,
      "id": "e3564b59",
      "metadata": {
        "id": "e3564b59",
        "outputId": "01ce08b7-c065-497e-bc11-4c8348198958"
      },
      "outputs": [
        {
          "data": {
            "text/plain": [
              "array([ 573, 1184, 1575, ...,  125,    4, 2034], dtype=int64)"
            ]
          },
          "execution_count": 70,
          "metadata": {},
          "output_type": "execute_result"
        }
      ],
      "source": [
        "voucher_generate_for_user = (-predictions).argsort()\n",
        "voucher_generate_for_user"
      ]
    },
    {
      "cell_type": "code",
      "execution_count": null,
      "id": "a71f9ec1",
      "metadata": {
        "id": "a71f9ec1",
        "outputId": "3800d7e8-eaa7-4c90-f14c-f6170361668e"
      },
      "outputs": [
        {
          "data": {
            "text/html": [
              "<div>\n",
              "<style scoped>\n",
              "    .dataframe tbody tr th:only-of-type {\n",
              "        vertical-align: middle;\n",
              "    }\n",
              "\n",
              "    .dataframe tbody tr th {\n",
              "        vertical-align: top;\n",
              "    }\n",
              "\n",
              "    .dataframe thead th {\n",
              "        text-align: right;\n",
              "    }\n",
              "</style>\n",
              "<table border=\"1\" class=\"dataframe\">\n",
              "  <thead>\n",
              "    <tr style=\"text-align: right;\">\n",
              "      <th></th>\n",
              "      <th>0</th>\n",
              "    </tr>\n",
              "  </thead>\n",
              "  <tbody>\n",
              "    <tr>\n",
              "      <th>573</th>\n",
              "      <td>1580</td>\n",
              "    </tr>\n",
              "  </tbody>\n",
              "</table>\n",
              "</div>"
            ],
            "text/plain": [
              "        0\n",
              "573  1580"
            ]
          },
          "execution_count": 95,
          "metadata": {},
          "output_type": "execute_result"
        }
      ],
      "source": [
        "temp = pd.DataFrame(product_data)\n",
        "temp[temp.index==573]"
      ]
    },
    {
      "cell_type": "code",
      "execution_count": null,
      "id": "2d027b28",
      "metadata": {
        "id": "2d027b28",
        "outputId": "0a3f008b-242e-4a30-c0b7-2cf33b85c712"
      },
      "outputs": [
        {
          "data": {
            "text/html": [
              "<div>\n",
              "<style scoped>\n",
              "    .dataframe tbody tr th:only-of-type {\n",
              "        vertical-align: middle;\n",
              "    }\n",
              "\n",
              "    .dataframe tbody tr th {\n",
              "        vertical-align: top;\n",
              "    }\n",
              "\n",
              "    .dataframe thead th {\n",
              "        text-align: right;\n",
              "    }\n",
              "</style>\n",
              "<table border=\"1\" class=\"dataframe\">\n",
              "  <thead>\n",
              "    <tr style=\"text-align: right;\">\n",
              "      <th></th>\n",
              "      <th>product_index</th>\n",
              "      <th>product_id</th>\n",
              "      <th>product_category</th>\n",
              "    </tr>\n",
              "  </thead>\n",
              "  <tbody>\n",
              "  </tbody>\n",
              "</table>\n",
              "</div>"
            ],
            "text/plain": [
              "Empty DataFrame\n",
              "Columns: [product_index, product_id, product_category]\n",
              "Index: []"
            ]
          },
          "execution_count": 79,
          "metadata": {},
          "output_type": "execute_result"
        }
      ],
      "source": [
        "filtered_product_in_use[filtered_product_in_use.product_index == 573]"
      ]
    },
    {
      "cell_type": "code",
      "execution_count": null,
      "id": "cb8eaacc",
      "metadata": {
        "id": "cb8eaacc",
        "outputId": "5d3b703a-8cca-4063-9873-3e505eb7e75c"
      },
      "outputs": [
        {
          "data": {
            "text/plain": [
              "2866"
            ]
          },
          "execution_count": 80,
          "metadata": {},
          "output_type": "execute_result"
        }
      ],
      "source": [
        "len(voucher_generate_for_user)"
      ]
    },
    {
      "cell_type": "code",
      "execution_count": null,
      "id": "5905dcf8",
      "metadata": {
        "id": "5905dcf8",
        "outputId": "a7f0b1c8-4685-4c71-9a3e-21450478d180"
      },
      "outputs": [
        {
          "data": {
            "text/html": [
              "<div>\n",
              "<style scoped>\n",
              "    .dataframe tbody tr th:only-of-type {\n",
              "        vertical-align: middle;\n",
              "    }\n",
              "\n",
              "    .dataframe tbody tr th {\n",
              "        vertical-align: top;\n",
              "    }\n",
              "\n",
              "    .dataframe thead th {\n",
              "        text-align: right;\n",
              "    }\n",
              "</style>\n",
              "<table border=\"1\" class=\"dataframe\">\n",
              "  <thead>\n",
              "    <tr style=\"text-align: right;\">\n",
              "      <th></th>\n",
              "      <th>product_index</th>\n",
              "      <th>product_id</th>\n",
              "      <th>product_category</th>\n",
              "    </tr>\n",
              "  </thead>\n",
              "  <tbody>\n",
              "  </tbody>\n",
              "</table>\n",
              "</div>"
            ],
            "text/plain": [
              "Empty DataFrame\n",
              "Columns: [product_index, product_id, product_category]\n",
              "Index: []"
            ]
          },
          "execution_count": 81,
          "metadata": {},
          "output_type": "execute_result"
        }
      ],
      "source": [
        "filtered_product_in_use[filtered_product_in_use.product_index == 573 ]"
      ]
    },
    {
      "cell_type": "code",
      "execution_count": null,
      "id": "06ee80d1",
      "metadata": {
        "id": "06ee80d1",
        "outputId": "d6ffd240-7383-408d-8f79-f45a335d11b1"
      },
      "outputs": [
        {
          "data": {
            "text/plain": [
              "'sports_leisure'"
            ]
          },
          "execution_count": 96,
          "metadata": {},
          "output_type": "execute_result"
        }
      ],
      "source": [
        "get_product_category_by_product_index(1580)"
      ]
    },
    {
      "cell_type": "code",
      "execution_count": null,
      "id": "cfde90df",
      "metadata": {
        "id": "cfde90df"
      },
      "outputs": [],
      "source": [
        "voucher_generate_for_user = pd.DataFrame(voucher_generate_for_user, columns=['product_index'])"
      ]
    },
    {
      "cell_type": "code",
      "execution_count": null,
      "id": "d7b314a7",
      "metadata": {
        "id": "d7b314a7"
      },
      "outputs": [],
      "source": [
        "voucher_generate_category = []\n",
        "for idx in voucher_generate_for_user.product_index:\n",
        "    voucher_generate_category.append(get_product_category_by_product_index(idx))\n",
        "voucher_generate_for_user['product_category'] = voucher_generate_category"
      ]
    },
    {
      "cell_type": "code",
      "execution_count": null,
      "id": "04ea0670",
      "metadata": {
        "id": "04ea0670"
      },
      "outputs": [],
      "source": [
        "# voucher_generate_for_user['product_category'] = voucher_generate_category"
      ]
    },
    {
      "cell_type": "code",
      "execution_count": null,
      "id": "9b606dac",
      "metadata": {
        "id": "9b606dac"
      },
      "outputs": [],
      "source": [
        "voucher_generate_for_user = voucher_generate_for_user[voucher_generate_for_user.product_category == 'sports_leisure'].product_index.values\n",
        "voucher_generate_for_user = voucher_generate_for_user[:5]"
      ]
    },
    {
      "cell_type": "code",
      "execution_count": null,
      "id": "62ef8425",
      "metadata": {
        "id": "62ef8425",
        "outputId": "19fd098f-837e-466d-d87e-7fcf5b1f1823"
      },
      "outputs": [
        {
          "data": {
            "text/plain": [
              "'sports_leisure'"
            ]
          },
          "execution_count": 87,
          "metadata": {},
          "output_type": "execute_result"
        }
      ],
      "source": [
        "get_product_category_by_product_index(1834)"
      ]
    },
    {
      "cell_type": "code",
      "execution_count": null,
      "id": "5a845428",
      "metadata": {
        "id": "5a845428",
        "outputId": "f757420c-0857-462a-dc7c-53a900630c1f"
      },
      "outputs": [
        {
          "data": {
            "text/plain": [
              "'73852ee3739732147010f2be732d597c'"
            ]
          },
          "execution_count": 88,
          "metadata": {},
          "output_type": "execute_result"
        }
      ],
      "source": [
        "get_product_id_by_product_index(1834)"
      ]
    },
    {
      "cell_type": "code",
      "execution_count": null,
      "id": "a1ec6b09",
      "metadata": {
        "id": "a1ec6b09",
        "outputId": "d69d5def-dfed-4fdd-f041-dc6863517e56"
      },
      "outputs": [
        {
          "data": {
            "text/plain": [
              "array([1834,  243,  977,  312, 2826], dtype=int64)"
            ]
          },
          "execution_count": 89,
          "metadata": {},
          "output_type": "execute_result"
        }
      ],
      "source": [
        "voucher_generate_for_user"
      ]
    },
    {
      "cell_type": "code",
      "execution_count": null,
      "id": "e460f820",
      "metadata": {
        "id": "e460f820",
        "outputId": "0dbb8dce-df0c-4201-a482-6c1669e91f29"
      },
      "outputs": [
        {
          "data": {
            "text/plain": [
              "['73852ee3739732147010f2be732d597c',\n",
              " '4615c086d05b264e9ff7004fcb515e37',\n",
              " '008cff0e5792219fae03e570f980b330',\n",
              " '011967a30ceeaa86acb72e79664544ad',\n",
              " '4a8388d725082add032c3a248d515142']"
            ]
          },
          "execution_count": 90,
          "metadata": {},
          "output_type": "execute_result"
        }
      ],
      "source": [
        "user_voucher = [get_product_id_by_product_index(product) for product in voucher_generate_for_user]\n",
        "user_voucher\n",
        "\n"
      ]
    },
    {
      "cell_type": "code",
      "execution_count": null,
      "id": "040cb5b3",
      "metadata": {
        "id": "040cb5b3"
      },
      "outputs": [],
      "source": [
        "# user lain "
      ]
    },
    {
      "cell_type": "code",
      "execution_count": null,
      "id": "e1d23dc6",
      "metadata": {
        "id": "e1d23dc6",
        "outputId": "c6dfd014-69f2-470b-ca51-a6a606defa3d"
      },
      "outputs": [
        {
          "data": {
            "text/html": [
              "<div>\n",
              "<style scoped>\n",
              "    .dataframe tbody tr th:only-of-type {\n",
              "        vertical-align: middle;\n",
              "    }\n",
              "\n",
              "    .dataframe tbody tr th {\n",
              "        vertical-align: top;\n",
              "    }\n",
              "\n",
              "    .dataframe thead th {\n",
              "        text-align: right;\n",
              "    }\n",
              "</style>\n",
              "<table border=\"1\" class=\"dataframe\">\n",
              "  <thead>\n",
              "    <tr style=\"text-align: right;\">\n",
              "      <th></th>\n",
              "      <th>customer_unique_id</th>\n",
              "      <th>product_id</th>\n",
              "    </tr>\n",
              "  </thead>\n",
              "  <tbody>\n",
              "    <tr>\n",
              "      <th>2385</th>\n",
              "      <td>b118181abcb0f3623b02187e09399f27</td>\n",
              "      <td>73852ee3739732147010f2be732d597c</td>\n",
              "    </tr>\n",
              "    <tr>\n",
              "      <th>7972</th>\n",
              "      <td>90cf6edc2494d9187408de55e8db6fb4</td>\n",
              "      <td>73852ee3739732147010f2be732d597c</td>\n",
              "    </tr>\n",
              "    <tr>\n",
              "      <th>32439</th>\n",
              "      <td>88816571d07f9c0a20f4acf6380bc8e3</td>\n",
              "      <td>73852ee3739732147010f2be732d597c</td>\n",
              "    </tr>\n",
              "    <tr>\n",
              "      <th>41175</th>\n",
              "      <td>57b5d9f9fa4f1ff41befbfbf0fcbc3ca</td>\n",
              "      <td>73852ee3739732147010f2be732d597c</td>\n",
              "    </tr>\n",
              "    <tr>\n",
              "      <th>41188</th>\n",
              "      <td>1d58387408a543a2eb1d8561965cb0b2</td>\n",
              "      <td>73852ee3739732147010f2be732d597c</td>\n",
              "    </tr>\n",
              "    <tr>\n",
              "      <th>50251</th>\n",
              "      <td>df654194927e4e1efc30c15bb11b56c5</td>\n",
              "      <td>73852ee3739732147010f2be732d597c</td>\n",
              "    </tr>\n",
              "    <tr>\n",
              "      <th>52824</th>\n",
              "      <td>18a56a7cb0f4b340f0ac02b64480bd89</td>\n",
              "      <td>73852ee3739732147010f2be732d597c</td>\n",
              "    </tr>\n",
              "  </tbody>\n",
              "</table>\n",
              "</div>"
            ],
            "text/plain": [
              "                     customer_unique_id                        product_id\n",
              "2385   b118181abcb0f3623b02187e09399f27  73852ee3739732147010f2be732d597c\n",
              "7972   90cf6edc2494d9187408de55e8db6fb4  73852ee3739732147010f2be732d597c\n",
              "32439  88816571d07f9c0a20f4acf6380bc8e3  73852ee3739732147010f2be732d597c\n",
              "41175  57b5d9f9fa4f1ff41befbfbf0fcbc3ca  73852ee3739732147010f2be732d597c\n",
              "41188  1d58387408a543a2eb1d8561965cb0b2  73852ee3739732147010f2be732d597c\n",
              "50251  df654194927e4e1efc30c15bb11b56c5  73852ee3739732147010f2be732d597c\n",
              "52824  18a56a7cb0f4b340f0ac02b64480bd89  73852ee3739732147010f2be732d597c"
            ]
          },
          "execution_count": 219,
          "metadata": {},
          "output_type": "execute_result"
        }
      ],
      "source": [
        "transactions[transactions.product_id== '73852ee3739732147010f2be732d597c']"
      ]
    },
    {
      "cell_type": "code",
      "execution_count": null,
      "id": "884cb884",
      "metadata": {
        "id": "884cb884",
        "outputId": "7230bbfc-aee6-4ad6-e019-c966fc661500"
      },
      "outputs": [
        {
          "data": {
            "text/plain": [
              "array(['73852ee3739732147010f2be732d597c',\n",
              "       'f97194491a605b1d0e50d631e443cb5a',\n",
              "       'b00e24be53a1785f1f613e747809a5ff',\n",
              "       '0e2c6b2fc22b192f824a68a0fa537aa0'], dtype=object)"
            ]
          },
          "execution_count": 224,
          "metadata": {},
          "output_type": "execute_result"
        }
      ],
      "source": [
        "get_transaction_by_customer('b118181abcb0f3623b02187e09399f27')"
      ]
    },
    {
      "cell_type": "code",
      "execution_count": null,
      "id": "b4bf837c",
      "metadata": {
        "id": "b4bf837c"
      },
      "outputs": [],
      "source": [
        "def get_voucher_from_user(customer_id, product_category):\n",
        "    product_customer_purchased = get_transaction_by_customer(customer_id)\n",
        "    \n",
        "    index_product_already_purchased = []\n",
        "    for i in range(len(product_customer_purchased)):\n",
        "        index_product_already_purchased.append(get_product_index_by_product_id(product_customer_purchased[i]))\n",
        "    \n",
        "    filtered_product_in_use = product_in_use[product_in_use.product_category == product_category]\n",
        "    \n",
        "    product_not_purchased = np.array(list(set(filtered_product_in_use[~filtered_product_in_use.product_index.isin(index_product_already_purchased)].product_index.values)))\n",
        "    \n",
        "    index_user = get_customer_index(customer_id)\n",
        "    user = np.array([index_user for i in range(len(product_not_purchased))])\n",
        "    \n",
        "    predictions = model.predict([user,product_not_purchased], verbose=0)\n",
        "    predictions = np.array([a[0] for a in predictions])\n",
        "    \n",
        "    voucher_generate = (-predictions).argsort()\n",
        "    voucher_generate = pd.DataFrame(voucher_generate, columns=['product_index'])\n",
        "    \n",
        "    voucher_generate_category = []\n",
        "    for idx in voucher_generate.product_index:\n",
        "        voucher_generate_category.append(get_product_category_by_product_index(idx))\n",
        "    voucher_generate['product_category'] = voucher_generate_category\n",
        "    \n",
        "    voucher_generate = voucher_generate[voucher_generate.product_category == product_category].product_index.values\n",
        "    voucher_generate = voucher_generate[:5]\n",
        "    \n",
        "    user_voucher = [get_product_id_by_product_index(product) for product in voucher_generate]\n",
        "    user_voucher\n",
        "    \n",
        "    return user_voucher\n",
        "    "
      ]
    },
    {
      "cell_type": "code",
      "execution_count": null,
      "id": "5725495c",
      "metadata": {
        "id": "5725495c",
        "outputId": "fc53b2ce-a518-47f8-a9f8-423ee2b98170"
      },
      "outputs": [
        {
          "data": {
            "text/plain": [
              "['b73e7ccdd22c0bb891a93ec7d80b717f',\n",
              " 'f17919cd5c50df5ea6b11d9665a0eb2f',\n",
              " '5650f9e1f73d0a1c0176988cf2e950d5',\n",
              " '616968e81dfe76aade96cd6f673b6d24',\n",
              " '7737a63b27d4c4ec7592e8429ad7f554']"
            ]
          },
          "execution_count": 264,
          "metadata": {},
          "output_type": "execute_result"
        }
      ],
      "source": [
        "get_voucher_from_user('b118181abcb0f3623b02187e09399f27', 'sports_leisure')"
      ]
    },
    {
      "cell_type": "code",
      "execution_count": null,
      "id": "576a82e5",
      "metadata": {
        "id": "576a82e5",
        "outputId": "e42c062f-b5fb-4b5e-ff15-8f68f61b8bb9"
      },
      "outputs": [
        {
          "data": {
            "text/plain": [
              "['73852ee3739732147010f2be732d597c',\n",
              " '008cff0e5792219fae03e570f980b330',\n",
              " '5650f9e1f73d0a1c0176988cf2e950d5',\n",
              " '4a8388d725082add032c3a248d515142',\n",
              " '7e857e35018e4a05b7d124d1628dc1f0']"
            ]
          },
          "execution_count": 265,
          "metadata": {},
          "output_type": "execute_result"
        }
      ],
      "source": [
        "get_voucher_from_user('90cf6edc2494d9187408de55e8db6fb4', 'sports_leisure')"
      ]
    },
    {
      "cell_type": "markdown",
      "id": "c8e80a1d",
      "metadata": {
        "id": "c8e80a1d"
      },
      "source": [
        "## bikin customers"
      ]
    },
    {
      "cell_type": "code",
      "execution_count": null,
      "id": "eccacfbf",
      "metadata": {
        "id": "eccacfbf",
        "outputId": "e27ea53a-ab82-4711-d616-3d1919178c3b"
      },
      "outputs": [
        {
          "data": {
            "text/html": [
              "<div>\n",
              "<style scoped>\n",
              "    .dataframe tbody tr th:only-of-type {\n",
              "        vertical-align: middle;\n",
              "    }\n",
              "\n",
              "    .dataframe tbody tr th {\n",
              "        vertical-align: top;\n",
              "    }\n",
              "\n",
              "    .dataframe thead th {\n",
              "        text-align: right;\n",
              "    }\n",
              "</style>\n",
              "<table border=\"1\" class=\"dataframe\">\n",
              "  <thead>\n",
              "    <tr style=\"text-align: right;\">\n",
              "      <th></th>\n",
              "      <th>order_id</th>\n",
              "      <th>customer_id</th>\n",
              "      <th>order_status</th>\n",
              "      <th>order_purchase_timestamp</th>\n",
              "      <th>order_approved_at</th>\n",
              "      <th>order_delivered_carrier_date</th>\n",
              "      <th>order_delivered_customer_date</th>\n",
              "      <th>order_estimated_delivery_date</th>\n",
              "    </tr>\n",
              "  </thead>\n",
              "  <tbody>\n",
              "    <tr>\n",
              "      <th>0</th>\n",
              "      <td>e481f51cbdc54678b7cc49136f2d6af7</td>\n",
              "      <td>9ef432eb6251297304e76186b10a928d</td>\n",
              "      <td>delivered</td>\n",
              "      <td>2017-10-02 10:56:33</td>\n",
              "      <td>2017-10-02 11:07:15</td>\n",
              "      <td>2017-10-04 19:55:00</td>\n",
              "      <td>2017-10-10 21:25:13</td>\n",
              "      <td>2017-10-18 00:00:00</td>\n",
              "    </tr>\n",
              "    <tr>\n",
              "      <th>1</th>\n",
              "      <td>53cdb2fc8bc7dce0b6741e2150273451</td>\n",
              "      <td>b0830fb4747a6c6d20dea0b8c802d7ef</td>\n",
              "      <td>delivered</td>\n",
              "      <td>2018-07-24 20:41:37</td>\n",
              "      <td>2018-07-26 03:24:27</td>\n",
              "      <td>2018-07-26 14:31:00</td>\n",
              "      <td>2018-08-07 15:27:45</td>\n",
              "      <td>2018-08-13 00:00:00</td>\n",
              "    </tr>\n",
              "    <tr>\n",
              "      <th>2</th>\n",
              "      <td>47770eb9100c2d0c44946d9cf07ec65d</td>\n",
              "      <td>41ce2a54c0b03bf3443c3d931a367089</td>\n",
              "      <td>delivered</td>\n",
              "      <td>2018-08-08 08:38:49</td>\n",
              "      <td>2018-08-08 08:55:23</td>\n",
              "      <td>2018-08-08 13:50:00</td>\n",
              "      <td>2018-08-17 18:06:29</td>\n",
              "      <td>2018-09-04 00:00:00</td>\n",
              "    </tr>\n",
              "    <tr>\n",
              "      <th>3</th>\n",
              "      <td>949d5b44dbf5de918fe9c16f97b45f8a</td>\n",
              "      <td>f88197465ea7920adcdbec7375364d82</td>\n",
              "      <td>delivered</td>\n",
              "      <td>2017-11-18 19:28:06</td>\n",
              "      <td>2017-11-18 19:45:59</td>\n",
              "      <td>2017-11-22 13:39:59</td>\n",
              "      <td>2017-12-02 00:28:42</td>\n",
              "      <td>2017-12-15 00:00:00</td>\n",
              "    </tr>\n",
              "    <tr>\n",
              "      <th>4</th>\n",
              "      <td>ad21c59c0840e6cb83a9ceb5573f8159</td>\n",
              "      <td>8ab97904e6daea8866dbdbc4fb7aad2c</td>\n",
              "      <td>delivered</td>\n",
              "      <td>2018-02-13 21:18:39</td>\n",
              "      <td>2018-02-13 22:20:29</td>\n",
              "      <td>2018-02-14 19:46:34</td>\n",
              "      <td>2018-02-16 18:17:02</td>\n",
              "      <td>2018-02-26 00:00:00</td>\n",
              "    </tr>\n",
              "    <tr>\n",
              "      <th>...</th>\n",
              "      <td>...</td>\n",
              "      <td>...</td>\n",
              "      <td>...</td>\n",
              "      <td>...</td>\n",
              "      <td>...</td>\n",
              "      <td>...</td>\n",
              "      <td>...</td>\n",
              "      <td>...</td>\n",
              "    </tr>\n",
              "    <tr>\n",
              "      <th>99436</th>\n",
              "      <td>9c5dedf39a927c1b2549525ed64a053c</td>\n",
              "      <td>39bd1228ee8140590ac3aca26f2dfe00</td>\n",
              "      <td>delivered</td>\n",
              "      <td>2017-03-09 09:54:05</td>\n",
              "      <td>2017-03-09 09:54:05</td>\n",
              "      <td>2017-03-10 11:18:03</td>\n",
              "      <td>2017-03-17 15:08:01</td>\n",
              "      <td>2017-03-28 00:00:00</td>\n",
              "    </tr>\n",
              "    <tr>\n",
              "      <th>99437</th>\n",
              "      <td>63943bddc261676b46f01ca7ac2f7bd8</td>\n",
              "      <td>1fca14ff2861355f6e5f14306ff977a7</td>\n",
              "      <td>delivered</td>\n",
              "      <td>2018-02-06 12:58:58</td>\n",
              "      <td>2018-02-06 13:10:37</td>\n",
              "      <td>2018-02-07 23:22:42</td>\n",
              "      <td>2018-02-28 17:37:56</td>\n",
              "      <td>2018-03-02 00:00:00</td>\n",
              "    </tr>\n",
              "    <tr>\n",
              "      <th>99438</th>\n",
              "      <td>83c1379a015df1e13d02aae0204711ab</td>\n",
              "      <td>1aa71eb042121263aafbe80c1b562c9c</td>\n",
              "      <td>delivered</td>\n",
              "      <td>2017-08-27 14:46:43</td>\n",
              "      <td>2017-08-27 15:04:16</td>\n",
              "      <td>2017-08-28 20:52:26</td>\n",
              "      <td>2017-09-21 11:24:17</td>\n",
              "      <td>2017-09-27 00:00:00</td>\n",
              "    </tr>\n",
              "    <tr>\n",
              "      <th>99439</th>\n",
              "      <td>11c177c8e97725db2631073c19f07b62</td>\n",
              "      <td>b331b74b18dc79bcdf6532d51e1637c1</td>\n",
              "      <td>delivered</td>\n",
              "      <td>2018-01-08 21:28:27</td>\n",
              "      <td>2018-01-08 21:36:21</td>\n",
              "      <td>2018-01-12 15:35:03</td>\n",
              "      <td>2018-01-25 23:32:54</td>\n",
              "      <td>2018-02-15 00:00:00</td>\n",
              "    </tr>\n",
              "    <tr>\n",
              "      <th>99440</th>\n",
              "      <td>66dea50a8b16d9b4dee7af250b4be1a5</td>\n",
              "      <td>edb027a75a1449115f6b43211ae02a24</td>\n",
              "      <td>delivered</td>\n",
              "      <td>2018-03-08 20:57:30</td>\n",
              "      <td>2018-03-09 11:20:28</td>\n",
              "      <td>2018-03-09 22:11:59</td>\n",
              "      <td>2018-03-16 13:08:30</td>\n",
              "      <td>2018-04-03 00:00:00</td>\n",
              "    </tr>\n",
              "  </tbody>\n",
              "</table>\n",
              "<p>99441 rows × 8 columns</p>\n",
              "</div>"
            ],
            "text/plain": [
              "                               order_id                       customer_id  \\\n",
              "0      e481f51cbdc54678b7cc49136f2d6af7  9ef432eb6251297304e76186b10a928d   \n",
              "1      53cdb2fc8bc7dce0b6741e2150273451  b0830fb4747a6c6d20dea0b8c802d7ef   \n",
              "2      47770eb9100c2d0c44946d9cf07ec65d  41ce2a54c0b03bf3443c3d931a367089   \n",
              "3      949d5b44dbf5de918fe9c16f97b45f8a  f88197465ea7920adcdbec7375364d82   \n",
              "4      ad21c59c0840e6cb83a9ceb5573f8159  8ab97904e6daea8866dbdbc4fb7aad2c   \n",
              "...                                 ...                               ...   \n",
              "99436  9c5dedf39a927c1b2549525ed64a053c  39bd1228ee8140590ac3aca26f2dfe00   \n",
              "99437  63943bddc261676b46f01ca7ac2f7bd8  1fca14ff2861355f6e5f14306ff977a7   \n",
              "99438  83c1379a015df1e13d02aae0204711ab  1aa71eb042121263aafbe80c1b562c9c   \n",
              "99439  11c177c8e97725db2631073c19f07b62  b331b74b18dc79bcdf6532d51e1637c1   \n",
              "99440  66dea50a8b16d9b4dee7af250b4be1a5  edb027a75a1449115f6b43211ae02a24   \n",
              "\n",
              "      order_status order_purchase_timestamp    order_approved_at  \\\n",
              "0        delivered      2017-10-02 10:56:33  2017-10-02 11:07:15   \n",
              "1        delivered      2018-07-24 20:41:37  2018-07-26 03:24:27   \n",
              "2        delivered      2018-08-08 08:38:49  2018-08-08 08:55:23   \n",
              "3        delivered      2017-11-18 19:28:06  2017-11-18 19:45:59   \n",
              "4        delivered      2018-02-13 21:18:39  2018-02-13 22:20:29   \n",
              "...            ...                      ...                  ...   \n",
              "99436    delivered      2017-03-09 09:54:05  2017-03-09 09:54:05   \n",
              "99437    delivered      2018-02-06 12:58:58  2018-02-06 13:10:37   \n",
              "99438    delivered      2017-08-27 14:46:43  2017-08-27 15:04:16   \n",
              "99439    delivered      2018-01-08 21:28:27  2018-01-08 21:36:21   \n",
              "99440    delivered      2018-03-08 20:57:30  2018-03-09 11:20:28   \n",
              "\n",
              "      order_delivered_carrier_date order_delivered_customer_date  \\\n",
              "0              2017-10-04 19:55:00           2017-10-10 21:25:13   \n",
              "1              2018-07-26 14:31:00           2018-08-07 15:27:45   \n",
              "2              2018-08-08 13:50:00           2018-08-17 18:06:29   \n",
              "3              2017-11-22 13:39:59           2017-12-02 00:28:42   \n",
              "4              2018-02-14 19:46:34           2018-02-16 18:17:02   \n",
              "...                            ...                           ...   \n",
              "99436          2017-03-10 11:18:03           2017-03-17 15:08:01   \n",
              "99437          2018-02-07 23:22:42           2018-02-28 17:37:56   \n",
              "99438          2017-08-28 20:52:26           2017-09-21 11:24:17   \n",
              "99439          2018-01-12 15:35:03           2018-01-25 23:32:54   \n",
              "99440          2018-03-09 22:11:59           2018-03-16 13:08:30   \n",
              "\n",
              "      order_estimated_delivery_date  \n",
              "0               2017-10-18 00:00:00  \n",
              "1               2018-08-13 00:00:00  \n",
              "2               2018-09-04 00:00:00  \n",
              "3               2017-12-15 00:00:00  \n",
              "4               2018-02-26 00:00:00  \n",
              "...                             ...  \n",
              "99436           2017-03-28 00:00:00  \n",
              "99437           2018-03-02 00:00:00  \n",
              "99438           2017-09-27 00:00:00  \n",
              "99439           2018-02-15 00:00:00  \n",
              "99440           2018-04-03 00:00:00  \n",
              "\n",
              "[99441 rows x 8 columns]"
            ]
          },
          "execution_count": 168,
          "metadata": {},
          "output_type": "execute_result"
        }
      ],
      "source": [
        "order_data"
      ]
    },
    {
      "cell_type": "code",
      "execution_count": null,
      "id": "22fcaed4",
      "metadata": {
        "id": "22fcaed4",
        "outputId": "291cd13b-32a5-432a-9267-a39418bee45a"
      },
      "outputs": [
        {
          "data": {
            "text/html": [
              "<div>\n",
              "<style scoped>\n",
              "    .dataframe tbody tr th:only-of-type {\n",
              "        vertical-align: middle;\n",
              "    }\n",
              "\n",
              "    .dataframe tbody tr th {\n",
              "        vertical-align: top;\n",
              "    }\n",
              "\n",
              "    .dataframe thead th {\n",
              "        text-align: right;\n",
              "    }\n",
              "</style>\n",
              "<table border=\"1\" class=\"dataframe\">\n",
              "  <thead>\n",
              "    <tr style=\"text-align: right;\">\n",
              "      <th></th>\n",
              "      <th>id</th>\n",
              "      <th>product_category</th>\n",
              "      <th>name</th>\n",
              "      <th>created_at</th>\n",
              "      <th>updated_at</th>\n",
              "      <th>base_price</th>\n",
              "      <th>competitor_price</th>\n",
              "    </tr>\n",
              "  </thead>\n",
              "  <tbody>\n",
              "    <tr>\n",
              "      <th>0</th>\n",
              "      <td>1e9e8ef04dbcff4541ed26657ea517e5</td>\n",
              "      <td>perfumery</td>\n",
              "      <td>NaN</td>\n",
              "      <td>2018-04-24 16:16:53</td>\n",
              "      <td>2018-04-24 16:16:53</td>\n",
              "      <td>33313.9032</td>\n",
              "      <td>NaN</td>\n",
              "    </tr>\n",
              "    <tr>\n",
              "      <th>1</th>\n",
              "      <td>3aa071139cb16b67ca9e5dea641aaa2f</td>\n",
              "      <td>art</td>\n",
              "      <td>NaN</td>\n",
              "      <td>2018-01-31 18:55:36</td>\n",
              "      <td>2018-01-31 18:55:36</td>\n",
              "      <td>757272.9600</td>\n",
              "      <td>NaN</td>\n",
              "    </tr>\n",
              "    <tr>\n",
              "      <th>2</th>\n",
              "      <td>96bd76ec8810374ed1b65e291975717f</td>\n",
              "      <td>sports_leisure</td>\n",
              "      <td>NaN</td>\n",
              "      <td>2018-07-09 21:18:01</td>\n",
              "      <td>2018-07-09 21:18:01</td>\n",
              "      <td>243670.8960</td>\n",
              "      <td>NaN</td>\n",
              "    </tr>\n",
              "    <tr>\n",
              "      <th>3</th>\n",
              "      <td>cef67bcfe19066a932b7673e239eb23d</td>\n",
              "      <td>baby</td>\n",
              "      <td>NaN</td>\n",
              "      <td>2018-08-03 08:55:50</td>\n",
              "      <td>2018-08-03 08:55:50</td>\n",
              "      <td>342910.2960</td>\n",
              "      <td>NaN</td>\n",
              "    </tr>\n",
              "    <tr>\n",
              "      <th>4</th>\n",
              "      <td>9dc1a7de274444849c219cff195d0b71</td>\n",
              "      <td>housewares</td>\n",
              "      <td>NaN</td>\n",
              "      <td>2018-04-11 01:06:37</td>\n",
              "      <td>2018-04-11 01:06:37</td>\n",
              "      <td>115728.4080</td>\n",
              "      <td>NaN</td>\n",
              "    </tr>\n",
              "    <tr>\n",
              "      <th>...</th>\n",
              "      <td>...</td>\n",
              "      <td>...</td>\n",
              "      <td>...</td>\n",
              "      <td>...</td>\n",
              "      <td>...</td>\n",
              "      <td>...</td>\n",
              "      <td>...</td>\n",
              "    </tr>\n",
              "    <tr>\n",
              "      <th>32946</th>\n",
              "      <td>a0b7d5a992ccda646f2d34e418fff5a0</td>\n",
              "      <td>furniture_decor</td>\n",
              "      <td>NaN</td>\n",
              "      <td>2017-12-29 19:03:07</td>\n",
              "      <td>2018-08-20 17:06:21</td>\n",
              "      <td>213441.0480</td>\n",
              "      <td>NaN</td>\n",
              "    </tr>\n",
              "    <tr>\n",
              "      <th>32947</th>\n",
              "      <td>bf4538d88321d0fd4412a93c974510e6</td>\n",
              "      <td>construction_tools_lights</td>\n",
              "      <td>NaN</td>\n",
              "      <td>2018-04-12 11:29:56</td>\n",
              "      <td>2018-08-06 17:28:26</td>\n",
              "      <td>732844.8000</td>\n",
              "      <td>NaN</td>\n",
              "    </tr>\n",
              "    <tr>\n",
              "      <th>32948</th>\n",
              "      <td>9a7c6041fa9592d9d9ef6cfe62a71f8c</td>\n",
              "      <td>bed_bath_table</td>\n",
              "      <td>NaN</td>\n",
              "      <td>2017-08-21 15:37:43</td>\n",
              "      <td>2018-06-24 13:59:43</td>\n",
              "      <td>389323.8000</td>\n",
              "      <td>NaN</td>\n",
              "    </tr>\n",
              "    <tr>\n",
              "      <th>32949</th>\n",
              "      <td>83808703fc0706a22e264b9d75f04a2e</td>\n",
              "      <td>computers_accessories</td>\n",
              "      <td>NaN</td>\n",
              "      <td>2017-10-19 09:26:47</td>\n",
              "      <td>2018-03-06 11:51:44</td>\n",
              "      <td>91300.2480</td>\n",
              "      <td>NaN</td>\n",
              "    </tr>\n",
              "    <tr>\n",
              "      <th>32950</th>\n",
              "      <td>106392145fca363410d287a815be6de4</td>\n",
              "      <td>bed_bath_table</td>\n",
              "      <td>NaN</td>\n",
              "      <td>2018-06-28 08:15:31</td>\n",
              "      <td>2018-06-28 08:15:31</td>\n",
              "      <td>328253.4000</td>\n",
              "      <td>NaN</td>\n",
              "    </tr>\n",
              "  </tbody>\n",
              "</table>\n",
              "<p>32951 rows × 7 columns</p>\n",
              "</div>"
            ],
            "text/plain": [
              "                                     id           product_category  name  \\\n",
              "0      1e9e8ef04dbcff4541ed26657ea517e5                  perfumery   NaN   \n",
              "1      3aa071139cb16b67ca9e5dea641aaa2f                        art   NaN   \n",
              "2      96bd76ec8810374ed1b65e291975717f             sports_leisure   NaN   \n",
              "3      cef67bcfe19066a932b7673e239eb23d                       baby   NaN   \n",
              "4      9dc1a7de274444849c219cff195d0b71                 housewares   NaN   \n",
              "...                                 ...                        ...   ...   \n",
              "32946  a0b7d5a992ccda646f2d34e418fff5a0            furniture_decor   NaN   \n",
              "32947  bf4538d88321d0fd4412a93c974510e6  construction_tools_lights   NaN   \n",
              "32948  9a7c6041fa9592d9d9ef6cfe62a71f8c             bed_bath_table   NaN   \n",
              "32949  83808703fc0706a22e264b9d75f04a2e      computers_accessories   NaN   \n",
              "32950  106392145fca363410d287a815be6de4             bed_bath_table   NaN   \n",
              "\n",
              "                created_at           updated_at   base_price  competitor_price  \n",
              "0      2018-04-24 16:16:53  2018-04-24 16:16:53   33313.9032               NaN  \n",
              "1      2018-01-31 18:55:36  2018-01-31 18:55:36  757272.9600               NaN  \n",
              "2      2018-07-09 21:18:01  2018-07-09 21:18:01  243670.8960               NaN  \n",
              "3      2018-08-03 08:55:50  2018-08-03 08:55:50  342910.2960               NaN  \n",
              "4      2018-04-11 01:06:37  2018-04-11 01:06:37  115728.4080               NaN  \n",
              "...                    ...                  ...          ...               ...  \n",
              "32946  2017-12-29 19:03:07  2018-08-20 17:06:21  213441.0480               NaN  \n",
              "32947  2018-04-12 11:29:56  2018-08-06 17:28:26  732844.8000               NaN  \n",
              "32948  2017-08-21 15:37:43  2018-06-24 13:59:43  389323.8000               NaN  \n",
              "32949  2017-10-19 09:26:47  2018-03-06 11:51:44   91300.2480               NaN  \n",
              "32950  2018-06-28 08:15:31  2018-06-28 08:15:31  328253.4000               NaN  \n",
              "\n",
              "[32951 rows x 7 columns]"
            ]
          },
          "execution_count": 167,
          "metadata": {},
          "output_type": "execute_result"
        }
      ],
      "source": [
        "products"
      ]
    },
    {
      "cell_type": "code",
      "execution_count": null,
      "id": "d398623e",
      "metadata": {
        "scrolled": true,
        "id": "d398623e"
      },
      "outputs": [],
      "source": [
        "transactions = order_items.merge(order_data, on='order_id')[['order_id','product_id','customer_id','price','order_approved_at']]\n",
        "transactions = transactions.merge(customers, on = 'customer_id')[['order_id', 'customer_unique_id','product_id','price']]\n",
        "transactions = transactions.merge(products, left_on = 'product_id', right_on='id')[['order_id','customer_unique_id','product_id','product_category','price']]\n",
        "transactions"
      ]
    },
    {
      "cell_type": "code",
      "execution_count": null,
      "id": "66d65358",
      "metadata": {
        "id": "66d65358",
        "outputId": "f60621a8-f7bd-45c9-afe1-c4f72249abcf"
      },
      "outputs": [
        {
          "data": {
            "text/html": [
              "<div>\n",
              "<style scoped>\n",
              "    .dataframe tbody tr th:only-of-type {\n",
              "        vertical-align: middle;\n",
              "    }\n",
              "\n",
              "    .dataframe tbody tr th {\n",
              "        vertical-align: top;\n",
              "    }\n",
              "\n",
              "    .dataframe thead th {\n",
              "        text-align: right;\n",
              "    }\n",
              "</style>\n",
              "<table border=\"1\" class=\"dataframe\">\n",
              "  <thead>\n",
              "    <tr style=\"text-align: right;\">\n",
              "      <th></th>\n",
              "      <th>order_id</th>\n",
              "      <th>customer_unique_id</th>\n",
              "      <th>product_id</th>\n",
              "      <th>product_category</th>\n",
              "      <th>price</th>\n",
              "    </tr>\n",
              "  </thead>\n",
              "  <tbody>\n",
              "    <tr>\n",
              "      <th>0</th>\n",
              "      <td>00010242fe8c5a6d1ba2dd792cb16214</td>\n",
              "      <td>871766c5855e863f6eccc05f988b23cb</td>\n",
              "      <td>4244733e06e7ecb4970a6e2683c13e61</td>\n",
              "      <td>cool_stuff</td>\n",
              "      <td>58.9</td>\n",
              "    </tr>\n",
              "    <tr>\n",
              "      <th>1</th>\n",
              "      <td>130898c0987d1801452a8ed92a670612</td>\n",
              "      <td>0fb8e3eab2d3e79d92bb3fffbb97f188</td>\n",
              "      <td>4244733e06e7ecb4970a6e2683c13e61</td>\n",
              "      <td>cool_stuff</td>\n",
              "      <td>55.9</td>\n",
              "    </tr>\n",
              "    <tr>\n",
              "      <th>2</th>\n",
              "      <td>532ed5e14e24ae1f0d735b91524b98b9</td>\n",
              "      <td>3419052c8c6b45daf79c1e426f9e9bcb</td>\n",
              "      <td>4244733e06e7ecb4970a6e2683c13e61</td>\n",
              "      <td>cool_stuff</td>\n",
              "      <td>64.9</td>\n",
              "    </tr>\n",
              "    <tr>\n",
              "      <th>3</th>\n",
              "      <td>6f8c31653edb8c83e1a739408b5ff750</td>\n",
              "      <td>e7c828d22c0682c1565252deefbe334d</td>\n",
              "      <td>4244733e06e7ecb4970a6e2683c13e61</td>\n",
              "      <td>cool_stuff</td>\n",
              "      <td>58.9</td>\n",
              "    </tr>\n",
              "    <tr>\n",
              "      <th>4</th>\n",
              "      <td>7d19f4ef4d04461989632411b7e588b9</td>\n",
              "      <td>0bb98ba72dcc08e95f9d8cc434e9a2cc</td>\n",
              "      <td>4244733e06e7ecb4970a6e2683c13e61</td>\n",
              "      <td>cool_stuff</td>\n",
              "      <td>58.9</td>\n",
              "    </tr>\n",
              "    <tr>\n",
              "      <th>...</th>\n",
              "      <td>...</td>\n",
              "      <td>...</td>\n",
              "      <td>...</td>\n",
              "      <td>...</td>\n",
              "      <td>...</td>\n",
              "    </tr>\n",
              "    <tr>\n",
              "      <th>112645</th>\n",
              "      <td>ffebd80e3291e811c308365936897efd</td>\n",
              "      <td>a1c2e4b4c1b29e41684ebdf3cc6538f8</td>\n",
              "      <td>4cc4d02efc8f249c13355147fb44e34d</td>\n",
              "      <td>garden_tools</td>\n",
              "      <td>129.9</td>\n",
              "    </tr>\n",
              "    <tr>\n",
              "      <th>112646</th>\n",
              "      <td>ffee31fb4b5e35c9123608015637c495</td>\n",
              "      <td>4e15fee963523774998876e3624952f4</td>\n",
              "      <td>b10ecf8e33aaaea419a9fa860ea80fb5</td>\n",
              "      <td>furniture_decor</td>\n",
              "      <td>99.0</td>\n",
              "    </tr>\n",
              "    <tr>\n",
              "      <th>112647</th>\n",
              "      <td>fff7c4452f050315db1b3f24d9df5fcd</td>\n",
              "      <td>c86ab5ff2bac777c4e770a383feca4eb</td>\n",
              "      <td>dd469c03ad67e201bc2179ef077dcd48</td>\n",
              "      <td>watches_gifts</td>\n",
              "      <td>736.0</td>\n",
              "    </tr>\n",
              "    <tr>\n",
              "      <th>112648</th>\n",
              "      <td>fffa82886406ccf10c7b4e35c4ff2788</td>\n",
              "      <td>2a3ab9bf9639491997586882c502540a</td>\n",
              "      <td>bbe7651fef80287a816ead73f065fc4b</td>\n",
              "      <td>sports_leisure</td>\n",
              "      <td>229.9</td>\n",
              "    </tr>\n",
              "    <tr>\n",
              "      <th>112649</th>\n",
              "      <td>fffe41c64501cc87c801fd61db3f6244</td>\n",
              "      <td>cd76a00d8e3ca5e6ab9ed9ecb6667ac4</td>\n",
              "      <td>350688d9dc1e75ff97be326363655e01</td>\n",
              "      <td>bed_bath_table</td>\n",
              "      <td>43.0</td>\n",
              "    </tr>\n",
              "  </tbody>\n",
              "</table>\n",
              "<p>112650 rows × 5 columns</p>\n",
              "</div>"
            ],
            "text/plain": [
              "                                order_id                customer_unique_id  \\\n",
              "0       00010242fe8c5a6d1ba2dd792cb16214  871766c5855e863f6eccc05f988b23cb   \n",
              "1       130898c0987d1801452a8ed92a670612  0fb8e3eab2d3e79d92bb3fffbb97f188   \n",
              "2       532ed5e14e24ae1f0d735b91524b98b9  3419052c8c6b45daf79c1e426f9e9bcb   \n",
              "3       6f8c31653edb8c83e1a739408b5ff750  e7c828d22c0682c1565252deefbe334d   \n",
              "4       7d19f4ef4d04461989632411b7e588b9  0bb98ba72dcc08e95f9d8cc434e9a2cc   \n",
              "...                                  ...                               ...   \n",
              "112645  ffebd80e3291e811c308365936897efd  a1c2e4b4c1b29e41684ebdf3cc6538f8   \n",
              "112646  ffee31fb4b5e35c9123608015637c495  4e15fee963523774998876e3624952f4   \n",
              "112647  fff7c4452f050315db1b3f24d9df5fcd  c86ab5ff2bac777c4e770a383feca4eb   \n",
              "112648  fffa82886406ccf10c7b4e35c4ff2788  2a3ab9bf9639491997586882c502540a   \n",
              "112649  fffe41c64501cc87c801fd61db3f6244  cd76a00d8e3ca5e6ab9ed9ecb6667ac4   \n",
              "\n",
              "                              product_id product_category  price  \n",
              "0       4244733e06e7ecb4970a6e2683c13e61       cool_stuff   58.9  \n",
              "1       4244733e06e7ecb4970a6e2683c13e61       cool_stuff   55.9  \n",
              "2       4244733e06e7ecb4970a6e2683c13e61       cool_stuff   64.9  \n",
              "3       4244733e06e7ecb4970a6e2683c13e61       cool_stuff   58.9  \n",
              "4       4244733e06e7ecb4970a6e2683c13e61       cool_stuff   58.9  \n",
              "...                                  ...              ...    ...  \n",
              "112645  4cc4d02efc8f249c13355147fb44e34d     garden_tools  129.9  \n",
              "112646  b10ecf8e33aaaea419a9fa860ea80fb5  furniture_decor   99.0  \n",
              "112647  dd469c03ad67e201bc2179ef077dcd48    watches_gifts  736.0  \n",
              "112648  bbe7651fef80287a816ead73f065fc4b   sports_leisure  229.9  \n",
              "112649  350688d9dc1e75ff97be326363655e01   bed_bath_table   43.0  \n",
              "\n",
              "[112650 rows x 5 columns]"
            ]
          },
          "execution_count": 219,
          "metadata": {},
          "output_type": "execute_result"
        }
      ],
      "source": [
        "transactions = pd.read_csv(\"C:\\\\Users\\\\LENOVO\\\\Capstone\\\\final-data\\\\transactions_user.csv\")\n",
        "transactions"
      ]
    },
    {
      "cell_type": "code",
      "execution_count": null,
      "id": "4c1f3a34",
      "metadata": {
        "id": "4c1f3a34"
      },
      "outputs": [],
      "source": [
        "list_customer = transactions.customer_unique_id.unique()"
      ]
    },
    {
      "cell_type": "code",
      "execution_count": null,
      "id": "a04c6908",
      "metadata": {
        "id": "a04c6908"
      },
      "outputs": [],
      "source": [
        "def list_product_in_use(transactions):\n",
        "    products = transactions[['product_id','product_category']].drop_duplicates(subset=['product_id'])\n",
        "    products['product_index'] = np.array([i for i in range(len(products))])\n",
        "    return products\n",
        "\n",
        "def list_customer_orders(transactions):\n",
        "    customers = transactions[['customer_unique_id']].drop_duplicates(subset=['customer_unique_id'])\n",
        "    customers['customer_index'] = np.array([i for i in range(len(customers))])\n",
        "    return customers\n",
        "    "
      ]
    },
    {
      "cell_type": "code",
      "execution_count": null,
      "id": "08d4019a",
      "metadata": {
        "id": "08d4019a",
        "outputId": "1b04f1ba-8b74-4308-f2ae-550999441ea0"
      },
      "outputs": [
        {
          "data": {
            "text/html": [
              "<div>\n",
              "<style scoped>\n",
              "    .dataframe tbody tr th:only-of-type {\n",
              "        vertical-align: middle;\n",
              "    }\n",
              "\n",
              "    .dataframe tbody tr th {\n",
              "        vertical-align: top;\n",
              "    }\n",
              "\n",
              "    .dataframe thead th {\n",
              "        text-align: right;\n",
              "    }\n",
              "</style>\n",
              "<table border=\"1\" class=\"dataframe\">\n",
              "  <thead>\n",
              "    <tr style=\"text-align: right;\">\n",
              "      <th></th>\n",
              "      <th>product_id</th>\n",
              "      <th>product_category</th>\n",
              "      <th>product_index</th>\n",
              "    </tr>\n",
              "  </thead>\n",
              "  <tbody>\n",
              "    <tr>\n",
              "      <th>0</th>\n",
              "      <td>4244733e06e7ecb4970a6e2683c13e61</td>\n",
              "      <td>cool_stuff</td>\n",
              "      <td>0</td>\n",
              "    </tr>\n",
              "    <tr>\n",
              "      <th>9</th>\n",
              "      <td>e5f2d52b802189ee658865ca93d83a8f</td>\n",
              "      <td>pet_shop</td>\n",
              "      <td>1</td>\n",
              "    </tr>\n",
              "    <tr>\n",
              "      <th>10</th>\n",
              "      <td>c777355d18b72b67abbeef9df44fd0fd</td>\n",
              "      <td>furniture_decor</td>\n",
              "      <td>2</td>\n",
              "    </tr>\n",
              "    <tr>\n",
              "      <th>13</th>\n",
              "      <td>7634da152a4610f1595efa32f14722fc</td>\n",
              "      <td>perfumery</td>\n",
              "      <td>3</td>\n",
              "    </tr>\n",
              "    <tr>\n",
              "      <th>15</th>\n",
              "      <td>ac6c3623068f30de03045865e4e10089</td>\n",
              "      <td>garden_tools</td>\n",
              "      <td>4</td>\n",
              "    </tr>\n",
              "    <tr>\n",
              "      <th>...</th>\n",
              "      <td>...</td>\n",
              "      <td>...</td>\n",
              "      <td>...</td>\n",
              "    </tr>\n",
              "    <tr>\n",
              "      <th>112645</th>\n",
              "      <td>4cc4d02efc8f249c13355147fb44e34d</td>\n",
              "      <td>garden_tools</td>\n",
              "      <td>32946</td>\n",
              "    </tr>\n",
              "    <tr>\n",
              "      <th>112646</th>\n",
              "      <td>b10ecf8e33aaaea419a9fa860ea80fb5</td>\n",
              "      <td>furniture_decor</td>\n",
              "      <td>32947</td>\n",
              "    </tr>\n",
              "    <tr>\n",
              "      <th>112647</th>\n",
              "      <td>dd469c03ad67e201bc2179ef077dcd48</td>\n",
              "      <td>watches_gifts</td>\n",
              "      <td>32948</td>\n",
              "    </tr>\n",
              "    <tr>\n",
              "      <th>112648</th>\n",
              "      <td>bbe7651fef80287a816ead73f065fc4b</td>\n",
              "      <td>sports_leisure</td>\n",
              "      <td>32949</td>\n",
              "    </tr>\n",
              "    <tr>\n",
              "      <th>112649</th>\n",
              "      <td>350688d9dc1e75ff97be326363655e01</td>\n",
              "      <td>bed_bath_table</td>\n",
              "      <td>32950</td>\n",
              "    </tr>\n",
              "  </tbody>\n",
              "</table>\n",
              "<p>32951 rows × 3 columns</p>\n",
              "</div>"
            ],
            "text/plain": [
              "                              product_id product_category  product_index\n",
              "0       4244733e06e7ecb4970a6e2683c13e61       cool_stuff              0\n",
              "9       e5f2d52b802189ee658865ca93d83a8f         pet_shop              1\n",
              "10      c777355d18b72b67abbeef9df44fd0fd  furniture_decor              2\n",
              "13      7634da152a4610f1595efa32f14722fc        perfumery              3\n",
              "15      ac6c3623068f30de03045865e4e10089     garden_tools              4\n",
              "...                                  ...              ...            ...\n",
              "112645  4cc4d02efc8f249c13355147fb44e34d     garden_tools          32946\n",
              "112646  b10ecf8e33aaaea419a9fa860ea80fb5  furniture_decor          32947\n",
              "112647  dd469c03ad67e201bc2179ef077dcd48    watches_gifts          32948\n",
              "112648  bbe7651fef80287a816ead73f065fc4b   sports_leisure          32949\n",
              "112649  350688d9dc1e75ff97be326363655e01   bed_bath_table          32950\n",
              "\n",
              "[32951 rows x 3 columns]"
            ]
          },
          "execution_count": 506,
          "metadata": {},
          "output_type": "execute_result"
        }
      ],
      "source": [
        "list_product_in_use = list_product_in_use(transactions)\n",
        "list_product_in_use"
      ]
    },
    {
      "cell_type": "code",
      "execution_count": null,
      "id": "88ccc636",
      "metadata": {
        "id": "88ccc636",
        "outputId": "166517b8-e4ff-474a-c2ec-d7884c60df46"
      },
      "outputs": [
        {
          "data": {
            "text/html": [
              "<div>\n",
              "<style scoped>\n",
              "    .dataframe tbody tr th:only-of-type {\n",
              "        vertical-align: middle;\n",
              "    }\n",
              "\n",
              "    .dataframe tbody tr th {\n",
              "        vertical-align: top;\n",
              "    }\n",
              "\n",
              "    .dataframe thead th {\n",
              "        text-align: right;\n",
              "    }\n",
              "</style>\n",
              "<table border=\"1\" class=\"dataframe\">\n",
              "  <thead>\n",
              "    <tr style=\"text-align: right;\">\n",
              "      <th></th>\n",
              "      <th>customer_unique_id</th>\n",
              "      <th>customer_index</th>\n",
              "    </tr>\n",
              "  </thead>\n",
              "  <tbody>\n",
              "    <tr>\n",
              "      <th>0</th>\n",
              "      <td>871766c5855e863f6eccc05f988b23cb</td>\n",
              "      <td>0</td>\n",
              "    </tr>\n",
              "    <tr>\n",
              "      <th>1</th>\n",
              "      <td>0fb8e3eab2d3e79d92bb3fffbb97f188</td>\n",
              "      <td>1</td>\n",
              "    </tr>\n",
              "    <tr>\n",
              "      <th>2</th>\n",
              "      <td>3419052c8c6b45daf79c1e426f9e9bcb</td>\n",
              "      <td>2</td>\n",
              "    </tr>\n",
              "    <tr>\n",
              "      <th>3</th>\n",
              "      <td>e7c828d22c0682c1565252deefbe334d</td>\n",
              "      <td>3</td>\n",
              "    </tr>\n",
              "    <tr>\n",
              "      <th>4</th>\n",
              "      <td>0bb98ba72dcc08e95f9d8cc434e9a2cc</td>\n",
              "      <td>4</td>\n",
              "    </tr>\n",
              "    <tr>\n",
              "      <th>...</th>\n",
              "      <td>...</td>\n",
              "      <td>...</td>\n",
              "    </tr>\n",
              "    <tr>\n",
              "      <th>112644</th>\n",
              "      <td>ffe3e199b9d0b7fb7d2d29a5b9498447</td>\n",
              "      <td>95415</td>\n",
              "    </tr>\n",
              "    <tr>\n",
              "      <th>112645</th>\n",
              "      <td>a1c2e4b4c1b29e41684ebdf3cc6538f8</td>\n",
              "      <td>95416</td>\n",
              "    </tr>\n",
              "    <tr>\n",
              "      <th>112647</th>\n",
              "      <td>c86ab5ff2bac777c4e770a383feca4eb</td>\n",
              "      <td>95417</td>\n",
              "    </tr>\n",
              "    <tr>\n",
              "      <th>112648</th>\n",
              "      <td>2a3ab9bf9639491997586882c502540a</td>\n",
              "      <td>95418</td>\n",
              "    </tr>\n",
              "    <tr>\n",
              "      <th>112649</th>\n",
              "      <td>cd76a00d8e3ca5e6ab9ed9ecb6667ac4</td>\n",
              "      <td>95419</td>\n",
              "    </tr>\n",
              "  </tbody>\n",
              "</table>\n",
              "<p>95420 rows × 2 columns</p>\n",
              "</div>"
            ],
            "text/plain": [
              "                      customer_unique_id  customer_index\n",
              "0       871766c5855e863f6eccc05f988b23cb               0\n",
              "1       0fb8e3eab2d3e79d92bb3fffbb97f188               1\n",
              "2       3419052c8c6b45daf79c1e426f9e9bcb               2\n",
              "3       e7c828d22c0682c1565252deefbe334d               3\n",
              "4       0bb98ba72dcc08e95f9d8cc434e9a2cc               4\n",
              "...                                  ...             ...\n",
              "112644  ffe3e199b9d0b7fb7d2d29a5b9498447           95415\n",
              "112645  a1c2e4b4c1b29e41684ebdf3cc6538f8           95416\n",
              "112647  c86ab5ff2bac777c4e770a383feca4eb           95417\n",
              "112648  2a3ab9bf9639491997586882c502540a           95418\n",
              "112649  cd76a00d8e3ca5e6ab9ed9ecb6667ac4           95419\n",
              "\n",
              "[95420 rows x 2 columns]"
            ]
          },
          "execution_count": 507,
          "metadata": {},
          "output_type": "execute_result"
        }
      ],
      "source": [
        "list_customer_orders = list_customer_orders(transactions)\n",
        "list_customer_orders"
      ]
    },
    {
      "cell_type": "code",
      "execution_count": null,
      "id": "ae723290",
      "metadata": {
        "id": "ae723290"
      },
      "outputs": [],
      "source": [
        "def get_customer_index(customer_id):\n",
        "    return list_customer_orders[list_customer_orders.customer_unique_id == customer_id].customer_index.values[0]\n",
        "\n",
        "def get_customer_id(customer_idx):\n",
        "    return customers_in_order[customers_in_order.customer_index == customer_idx].customer_unique_id.values[0]\n",
        "\n",
        "def get_transaction_by_customer(customer_id):\n",
        "    return transactions[transactions.customer_unique_id == customer_id].product_id.values\n",
        "\n",
        "def get_product_index_by_product_id(product_id):\n",
        "    return list_product_in_use[list_product_in_use.product_id == product_id].product_index.values[0]\n",
        "\n",
        "def get_product_category_by_product_index(product_idx):\n",
        "    return list_product_in_use[list_product_in_use.product_index == product_idx].product_category.values[0]\n",
        "\n",
        "def get_product_id_by_product_index(product_idx):\n",
        "    return list_product_in_use[list_product_in_use.product_index == product_idx].product_id.values[0]\n",
        "\n",
        "def set_product_index_input(product_not_purchased):\n",
        "    return pd.DataFrame(product_not_purchased,columns=['filtered_input']).reset_index()"
      ]
    },
    {
      "cell_type": "code",
      "execution_count": null,
      "id": "eaba7907",
      "metadata": {
        "id": "eaba7907",
        "outputId": "e1c50766-93a0-41be-d80d-1f34e4324660"
      },
      "outputs": [
        {
          "data": {
            "text/plain": [
              "95416"
            ]
          },
          "execution_count": 509,
          "metadata": {},
          "output_type": "execute_result"
        }
      ],
      "source": [
        "get_customer_index('a1c2e4b4c1b29e41684ebdf3cc6538f8')"
      ]
    },
    {
      "cell_type": "code",
      "execution_count": null,
      "id": "99774bca",
      "metadata": {
        "scrolled": true,
        "id": "99774bca",
        "outputId": "c46fd16b-b9b9-4e86-9d6e-35660062f963"
      },
      "outputs": [
        {
          "data": {
            "text/plain": [
              "array(['4244733e06e7ecb4970a6e2683c13e61'], dtype=object)"
            ]
          },
          "execution_count": 510,
          "metadata": {},
          "output_type": "execute_result"
        }
      ],
      "source": [
        "get_transaction_by_customer('3419052c8c6b45daf79c1e426f9e9bcb')"
      ]
    },
    {
      "cell_type": "code",
      "execution_count": null,
      "id": "f1d39e82",
      "metadata": {
        "id": "f1d39e82"
      },
      "outputs": [],
      "source": [
        "def get_voucher_from_user(customer_id, product_category):\n",
        "    product_customer_purchased = get_transaction_by_customer(customer_id)\n",
        "    \n",
        "    index_product_already_purchased = []\n",
        "    for i in range(len(product_customer_purchased)):\n",
        "        index_product_already_purchased.append(get_product_index_by_product_id(product_customer_purchased[i]))\n",
        "    \n",
        "    filtered_product_in_use = product_in_use[product_in_use.product_category == product_category]\n",
        "    \n",
        "    product_not_purchased = np.array(list(set(filtered_product_in_use[~filtered_product_in_use.product_index.isin(index_product_already_purchased)].product_index.values)))\n",
        "    \n",
        "    index_user = get_customer_index(customer_id)\n",
        "    user = np.array([index_user for i in range(len(product_not_purchased))])\n",
        "    \n",
        "    predictions = model.predict([user,product_not_purchased], verbose=0)\n",
        "    predictions = np.array([a[0] for a in predictions])\n",
        "    \n",
        "    voucher_generate = (-predictions).argsort()\n",
        "    voucher_generate = pd.DataFrame(voucher_generate, columns=['product_index'])\n",
        "    \n",
        "    voucher_generate_category = []\n",
        "    for idx in voucher_generate.product_index:\n",
        "        voucher_generate_category.append(get_product_category_by_product_index(idx))\n",
        "    voucher_generate['product_category'] = voucher_generate_category\n",
        "    \n",
        "    voucher_generate = voucher_generate[voucher_generate.product_category == product_category].product_index.values\n",
        "    voucher_generate = voucher_generate[:5]\n",
        "    \n",
        "    user_voucher = [get_product_id_by_product_index(product) for product in voucher_generate]\n",
        "    user_voucher\n",
        "    \n",
        "    return user_voucher\n",
        "    "
      ]
    },
    {
      "cell_type": "code",
      "execution_count": null,
      "id": "0a0f07f0",
      "metadata": {
        "id": "0a0f07f0"
      },
      "outputs": [],
      "source": [
        "product_customer_purchased = get_transaction_by_customer('3419052c8c6b45daf79c1e426f9e9bcb')"
      ]
    },
    {
      "cell_type": "code",
      "execution_count": null,
      "id": "e7633a03",
      "metadata": {
        "id": "e7633a03"
      },
      "outputs": [],
      "source": [
        "index_product_already_purchased = []\n",
        "for i in range(len(product_customer_purchased)):\n",
        "    index_product_already_purchased.append(get_product_index_by_product_id(product_customer_purchased[i]))"
      ]
    },
    {
      "cell_type": "code",
      "execution_count": null,
      "id": "d1404991",
      "metadata": {
        "id": "d1404991",
        "outputId": "7cf2f66e-5746-4507-83d7-21f69862c327"
      },
      "outputs": [
        {
          "data": {
            "text/plain": [
              "[0]"
            ]
          },
          "execution_count": 514,
          "metadata": {},
          "output_type": "execute_result"
        }
      ],
      "source": [
        "index_product_already_purchased"
      ]
    },
    {
      "cell_type": "code",
      "execution_count": null,
      "id": "f01a4cd0",
      "metadata": {
        "id": "f01a4cd0"
      },
      "outputs": [],
      "source": [
        "filtered_product_in_use_category = list_product_in_use[list_product_in_use.product_category == 'cool_stuff']"
      ]
    },
    {
      "cell_type": "code",
      "execution_count": null,
      "id": "5a8ed978",
      "metadata": {
        "id": "5a8ed978",
        "outputId": "2dbdc8a0-503b-4cc6-d3c9-a7f15b339d94"
      },
      "outputs": [
        {
          "data": {
            "text/html": [
              "<div>\n",
              "<style scoped>\n",
              "    .dataframe tbody tr th:only-of-type {\n",
              "        vertical-align: middle;\n",
              "    }\n",
              "\n",
              "    .dataframe tbody tr th {\n",
              "        vertical-align: top;\n",
              "    }\n",
              "\n",
              "    .dataframe thead th {\n",
              "        text-align: right;\n",
              "    }\n",
              "</style>\n",
              "<table border=\"1\" class=\"dataframe\">\n",
              "  <thead>\n",
              "    <tr style=\"text-align: right;\">\n",
              "      <th></th>\n",
              "      <th>product_id</th>\n",
              "      <th>product_category</th>\n",
              "      <th>product_index</th>\n",
              "    </tr>\n",
              "  </thead>\n",
              "  <tbody>\n",
              "    <tr>\n",
              "      <th>0</th>\n",
              "      <td>4244733e06e7ecb4970a6e2683c13e61</td>\n",
              "      <td>cool_stuff</td>\n",
              "      <td>0</td>\n",
              "    </tr>\n",
              "    <tr>\n",
              "      <th>1003</th>\n",
              "      <td>5ed9eaf534f6936b51d0b6c5e4d5c2e9</td>\n",
              "      <td>cool_stuff</td>\n",
              "      <td>18</td>\n",
              "    </tr>\n",
              "    <tr>\n",
              "      <th>1121</th>\n",
              "      <td>5a419dbf24a8c9718fe522b81c69f61a</td>\n",
              "      <td>cool_stuff</td>\n",
              "      <td>23</td>\n",
              "    </tr>\n",
              "    <tr>\n",
              "      <th>1420</th>\n",
              "      <td>c6dd917a0be2a704582055949915ab32</td>\n",
              "      <td>cool_stuff</td>\n",
              "      <td>37</td>\n",
              "    </tr>\n",
              "    <tr>\n",
              "      <th>2081</th>\n",
              "      <td>892832da5b05b0f54578e1f14f193c22</td>\n",
              "      <td>cool_stuff</td>\n",
              "      <td>57</td>\n",
              "    </tr>\n",
              "    <tr>\n",
              "      <th>...</th>\n",
              "      <td>...</td>\n",
              "      <td>...</td>\n",
              "      <td>...</td>\n",
              "    </tr>\n",
              "    <tr>\n",
              "      <th>112544</th>\n",
              "      <td>4a9bd3957391943f2cf8a75a915c4b8a</td>\n",
              "      <td>cool_stuff</td>\n",
              "      <td>32858</td>\n",
              "    </tr>\n",
              "    <tr>\n",
              "      <th>112580</th>\n",
              "      <td>c77abc8a8f4b7b1aa8a9bcdb48fdcf3a</td>\n",
              "      <td>cool_stuff</td>\n",
              "      <td>32888</td>\n",
              "    </tr>\n",
              "    <tr>\n",
              "      <th>112589</th>\n",
              "      <td>20ece3dbcbffb5f6589a6f0cebb485fc</td>\n",
              "      <td>cool_stuff</td>\n",
              "      <td>32895</td>\n",
              "    </tr>\n",
              "    <tr>\n",
              "      <th>112592</th>\n",
              "      <td>69bfbc73c85e0c111060d84260d5fd64</td>\n",
              "      <td>cool_stuff</td>\n",
              "      <td>32898</td>\n",
              "    </tr>\n",
              "    <tr>\n",
              "      <th>112616</th>\n",
              "      <td>67837a6bc3074b80f6fe8efc4740d37e</td>\n",
              "      <td>cool_stuff</td>\n",
              "      <td>32921</td>\n",
              "    </tr>\n",
              "  </tbody>\n",
              "</table>\n",
              "<p>789 rows × 3 columns</p>\n",
              "</div>"
            ],
            "text/plain": [
              "                              product_id product_category  product_index\n",
              "0       4244733e06e7ecb4970a6e2683c13e61       cool_stuff              0\n",
              "1003    5ed9eaf534f6936b51d0b6c5e4d5c2e9       cool_stuff             18\n",
              "1121    5a419dbf24a8c9718fe522b81c69f61a       cool_stuff             23\n",
              "1420    c6dd917a0be2a704582055949915ab32       cool_stuff             37\n",
              "2081    892832da5b05b0f54578e1f14f193c22       cool_stuff             57\n",
              "...                                  ...              ...            ...\n",
              "112544  4a9bd3957391943f2cf8a75a915c4b8a       cool_stuff          32858\n",
              "112580  c77abc8a8f4b7b1aa8a9bcdb48fdcf3a       cool_stuff          32888\n",
              "112589  20ece3dbcbffb5f6589a6f0cebb485fc       cool_stuff          32895\n",
              "112592  69bfbc73c85e0c111060d84260d5fd64       cool_stuff          32898\n",
              "112616  67837a6bc3074b80f6fe8efc4740d37e       cool_stuff          32921\n",
              "\n",
              "[789 rows x 3 columns]"
            ]
          },
          "execution_count": 516,
          "metadata": {},
          "output_type": "execute_result"
        }
      ],
      "source": [
        "filtered_product_in_use_category"
      ]
    },
    {
      "cell_type": "code",
      "execution_count": null,
      "id": "4da90df3",
      "metadata": {
        "id": "4da90df3"
      },
      "outputs": [],
      "source": [
        "product_not_purchased = np.array(list(set(filtered_product_in_use_category[~filtered_product_in_use_category.product_index.isin(index_product_already_purchased)].product_index.values)))"
      ]
    },
    {
      "cell_type": "code",
      "execution_count": null,
      "id": "7cbbfb94",
      "metadata": {
        "scrolled": true,
        "id": "7cbbfb94"
      },
      "outputs": [],
      "source": [
        "input_product_index = set_product_index_input(product_not_purchased)"
      ]
    },
    {
      "cell_type": "code",
      "execution_count": null,
      "id": "6caeed51",
      "metadata": {
        "id": "6caeed51",
        "outputId": "1b6523b0-650d-403a-96a9-16880322e9d3"
      },
      "outputs": [
        {
          "data": {
            "text/html": [
              "<div>\n",
              "<style scoped>\n",
              "    .dataframe tbody tr th:only-of-type {\n",
              "        vertical-align: middle;\n",
              "    }\n",
              "\n",
              "    .dataframe tbody tr th {\n",
              "        vertical-align: top;\n",
              "    }\n",
              "\n",
              "    .dataframe thead th {\n",
              "        text-align: right;\n",
              "    }\n",
              "</style>\n",
              "<table border=\"1\" class=\"dataframe\">\n",
              "  <thead>\n",
              "    <tr style=\"text-align: right;\">\n",
              "      <th></th>\n",
              "      <th>index</th>\n",
              "      <th>filtered_input</th>\n",
              "    </tr>\n",
              "  </thead>\n",
              "  <tbody>\n",
              "    <tr>\n",
              "      <th>0</th>\n",
              "      <td>0</td>\n",
              "      <td>8192</td>\n",
              "    </tr>\n",
              "    <tr>\n",
              "      <th>1</th>\n",
              "      <td>1</td>\n",
              "      <td>8193</td>\n",
              "    </tr>\n",
              "    <tr>\n",
              "      <th>2</th>\n",
              "      <td>2</td>\n",
              "      <td>24577</td>\n",
              "    </tr>\n",
              "    <tr>\n",
              "      <th>3</th>\n",
              "      <td>3</td>\n",
              "      <td>4099</td>\n",
              "    </tr>\n",
              "    <tr>\n",
              "      <th>4</th>\n",
              "      <td>4</td>\n",
              "      <td>12294</td>\n",
              "    </tr>\n",
              "    <tr>\n",
              "      <th>...</th>\n",
              "      <td>...</td>\n",
              "      <td>...</td>\n",
              "    </tr>\n",
              "    <tr>\n",
              "      <th>783</th>\n",
              "      <td>783</td>\n",
              "      <td>6113</td>\n",
              "    </tr>\n",
              "    <tr>\n",
              "      <th>784</th>\n",
              "      <td>784</td>\n",
              "      <td>8162</td>\n",
              "    </tr>\n",
              "    <tr>\n",
              "      <th>785</th>\n",
              "      <td>785</td>\n",
              "      <td>16355</td>\n",
              "    </tr>\n",
              "    <tr>\n",
              "      <th>786</th>\n",
              "      <td>786</td>\n",
              "      <td>2029</td>\n",
              "    </tr>\n",
              "    <tr>\n",
              "      <th>787</th>\n",
              "      <td>787</td>\n",
              "      <td>20467</td>\n",
              "    </tr>\n",
              "  </tbody>\n",
              "</table>\n",
              "<p>788 rows × 2 columns</p>\n",
              "</div>"
            ],
            "text/plain": [
              "     index  filtered_input\n",
              "0        0            8192\n",
              "1        1            8193\n",
              "2        2           24577\n",
              "3        3            4099\n",
              "4        4           12294\n",
              "..     ...             ...\n",
              "783    783            6113\n",
              "784    784            8162\n",
              "785    785           16355\n",
              "786    786            2029\n",
              "787    787           20467\n",
              "\n",
              "[788 rows x 2 columns]"
            ]
          },
          "execution_count": 519,
          "metadata": {},
          "output_type": "execute_result"
        }
      ],
      "source": [
        "input_product_index"
      ]
    },
    {
      "cell_type": "code",
      "execution_count": null,
      "id": "565494e1",
      "metadata": {
        "id": "565494e1"
      },
      "outputs": [],
      "source": [
        "index_user = get_customer_index('3419052c8c6b45daf79c1e426f9e9bcb')\n",
        "user = np.array([index_user for i in range(len(product_not_purchased))])"
      ]
    },
    {
      "cell_type": "code",
      "execution_count": null,
      "id": "76cf35a3",
      "metadata": {
        "id": "76cf35a3"
      },
      "outputs": [],
      "source": [
        "predictions = model.predict([user,product_not_purchased], verbose=0)\n",
        "predictions = np.array([a[0] for a in predictions])"
      ]
    },
    {
      "cell_type": "code",
      "execution_count": null,
      "id": "e4bd3c98",
      "metadata": {
        "id": "e4bd3c98"
      },
      "outputs": [],
      "source": [
        "voucher_generate = (-predictions).argsort()"
      ]
    },
    {
      "cell_type": "code",
      "execution_count": null,
      "id": "eed6efff",
      "metadata": {
        "id": "eed6efff"
      },
      "outputs": [],
      "source": [
        "voucher_generate = pd.DataFrame(voucher_generate, columns=['product_index'])"
      ]
    },
    {
      "cell_type": "code",
      "execution_count": null,
      "id": "a9acda3d",
      "metadata": {
        "id": "a9acda3d",
        "outputId": "72947de1-ed9b-4fe8-9122-ed6764c0041c"
      },
      "outputs": [
        {
          "data": {
            "text/plain": [
              "array([ 598, 2329,  529])"
            ]
          },
          "execution_count": 524,
          "metadata": {},
          "output_type": "execute_result"
        }
      ],
      "source": [
        "voucher_generate = voucher_generate.merge(input_product_index, left_on='product_index', right_on='index')['filtered_input'].head(3).values\n",
        "voucher_generate"
      ]
    },
    {
      "cell_type": "code",
      "execution_count": null,
      "id": "9181323e",
      "metadata": {
        "id": "9181323e",
        "outputId": "e6d009c1-8e79-4d46-ba87-be66a264ce42"
      },
      "outputs": [
        {
          "data": {
            "text/plain": [
              "['8c4456c061013adccb1ba4cbce2d0365',\n",
              " 'c1eee16d856657ad280936810ef3d080',\n",
              " '429de6049b45a9fcb96aff1603f55d3c']"
            ]
          },
          "execution_count": 525,
          "metadata": {},
          "output_type": "execute_result"
        }
      ],
      "source": [
        "user_voucher = [get_product_id_by_product_index(product) for product in voucher_generate]\n",
        "user_voucher"
      ]
    },
    {
      "cell_type": "code",
      "execution_count": null,
      "id": "41336c0f",
      "metadata": {
        "id": "41336c0f"
      },
      "outputs": [],
      "source": [
        "def generate_voucher_for_user(customer_id, product_category):\n",
        "    product_customer_purchased = get_transaction_by_customer(customer_id)\n",
        "    index_product_already_purchased = []\n",
        "    for i in range(len(product_customer_purchased)):\n",
        "        index_product_already_purchased.append(get_product_index_by_product_id(product_customer_purchased[i]))\n",
        "    filtered_product_in_use_category = list_product_in_use[list_product_in_use.product_category == product_category]\n",
        "    product_not_purchased = np.array(list(set(filtered_product_in_use_category[~filtered_product_in_use_category.product_index.isin(index_product_already_purchased)].product_index.values)))\n",
        "    input_product_index = set_product_index_input(product_not_purchased)\n",
        "    index_user = get_customer_index(customer_id)\n",
        "    user = np.array([index_user for i in range(len(product_not_purchased))])\n",
        "    \n",
        "    \n",
        "    predictions = model.predict([user,product_not_purchased], verbose=0)\n",
        "    predictions = np.array([a[0] for a in predictions])\n",
        "    \n",
        "    voucher_generate = (-predictions).argsort()\n",
        "    voucher_generate = pd.DataFrame(voucher_generate, columns=['product_index'])\n",
        "    voucher_generate = voucher_generate.merge(input_product_index, left_on='product_index', right_on='index')['filtered_input'].head(3).values\n",
        "\n",
        "    user_voucher = [get_product_id_by_product_index(product) for product in voucher_generate]\n",
        "    return user_voucher"
      ]
    },
    {
      "cell_type": "code",
      "execution_count": null,
      "id": "d558640c",
      "metadata": {
        "id": "d558640c",
        "outputId": "579ec4d3-60af-46d6-c0f6-a8beb994cf86"
      },
      "outputs": [
        {
          "data": {
            "text/plain": [
              "['f471a2281d25a1dbf3193dd5e969aa0f',\n",
              " 'e5f2d52b802189ee658865ca93d83a8f',\n",
              " '217cb0f28c6def3c3be057a952d78189']"
            ]
          },
          "execution_count": 527,
          "metadata": {},
          "output_type": "execute_result"
        }
      ],
      "source": [
        "generate_voucher_for_user('3419052c8c6b45daf79c1e426f9e9bcb','pet_shop')"
      ]
    },
    {
      "cell_type": "markdown",
      "id": "b92c4285",
      "metadata": {
        "id": "b92c4285"
      },
      "source": [
        "## Find Customers by transaction, the most customer transaction in rank will get voucher first "
      ]
    },
    {
      "cell_type": "code",
      "execution_count": null,
      "id": "cf70d492",
      "metadata": {
        "id": "cf70d492"
      },
      "outputs": [],
      "source": [
        "def get_list_loyal_customers(transactions):\n",
        "    return pd.DataFrame(transactions.customer_unique_id.value_counts()).reset_index().rename({'index':'customer_unique_id', 'customer_unique_id':'count_transaction'}, axis=1).customer_unique_id.values"
      ]
    },
    {
      "cell_type": "code",
      "execution_count": null,
      "id": "bec689c1",
      "metadata": {
        "id": "bec689c1",
        "outputId": "dfeea457-a53b-418f-ee23-6a4720ff6322"
      },
      "outputs": [
        {
          "data": {
            "text/plain": [
              "array(['4546caea018ad8c692964e3382debd19',\n",
              "       'c402f431464c72e27330a67f7b94d4fb'], dtype=object)"
            ]
          },
          "execution_count": 531,
          "metadata": {},
          "output_type": "execute_result"
        }
      ],
      "source": [
        "get_list_loyal_customers(transactions)[1:3]"
      ]
    },
    {
      "cell_type": "code",
      "execution_count": null,
      "id": "4eacbefc",
      "metadata": {
        "id": "4eacbefc",
        "outputId": "4b67e911-cdf0-433c-e2f8-5156394bdf0a"
      },
      "outputs": [
        {
          "data": {
            "text/plain": [
              "array(['c8460e4251689ba205045f3ea17884a1',\n",
              "       '4546caea018ad8c692964e3382debd19',\n",
              "       'c402f431464c72e27330a67f7b94d4fb', ...,\n",
              "       '5fe7677db087a1f3a4078a4fa15c7a56',\n",
              "       '5b788595ca5779d3a7c1e86834fe2e07',\n",
              "       '819c65629034acc8a0e1c096c2c6715d'], dtype=object)"
            ]
          },
          "execution_count": 532,
          "metadata": {},
          "output_type": "execute_result"
        }
      ],
      "source": [
        "budget = 100000000\n",
        "list_customers_will_get_voucher =  get_list_loyal_customers(transactions)[0:round(budget/60000)]\n",
        "list_customers_will_get_voucher"
      ]
    },
    {
      "cell_type": "code",
      "execution_count": null,
      "id": "46c98021",
      "metadata": {
        "id": "46c98021"
      },
      "outputs": [],
      "source": [
        "import time"
      ]
    },
    {
      "cell_type": "code",
      "execution_count": null,
      "id": "0785ce1c",
      "metadata": {
        "id": "0785ce1c",
        "outputId": "399df810-8320-4650-f408-d848ec6f1490"
      },
      "outputs": [
        {
          "name": "stdout",
          "output_type": "stream",
          "text": [
            "4.5766997814178465 minutes\n"
          ]
        }
      ],
      "source": [
        "start = time.time()\n",
        "result = []\n",
        "for customers in list_customers_will_get_voucher:\n",
        "    list_voucher = generate_voucher_for_user(customers, 'sports_leisure')\n",
        "    mydict ={}\n",
        "    mydict[\"id\"] = customers\n",
        "    mydict['voucher'] = list_voucher\n",
        "    result.append(mydict)\n",
        "end = time.time()\n",
        "print((end - start)/60, 'minutes')"
      ]
    },
    {
      "cell_type": "code",
      "execution_count": null,
      "id": "8c9a36b4",
      "metadata": {
        "id": "8c9a36b4"
      },
      "outputs": [],
      "source": [
        "# print(mydict)\n",
        "voucher_list = pd.DataFrame(result)\n",
        "voucher_list.to_excel('./voucher_generated-sports_leisure_4.xlsx')"
      ]
    },
    {
      "cell_type": "code",
      "execution_count": null,
      "id": "fd14cedc",
      "metadata": {
        "id": "fd14cedc"
      },
      "outputs": [],
      "source": [
        "\n",
        "list_voucher = generate_voucher_for_user('c8460e4251689ba205045f3ea17884a1','telephony')\n",
        "user = np.array([customers for i in range(len(list_voucher))])"
      ]
    },
    {
      "cell_type": "code",
      "execution_count": null,
      "id": "75255116",
      "metadata": {
        "id": "75255116"
      },
      "outputs": [],
      "source": [
        "mydict[\"id\"] = 'c8460e4251689ba205045f3ea17884a1'\n",
        "mydict['voucher'] = list_voucher"
      ]
    },
    {
      "cell_type": "code",
      "execution_count": null,
      "id": "751b8098",
      "metadata": {
        "id": "751b8098",
        "outputId": "ce564616-6a7b-4499-85ae-6ccf249eff13"
      },
      "outputs": [
        {
          "data": {
            "text/plain": [
              "'telephony'"
            ]
          },
          "execution_count": 132,
          "metadata": {},
          "output_type": "execute_result"
        }
      ],
      "source": [
        "get_product_index_by_product_id('e7cc48a9daff5436f63d3aad9426f28b')\n",
        "get_product_category_by_product_index(260)"
      ]
    },
    {
      "cell_type": "code",
      "execution_count": null,
      "id": "0ae183fe",
      "metadata": {
        "id": "0ae183fe",
        "outputId": "790d4179-d2f0-4f5f-99dd-6a19fd4d80a7"
      },
      "outputs": [
        {
          "data": {
            "text/plain": [
              "array(['270516a3f41dc035aa87d220228f844c',\n",
              "       '270516a3f41dc035aa87d220228f844c',\n",
              "       '270516a3f41dc035aa87d220228f844c',\n",
              "       '270516a3f41dc035aa87d220228f844c',\n",
              "       '270516a3f41dc035aa87d220228f844c',\n",
              "       '270516a3f41dc035aa87d220228f844c',\n",
              "       '270516a3f41dc035aa87d220228f844c',\n",
              "       '270516a3f41dc035aa87d220228f844c',\n",
              "       '270516a3f41dc035aa87d220228f844c',\n",
              "       '270516a3f41dc035aa87d220228f844c',\n",
              "       '05b515fdc76e888aada3c6d66c201dff',\n",
              "       '05b515fdc76e888aada3c6d66c201dff',\n",
              "       '05b515fdc76e888aada3c6d66c201dff',\n",
              "       '05b515fdc76e888aada3c6d66c201dff',\n",
              "       '05b515fdc76e888aada3c6d66c201dff',\n",
              "       '05b515fdc76e888aada3c6d66c201dff',\n",
              "       '05b515fdc76e888aada3c6d66c201dff',\n",
              "       '05b515fdc76e888aada3c6d66c201dff',\n",
              "       '05b515fdc76e888aada3c6d66c201dff',\n",
              "       '05b515fdc76e888aada3c6d66c201dff',\n",
              "       '79ce45dbc2ea29b22b5a261bbb7b7ee7'], dtype=object)"
            ]
          },
          "execution_count": 198,
          "metadata": {},
          "output_type": "execute_result"
        }
      ],
      "source": [
        "get_transaction_by_customer('4546caea018ad8c692964e3382debd19')"
      ]
    },
    {
      "cell_type": "code",
      "execution_count": null,
      "id": "e820ab4a",
      "metadata": {
        "id": "e820ab4a",
        "outputId": "758f5f84-915e-4eb5-b7e8-5c65c8e3fab9"
      },
      "outputs": [
        {
          "data": {
            "text/plain": [
              "['19c91ef95d509ea33eda93495c4d3481',\n",
              " '437c05a395e9e47f9762e677a7068ce7',\n",
              " 'a3bd84c2a6d25ea7bc0e55c64d0760ae']"
            ]
          },
          "execution_count": 161,
          "metadata": {},
          "output_type": "execute_result"
        }
      ],
      "source": [
        "generate_voucher_for_user('4546caea018ad8c692964e3382debd19', 'health_beauty')"
      ]
    },
    {
      "cell_type": "code",
      "execution_count": null,
      "id": "d4e4b59e",
      "metadata": {
        "id": "d4e4b59e",
        "outputId": "4efeb8cf-5541-45af-f6ed-7389c46d213b"
      },
      "outputs": [
        {
          "data": {
            "text/plain": [
              "array(['ee3d532c8a438679776d222e997606b3',\n",
              "       'ee3d532c8a438679776d222e997606b3',\n",
              "       'ee3d532c8a438679776d222e997606b3',\n",
              "       'ee3d532c8a438679776d222e997606b3',\n",
              "       'ee3d532c8a438679776d222e997606b3',\n",
              "       'ee3d532c8a438679776d222e997606b3',\n",
              "       'ee3d532c8a438679776d222e997606b3',\n",
              "       'ee3d532c8a438679776d222e997606b3',\n",
              "       'ee3d532c8a438679776d222e997606b3',\n",
              "       'ee3d532c8a438679776d222e997606b3',\n",
              "       'ee3d532c8a438679776d222e997606b3',\n",
              "       'ee3d532c8a438679776d222e997606b3',\n",
              "       'ee3d532c8a438679776d222e997606b3',\n",
              "       'ee3d532c8a438679776d222e997606b3',\n",
              "       'ee3d532c8a438679776d222e997606b3',\n",
              "       'ee3d532c8a438679776d222e997606b3',\n",
              "       'ee3d532c8a438679776d222e997606b3',\n",
              "       'ee3d532c8a438679776d222e997606b3',\n",
              "       'ee3d532c8a438679776d222e997606b3',\n",
              "       'ee3d532c8a438679776d222e997606b3'], dtype=object)"
            ]
          },
          "execution_count": 164,
          "metadata": {},
          "output_type": "execute_result"
        }
      ],
      "source": [
        "get_transaction_by_customer('c402f431464c72e27330a67f7b94d4fb')"
      ]
    },
    {
      "cell_type": "code",
      "execution_count": null,
      "id": "85501a5e",
      "metadata": {
        "id": "85501a5e",
        "outputId": "db507744-383d-43b7-a2f6-8c33c8739f92"
      },
      "outputs": [
        {
          "data": {
            "text/plain": [
              "'computers_accessories'"
            ]
          },
          "execution_count": 167,
          "metadata": {},
          "output_type": "execute_result"
        }
      ],
      "source": [
        "get_product_index_by_product_id('ee3d532c8a438679776d222e997606b3')\n",
        "get_product_category_by_product_index(2416)"
      ]
    },
    {
      "cell_type": "code",
      "execution_count": null,
      "id": "9f932e28",
      "metadata": {
        "id": "9f932e28",
        "outputId": "e7bc1e21-557a-4fcb-bcbb-f162dc4f3868"
      },
      "outputs": [
        {
          "data": {
            "text/plain": [
              "['437c05a395e9e47f9762e677a7068ce7',\n",
              " 'a3bd84c2a6d25ea7bc0e55c64d0760ae',\n",
              " '7614c62b86a81021243e438cfde78ccc']"
            ]
          },
          "execution_count": 184,
          "metadata": {},
          "output_type": "execute_result"
        }
      ],
      "source": [
        "generate_voucher_for_user('ec7d40c66edb9281d1d9d58d6a974fac', 'health_beauty')"
      ]
    },
    {
      "cell_type": "code",
      "execution_count": null,
      "id": "2bdd7932",
      "metadata": {
        "id": "2bdd7932",
        "outputId": "79390e2d-88fb-4eaf-9e13-6c428381bbd0"
      },
      "outputs": [
        {
          "data": {
            "text/html": [
              "<div>\n",
              "<style scoped>\n",
              "    .dataframe tbody tr th:only-of-type {\n",
              "        vertical-align: middle;\n",
              "    }\n",
              "\n",
              "    .dataframe tbody tr th {\n",
              "        vertical-align: top;\n",
              "    }\n",
              "\n",
              "    .dataframe thead th {\n",
              "        text-align: right;\n",
              "    }\n",
              "</style>\n",
              "<table border=\"1\" class=\"dataframe\">\n",
              "  <thead>\n",
              "    <tr style=\"text-align: right;\">\n",
              "      <th></th>\n",
              "      <th>order_id</th>\n",
              "      <th>customer_unique_id</th>\n",
              "      <th>product_id</th>\n",
              "      <th>product_category</th>\n",
              "      <th>price</th>\n",
              "    </tr>\n",
              "  </thead>\n",
              "  <tbody>\n",
              "    <tr>\n",
              "      <th>10883</th>\n",
              "      <td>0113affd907a209209ab08413bb54226</td>\n",
              "      <td>ec7d40c66edb9281d1d9d58d6a974fac</td>\n",
              "      <td>19c91ef95d509ea33eda93495c4d3481</td>\n",
              "      <td>health_beauty</td>\n",
              "      <td>122.99</td>\n",
              "    </tr>\n",
              "    <tr>\n",
              "      <th>10884</th>\n",
              "      <td>047ea1a58aad923c2c108eafa2c28192</td>\n",
              "      <td>24131c6b3a459f16b8c293562e54b4da</td>\n",
              "      <td>19c91ef95d509ea33eda93495c4d3481</td>\n",
              "      <td>health_beauty</td>\n",
              "      <td>122.99</td>\n",
              "    </tr>\n",
              "    <tr>\n",
              "      <th>10885</th>\n",
              "      <td>04ebe10a05b6cb445e27b34f29a01c1a</td>\n",
              "      <td>02a8100f33055beec4d219c04e7d4318</td>\n",
              "      <td>19c91ef95d509ea33eda93495c4d3481</td>\n",
              "      <td>health_beauty</td>\n",
              "      <td>122.99</td>\n",
              "    </tr>\n",
              "    <tr>\n",
              "      <th>10886</th>\n",
              "      <td>05547569f5543318997d30464eeb74e7</td>\n",
              "      <td>20ae758fb6688386d9d1540f63d380e0</td>\n",
              "      <td>19c91ef95d509ea33eda93495c4d3481</td>\n",
              "      <td>health_beauty</td>\n",
              "      <td>122.99</td>\n",
              "    </tr>\n",
              "    <tr>\n",
              "      <th>10887</th>\n",
              "      <td>062d3e3b803bd3e569cf8c165602f8f4</td>\n",
              "      <td>b26517697abc966b9d0547f53ccccbe6</td>\n",
              "      <td>19c91ef95d509ea33eda93495c4d3481</td>\n",
              "      <td>health_beauty</td>\n",
              "      <td>122.99</td>\n",
              "    </tr>\n",
              "    <tr>\n",
              "      <th>...</th>\n",
              "      <td>...</td>\n",
              "      <td>...</td>\n",
              "      <td>...</td>\n",
              "      <td>...</td>\n",
              "      <td>...</td>\n",
              "    </tr>\n",
              "    <tr>\n",
              "      <th>11034</th>\n",
              "      <td>f9acbb9c41a974fa5fdd57e6bf85846a</td>\n",
              "      <td>1062069afa25a490f187737cf2768253</td>\n",
              "      <td>19c91ef95d509ea33eda93495c4d3481</td>\n",
              "      <td>health_beauty</td>\n",
              "      <td>122.99</td>\n",
              "    </tr>\n",
              "    <tr>\n",
              "      <th>11035</th>\n",
              "      <td>f9d6e36d6c09ef9acae870b642100f11</td>\n",
              "      <td>1192391a40ccb0b8c2d96c7865b28ee1</td>\n",
              "      <td>19c91ef95d509ea33eda93495c4d3481</td>\n",
              "      <td>health_beauty</td>\n",
              "      <td>122.99</td>\n",
              "    </tr>\n",
              "    <tr>\n",
              "      <th>11036</th>\n",
              "      <td>f9dba21dfbb520ed911cebc91688195e</td>\n",
              "      <td>7370773e4ad7e40352fe141c35ab289e</td>\n",
              "      <td>19c91ef95d509ea33eda93495c4d3481</td>\n",
              "      <td>health_beauty</td>\n",
              "      <td>114.99</td>\n",
              "    </tr>\n",
              "    <tr>\n",
              "      <th>11037</th>\n",
              "      <td>fcb8a446d79e5b682882d9e73014526f</td>\n",
              "      <td>8fe2d8efb2308f1ce0958634a9c241b6</td>\n",
              "      <td>19c91ef95d509ea33eda93495c4d3481</td>\n",
              "      <td>health_beauty</td>\n",
              "      <td>119.99</td>\n",
              "    </tr>\n",
              "    <tr>\n",
              "      <th>11038</th>\n",
              "      <td>fd248e3e14c80dc42d16e6d75bd4666d</td>\n",
              "      <td>2ae5edfaa319d757d58412a80b1ce582</td>\n",
              "      <td>19c91ef95d509ea33eda93495c4d3481</td>\n",
              "      <td>health_beauty</td>\n",
              "      <td>122.99</td>\n",
              "    </tr>\n",
              "  </tbody>\n",
              "</table>\n",
              "<p>156 rows × 5 columns</p>\n",
              "</div>"
            ],
            "text/plain": [
              "                               order_id                customer_unique_id  \\\n",
              "10883  0113affd907a209209ab08413bb54226  ec7d40c66edb9281d1d9d58d6a974fac   \n",
              "10884  047ea1a58aad923c2c108eafa2c28192  24131c6b3a459f16b8c293562e54b4da   \n",
              "10885  04ebe10a05b6cb445e27b34f29a01c1a  02a8100f33055beec4d219c04e7d4318   \n",
              "10886  05547569f5543318997d30464eeb74e7  20ae758fb6688386d9d1540f63d380e0   \n",
              "10887  062d3e3b803bd3e569cf8c165602f8f4  b26517697abc966b9d0547f53ccccbe6   \n",
              "...                                 ...                               ...   \n",
              "11034  f9acbb9c41a974fa5fdd57e6bf85846a  1062069afa25a490f187737cf2768253   \n",
              "11035  f9d6e36d6c09ef9acae870b642100f11  1192391a40ccb0b8c2d96c7865b28ee1   \n",
              "11036  f9dba21dfbb520ed911cebc91688195e  7370773e4ad7e40352fe141c35ab289e   \n",
              "11037  fcb8a446d79e5b682882d9e73014526f  8fe2d8efb2308f1ce0958634a9c241b6   \n",
              "11038  fd248e3e14c80dc42d16e6d75bd4666d  2ae5edfaa319d757d58412a80b1ce582   \n",
              "\n",
              "                             product_id product_category   price  \n",
              "10883  19c91ef95d509ea33eda93495c4d3481    health_beauty  122.99  \n",
              "10884  19c91ef95d509ea33eda93495c4d3481    health_beauty  122.99  \n",
              "10885  19c91ef95d509ea33eda93495c4d3481    health_beauty  122.99  \n",
              "10886  19c91ef95d509ea33eda93495c4d3481    health_beauty  122.99  \n",
              "10887  19c91ef95d509ea33eda93495c4d3481    health_beauty  122.99  \n",
              "...                                 ...              ...     ...  \n",
              "11034  19c91ef95d509ea33eda93495c4d3481    health_beauty  122.99  \n",
              "11035  19c91ef95d509ea33eda93495c4d3481    health_beauty  122.99  \n",
              "11036  19c91ef95d509ea33eda93495c4d3481    health_beauty  114.99  \n",
              "11037  19c91ef95d509ea33eda93495c4d3481    health_beauty  119.99  \n",
              "11038  19c91ef95d509ea33eda93495c4d3481    health_beauty  122.99  \n",
              "\n",
              "[156 rows x 5 columns]"
            ]
          },
          "execution_count": 177,
          "metadata": {},
          "output_type": "execute_result"
        }
      ],
      "source": [
        "transactions[transactions.product_id == '19c91ef95d509ea33eda93495c4d3481']"
      ]
    },
    {
      "cell_type": "code",
      "execution_count": null,
      "id": "0ffbc7d7",
      "metadata": {
        "id": "0ffbc7d7"
      },
      "outputs": [],
      "source": [
        "voucher_list.to_excel('./voucher_generated.xlsx')"
      ]
    },
    {
      "cell_type": "code",
      "execution_count": null,
      "id": "74cd0829",
      "metadata": {
        "id": "74cd0829",
        "outputId": "f757bb96-669f-4dfa-95ae-378f30b22938"
      },
      "outputs": [
        {
          "data": {
            "text/plain": [
              "array(['c8460e4251689ba205045f3ea17884a1',\n",
              "       '4546caea018ad8c692964e3382debd19',\n",
              "       'c402f431464c72e27330a67f7b94d4fb', ...,\n",
              "       '5fe7677db087a1f3a4078a4fa15c7a56',\n",
              "       '5b788595ca5779d3a7c1e86834fe2e07',\n",
              "       '819c65629034acc8a0e1c096c2c6715d'], dtype=object)"
            ]
          },
          "execution_count": 231,
          "metadata": {},
          "output_type": "execute_result"
        }
      ],
      "source": [
        "list_customers_will_get_voucher"
      ]
    },
    {
      "cell_type": "code",
      "execution_count": null,
      "id": "ffeb6095",
      "metadata": {
        "id": "ffeb6095",
        "outputId": "f94080b5-96cc-4ca9-d24a-a1bd8aa104c7"
      },
      "outputs": [
        {
          "data": {
            "text/plain": [
              "array(['270516a3f41dc035aa87d220228f844c',\n",
              "       '270516a3f41dc035aa87d220228f844c',\n",
              "       '270516a3f41dc035aa87d220228f844c',\n",
              "       '270516a3f41dc035aa87d220228f844c',\n",
              "       '270516a3f41dc035aa87d220228f844c',\n",
              "       '270516a3f41dc035aa87d220228f844c',\n",
              "       '270516a3f41dc035aa87d220228f844c',\n",
              "       '270516a3f41dc035aa87d220228f844c',\n",
              "       '270516a3f41dc035aa87d220228f844c',\n",
              "       '270516a3f41dc035aa87d220228f844c',\n",
              "       '05b515fdc76e888aada3c6d66c201dff',\n",
              "       '05b515fdc76e888aada3c6d66c201dff',\n",
              "       '05b515fdc76e888aada3c6d66c201dff',\n",
              "       '05b515fdc76e888aada3c6d66c201dff',\n",
              "       '05b515fdc76e888aada3c6d66c201dff',\n",
              "       '05b515fdc76e888aada3c6d66c201dff',\n",
              "       '05b515fdc76e888aada3c6d66c201dff',\n",
              "       '05b515fdc76e888aada3c6d66c201dff',\n",
              "       '05b515fdc76e888aada3c6d66c201dff',\n",
              "       '05b515fdc76e888aada3c6d66c201dff',\n",
              "       '79ce45dbc2ea29b22b5a261bbb7b7ee7'], dtype=object)"
            ]
          },
          "execution_count": 200,
          "metadata": {},
          "output_type": "execute_result"
        }
      ],
      "source": [
        "get_transaction_by_customer('4546caea018ad8c692964e3382debd19')"
      ]
    },
    {
      "cell_type": "code",
      "execution_count": null,
      "id": "c6cd8925",
      "metadata": {
        "id": "c6cd8925",
        "outputId": "0d795941-c9f1-42ad-c94b-f2ad92cc3d67"
      },
      "outputs": [
        {
          "data": {
            "text/plain": [
              "Index(['bed_bath_table', 'health_beauty', 'sports_leisure', 'furniture_decor',\n",
              "       'computers_accessories', 'housewares', 'watches_gifts', 'telephony',\n",
              "       'garden_tools', 'auto'],\n",
              "      dtype='object')"
            ]
          },
          "execution_count": 350,
          "metadata": {},
          "output_type": "execute_result"
        }
      ],
      "source": [
        "transactions.product_category.value_counts().head(10).index"
      ]
    },
    {
      "cell_type": "code",
      "execution_count": null,
      "id": "f851fc89",
      "metadata": {
        "id": "f851fc89",
        "outputId": "28f91844-4742-4fd7-f075-fa4027a66a7c"
      },
      "outputs": [
        {
          "data": {
            "text/html": [
              "<div>\n",
              "<style scoped>\n",
              "    .dataframe tbody tr th:only-of-type {\n",
              "        vertical-align: middle;\n",
              "    }\n",
              "\n",
              "    .dataframe tbody tr th {\n",
              "        vertical-align: top;\n",
              "    }\n",
              "\n",
              "    .dataframe thead th {\n",
              "        text-align: right;\n",
              "    }\n",
              "</style>\n",
              "<table border=\"1\" class=\"dataframe\">\n",
              "  <thead>\n",
              "    <tr style=\"text-align: right;\">\n",
              "      <th></th>\n",
              "      <th>order_id</th>\n",
              "      <th>customer_unique_id</th>\n",
              "      <th>product_id</th>\n",
              "      <th>product_category</th>\n",
              "      <th>price</th>\n",
              "    </tr>\n",
              "  </thead>\n",
              "  <tbody>\n",
              "    <tr>\n",
              "      <th>0</th>\n",
              "      <td>00010242fe8c5a6d1ba2dd792cb16214</td>\n",
              "      <td>871766c5855e863f6eccc05f988b23cb</td>\n",
              "      <td>4244733e06e7ecb4970a6e2683c13e61</td>\n",
              "      <td>cool_stuff</td>\n",
              "      <td>58.9</td>\n",
              "    </tr>\n",
              "    <tr>\n",
              "      <th>1</th>\n",
              "      <td>130898c0987d1801452a8ed92a670612</td>\n",
              "      <td>0fb8e3eab2d3e79d92bb3fffbb97f188</td>\n",
              "      <td>4244733e06e7ecb4970a6e2683c13e61</td>\n",
              "      <td>cool_stuff</td>\n",
              "      <td>55.9</td>\n",
              "    </tr>\n",
              "    <tr>\n",
              "      <th>2</th>\n",
              "      <td>532ed5e14e24ae1f0d735b91524b98b9</td>\n",
              "      <td>3419052c8c6b45daf79c1e426f9e9bcb</td>\n",
              "      <td>4244733e06e7ecb4970a6e2683c13e61</td>\n",
              "      <td>cool_stuff</td>\n",
              "      <td>64.9</td>\n",
              "    </tr>\n",
              "    <tr>\n",
              "      <th>3</th>\n",
              "      <td>6f8c31653edb8c83e1a739408b5ff750</td>\n",
              "      <td>e7c828d22c0682c1565252deefbe334d</td>\n",
              "      <td>4244733e06e7ecb4970a6e2683c13e61</td>\n",
              "      <td>cool_stuff</td>\n",
              "      <td>58.9</td>\n",
              "    </tr>\n",
              "    <tr>\n",
              "      <th>4</th>\n",
              "      <td>7d19f4ef4d04461989632411b7e588b9</td>\n",
              "      <td>0bb98ba72dcc08e95f9d8cc434e9a2cc</td>\n",
              "      <td>4244733e06e7ecb4970a6e2683c13e61</td>\n",
              "      <td>cool_stuff</td>\n",
              "      <td>58.9</td>\n",
              "    </tr>\n",
              "    <tr>\n",
              "      <th>...</th>\n",
              "      <td>...</td>\n",
              "      <td>...</td>\n",
              "      <td>...</td>\n",
              "      <td>...</td>\n",
              "      <td>...</td>\n",
              "    </tr>\n",
              "    <tr>\n",
              "      <th>112645</th>\n",
              "      <td>ffebd80e3291e811c308365936897efd</td>\n",
              "      <td>a1c2e4b4c1b29e41684ebdf3cc6538f8</td>\n",
              "      <td>4cc4d02efc8f249c13355147fb44e34d</td>\n",
              "      <td>garden_tools</td>\n",
              "      <td>129.9</td>\n",
              "    </tr>\n",
              "    <tr>\n",
              "      <th>112646</th>\n",
              "      <td>ffee31fb4b5e35c9123608015637c495</td>\n",
              "      <td>4e15fee963523774998876e3624952f4</td>\n",
              "      <td>b10ecf8e33aaaea419a9fa860ea80fb5</td>\n",
              "      <td>furniture_decor</td>\n",
              "      <td>99.0</td>\n",
              "    </tr>\n",
              "    <tr>\n",
              "      <th>112647</th>\n",
              "      <td>fff7c4452f050315db1b3f24d9df5fcd</td>\n",
              "      <td>c86ab5ff2bac777c4e770a383feca4eb</td>\n",
              "      <td>dd469c03ad67e201bc2179ef077dcd48</td>\n",
              "      <td>watches_gifts</td>\n",
              "      <td>736.0</td>\n",
              "    </tr>\n",
              "    <tr>\n",
              "      <th>112648</th>\n",
              "      <td>fffa82886406ccf10c7b4e35c4ff2788</td>\n",
              "      <td>2a3ab9bf9639491997586882c502540a</td>\n",
              "      <td>bbe7651fef80287a816ead73f065fc4b</td>\n",
              "      <td>sports_leisure</td>\n",
              "      <td>229.9</td>\n",
              "    </tr>\n",
              "    <tr>\n",
              "      <th>112649</th>\n",
              "      <td>fffe41c64501cc87c801fd61db3f6244</td>\n",
              "      <td>cd76a00d8e3ca5e6ab9ed9ecb6667ac4</td>\n",
              "      <td>350688d9dc1e75ff97be326363655e01</td>\n",
              "      <td>bed_bath_table</td>\n",
              "      <td>43.0</td>\n",
              "    </tr>\n",
              "  </tbody>\n",
              "</table>\n",
              "<p>112650 rows × 5 columns</p>\n",
              "</div>"
            ],
            "text/plain": [
              "                                order_id                customer_unique_id  \\\n",
              "0       00010242fe8c5a6d1ba2dd792cb16214  871766c5855e863f6eccc05f988b23cb   \n",
              "1       130898c0987d1801452a8ed92a670612  0fb8e3eab2d3e79d92bb3fffbb97f188   \n",
              "2       532ed5e14e24ae1f0d735b91524b98b9  3419052c8c6b45daf79c1e426f9e9bcb   \n",
              "3       6f8c31653edb8c83e1a739408b5ff750  e7c828d22c0682c1565252deefbe334d   \n",
              "4       7d19f4ef4d04461989632411b7e588b9  0bb98ba72dcc08e95f9d8cc434e9a2cc   \n",
              "...                                  ...                               ...   \n",
              "112645  ffebd80e3291e811c308365936897efd  a1c2e4b4c1b29e41684ebdf3cc6538f8   \n",
              "112646  ffee31fb4b5e35c9123608015637c495  4e15fee963523774998876e3624952f4   \n",
              "112647  fff7c4452f050315db1b3f24d9df5fcd  c86ab5ff2bac777c4e770a383feca4eb   \n",
              "112648  fffa82886406ccf10c7b4e35c4ff2788  2a3ab9bf9639491997586882c502540a   \n",
              "112649  fffe41c64501cc87c801fd61db3f6244  cd76a00d8e3ca5e6ab9ed9ecb6667ac4   \n",
              "\n",
              "                              product_id product_category  price  \n",
              "0       4244733e06e7ecb4970a6e2683c13e61       cool_stuff   58.9  \n",
              "1       4244733e06e7ecb4970a6e2683c13e61       cool_stuff   55.9  \n",
              "2       4244733e06e7ecb4970a6e2683c13e61       cool_stuff   64.9  \n",
              "3       4244733e06e7ecb4970a6e2683c13e61       cool_stuff   58.9  \n",
              "4       4244733e06e7ecb4970a6e2683c13e61       cool_stuff   58.9  \n",
              "...                                  ...              ...    ...  \n",
              "112645  4cc4d02efc8f249c13355147fb44e34d     garden_tools  129.9  \n",
              "112646  b10ecf8e33aaaea419a9fa860ea80fb5  furniture_decor   99.0  \n",
              "112647  dd469c03ad67e201bc2179ef077dcd48    watches_gifts  736.0  \n",
              "112648  bbe7651fef80287a816ead73f065fc4b   sports_leisure  229.9  \n",
              "112649  350688d9dc1e75ff97be326363655e01   bed_bath_table   43.0  \n",
              "\n",
              "[112650 rows x 5 columns]"
            ]
          },
          "execution_count": 346,
          "metadata": {},
          "output_type": "execute_result"
        }
      ],
      "source": [
        "transactions"
      ]
    },
    {
      "cell_type": "markdown",
      "source": [
        "## Deploy on Flask Environtment"
      ],
      "metadata": {
        "id": "zfYprvKJPMKj"
      },
      "id": "zfYprvKJPMKj"
    },
    {
      "cell_type": "code",
      "execution_count": null,
      "id": "7f5e32b3",
      "metadata": {
        "id": "7f5e32b3"
      },
      "outputs": [],
      "source": [
        "def read_transactions():\n",
        "    try:\n",
        "        return pd.read_csv(\"./final-data/transactions_user.csv\")\n",
        "    except Exception as e :\n",
        "        print(e)\n",
        "        return response.badRequest('', e)\n",
        "\n",
        "def list_product_in_use_(transactions_):\n",
        "    try:\n",
        "        transactions = transactions_\n",
        "        products = transactions[['product_id','product_category']].drop_duplicates(subset=['product_id'])\n",
        "        products['product_index'] = np.array([i for i in range(len(products))])\n",
        "        return products\n",
        "    except Exception as e :\n",
        "        print(e)\n",
        "        return response.badRequest('', e)\n",
        "    \n",
        "\n",
        "def list_customer_orders_(transactions_):\n",
        "    try:\n",
        "        transactions = transactions_\n",
        "        customers = transactions[['customer_unique_id']].drop_duplicates(subset=['customer_unique_id'])\n",
        "        customers['customer_index'] = np.array([i for i in range(len(customers))])\n",
        "        return customers\n",
        "    except Exception as e :\n",
        "        print(e)\n",
        "        return response.badRequest('', e)\n",
        "\n",
        "def get_customer_index(customer_id,list_customer_orderss ):\n",
        "    try:\n",
        "        list_customer_orders = list_customer_orderss\n",
        "        return list_customer_orders[list_customer_orders.customer_unique_id == customer_id].customer_index.values[0]\n",
        "    except Exception as e :\n",
        "        print(e)\n",
        "        return response.badRequest('', e)\n",
        "\n",
        "def get_customer_id(customer_idx):\n",
        "    try:\n",
        "#         list_customer_orders = list_customer_orders_()\n",
        "        return list_customer_orders[list_customer_orders.customer_index == customer_idx].customer_unique_id.values[0]\n",
        "    except Exception as e :\n",
        "        print(e)\n",
        "        return response.badRequest('', e)\n",
        "\n",
        "def get_transaction_by_customer(customer_id, transactions_):\n",
        "    try:\n",
        "        transactions = transactions_\n",
        "        return transactions[transactions.customer_unique_id == customer_id].product_id.values\n",
        "    except Exception as e :\n",
        "        print(e)\n",
        "        return response.badRequest('', e)\n",
        "\n",
        "def get_product_index_by_product_id(product_id, list_product_in_uses):\n",
        "    try:\n",
        "        list_product_in_use = list_product_in_uses\n",
        "        return list_product_in_use[list_product_in_use.product_id == product_id].product_index.values[0]\n",
        "    except Exception as e :\n",
        "        print(e)\n",
        "        return response.badRequest('', e)\n",
        "\n",
        "def get_product_category_by_product_index(product_idx, list_product_in_uses):\n",
        "    try:\n",
        "        list_product_in_use = list_product_in_uses\n",
        "        return list_product_in_use[list_product_in_use.product_index == product_idx].product_category.values[0]\n",
        "    except Exception as e :\n",
        "        print(e)\n",
        "        return response.badRequest('', e)\n",
        "\n",
        "def get_product_id_by_product_index(product_idx, list_product_in_uses):\n",
        "    try:\n",
        "        list_product_in_use = list_product_in_uses\n",
        "        return list_product_in_use[list_product_in_use.product_index == product_idx].product_id.values[0]\n",
        "    except Exception as e :\n",
        "        print(e)\n",
        "        return response.badRequest('', e)\n",
        "\n",
        "def set_product_index_input(product_not_purchased):\n",
        "    try:\n",
        "        return pd.DataFrame(product_not_purchased,columns=['filtered_input']).reset_index()\n",
        "    except Exception as e :\n",
        "        print(e)\n",
        "        return response.badRequest('', e)\n",
        "\n",
        "def get_list_loyal_customers_(transactions_):\n",
        "    try:\n",
        "        transactions = transactions_\n",
        "        return pd.DataFrame(transactions.customer_unique_id.value_counts()).reset_index().rename({'index':'customer_unique_id', 'customer_unique_id':'count_transaction'}, axis=1).customer_unique_id.values\n",
        "    except Exception as e :\n",
        "        print(e)\n",
        "        return response.badRequest('', e)\n",
        "\n",
        "def generate_voucher_for_user(customers, product_category, transactionss, list_product_in_uses, list_customer_orderss):\n",
        "    try:\n",
        "        transactions = transactionss\n",
        "        list_product_in_use = list_product_in_uses\n",
        "        list_customer_orders = list_customer_orderss\n",
        "\n",
        "        \n",
        "        product_customer_purchased = get_transaction_by_customer(customers, transactions)\n",
        "        index_product_already_purchased = []\n",
        "        for i in range(len(product_customer_purchased)):\n",
        "            index_product_already_purchased.append(get_product_index_by_product_id(product_customer_purchased[i], list_product_in_use))\n",
        "        filtered_product_in_use_category = list_product_in_use[list_product_in_use.product_category == product_category]\n",
        "        product_not_purchased = np.array(list(set(filtered_product_in_use_category[~filtered_product_in_use_category.product_index.isin(index_product_already_purchased)].product_index.values)))\n",
        "        input_product_index = set_product_index_input(product_not_purchased)\n",
        "        index_user = get_customer_index(customers, list_customer_orders)\n",
        "        user = np.array([index_user for i in range(len(product_not_purchased))])\n",
        "        \n",
        "        \n",
        "        predictions = model.predict([user,product_not_purchased], verbose=0)\n",
        "        predictions = np.array([a[0] for a in predictions])\n",
        "        \n",
        "        voucher_generate = (-predictions).argsort()\n",
        "        voucher_generate = pd.DataFrame(voucher_generate, columns=['product_index'])\n",
        "        voucher_generate = voucher_generate.merge(input_product_index, left_on='product_index', right_on='index')['filtered_input'].head(3).values\n",
        "\n",
        "        user_voucher = [get_product_id_by_product_index(product,list_product_in_use) for product in voucher_generate]\n",
        "        return user_voucher\n",
        "    except Exception as e :\n",
        "        print(e)\n",
        "        return response.badRequest('', e)\n",
        "\n",
        "# Main Function \n",
        "def predict_users(id):\n",
        "    try:\n",
        "        budget = 100000000\n",
        "        product_category = 'sports_leisure'\n",
        "        budget_per_user  = 60000\n",
        "        \n",
        "        transactions = read_transactions()\n",
        "        list_product_in_use = list_product_in_use_(transactions)\n",
        "        list_customer_orders = list_customer_orders_(transactions)\n",
        "        \n",
        "        # preparation\n",
        "        model = tf.keras.models.load_model(\"./model/voucher_model_3.h5\")\n",
        "        list_customers_will_get_voucher =  get_list_loyal_customers_(transactions)[0:round(budget/budget_per_user)]\n",
        "        \n",
        "        # predict users\n",
        "        result = []\n",
        "        for customers in tqdm(list_customers_will_get_voucher):\n",
        "            list_voucher = generate_voucher_for_user(customers, product_category, transactions, list_product_in_use, list_customer_orders)\n",
        "            mydict ={}\n",
        "            mydict[\"id\"] = customers\n",
        "            mydict['voucher'] = list_voucher\n",
        "            result.append(mydict)\n",
        "\n",
        "        return result\n",
        "        \n",
        "    except Exception as e :\n",
        "        print(e)\n",
        "        return response.badRequest('',e)"
      ]
    }
  ],
  "metadata": {
    "kernelspec": {
      "display_name": "Python 3 (ipykernel)",
      "language": "python",
      "name": "python3"
    },
    "language_info": {
      "codemirror_mode": {
        "name": "ipython",
        "version": 3
      },
      "file_extension": ".py",
      "mimetype": "text/x-python",
      "name": "python",
      "nbconvert_exporter": "python",
      "pygments_lexer": "ipython3",
      "version": "3.9.7"
    },
    "colab": {
      "name": "User_Exploration.ipynb",
      "provenance": [],
      "collapsed_sections": [
        "a73aa64f",
        "243f0a17"
      ]
    }
  },
  "nbformat": 4,
  "nbformat_minor": 5
}